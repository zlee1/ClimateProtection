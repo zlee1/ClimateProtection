{
 "cells": [
  {
   "cell_type": "markdown",
   "id": "5d83ec93",
   "metadata": {},
   "source": [
    "# Climate Protection Actions Around the World\n",
    "\n",
    "Looking at climate change performance index via https://en.wikipedia.org/wiki/Climate_Change_Performance_Index#2022_results\n",
    "\n",
    "Goal: Produce interactive map that allows for comparison of climate change index across countries as well as more information about what specifically is contributing to to climate change and what needs to be altered."
   ]
  },
  {
   "cell_type": "code",
   "execution_count": 1,
   "id": "a8ae50e4",
   "metadata": {},
   "outputs": [],
   "source": [
    "import pandas as pd\n",
    "import plotly.express as px\n",
    "import plotly.graph_objects as go"
   ]
  },
  {
   "cell_type": "markdown",
   "id": "715fe834",
   "metadata": {},
   "source": [
    "## Data Importing, Cleaning, and Preparation"
   ]
  },
  {
   "cell_type": "markdown",
   "id": "fe1afa2a",
   "metadata": {},
   "source": [
    "### Loading Base Data\n",
    "\n",
    "Base data contains the 2022 Climate Change Performance Index results from  https://en.wikipedia.org/wiki/Climate_Change_Performance_Index#2022_results"
   ]
  },
  {
   "cell_type": "code",
   "execution_count": 2,
   "id": "720a1502",
   "metadata": {},
   "outputs": [
    {
     "data": {
      "text/html": [
       "<div>\n",
       "<style scoped>\n",
       "    .dataframe tbody tr th:only-of-type {\n",
       "        vertical-align: middle;\n",
       "    }\n",
       "\n",
       "    .dataframe tbody tr th {\n",
       "        vertical-align: top;\n",
       "    }\n",
       "\n",
       "    .dataframe thead th {\n",
       "        text-align: right;\n",
       "    }\n",
       "</style>\n",
       "<table border=\"1\" class=\"dataframe\">\n",
       "  <thead>\n",
       "    <tr style=\"text-align: right;\">\n",
       "      <th></th>\n",
       "      <th>rank</th>\n",
       "      <th>country</th>\n",
       "      <th>iso</th>\n",
       "      <th>score</th>\n",
       "    </tr>\n",
       "  </thead>\n",
       "  <tbody>\n",
       "    <tr>\n",
       "      <th>0</th>\n",
       "      <td>1</td>\n",
       "      <td>Denmark</td>\n",
       "      <td>DNK</td>\n",
       "      <td>76.67</td>\n",
       "    </tr>\n",
       "    <tr>\n",
       "      <th>1</th>\n",
       "      <td>2</td>\n",
       "      <td>Sweden</td>\n",
       "      <td>SWE</td>\n",
       "      <td>74.22</td>\n",
       "    </tr>\n",
       "    <tr>\n",
       "      <th>2</th>\n",
       "      <td>3</td>\n",
       "      <td>Norway</td>\n",
       "      <td>NOR</td>\n",
       "      <td>73.29</td>\n",
       "    </tr>\n",
       "    <tr>\n",
       "      <th>3</th>\n",
       "      <td>4</td>\n",
       "      <td>United Kingdom</td>\n",
       "      <td>GBR</td>\n",
       "      <td>73.09</td>\n",
       "    </tr>\n",
       "    <tr>\n",
       "      <th>4</th>\n",
       "      <td>5</td>\n",
       "      <td>Morocco</td>\n",
       "      <td>MAR</td>\n",
       "      <td>71.60</td>\n",
       "    </tr>\n",
       "  </tbody>\n",
       "</table>\n",
       "</div>"
      ],
      "text/plain": [
       "   rank         country  iso  score\n",
       "0     1         Denmark  DNK  76.67\n",
       "1     2          Sweden  SWE  74.22\n",
       "2     3          Norway  NOR  73.29\n",
       "3     4  United Kingdom  GBR  73.09\n",
       "4     5         Morocco  MAR  71.60"
      ]
     },
     "execution_count": 2,
     "metadata": {},
     "output_type": "execute_result"
    }
   ],
   "source": [
    "# Remove all rows with NaN values because all information is necessary\n",
    "ccpi = pd.read_csv(\"data/ccpi.csv\").dropna()\n",
    "ccpi.head()"
   ]
  },
  {
   "cell_type": "markdown",
   "id": "dd068b31",
   "metadata": {},
   "source": [
    "### Importing Emissions Data\n",
    "\n",
    "Emissions data contains information about different gasseous emissions ranging from 1750 to 2020 and is from https://www.kaggle.com/datasets/danielrpdias/co2-and-greenhouse-gas-emissions"
   ]
  },
  {
   "cell_type": "code",
   "execution_count": 3,
   "id": "7f4a08e8",
   "metadata": {},
   "outputs": [
    {
     "data": {
      "text/html": [
       "<div>\n",
       "<style scoped>\n",
       "    .dataframe tbody tr th:only-of-type {\n",
       "        vertical-align: middle;\n",
       "    }\n",
       "\n",
       "    .dataframe tbody tr th {\n",
       "        vertical-align: top;\n",
       "    }\n",
       "\n",
       "    .dataframe thead th {\n",
       "        text-align: right;\n",
       "    }\n",
       "</style>\n",
       "<table border=\"1\" class=\"dataframe\">\n",
       "  <thead>\n",
       "    <tr style=\"text-align: right;\">\n",
       "      <th></th>\n",
       "      <th>iso_code</th>\n",
       "      <th>country</th>\n",
       "      <th>year</th>\n",
       "      <th>co2</th>\n",
       "      <th>consumption_co2</th>\n",
       "      <th>co2_growth_prct</th>\n",
       "      <th>co2_growth_abs</th>\n",
       "      <th>trade_co2</th>\n",
       "      <th>co2_per_capita</th>\n",
       "      <th>consumption_co2_per_capita</th>\n",
       "      <th>...</th>\n",
       "      <th>ghg_per_capita</th>\n",
       "      <th>methane</th>\n",
       "      <th>methane_per_capita</th>\n",
       "      <th>nitrous_oxide</th>\n",
       "      <th>nitrous_oxide_per_capita</th>\n",
       "      <th>population</th>\n",
       "      <th>gdp</th>\n",
       "      <th>primary_energy_consumption</th>\n",
       "      <th>energy_per_capita</th>\n",
       "      <th>energy_per_gdp</th>\n",
       "    </tr>\n",
       "  </thead>\n",
       "  <tbody>\n",
       "    <tr>\n",
       "      <th>0</th>\n",
       "      <td>AFG</td>\n",
       "      <td>Afghanistan</td>\n",
       "      <td>1949</td>\n",
       "      <td>0.015</td>\n",
       "      <td>NaN</td>\n",
       "      <td>NaN</td>\n",
       "      <td>NaN</td>\n",
       "      <td>NaN</td>\n",
       "      <td>0.002</td>\n",
       "      <td>NaN</td>\n",
       "      <td>...</td>\n",
       "      <td>NaN</td>\n",
       "      <td>NaN</td>\n",
       "      <td>NaN</td>\n",
       "      <td>NaN</td>\n",
       "      <td>NaN</td>\n",
       "      <td>7624058.0</td>\n",
       "      <td>NaN</td>\n",
       "      <td>NaN</td>\n",
       "      <td>NaN</td>\n",
       "      <td>NaN</td>\n",
       "    </tr>\n",
       "    <tr>\n",
       "      <th>1</th>\n",
       "      <td>AFG</td>\n",
       "      <td>Afghanistan</td>\n",
       "      <td>1950</td>\n",
       "      <td>0.084</td>\n",
       "      <td>NaN</td>\n",
       "      <td>475.0</td>\n",
       "      <td>0.070</td>\n",
       "      <td>NaN</td>\n",
       "      <td>0.011</td>\n",
       "      <td>NaN</td>\n",
       "      <td>...</td>\n",
       "      <td>NaN</td>\n",
       "      <td>NaN</td>\n",
       "      <td>NaN</td>\n",
       "      <td>NaN</td>\n",
       "      <td>NaN</td>\n",
       "      <td>7752117.0</td>\n",
       "      <td>9.421400e+09</td>\n",
       "      <td>NaN</td>\n",
       "      <td>NaN</td>\n",
       "      <td>NaN</td>\n",
       "    </tr>\n",
       "    <tr>\n",
       "      <th>2</th>\n",
       "      <td>AFG</td>\n",
       "      <td>Afghanistan</td>\n",
       "      <td>1951</td>\n",
       "      <td>0.092</td>\n",
       "      <td>NaN</td>\n",
       "      <td>8.7</td>\n",
       "      <td>0.007</td>\n",
       "      <td>NaN</td>\n",
       "      <td>0.012</td>\n",
       "      <td>NaN</td>\n",
       "      <td>...</td>\n",
       "      <td>NaN</td>\n",
       "      <td>NaN</td>\n",
       "      <td>NaN</td>\n",
       "      <td>NaN</td>\n",
       "      <td>NaN</td>\n",
       "      <td>7840151.0</td>\n",
       "      <td>9.692280e+09</td>\n",
       "      <td>NaN</td>\n",
       "      <td>NaN</td>\n",
       "      <td>NaN</td>\n",
       "    </tr>\n",
       "    <tr>\n",
       "      <th>3</th>\n",
       "      <td>AFG</td>\n",
       "      <td>Afghanistan</td>\n",
       "      <td>1952</td>\n",
       "      <td>0.092</td>\n",
       "      <td>NaN</td>\n",
       "      <td>0.0</td>\n",
       "      <td>0.000</td>\n",
       "      <td>NaN</td>\n",
       "      <td>0.012</td>\n",
       "      <td>NaN</td>\n",
       "      <td>...</td>\n",
       "      <td>NaN</td>\n",
       "      <td>NaN</td>\n",
       "      <td>NaN</td>\n",
       "      <td>NaN</td>\n",
       "      <td>NaN</td>\n",
       "      <td>7935996.0</td>\n",
       "      <td>1.001732e+10</td>\n",
       "      <td>NaN</td>\n",
       "      <td>NaN</td>\n",
       "      <td>NaN</td>\n",
       "    </tr>\n",
       "    <tr>\n",
       "      <th>4</th>\n",
       "      <td>AFG</td>\n",
       "      <td>Afghanistan</td>\n",
       "      <td>1953</td>\n",
       "      <td>0.106</td>\n",
       "      <td>NaN</td>\n",
       "      <td>16.0</td>\n",
       "      <td>0.015</td>\n",
       "      <td>NaN</td>\n",
       "      <td>0.013</td>\n",
       "      <td>NaN</td>\n",
       "      <td>...</td>\n",
       "      <td>NaN</td>\n",
       "      <td>NaN</td>\n",
       "      <td>NaN</td>\n",
       "      <td>NaN</td>\n",
       "      <td>NaN</td>\n",
       "      <td>8039684.0</td>\n",
       "      <td>1.063052e+10</td>\n",
       "      <td>NaN</td>\n",
       "      <td>NaN</td>\n",
       "      <td>NaN</td>\n",
       "    </tr>\n",
       "  </tbody>\n",
       "</table>\n",
       "<p>5 rows × 58 columns</p>\n",
       "</div>"
      ],
      "text/plain": [
       "  iso_code      country  year    co2  consumption_co2  co2_growth_prct  \\\n",
       "0      AFG  Afghanistan  1949  0.015              NaN              NaN   \n",
       "1      AFG  Afghanistan  1950  0.084              NaN            475.0   \n",
       "2      AFG  Afghanistan  1951  0.092              NaN              8.7   \n",
       "3      AFG  Afghanistan  1952  0.092              NaN              0.0   \n",
       "4      AFG  Afghanistan  1953  0.106              NaN             16.0   \n",
       "\n",
       "   co2_growth_abs  trade_co2  co2_per_capita  consumption_co2_per_capita  ...  \\\n",
       "0             NaN        NaN           0.002                         NaN  ...   \n",
       "1           0.070        NaN           0.011                         NaN  ...   \n",
       "2           0.007        NaN           0.012                         NaN  ...   \n",
       "3           0.000        NaN           0.012                         NaN  ...   \n",
       "4           0.015        NaN           0.013                         NaN  ...   \n",
       "\n",
       "   ghg_per_capita  methane  methane_per_capita  nitrous_oxide  \\\n",
       "0             NaN      NaN                 NaN            NaN   \n",
       "1             NaN      NaN                 NaN            NaN   \n",
       "2             NaN      NaN                 NaN            NaN   \n",
       "3             NaN      NaN                 NaN            NaN   \n",
       "4             NaN      NaN                 NaN            NaN   \n",
       "\n",
       "   nitrous_oxide_per_capita  population           gdp  \\\n",
       "0                       NaN   7624058.0           NaN   \n",
       "1                       NaN   7752117.0  9.421400e+09   \n",
       "2                       NaN   7840151.0  9.692280e+09   \n",
       "3                       NaN   7935996.0  1.001732e+10   \n",
       "4                       NaN   8039684.0  1.063052e+10   \n",
       "\n",
       "   primary_energy_consumption  energy_per_capita  energy_per_gdp  \n",
       "0                         NaN                NaN             NaN  \n",
       "1                         NaN                NaN             NaN  \n",
       "2                         NaN                NaN             NaN  \n",
       "3                         NaN                NaN             NaN  \n",
       "4                         NaN                NaN             NaN  \n",
       "\n",
       "[5 rows x 58 columns]"
      ]
     },
     "execution_count": 3,
     "metadata": {},
     "output_type": "execute_result"
    }
   ],
   "source": [
    "# Drop rows where an ISO Code is not provided as they cannot be used on visualization\n",
    "emissions = pd.read_csv(\"data/emissions.csv\").dropna(subset=[\"iso_code\"])\n",
    "emissions.head()"
   ]
  },
  {
   "cell_type": "code",
   "execution_count": 4,
   "id": "a2f4e766",
   "metadata": {},
   "outputs": [
    {
     "data": {
      "text/html": [
       "<div>\n",
       "<style scoped>\n",
       "    .dataframe tbody tr th:only-of-type {\n",
       "        vertical-align: middle;\n",
       "    }\n",
       "\n",
       "    .dataframe tbody tr th {\n",
       "        vertical-align: top;\n",
       "    }\n",
       "\n",
       "    .dataframe thead th {\n",
       "        text-align: right;\n",
       "    }\n",
       "</style>\n",
       "<table border=\"1\" class=\"dataframe\">\n",
       "  <thead>\n",
       "    <tr style=\"text-align: right;\">\n",
       "      <th></th>\n",
       "      <th>iso_code</th>\n",
       "      <th>country</th>\n",
       "      <th>year</th>\n",
       "      <th>co2</th>\n",
       "      <th>consumption_co2</th>\n",
       "      <th>co2_growth_prct</th>\n",
       "      <th>co2_growth_abs</th>\n",
       "      <th>trade_co2</th>\n",
       "      <th>co2_per_capita</th>\n",
       "      <th>consumption_co2_per_capita</th>\n",
       "      <th>...</th>\n",
       "      <th>cumulative_gas_co2</th>\n",
       "      <th>cumulative_oil_co2</th>\n",
       "      <th>cumulative_other_co2</th>\n",
       "      <th>share_global_cumulative_cement_co2</th>\n",
       "      <th>share_global_cumulative_coal_co2</th>\n",
       "      <th>share_global_cumulative_flaring_co2</th>\n",
       "      <th>share_global_cumulative_gas_co2</th>\n",
       "      <th>share_global_cumulative_oil_co2</th>\n",
       "      <th>share_global_cumulative_other_co2</th>\n",
       "      <th>population</th>\n",
       "    </tr>\n",
       "  </thead>\n",
       "  <tbody>\n",
       "    <tr>\n",
       "      <th>0</th>\n",
       "      <td>AFG</td>\n",
       "      <td>Afghanistan</td>\n",
       "      <td>2020</td>\n",
       "      <td>12.160</td>\n",
       "      <td>NaN</td>\n",
       "      <td>0.11</td>\n",
       "      <td>0.014</td>\n",
       "      <td>NaN</td>\n",
       "      <td>0.312</td>\n",
       "      <td>NaN</td>\n",
       "      <td>...</td>\n",
       "      <td>20.150</td>\n",
       "      <td>103.833</td>\n",
       "      <td>NaN</td>\n",
       "      <td>0.01</td>\n",
       "      <td>0.01</td>\n",
       "      <td>NaN</td>\n",
       "      <td>0.01</td>\n",
       "      <td>0.02</td>\n",
       "      <td>NaN</td>\n",
       "      <td>38928341.0</td>\n",
       "    </tr>\n",
       "    <tr>\n",
       "      <th>1</th>\n",
       "      <td>ALB</td>\n",
       "      <td>Albania</td>\n",
       "      <td>2020</td>\n",
       "      <td>4.535</td>\n",
       "      <td>NaN</td>\n",
       "      <td>-6.76</td>\n",
       "      <td>-0.329</td>\n",
       "      <td>NaN</td>\n",
       "      <td>1.576</td>\n",
       "      <td>NaN</td>\n",
       "      <td>...</td>\n",
       "      <td>16.602</td>\n",
       "      <td>182.453</td>\n",
       "      <td>NaN</td>\n",
       "      <td>0.05</td>\n",
       "      <td>0.01</td>\n",
       "      <td>NaN</td>\n",
       "      <td>0.01</td>\n",
       "      <td>0.03</td>\n",
       "      <td>NaN</td>\n",
       "      <td>2877800.0</td>\n",
       "    </tr>\n",
       "    <tr>\n",
       "      <th>2</th>\n",
       "      <td>DZA</td>\n",
       "      <td>Algeria</td>\n",
       "      <td>2020</td>\n",
       "      <td>154.995</td>\n",
       "      <td>NaN</td>\n",
       "      <td>-6.99</td>\n",
       "      <td>-11.646</td>\n",
       "      <td>NaN</td>\n",
       "      <td>3.535</td>\n",
       "      <td>NaN</td>\n",
       "      <td>...</td>\n",
       "      <td>2062.656</td>\n",
       "      <td>1590.074</td>\n",
       "      <td>NaN</td>\n",
       "      <td>0.53</td>\n",
       "      <td>0.01</td>\n",
       "      <td>3.31</td>\n",
       "      <td>0.84</td>\n",
       "      <td>0.27</td>\n",
       "      <td>NaN</td>\n",
       "      <td>43851043.0</td>\n",
       "    </tr>\n",
       "    <tr>\n",
       "      <th>3</th>\n",
       "      <td>AND</td>\n",
       "      <td>Andorra</td>\n",
       "      <td>2020</td>\n",
       "      <td>0.466</td>\n",
       "      <td>NaN</td>\n",
       "      <td>-7.08</td>\n",
       "      <td>-0.036</td>\n",
       "      <td>NaN</td>\n",
       "      <td>6.035</td>\n",
       "      <td>NaN</td>\n",
       "      <td>...</td>\n",
       "      <td>NaN</td>\n",
       "      <td>15.071</td>\n",
       "      <td>NaN</td>\n",
       "      <td>NaN</td>\n",
       "      <td>NaN</td>\n",
       "      <td>NaN</td>\n",
       "      <td>NaN</td>\n",
       "      <td>0.00</td>\n",
       "      <td>NaN</td>\n",
       "      <td>77265.0</td>\n",
       "    </tr>\n",
       "    <tr>\n",
       "      <th>4</th>\n",
       "      <td>AGO</td>\n",
       "      <td>Angola</td>\n",
       "      <td>2020</td>\n",
       "      <td>22.198</td>\n",
       "      <td>NaN</td>\n",
       "      <td>-5.49</td>\n",
       "      <td>-1.289</td>\n",
       "      <td>NaN</td>\n",
       "      <td>0.675</td>\n",
       "      <td>NaN</td>\n",
       "      <td>...</td>\n",
       "      <td>40.780</td>\n",
       "      <td>324.439</td>\n",
       "      <td>NaN</td>\n",
       "      <td>0.06</td>\n",
       "      <td>NaN</td>\n",
       "      <td>1.62</td>\n",
       "      <td>0.02</td>\n",
       "      <td>0.05</td>\n",
       "      <td>NaN</td>\n",
       "      <td>32866267.0</td>\n",
       "    </tr>\n",
       "  </tbody>\n",
       "</table>\n",
       "<p>5 rows × 45 columns</p>\n",
       "</div>"
      ],
      "text/plain": [
       "  iso_code      country  year      co2  consumption_co2  co2_growth_prct  \\\n",
       "0      AFG  Afghanistan  2020   12.160              NaN             0.11   \n",
       "1      ALB      Albania  2020    4.535              NaN            -6.76   \n",
       "2      DZA      Algeria  2020  154.995              NaN            -6.99   \n",
       "3      AND      Andorra  2020    0.466              NaN            -7.08   \n",
       "4      AGO       Angola  2020   22.198              NaN            -5.49   \n",
       "\n",
       "   co2_growth_abs  trade_co2  co2_per_capita  consumption_co2_per_capita  ...  \\\n",
       "0           0.014        NaN           0.312                         NaN  ...   \n",
       "1          -0.329        NaN           1.576                         NaN  ...   \n",
       "2         -11.646        NaN           3.535                         NaN  ...   \n",
       "3          -0.036        NaN           6.035                         NaN  ...   \n",
       "4          -1.289        NaN           0.675                         NaN  ...   \n",
       "\n",
       "   cumulative_gas_co2  cumulative_oil_co2  cumulative_other_co2  \\\n",
       "0              20.150             103.833                   NaN   \n",
       "1              16.602             182.453                   NaN   \n",
       "2            2062.656            1590.074                   NaN   \n",
       "3                 NaN              15.071                   NaN   \n",
       "4              40.780             324.439                   NaN   \n",
       "\n",
       "   share_global_cumulative_cement_co2  share_global_cumulative_coal_co2  \\\n",
       "0                                0.01                              0.01   \n",
       "1                                0.05                              0.01   \n",
       "2                                0.53                              0.01   \n",
       "3                                 NaN                               NaN   \n",
       "4                                0.06                               NaN   \n",
       "\n",
       "   share_global_cumulative_flaring_co2  share_global_cumulative_gas_co2  \\\n",
       "0                                  NaN                             0.01   \n",
       "1                                  NaN                             0.01   \n",
       "2                                 3.31                             0.84   \n",
       "3                                  NaN                              NaN   \n",
       "4                                 1.62                             0.02   \n",
       "\n",
       "   share_global_cumulative_oil_co2  share_global_cumulative_other_co2  \\\n",
       "0                             0.02                                NaN   \n",
       "1                             0.03                                NaN   \n",
       "2                             0.27                                NaN   \n",
       "3                             0.00                                NaN   \n",
       "4                             0.05                                NaN   \n",
       "\n",
       "   population  \n",
       "0  38928341.0  \n",
       "1   2877800.0  \n",
       "2  43851043.0  \n",
       "3     77265.0  \n",
       "4  32866267.0  \n",
       "\n",
       "[5 rows x 45 columns]"
      ]
     },
     "execution_count": 4,
     "metadata": {},
     "output_type": "execute_result"
    }
   ],
   "source": [
    "# Query only most recent available year of emissions\n",
    "# Reset index and drop columns where all values are NaN\n",
    "emissions_last = emissions[emissions[\"year\"] == max(emissions[\"year\"])].reset_index(drop=True).dropna(axis=\"columns\", how=\"all\")\n",
    "emissions_last.head()"
   ]
  },
  {
   "cell_type": "code",
   "execution_count": 5,
   "id": "3b5fcaea",
   "metadata": {
    "scrolled": true
   },
   "outputs": [
    {
     "data": {
      "text/plain": [
       "['iso_code',\n",
       " 'country',\n",
       " 'year',\n",
       " 'co2',\n",
       " 'consumption_co2',\n",
       " 'co2_growth_prct',\n",
       " 'co2_growth_abs',\n",
       " 'trade_co2',\n",
       " 'co2_per_capita',\n",
       " 'consumption_co2_per_capita',\n",
       " 'share_global_co2',\n",
       " 'cumulative_co2',\n",
       " 'share_global_cumulative_co2',\n",
       " 'coal_co2',\n",
       " 'cement_co2',\n",
       " 'flaring_co2',\n",
       " 'gas_co2',\n",
       " 'oil_co2',\n",
       " 'other_industry_co2',\n",
       " 'cement_co2_per_capita',\n",
       " 'coal_co2_per_capita',\n",
       " 'flaring_co2_per_capita',\n",
       " 'gas_co2_per_capita',\n",
       " 'oil_co2_per_capita',\n",
       " 'other_co2_per_capita',\n",
       " 'trade_co2_share',\n",
       " 'share_global_cement_co2',\n",
       " 'share_global_coal_co2',\n",
       " 'share_global_flaring_co2',\n",
       " 'share_global_gas_co2',\n",
       " 'share_global_oil_co2',\n",
       " 'share_global_other_co2',\n",
       " 'cumulative_cement_co2',\n",
       " 'cumulative_coal_co2',\n",
       " 'cumulative_flaring_co2',\n",
       " 'cumulative_gas_co2',\n",
       " 'cumulative_oil_co2',\n",
       " 'cumulative_other_co2',\n",
       " 'share_global_cumulative_cement_co2',\n",
       " 'share_global_cumulative_coal_co2',\n",
       " 'share_global_cumulative_flaring_co2',\n",
       " 'share_global_cumulative_gas_co2',\n",
       " 'share_global_cumulative_oil_co2',\n",
       " 'share_global_cumulative_other_co2',\n",
       " 'population']"
      ]
     },
     "execution_count": 5,
     "metadata": {},
     "output_type": "execute_result"
    }
   ],
   "source": [
    "list(emissions_last.columns)"
   ]
  },
  {
   "cell_type": "code",
   "execution_count": 59,
   "id": "589d42b3",
   "metadata": {},
   "outputs": [
    {
     "data": {
      "text/html": [
       "<div>\n",
       "<style scoped>\n",
       "    .dataframe tbody tr th:only-of-type {\n",
       "        vertical-align: middle;\n",
       "    }\n",
       "\n",
       "    .dataframe tbody tr th {\n",
       "        vertical-align: top;\n",
       "    }\n",
       "\n",
       "    .dataframe thead th {\n",
       "        text-align: right;\n",
       "    }\n",
       "</style>\n",
       "<table border=\"1\" class=\"dataframe\">\n",
       "  <thead>\n",
       "    <tr style=\"text-align: right;\">\n",
       "      <th></th>\n",
       "      <th>iso_code</th>\n",
       "      <th>country</th>\n",
       "      <th>year</th>\n",
       "      <th>co2</th>\n",
       "      <th>consumption_co2</th>\n",
       "      <th>co2_growth_prct</th>\n",
       "      <th>co2_growth_abs</th>\n",
       "      <th>trade_co2</th>\n",
       "      <th>co2_per_capita</th>\n",
       "      <th>consumption_co2_per_capita</th>\n",
       "      <th>...</th>\n",
       "      <th>ghg_per_capita</th>\n",
       "      <th>methane</th>\n",
       "      <th>methane_per_capita</th>\n",
       "      <th>nitrous_oxide</th>\n",
       "      <th>nitrous_oxide_per_capita</th>\n",
       "      <th>population</th>\n",
       "      <th>gdp</th>\n",
       "      <th>primary_energy_consumption</th>\n",
       "      <th>energy_per_capita</th>\n",
       "      <th>energy_per_gdp</th>\n",
       "    </tr>\n",
       "  </thead>\n",
       "  <tbody>\n",
       "    <tr>\n",
       "      <th>0</th>\n",
       "      <td>AFG</td>\n",
       "      <td>Afghanistan</td>\n",
       "      <td>2016</td>\n",
       "      <td>6.745</td>\n",
       "      <td>NaN</td>\n",
       "      <td>-14.67</td>\n",
       "      <td>-1.160</td>\n",
       "      <td>NaN</td>\n",
       "      <td>0.191</td>\n",
       "      <td>NaN</td>\n",
       "      <td>...</td>\n",
       "      <td>2.730</td>\n",
       "      <td>78.17</td>\n",
       "      <td>2.209</td>\n",
       "      <td>9.13</td>\n",
       "      <td>0.258</td>\n",
       "      <td>35383028.0</td>\n",
       "      <td>6.429743e+10</td>\n",
       "      <td>35.737</td>\n",
       "      <td>1010.014</td>\n",
       "      <td>0.556</td>\n",
       "    </tr>\n",
       "    <tr>\n",
       "      <th>1</th>\n",
       "      <td>ALB</td>\n",
       "      <td>Albania</td>\n",
       "      <td>2016</td>\n",
       "      <td>4.492</td>\n",
       "      <td>5.502</td>\n",
       "      <td>-0.08</td>\n",
       "      <td>-0.004</td>\n",
       "      <td>1.01</td>\n",
       "      <td>1.556</td>\n",
       "      <td>1.906</td>\n",
       "      <td>...</td>\n",
       "      <td>3.184</td>\n",
       "      <td>3.25</td>\n",
       "      <td>1.126</td>\n",
       "      <td>1.26</td>\n",
       "      <td>0.437</td>\n",
       "      <td>2886427.0</td>\n",
       "      <td>3.148182e+10</td>\n",
       "      <td>39.446</td>\n",
       "      <td>13668.121</td>\n",
       "      <td>1.148</td>\n",
       "    </tr>\n",
       "    <tr>\n",
       "      <th>2</th>\n",
       "      <td>DZA</td>\n",
       "      <td>Algeria</td>\n",
       "      <td>2016</td>\n",
       "      <td>148.929</td>\n",
       "      <td>NaN</td>\n",
       "      <td>-0.50</td>\n",
       "      <td>-0.754</td>\n",
       "      <td>NaN</td>\n",
       "      <td>3.673</td>\n",
       "      <td>NaN</td>\n",
       "      <td>...</td>\n",
       "      <td>5.181</td>\n",
       "      <td>49.44</td>\n",
       "      <td>1.219</td>\n",
       "      <td>11.91</td>\n",
       "      <td>0.294</td>\n",
       "      <td>40551398.0</td>\n",
       "      <td>5.746962e+11</td>\n",
       "      <td>616.819</td>\n",
       "      <td>15210.944</td>\n",
       "      <td>1.155</td>\n",
       "    </tr>\n",
       "    <tr>\n",
       "      <th>3</th>\n",
       "      <td>AND</td>\n",
       "      <td>Andorra</td>\n",
       "      <td>2016</td>\n",
       "      <td>0.469</td>\n",
       "      <td>NaN</td>\n",
       "      <td>0.79</td>\n",
       "      <td>0.004</td>\n",
       "      <td>NaN</td>\n",
       "      <td>6.068</td>\n",
       "      <td>NaN</td>\n",
       "      <td>...</td>\n",
       "      <td>1.299</td>\n",
       "      <td>0.05</td>\n",
       "      <td>0.649</td>\n",
       "      <td>0.00</td>\n",
       "      <td>0.000</td>\n",
       "      <td>77295.0</td>\n",
       "      <td>NaN</td>\n",
       "      <td>NaN</td>\n",
       "      <td>NaN</td>\n",
       "      <td>NaN</td>\n",
       "    </tr>\n",
       "    <tr>\n",
       "      <th>4</th>\n",
       "      <td>AGO</td>\n",
       "      <td>Angola</td>\n",
       "      <td>2016</td>\n",
       "      <td>31.404</td>\n",
       "      <td>NaN</td>\n",
       "      <td>-6.60</td>\n",
       "      <td>-2.217</td>\n",
       "      <td>NaN</td>\n",
       "      <td>1.089</td>\n",
       "      <td>NaN</td>\n",
       "      <td>...</td>\n",
       "      <td>6.245</td>\n",
       "      <td>51.61</td>\n",
       "      <td>1.789</td>\n",
       "      <td>21.00</td>\n",
       "      <td>0.728</td>\n",
       "      <td>28842482.0</td>\n",
       "      <td>1.783339e+11</td>\n",
       "      <td>104.001</td>\n",
       "      <td>3605.892</td>\n",
       "      <td>0.703</td>\n",
       "    </tr>\n",
       "  </tbody>\n",
       "</table>\n",
       "<p>5 rows × 58 columns</p>\n",
       "</div>"
      ],
      "text/plain": [
       "  iso_code      country  year      co2  consumption_co2  co2_growth_prct  \\\n",
       "0      AFG  Afghanistan  2016    6.745              NaN           -14.67   \n",
       "1      ALB      Albania  2016    4.492            5.502            -0.08   \n",
       "2      DZA      Algeria  2016  148.929              NaN            -0.50   \n",
       "3      AND      Andorra  2016    0.469              NaN             0.79   \n",
       "4      AGO       Angola  2016   31.404              NaN            -6.60   \n",
       "\n",
       "   co2_growth_abs  trade_co2  co2_per_capita  consumption_co2_per_capita  ...  \\\n",
       "0          -1.160        NaN           0.191                         NaN  ...   \n",
       "1          -0.004       1.01           1.556                       1.906  ...   \n",
       "2          -0.754        NaN           3.673                         NaN  ...   \n",
       "3           0.004        NaN           6.068                         NaN  ...   \n",
       "4          -2.217        NaN           1.089                         NaN  ...   \n",
       "\n",
       "   ghg_per_capita  methane  methane_per_capita  nitrous_oxide  \\\n",
       "0           2.730    78.17               2.209           9.13   \n",
       "1           3.184     3.25               1.126           1.26   \n",
       "2           5.181    49.44               1.219          11.91   \n",
       "3           1.299     0.05               0.649           0.00   \n",
       "4           6.245    51.61               1.789          21.00   \n",
       "\n",
       "   nitrous_oxide_per_capita  population           gdp  \\\n",
       "0                     0.258  35383028.0  6.429743e+10   \n",
       "1                     0.437   2886427.0  3.148182e+10   \n",
       "2                     0.294  40551398.0  5.746962e+11   \n",
       "3                     0.000     77295.0           NaN   \n",
       "4                     0.728  28842482.0  1.783339e+11   \n",
       "\n",
       "   primary_energy_consumption  energy_per_capita  energy_per_gdp  \n",
       "0                      35.737           1010.014           0.556  \n",
       "1                      39.446          13668.121           1.148  \n",
       "2                     616.819          15210.944           1.155  \n",
       "3                         NaN                NaN             NaN  \n",
       "4                     104.001           3605.892           0.703  \n",
       "\n",
       "[5 rows x 58 columns]"
      ]
     },
     "execution_count": 59,
     "metadata": {},
     "output_type": "execute_result"
    }
   ],
   "source": [
    "# Query only most recent available year of greenhouse gas emissions\n",
    "emissions_ghg = emissions[emissions[\"year\"] == 2016].reset_index(drop=True).dropna(axis=\"columns\", how=\"all\")\n",
    "emissions_ghg.head()"
   ]
  },
  {
   "cell_type": "markdown",
   "id": "bd57c278",
   "metadata": {},
   "source": [
    "### Importing Energy Data\n",
    "\n",
    "Energy data contains information about energy sources for each country and comes from https://github.com/owid/energy-data"
   ]
  },
  {
   "cell_type": "code",
   "execution_count": 91,
   "id": "d48efb72",
   "metadata": {
    "scrolled": false
   },
   "outputs": [
    {
     "data": {
      "text/html": [
       "<div>\n",
       "<style scoped>\n",
       "    .dataframe tbody tr th:only-of-type {\n",
       "        vertical-align: middle;\n",
       "    }\n",
       "\n",
       "    .dataframe tbody tr th {\n",
       "        vertical-align: top;\n",
       "    }\n",
       "\n",
       "    .dataframe thead th {\n",
       "        text-align: right;\n",
       "    }\n",
       "</style>\n",
       "<table border=\"1\" class=\"dataframe\">\n",
       "  <thead>\n",
       "    <tr style=\"text-align: right;\">\n",
       "      <th></th>\n",
       "      <th>iso_code</th>\n",
       "      <th>country</th>\n",
       "      <th>year</th>\n",
       "      <th>coal_prod_change_pct</th>\n",
       "      <th>coal_prod_change_twh</th>\n",
       "      <th>gas_prod_change_pct</th>\n",
       "      <th>gas_prod_change_twh</th>\n",
       "      <th>oil_prod_change_pct</th>\n",
       "      <th>oil_prod_change_twh</th>\n",
       "      <th>energy_cons_change_pct</th>\n",
       "      <th>...</th>\n",
       "      <th>solar_consumption</th>\n",
       "      <th>solar_elec_per_capita</th>\n",
       "      <th>solar_energy_per_capita</th>\n",
       "      <th>wind_share_elec</th>\n",
       "      <th>wind_cons_change_pct</th>\n",
       "      <th>wind_share_energy</th>\n",
       "      <th>wind_cons_change_twh</th>\n",
       "      <th>wind_consumption</th>\n",
       "      <th>wind_elec_per_capita</th>\n",
       "      <th>wind_energy_per_capita</th>\n",
       "    </tr>\n",
       "  </thead>\n",
       "  <tbody>\n",
       "    <tr>\n",
       "      <th>0</th>\n",
       "      <td>AFG</td>\n",
       "      <td>Afghanistan</td>\n",
       "      <td>1900</td>\n",
       "      <td>NaN</td>\n",
       "      <td>NaN</td>\n",
       "      <td>NaN</td>\n",
       "      <td>NaN</td>\n",
       "      <td>NaN</td>\n",
       "      <td>NaN</td>\n",
       "      <td>NaN</td>\n",
       "      <td>...</td>\n",
       "      <td>NaN</td>\n",
       "      <td>NaN</td>\n",
       "      <td>NaN</td>\n",
       "      <td>NaN</td>\n",
       "      <td>NaN</td>\n",
       "      <td>NaN</td>\n",
       "      <td>NaN</td>\n",
       "      <td>NaN</td>\n",
       "      <td>NaN</td>\n",
       "      <td>NaN</td>\n",
       "    </tr>\n",
       "    <tr>\n",
       "      <th>1</th>\n",
       "      <td>AFG</td>\n",
       "      <td>Afghanistan</td>\n",
       "      <td>1901</td>\n",
       "      <td>NaN</td>\n",
       "      <td>0.0</td>\n",
       "      <td>NaN</td>\n",
       "      <td>NaN</td>\n",
       "      <td>NaN</td>\n",
       "      <td>NaN</td>\n",
       "      <td>NaN</td>\n",
       "      <td>...</td>\n",
       "      <td>NaN</td>\n",
       "      <td>NaN</td>\n",
       "      <td>NaN</td>\n",
       "      <td>NaN</td>\n",
       "      <td>NaN</td>\n",
       "      <td>NaN</td>\n",
       "      <td>NaN</td>\n",
       "      <td>NaN</td>\n",
       "      <td>NaN</td>\n",
       "      <td>NaN</td>\n",
       "    </tr>\n",
       "    <tr>\n",
       "      <th>2</th>\n",
       "      <td>AFG</td>\n",
       "      <td>Afghanistan</td>\n",
       "      <td>1902</td>\n",
       "      <td>NaN</td>\n",
       "      <td>0.0</td>\n",
       "      <td>NaN</td>\n",
       "      <td>NaN</td>\n",
       "      <td>NaN</td>\n",
       "      <td>NaN</td>\n",
       "      <td>NaN</td>\n",
       "      <td>...</td>\n",
       "      <td>NaN</td>\n",
       "      <td>NaN</td>\n",
       "      <td>NaN</td>\n",
       "      <td>NaN</td>\n",
       "      <td>NaN</td>\n",
       "      <td>NaN</td>\n",
       "      <td>NaN</td>\n",
       "      <td>NaN</td>\n",
       "      <td>NaN</td>\n",
       "      <td>NaN</td>\n",
       "    </tr>\n",
       "    <tr>\n",
       "      <th>3</th>\n",
       "      <td>AFG</td>\n",
       "      <td>Afghanistan</td>\n",
       "      <td>1903</td>\n",
       "      <td>NaN</td>\n",
       "      <td>0.0</td>\n",
       "      <td>NaN</td>\n",
       "      <td>NaN</td>\n",
       "      <td>NaN</td>\n",
       "      <td>NaN</td>\n",
       "      <td>NaN</td>\n",
       "      <td>...</td>\n",
       "      <td>NaN</td>\n",
       "      <td>NaN</td>\n",
       "      <td>NaN</td>\n",
       "      <td>NaN</td>\n",
       "      <td>NaN</td>\n",
       "      <td>NaN</td>\n",
       "      <td>NaN</td>\n",
       "      <td>NaN</td>\n",
       "      <td>NaN</td>\n",
       "      <td>NaN</td>\n",
       "    </tr>\n",
       "    <tr>\n",
       "      <th>4</th>\n",
       "      <td>AFG</td>\n",
       "      <td>Afghanistan</td>\n",
       "      <td>1904</td>\n",
       "      <td>NaN</td>\n",
       "      <td>0.0</td>\n",
       "      <td>NaN</td>\n",
       "      <td>NaN</td>\n",
       "      <td>NaN</td>\n",
       "      <td>NaN</td>\n",
       "      <td>NaN</td>\n",
       "      <td>...</td>\n",
       "      <td>NaN</td>\n",
       "      <td>NaN</td>\n",
       "      <td>NaN</td>\n",
       "      <td>NaN</td>\n",
       "      <td>NaN</td>\n",
       "      <td>NaN</td>\n",
       "      <td>NaN</td>\n",
       "      <td>NaN</td>\n",
       "      <td>NaN</td>\n",
       "      <td>NaN</td>\n",
       "    </tr>\n",
       "  </tbody>\n",
       "</table>\n",
       "<p>5 rows × 128 columns</p>\n",
       "</div>"
      ],
      "text/plain": [
       "  iso_code      country  year  coal_prod_change_pct  coal_prod_change_twh  \\\n",
       "0      AFG  Afghanistan  1900                   NaN                   NaN   \n",
       "1      AFG  Afghanistan  1901                   NaN                   0.0   \n",
       "2      AFG  Afghanistan  1902                   NaN                   0.0   \n",
       "3      AFG  Afghanistan  1903                   NaN                   0.0   \n",
       "4      AFG  Afghanistan  1904                   NaN                   0.0   \n",
       "\n",
       "   gas_prod_change_pct  gas_prod_change_twh  oil_prod_change_pct  \\\n",
       "0                  NaN                  NaN                  NaN   \n",
       "1                  NaN                  NaN                  NaN   \n",
       "2                  NaN                  NaN                  NaN   \n",
       "3                  NaN                  NaN                  NaN   \n",
       "4                  NaN                  NaN                  NaN   \n",
       "\n",
       "   oil_prod_change_twh  energy_cons_change_pct  ...  solar_consumption  \\\n",
       "0                  NaN                     NaN  ...                NaN   \n",
       "1                  NaN                     NaN  ...                NaN   \n",
       "2                  NaN                     NaN  ...                NaN   \n",
       "3                  NaN                     NaN  ...                NaN   \n",
       "4                  NaN                     NaN  ...                NaN   \n",
       "\n",
       "   solar_elec_per_capita  solar_energy_per_capita  wind_share_elec  \\\n",
       "0                    NaN                      NaN              NaN   \n",
       "1                    NaN                      NaN              NaN   \n",
       "2                    NaN                      NaN              NaN   \n",
       "3                    NaN                      NaN              NaN   \n",
       "4                    NaN                      NaN              NaN   \n",
       "\n",
       "   wind_cons_change_pct  wind_share_energy  wind_cons_change_twh  \\\n",
       "0                   NaN                NaN                   NaN   \n",
       "1                   NaN                NaN                   NaN   \n",
       "2                   NaN                NaN                   NaN   \n",
       "3                   NaN                NaN                   NaN   \n",
       "4                   NaN                NaN                   NaN   \n",
       "\n",
       "   wind_consumption  wind_elec_per_capita  wind_energy_per_capita  \n",
       "0               NaN                   NaN                     NaN  \n",
       "1               NaN                   NaN                     NaN  \n",
       "2               NaN                   NaN                     NaN  \n",
       "3               NaN                   NaN                     NaN  \n",
       "4               NaN                   NaN                     NaN  \n",
       "\n",
       "[5 rows x 128 columns]"
      ]
     },
     "execution_count": 91,
     "metadata": {},
     "output_type": "execute_result"
    }
   ],
   "source": [
    "energy = pd.read_csv(\"data/energy.csv\").dropna(subset=[\"iso_code\"])\n",
    "\n",
    "# Remove full world data and continents (except Australia)\n",
    "energy = energy[\n",
    "    (energy[\"country\"] != \"World\") & \n",
    "    (energy[\"country\"] != \"Africa\") & \n",
    "    (energy[\"country\"] != \"Europe\")\n",
    "]\n",
    "\n",
    "energy.head()"
   ]
  },
  {
   "cell_type": "code",
   "execution_count": 100,
   "id": "66a160f9",
   "metadata": {},
   "outputs": [
    {
     "data": {
      "text/plain": [
       "['iso_code',\n",
       " 'country',\n",
       " 'year',\n",
       " 'coal_prod_change_pct',\n",
       " 'coal_prod_change_twh',\n",
       " 'gas_prod_change_pct',\n",
       " 'gas_prod_change_twh',\n",
       " 'oil_prod_change_pct',\n",
       " 'oil_prod_change_twh',\n",
       " 'energy_cons_change_pct',\n",
       " 'energy_cons_change_twh',\n",
       " 'biofuel_share_elec',\n",
       " 'biofuel_elec_per_capita',\n",
       " 'biofuel_cons_change_pct',\n",
       " 'biofuel_share_energy',\n",
       " 'biofuel_cons_change_twh',\n",
       " 'biofuel_consumption',\n",
       " 'biofuel_cons_per_capita',\n",
       " 'carbon_intensity_elec',\n",
       " 'coal_share_elec',\n",
       " 'coal_cons_change_pct',\n",
       " 'coal_share_energy',\n",
       " 'coal_cons_change_twh',\n",
       " 'coal_consumption',\n",
       " 'coal_elec_per_capita',\n",
       " 'coal_cons_per_capita',\n",
       " 'coal_production',\n",
       " 'coal_prod_per_capita',\n",
       " 'electricity_demand',\n",
       " 'biofuel_electricity',\n",
       " 'coal_electricity',\n",
       " 'fossil_electricity',\n",
       " 'gas_electricity',\n",
       " 'hydro_electricity',\n",
       " 'nuclear_electricity',\n",
       " 'oil_electricity',\n",
       " 'other_renewable_exc_biofuel_electricity',\n",
       " 'other_renewable_electricity',\n",
       " 'renewables_electricity',\n",
       " 'solar_electricity',\n",
       " 'wind_electricity',\n",
       " 'electricity_generation',\n",
       " 'greenhouse_gas_emissions',\n",
       " 'energy_per_gdp',\n",
       " 'energy_per_capita',\n",
       " 'fossil_cons_change_pct',\n",
       " 'fossil_share_energy',\n",
       " 'fossil_cons_change_twh',\n",
       " 'fossil_fuel_consumption',\n",
       " 'fossil_energy_per_capita',\n",
       " 'fossil_cons_per_capita',\n",
       " 'fossil_share_elec',\n",
       " 'gdp',\n",
       " 'gas_share_elec',\n",
       " 'gas_cons_change_pct',\n",
       " 'gas_share_energy',\n",
       " 'gas_cons_change_twh',\n",
       " 'gas_consumption',\n",
       " 'gas_elec_per_capita',\n",
       " 'gas_energy_per_capita',\n",
       " 'gas_production',\n",
       " 'gas_prod_per_capita',\n",
       " 'hydro_share_elec',\n",
       " 'hydro_cons_change_pct',\n",
       " 'hydro_share_energy',\n",
       " 'hydro_cons_change_twh',\n",
       " 'hydro_consumption',\n",
       " 'hydro_elec_per_capita',\n",
       " 'hydro_energy_per_capita',\n",
       " 'low_carbon_share_elec',\n",
       " 'low_carbon_electricity',\n",
       " 'low_carbon_elec_per_capita',\n",
       " 'low_carbon_cons_change_pct',\n",
       " 'low_carbon_share_energy',\n",
       " 'low_carbon_cons_change_twh',\n",
       " 'low_carbon_consumption',\n",
       " 'low_carbon_energy_per_capita',\n",
       " 'net_elec_imports_share_demand',\n",
       " 'net_elec_imports',\n",
       " 'nuclear_share_elec',\n",
       " 'nuclear_cons_change_pct',\n",
       " 'nuclear_share_energy',\n",
       " 'nuclear_cons_change_twh',\n",
       " 'nuclear_consumption',\n",
       " 'nuclear_elec_per_capita',\n",
       " 'nuclear_energy_per_capita',\n",
       " 'oil_share_elec',\n",
       " 'oil_cons_change_pct',\n",
       " 'oil_share_energy',\n",
       " 'oil_cons_change_twh',\n",
       " 'oil_consumption',\n",
       " 'oil_elec_per_capita',\n",
       " 'oil_energy_per_capita',\n",
       " 'oil_production',\n",
       " 'oil_prod_per_capita',\n",
       " 'other_renewables_elec_per_capita_exc_biofuel',\n",
       " 'other_renewables_elec_per_capita',\n",
       " 'other_renewables_cons_change_pct',\n",
       " 'other_renewables_share_energy',\n",
       " 'other_renewables_cons_change_twh',\n",
       " 'other_renewable_consumption',\n",
       " 'other_renewables_share_elec_exc_biofuel',\n",
       " 'other_renewables_share_elec',\n",
       " 'other_renewables_energy_per_capita',\n",
       " 'per_capita_electricity',\n",
       " 'population',\n",
       " 'primary_energy_consumption',\n",
       " 'renewables_elec_per_capita',\n",
       " 'renewables_share_elec',\n",
       " 'renewables_cons_change_pct',\n",
       " 'renewables_share_energy',\n",
       " 'renewables_cons_change_twh',\n",
       " 'renewables_consumption',\n",
       " 'renewables_energy_per_capita',\n",
       " 'solar_share_elec',\n",
       " 'solar_cons_change_pct',\n",
       " 'solar_share_energy',\n",
       " 'solar_cons_change_twh',\n",
       " 'solar_consumption',\n",
       " 'solar_elec_per_capita',\n",
       " 'solar_energy_per_capita',\n",
       " 'wind_share_elec',\n",
       " 'wind_cons_change_pct',\n",
       " 'wind_share_energy',\n",
       " 'wind_cons_change_twh',\n",
       " 'wind_consumption',\n",
       " 'wind_elec_per_capita',\n",
       " 'wind_energy_per_capita']"
      ]
     },
     "execution_count": 100,
     "metadata": {},
     "output_type": "execute_result"
    }
   ],
   "source": [
    "list(energy.columns)"
   ]
  },
  {
   "cell_type": "code",
   "execution_count": 113,
   "id": "3a206660",
   "metadata": {},
   "outputs": [
    {
     "data": {
      "text/html": [
       "<div>\n",
       "<style scoped>\n",
       "    .dataframe tbody tr th:only-of-type {\n",
       "        vertical-align: middle;\n",
       "    }\n",
       "\n",
       "    .dataframe tbody tr th {\n",
       "        vertical-align: top;\n",
       "    }\n",
       "\n",
       "    .dataframe thead th {\n",
       "        text-align: right;\n",
       "    }\n",
       "</style>\n",
       "<table border=\"1\" class=\"dataframe\">\n",
       "  <thead>\n",
       "    <tr style=\"text-align: right;\">\n",
       "      <th></th>\n",
       "      <th>iso_code</th>\n",
       "      <th>country</th>\n",
       "      <th>year</th>\n",
       "      <th>biofuel_share_elec</th>\n",
       "      <th>biofuel_elec_per_capita</th>\n",
       "      <th>carbon_intensity_elec</th>\n",
       "      <th>coal_share_elec</th>\n",
       "      <th>coal_elec_per_capita</th>\n",
       "      <th>electricity_demand</th>\n",
       "      <th>biofuel_electricity</th>\n",
       "      <th>...</th>\n",
       "      <th>other_renewables_share_elec_exc_biofuel</th>\n",
       "      <th>other_renewables_share_elec</th>\n",
       "      <th>per_capita_electricity</th>\n",
       "      <th>population</th>\n",
       "      <th>renewables_elec_per_capita</th>\n",
       "      <th>renewables_share_elec</th>\n",
       "      <th>solar_share_elec</th>\n",
       "      <th>solar_elec_per_capita</th>\n",
       "      <th>wind_share_elec</th>\n",
       "      <th>wind_elec_per_capita</th>\n",
       "    </tr>\n",
       "  </thead>\n",
       "  <tbody>\n",
       "    <tr>\n",
       "      <th>0</th>\n",
       "      <td>ARG</td>\n",
       "      <td>Argentina</td>\n",
       "      <td>2021</td>\n",
       "      <td>0.550</td>\n",
       "      <td>17.542</td>\n",
       "      <td>365.292</td>\n",
       "      <td>2.893</td>\n",
       "      <td>92.313</td>\n",
       "      <td>149.07</td>\n",
       "      <td>0.80</td>\n",
       "      <td>...</td>\n",
       "      <td>0.000</td>\n",
       "      <td>0.550</td>\n",
       "      <td>3190.382</td>\n",
       "      <td>45605824.0</td>\n",
       "      <td>770.735</td>\n",
       "      <td>24.158</td>\n",
       "      <td>1.512</td>\n",
       "      <td>48.239</td>\n",
       "      <td>8.907</td>\n",
       "      <td>284.174</td>\n",
       "    </tr>\n",
       "    <tr>\n",
       "      <th>1</th>\n",
       "      <td>ARM</td>\n",
       "      <td>Armenia</td>\n",
       "      <td>2021</td>\n",
       "      <td>0.000</td>\n",
       "      <td>0.000</td>\n",
       "      <td>206.522</td>\n",
       "      <td>0.000</td>\n",
       "      <td>0.000</td>\n",
       "      <td>6.35</td>\n",
       "      <td>0.00</td>\n",
       "      <td>...</td>\n",
       "      <td>0.000</td>\n",
       "      <td>0.000</td>\n",
       "      <td>2479.677</td>\n",
       "      <td>2968128.0</td>\n",
       "      <td>613.181</td>\n",
       "      <td>24.728</td>\n",
       "      <td>0.272</td>\n",
       "      <td>6.738</td>\n",
       "      <td>0.000</td>\n",
       "      <td>0.000</td>\n",
       "    </tr>\n",
       "    <tr>\n",
       "      <th>2</th>\n",
       "      <td>AUS</td>\n",
       "      <td>Australia</td>\n",
       "      <td>2021</td>\n",
       "      <td>1.263</td>\n",
       "      <td>120.985</td>\n",
       "      <td>526.876</td>\n",
       "      <td>50.810</td>\n",
       "      <td>4867.727</td>\n",
       "      <td>247.06</td>\n",
       "      <td>3.12</td>\n",
       "      <td>...</td>\n",
       "      <td>0.000</td>\n",
       "      <td>1.263</td>\n",
       "      <td>9580.345</td>\n",
       "      <td>25788216.0</td>\n",
       "      <td>2847.425</td>\n",
       "      <td>29.722</td>\n",
       "      <td>11.787</td>\n",
       "      <td>1129.198</td>\n",
       "      <td>9.941</td>\n",
       "      <td>952.373</td>\n",
       "    </tr>\n",
       "    <tr>\n",
       "      <th>3</th>\n",
       "      <td>AUT</td>\n",
       "      <td>Austria</td>\n",
       "      <td>2021</td>\n",
       "      <td>6.551</td>\n",
       "      <td>478.820</td>\n",
       "      <td>145.083</td>\n",
       "      <td>0.333</td>\n",
       "      <td>24.328</td>\n",
       "      <td>73.19</td>\n",
       "      <td>4.33</td>\n",
       "      <td>...</td>\n",
       "      <td>0.000</td>\n",
       "      <td>6.551</td>\n",
       "      <td>7309.463</td>\n",
       "      <td>9043072.0</td>\n",
       "      <td>5794.491</td>\n",
       "      <td>79.274</td>\n",
       "      <td>3.011</td>\n",
       "      <td>220.058</td>\n",
       "      <td>9.834</td>\n",
       "      <td>718.782</td>\n",
       "    </tr>\n",
       "    <tr>\n",
       "      <th>4</th>\n",
       "      <td>AZE</td>\n",
       "      <td>Azerbaijan</td>\n",
       "      <td>2021</td>\n",
       "      <td>0.000</td>\n",
       "      <td>0.000</td>\n",
       "      <td>536.585</td>\n",
       "      <td>0.000</td>\n",
       "      <td>0.000</td>\n",
       "      <td>26.05</td>\n",
       "      <td>0.00</td>\n",
       "      <td>...</td>\n",
       "      <td>0.000</td>\n",
       "      <td>0.000</td>\n",
       "      <td>2646.883</td>\n",
       "      <td>10223344.0</td>\n",
       "      <td>125.204</td>\n",
       "      <td>4.730</td>\n",
       "      <td>0.185</td>\n",
       "      <td>4.891</td>\n",
       "      <td>0.370</td>\n",
       "      <td>9.782</td>\n",
       "    </tr>\n",
       "    <tr>\n",
       "      <th>...</th>\n",
       "      <td>...</td>\n",
       "      <td>...</td>\n",
       "      <td>...</td>\n",
       "      <td>...</td>\n",
       "      <td>...</td>\n",
       "      <td>...</td>\n",
       "      <td>...</td>\n",
       "      <td>...</td>\n",
       "      <td>...</td>\n",
       "      <td>...</td>\n",
       "      <td>...</td>\n",
       "      <td>...</td>\n",
       "      <td>...</td>\n",
       "      <td>...</td>\n",
       "      <td>...</td>\n",
       "      <td>...</td>\n",
       "      <td>...</td>\n",
       "      <td>...</td>\n",
       "      <td>...</td>\n",
       "      <td>...</td>\n",
       "      <td>...</td>\n",
       "    </tr>\n",
       "    <tr>\n",
       "      <th>71</th>\n",
       "      <td>TUR</td>\n",
       "      <td>Turkey</td>\n",
       "      <td>2021</td>\n",
       "      <td>1.896</td>\n",
       "      <td>73.845</td>\n",
       "      <td>432.293</td>\n",
       "      <td>30.756</td>\n",
       "      <td>1198.104</td>\n",
       "      <td>329.43</td>\n",
       "      <td>6.28</td>\n",
       "      <td>...</td>\n",
       "      <td>3.272</td>\n",
       "      <td>5.168</td>\n",
       "      <td>3895.453</td>\n",
       "      <td>85042736.0</td>\n",
       "      <td>1376.249</td>\n",
       "      <td>35.330</td>\n",
       "      <td>3.915</td>\n",
       "      <td>152.512</td>\n",
       "      <td>9.421</td>\n",
       "      <td>366.992</td>\n",
       "    </tr>\n",
       "    <tr>\n",
       "      <th>72</th>\n",
       "      <td>UKR</td>\n",
       "      <td>Ukraine</td>\n",
       "      <td>2021</td>\n",
       "      <td>0.488</td>\n",
       "      <td>17.485</td>\n",
       "      <td>240.280</td>\n",
       "      <td>23.225</td>\n",
       "      <td>831.439</td>\n",
       "      <td>152.51</td>\n",
       "      <td>0.76</td>\n",
       "      <td>...</td>\n",
       "      <td>0.000</td>\n",
       "      <td>0.488</td>\n",
       "      <td>3579.972</td>\n",
       "      <td>43466820.0</td>\n",
       "      <td>499.922</td>\n",
       "      <td>13.964</td>\n",
       "      <td>3.837</td>\n",
       "      <td>137.346</td>\n",
       "      <td>2.866</td>\n",
       "      <td>102.607</td>\n",
       "    </tr>\n",
       "    <tr>\n",
       "      <th>73</th>\n",
       "      <td>GBR</td>\n",
       "      <td>United Kingdom</td>\n",
       "      <td>2021</td>\n",
       "      <td>12.797</td>\n",
       "      <td>573.254</td>\n",
       "      <td>268.255</td>\n",
       "      <td>1.957</td>\n",
       "      <td>87.674</td>\n",
       "      <td>329.75</td>\n",
       "      <td>39.10</td>\n",
       "      <td>...</td>\n",
       "      <td>0.003</td>\n",
       "      <td>12.801</td>\n",
       "      <td>4479.444</td>\n",
       "      <td>68207120.0</td>\n",
       "      <td>1781.925</td>\n",
       "      <td>39.780</td>\n",
       "      <td>4.081</td>\n",
       "      <td>182.825</td>\n",
       "      <td>21.068</td>\n",
       "      <td>943.743</td>\n",
       "    </tr>\n",
       "    <tr>\n",
       "      <th>74</th>\n",
       "      <td>USA</td>\n",
       "      <td>United States</td>\n",
       "      <td>2021</td>\n",
       "      <td>1.335</td>\n",
       "      <td>166.649</td>\n",
       "      <td>378.625</td>\n",
       "      <td>21.618</td>\n",
       "      <td>2699.427</td>\n",
       "      <td>4201.91</td>\n",
       "      <td>55.48</td>\n",
       "      <td>...</td>\n",
       "      <td>0.391</td>\n",
       "      <td>1.725</td>\n",
       "      <td>12486.968</td>\n",
       "      <td>332915072.0</td>\n",
       "      <td>2614.180</td>\n",
       "      <td>20.935</td>\n",
       "      <td>3.938</td>\n",
       "      <td>491.717</td>\n",
       "      <td>9.135</td>\n",
       "      <td>1140.741</td>\n",
       "    </tr>\n",
       "    <tr>\n",
       "      <th>75</th>\n",
       "      <td>VNM</td>\n",
       "      <td>Vietnam</td>\n",
       "      <td>2021</td>\n",
       "      <td>0.000</td>\n",
       "      <td>0.000</td>\n",
       "      <td>491.192</td>\n",
       "      <td>51.502</td>\n",
       "      <td>1131.724</td>\n",
       "      <td>216.97</td>\n",
       "      <td>0.00</td>\n",
       "      <td>...</td>\n",
       "      <td>0.000</td>\n",
       "      <td>0.000</td>\n",
       "      <td>2197.439</td>\n",
       "      <td>98168832.0</td>\n",
       "      <td>806.977</td>\n",
       "      <td>36.724</td>\n",
       "      <td>9.934</td>\n",
       "      <td>218.297</td>\n",
       "      <td>0.811</td>\n",
       "      <td>17.826</td>\n",
       "    </tr>\n",
       "  </tbody>\n",
       "</table>\n",
       "<p>76 rows × 50 columns</p>\n",
       "</div>"
      ],
      "text/plain": [
       "   iso_code         country  year  biofuel_share_elec  \\\n",
       "0       ARG       Argentina  2021               0.550   \n",
       "1       ARM         Armenia  2021               0.000   \n",
       "2       AUS       Australia  2021               1.263   \n",
       "3       AUT         Austria  2021               6.551   \n",
       "4       AZE      Azerbaijan  2021               0.000   \n",
       "..      ...             ...   ...                 ...   \n",
       "71      TUR          Turkey  2021               1.896   \n",
       "72      UKR         Ukraine  2021               0.488   \n",
       "73      GBR  United Kingdom  2021              12.797   \n",
       "74      USA   United States  2021               1.335   \n",
       "75      VNM         Vietnam  2021               0.000   \n",
       "\n",
       "    biofuel_elec_per_capita  carbon_intensity_elec  coal_share_elec  \\\n",
       "0                    17.542                365.292            2.893   \n",
       "1                     0.000                206.522            0.000   \n",
       "2                   120.985                526.876           50.810   \n",
       "3                   478.820                145.083            0.333   \n",
       "4                     0.000                536.585            0.000   \n",
       "..                      ...                    ...              ...   \n",
       "71                   73.845                432.293           30.756   \n",
       "72                   17.485                240.280           23.225   \n",
       "73                  573.254                268.255            1.957   \n",
       "74                  166.649                378.625           21.618   \n",
       "75                    0.000                491.192           51.502   \n",
       "\n",
       "    coal_elec_per_capita  electricity_demand  biofuel_electricity  ...  \\\n",
       "0                 92.313              149.07                 0.80  ...   \n",
       "1                  0.000                6.35                 0.00  ...   \n",
       "2               4867.727              247.06                 3.12  ...   \n",
       "3                 24.328               73.19                 4.33  ...   \n",
       "4                  0.000               26.05                 0.00  ...   \n",
       "..                   ...                 ...                  ...  ...   \n",
       "71              1198.104              329.43                 6.28  ...   \n",
       "72               831.439              152.51                 0.76  ...   \n",
       "73                87.674              329.75                39.10  ...   \n",
       "74              2699.427             4201.91                55.48  ...   \n",
       "75              1131.724              216.97                 0.00  ...   \n",
       "\n",
       "    other_renewables_share_elec_exc_biofuel  other_renewables_share_elec  \\\n",
       "0                                     0.000                        0.550   \n",
       "1                                     0.000                        0.000   \n",
       "2                                     0.000                        1.263   \n",
       "3                                     0.000                        6.551   \n",
       "4                                     0.000                        0.000   \n",
       "..                                      ...                          ...   \n",
       "71                                    3.272                        5.168   \n",
       "72                                    0.000                        0.488   \n",
       "73                                    0.003                       12.801   \n",
       "74                                    0.391                        1.725   \n",
       "75                                    0.000                        0.000   \n",
       "\n",
       "    per_capita_electricity   population  renewables_elec_per_capita  \\\n",
       "0                 3190.382   45605824.0                     770.735   \n",
       "1                 2479.677    2968128.0                     613.181   \n",
       "2                 9580.345   25788216.0                    2847.425   \n",
       "3                 7309.463    9043072.0                    5794.491   \n",
       "4                 2646.883   10223344.0                     125.204   \n",
       "..                     ...          ...                         ...   \n",
       "71                3895.453   85042736.0                    1376.249   \n",
       "72                3579.972   43466820.0                     499.922   \n",
       "73                4479.444   68207120.0                    1781.925   \n",
       "74               12486.968  332915072.0                    2614.180   \n",
       "75                2197.439   98168832.0                     806.977   \n",
       "\n",
       "    renewables_share_elec  solar_share_elec  solar_elec_per_capita  \\\n",
       "0                  24.158             1.512                 48.239   \n",
       "1                  24.728             0.272                  6.738   \n",
       "2                  29.722            11.787               1129.198   \n",
       "3                  79.274             3.011                220.058   \n",
       "4                   4.730             0.185                  4.891   \n",
       "..                    ...               ...                    ...   \n",
       "71                 35.330             3.915                152.512   \n",
       "72                 13.964             3.837                137.346   \n",
       "73                 39.780             4.081                182.825   \n",
       "74                 20.935             3.938                491.717   \n",
       "75                 36.724             9.934                218.297   \n",
       "\n",
       "    wind_share_elec  wind_elec_per_capita  \n",
       "0             8.907               284.174  \n",
       "1             0.000                 0.000  \n",
       "2             9.941               952.373  \n",
       "3             9.834               718.782  \n",
       "4             0.370                 9.782  \n",
       "..              ...                   ...  \n",
       "71            9.421               366.992  \n",
       "72            2.866               102.607  \n",
       "73           21.068               943.743  \n",
       "74            9.135              1140.741  \n",
       "75            0.811                17.826  \n",
       "\n",
       "[76 rows x 50 columns]"
      ]
     },
     "execution_count": 113,
     "metadata": {},
     "output_type": "execute_result"
    }
   ],
   "source": [
    "energy_last = energy[energy[\"year\"] == max(energy[\"year\"])].reset_index(drop=True).dropna(axis=\"columns\", how=\"all\")\n",
    "energy_last"
   ]
  },
  {
   "cell_type": "markdown",
   "id": "5f2ece4e",
   "metadata": {},
   "source": [
    "### Feature Engineering"
   ]
  },
  {
   "cell_type": "code",
   "execution_count": 6,
   "id": "d67a9de2",
   "metadata": {},
   "outputs": [],
   "source": [
    "# Generate primary emissions source column\n",
    "primary_source = []\n",
    "primary_source_num = [] # Must include numeric representation because go.Choropleth does not allow for discrete/categorical color scales\n",
    "\n",
    "for index, row in emissions_last.iterrows():\n",
    "    sources = [\"coal_co2\", \"gas_co2\", \"flaring_co2\", \"oil_co2\", \"cement_co2\", \"other_industry_co2\"]\n",
    "    \n",
    "    # Generate dictionaries of values enumerations\n",
    "    values = {key: row[key] for key in sources}\n",
    "    nums = {key: i for i, key in enumerate(sources)}\n",
    "    \n",
    "    # Append data\n",
    "    primary_source.append(max(values, key = values.get)[:-4].title())\n",
    "    primary_source_num.append(nums.get(primary_source[-1].lower() + \"_co2\"))\n",
    "    \n",
    "emissions_last[\"primary_co2_source\"] = primary_source\n",
    "emissions_last[\"primary_co2_source_num\"] = primary_source_num"
   ]
  },
  {
   "cell_type": "markdown",
   "id": "82e0e3fb",
   "metadata": {},
   "source": [
    "### Joining Data Sources"
   ]
  },
  {
   "cell_type": "code",
   "execution_count": 7,
   "id": "211b8c7d",
   "metadata": {
    "scrolled": true
   },
   "outputs": [
    {
     "data": {
      "text/html": [
       "<div>\n",
       "<style scoped>\n",
       "    .dataframe tbody tr th:only-of-type {\n",
       "        vertical-align: middle;\n",
       "    }\n",
       "\n",
       "    .dataframe tbody tr th {\n",
       "        vertical-align: top;\n",
       "    }\n",
       "\n",
       "    .dataframe thead th {\n",
       "        text-align: right;\n",
       "    }\n",
       "</style>\n",
       "<table border=\"1\" class=\"dataframe\">\n",
       "  <thead>\n",
       "    <tr style=\"text-align: right;\">\n",
       "      <th></th>\n",
       "      <th>rank</th>\n",
       "      <th>score</th>\n",
       "      <th>iso_code</th>\n",
       "      <th>country</th>\n",
       "      <th>year</th>\n",
       "      <th>co2</th>\n",
       "      <th>consumption_co2</th>\n",
       "      <th>co2_growth_prct</th>\n",
       "      <th>co2_growth_abs</th>\n",
       "      <th>trade_co2</th>\n",
       "      <th>...</th>\n",
       "      <th>cumulative_other_co2</th>\n",
       "      <th>share_global_cumulative_cement_co2</th>\n",
       "      <th>share_global_cumulative_coal_co2</th>\n",
       "      <th>share_global_cumulative_flaring_co2</th>\n",
       "      <th>share_global_cumulative_gas_co2</th>\n",
       "      <th>share_global_cumulative_oil_co2</th>\n",
       "      <th>share_global_cumulative_other_co2</th>\n",
       "      <th>population</th>\n",
       "      <th>primary_co2_source</th>\n",
       "      <th>primary_co2_source_num</th>\n",
       "    </tr>\n",
       "  </thead>\n",
       "  <tbody>\n",
       "    <tr>\n",
       "      <th>0</th>\n",
       "      <td>No Data</td>\n",
       "      <td>No Data</td>\n",
       "      <td>AFG</td>\n",
       "      <td>Afghanistan</td>\n",
       "      <td>2020</td>\n",
       "      <td>12.16</td>\n",
       "      <td>No Data</td>\n",
       "      <td>0.11</td>\n",
       "      <td>0.014</td>\n",
       "      <td>No Data</td>\n",
       "      <td>...</td>\n",
       "      <td>No Data</td>\n",
       "      <td>0.01</td>\n",
       "      <td>0.01</td>\n",
       "      <td>No Data</td>\n",
       "      <td>0.01</td>\n",
       "      <td>0.02</td>\n",
       "      <td>No Data</td>\n",
       "      <td>38928341.0</td>\n",
       "      <td>Coal</td>\n",
       "      <td>0</td>\n",
       "    </tr>\n",
       "    <tr>\n",
       "      <th>1</th>\n",
       "      <td>No Data</td>\n",
       "      <td>No Data</td>\n",
       "      <td>ALB</td>\n",
       "      <td>Albania</td>\n",
       "      <td>2020</td>\n",
       "      <td>4.535</td>\n",
       "      <td>No Data</td>\n",
       "      <td>-6.76</td>\n",
       "      <td>-0.329</td>\n",
       "      <td>No Data</td>\n",
       "      <td>...</td>\n",
       "      <td>No Data</td>\n",
       "      <td>0.05</td>\n",
       "      <td>0.01</td>\n",
       "      <td>No Data</td>\n",
       "      <td>0.01</td>\n",
       "      <td>0.03</td>\n",
       "      <td>No Data</td>\n",
       "      <td>2877800.0</td>\n",
       "      <td>Oil</td>\n",
       "      <td>3</td>\n",
       "    </tr>\n",
       "    <tr>\n",
       "      <th>2</th>\n",
       "      <td>51.0</td>\n",
       "      <td>39.91</td>\n",
       "      <td>DZA</td>\n",
       "      <td>Algeria</td>\n",
       "      <td>2020</td>\n",
       "      <td>154.995</td>\n",
       "      <td>No Data</td>\n",
       "      <td>-6.99</td>\n",
       "      <td>-11.646</td>\n",
       "      <td>No Data</td>\n",
       "      <td>...</td>\n",
       "      <td>No Data</td>\n",
       "      <td>0.53</td>\n",
       "      <td>0.01</td>\n",
       "      <td>3.31</td>\n",
       "      <td>0.84</td>\n",
       "      <td>0.27</td>\n",
       "      <td>No Data</td>\n",
       "      <td>43851043.0</td>\n",
       "      <td>Gas</td>\n",
       "      <td>1</td>\n",
       "    </tr>\n",
       "    <tr>\n",
       "      <th>3</th>\n",
       "      <td>No Data</td>\n",
       "      <td>No Data</td>\n",
       "      <td>AND</td>\n",
       "      <td>Andorra</td>\n",
       "      <td>2020</td>\n",
       "      <td>0.466</td>\n",
       "      <td>No Data</td>\n",
       "      <td>-7.08</td>\n",
       "      <td>-0.036</td>\n",
       "      <td>No Data</td>\n",
       "      <td>...</td>\n",
       "      <td>No Data</td>\n",
       "      <td>No Data</td>\n",
       "      <td>No Data</td>\n",
       "      <td>No Data</td>\n",
       "      <td>No Data</td>\n",
       "      <td>0.0</td>\n",
       "      <td>No Data</td>\n",
       "      <td>77265.0</td>\n",
       "      <td>Coal</td>\n",
       "      <td>0</td>\n",
       "    </tr>\n",
       "    <tr>\n",
       "      <th>4</th>\n",
       "      <td>No Data</td>\n",
       "      <td>No Data</td>\n",
       "      <td>AGO</td>\n",
       "      <td>Angola</td>\n",
       "      <td>2020</td>\n",
       "      <td>22.198</td>\n",
       "      <td>No Data</td>\n",
       "      <td>-5.49</td>\n",
       "      <td>-1.289</td>\n",
       "      <td>No Data</td>\n",
       "      <td>...</td>\n",
       "      <td>No Data</td>\n",
       "      <td>0.06</td>\n",
       "      <td>No Data</td>\n",
       "      <td>1.62</td>\n",
       "      <td>0.02</td>\n",
       "      <td>0.05</td>\n",
       "      <td>No Data</td>\n",
       "      <td>32866267.0</td>\n",
       "      <td>Coal</td>\n",
       "      <td>0</td>\n",
       "    </tr>\n",
       "  </tbody>\n",
       "</table>\n",
       "<p>5 rows × 49 columns</p>\n",
       "</div>"
      ],
      "text/plain": [
       "      rank    score iso_code      country  year      co2 consumption_co2  \\\n",
       "0  No Data  No Data      AFG  Afghanistan  2020    12.16         No Data   \n",
       "1  No Data  No Data      ALB      Albania  2020    4.535         No Data   \n",
       "2     51.0    39.91      DZA      Algeria  2020  154.995         No Data   \n",
       "3  No Data  No Data      AND      Andorra  2020    0.466         No Data   \n",
       "4  No Data  No Data      AGO       Angola  2020   22.198         No Data   \n",
       "\n",
       "   co2_growth_prct co2_growth_abs trade_co2  ... cumulative_other_co2  \\\n",
       "0             0.11          0.014   No Data  ...              No Data   \n",
       "1            -6.76         -0.329   No Data  ...              No Data   \n",
       "2            -6.99        -11.646   No Data  ...              No Data   \n",
       "3            -7.08         -0.036   No Data  ...              No Data   \n",
       "4            -5.49         -1.289   No Data  ...              No Data   \n",
       "\n",
       "  share_global_cumulative_cement_co2 share_global_cumulative_coal_co2  \\\n",
       "0                               0.01                             0.01   \n",
       "1                               0.05                             0.01   \n",
       "2                               0.53                             0.01   \n",
       "3                            No Data                          No Data   \n",
       "4                               0.06                          No Data   \n",
       "\n",
       "  share_global_cumulative_flaring_co2 share_global_cumulative_gas_co2  \\\n",
       "0                             No Data                            0.01   \n",
       "1                             No Data                            0.01   \n",
       "2                                3.31                            0.84   \n",
       "3                             No Data                         No Data   \n",
       "4                                1.62                            0.02   \n",
       "\n",
       "  share_global_cumulative_oil_co2 share_global_cumulative_other_co2  \\\n",
       "0                            0.02                           No Data   \n",
       "1                            0.03                           No Data   \n",
       "2                            0.27                           No Data   \n",
       "3                             0.0                           No Data   \n",
       "4                            0.05                           No Data   \n",
       "\n",
       "   population primary_co2_source primary_co2_source_num  \n",
       "0  38928341.0               Coal                      0  \n",
       "1   2877800.0                Oil                      3  \n",
       "2  43851043.0                Gas                      1  \n",
       "3     77265.0               Coal                      0  \n",
       "4  32866267.0               Coal                      0  \n",
       "\n",
       "[5 rows x 49 columns]"
      ]
     },
     "execution_count": 7,
     "metadata": {},
     "output_type": "execute_result"
    }
   ],
   "source": [
    "ccpi_emissions = ccpi.loc[:, ccpi.columns != \"country\"].merge(right=emissions_last, how=\"right\", left_on=\"iso\", right_on=\"iso_code\").drop(\"iso\", axis=1)\n",
    "ccpi_emissions.dropna(axis=\"columns\", how=\"all\", inplace=True)\n",
    "# Remove full world from dataset to avoid scaling issues\n",
    "ccpi_emissions = ccpi_emissions[(ccpi_emissions[\"country\"] != \"World\")]\n",
    "# Replace NaN values with \"No Data\" so that they can still be displayed in different hover texts\n",
    "ccpi_emissions = ccpi_emissions.fillna(\"No Data\")\n",
    "ccpi_emissions.head()"
   ]
  },
  {
   "cell_type": "code",
   "execution_count": 128,
   "id": "da3de4c3",
   "metadata": {},
   "outputs": [],
   "source": [
    "# Functions to generate color breakpoints (top 10% and bottom 10% are extremes instead of max and min)\n",
    "def get_max_bp(data, col, quantile=0.9):\n",
    "    return data[data[col] != \"No Data\"][col].quantile(quantile)\n",
    "\n",
    "def get_min_bp(data, col, quantile=0.1):\n",
    "    return data[data[col] != \"No Data\"][col].quantile(quantile)"
   ]
  },
  {
   "cell_type": "markdown",
   "id": "91fbf820",
   "metadata": {},
   "source": [
    "## Climate Change Protection Index"
   ]
  },
  {
   "cell_type": "code",
   "execution_count": 132,
   "id": "335f6dee",
   "metadata": {},
   "outputs": [],
   "source": [
    "# Setting up plotting variables\n",
    "locations = ccpi_emissions[\"iso_code\"]\n",
    "\n",
    "hovertemplate = \"<br>\".join([\n",
    "    \"%{customdata[0]} (%{customdata[1]})\", \n",
    "    \"CCPI Score: %{customdata[2]}\",\n",
    "    \"CCPI Rank: %{customdata[3]}\",\n",
    "    \"<extra></extra>\"\n",
    "])\n",
    "\n",
    "customdata = ccpi_emissions[[\n",
    "    \"country\", \n",
    "    \"iso_code\", \n",
    "    \"score\", \n",
    "    \"rank\"\n",
    "]]"
   ]
  },
  {
   "cell_type": "code",
   "execution_count": 133,
   "id": "b25a666a",
   "metadata": {},
   "outputs": [
    {
     "data": {
      "application/vnd.plotly.v1+json": {
       "config": {
        "plotlyServerURL": "https://plot.ly"
       },
       "data": [
        {
         "colorbar": {
          "title": {
           "text": "Climate<br>Protection<br>Score"
          }
         },
         "colorscale": [
          [
           0,
           "rgb(165,0,38)"
          ],
          [
           0.1,
           "rgb(215,48,39)"
          ],
          [
           0.2,
           "rgb(244,109,67)"
          ],
          [
           0.3,
           "rgb(253,174,97)"
          ],
          [
           0.4,
           "rgb(254,224,139)"
          ],
          [
           0.5,
           "rgb(255,255,191)"
          ],
          [
           0.6,
           "rgb(217,239,139)"
          ],
          [
           0.7,
           "rgb(166,217,106)"
          ],
          [
           0.8,
           "rgb(102,189,99)"
          ],
          [
           0.9,
           "rgb(26,152,80)"
          ],
          [
           1,
           "rgb(0,104,55)"
          ]
         ],
         "customdata": [
          [
           "Afghanistan",
           "AFG",
           "No Data",
           "No Data"
          ],
          [
           "Albania",
           "ALB",
           "No Data",
           "No Data"
          ],
          [
           "Algeria",
           "DZA",
           39.91,
           51
          ],
          [
           "Andorra",
           "AND",
           "No Data",
           "No Data"
          ],
          [
           "Angola",
           "AGO",
           "No Data",
           "No Data"
          ],
          [
           "Anguilla",
           "AIA",
           "No Data",
           "No Data"
          ],
          [
           "Antarctica",
           "ATA",
           "No Data",
           "No Data"
          ],
          [
           "Antigua and Barbuda",
           "ATG",
           "No Data",
           "No Data"
          ],
          [
           "Argentina",
           "ARG",
           47.08,
           44
          ],
          [
           "Armenia",
           "ARM",
           "No Data",
           "No Data"
          ],
          [
           "Aruba",
           "ABW",
           "No Data",
           "No Data"
          ],
          [
           "Australia",
           "AUS",
           30.06,
           56
          ],
          [
           "Austria",
           "AUT",
           52.35,
           34
          ],
          [
           "Azerbaijan",
           "AZE",
           "No Data",
           "No Data"
          ],
          [
           "Bahamas",
           "BHS",
           "No Data",
           "No Data"
          ],
          [
           "Bahrain",
           "BHR",
           "No Data",
           "No Data"
          ],
          [
           "Bangladesh",
           "BGD",
           "No Data",
           "No Data"
          ],
          [
           "Barbados",
           "BRB",
           "No Data",
           "No Data"
          ],
          [
           "Belarus",
           "BLR",
           46.66,
           45
          ],
          [
           "Belgium",
           "BEL",
           45.9,
           46
          ],
          [
           "Belize",
           "BLZ",
           "No Data",
           "No Data"
          ],
          [
           "Benin",
           "BEN",
           "No Data",
           "No Data"
          ],
          [
           "Bermuda",
           "BMU",
           "No Data",
           "No Data"
          ],
          [
           "Bhutan",
           "BTN",
           "No Data",
           "No Data"
          ],
          [
           "Bolivia",
           "BOL",
           "No Data",
           "No Data"
          ],
          [
           "Bonaire Sint Eustatius and Saba",
           "BES",
           "No Data",
           "No Data"
          ],
          [
           "Bosnia and Herzegovina",
           "BIH",
           "No Data",
           "No Data"
          ],
          [
           "Botswana",
           "BWA",
           "No Data",
           "No Data"
          ],
          [
           "Brazil",
           "BRA",
           54.86,
           30
          ],
          [
           "British Virgin Islands",
           "VGB",
           "No Data",
           "No Data"
          ],
          [
           "Brunei",
           "BRN",
           "No Data",
           "No Data"
          ],
          [
           "Bulgaria",
           "BGR",
           48.71,
           41
          ],
          [
           "Burkina Faso",
           "BFA",
           "No Data",
           "No Data"
          ],
          [
           "Burundi",
           "BDI",
           "No Data",
           "No Data"
          ],
          [
           "Cambodia",
           "KHM",
           "No Data",
           "No Data"
          ],
          [
           "Cameroon",
           "CMR",
           "No Data",
           "No Data"
          ],
          [
           "Canada",
           "CAN",
           26.03,
           58
          ],
          [
           "Cape Verde",
           "CPV",
           "No Data",
           "No Data"
          ],
          [
           "Central African Republic",
           "CAF",
           "No Data",
           "No Data"
          ],
          [
           "Chad",
           "TCD",
           "No Data",
           "No Data"
          ],
          [
           "Chile",
           "CHL",
           "No Data",
           "No Data"
          ],
          [
           "China",
           "CHN",
           52.2,
           35
          ],
          [
           "Christmas Island",
           "CXR",
           "No Data",
           "No Data"
          ],
          [
           "Colombia",
           "COL",
           57.87,
           22
          ],
          [
           "Comoros",
           "COM",
           "No Data",
           "No Data"
          ],
          [
           "Congo",
           "COG",
           "No Data",
           "No Data"
          ],
          [
           "Cook Islands",
           "COK",
           "No Data",
           "No Data"
          ],
          [
           "Costa Rica",
           "CRI",
           "No Data",
           "No Data"
          ],
          [
           "Cote d'Ivoire",
           "CIV",
           "No Data",
           "No Data"
          ],
          [
           "Croatia",
           "HRV",
           55.96,
           26
          ],
          [
           "Cuba",
           "CUB",
           "No Data",
           "No Data"
          ],
          [
           "Curacao",
           "CUW",
           "No Data",
           "No Data"
          ],
          [
           "Cyprus",
           "CYP",
           50.52,
           39
          ],
          [
           "Czechia",
           "CZE",
           42.15,
           48
          ],
          [
           "Democratic Republic of Congo",
           "COD",
           "No Data",
           "No Data"
          ],
          [
           "Denmark",
           "DNK",
           76.67,
           1
          ],
          [
           "Djibouti",
           "DJI",
           "No Data",
           "No Data"
          ],
          [
           "Dominica",
           "DMA",
           "No Data",
           "No Data"
          ],
          [
           "Dominican Republic",
           "DOM",
           "No Data",
           "No Data"
          ],
          [
           "Ecuador",
           "ECU",
           "No Data",
           "No Data"
          ],
          [
           "Egypt",
           "EGY",
           59.74,
           18
          ],
          [
           "El Salvador",
           "SLV",
           "No Data",
           "No Data"
          ],
          [
           "Equatorial Guinea",
           "GNQ",
           "No Data",
           "No Data"
          ],
          [
           "Eritrea",
           "ERI",
           "No Data",
           "No Data"
          ],
          [
           "Estonia",
           "EST",
           54.98,
           29
          ],
          [
           "Eswatini",
           "SWZ",
           "No Data",
           "No Data"
          ],
          [
           "Ethiopia",
           "ETH",
           "No Data",
           "No Data"
          ],
          [
           "Faeroe Islands",
           "FRO",
           "No Data",
           "No Data"
          ],
          [
           "Fiji",
           "FJI",
           "No Data",
           "No Data"
          ],
          [
           "Finland",
           "FIN",
           62.41,
           11
          ],
          [
           "France",
           "FRA",
           61.01,
           14
          ],
          [
           "French Guiana",
           "GUF",
           "No Data",
           "No Data"
          ],
          [
           "French Polynesia",
           "PYF",
           "No Data",
           "No Data"
          ],
          [
           "Gabon",
           "GAB",
           "No Data",
           "No Data"
          ],
          [
           "Gambia",
           "GMB",
           "No Data",
           "No Data"
          ],
          [
           "Georgia",
           "GEO",
           "No Data",
           "No Data"
          ],
          [
           "Germany",
           "DEU",
           63.53,
           10
          ],
          [
           "Ghana",
           "GHA",
           "No Data",
           "No Data"
          ],
          [
           "Greece",
           "GRC",
           58.22,
           21
          ],
          [
           "Greenland",
           "GRL",
           "No Data",
           "No Data"
          ],
          [
           "Grenada",
           "GRD",
           "No Data",
           "No Data"
          ],
          [
           "Guadeloupe",
           "GLP",
           "No Data",
           "No Data"
          ],
          [
           "Guatemala",
           "GTM",
           "No Data",
           "No Data"
          ],
          [
           "Guinea",
           "GIN",
           "No Data",
           "No Data"
          ],
          [
           "Guinea-Bissau",
           "GNB",
           "No Data",
           "No Data"
          ],
          [
           "Guyana",
           "GUY",
           "No Data",
           "No Data"
          ],
          [
           "Haiti",
           "HTI",
           "No Data",
           "No Data"
          ],
          [
           "Honduras",
           "HND",
           "No Data",
           "No Data"
          ],
          [
           "Hong Kong",
           "HKG",
           "No Data",
           "No Data"
          ],
          [
           "Hungary",
           "HUN",
           40.41,
           50
          ],
          [
           "Iceland",
           "ISL",
           "No Data",
           "No Data"
          ],
          [
           "India",
           "IND",
           69.2,
           7
          ],
          [
           "Indonesia",
           "IDN",
           57.17,
           24
          ],
          [
           "Iran",
           "IRN",
           25.66,
           59
          ],
          [
           "Iraq",
           "IRQ",
           "No Data",
           "No Data"
          ],
          [
           "Ireland",
           "IRL",
           47.86,
           43
          ],
          [
           "Israel",
           "ISR",
           "No Data",
           "No Data"
          ],
          [
           "Italy",
           "ITA",
           55.39,
           27
          ],
          [
           "Jamaica",
           "JAM",
           "No Data",
           "No Data"
          ],
          [
           "Japan",
           "JPN",
           48.53,
           42
          ],
          [
           "Jordan",
           "JOR",
           "No Data",
           "No Data"
          ],
          [
           "Kazakhstan",
           "KAZ",
           19.23,
           61
          ],
          [
           "Kenya",
           "KEN",
           "No Data",
           "No Data"
          ],
          [
           "Kiribati",
           "KIR",
           "No Data",
           "No Data"
          ],
          [
           "Kosovo",
           "OWID_KOS",
           "No Data",
           "No Data"
          ],
          [
           "Kuwait",
           "KWT",
           "No Data",
           "No Data"
          ],
          [
           "Kyrgyzstan",
           "KGZ",
           "No Data",
           "No Data"
          ],
          [
           "Laos",
           "LAO",
           "No Data",
           "No Data"
          ],
          [
           "Latvia",
           "LVA",
           57.73,
           23
          ],
          [
           "Lebanon",
           "LBN",
           "No Data",
           "No Data"
          ],
          [
           "Lesotho",
           "LSO",
           "No Data",
           "No Data"
          ],
          [
           "Liberia",
           "LBR",
           "No Data",
           "No Data"
          ],
          [
           "Libya",
           "LBY",
           "No Data",
           "No Data"
          ],
          [
           "Liechtenstein",
           "LIE",
           "No Data",
           "No Data"
          ],
          [
           "Lithuania",
           "LTU",
           64.89,
           8
          ],
          [
           "Luxembourg",
           "LUX",
           60.8,
           15
          ],
          [
           "Madagascar",
           "MDG",
           "No Data",
           "No Data"
          ],
          [
           "Malawi",
           "MWI",
           "No Data",
           "No Data"
          ],
          [
           "Malaysia",
           "MYS",
           33.74,
           54
          ],
          [
           "Maldives",
           "MDV",
           "No Data",
           "No Data"
          ],
          [
           "Mali",
           "MLI",
           "No Data",
           "No Data"
          ],
          [
           "Malta",
           "MLT",
           64.18,
           9
          ],
          [
           "Marshall Islands",
           "MHL",
           "No Data",
           "No Data"
          ],
          [
           "Martinique",
           "MTQ",
           "No Data",
           "No Data"
          ],
          [
           "Mauritania",
           "MRT",
           "No Data",
           "No Data"
          ],
          [
           "Mauritius",
           "MUS",
           "No Data",
           "No Data"
          ],
          [
           "Mayotte",
           "MYT",
           "No Data",
           "No Data"
          ],
          [
           "Mexico",
           "MEX",
           56.05,
           25
          ],
          [
           "Moldova",
           "MDA",
           "No Data",
           "No Data"
          ],
          [
           "Mongolia",
           "MNG",
           "No Data",
           "No Data"
          ],
          [
           "Montenegro",
           "MNE",
           "No Data",
           "No Data"
          ],
          [
           "Montserrat",
           "MSR",
           "No Data",
           "No Data"
          ],
          [
           "Morocco",
           "MAR",
           71.6,
           5
          ],
          [
           "Mozambique",
           "MOZ",
           "No Data",
           "No Data"
          ],
          [
           "Myanmar",
           "MMR",
           "No Data",
           "No Data"
          ],
          [
           "Namibia",
           "NAM",
           "No Data",
           "No Data"
          ],
          [
           "Nauru",
           "NRU",
           "No Data",
           "No Data"
          ],
          [
           "Nepal",
           "NPL",
           "No Data",
           "No Data"
          ],
          [
           "Netherlands",
           "NLD",
           60.44,
           16
          ],
          [
           "New Caledonia",
           "NCL",
           "No Data",
           "No Data"
          ],
          [
           "New Zealand",
           "NZL",
           54.03,
           32
          ],
          [
           "Nicaragua",
           "NIC",
           "No Data",
           "No Data"
          ],
          [
           "Niger",
           "NER",
           "No Data",
           "No Data"
          ],
          [
           "Nigeria",
           "NGA",
           "No Data",
           "No Data"
          ],
          [
           "Niue",
           "NIU",
           "No Data",
           "No Data"
          ],
          [
           "North Korea",
           "PRK",
           "No Data",
           "No Data"
          ],
          [
           "North Macedonia",
           "MKD",
           "No Data",
           "No Data"
          ],
          [
           "Norway",
           "NOR",
           73.29,
           3
          ],
          [
           "Oman",
           "OMN",
           "No Data",
           "No Data"
          ],
          [
           "Pakistan",
           "PAK",
           "No Data",
           "No Data"
          ],
          [
           "Palau",
           "PLW",
           "No Data",
           "No Data"
          ],
          [
           "Palestine",
           "PSE",
           "No Data",
           "No Data"
          ],
          [
           "Panama",
           "PAN",
           "No Data",
           "No Data"
          ],
          [
           "Papua New Guinea",
           "PNG",
           "No Data",
           "No Data"
          ],
          [
           "Paraguay",
           "PRY",
           "No Data",
           "No Data"
          ],
          [
           "Peru",
           "PER",
           "No Data",
           "No Data"
          ],
          [
           "Philippines",
           "PHL",
           58.98,
           20
          ],
          [
           "Poland",
           "POL",
           40.63,
           49
          ],
          [
           "Portugal",
           "PRT",
           61.11,
           13
          ],
          [
           "Puerto Rico",
           "PRI",
           "No Data",
           "No Data"
          ],
          [
           "Qatar",
           "QAT",
           "No Data",
           "No Data"
          ],
          [
           "Romania",
           "ROU",
           52.43,
           33
          ],
          [
           "Russia",
           "RUS",
           34.73,
           53
          ],
          [
           "Rwanda",
           "RWA",
           "No Data",
           "No Data"
          ],
          [
           "Saint Helena",
           "SHN",
           "No Data",
           "No Data"
          ],
          [
           "Saint Kitts and Nevis",
           "KNA",
           "No Data",
           "No Data"
          ],
          [
           "Saint Lucia",
           "LCA",
           "No Data",
           "No Data"
          ],
          [
           "Saint Pierre and Miquelon",
           "SPM",
           "No Data",
           "No Data"
          ],
          [
           "Saint Vincent and the Grenadines",
           "VCT",
           "No Data",
           "No Data"
          ],
          [
           "Samoa",
           "WSM",
           "No Data",
           "No Data"
          ],
          [
           "Sao Tome and Principe",
           "STP",
           "No Data",
           "No Data"
          ],
          [
           "Saudi Arabia",
           "SAU",
           24.25,
           60
          ],
          [
           "Senegal",
           "SEN",
           "No Data",
           "No Data"
          ],
          [
           "Serbia",
           "SRB",
           "No Data",
           "No Data"
          ],
          [
           "Seychelles",
           "SYC",
           "No Data",
           "No Data"
          ],
          [
           "Sierra Leone",
           "SLE",
           "No Data",
           "No Data"
          ],
          [
           "Singapore",
           "SGP",
           "No Data",
           "No Data"
          ],
          [
           "Sint Maarten (Dutch part)",
           "SXM",
           "No Data",
           "No Data"
          ],
          [
           "Slovakia",
           "SVK",
           50.67,
           37
          ],
          [
           "Slovenia",
           "SVN",
           43.28,
           47
          ],
          [
           "Solomon Islands",
           "SLB",
           "No Data",
           "No Data"
          ],
          [
           "Somalia",
           "SOM",
           "No Data",
           "No Data"
          ],
          [
           "South Africa",
           "ZAF",
           51.13,
           36
          ],
          [
           "South Korea",
           "KOR",
           26.74,
           57
          ],
          [
           "South Sudan",
           "SSD",
           "No Data",
           "No Data"
          ],
          [
           "Spain",
           "ESP",
           54.35,
           31
          ],
          [
           "Sri Lanka",
           "LKA",
           "No Data",
           "No Data"
          ],
          [
           "Sudan",
           "SDN",
           "No Data",
           "No Data"
          ],
          [
           "Suriname",
           "SUR",
           "No Data",
           "No Data"
          ],
          [
           "Sweden",
           "SWE",
           74.22,
           2
          ],
          [
           "Switzerland",
           "CHE",
           61.7,
           12
          ],
          [
           "Syria",
           "SYR",
           "No Data",
           "No Data"
          ],
          [
           "Taiwan",
           "TWN",
           "No Data",
           "No Data"
          ],
          [
           "Tajikistan",
           "TJK",
           "No Data",
           "No Data"
          ],
          [
           "Tanzania",
           "TZA",
           "No Data",
           "No Data"
          ],
          [
           "Thailand",
           "THA",
           55.01,
           28
          ],
          [
           "Timor",
           "TLS",
           "No Data",
           "No Data"
          ],
          [
           "Togo",
           "TGO",
           "No Data",
           "No Data"
          ],
          [
           "Tonga",
           "TON",
           "No Data",
           "No Data"
          ],
          [
           "Trinidad and Tobago",
           "TTO",
           "No Data",
           "No Data"
          ],
          [
           "Tunisia",
           "TUN",
           "No Data",
           "No Data"
          ],
          [
           "Turkey",
           "TUR",
           50.53,
           38
          ],
          [
           "Turkmenistan",
           "TKM",
           "No Data",
           "No Data"
          ],
          [
           "Turks and Caicos Islands",
           "TCA",
           "No Data",
           "No Data"
          ],
          [
           "Tuvalu",
           "TUV",
           "No Data",
           "No Data"
          ],
          [
           "Uganda",
           "UGA",
           "No Data",
           "No Data"
          ],
          [
           "Ukraine",
           "UKR",
           60.4,
           17
          ],
          [
           "United Arab Emirates",
           "ARE",
           "No Data",
           "No Data"
          ],
          [
           "United Kingdom",
           "GBR",
           73.09,
           4
          ],
          [
           "United States",
           "USA",
           37.39,
           52
          ],
          [
           "Uruguay",
           "URY",
           "No Data",
           "No Data"
          ],
          [
           "Uzbekistan",
           "UZB",
           "No Data",
           "No Data"
          ],
          [
           "Vanuatu",
           "VUT",
           "No Data",
           "No Data"
          ],
          [
           "Venezuela",
           "VEN",
           "No Data",
           "No Data"
          ],
          [
           "Vietnam",
           "VNM",
           49.21,
           40
          ],
          [
           "Yemen",
           "YEM",
           "No Data",
           "No Data"
          ],
          [
           "Zambia",
           "ZMB",
           "No Data",
           "No Data"
          ],
          [
           "Zimbabwe",
           "ZWE",
           "No Data",
           "No Data"
          ]
         ],
         "hovertemplate": "%{customdata[0]} (%{customdata[1]})<br>CCPI Score: %{customdata[2]}<br>CCPI Rank: %{customdata[3]}<br><extra></extra>",
         "locations": [
          "AFG",
          "ALB",
          "DZA",
          "AND",
          "AGO",
          "AIA",
          "ATA",
          "ATG",
          "ARG",
          "ARM",
          "ABW",
          "AUS",
          "AUT",
          "AZE",
          "BHS",
          "BHR",
          "BGD",
          "BRB",
          "BLR",
          "BEL",
          "BLZ",
          "BEN",
          "BMU",
          "BTN",
          "BOL",
          "BES",
          "BIH",
          "BWA",
          "BRA",
          "VGB",
          "BRN",
          "BGR",
          "BFA",
          "BDI",
          "KHM",
          "CMR",
          "CAN",
          "CPV",
          "CAF",
          "TCD",
          "CHL",
          "CHN",
          "CXR",
          "COL",
          "COM",
          "COG",
          "COK",
          "CRI",
          "CIV",
          "HRV",
          "CUB",
          "CUW",
          "CYP",
          "CZE",
          "COD",
          "DNK",
          "DJI",
          "DMA",
          "DOM",
          "ECU",
          "EGY",
          "SLV",
          "GNQ",
          "ERI",
          "EST",
          "SWZ",
          "ETH",
          "FRO",
          "FJI",
          "FIN",
          "FRA",
          "GUF",
          "PYF",
          "GAB",
          "GMB",
          "GEO",
          "DEU",
          "GHA",
          "GRC",
          "GRL",
          "GRD",
          "GLP",
          "GTM",
          "GIN",
          "GNB",
          "GUY",
          "HTI",
          "HND",
          "HKG",
          "HUN",
          "ISL",
          "IND",
          "IDN",
          "IRN",
          "IRQ",
          "IRL",
          "ISR",
          "ITA",
          "JAM",
          "JPN",
          "JOR",
          "KAZ",
          "KEN",
          "KIR",
          "OWID_KOS",
          "KWT",
          "KGZ",
          "LAO",
          "LVA",
          "LBN",
          "LSO",
          "LBR",
          "LBY",
          "LIE",
          "LTU",
          "LUX",
          "MDG",
          "MWI",
          "MYS",
          "MDV",
          "MLI",
          "MLT",
          "MHL",
          "MTQ",
          "MRT",
          "MUS",
          "MYT",
          "MEX",
          "MDA",
          "MNG",
          "MNE",
          "MSR",
          "MAR",
          "MOZ",
          "MMR",
          "NAM",
          "NRU",
          "NPL",
          "NLD",
          "NCL",
          "NZL",
          "NIC",
          "NER",
          "NGA",
          "NIU",
          "PRK",
          "MKD",
          "NOR",
          "OMN",
          "PAK",
          "PLW",
          "PSE",
          "PAN",
          "PNG",
          "PRY",
          "PER",
          "PHL",
          "POL",
          "PRT",
          "PRI",
          "QAT",
          "ROU",
          "RUS",
          "RWA",
          "SHN",
          "KNA",
          "LCA",
          "SPM",
          "VCT",
          "WSM",
          "STP",
          "SAU",
          "SEN",
          "SRB",
          "SYC",
          "SLE",
          "SGP",
          "SXM",
          "SVK",
          "SVN",
          "SLB",
          "SOM",
          "ZAF",
          "KOR",
          "SSD",
          "ESP",
          "LKA",
          "SDN",
          "SUR",
          "SWE",
          "CHE",
          "SYR",
          "TWN",
          "TJK",
          "TZA",
          "THA",
          "TLS",
          "TGO",
          "TON",
          "TTO",
          "TUN",
          "TUR",
          "TKM",
          "TCA",
          "TUV",
          "UGA",
          "UKR",
          "ARE",
          "GBR",
          "USA",
          "URY",
          "UZB",
          "VUT",
          "VEN",
          "VNM",
          "YEM",
          "ZMB",
          "ZWE"
         ],
         "marker": {
          "line": {
           "width": 0.1
          }
         },
         "type": "choropleth",
         "z": [
          "No Data",
          "No Data",
          39.91,
          "No Data",
          "No Data",
          "No Data",
          "No Data",
          "No Data",
          47.08,
          "No Data",
          "No Data",
          30.06,
          52.35,
          "No Data",
          "No Data",
          "No Data",
          "No Data",
          "No Data",
          46.66,
          45.9,
          "No Data",
          "No Data",
          "No Data",
          "No Data",
          "No Data",
          "No Data",
          "No Data",
          "No Data",
          54.86,
          "No Data",
          "No Data",
          48.71,
          "No Data",
          "No Data",
          "No Data",
          "No Data",
          26.03,
          "No Data",
          "No Data",
          "No Data",
          "No Data",
          52.2,
          "No Data",
          57.87,
          "No Data",
          "No Data",
          "No Data",
          "No Data",
          "No Data",
          55.96,
          "No Data",
          "No Data",
          50.52,
          42.15,
          "No Data",
          76.67,
          "No Data",
          "No Data",
          "No Data",
          "No Data",
          59.74,
          "No Data",
          "No Data",
          "No Data",
          54.98,
          "No Data",
          "No Data",
          "No Data",
          "No Data",
          62.41,
          61.01,
          "No Data",
          "No Data",
          "No Data",
          "No Data",
          "No Data",
          63.53,
          "No Data",
          58.22,
          "No Data",
          "No Data",
          "No Data",
          "No Data",
          "No Data",
          "No Data",
          "No Data",
          "No Data",
          "No Data",
          "No Data",
          40.41,
          "No Data",
          69.2,
          57.17,
          25.66,
          "No Data",
          47.86,
          "No Data",
          55.39,
          "No Data",
          48.53,
          "No Data",
          19.23,
          "No Data",
          "No Data",
          "No Data",
          "No Data",
          "No Data",
          "No Data",
          57.73,
          "No Data",
          "No Data",
          "No Data",
          "No Data",
          "No Data",
          64.89,
          60.8,
          "No Data",
          "No Data",
          33.74,
          "No Data",
          "No Data",
          64.18,
          "No Data",
          "No Data",
          "No Data",
          "No Data",
          "No Data",
          56.05,
          "No Data",
          "No Data",
          "No Data",
          "No Data",
          71.6,
          "No Data",
          "No Data",
          "No Data",
          "No Data",
          "No Data",
          60.44,
          "No Data",
          54.03,
          "No Data",
          "No Data",
          "No Data",
          "No Data",
          "No Data",
          "No Data",
          73.29,
          "No Data",
          "No Data",
          "No Data",
          "No Data",
          "No Data",
          "No Data",
          "No Data",
          "No Data",
          58.98,
          40.63,
          61.11,
          "No Data",
          "No Data",
          52.43,
          34.73,
          "No Data",
          "No Data",
          "No Data",
          "No Data",
          "No Data",
          "No Data",
          "No Data",
          "No Data",
          24.25,
          "No Data",
          "No Data",
          "No Data",
          "No Data",
          "No Data",
          "No Data",
          50.67,
          43.28,
          "No Data",
          "No Data",
          51.13,
          26.74,
          "No Data",
          54.35,
          "No Data",
          "No Data",
          "No Data",
          74.22,
          61.7,
          "No Data",
          "No Data",
          "No Data",
          "No Data",
          55.01,
          "No Data",
          "No Data",
          "No Data",
          "No Data",
          "No Data",
          50.53,
          "No Data",
          "No Data",
          "No Data",
          "No Data",
          60.4,
          "No Data",
          73.09,
          37.39,
          "No Data",
          "No Data",
          "No Data",
          "No Data",
          49.21,
          "No Data",
          "No Data",
          "No Data"
         ],
         "zmax": 66.18300000000002,
         "zmin": 32.636
        }
       ],
       "layout": {
        "geo": {
         "projection": {
          "type": "natural earth"
         },
         "showcoastlines": false
        },
        "margin": {
         "b": 0,
         "l": 0,
         "r": 0,
         "t": 50
        },
        "template": {
         "data": {
          "bar": [
           {
            "error_x": {
             "color": "#2a3f5f"
            },
            "error_y": {
             "color": "#2a3f5f"
            },
            "marker": {
             "line": {
              "color": "#E5ECF6",
              "width": 0.5
             },
             "pattern": {
              "fillmode": "overlay",
              "size": 10,
              "solidity": 0.2
             }
            },
            "type": "bar"
           }
          ],
          "barpolar": [
           {
            "marker": {
             "line": {
              "color": "#E5ECF6",
              "width": 0.5
             },
             "pattern": {
              "fillmode": "overlay",
              "size": 10,
              "solidity": 0.2
             }
            },
            "type": "barpolar"
           }
          ],
          "carpet": [
           {
            "aaxis": {
             "endlinecolor": "#2a3f5f",
             "gridcolor": "white",
             "linecolor": "white",
             "minorgridcolor": "white",
             "startlinecolor": "#2a3f5f"
            },
            "baxis": {
             "endlinecolor": "#2a3f5f",
             "gridcolor": "white",
             "linecolor": "white",
             "minorgridcolor": "white",
             "startlinecolor": "#2a3f5f"
            },
            "type": "carpet"
           }
          ],
          "choropleth": [
           {
            "colorbar": {
             "outlinewidth": 0,
             "ticks": ""
            },
            "type": "choropleth"
           }
          ],
          "contour": [
           {
            "colorbar": {
             "outlinewidth": 0,
             "ticks": ""
            },
            "colorscale": [
             [
              0,
              "#0d0887"
             ],
             [
              0.1111111111111111,
              "#46039f"
             ],
             [
              0.2222222222222222,
              "#7201a8"
             ],
             [
              0.3333333333333333,
              "#9c179e"
             ],
             [
              0.4444444444444444,
              "#bd3786"
             ],
             [
              0.5555555555555556,
              "#d8576b"
             ],
             [
              0.6666666666666666,
              "#ed7953"
             ],
             [
              0.7777777777777778,
              "#fb9f3a"
             ],
             [
              0.8888888888888888,
              "#fdca26"
             ],
             [
              1,
              "#f0f921"
             ]
            ],
            "type": "contour"
           }
          ],
          "contourcarpet": [
           {
            "colorbar": {
             "outlinewidth": 0,
             "ticks": ""
            },
            "type": "contourcarpet"
           }
          ],
          "heatmap": [
           {
            "colorbar": {
             "outlinewidth": 0,
             "ticks": ""
            },
            "colorscale": [
             [
              0,
              "#0d0887"
             ],
             [
              0.1111111111111111,
              "#46039f"
             ],
             [
              0.2222222222222222,
              "#7201a8"
             ],
             [
              0.3333333333333333,
              "#9c179e"
             ],
             [
              0.4444444444444444,
              "#bd3786"
             ],
             [
              0.5555555555555556,
              "#d8576b"
             ],
             [
              0.6666666666666666,
              "#ed7953"
             ],
             [
              0.7777777777777778,
              "#fb9f3a"
             ],
             [
              0.8888888888888888,
              "#fdca26"
             ],
             [
              1,
              "#f0f921"
             ]
            ],
            "type": "heatmap"
           }
          ],
          "heatmapgl": [
           {
            "colorbar": {
             "outlinewidth": 0,
             "ticks": ""
            },
            "colorscale": [
             [
              0,
              "#0d0887"
             ],
             [
              0.1111111111111111,
              "#46039f"
             ],
             [
              0.2222222222222222,
              "#7201a8"
             ],
             [
              0.3333333333333333,
              "#9c179e"
             ],
             [
              0.4444444444444444,
              "#bd3786"
             ],
             [
              0.5555555555555556,
              "#d8576b"
             ],
             [
              0.6666666666666666,
              "#ed7953"
             ],
             [
              0.7777777777777778,
              "#fb9f3a"
             ],
             [
              0.8888888888888888,
              "#fdca26"
             ],
             [
              1,
              "#f0f921"
             ]
            ],
            "type": "heatmapgl"
           }
          ],
          "histogram": [
           {
            "marker": {
             "pattern": {
              "fillmode": "overlay",
              "size": 10,
              "solidity": 0.2
             }
            },
            "type": "histogram"
           }
          ],
          "histogram2d": [
           {
            "colorbar": {
             "outlinewidth": 0,
             "ticks": ""
            },
            "colorscale": [
             [
              0,
              "#0d0887"
             ],
             [
              0.1111111111111111,
              "#46039f"
             ],
             [
              0.2222222222222222,
              "#7201a8"
             ],
             [
              0.3333333333333333,
              "#9c179e"
             ],
             [
              0.4444444444444444,
              "#bd3786"
             ],
             [
              0.5555555555555556,
              "#d8576b"
             ],
             [
              0.6666666666666666,
              "#ed7953"
             ],
             [
              0.7777777777777778,
              "#fb9f3a"
             ],
             [
              0.8888888888888888,
              "#fdca26"
             ],
             [
              1,
              "#f0f921"
             ]
            ],
            "type": "histogram2d"
           }
          ],
          "histogram2dcontour": [
           {
            "colorbar": {
             "outlinewidth": 0,
             "ticks": ""
            },
            "colorscale": [
             [
              0,
              "#0d0887"
             ],
             [
              0.1111111111111111,
              "#46039f"
             ],
             [
              0.2222222222222222,
              "#7201a8"
             ],
             [
              0.3333333333333333,
              "#9c179e"
             ],
             [
              0.4444444444444444,
              "#bd3786"
             ],
             [
              0.5555555555555556,
              "#d8576b"
             ],
             [
              0.6666666666666666,
              "#ed7953"
             ],
             [
              0.7777777777777778,
              "#fb9f3a"
             ],
             [
              0.8888888888888888,
              "#fdca26"
             ],
             [
              1,
              "#f0f921"
             ]
            ],
            "type": "histogram2dcontour"
           }
          ],
          "mesh3d": [
           {
            "colorbar": {
             "outlinewidth": 0,
             "ticks": ""
            },
            "type": "mesh3d"
           }
          ],
          "parcoords": [
           {
            "line": {
             "colorbar": {
              "outlinewidth": 0,
              "ticks": ""
             }
            },
            "type": "parcoords"
           }
          ],
          "pie": [
           {
            "automargin": true,
            "type": "pie"
           }
          ],
          "scatter": [
           {
            "marker": {
             "colorbar": {
              "outlinewidth": 0,
              "ticks": ""
             }
            },
            "type": "scatter"
           }
          ],
          "scatter3d": [
           {
            "line": {
             "colorbar": {
              "outlinewidth": 0,
              "ticks": ""
             }
            },
            "marker": {
             "colorbar": {
              "outlinewidth": 0,
              "ticks": ""
             }
            },
            "type": "scatter3d"
           }
          ],
          "scattercarpet": [
           {
            "marker": {
             "colorbar": {
              "outlinewidth": 0,
              "ticks": ""
             }
            },
            "type": "scattercarpet"
           }
          ],
          "scattergeo": [
           {
            "marker": {
             "colorbar": {
              "outlinewidth": 0,
              "ticks": ""
             }
            },
            "type": "scattergeo"
           }
          ],
          "scattergl": [
           {
            "marker": {
             "colorbar": {
              "outlinewidth": 0,
              "ticks": ""
             }
            },
            "type": "scattergl"
           }
          ],
          "scattermapbox": [
           {
            "marker": {
             "colorbar": {
              "outlinewidth": 0,
              "ticks": ""
             }
            },
            "type": "scattermapbox"
           }
          ],
          "scatterpolar": [
           {
            "marker": {
             "colorbar": {
              "outlinewidth": 0,
              "ticks": ""
             }
            },
            "type": "scatterpolar"
           }
          ],
          "scatterpolargl": [
           {
            "marker": {
             "colorbar": {
              "outlinewidth": 0,
              "ticks": ""
             }
            },
            "type": "scatterpolargl"
           }
          ],
          "scatterternary": [
           {
            "marker": {
             "colorbar": {
              "outlinewidth": 0,
              "ticks": ""
             }
            },
            "type": "scatterternary"
           }
          ],
          "surface": [
           {
            "colorbar": {
             "outlinewidth": 0,
             "ticks": ""
            },
            "colorscale": [
             [
              0,
              "#0d0887"
             ],
             [
              0.1111111111111111,
              "#46039f"
             ],
             [
              0.2222222222222222,
              "#7201a8"
             ],
             [
              0.3333333333333333,
              "#9c179e"
             ],
             [
              0.4444444444444444,
              "#bd3786"
             ],
             [
              0.5555555555555556,
              "#d8576b"
             ],
             [
              0.6666666666666666,
              "#ed7953"
             ],
             [
              0.7777777777777778,
              "#fb9f3a"
             ],
             [
              0.8888888888888888,
              "#fdca26"
             ],
             [
              1,
              "#f0f921"
             ]
            ],
            "type": "surface"
           }
          ],
          "table": [
           {
            "cells": {
             "fill": {
              "color": "#EBF0F8"
             },
             "line": {
              "color": "white"
             }
            },
            "header": {
             "fill": {
              "color": "#C8D4E3"
             },
             "line": {
              "color": "white"
             }
            },
            "type": "table"
           }
          ]
         },
         "layout": {
          "annotationdefaults": {
           "arrowcolor": "#2a3f5f",
           "arrowhead": 0,
           "arrowwidth": 1
          },
          "autotypenumbers": "strict",
          "coloraxis": {
           "colorbar": {
            "outlinewidth": 0,
            "ticks": ""
           }
          },
          "colorscale": {
           "diverging": [
            [
             0,
             "#8e0152"
            ],
            [
             0.1,
             "#c51b7d"
            ],
            [
             0.2,
             "#de77ae"
            ],
            [
             0.3,
             "#f1b6da"
            ],
            [
             0.4,
             "#fde0ef"
            ],
            [
             0.5,
             "#f7f7f7"
            ],
            [
             0.6,
             "#e6f5d0"
            ],
            [
             0.7,
             "#b8e186"
            ],
            [
             0.8,
             "#7fbc41"
            ],
            [
             0.9,
             "#4d9221"
            ],
            [
             1,
             "#276419"
            ]
           ],
           "sequential": [
            [
             0,
             "#0d0887"
            ],
            [
             0.1111111111111111,
             "#46039f"
            ],
            [
             0.2222222222222222,
             "#7201a8"
            ],
            [
             0.3333333333333333,
             "#9c179e"
            ],
            [
             0.4444444444444444,
             "#bd3786"
            ],
            [
             0.5555555555555556,
             "#d8576b"
            ],
            [
             0.6666666666666666,
             "#ed7953"
            ],
            [
             0.7777777777777778,
             "#fb9f3a"
            ],
            [
             0.8888888888888888,
             "#fdca26"
            ],
            [
             1,
             "#f0f921"
            ]
           ],
           "sequentialminus": [
            [
             0,
             "#0d0887"
            ],
            [
             0.1111111111111111,
             "#46039f"
            ],
            [
             0.2222222222222222,
             "#7201a8"
            ],
            [
             0.3333333333333333,
             "#9c179e"
            ],
            [
             0.4444444444444444,
             "#bd3786"
            ],
            [
             0.5555555555555556,
             "#d8576b"
            ],
            [
             0.6666666666666666,
             "#ed7953"
            ],
            [
             0.7777777777777778,
             "#fb9f3a"
            ],
            [
             0.8888888888888888,
             "#fdca26"
            ],
            [
             1,
             "#f0f921"
            ]
           ]
          },
          "colorway": [
           "#636efa",
           "#EF553B",
           "#00cc96",
           "#ab63fa",
           "#FFA15A",
           "#19d3f3",
           "#FF6692",
           "#B6E880",
           "#FF97FF",
           "#FECB52"
          ],
          "font": {
           "color": "#2a3f5f"
          },
          "geo": {
           "bgcolor": "white",
           "lakecolor": "white",
           "landcolor": "#E5ECF6",
           "showlakes": true,
           "showland": true,
           "subunitcolor": "white"
          },
          "hoverlabel": {
           "align": "left"
          },
          "hovermode": "closest",
          "mapbox": {
           "style": "light"
          },
          "paper_bgcolor": "white",
          "plot_bgcolor": "#E5ECF6",
          "polar": {
           "angularaxis": {
            "gridcolor": "white",
            "linecolor": "white",
            "ticks": ""
           },
           "bgcolor": "#E5ECF6",
           "radialaxis": {
            "gridcolor": "white",
            "linecolor": "white",
            "ticks": ""
           }
          },
          "scene": {
           "xaxis": {
            "backgroundcolor": "#E5ECF6",
            "gridcolor": "white",
            "gridwidth": 2,
            "linecolor": "white",
            "showbackground": true,
            "ticks": "",
            "zerolinecolor": "white"
           },
           "yaxis": {
            "backgroundcolor": "#E5ECF6",
            "gridcolor": "white",
            "gridwidth": 2,
            "linecolor": "white",
            "showbackground": true,
            "ticks": "",
            "zerolinecolor": "white"
           },
           "zaxis": {
            "backgroundcolor": "#E5ECF6",
            "gridcolor": "white",
            "gridwidth": 2,
            "linecolor": "white",
            "showbackground": true,
            "ticks": "",
            "zerolinecolor": "white"
           }
          },
          "shapedefaults": {
           "line": {
            "color": "#2a3f5f"
           }
          },
          "ternary": {
           "aaxis": {
            "gridcolor": "white",
            "linecolor": "white",
            "ticks": ""
           },
           "baxis": {
            "gridcolor": "white",
            "linecolor": "white",
            "ticks": ""
           },
           "bgcolor": "#E5ECF6",
           "caxis": {
            "gridcolor": "white",
            "linecolor": "white",
            "ticks": ""
           }
          },
          "title": {
           "x": 0.05
          },
          "xaxis": {
           "automargin": true,
           "gridcolor": "white",
           "linecolor": "white",
           "ticks": "",
           "title": {
            "standoff": 15
           },
           "zerolinecolor": "white",
           "zerolinewidth": 2
          },
          "yaxis": {
           "automargin": true,
           "gridcolor": "white",
           "linecolor": "white",
           "ticks": "",
           "title": {
            "standoff": 15
           },
           "zerolinecolor": "white",
           "zerolinewidth": 2
          }
         }
        },
        "title": {
         "text": "Climate Change Protection Index"
        }
       }
      },
      "text/html": [
       "<div>                            <div id=\"f1483f28-d104-4a37-a2ed-64e297adca55\" class=\"plotly-graph-div\" style=\"height:525px; width:100%;\"></div>            <script type=\"text/javascript\">                require([\"plotly\"], function(Plotly) {                    window.PLOTLYENV=window.PLOTLYENV || {};                                    if (document.getElementById(\"f1483f28-d104-4a37-a2ed-64e297adca55\")) {                    Plotly.newPlot(                        \"f1483f28-d104-4a37-a2ed-64e297adca55\",                        [{\"colorbar\":{\"title\":{\"text\":\"Climate<br>Protection<br>Score\"}},\"colorscale\":[[0.0,\"rgb(165,0,38)\"],[0.1,\"rgb(215,48,39)\"],[0.2,\"rgb(244,109,67)\"],[0.3,\"rgb(253,174,97)\"],[0.4,\"rgb(254,224,139)\"],[0.5,\"rgb(255,255,191)\"],[0.6,\"rgb(217,239,139)\"],[0.7,\"rgb(166,217,106)\"],[0.8,\"rgb(102,189,99)\"],[0.9,\"rgb(26,152,80)\"],[1.0,\"rgb(0,104,55)\"]],\"customdata\":[[\"Afghanistan\",\"AFG\",\"No Data\",\"No Data\"],[\"Albania\",\"ALB\",\"No Data\",\"No Data\"],[\"Algeria\",\"DZA\",39.91,51.0],[\"Andorra\",\"AND\",\"No Data\",\"No Data\"],[\"Angola\",\"AGO\",\"No Data\",\"No Data\"],[\"Anguilla\",\"AIA\",\"No Data\",\"No Data\"],[\"Antarctica\",\"ATA\",\"No Data\",\"No Data\"],[\"Antigua and Barbuda\",\"ATG\",\"No Data\",\"No Data\"],[\"Argentina\",\"ARG\",47.08,44.0],[\"Armenia\",\"ARM\",\"No Data\",\"No Data\"],[\"Aruba\",\"ABW\",\"No Data\",\"No Data\"],[\"Australia\",\"AUS\",30.06,56.0],[\"Austria\",\"AUT\",52.35,34.0],[\"Azerbaijan\",\"AZE\",\"No Data\",\"No Data\"],[\"Bahamas\",\"BHS\",\"No Data\",\"No Data\"],[\"Bahrain\",\"BHR\",\"No Data\",\"No Data\"],[\"Bangladesh\",\"BGD\",\"No Data\",\"No Data\"],[\"Barbados\",\"BRB\",\"No Data\",\"No Data\"],[\"Belarus\",\"BLR\",46.66,45.0],[\"Belgium\",\"BEL\",45.9,46.0],[\"Belize\",\"BLZ\",\"No Data\",\"No Data\"],[\"Benin\",\"BEN\",\"No Data\",\"No Data\"],[\"Bermuda\",\"BMU\",\"No Data\",\"No Data\"],[\"Bhutan\",\"BTN\",\"No Data\",\"No Data\"],[\"Bolivia\",\"BOL\",\"No Data\",\"No Data\"],[\"Bonaire Sint Eustatius and Saba\",\"BES\",\"No Data\",\"No Data\"],[\"Bosnia and Herzegovina\",\"BIH\",\"No Data\",\"No Data\"],[\"Botswana\",\"BWA\",\"No Data\",\"No Data\"],[\"Brazil\",\"BRA\",54.86,30.0],[\"British Virgin Islands\",\"VGB\",\"No Data\",\"No Data\"],[\"Brunei\",\"BRN\",\"No Data\",\"No Data\"],[\"Bulgaria\",\"BGR\",48.71,41.0],[\"Burkina Faso\",\"BFA\",\"No Data\",\"No Data\"],[\"Burundi\",\"BDI\",\"No Data\",\"No Data\"],[\"Cambodia\",\"KHM\",\"No Data\",\"No Data\"],[\"Cameroon\",\"CMR\",\"No Data\",\"No Data\"],[\"Canada\",\"CAN\",26.03,58.0],[\"Cape Verde\",\"CPV\",\"No Data\",\"No Data\"],[\"Central African Republic\",\"CAF\",\"No Data\",\"No Data\"],[\"Chad\",\"TCD\",\"No Data\",\"No Data\"],[\"Chile\",\"CHL\",\"No Data\",\"No Data\"],[\"China\",\"CHN\",52.2,35.0],[\"Christmas Island\",\"CXR\",\"No Data\",\"No Data\"],[\"Colombia\",\"COL\",57.87,22.0],[\"Comoros\",\"COM\",\"No Data\",\"No Data\"],[\"Congo\",\"COG\",\"No Data\",\"No Data\"],[\"Cook Islands\",\"COK\",\"No Data\",\"No Data\"],[\"Costa Rica\",\"CRI\",\"No Data\",\"No Data\"],[\"Cote d'Ivoire\",\"CIV\",\"No Data\",\"No Data\"],[\"Croatia\",\"HRV\",55.96,26.0],[\"Cuba\",\"CUB\",\"No Data\",\"No Data\"],[\"Curacao\",\"CUW\",\"No Data\",\"No Data\"],[\"Cyprus\",\"CYP\",50.52,39.0],[\"Czechia\",\"CZE\",42.15,48.0],[\"Democratic Republic of Congo\",\"COD\",\"No Data\",\"No Data\"],[\"Denmark\",\"DNK\",76.67,1.0],[\"Djibouti\",\"DJI\",\"No Data\",\"No Data\"],[\"Dominica\",\"DMA\",\"No Data\",\"No Data\"],[\"Dominican Republic\",\"DOM\",\"No Data\",\"No Data\"],[\"Ecuador\",\"ECU\",\"No Data\",\"No Data\"],[\"Egypt\",\"EGY\",59.74,18.0],[\"El Salvador\",\"SLV\",\"No Data\",\"No Data\"],[\"Equatorial Guinea\",\"GNQ\",\"No Data\",\"No Data\"],[\"Eritrea\",\"ERI\",\"No Data\",\"No Data\"],[\"Estonia\",\"EST\",54.98,29.0],[\"Eswatini\",\"SWZ\",\"No Data\",\"No Data\"],[\"Ethiopia\",\"ETH\",\"No Data\",\"No Data\"],[\"Faeroe Islands\",\"FRO\",\"No Data\",\"No Data\"],[\"Fiji\",\"FJI\",\"No Data\",\"No Data\"],[\"Finland\",\"FIN\",62.41,11.0],[\"France\",\"FRA\",61.01,14.0],[\"French Guiana\",\"GUF\",\"No Data\",\"No Data\"],[\"French Polynesia\",\"PYF\",\"No Data\",\"No Data\"],[\"Gabon\",\"GAB\",\"No Data\",\"No Data\"],[\"Gambia\",\"GMB\",\"No Data\",\"No Data\"],[\"Georgia\",\"GEO\",\"No Data\",\"No Data\"],[\"Germany\",\"DEU\",63.53,10.0],[\"Ghana\",\"GHA\",\"No Data\",\"No Data\"],[\"Greece\",\"GRC\",58.22,21.0],[\"Greenland\",\"GRL\",\"No Data\",\"No Data\"],[\"Grenada\",\"GRD\",\"No Data\",\"No Data\"],[\"Guadeloupe\",\"GLP\",\"No Data\",\"No Data\"],[\"Guatemala\",\"GTM\",\"No Data\",\"No Data\"],[\"Guinea\",\"GIN\",\"No Data\",\"No Data\"],[\"Guinea-Bissau\",\"GNB\",\"No Data\",\"No Data\"],[\"Guyana\",\"GUY\",\"No Data\",\"No Data\"],[\"Haiti\",\"HTI\",\"No Data\",\"No Data\"],[\"Honduras\",\"HND\",\"No Data\",\"No Data\"],[\"Hong Kong\",\"HKG\",\"No Data\",\"No Data\"],[\"Hungary\",\"HUN\",40.41,50.0],[\"Iceland\",\"ISL\",\"No Data\",\"No Data\"],[\"India\",\"IND\",69.2,7.0],[\"Indonesia\",\"IDN\",57.17,24.0],[\"Iran\",\"IRN\",25.66,59.0],[\"Iraq\",\"IRQ\",\"No Data\",\"No Data\"],[\"Ireland\",\"IRL\",47.86,43.0],[\"Israel\",\"ISR\",\"No Data\",\"No Data\"],[\"Italy\",\"ITA\",55.39,27.0],[\"Jamaica\",\"JAM\",\"No Data\",\"No Data\"],[\"Japan\",\"JPN\",48.53,42.0],[\"Jordan\",\"JOR\",\"No Data\",\"No Data\"],[\"Kazakhstan\",\"KAZ\",19.23,61.0],[\"Kenya\",\"KEN\",\"No Data\",\"No Data\"],[\"Kiribati\",\"KIR\",\"No Data\",\"No Data\"],[\"Kosovo\",\"OWID_KOS\",\"No Data\",\"No Data\"],[\"Kuwait\",\"KWT\",\"No Data\",\"No Data\"],[\"Kyrgyzstan\",\"KGZ\",\"No Data\",\"No Data\"],[\"Laos\",\"LAO\",\"No Data\",\"No Data\"],[\"Latvia\",\"LVA\",57.73,23.0],[\"Lebanon\",\"LBN\",\"No Data\",\"No Data\"],[\"Lesotho\",\"LSO\",\"No Data\",\"No Data\"],[\"Liberia\",\"LBR\",\"No Data\",\"No Data\"],[\"Libya\",\"LBY\",\"No Data\",\"No Data\"],[\"Liechtenstein\",\"LIE\",\"No Data\",\"No Data\"],[\"Lithuania\",\"LTU\",64.89,8.0],[\"Luxembourg\",\"LUX\",60.8,15.0],[\"Madagascar\",\"MDG\",\"No Data\",\"No Data\"],[\"Malawi\",\"MWI\",\"No Data\",\"No Data\"],[\"Malaysia\",\"MYS\",33.74,54.0],[\"Maldives\",\"MDV\",\"No Data\",\"No Data\"],[\"Mali\",\"MLI\",\"No Data\",\"No Data\"],[\"Malta\",\"MLT\",64.18,9.0],[\"Marshall Islands\",\"MHL\",\"No Data\",\"No Data\"],[\"Martinique\",\"MTQ\",\"No Data\",\"No Data\"],[\"Mauritania\",\"MRT\",\"No Data\",\"No Data\"],[\"Mauritius\",\"MUS\",\"No Data\",\"No Data\"],[\"Mayotte\",\"MYT\",\"No Data\",\"No Data\"],[\"Mexico\",\"MEX\",56.05,25.0],[\"Moldova\",\"MDA\",\"No Data\",\"No Data\"],[\"Mongolia\",\"MNG\",\"No Data\",\"No Data\"],[\"Montenegro\",\"MNE\",\"No Data\",\"No Data\"],[\"Montserrat\",\"MSR\",\"No Data\",\"No Data\"],[\"Morocco\",\"MAR\",71.6,5.0],[\"Mozambique\",\"MOZ\",\"No Data\",\"No Data\"],[\"Myanmar\",\"MMR\",\"No Data\",\"No Data\"],[\"Namibia\",\"NAM\",\"No Data\",\"No Data\"],[\"Nauru\",\"NRU\",\"No Data\",\"No Data\"],[\"Nepal\",\"NPL\",\"No Data\",\"No Data\"],[\"Netherlands\",\"NLD\",60.44,16.0],[\"New Caledonia\",\"NCL\",\"No Data\",\"No Data\"],[\"New Zealand\",\"NZL\",54.03,32.0],[\"Nicaragua\",\"NIC\",\"No Data\",\"No Data\"],[\"Niger\",\"NER\",\"No Data\",\"No Data\"],[\"Nigeria\",\"NGA\",\"No Data\",\"No Data\"],[\"Niue\",\"NIU\",\"No Data\",\"No Data\"],[\"North Korea\",\"PRK\",\"No Data\",\"No Data\"],[\"North Macedonia\",\"MKD\",\"No Data\",\"No Data\"],[\"Norway\",\"NOR\",73.29,3.0],[\"Oman\",\"OMN\",\"No Data\",\"No Data\"],[\"Pakistan\",\"PAK\",\"No Data\",\"No Data\"],[\"Palau\",\"PLW\",\"No Data\",\"No Data\"],[\"Palestine\",\"PSE\",\"No Data\",\"No Data\"],[\"Panama\",\"PAN\",\"No Data\",\"No Data\"],[\"Papua New Guinea\",\"PNG\",\"No Data\",\"No Data\"],[\"Paraguay\",\"PRY\",\"No Data\",\"No Data\"],[\"Peru\",\"PER\",\"No Data\",\"No Data\"],[\"Philippines\",\"PHL\",58.98,20.0],[\"Poland\",\"POL\",40.63,49.0],[\"Portugal\",\"PRT\",61.11,13.0],[\"Puerto Rico\",\"PRI\",\"No Data\",\"No Data\"],[\"Qatar\",\"QAT\",\"No Data\",\"No Data\"],[\"Romania\",\"ROU\",52.43,33.0],[\"Russia\",\"RUS\",34.73,53.0],[\"Rwanda\",\"RWA\",\"No Data\",\"No Data\"],[\"Saint Helena\",\"SHN\",\"No Data\",\"No Data\"],[\"Saint Kitts and Nevis\",\"KNA\",\"No Data\",\"No Data\"],[\"Saint Lucia\",\"LCA\",\"No Data\",\"No Data\"],[\"Saint Pierre and Miquelon\",\"SPM\",\"No Data\",\"No Data\"],[\"Saint Vincent and the Grenadines\",\"VCT\",\"No Data\",\"No Data\"],[\"Samoa\",\"WSM\",\"No Data\",\"No Data\"],[\"Sao Tome and Principe\",\"STP\",\"No Data\",\"No Data\"],[\"Saudi Arabia\",\"SAU\",24.25,60.0],[\"Senegal\",\"SEN\",\"No Data\",\"No Data\"],[\"Serbia\",\"SRB\",\"No Data\",\"No Data\"],[\"Seychelles\",\"SYC\",\"No Data\",\"No Data\"],[\"Sierra Leone\",\"SLE\",\"No Data\",\"No Data\"],[\"Singapore\",\"SGP\",\"No Data\",\"No Data\"],[\"Sint Maarten (Dutch part)\",\"SXM\",\"No Data\",\"No Data\"],[\"Slovakia\",\"SVK\",50.67,37.0],[\"Slovenia\",\"SVN\",43.28,47.0],[\"Solomon Islands\",\"SLB\",\"No Data\",\"No Data\"],[\"Somalia\",\"SOM\",\"No Data\",\"No Data\"],[\"South Africa\",\"ZAF\",51.13,36.0],[\"South Korea\",\"KOR\",26.74,57.0],[\"South Sudan\",\"SSD\",\"No Data\",\"No Data\"],[\"Spain\",\"ESP\",54.35,31.0],[\"Sri Lanka\",\"LKA\",\"No Data\",\"No Data\"],[\"Sudan\",\"SDN\",\"No Data\",\"No Data\"],[\"Suriname\",\"SUR\",\"No Data\",\"No Data\"],[\"Sweden\",\"SWE\",74.22,2.0],[\"Switzerland\",\"CHE\",61.7,12.0],[\"Syria\",\"SYR\",\"No Data\",\"No Data\"],[\"Taiwan\",\"TWN\",\"No Data\",\"No Data\"],[\"Tajikistan\",\"TJK\",\"No Data\",\"No Data\"],[\"Tanzania\",\"TZA\",\"No Data\",\"No Data\"],[\"Thailand\",\"THA\",55.01,28.0],[\"Timor\",\"TLS\",\"No Data\",\"No Data\"],[\"Togo\",\"TGO\",\"No Data\",\"No Data\"],[\"Tonga\",\"TON\",\"No Data\",\"No Data\"],[\"Trinidad and Tobago\",\"TTO\",\"No Data\",\"No Data\"],[\"Tunisia\",\"TUN\",\"No Data\",\"No Data\"],[\"Turkey\",\"TUR\",50.53,38.0],[\"Turkmenistan\",\"TKM\",\"No Data\",\"No Data\"],[\"Turks and Caicos Islands\",\"TCA\",\"No Data\",\"No Data\"],[\"Tuvalu\",\"TUV\",\"No Data\",\"No Data\"],[\"Uganda\",\"UGA\",\"No Data\",\"No Data\"],[\"Ukraine\",\"UKR\",60.4,17.0],[\"United Arab Emirates\",\"ARE\",\"No Data\",\"No Data\"],[\"United Kingdom\",\"GBR\",73.09,4.0],[\"United States\",\"USA\",37.39,52.0],[\"Uruguay\",\"URY\",\"No Data\",\"No Data\"],[\"Uzbekistan\",\"UZB\",\"No Data\",\"No Data\"],[\"Vanuatu\",\"VUT\",\"No Data\",\"No Data\"],[\"Venezuela\",\"VEN\",\"No Data\",\"No Data\"],[\"Vietnam\",\"VNM\",49.21,40.0],[\"Yemen\",\"YEM\",\"No Data\",\"No Data\"],[\"Zambia\",\"ZMB\",\"No Data\",\"No Data\"],[\"Zimbabwe\",\"ZWE\",\"No Data\",\"No Data\"]],\"hovertemplate\":\"%{customdata[0]} (%{customdata[1]})<br>CCPI Score: %{customdata[2]}<br>CCPI Rank: %{customdata[3]}<br><extra></extra>\",\"locations\":[\"AFG\",\"ALB\",\"DZA\",\"AND\",\"AGO\",\"AIA\",\"ATA\",\"ATG\",\"ARG\",\"ARM\",\"ABW\",\"AUS\",\"AUT\",\"AZE\",\"BHS\",\"BHR\",\"BGD\",\"BRB\",\"BLR\",\"BEL\",\"BLZ\",\"BEN\",\"BMU\",\"BTN\",\"BOL\",\"BES\",\"BIH\",\"BWA\",\"BRA\",\"VGB\",\"BRN\",\"BGR\",\"BFA\",\"BDI\",\"KHM\",\"CMR\",\"CAN\",\"CPV\",\"CAF\",\"TCD\",\"CHL\",\"CHN\",\"CXR\",\"COL\",\"COM\",\"COG\",\"COK\",\"CRI\",\"CIV\",\"HRV\",\"CUB\",\"CUW\",\"CYP\",\"CZE\",\"COD\",\"DNK\",\"DJI\",\"DMA\",\"DOM\",\"ECU\",\"EGY\",\"SLV\",\"GNQ\",\"ERI\",\"EST\",\"SWZ\",\"ETH\",\"FRO\",\"FJI\",\"FIN\",\"FRA\",\"GUF\",\"PYF\",\"GAB\",\"GMB\",\"GEO\",\"DEU\",\"GHA\",\"GRC\",\"GRL\",\"GRD\",\"GLP\",\"GTM\",\"GIN\",\"GNB\",\"GUY\",\"HTI\",\"HND\",\"HKG\",\"HUN\",\"ISL\",\"IND\",\"IDN\",\"IRN\",\"IRQ\",\"IRL\",\"ISR\",\"ITA\",\"JAM\",\"JPN\",\"JOR\",\"KAZ\",\"KEN\",\"KIR\",\"OWID_KOS\",\"KWT\",\"KGZ\",\"LAO\",\"LVA\",\"LBN\",\"LSO\",\"LBR\",\"LBY\",\"LIE\",\"LTU\",\"LUX\",\"MDG\",\"MWI\",\"MYS\",\"MDV\",\"MLI\",\"MLT\",\"MHL\",\"MTQ\",\"MRT\",\"MUS\",\"MYT\",\"MEX\",\"MDA\",\"MNG\",\"MNE\",\"MSR\",\"MAR\",\"MOZ\",\"MMR\",\"NAM\",\"NRU\",\"NPL\",\"NLD\",\"NCL\",\"NZL\",\"NIC\",\"NER\",\"NGA\",\"NIU\",\"PRK\",\"MKD\",\"NOR\",\"OMN\",\"PAK\",\"PLW\",\"PSE\",\"PAN\",\"PNG\",\"PRY\",\"PER\",\"PHL\",\"POL\",\"PRT\",\"PRI\",\"QAT\",\"ROU\",\"RUS\",\"RWA\",\"SHN\",\"KNA\",\"LCA\",\"SPM\",\"VCT\",\"WSM\",\"STP\",\"SAU\",\"SEN\",\"SRB\",\"SYC\",\"SLE\",\"SGP\",\"SXM\",\"SVK\",\"SVN\",\"SLB\",\"SOM\",\"ZAF\",\"KOR\",\"SSD\",\"ESP\",\"LKA\",\"SDN\",\"SUR\",\"SWE\",\"CHE\",\"SYR\",\"TWN\",\"TJK\",\"TZA\",\"THA\",\"TLS\",\"TGO\",\"TON\",\"TTO\",\"TUN\",\"TUR\",\"TKM\",\"TCA\",\"TUV\",\"UGA\",\"UKR\",\"ARE\",\"GBR\",\"USA\",\"URY\",\"UZB\",\"VUT\",\"VEN\",\"VNM\",\"YEM\",\"ZMB\",\"ZWE\"],\"marker\":{\"line\":{\"width\":0.1}},\"z\":[\"No Data\",\"No Data\",39.91,\"No Data\",\"No Data\",\"No Data\",\"No Data\",\"No Data\",47.08,\"No Data\",\"No Data\",30.06,52.35,\"No Data\",\"No Data\",\"No Data\",\"No Data\",\"No Data\",46.66,45.9,\"No Data\",\"No Data\",\"No Data\",\"No Data\",\"No Data\",\"No Data\",\"No Data\",\"No Data\",54.86,\"No Data\",\"No Data\",48.71,\"No Data\",\"No Data\",\"No Data\",\"No Data\",26.03,\"No Data\",\"No Data\",\"No Data\",\"No Data\",52.2,\"No Data\",57.87,\"No Data\",\"No Data\",\"No Data\",\"No Data\",\"No Data\",55.96,\"No Data\",\"No Data\",50.52,42.15,\"No Data\",76.67,\"No Data\",\"No Data\",\"No Data\",\"No Data\",59.74,\"No Data\",\"No Data\",\"No Data\",54.98,\"No Data\",\"No Data\",\"No Data\",\"No Data\",62.41,61.01,\"No Data\",\"No Data\",\"No Data\",\"No Data\",\"No Data\",63.53,\"No Data\",58.22,\"No Data\",\"No Data\",\"No Data\",\"No Data\",\"No Data\",\"No Data\",\"No Data\",\"No Data\",\"No Data\",\"No Data\",40.41,\"No Data\",69.2,57.17,25.66,\"No Data\",47.86,\"No Data\",55.39,\"No Data\",48.53,\"No Data\",19.23,\"No Data\",\"No Data\",\"No Data\",\"No Data\",\"No Data\",\"No Data\",57.73,\"No Data\",\"No Data\",\"No Data\",\"No Data\",\"No Data\",64.89,60.8,\"No Data\",\"No Data\",33.74,\"No Data\",\"No Data\",64.18,\"No Data\",\"No Data\",\"No Data\",\"No Data\",\"No Data\",56.05,\"No Data\",\"No Data\",\"No Data\",\"No Data\",71.6,\"No Data\",\"No Data\",\"No Data\",\"No Data\",\"No Data\",60.44,\"No Data\",54.03,\"No Data\",\"No Data\",\"No Data\",\"No Data\",\"No Data\",\"No Data\",73.29,\"No Data\",\"No Data\",\"No Data\",\"No Data\",\"No Data\",\"No Data\",\"No Data\",\"No Data\",58.98,40.63,61.11,\"No Data\",\"No Data\",52.43,34.73,\"No Data\",\"No Data\",\"No Data\",\"No Data\",\"No Data\",\"No Data\",\"No Data\",\"No Data\",24.25,\"No Data\",\"No Data\",\"No Data\",\"No Data\",\"No Data\",\"No Data\",50.67,43.28,\"No Data\",\"No Data\",51.13,26.74,\"No Data\",54.35,\"No Data\",\"No Data\",\"No Data\",74.22,61.7,\"No Data\",\"No Data\",\"No Data\",\"No Data\",55.01,\"No Data\",\"No Data\",\"No Data\",\"No Data\",\"No Data\",50.53,\"No Data\",\"No Data\",\"No Data\",\"No Data\",60.4,\"No Data\",73.09,37.39,\"No Data\",\"No Data\",\"No Data\",\"No Data\",49.21,\"No Data\",\"No Data\",\"No Data\"],\"zmax\":66.18300000000002,\"zmin\":32.636,\"type\":\"choropleth\"}],                        {\"geo\":{\"projection\":{\"type\":\"natural earth\"},\"showcoastlines\":false},\"margin\":{\"b\":0,\"l\":0,\"r\":0,\"t\":50},\"title\":{\"text\":\"Climate Change Protection Index\"},\"template\":{\"data\":{\"bar\":[{\"error_x\":{\"color\":\"#2a3f5f\"},\"error_y\":{\"color\":\"#2a3f5f\"},\"marker\":{\"line\":{\"color\":\"#E5ECF6\",\"width\":0.5},\"pattern\":{\"fillmode\":\"overlay\",\"size\":10,\"solidity\":0.2}},\"type\":\"bar\"}],\"barpolar\":[{\"marker\":{\"line\":{\"color\":\"#E5ECF6\",\"width\":0.5},\"pattern\":{\"fillmode\":\"overlay\",\"size\":10,\"solidity\":0.2}},\"type\":\"barpolar\"}],\"carpet\":[{\"aaxis\":{\"endlinecolor\":\"#2a3f5f\",\"gridcolor\":\"white\",\"linecolor\":\"white\",\"minorgridcolor\":\"white\",\"startlinecolor\":\"#2a3f5f\"},\"baxis\":{\"endlinecolor\":\"#2a3f5f\",\"gridcolor\":\"white\",\"linecolor\":\"white\",\"minorgridcolor\":\"white\",\"startlinecolor\":\"#2a3f5f\"},\"type\":\"carpet\"}],\"choropleth\":[{\"colorbar\":{\"outlinewidth\":0,\"ticks\":\"\"},\"type\":\"choropleth\"}],\"contour\":[{\"colorbar\":{\"outlinewidth\":0,\"ticks\":\"\"},\"colorscale\":[[0.0,\"#0d0887\"],[0.1111111111111111,\"#46039f\"],[0.2222222222222222,\"#7201a8\"],[0.3333333333333333,\"#9c179e\"],[0.4444444444444444,\"#bd3786\"],[0.5555555555555556,\"#d8576b\"],[0.6666666666666666,\"#ed7953\"],[0.7777777777777778,\"#fb9f3a\"],[0.8888888888888888,\"#fdca26\"],[1.0,\"#f0f921\"]],\"type\":\"contour\"}],\"contourcarpet\":[{\"colorbar\":{\"outlinewidth\":0,\"ticks\":\"\"},\"type\":\"contourcarpet\"}],\"heatmap\":[{\"colorbar\":{\"outlinewidth\":0,\"ticks\":\"\"},\"colorscale\":[[0.0,\"#0d0887\"],[0.1111111111111111,\"#46039f\"],[0.2222222222222222,\"#7201a8\"],[0.3333333333333333,\"#9c179e\"],[0.4444444444444444,\"#bd3786\"],[0.5555555555555556,\"#d8576b\"],[0.6666666666666666,\"#ed7953\"],[0.7777777777777778,\"#fb9f3a\"],[0.8888888888888888,\"#fdca26\"],[1.0,\"#f0f921\"]],\"type\":\"heatmap\"}],\"heatmapgl\":[{\"colorbar\":{\"outlinewidth\":0,\"ticks\":\"\"},\"colorscale\":[[0.0,\"#0d0887\"],[0.1111111111111111,\"#46039f\"],[0.2222222222222222,\"#7201a8\"],[0.3333333333333333,\"#9c179e\"],[0.4444444444444444,\"#bd3786\"],[0.5555555555555556,\"#d8576b\"],[0.6666666666666666,\"#ed7953\"],[0.7777777777777778,\"#fb9f3a\"],[0.8888888888888888,\"#fdca26\"],[1.0,\"#f0f921\"]],\"type\":\"heatmapgl\"}],\"histogram\":[{\"marker\":{\"pattern\":{\"fillmode\":\"overlay\",\"size\":10,\"solidity\":0.2}},\"type\":\"histogram\"}],\"histogram2d\":[{\"colorbar\":{\"outlinewidth\":0,\"ticks\":\"\"},\"colorscale\":[[0.0,\"#0d0887\"],[0.1111111111111111,\"#46039f\"],[0.2222222222222222,\"#7201a8\"],[0.3333333333333333,\"#9c179e\"],[0.4444444444444444,\"#bd3786\"],[0.5555555555555556,\"#d8576b\"],[0.6666666666666666,\"#ed7953\"],[0.7777777777777778,\"#fb9f3a\"],[0.8888888888888888,\"#fdca26\"],[1.0,\"#f0f921\"]],\"type\":\"histogram2d\"}],\"histogram2dcontour\":[{\"colorbar\":{\"outlinewidth\":0,\"ticks\":\"\"},\"colorscale\":[[0.0,\"#0d0887\"],[0.1111111111111111,\"#46039f\"],[0.2222222222222222,\"#7201a8\"],[0.3333333333333333,\"#9c179e\"],[0.4444444444444444,\"#bd3786\"],[0.5555555555555556,\"#d8576b\"],[0.6666666666666666,\"#ed7953\"],[0.7777777777777778,\"#fb9f3a\"],[0.8888888888888888,\"#fdca26\"],[1.0,\"#f0f921\"]],\"type\":\"histogram2dcontour\"}],\"mesh3d\":[{\"colorbar\":{\"outlinewidth\":0,\"ticks\":\"\"},\"type\":\"mesh3d\"}],\"parcoords\":[{\"line\":{\"colorbar\":{\"outlinewidth\":0,\"ticks\":\"\"}},\"type\":\"parcoords\"}],\"pie\":[{\"automargin\":true,\"type\":\"pie\"}],\"scatter\":[{\"marker\":{\"colorbar\":{\"outlinewidth\":0,\"ticks\":\"\"}},\"type\":\"scatter\"}],\"scatter3d\":[{\"line\":{\"colorbar\":{\"outlinewidth\":0,\"ticks\":\"\"}},\"marker\":{\"colorbar\":{\"outlinewidth\":0,\"ticks\":\"\"}},\"type\":\"scatter3d\"}],\"scattercarpet\":[{\"marker\":{\"colorbar\":{\"outlinewidth\":0,\"ticks\":\"\"}},\"type\":\"scattercarpet\"}],\"scattergeo\":[{\"marker\":{\"colorbar\":{\"outlinewidth\":0,\"ticks\":\"\"}},\"type\":\"scattergeo\"}],\"scattergl\":[{\"marker\":{\"colorbar\":{\"outlinewidth\":0,\"ticks\":\"\"}},\"type\":\"scattergl\"}],\"scattermapbox\":[{\"marker\":{\"colorbar\":{\"outlinewidth\":0,\"ticks\":\"\"}},\"type\":\"scattermapbox\"}],\"scatterpolar\":[{\"marker\":{\"colorbar\":{\"outlinewidth\":0,\"ticks\":\"\"}},\"type\":\"scatterpolar\"}],\"scatterpolargl\":[{\"marker\":{\"colorbar\":{\"outlinewidth\":0,\"ticks\":\"\"}},\"type\":\"scatterpolargl\"}],\"scatterternary\":[{\"marker\":{\"colorbar\":{\"outlinewidth\":0,\"ticks\":\"\"}},\"type\":\"scatterternary\"}],\"surface\":[{\"colorbar\":{\"outlinewidth\":0,\"ticks\":\"\"},\"colorscale\":[[0.0,\"#0d0887\"],[0.1111111111111111,\"#46039f\"],[0.2222222222222222,\"#7201a8\"],[0.3333333333333333,\"#9c179e\"],[0.4444444444444444,\"#bd3786\"],[0.5555555555555556,\"#d8576b\"],[0.6666666666666666,\"#ed7953\"],[0.7777777777777778,\"#fb9f3a\"],[0.8888888888888888,\"#fdca26\"],[1.0,\"#f0f921\"]],\"type\":\"surface\"}],\"table\":[{\"cells\":{\"fill\":{\"color\":\"#EBF0F8\"},\"line\":{\"color\":\"white\"}},\"header\":{\"fill\":{\"color\":\"#C8D4E3\"},\"line\":{\"color\":\"white\"}},\"type\":\"table\"}]},\"layout\":{\"annotationdefaults\":{\"arrowcolor\":\"#2a3f5f\",\"arrowhead\":0,\"arrowwidth\":1},\"autotypenumbers\":\"strict\",\"coloraxis\":{\"colorbar\":{\"outlinewidth\":0,\"ticks\":\"\"}},\"colorscale\":{\"diverging\":[[0,\"#8e0152\"],[0.1,\"#c51b7d\"],[0.2,\"#de77ae\"],[0.3,\"#f1b6da\"],[0.4,\"#fde0ef\"],[0.5,\"#f7f7f7\"],[0.6,\"#e6f5d0\"],[0.7,\"#b8e186\"],[0.8,\"#7fbc41\"],[0.9,\"#4d9221\"],[1,\"#276419\"]],\"sequential\":[[0.0,\"#0d0887\"],[0.1111111111111111,\"#46039f\"],[0.2222222222222222,\"#7201a8\"],[0.3333333333333333,\"#9c179e\"],[0.4444444444444444,\"#bd3786\"],[0.5555555555555556,\"#d8576b\"],[0.6666666666666666,\"#ed7953\"],[0.7777777777777778,\"#fb9f3a\"],[0.8888888888888888,\"#fdca26\"],[1.0,\"#f0f921\"]],\"sequentialminus\":[[0.0,\"#0d0887\"],[0.1111111111111111,\"#46039f\"],[0.2222222222222222,\"#7201a8\"],[0.3333333333333333,\"#9c179e\"],[0.4444444444444444,\"#bd3786\"],[0.5555555555555556,\"#d8576b\"],[0.6666666666666666,\"#ed7953\"],[0.7777777777777778,\"#fb9f3a\"],[0.8888888888888888,\"#fdca26\"],[1.0,\"#f0f921\"]]},\"colorway\":[\"#636efa\",\"#EF553B\",\"#00cc96\",\"#ab63fa\",\"#FFA15A\",\"#19d3f3\",\"#FF6692\",\"#B6E880\",\"#FF97FF\",\"#FECB52\"],\"font\":{\"color\":\"#2a3f5f\"},\"geo\":{\"bgcolor\":\"white\",\"lakecolor\":\"white\",\"landcolor\":\"#E5ECF6\",\"showlakes\":true,\"showland\":true,\"subunitcolor\":\"white\"},\"hoverlabel\":{\"align\":\"left\"},\"hovermode\":\"closest\",\"mapbox\":{\"style\":\"light\"},\"paper_bgcolor\":\"white\",\"plot_bgcolor\":\"#E5ECF6\",\"polar\":{\"angularaxis\":{\"gridcolor\":\"white\",\"linecolor\":\"white\",\"ticks\":\"\"},\"bgcolor\":\"#E5ECF6\",\"radialaxis\":{\"gridcolor\":\"white\",\"linecolor\":\"white\",\"ticks\":\"\"}},\"scene\":{\"xaxis\":{\"backgroundcolor\":\"#E5ECF6\",\"gridcolor\":\"white\",\"gridwidth\":2,\"linecolor\":\"white\",\"showbackground\":true,\"ticks\":\"\",\"zerolinecolor\":\"white\"},\"yaxis\":{\"backgroundcolor\":\"#E5ECF6\",\"gridcolor\":\"white\",\"gridwidth\":2,\"linecolor\":\"white\",\"showbackground\":true,\"ticks\":\"\",\"zerolinecolor\":\"white\"},\"zaxis\":{\"backgroundcolor\":\"#E5ECF6\",\"gridcolor\":\"white\",\"gridwidth\":2,\"linecolor\":\"white\",\"showbackground\":true,\"ticks\":\"\",\"zerolinecolor\":\"white\"}},\"shapedefaults\":{\"line\":{\"color\":\"#2a3f5f\"}},\"ternary\":{\"aaxis\":{\"gridcolor\":\"white\",\"linecolor\":\"white\",\"ticks\":\"\"},\"baxis\":{\"gridcolor\":\"white\",\"linecolor\":\"white\",\"ticks\":\"\"},\"bgcolor\":\"#E5ECF6\",\"caxis\":{\"gridcolor\":\"white\",\"linecolor\":\"white\",\"ticks\":\"\"}},\"title\":{\"x\":0.05},\"xaxis\":{\"automargin\":true,\"gridcolor\":\"white\",\"linecolor\":\"white\",\"ticks\":\"\",\"title\":{\"standoff\":15},\"zerolinecolor\":\"white\",\"zerolinewidth\":2},\"yaxis\":{\"automargin\":true,\"gridcolor\":\"white\",\"linecolor\":\"white\",\"ticks\":\"\",\"title\":{\"standoff\":15},\"zerolinecolor\":\"white\",\"zerolinewidth\":2}}}},                        {\"responsive\": true}                    ).then(function(){\n",
       "                            \n",
       "var gd = document.getElementById('f1483f28-d104-4a37-a2ed-64e297adca55');\n",
       "var x = new MutationObserver(function (mutations, observer) {{\n",
       "        var display = window.getComputedStyle(gd).display;\n",
       "        if (!display || display === 'none') {{\n",
       "            console.log([gd, 'removed!']);\n",
       "            Plotly.purge(gd);\n",
       "            observer.disconnect();\n",
       "        }}\n",
       "}});\n",
       "\n",
       "// Listen for the removal of the full notebook cells\n",
       "var notebookContainer = gd.closest('#notebook-container');\n",
       "if (notebookContainer) {{\n",
       "    x.observe(notebookContainer, {childList: true});\n",
       "}}\n",
       "\n",
       "// Listen for the clearing of the current output cell\n",
       "var outputEl = gd.closest('.output');\n",
       "if (outputEl) {{\n",
       "    x.observe(outputEl, {childList: true});\n",
       "}}\n",
       "\n",
       "                        })                };                });            </script>        </div>"
      ]
     },
     "metadata": {},
     "output_type": "display_data"
    }
   ],
   "source": [
    "ccpi_fig = go.Figure(\n",
    "    data=[\n",
    "        go.Choropleth( \n",
    "            locations=locations, \n",
    "            z=ccpi_emissions[\"score\"],  # Color values\n",
    "            zmin=get_min_bp(ccpi_emissions, \"score\"),\n",
    "            zmax=get_max_bp(ccpi_emissions, \"score\"),\n",
    "            # Setting template for custom data in hover text\n",
    "            hovertemplate=hovertemplate,\n",
    "            colorscale=\"RdYlGn\",\n",
    "            colorbar_title=\"Climate<br>Protection<br>Score\",\n",
    "            marker_line_width=0.1,\n",
    "            # Custom data that will be included in hover text\n",
    "            customdata=customdata\n",
    "        )\n",
    "    ],\n",
    "    layout=go.Layout(\n",
    "        title_text=\"Climate Change Protection Index\",\n",
    "        margin={\"r\":0,\"t\":50,\"l\":0,\"b\":0},\n",
    "        geo={\n",
    "            \"projection_type\": \"natural earth\",\n",
    "            \"showcoastlines\": False,\n",
    "            \n",
    "        }\n",
    "    )\n",
    ")\n",
    "\n",
    "ccpi_fig.show()"
   ]
  },
  {
   "cell_type": "markdown",
   "id": "ffcc15fe",
   "metadata": {},
   "source": [
    "## CO<sub>2</sub> Emissions"
   ]
  },
  {
   "cell_type": "code",
   "execution_count": 130,
   "id": "65750e6f",
   "metadata": {},
   "outputs": [],
   "source": [
    "# Setting up plotting variables\n",
    "locations_co2 = ccpi_emissions[\"iso_code\"]\n",
    "\n",
    "hovertemplate_co2 = \"<br>\".join([\n",
    "    \"%{customdata[0]} (%{customdata[1]})\", \n",
    "    \"CCPI Score: %{customdata[2]}\",\n",
    "    \"CCPI Rank: %{customdata[3]}\",\n",
    "    \"CO<sub>2</sub> Emissions per Capita: %{customdata[4]}\", \n",
    "    \"Global Share of CO<sub>2</sub> Emissions: %{customdata[5]}\",\n",
    "    \"Percent Growth of CO<sub>2</sub> Emissions: %{customdata[6]}\",\n",
    "    \"Primary CO<sub>2</sub> Emissions Source: %{customdata[7]}\",\n",
    "    \"<extra></extra>\"\n",
    "])\n",
    "\n",
    "customdata_co2 = ccpi_emissions[[\n",
    "    \"country\", \n",
    "    \"iso_code\", \n",
    "    \"score\", \n",
    "    \"rank\", \n",
    "    \"co2_per_capita\", \n",
    "    \"share_global_co2\", \n",
    "    \"co2_growth_prct\",\n",
    "    \"primary_co2_source\"\n",
    "]]"
   ]
  },
  {
   "cell_type": "code",
   "execution_count": 131,
   "id": "71351841",
   "metadata": {},
   "outputs": [
    {
     "data": {
      "application/vnd.plotly.v1+json": {
       "config": {
        "plotlyServerURL": "https://plot.ly"
       },
       "data": [
        {
         "colorbar": {
          "title": {
           "text": "CO<sub>2</sub><br>Emissions<br>per Capita"
          }
         },
         "colorscale": [
          [
           0,
           "rgb(165,0,38)"
          ],
          [
           0.1,
           "rgb(215,48,39)"
          ],
          [
           0.2,
           "rgb(244,109,67)"
          ],
          [
           0.3,
           "rgb(253,174,97)"
          ],
          [
           0.4,
           "rgb(254,224,139)"
          ],
          [
           0.5,
           "rgb(255,255,191)"
          ],
          [
           0.6,
           "rgb(217,239,139)"
          ],
          [
           0.7,
           "rgb(166,217,106)"
          ],
          [
           0.8,
           "rgb(102,189,99)"
          ],
          [
           0.9,
           "rgb(26,152,80)"
          ],
          [
           1,
           "rgb(0,104,55)"
          ]
         ],
         "customdata": [
          [
           "Afghanistan",
           "AFG",
           "No Data",
           "No Data",
           0.312,
           0.03,
           0.11,
           "Coal"
          ],
          [
           "Albania",
           "ALB",
           "No Data",
           "No Data",
           1.576,
           0.01,
           -6.76,
           "Oil"
          ],
          [
           "Algeria",
           "DZA",
           39.91,
           51,
           3.535,
           0.45,
           -6.99,
           "Gas"
          ],
          [
           "Andorra",
           "AND",
           "No Data",
           "No Data",
           6.035,
           0,
           -7.08,
           "Coal"
          ],
          [
           "Angola",
           "AGO",
           "No Data",
           "No Data",
           0.675,
           0.06,
           -5.49,
           "Coal"
          ],
          [
           "Anguilla",
           "AIA",
           "No Data",
           "No Data",
           8.227,
           0,
           -11.51,
           "Coal"
          ],
          [
           "Antarctica",
           "ATA",
           "No Data",
           "No Data",
           "No Data",
           "No Data",
           0,
           "Coal"
          ],
          [
           "Antigua and Barbuda",
           "ATG",
           "No Data",
           "No Data",
           4.395,
           0,
           -11.51,
           "Coal"
          ],
          [
           "Argentina",
           "ARG",
           47.08,
           44,
           3.473,
           0.45,
           -6.32,
           "Gas"
          ],
          [
           "Armenia",
           "ARM",
           "No Data",
           "No Data",
           1.988,
           0.02,
           6.54,
           "Gas"
          ],
          [
           "Aruba",
           "ABW",
           "No Data",
           "No Data",
           7.055,
           0,
           -11.51,
           "Coal"
          ],
          [
           "Australia",
           "AUS",
           30.06,
           56,
           15.368,
           1.13,
           -5.46,
           "Coal"
          ],
          [
           "Austria",
           "AUT",
           52.35,
           34,
           6.732,
           0.17,
           -10.78,
           "Oil"
          ],
          [
           "Azerbaijan",
           "AZE",
           "No Data",
           "No Data",
           3.72,
           0.11,
           -2.59,
           "Gas"
          ],
          [
           "Bahamas",
           "BHS",
           "No Data",
           "No Data",
           5.945,
           0.01,
           -11.38,
           "Oil"
          ],
          [
           "Bahrain",
           "BHR",
           "No Data",
           "No Data",
           20.546,
           0.1,
           1.51,
           "Coal"
          ],
          [
           "Bangladesh",
           "BGD",
           "No Data",
           "No Data",
           0.564,
           0.27,
           -1.46,
           "Gas"
          ],
          [
           "Barbados",
           "BRB",
           "No Data",
           "No Data",
           3.782,
           0,
           -10.58,
           "Coal"
          ],
          [
           "Belarus",
           "BLR",
           46.66,
           45,
           6.079,
           0.17,
           -5.86,
           "Gas"
          ],
          [
           "Belgium",
           "BEL",
           45.9,
           46,
           7.226,
           0.24,
           -16.04,
           "Gas"
          ],
          [
           "Belize",
           "BLZ",
           "No Data",
           "No Data",
           1.466,
           0,
           -11.48,
           "Coal"
          ],
          [
           "Benin",
           "BEN",
           "No Data",
           "No Data",
           0.553,
           0.02,
           -8.37,
           "Coal"
          ],
          [
           "Bermuda",
           "BMU",
           "No Data",
           "No Data",
           10.028,
           0,
           -10.54,
           "Oil"
          ],
          [
           "Bhutan",
           "BTN",
           "No Data",
           "No Data",
           2.495,
           0.01,
           -0.11,
           "Coal"
          ],
          [
           "Bolivia",
           "BOL",
           "No Data",
           "No Data",
           1.773,
           0.06,
           -13.2,
           "Oil"
          ],
          [
           "Bonaire Sint Eustatius and Saba",
           "BES",
           "No Data",
           "No Data",
           11.466,
           0,
           -11.51,
           "Coal"
          ],
          [
           "Bosnia and Herzegovina",
           "BIH",
           "No Data",
           "No Data",
           6.528,
           0.06,
           -13.8,
           "Coal"
          ],
          [
           "Botswana",
           "BWA",
           "No Data",
           "No Data",
           2.772,
           0.02,
           -5.86,
           "Coal"
          ],
          [
           "Brazil",
           "BRA",
           54.86,
           30,
           2.199,
           1.34,
           -3.79,
           "Oil"
          ],
          [
           "British Virgin Islands",
           "VGB",
           "No Data",
           "No Data",
           4.605,
           0,
           -11.51,
           "Coal"
          ],
          [
           "Brunei",
           "BRN",
           "No Data",
           "No Data",
           23.22,
           0.03,
           2.01,
           "Coal"
          ],
          [
           "Bulgaria",
           "BGR",
           48.71,
           41,
           5.389,
           0.11,
           -11.32,
           "Coal"
          ],
          [
           "Burkina Faso",
           "BFA",
           "No Data",
           "No Data",
           0.19,
           0.01,
           -8.45,
           "Coal"
          ],
          [
           "Burundi",
           "BDI",
           "No Data",
           "No Data",
           0.051,
           0,
           -14.47,
           "Oil"
          ],
          [
           "Cambodia",
           "KHM",
           "No Data",
           "No Data",
           0.917,
           0.04,
           -0.02,
           "Oil"
          ],
          [
           "Cameroon",
           "CMR",
           "No Data",
           "No Data",
           0.26,
           0.02,
           -6.88,
           "Coal"
          ],
          [
           "Canada",
           "CAN",
           26.03,
           58,
           14.197,
           1.54,
           -8,
           "Oil"
          ],
          [
           "Cape Verde",
           "CPV",
           "No Data",
           "No Data",
           0.989,
           0,
           -8.69,
           "Coal"
          ],
          [
           "Central African Republic",
           "CAF",
           "No Data",
           "No Data",
           0.039,
           0,
           -10.71,
           "Coal"
          ],
          [
           "Chad",
           "TCD",
           "No Data",
           "No Data",
           0.056,
           0,
           -9.26,
           "Coal"
          ],
          [
           "Chile",
           "CHL",
           "No Data",
           "No Data",
           4.246,
           0.23,
           -5.76,
           "Oil"
          ],
          [
           "China",
           "CHN",
           52.2,
           35,
           7.412,
           30.65,
           1.7,
           "Coal"
          ],
          [
           "Christmas Island",
           "CXR",
           "No Data",
           "No Data",
           "No Data",
           "No Data",
           0,
           "Coal"
          ],
          [
           "Colombia",
           "COL",
           57.87,
           22,
           1.751,
           0.26,
           -1.45,
           "Oil"
          ],
          [
           "Comoros",
           "COM",
           "No Data",
           "No Data",
           0.297,
           0,
           -15.49,
           "Coal"
          ],
          [
           "Congo",
           "COG",
           "No Data",
           "No Data",
           0.565,
           0.01,
           -5.3,
           "Coal"
          ],
          [
           "Cook Islands",
           "COK",
           "No Data",
           "No Data",
           4.522,
           0,
           0.14,
           "Coal"
          ],
          [
           "Costa Rica",
           "CRI",
           "No Data",
           "No Data",
           1.552,
           0.02,
           -10.33,
           "Coal"
          ],
          [
           "Cote d'Ivoire",
           "CIV",
           "No Data",
           "No Data",
           0.382,
           0.03,
           -3.9,
           "Coal"
          ],
          [
           "Croatia",
           "HRV",
           55.96,
           26,
           4.137,
           0.05,
           -4.48,
           "Oil"
          ],
          [
           "Cuba",
           "CUB",
           "No Data",
           "No Data",
           1.779,
           0.06,
           -10.53,
           "Oil"
          ],
          [
           "Curacao",
           "CUW",
           "No Data",
           "No Data",
           20.323,
           0.01,
           -11.33,
           "Coal"
          ],
          [
           "Cyprus",
           "CYP",
           50.52,
           39,
           5.38,
           0.02,
           -11.5,
           "Oil"
          ],
          [
           "Czechia",
           "CZE",
           42.15,
           48,
           8.215,
           0.25,
           -12.73,
           "Coal"
          ],
          [
           "Democratic Republic of Congo",
           "COD",
           "No Data",
           "No Data",
           0.028,
           0.01,
           -7.86,
           "Coal"
          ],
          [
           "Denmark",
           "DNK",
           76.67,
           1,
           4.522,
           0.08,
           -15.22,
           "Oil"
          ],
          [
           "Djibouti",
           "DJI",
           "No Data",
           "No Data",
           0.356,
           0,
           -12.66,
           "Coal"
          ],
          [
           "Dominica",
           "DMA",
           "No Data",
           "No Data",
           1.934,
           0,
           -11.51,
           "Coal"
          ],
          [
           "Dominican Republic",
           "DOM",
           "No Data",
           "No Data",
           2.56,
           0.08,
           0.91,
           "Oil"
          ],
          [
           "Ecuador",
           "ECU",
           "No Data",
           "No Data",
           1.753,
           0.09,
           -15.85,
           "Coal"
          ],
          [
           "Egypt",
           "EGY",
           59.74,
           18,
           2.086,
           0.61,
           -5.5,
           "Gas"
          ],
          [
           "El Salvador",
           "SLV",
           "No Data",
           "No Data",
           0.944,
           0.02,
           -10.64,
           "Oil"
          ],
          [
           "Equatorial Guinea",
           "GNQ",
           "No Data",
           "No Data",
           7.317,
           0.03,
           -0.04,
           "Coal"
          ],
          [
           "Eritrea",
           "ERI",
           "No Data",
           "No Data",
           0.204,
           0,
           -13.48,
           "Coal"
          ],
          [
           "Estonia",
           "EST",
           54.98,
           29,
           7.88,
           0.03,
           -15.57,
           "Coal"
          ],
          [
           "Eswatini",
           "SWZ",
           "No Data",
           "No Data",
           0.824,
           0,
           -5.64,
           "Oil"
          ],
          [
           "Ethiopia",
           "ETH",
           "No Data",
           "No Data",
           0.128,
           0.04,
           -10.42,
           "Oil"
          ],
          [
           "Faeroe Islands",
           "FRO",
           "No Data",
           "No Data",
           13.996,
           0,
           -7.08,
           "Coal"
          ],
          [
           "Fiji",
           "FJI",
           "No Data",
           "No Data",
           1.554,
           0,
           0.13,
           "Coal"
          ],
          [
           "Finland",
           "FIN",
           62.41,
           11,
           7.091,
           0.11,
           -7.66,
           "Oil"
          ],
          [
           "France",
           "FRA",
           61.01,
           14,
           4.238,
           0.79,
           -12.44,
           "Oil"
          ],
          [
           "French Guiana",
           "GUF",
           "No Data",
           "No Data",
           2.439,
           0,
           0,
           "Coal"
          ],
          [
           "French Polynesia",
           "PYF",
           "No Data",
           "No Data",
           2.949,
           0,
           0.14,
           "Coal"
          ],
          [
           "Gabon",
           "GAB",
           "No Data",
           "No Data",
           1.931,
           0.01,
           -4.22,
           "Coal"
          ],
          [
           "Gambia",
           "GMB",
           "No Data",
           "No Data",
           0.207,
           0,
           -8.6,
           "Coal"
          ],
          [
           "Georgia",
           "GEO",
           "No Data",
           "No Data",
           2.499,
           0.03,
           -4.89,
           "Gas"
          ],
          [
           "Germany",
           "DEU",
           63.53,
           10,
           7.69,
           1.85,
           -9.43,
           "Oil"
          ],
          [
           "Ghana",
           "GHA",
           "No Data",
           "No Data",
           0.515,
           0.05,
           -5.42,
           "Coal"
          ],
          [
           "Greece",
           "GRC",
           58.22,
           21,
           5.012,
           0.15,
           -20.54,
           "Oil"
          ],
          [
           "Greenland",
           "GRL",
           "No Data",
           "No Data",
           9.061,
           0,
           -7.08,
           "Coal"
          ],
          [
           "Grenada",
           "GRD",
           "No Data",
           "No Data",
           2.62,
           0,
           -11.27,
           "Coal"
          ],
          [
           "Guadeloupe",
           "GLP",
           "No Data",
           "No Data",
           6.403,
           0.01,
           0,
           "Oil"
          ],
          [
           "Guatemala",
           "GTM",
           "No Data",
           "No Data",
           1.057,
           0.05,
           -13.66,
           "Oil"
          ],
          [
           "Guinea",
           "GIN",
           "No Data",
           "No Data",
           0.258,
           0.01,
           -8.69,
           "Coal"
          ],
          [
           "Guinea-Bissau",
           "GNB",
           "No Data",
           "No Data",
           0.146,
           0,
           -8.69,
           "Coal"
          ],
          [
           "Guyana",
           "GUY",
           "No Data",
           "No Data",
           2.813,
           0.01,
           -11.01,
           "Coal"
          ],
          [
           "Haiti",
           "HTI",
           "No Data",
           "No Data",
           0.256,
           0.01,
           -11.23,
           "Coal"
          ],
          [
           "Honduras",
           "HND",
           "No Data",
           "No Data",
           0.975,
           0.03,
           -10.47,
           "Coal"
          ],
          [
           "Hong Kong",
           "HKG",
           "No Data",
           "No Data",
           4.167,
           0.09,
           -25.25,
           "Coal"
          ],
          [
           "Hungary",
           "HUN",
           40.41,
           50,
           4.997,
           0.14,
           -1.64,
           "Gas"
          ],
          [
           "Iceland",
           "ISL",
           "No Data",
           "No Data",
           8.604,
           0.01,
           -17.31,
           "Oil"
          ],
          [
           "India",
           "IND",
           69.2,
           7,
           1.769,
           7.02,
           -7.01,
           "Coal"
          ],
          [
           "Indonesia",
           "IDN",
           57.17,
           24,
           2.155,
           1.69,
           -10.76,
           "Coal"
          ],
          [
           "Iran",
           "IRN",
           25.66,
           59,
           8.87,
           2.14,
           1.59,
           "Gas"
          ],
          [
           "Iraq",
           "IRQ",
           "No Data",
           "No Data",
           5.242,
           0.61,
           -5.45,
           "Coal"
          ],
          [
           "Ireland",
           "IRL",
           47.86,
           43,
           6.754,
           0.1,
           -10.53,
           "Oil"
          ],
          [
           "Israel",
           "ISR",
           "No Data",
           "No Data",
           6.51,
           0.16,
           -9.68,
           "Oil"
          ],
          [
           "Italy",
           "ITA",
           55.39,
           27,
           5.025,
           0.87,
           -10.58,
           "Gas"
          ],
          [
           "Jamaica",
           "JAM",
           "No Data",
           "No Data",
           2.509,
           0.02,
           -7.65,
           "Oil"
          ],
          [
           "Japan",
           "JPN",
           48.53,
           42,
           8.15,
           2.96,
           -6.8,
           "Coal"
          ],
          [
           "Jordan",
           "JOR",
           "No Data",
           "No Data",
           2.498,
           0.07,
           -1,
           "Oil"
          ],
          [
           "Kazakhstan",
           "KAZ",
           19.23,
           61,
           15.516,
           0.84,
           -1.53,
           "Coal"
          ],
          [
           "Kenya",
           "KEN",
           "No Data",
           "No Data",
           0.3,
           0.05,
           -12,
           "Oil"
          ],
          [
           "Kiribati",
           "KIR",
           "No Data",
           "No Data",
           0.57,
           0,
           0.14,
           "Coal"
          ],
          [
           "Kosovo",
           "OWID_KOS",
           "No Data",
           "No Data",
           "No Data",
           0.02,
           -13.29,
           "Coal"
          ],
          [
           "Kuwait",
           "KWT",
           "No Data",
           "No Data",
           20.825,
           0.26,
           -7.98,
           "Coal"
          ],
          [
           "Kyrgyzstan",
           "KGZ",
           "No Data",
           "No Data",
           1.764,
           0.03,
           4.45,
           "Oil"
          ],
          [
           "Laos",
           "LAO",
           "No Data",
           "No Data",
           4.652,
           0.1,
           -0.25,
           "Coal"
          ],
          [
           "Latvia",
           "LVA",
           57.73,
           23,
           3.591,
           0.02,
           -11.45,
           "Oil"
          ],
          [
           "Lebanon",
           "LBN",
           "No Data",
           "No Data",
           3.805,
           0.07,
           -2.58,
           "Oil"
          ],
          [
           "Lesotho",
           "LSO",
           "No Data",
           "No Data",
           1.019,
           0.01,
           -5.93,
           "Coal"
          ],
          [
           "Liberia",
           "LBR",
           "No Data",
           "No Data",
           0.2,
           0,
           -7.72,
           "Coal"
          ],
          [
           "Libya",
           "LBY",
           "No Data",
           "No Data",
           7.382,
           0.15,
           -6.95,
           "Coal"
          ],
          [
           "Liechtenstein",
           "LIE",
           "No Data",
           "No Data",
           3.698,
           0,
           -4.98,
           "Coal"
          ],
          [
           "Lithuania",
           "LTU",
           64.89,
           8,
           5.069,
           0.04,
           -0.89,
           "Oil"
          ],
          [
           "Luxembourg",
           "LUX",
           60.8,
           15,
           13.059,
           0.02,
           -16.18,
           "Oil"
          ],
          [
           "Madagascar",
           "MDG",
           "No Data",
           "No Data",
           0.133,
           0.01,
           -9.14,
           "Oil"
          ],
          [
           "Malawi",
           "MWI",
           "No Data",
           "No Data",
           0.073,
           0,
           -12.18,
           "Oil"
          ],
          [
           "Malaysia",
           "MYS",
           33.74,
           54,
           8.423,
           0.78,
           -2.17,
           "Coal"
          ],
          [
           "Maldives",
           "MDV",
           "No Data",
           "No Data",
           3.324,
           0.01,
           0.14,
           "Coal"
          ],
          [
           "Mali",
           "MLI",
           "No Data",
           "No Data",
           0.167,
           0.01,
           -8.08,
           "Coal"
          ],
          [
           "Malta",
           "MLT",
           64.18,
           9,
           3.612,
           0,
           -4.45,
           "Oil"
          ],
          [
           "Marshall Islands",
           "MHL",
           "No Data",
           "No Data",
           2.556,
           0,
           0.14,
           "Coal"
          ],
          [
           "Martinique",
           "MTQ",
           "No Data",
           "No Data",
           6.258,
           0.01,
           0,
           "Coal"
          ],
          [
           "Mauritania",
           "MRT",
           "No Data",
           "No Data",
           0.726,
           0.01,
           -8.69,
           "Coal"
          ],
          [
           "Mauritius",
           "MUS",
           "No Data",
           "No Data",
           3.129,
           0.01,
           -9.11,
           "Oil"
          ],
          [
           "Mayotte",
           "MYT",
           "No Data",
           "No Data",
           1.12,
           0,
           0,
           "Coal"
          ],
          [
           "Mexico",
           "MEX",
           56.05,
           25,
           2.769,
           1.03,
           -18.03,
           "Oil"
          ],
          [
           "Moldova",
           "MDA",
           "No Data",
           "No Data",
           1.276,
           0.01,
           -0.18,
           "Oil"
          ],
          [
           "Mongolia",
           "MNG",
           "No Data",
           "No Data",
           26.978,
           0.25,
           -0.28,
           "Coal"
          ],
          [
           "Montenegro",
           "MNE",
           "No Data",
           "No Data",
           3.678,
           0.01,
           -12.67,
           "Coal"
          ],
          [
           "Montserrat",
           "MSR",
           "No Data",
           "No Data",
           5.065,
           0,
           -11.51,
           "Coal"
          ],
          [
           "Morocco",
           "MAR",
           71.6,
           5,
           1.748,
           0.19,
           -5.4,
           "Oil"
          ],
          [
           "Mozambique",
           "MOZ",
           "No Data",
           "No Data",
           0.21,
           0.02,
           -9.83,
           "Oil"
          ],
          [
           "Myanmar",
           "MMR",
           "No Data",
           "No Data",
           0.668,
           0.1,
           0.77,
           "Oil"
          ],
          [
           "Namibia",
           "NAM",
           "No Data",
           "No Data",
           1.526,
           0.01,
           -5.02,
           "Oil"
          ],
          [
           "Nauru",
           "NRU",
           "No Data",
           "No Data",
           5.236,
           0,
           0.14,
           "Coal"
          ],
          [
           "Nepal",
           "NPL",
           "No Data",
           "No Data",
           0.582,
           0.05,
           -0.05,
           "Oil"
          ],
          [
           "Netherlands",
           "NLD",
           60.44,
           16,
           8.06,
           0.4,
           -10.09,
           "Gas"
          ],
          [
           "New Caledonia",
           "NCL",
           "No Data",
           "No Data",
           30.448,
           0.02,
           -0.16,
           "Coal"
          ],
          [
           "New Zealand",
           "NZL",
           54.03,
           32,
           6.942,
           0.1,
           -10.72,
           "Oil"
          ],
          [
           "Nicaragua",
           "NIC",
           "No Data",
           "No Data",
           0.766,
           0.01,
           -10.57,
           "Coal"
          ],
          [
           "Niger",
           "NER",
           "No Data",
           "No Data",
           0.07,
           0,
           -8.79,
           "Oil"
          ],
          [
           "Nigeria",
           "NGA",
           "No Data",
           "No Data",
           0.609,
           0.36,
           -3.57,
           "Oil"
          ],
          [
           "Niue",
           "NIU",
           "No Data",
           "No Data",
           7.012,
           0,
           0.14,
           "Coal"
          ],
          [
           "North Korea",
           "PRK",
           "No Data",
           "No Data",
           1.137,
           0.08,
           -0.23,
           "Coal"
          ],
          [
           "North Macedonia",
           "MKD",
           "No Data",
           "No Data",
           3.43,
           0.02,
           -10.38,
           "Coal"
          ],
          [
           "Norway",
           "NOR",
           73.29,
           3,
           7.615,
           0.12,
           -3.69,
           "Oil"
          ],
          [
           "Oman",
           "OMN",
           "No Data",
           "No Data",
           12.173,
           0.18,
           2.31,
           "Coal"
          ],
          [
           "Pakistan",
           "PAK",
           "No Data",
           "No Data",
           1.063,
           0.67,
           0.2,
           "Oil"
          ],
          [
           "Palau",
           "PLW",
           "No Data",
           "No Data",
           12.125,
           0,
           0.14,
           "Coal"
          ],
          [
           "Palestine",
           "PSE",
           "No Data",
           "No Data",
           0.568,
           0.01,
           -2.92,
           "Coal"
          ],
          [
           "Panama",
           "PAN",
           "No Data",
           "No Data",
           2.498,
           0.03,
           -12.32,
           "Oil"
          ],
          [
           "Papua New Guinea",
           "PNG",
           "No Data",
           "No Data",
           0.744,
           0.02,
           0.52,
           "Coal"
          ],
          [
           "Paraguay",
           "PRY",
           "No Data",
           "No Data",
           1.061,
           0.02,
           -11.2,
           "Oil"
          ],
          [
           "Peru",
           "PER",
           "No Data",
           "No Data",
           1.356,
           0.13,
           -18.68,
           "Oil"
          ],
          [
           "Philippines",
           "PHL",
           58.98,
           20,
           1.241,
           0.39,
           -7.23,
           "Coal"
          ],
          [
           "Poland",
           "POL",
           40.63,
           49,
           7.916,
           0.86,
           -6.24,
           "Coal"
          ],
          [
           "Portugal",
           "PRT",
           61.11,
           13,
           3.961,
           0.12,
           -15.2,
           "Oil"
          ],
          [
           "Puerto Rico",
           "PRI",
           "No Data",
           "No Data",
           "No Data",
           "No Data",
           0,
           "Coal"
          ],
          [
           "Qatar",
           "QAT",
           "No Data",
           "No Data",
           37.019,
           0.31,
           -7.29,
           "Coal"
          ],
          [
           "Romania",
           "ROU",
           52.43,
           33,
           3.715,
           0.21,
           -4.5,
           "Oil"
          ],
          [
           "Russia",
           "RUS",
           34.73,
           53,
           10.807,
           4.53,
           -6.09,
           "Gas"
          ],
          [
           "Rwanda",
           "RWA",
           "No Data",
           "No Data",
           0.08,
           0,
           -13.03,
           "Oil"
          ],
          [
           "Saint Helena",
           "SHN",
           "No Data",
           "No Data",
           1.564,
           0,
           -11.51,
           "Coal"
          ],
          [
           "Saint Kitts and Nevis",
           "KNA",
           "No Data",
           "No Data",
           3.986,
           0,
           -11.51,
           "Coal"
          ],
          [
           "Saint Lucia",
           "LCA",
           "No Data",
           "No Data",
           2.396,
           0,
           -11.51,
           "Coal"
          ],
          [
           "Saint Pierre and Miquelon",
           "SPM",
           "No Data",
           "No Data",
           8.738,
           0,
           -11.51,
           "Coal"
          ],
          [
           "Saint Vincent and the Grenadines",
           "VCT",
           "No Data",
           "No Data",
           1.883,
           0,
           -11.51,
           "Coal"
          ],
          [
           "Samoa",
           "WSM",
           "No Data",
           "No Data",
           1.239,
           0,
           0.14,
           "Coal"
          ],
          [
           "Sao Tome and Principe",
           "STP",
           "No Data",
           "No Data",
           0.514,
           0,
           -10.71,
           "Coal"
          ],
          [
           "Saudi Arabia",
           "SAU",
           24.25,
           60,
           17.967,
           1.8,
           0.5,
           "Coal"
          ],
          [
           "Senegal",
           "SEN",
           "No Data",
           "No Data",
           0.624,
           0.03,
           -7.23,
           "Oil"
          ],
          [
           "Serbia",
           "SRB",
           "No Data",
           "No Data",
           4.937,
           0.12,
           -12.57,
           "Coal"
          ],
          [
           "Seychelles",
           "SYC",
           "No Data",
           "No Data",
           4.994,
           0,
           -15.49,
           "Coal"
          ],
          [
           "Sierra Leone",
           "SLE",
           "No Data",
           "No Data",
           0.11,
           0,
           -8.69,
           "Coal"
          ],
          [
           "Singapore",
           "SGP",
           "No Data",
           "No Data",
           7.778,
           0.13,
           -0.44,
           "Oil"
          ],
          [
           "Sint Maarten (Dutch part)",
           "SXM",
           "No Data",
           "No Data",
           14.539,
           0,
           -11.51,
           "Coal"
          ],
          [
           "Slovakia",
           "SVK",
           50.67,
           37,
           5.629,
           0.09,
           -9.01,
           "Oil"
          ],
          [
           "Slovenia",
           "SVN",
           43.28,
           47,
           6.043,
           0.04,
           -10.3,
           "Oil"
          ],
          [
           "Solomon Islands",
           "SLB",
           "No Data",
           "No Data",
           0.435,
           0,
           0.14,
           "Coal"
          ],
          [
           "Somalia",
           "SOM",
           "No Data",
           "No Data",
           0.035,
           0,
           -15.49,
           "Coal"
          ],
          [
           "South Africa",
           "ZAF",
           51.13,
           36,
           7.62,
           1.3,
           -5.04,
           "Coal"
          ],
          [
           "South Korea",
           "KOR",
           26.74,
           57,
           11.656,
           1.72,
           -7.78,
           "Coal"
          ],
          [
           "South Sudan",
           "SSD",
           "No Data",
           "No Data",
           0.105,
           0,
           -15.49,
           "Coal"
          ],
          [
           "Spain",
           "ESP",
           54.35,
           31,
           4.468,
           0.6,
           -16.93,
           "Oil"
          ],
          [
           "Sri Lanka",
           "LKA",
           "No Data",
           "No Data",
           0.986,
           0.06,
           -7.53,
           "Oil"
          ],
          [
           "Sudan",
           "SDN",
           "No Data",
           "No Data",
           0.43,
           0.05,
           -14.4,
           "Coal"
          ],
          [
           "Suriname",
           "SUR",
           "No Data",
           "No Data",
           3.791,
           0.01,
           -11.75,
           "Coal"
          ],
          [
           "Sweden",
           "SWE",
           74.22,
           2,
           3.826,
           0.11,
           -5.62,
           "Oil"
          ],
          [
           "Switzerland",
           "CHE",
           61.7,
           12,
           3.732,
           0.09,
           -12.09,
           "Oil"
          ],
          [
           "Syria",
           "SYR",
           "No Data",
           "No Data",
           1.745,
           0.09,
           -1.54,
           "Oil"
          ],
          [
           "Taiwan",
           "TWN",
           "No Data",
           "No Data",
           11.47,
           0.78,
           -0.78,
           "Coal"
          ],
          [
           "Tajikistan",
           "TJK",
           "No Data",
           "No Data",
           0.991,
           0.03,
           9.42,
           "Coal"
          ],
          [
           "Tanzania",
           "TZA",
           "No Data",
           "No Data",
           0.183,
           0.03,
           -9.17,
           "Oil"
          ],
          [
           "Thailand",
           "THA",
           55.01,
           28,
           3.693,
           0.74,
           -5.1,
           "Oil"
          ],
          [
           "Timor",
           "TLS",
           "No Data",
           "No Data",
           0.399,
           0,
           0.14,
           "Coal"
          ],
          [
           "Togo",
           "TGO",
           "No Data",
           "No Data",
           0.265,
           0.01,
           -4.93,
           "Coal"
          ],
          [
           "Tonga",
           "TON",
           "No Data",
           "No Data",
           1.36,
           0,
           0.14,
           "Coal"
          ],
          [
           "Trinidad and Tobago",
           "TTO",
           "No Data",
           "No Data",
           25.373,
           0.1,
           -12.06,
           "Coal"
          ],
          [
           "Tunisia",
           "TUN",
           "No Data",
           "No Data",
           2.38,
           0.08,
           -6.28,
           "Coal"
          ],
          [
           "Turkey",
           "TUR",
           50.53,
           38,
           4.657,
           1.13,
           -1.64,
           "Coal"
          ],
          [
           "Turkmenistan",
           "TKM",
           "No Data",
           "No Data",
           12.491,
           0.22,
           -1.29,
           "Coal"
          ],
          [
           "Turks and Caicos Islands",
           "TCA",
           "No Data",
           "No Data",
           5.231,
           0,
           -11.51,
           "Coal"
          ],
          [
           "Tuvalu",
           "TUV",
           "No Data",
           "No Data",
           0.642,
           0,
           0.15,
           "Coal"
          ],
          [
           "Uganda",
           "UGA",
           "No Data",
           "No Data",
           0.107,
           0.01,
           -14.48,
           "Coal"
          ],
          [
           "Ukraine",
           "UKR",
           60.4,
           17,
           4.891,
           0.61,
           -3.9,
           "Coal"
          ],
          [
           "United Arab Emirates",
           "ARE",
           "No Data",
           "No Data",
           15.193,
           0.43,
           -2.54,
           "Gas"
          ],
          [
           "United Kingdom",
           "GBR",
           73.09,
           4,
           4.855,
           0.95,
           -10.69,
           "Gas"
          ],
          [
           "United States",
           "USA",
           37.39,
           52,
           14.238,
           13.54,
           -10.33,
           "Oil"
          ],
          [
           "Uruguay",
           "URY",
           "No Data",
           "No Data",
           1.681,
           0.02,
           -11.3,
           "Oil"
          ],
          [
           "Uzbekistan",
           "UZB",
           "No Data",
           "No Data",
           3.37,
           0.32,
           -1.24,
           "Gas"
          ],
          [
           "Vanuatu",
           "VUT",
           "No Data",
           "No Data",
           0.591,
           0,
           0.14,
           "Coal"
          ],
          [
           "Venezuela",
           "VEN",
           "No Data",
           "No Data",
           2.975,
           0.24,
           -14.69,
           "Flaring"
          ],
          [
           "Vietnam",
           "VNM",
           49.21,
           40,
           2.613,
           0.73,
           -2.31,
           "Coal"
          ],
          [
           "Yemen",
           "YEM",
           "No Data",
           "No Data",
           0.328,
           0.03,
           -2.52,
           "Oil"
          ],
          [
           "Zambia",
           "ZMB",
           "No Data",
           "No Data",
           0.358,
           0.02,
           -6.73,
           "Oil"
          ],
          [
           "Zimbabwe",
           "ZWE",
           "No Data",
           "No Data",
           0.709,
           0.03,
           -3.82,
           "Coal"
          ]
         ],
         "hovertemplate": "%{customdata[0]} (%{customdata[1]})<br>CCPI Score: %{customdata[2]}<br>CCPI Rank: %{customdata[3]}<br>CO<sub>2</sub> Emissions per Capita: %{customdata[4]}<br>Global Share of CO<sub>2</sub> Emissions: %{customdata[5]}<br>Percent Growth of CO<sub>2</sub> Emissions: %{customdata[6]}<br>Primary CO<sub>2</sub> Emissions Source: %{customdata[7]}<br><extra></extra>",
         "locations": [
          "AFG",
          "ALB",
          "DZA",
          "AND",
          "AGO",
          "AIA",
          "ATA",
          "ATG",
          "ARG",
          "ARM",
          "ABW",
          "AUS",
          "AUT",
          "AZE",
          "BHS",
          "BHR",
          "BGD",
          "BRB",
          "BLR",
          "BEL",
          "BLZ",
          "BEN",
          "BMU",
          "BTN",
          "BOL",
          "BES",
          "BIH",
          "BWA",
          "BRA",
          "VGB",
          "BRN",
          "BGR",
          "BFA",
          "BDI",
          "KHM",
          "CMR",
          "CAN",
          "CPV",
          "CAF",
          "TCD",
          "CHL",
          "CHN",
          "CXR",
          "COL",
          "COM",
          "COG",
          "COK",
          "CRI",
          "CIV",
          "HRV",
          "CUB",
          "CUW",
          "CYP",
          "CZE",
          "COD",
          "DNK",
          "DJI",
          "DMA",
          "DOM",
          "ECU",
          "EGY",
          "SLV",
          "GNQ",
          "ERI",
          "EST",
          "SWZ",
          "ETH",
          "FRO",
          "FJI",
          "FIN",
          "FRA",
          "GUF",
          "PYF",
          "GAB",
          "GMB",
          "GEO",
          "DEU",
          "GHA",
          "GRC",
          "GRL",
          "GRD",
          "GLP",
          "GTM",
          "GIN",
          "GNB",
          "GUY",
          "HTI",
          "HND",
          "HKG",
          "HUN",
          "ISL",
          "IND",
          "IDN",
          "IRN",
          "IRQ",
          "IRL",
          "ISR",
          "ITA",
          "JAM",
          "JPN",
          "JOR",
          "KAZ",
          "KEN",
          "KIR",
          "OWID_KOS",
          "KWT",
          "KGZ",
          "LAO",
          "LVA",
          "LBN",
          "LSO",
          "LBR",
          "LBY",
          "LIE",
          "LTU",
          "LUX",
          "MDG",
          "MWI",
          "MYS",
          "MDV",
          "MLI",
          "MLT",
          "MHL",
          "MTQ",
          "MRT",
          "MUS",
          "MYT",
          "MEX",
          "MDA",
          "MNG",
          "MNE",
          "MSR",
          "MAR",
          "MOZ",
          "MMR",
          "NAM",
          "NRU",
          "NPL",
          "NLD",
          "NCL",
          "NZL",
          "NIC",
          "NER",
          "NGA",
          "NIU",
          "PRK",
          "MKD",
          "NOR",
          "OMN",
          "PAK",
          "PLW",
          "PSE",
          "PAN",
          "PNG",
          "PRY",
          "PER",
          "PHL",
          "POL",
          "PRT",
          "PRI",
          "QAT",
          "ROU",
          "RUS",
          "RWA",
          "SHN",
          "KNA",
          "LCA",
          "SPM",
          "VCT",
          "WSM",
          "STP",
          "SAU",
          "SEN",
          "SRB",
          "SYC",
          "SLE",
          "SGP",
          "SXM",
          "SVK",
          "SVN",
          "SLB",
          "SOM",
          "ZAF",
          "KOR",
          "SSD",
          "ESP",
          "LKA",
          "SDN",
          "SUR",
          "SWE",
          "CHE",
          "SYR",
          "TWN",
          "TJK",
          "TZA",
          "THA",
          "TLS",
          "TGO",
          "TON",
          "TTO",
          "TUN",
          "TUR",
          "TKM",
          "TCA",
          "TUV",
          "UGA",
          "UKR",
          "ARE",
          "GBR",
          "USA",
          "URY",
          "UZB",
          "VUT",
          "VEN",
          "VNM",
          "YEM",
          "ZMB",
          "ZWE"
         ],
         "marker": {
          "line": {
           "width": 0.1
          }
         },
         "reversescale": true,
         "type": "choropleth",
         "visible": true,
         "z": [
          0.312,
          1.576,
          3.535,
          6.035,
          0.675,
          8.227,
          "No Data",
          4.395,
          3.473,
          1.988,
          7.055,
          15.368,
          6.732,
          3.72,
          5.945,
          20.546,
          0.564,
          3.782,
          6.079,
          7.226,
          1.466,
          0.553,
          10.028,
          2.495,
          1.773,
          11.466,
          6.528,
          2.772,
          2.199,
          4.605,
          23.22,
          5.389,
          0.19,
          0.051,
          0.917,
          0.26,
          14.197,
          0.989,
          0.039,
          0.056,
          4.246,
          7.412,
          "No Data",
          1.751,
          0.297,
          0.565,
          4.522,
          1.552,
          0.382,
          4.137,
          1.779,
          20.323,
          5.38,
          8.215,
          0.028,
          4.522,
          0.356,
          1.934,
          2.56,
          1.753,
          2.086,
          0.944,
          7.317,
          0.204,
          7.88,
          0.824,
          0.128,
          13.996,
          1.554,
          7.091,
          4.238,
          2.439,
          2.949,
          1.931,
          0.207,
          2.499,
          7.69,
          0.515,
          5.012,
          9.061,
          2.62,
          6.403,
          1.057,
          0.258,
          0.146,
          2.813,
          0.256,
          0.975,
          4.167,
          4.997,
          8.604,
          1.769,
          2.155,
          8.87,
          5.242,
          6.754,
          6.51,
          5.025,
          2.509,
          8.15,
          2.498,
          15.516,
          0.3,
          0.57,
          "No Data",
          20.825,
          1.764,
          4.652,
          3.591,
          3.805,
          1.019,
          0.2,
          7.382,
          3.698,
          5.069,
          13.059,
          0.133,
          0.073,
          8.423,
          3.324,
          0.167,
          3.612,
          2.556,
          6.258,
          0.726,
          3.129,
          1.12,
          2.769,
          1.276,
          26.978,
          3.678,
          5.065,
          1.748,
          0.21,
          0.668,
          1.526,
          5.236,
          0.582,
          8.06,
          30.448,
          6.942,
          0.766,
          0.07,
          0.609,
          7.012,
          1.137,
          3.43,
          7.615,
          12.173,
          1.063,
          12.125,
          0.568,
          2.498,
          0.744,
          1.061,
          1.356,
          1.241,
          7.916,
          3.961,
          "No Data",
          37.019,
          3.715,
          10.807,
          0.08,
          1.564,
          3.986,
          2.396,
          8.738,
          1.883,
          1.239,
          0.514,
          17.967,
          0.624,
          4.937,
          4.994,
          0.11,
          7.778,
          14.539,
          5.629,
          6.043,
          0.435,
          0.035,
          7.62,
          11.656,
          0.105,
          4.468,
          0.986,
          0.43,
          3.791,
          3.826,
          3.732,
          1.745,
          11.47,
          0.991,
          0.183,
          3.693,
          0.399,
          0.265,
          1.36,
          25.373,
          2.38,
          4.657,
          12.491,
          5.231,
          0.642,
          0.107,
          4.891,
          15.193,
          4.855,
          14.238,
          1.681,
          3.37,
          0.591,
          2.975,
          2.613,
          0.328,
          0.358,
          0.709
         ],
         "zmax": 11.4688,
         "zmin": 0.2566
        },
        {
         "colorbar": {
          "title": {
           "text": "Share of<br>Global CO<sub>2</sub><br>Emissions"
          }
         },
         "colorscale": [
          [
           0,
           "rgb(165,0,38)"
          ],
          [
           0.1,
           "rgb(215,48,39)"
          ],
          [
           0.2,
           "rgb(244,109,67)"
          ],
          [
           0.3,
           "rgb(253,174,97)"
          ],
          [
           0.4,
           "rgb(254,224,139)"
          ],
          [
           0.5,
           "rgb(255,255,191)"
          ],
          [
           0.6,
           "rgb(217,239,139)"
          ],
          [
           0.7,
           "rgb(166,217,106)"
          ],
          [
           0.8,
           "rgb(102,189,99)"
          ],
          [
           0.9,
           "rgb(26,152,80)"
          ],
          [
           1,
           "rgb(0,104,55)"
          ]
         ],
         "customdata": [
          [
           "Afghanistan",
           "AFG",
           "No Data",
           "No Data",
           0.312,
           0.03,
           0.11,
           "Coal"
          ],
          [
           "Albania",
           "ALB",
           "No Data",
           "No Data",
           1.576,
           0.01,
           -6.76,
           "Oil"
          ],
          [
           "Algeria",
           "DZA",
           39.91,
           51,
           3.535,
           0.45,
           -6.99,
           "Gas"
          ],
          [
           "Andorra",
           "AND",
           "No Data",
           "No Data",
           6.035,
           0,
           -7.08,
           "Coal"
          ],
          [
           "Angola",
           "AGO",
           "No Data",
           "No Data",
           0.675,
           0.06,
           -5.49,
           "Coal"
          ],
          [
           "Anguilla",
           "AIA",
           "No Data",
           "No Data",
           8.227,
           0,
           -11.51,
           "Coal"
          ],
          [
           "Antarctica",
           "ATA",
           "No Data",
           "No Data",
           "No Data",
           "No Data",
           0,
           "Coal"
          ],
          [
           "Antigua and Barbuda",
           "ATG",
           "No Data",
           "No Data",
           4.395,
           0,
           -11.51,
           "Coal"
          ],
          [
           "Argentina",
           "ARG",
           47.08,
           44,
           3.473,
           0.45,
           -6.32,
           "Gas"
          ],
          [
           "Armenia",
           "ARM",
           "No Data",
           "No Data",
           1.988,
           0.02,
           6.54,
           "Gas"
          ],
          [
           "Aruba",
           "ABW",
           "No Data",
           "No Data",
           7.055,
           0,
           -11.51,
           "Coal"
          ],
          [
           "Australia",
           "AUS",
           30.06,
           56,
           15.368,
           1.13,
           -5.46,
           "Coal"
          ],
          [
           "Austria",
           "AUT",
           52.35,
           34,
           6.732,
           0.17,
           -10.78,
           "Oil"
          ],
          [
           "Azerbaijan",
           "AZE",
           "No Data",
           "No Data",
           3.72,
           0.11,
           -2.59,
           "Gas"
          ],
          [
           "Bahamas",
           "BHS",
           "No Data",
           "No Data",
           5.945,
           0.01,
           -11.38,
           "Oil"
          ],
          [
           "Bahrain",
           "BHR",
           "No Data",
           "No Data",
           20.546,
           0.1,
           1.51,
           "Coal"
          ],
          [
           "Bangladesh",
           "BGD",
           "No Data",
           "No Data",
           0.564,
           0.27,
           -1.46,
           "Gas"
          ],
          [
           "Barbados",
           "BRB",
           "No Data",
           "No Data",
           3.782,
           0,
           -10.58,
           "Coal"
          ],
          [
           "Belarus",
           "BLR",
           46.66,
           45,
           6.079,
           0.17,
           -5.86,
           "Gas"
          ],
          [
           "Belgium",
           "BEL",
           45.9,
           46,
           7.226,
           0.24,
           -16.04,
           "Gas"
          ],
          [
           "Belize",
           "BLZ",
           "No Data",
           "No Data",
           1.466,
           0,
           -11.48,
           "Coal"
          ],
          [
           "Benin",
           "BEN",
           "No Data",
           "No Data",
           0.553,
           0.02,
           -8.37,
           "Coal"
          ],
          [
           "Bermuda",
           "BMU",
           "No Data",
           "No Data",
           10.028,
           0,
           -10.54,
           "Oil"
          ],
          [
           "Bhutan",
           "BTN",
           "No Data",
           "No Data",
           2.495,
           0.01,
           -0.11,
           "Coal"
          ],
          [
           "Bolivia",
           "BOL",
           "No Data",
           "No Data",
           1.773,
           0.06,
           -13.2,
           "Oil"
          ],
          [
           "Bonaire Sint Eustatius and Saba",
           "BES",
           "No Data",
           "No Data",
           11.466,
           0,
           -11.51,
           "Coal"
          ],
          [
           "Bosnia and Herzegovina",
           "BIH",
           "No Data",
           "No Data",
           6.528,
           0.06,
           -13.8,
           "Coal"
          ],
          [
           "Botswana",
           "BWA",
           "No Data",
           "No Data",
           2.772,
           0.02,
           -5.86,
           "Coal"
          ],
          [
           "Brazil",
           "BRA",
           54.86,
           30,
           2.199,
           1.34,
           -3.79,
           "Oil"
          ],
          [
           "British Virgin Islands",
           "VGB",
           "No Data",
           "No Data",
           4.605,
           0,
           -11.51,
           "Coal"
          ],
          [
           "Brunei",
           "BRN",
           "No Data",
           "No Data",
           23.22,
           0.03,
           2.01,
           "Coal"
          ],
          [
           "Bulgaria",
           "BGR",
           48.71,
           41,
           5.389,
           0.11,
           -11.32,
           "Coal"
          ],
          [
           "Burkina Faso",
           "BFA",
           "No Data",
           "No Data",
           0.19,
           0.01,
           -8.45,
           "Coal"
          ],
          [
           "Burundi",
           "BDI",
           "No Data",
           "No Data",
           0.051,
           0,
           -14.47,
           "Oil"
          ],
          [
           "Cambodia",
           "KHM",
           "No Data",
           "No Data",
           0.917,
           0.04,
           -0.02,
           "Oil"
          ],
          [
           "Cameroon",
           "CMR",
           "No Data",
           "No Data",
           0.26,
           0.02,
           -6.88,
           "Coal"
          ],
          [
           "Canada",
           "CAN",
           26.03,
           58,
           14.197,
           1.54,
           -8,
           "Oil"
          ],
          [
           "Cape Verde",
           "CPV",
           "No Data",
           "No Data",
           0.989,
           0,
           -8.69,
           "Coal"
          ],
          [
           "Central African Republic",
           "CAF",
           "No Data",
           "No Data",
           0.039,
           0,
           -10.71,
           "Coal"
          ],
          [
           "Chad",
           "TCD",
           "No Data",
           "No Data",
           0.056,
           0,
           -9.26,
           "Coal"
          ],
          [
           "Chile",
           "CHL",
           "No Data",
           "No Data",
           4.246,
           0.23,
           -5.76,
           "Oil"
          ],
          [
           "China",
           "CHN",
           52.2,
           35,
           7.412,
           30.65,
           1.7,
           "Coal"
          ],
          [
           "Christmas Island",
           "CXR",
           "No Data",
           "No Data",
           "No Data",
           "No Data",
           0,
           "Coal"
          ],
          [
           "Colombia",
           "COL",
           57.87,
           22,
           1.751,
           0.26,
           -1.45,
           "Oil"
          ],
          [
           "Comoros",
           "COM",
           "No Data",
           "No Data",
           0.297,
           0,
           -15.49,
           "Coal"
          ],
          [
           "Congo",
           "COG",
           "No Data",
           "No Data",
           0.565,
           0.01,
           -5.3,
           "Coal"
          ],
          [
           "Cook Islands",
           "COK",
           "No Data",
           "No Data",
           4.522,
           0,
           0.14,
           "Coal"
          ],
          [
           "Costa Rica",
           "CRI",
           "No Data",
           "No Data",
           1.552,
           0.02,
           -10.33,
           "Coal"
          ],
          [
           "Cote d'Ivoire",
           "CIV",
           "No Data",
           "No Data",
           0.382,
           0.03,
           -3.9,
           "Coal"
          ],
          [
           "Croatia",
           "HRV",
           55.96,
           26,
           4.137,
           0.05,
           -4.48,
           "Oil"
          ],
          [
           "Cuba",
           "CUB",
           "No Data",
           "No Data",
           1.779,
           0.06,
           -10.53,
           "Oil"
          ],
          [
           "Curacao",
           "CUW",
           "No Data",
           "No Data",
           20.323,
           0.01,
           -11.33,
           "Coal"
          ],
          [
           "Cyprus",
           "CYP",
           50.52,
           39,
           5.38,
           0.02,
           -11.5,
           "Oil"
          ],
          [
           "Czechia",
           "CZE",
           42.15,
           48,
           8.215,
           0.25,
           -12.73,
           "Coal"
          ],
          [
           "Democratic Republic of Congo",
           "COD",
           "No Data",
           "No Data",
           0.028,
           0.01,
           -7.86,
           "Coal"
          ],
          [
           "Denmark",
           "DNK",
           76.67,
           1,
           4.522,
           0.08,
           -15.22,
           "Oil"
          ],
          [
           "Djibouti",
           "DJI",
           "No Data",
           "No Data",
           0.356,
           0,
           -12.66,
           "Coal"
          ],
          [
           "Dominica",
           "DMA",
           "No Data",
           "No Data",
           1.934,
           0,
           -11.51,
           "Coal"
          ],
          [
           "Dominican Republic",
           "DOM",
           "No Data",
           "No Data",
           2.56,
           0.08,
           0.91,
           "Oil"
          ],
          [
           "Ecuador",
           "ECU",
           "No Data",
           "No Data",
           1.753,
           0.09,
           -15.85,
           "Coal"
          ],
          [
           "Egypt",
           "EGY",
           59.74,
           18,
           2.086,
           0.61,
           -5.5,
           "Gas"
          ],
          [
           "El Salvador",
           "SLV",
           "No Data",
           "No Data",
           0.944,
           0.02,
           -10.64,
           "Oil"
          ],
          [
           "Equatorial Guinea",
           "GNQ",
           "No Data",
           "No Data",
           7.317,
           0.03,
           -0.04,
           "Coal"
          ],
          [
           "Eritrea",
           "ERI",
           "No Data",
           "No Data",
           0.204,
           0,
           -13.48,
           "Coal"
          ],
          [
           "Estonia",
           "EST",
           54.98,
           29,
           7.88,
           0.03,
           -15.57,
           "Coal"
          ],
          [
           "Eswatini",
           "SWZ",
           "No Data",
           "No Data",
           0.824,
           0,
           -5.64,
           "Oil"
          ],
          [
           "Ethiopia",
           "ETH",
           "No Data",
           "No Data",
           0.128,
           0.04,
           -10.42,
           "Oil"
          ],
          [
           "Faeroe Islands",
           "FRO",
           "No Data",
           "No Data",
           13.996,
           0,
           -7.08,
           "Coal"
          ],
          [
           "Fiji",
           "FJI",
           "No Data",
           "No Data",
           1.554,
           0,
           0.13,
           "Coal"
          ],
          [
           "Finland",
           "FIN",
           62.41,
           11,
           7.091,
           0.11,
           -7.66,
           "Oil"
          ],
          [
           "France",
           "FRA",
           61.01,
           14,
           4.238,
           0.79,
           -12.44,
           "Oil"
          ],
          [
           "French Guiana",
           "GUF",
           "No Data",
           "No Data",
           2.439,
           0,
           0,
           "Coal"
          ],
          [
           "French Polynesia",
           "PYF",
           "No Data",
           "No Data",
           2.949,
           0,
           0.14,
           "Coal"
          ],
          [
           "Gabon",
           "GAB",
           "No Data",
           "No Data",
           1.931,
           0.01,
           -4.22,
           "Coal"
          ],
          [
           "Gambia",
           "GMB",
           "No Data",
           "No Data",
           0.207,
           0,
           -8.6,
           "Coal"
          ],
          [
           "Georgia",
           "GEO",
           "No Data",
           "No Data",
           2.499,
           0.03,
           -4.89,
           "Gas"
          ],
          [
           "Germany",
           "DEU",
           63.53,
           10,
           7.69,
           1.85,
           -9.43,
           "Oil"
          ],
          [
           "Ghana",
           "GHA",
           "No Data",
           "No Data",
           0.515,
           0.05,
           -5.42,
           "Coal"
          ],
          [
           "Greece",
           "GRC",
           58.22,
           21,
           5.012,
           0.15,
           -20.54,
           "Oil"
          ],
          [
           "Greenland",
           "GRL",
           "No Data",
           "No Data",
           9.061,
           0,
           -7.08,
           "Coal"
          ],
          [
           "Grenada",
           "GRD",
           "No Data",
           "No Data",
           2.62,
           0,
           -11.27,
           "Coal"
          ],
          [
           "Guadeloupe",
           "GLP",
           "No Data",
           "No Data",
           6.403,
           0.01,
           0,
           "Oil"
          ],
          [
           "Guatemala",
           "GTM",
           "No Data",
           "No Data",
           1.057,
           0.05,
           -13.66,
           "Oil"
          ],
          [
           "Guinea",
           "GIN",
           "No Data",
           "No Data",
           0.258,
           0.01,
           -8.69,
           "Coal"
          ],
          [
           "Guinea-Bissau",
           "GNB",
           "No Data",
           "No Data",
           0.146,
           0,
           -8.69,
           "Coal"
          ],
          [
           "Guyana",
           "GUY",
           "No Data",
           "No Data",
           2.813,
           0.01,
           -11.01,
           "Coal"
          ],
          [
           "Haiti",
           "HTI",
           "No Data",
           "No Data",
           0.256,
           0.01,
           -11.23,
           "Coal"
          ],
          [
           "Honduras",
           "HND",
           "No Data",
           "No Data",
           0.975,
           0.03,
           -10.47,
           "Coal"
          ],
          [
           "Hong Kong",
           "HKG",
           "No Data",
           "No Data",
           4.167,
           0.09,
           -25.25,
           "Coal"
          ],
          [
           "Hungary",
           "HUN",
           40.41,
           50,
           4.997,
           0.14,
           -1.64,
           "Gas"
          ],
          [
           "Iceland",
           "ISL",
           "No Data",
           "No Data",
           8.604,
           0.01,
           -17.31,
           "Oil"
          ],
          [
           "India",
           "IND",
           69.2,
           7,
           1.769,
           7.02,
           -7.01,
           "Coal"
          ],
          [
           "Indonesia",
           "IDN",
           57.17,
           24,
           2.155,
           1.69,
           -10.76,
           "Coal"
          ],
          [
           "Iran",
           "IRN",
           25.66,
           59,
           8.87,
           2.14,
           1.59,
           "Gas"
          ],
          [
           "Iraq",
           "IRQ",
           "No Data",
           "No Data",
           5.242,
           0.61,
           -5.45,
           "Coal"
          ],
          [
           "Ireland",
           "IRL",
           47.86,
           43,
           6.754,
           0.1,
           -10.53,
           "Oil"
          ],
          [
           "Israel",
           "ISR",
           "No Data",
           "No Data",
           6.51,
           0.16,
           -9.68,
           "Oil"
          ],
          [
           "Italy",
           "ITA",
           55.39,
           27,
           5.025,
           0.87,
           -10.58,
           "Gas"
          ],
          [
           "Jamaica",
           "JAM",
           "No Data",
           "No Data",
           2.509,
           0.02,
           -7.65,
           "Oil"
          ],
          [
           "Japan",
           "JPN",
           48.53,
           42,
           8.15,
           2.96,
           -6.8,
           "Coal"
          ],
          [
           "Jordan",
           "JOR",
           "No Data",
           "No Data",
           2.498,
           0.07,
           -1,
           "Oil"
          ],
          [
           "Kazakhstan",
           "KAZ",
           19.23,
           61,
           15.516,
           0.84,
           -1.53,
           "Coal"
          ],
          [
           "Kenya",
           "KEN",
           "No Data",
           "No Data",
           0.3,
           0.05,
           -12,
           "Oil"
          ],
          [
           "Kiribati",
           "KIR",
           "No Data",
           "No Data",
           0.57,
           0,
           0.14,
           "Coal"
          ],
          [
           "Kosovo",
           "OWID_KOS",
           "No Data",
           "No Data",
           "No Data",
           0.02,
           -13.29,
           "Coal"
          ],
          [
           "Kuwait",
           "KWT",
           "No Data",
           "No Data",
           20.825,
           0.26,
           -7.98,
           "Coal"
          ],
          [
           "Kyrgyzstan",
           "KGZ",
           "No Data",
           "No Data",
           1.764,
           0.03,
           4.45,
           "Oil"
          ],
          [
           "Laos",
           "LAO",
           "No Data",
           "No Data",
           4.652,
           0.1,
           -0.25,
           "Coal"
          ],
          [
           "Latvia",
           "LVA",
           57.73,
           23,
           3.591,
           0.02,
           -11.45,
           "Oil"
          ],
          [
           "Lebanon",
           "LBN",
           "No Data",
           "No Data",
           3.805,
           0.07,
           -2.58,
           "Oil"
          ],
          [
           "Lesotho",
           "LSO",
           "No Data",
           "No Data",
           1.019,
           0.01,
           -5.93,
           "Coal"
          ],
          [
           "Liberia",
           "LBR",
           "No Data",
           "No Data",
           0.2,
           0,
           -7.72,
           "Coal"
          ],
          [
           "Libya",
           "LBY",
           "No Data",
           "No Data",
           7.382,
           0.15,
           -6.95,
           "Coal"
          ],
          [
           "Liechtenstein",
           "LIE",
           "No Data",
           "No Data",
           3.698,
           0,
           -4.98,
           "Coal"
          ],
          [
           "Lithuania",
           "LTU",
           64.89,
           8,
           5.069,
           0.04,
           -0.89,
           "Oil"
          ],
          [
           "Luxembourg",
           "LUX",
           60.8,
           15,
           13.059,
           0.02,
           -16.18,
           "Oil"
          ],
          [
           "Madagascar",
           "MDG",
           "No Data",
           "No Data",
           0.133,
           0.01,
           -9.14,
           "Oil"
          ],
          [
           "Malawi",
           "MWI",
           "No Data",
           "No Data",
           0.073,
           0,
           -12.18,
           "Oil"
          ],
          [
           "Malaysia",
           "MYS",
           33.74,
           54,
           8.423,
           0.78,
           -2.17,
           "Coal"
          ],
          [
           "Maldives",
           "MDV",
           "No Data",
           "No Data",
           3.324,
           0.01,
           0.14,
           "Coal"
          ],
          [
           "Mali",
           "MLI",
           "No Data",
           "No Data",
           0.167,
           0.01,
           -8.08,
           "Coal"
          ],
          [
           "Malta",
           "MLT",
           64.18,
           9,
           3.612,
           0,
           -4.45,
           "Oil"
          ],
          [
           "Marshall Islands",
           "MHL",
           "No Data",
           "No Data",
           2.556,
           0,
           0.14,
           "Coal"
          ],
          [
           "Martinique",
           "MTQ",
           "No Data",
           "No Data",
           6.258,
           0.01,
           0,
           "Coal"
          ],
          [
           "Mauritania",
           "MRT",
           "No Data",
           "No Data",
           0.726,
           0.01,
           -8.69,
           "Coal"
          ],
          [
           "Mauritius",
           "MUS",
           "No Data",
           "No Data",
           3.129,
           0.01,
           -9.11,
           "Oil"
          ],
          [
           "Mayotte",
           "MYT",
           "No Data",
           "No Data",
           1.12,
           0,
           0,
           "Coal"
          ],
          [
           "Mexico",
           "MEX",
           56.05,
           25,
           2.769,
           1.03,
           -18.03,
           "Oil"
          ],
          [
           "Moldova",
           "MDA",
           "No Data",
           "No Data",
           1.276,
           0.01,
           -0.18,
           "Oil"
          ],
          [
           "Mongolia",
           "MNG",
           "No Data",
           "No Data",
           26.978,
           0.25,
           -0.28,
           "Coal"
          ],
          [
           "Montenegro",
           "MNE",
           "No Data",
           "No Data",
           3.678,
           0.01,
           -12.67,
           "Coal"
          ],
          [
           "Montserrat",
           "MSR",
           "No Data",
           "No Data",
           5.065,
           0,
           -11.51,
           "Coal"
          ],
          [
           "Morocco",
           "MAR",
           71.6,
           5,
           1.748,
           0.19,
           -5.4,
           "Oil"
          ],
          [
           "Mozambique",
           "MOZ",
           "No Data",
           "No Data",
           0.21,
           0.02,
           -9.83,
           "Oil"
          ],
          [
           "Myanmar",
           "MMR",
           "No Data",
           "No Data",
           0.668,
           0.1,
           0.77,
           "Oil"
          ],
          [
           "Namibia",
           "NAM",
           "No Data",
           "No Data",
           1.526,
           0.01,
           -5.02,
           "Oil"
          ],
          [
           "Nauru",
           "NRU",
           "No Data",
           "No Data",
           5.236,
           0,
           0.14,
           "Coal"
          ],
          [
           "Nepal",
           "NPL",
           "No Data",
           "No Data",
           0.582,
           0.05,
           -0.05,
           "Oil"
          ],
          [
           "Netherlands",
           "NLD",
           60.44,
           16,
           8.06,
           0.4,
           -10.09,
           "Gas"
          ],
          [
           "New Caledonia",
           "NCL",
           "No Data",
           "No Data",
           30.448,
           0.02,
           -0.16,
           "Coal"
          ],
          [
           "New Zealand",
           "NZL",
           54.03,
           32,
           6.942,
           0.1,
           -10.72,
           "Oil"
          ],
          [
           "Nicaragua",
           "NIC",
           "No Data",
           "No Data",
           0.766,
           0.01,
           -10.57,
           "Coal"
          ],
          [
           "Niger",
           "NER",
           "No Data",
           "No Data",
           0.07,
           0,
           -8.79,
           "Oil"
          ],
          [
           "Nigeria",
           "NGA",
           "No Data",
           "No Data",
           0.609,
           0.36,
           -3.57,
           "Oil"
          ],
          [
           "Niue",
           "NIU",
           "No Data",
           "No Data",
           7.012,
           0,
           0.14,
           "Coal"
          ],
          [
           "North Korea",
           "PRK",
           "No Data",
           "No Data",
           1.137,
           0.08,
           -0.23,
           "Coal"
          ],
          [
           "North Macedonia",
           "MKD",
           "No Data",
           "No Data",
           3.43,
           0.02,
           -10.38,
           "Coal"
          ],
          [
           "Norway",
           "NOR",
           73.29,
           3,
           7.615,
           0.12,
           -3.69,
           "Oil"
          ],
          [
           "Oman",
           "OMN",
           "No Data",
           "No Data",
           12.173,
           0.18,
           2.31,
           "Coal"
          ],
          [
           "Pakistan",
           "PAK",
           "No Data",
           "No Data",
           1.063,
           0.67,
           0.2,
           "Oil"
          ],
          [
           "Palau",
           "PLW",
           "No Data",
           "No Data",
           12.125,
           0,
           0.14,
           "Coal"
          ],
          [
           "Palestine",
           "PSE",
           "No Data",
           "No Data",
           0.568,
           0.01,
           -2.92,
           "Coal"
          ],
          [
           "Panama",
           "PAN",
           "No Data",
           "No Data",
           2.498,
           0.03,
           -12.32,
           "Oil"
          ],
          [
           "Papua New Guinea",
           "PNG",
           "No Data",
           "No Data",
           0.744,
           0.02,
           0.52,
           "Coal"
          ],
          [
           "Paraguay",
           "PRY",
           "No Data",
           "No Data",
           1.061,
           0.02,
           -11.2,
           "Oil"
          ],
          [
           "Peru",
           "PER",
           "No Data",
           "No Data",
           1.356,
           0.13,
           -18.68,
           "Oil"
          ],
          [
           "Philippines",
           "PHL",
           58.98,
           20,
           1.241,
           0.39,
           -7.23,
           "Coal"
          ],
          [
           "Poland",
           "POL",
           40.63,
           49,
           7.916,
           0.86,
           -6.24,
           "Coal"
          ],
          [
           "Portugal",
           "PRT",
           61.11,
           13,
           3.961,
           0.12,
           -15.2,
           "Oil"
          ],
          [
           "Puerto Rico",
           "PRI",
           "No Data",
           "No Data",
           "No Data",
           "No Data",
           0,
           "Coal"
          ],
          [
           "Qatar",
           "QAT",
           "No Data",
           "No Data",
           37.019,
           0.31,
           -7.29,
           "Coal"
          ],
          [
           "Romania",
           "ROU",
           52.43,
           33,
           3.715,
           0.21,
           -4.5,
           "Oil"
          ],
          [
           "Russia",
           "RUS",
           34.73,
           53,
           10.807,
           4.53,
           -6.09,
           "Gas"
          ],
          [
           "Rwanda",
           "RWA",
           "No Data",
           "No Data",
           0.08,
           0,
           -13.03,
           "Oil"
          ],
          [
           "Saint Helena",
           "SHN",
           "No Data",
           "No Data",
           1.564,
           0,
           -11.51,
           "Coal"
          ],
          [
           "Saint Kitts and Nevis",
           "KNA",
           "No Data",
           "No Data",
           3.986,
           0,
           -11.51,
           "Coal"
          ],
          [
           "Saint Lucia",
           "LCA",
           "No Data",
           "No Data",
           2.396,
           0,
           -11.51,
           "Coal"
          ],
          [
           "Saint Pierre and Miquelon",
           "SPM",
           "No Data",
           "No Data",
           8.738,
           0,
           -11.51,
           "Coal"
          ],
          [
           "Saint Vincent and the Grenadines",
           "VCT",
           "No Data",
           "No Data",
           1.883,
           0,
           -11.51,
           "Coal"
          ],
          [
           "Samoa",
           "WSM",
           "No Data",
           "No Data",
           1.239,
           0,
           0.14,
           "Coal"
          ],
          [
           "Sao Tome and Principe",
           "STP",
           "No Data",
           "No Data",
           0.514,
           0,
           -10.71,
           "Coal"
          ],
          [
           "Saudi Arabia",
           "SAU",
           24.25,
           60,
           17.967,
           1.8,
           0.5,
           "Coal"
          ],
          [
           "Senegal",
           "SEN",
           "No Data",
           "No Data",
           0.624,
           0.03,
           -7.23,
           "Oil"
          ],
          [
           "Serbia",
           "SRB",
           "No Data",
           "No Data",
           4.937,
           0.12,
           -12.57,
           "Coal"
          ],
          [
           "Seychelles",
           "SYC",
           "No Data",
           "No Data",
           4.994,
           0,
           -15.49,
           "Coal"
          ],
          [
           "Sierra Leone",
           "SLE",
           "No Data",
           "No Data",
           0.11,
           0,
           -8.69,
           "Coal"
          ],
          [
           "Singapore",
           "SGP",
           "No Data",
           "No Data",
           7.778,
           0.13,
           -0.44,
           "Oil"
          ],
          [
           "Sint Maarten (Dutch part)",
           "SXM",
           "No Data",
           "No Data",
           14.539,
           0,
           -11.51,
           "Coal"
          ],
          [
           "Slovakia",
           "SVK",
           50.67,
           37,
           5.629,
           0.09,
           -9.01,
           "Oil"
          ],
          [
           "Slovenia",
           "SVN",
           43.28,
           47,
           6.043,
           0.04,
           -10.3,
           "Oil"
          ],
          [
           "Solomon Islands",
           "SLB",
           "No Data",
           "No Data",
           0.435,
           0,
           0.14,
           "Coal"
          ],
          [
           "Somalia",
           "SOM",
           "No Data",
           "No Data",
           0.035,
           0,
           -15.49,
           "Coal"
          ],
          [
           "South Africa",
           "ZAF",
           51.13,
           36,
           7.62,
           1.3,
           -5.04,
           "Coal"
          ],
          [
           "South Korea",
           "KOR",
           26.74,
           57,
           11.656,
           1.72,
           -7.78,
           "Coal"
          ],
          [
           "South Sudan",
           "SSD",
           "No Data",
           "No Data",
           0.105,
           0,
           -15.49,
           "Coal"
          ],
          [
           "Spain",
           "ESP",
           54.35,
           31,
           4.468,
           0.6,
           -16.93,
           "Oil"
          ],
          [
           "Sri Lanka",
           "LKA",
           "No Data",
           "No Data",
           0.986,
           0.06,
           -7.53,
           "Oil"
          ],
          [
           "Sudan",
           "SDN",
           "No Data",
           "No Data",
           0.43,
           0.05,
           -14.4,
           "Coal"
          ],
          [
           "Suriname",
           "SUR",
           "No Data",
           "No Data",
           3.791,
           0.01,
           -11.75,
           "Coal"
          ],
          [
           "Sweden",
           "SWE",
           74.22,
           2,
           3.826,
           0.11,
           -5.62,
           "Oil"
          ],
          [
           "Switzerland",
           "CHE",
           61.7,
           12,
           3.732,
           0.09,
           -12.09,
           "Oil"
          ],
          [
           "Syria",
           "SYR",
           "No Data",
           "No Data",
           1.745,
           0.09,
           -1.54,
           "Oil"
          ],
          [
           "Taiwan",
           "TWN",
           "No Data",
           "No Data",
           11.47,
           0.78,
           -0.78,
           "Coal"
          ],
          [
           "Tajikistan",
           "TJK",
           "No Data",
           "No Data",
           0.991,
           0.03,
           9.42,
           "Coal"
          ],
          [
           "Tanzania",
           "TZA",
           "No Data",
           "No Data",
           0.183,
           0.03,
           -9.17,
           "Oil"
          ],
          [
           "Thailand",
           "THA",
           55.01,
           28,
           3.693,
           0.74,
           -5.1,
           "Oil"
          ],
          [
           "Timor",
           "TLS",
           "No Data",
           "No Data",
           0.399,
           0,
           0.14,
           "Coal"
          ],
          [
           "Togo",
           "TGO",
           "No Data",
           "No Data",
           0.265,
           0.01,
           -4.93,
           "Coal"
          ],
          [
           "Tonga",
           "TON",
           "No Data",
           "No Data",
           1.36,
           0,
           0.14,
           "Coal"
          ],
          [
           "Trinidad and Tobago",
           "TTO",
           "No Data",
           "No Data",
           25.373,
           0.1,
           -12.06,
           "Coal"
          ],
          [
           "Tunisia",
           "TUN",
           "No Data",
           "No Data",
           2.38,
           0.08,
           -6.28,
           "Coal"
          ],
          [
           "Turkey",
           "TUR",
           50.53,
           38,
           4.657,
           1.13,
           -1.64,
           "Coal"
          ],
          [
           "Turkmenistan",
           "TKM",
           "No Data",
           "No Data",
           12.491,
           0.22,
           -1.29,
           "Coal"
          ],
          [
           "Turks and Caicos Islands",
           "TCA",
           "No Data",
           "No Data",
           5.231,
           0,
           -11.51,
           "Coal"
          ],
          [
           "Tuvalu",
           "TUV",
           "No Data",
           "No Data",
           0.642,
           0,
           0.15,
           "Coal"
          ],
          [
           "Uganda",
           "UGA",
           "No Data",
           "No Data",
           0.107,
           0.01,
           -14.48,
           "Coal"
          ],
          [
           "Ukraine",
           "UKR",
           60.4,
           17,
           4.891,
           0.61,
           -3.9,
           "Coal"
          ],
          [
           "United Arab Emirates",
           "ARE",
           "No Data",
           "No Data",
           15.193,
           0.43,
           -2.54,
           "Gas"
          ],
          [
           "United Kingdom",
           "GBR",
           73.09,
           4,
           4.855,
           0.95,
           -10.69,
           "Gas"
          ],
          [
           "United States",
           "USA",
           37.39,
           52,
           14.238,
           13.54,
           -10.33,
           "Oil"
          ],
          [
           "Uruguay",
           "URY",
           "No Data",
           "No Data",
           1.681,
           0.02,
           -11.3,
           "Oil"
          ],
          [
           "Uzbekistan",
           "UZB",
           "No Data",
           "No Data",
           3.37,
           0.32,
           -1.24,
           "Gas"
          ],
          [
           "Vanuatu",
           "VUT",
           "No Data",
           "No Data",
           0.591,
           0,
           0.14,
           "Coal"
          ],
          [
           "Venezuela",
           "VEN",
           "No Data",
           "No Data",
           2.975,
           0.24,
           -14.69,
           "Flaring"
          ],
          [
           "Vietnam",
           "VNM",
           49.21,
           40,
           2.613,
           0.73,
           -2.31,
           "Coal"
          ],
          [
           "Yemen",
           "YEM",
           "No Data",
           "No Data",
           0.328,
           0.03,
           -2.52,
           "Oil"
          ],
          [
           "Zambia",
           "ZMB",
           "No Data",
           "No Data",
           0.358,
           0.02,
           -6.73,
           "Oil"
          ],
          [
           "Zimbabwe",
           "ZWE",
           "No Data",
           "No Data",
           0.709,
           0.03,
           -3.82,
           "Coal"
          ]
         ],
         "hovertemplate": "%{customdata[0]} (%{customdata[1]})<br>CCPI Score: %{customdata[2]}<br>CCPI Rank: %{customdata[3]}<br>CO<sub>2</sub> Emissions per Capita: %{customdata[4]}<br>Global Share of CO<sub>2</sub> Emissions: %{customdata[5]}<br>Percent Growth of CO<sub>2</sub> Emissions: %{customdata[6]}<br>Primary CO<sub>2</sub> Emissions Source: %{customdata[7]}<br><extra></extra>",
         "locations": [
          "AFG",
          "ALB",
          "DZA",
          "AND",
          "AGO",
          "AIA",
          "ATA",
          "ATG",
          "ARG",
          "ARM",
          "ABW",
          "AUS",
          "AUT",
          "AZE",
          "BHS",
          "BHR",
          "BGD",
          "BRB",
          "BLR",
          "BEL",
          "BLZ",
          "BEN",
          "BMU",
          "BTN",
          "BOL",
          "BES",
          "BIH",
          "BWA",
          "BRA",
          "VGB",
          "BRN",
          "BGR",
          "BFA",
          "BDI",
          "KHM",
          "CMR",
          "CAN",
          "CPV",
          "CAF",
          "TCD",
          "CHL",
          "CHN",
          "CXR",
          "COL",
          "COM",
          "COG",
          "COK",
          "CRI",
          "CIV",
          "HRV",
          "CUB",
          "CUW",
          "CYP",
          "CZE",
          "COD",
          "DNK",
          "DJI",
          "DMA",
          "DOM",
          "ECU",
          "EGY",
          "SLV",
          "GNQ",
          "ERI",
          "EST",
          "SWZ",
          "ETH",
          "FRO",
          "FJI",
          "FIN",
          "FRA",
          "GUF",
          "PYF",
          "GAB",
          "GMB",
          "GEO",
          "DEU",
          "GHA",
          "GRC",
          "GRL",
          "GRD",
          "GLP",
          "GTM",
          "GIN",
          "GNB",
          "GUY",
          "HTI",
          "HND",
          "HKG",
          "HUN",
          "ISL",
          "IND",
          "IDN",
          "IRN",
          "IRQ",
          "IRL",
          "ISR",
          "ITA",
          "JAM",
          "JPN",
          "JOR",
          "KAZ",
          "KEN",
          "KIR",
          "OWID_KOS",
          "KWT",
          "KGZ",
          "LAO",
          "LVA",
          "LBN",
          "LSO",
          "LBR",
          "LBY",
          "LIE",
          "LTU",
          "LUX",
          "MDG",
          "MWI",
          "MYS",
          "MDV",
          "MLI",
          "MLT",
          "MHL",
          "MTQ",
          "MRT",
          "MUS",
          "MYT",
          "MEX",
          "MDA",
          "MNG",
          "MNE",
          "MSR",
          "MAR",
          "MOZ",
          "MMR",
          "NAM",
          "NRU",
          "NPL",
          "NLD",
          "NCL",
          "NZL",
          "NIC",
          "NER",
          "NGA",
          "NIU",
          "PRK",
          "MKD",
          "NOR",
          "OMN",
          "PAK",
          "PLW",
          "PSE",
          "PAN",
          "PNG",
          "PRY",
          "PER",
          "PHL",
          "POL",
          "PRT",
          "PRI",
          "QAT",
          "ROU",
          "RUS",
          "RWA",
          "SHN",
          "KNA",
          "LCA",
          "SPM",
          "VCT",
          "WSM",
          "STP",
          "SAU",
          "SEN",
          "SRB",
          "SYC",
          "SLE",
          "SGP",
          "SXM",
          "SVK",
          "SVN",
          "SLB",
          "SOM",
          "ZAF",
          "KOR",
          "SSD",
          "ESP",
          "LKA",
          "SDN",
          "SUR",
          "SWE",
          "CHE",
          "SYR",
          "TWN",
          "TJK",
          "TZA",
          "THA",
          "TLS",
          "TGO",
          "TON",
          "TTO",
          "TUN",
          "TUR",
          "TKM",
          "TCA",
          "TUV",
          "UGA",
          "UKR",
          "ARE",
          "GBR",
          "USA",
          "URY",
          "UZB",
          "VUT",
          "VEN",
          "VNM",
          "YEM",
          "ZMB",
          "ZWE"
         ],
         "marker": {
          "line": {
           "width": 0.1
          }
         },
         "reversescale": true,
         "type": "choropleth",
         "visible": false,
         "z": [
          0.03,
          0.01,
          0.45,
          0,
          0.06,
          0,
          "No Data",
          0,
          0.45,
          0.02,
          0,
          1.13,
          0.17,
          0.11,
          0.01,
          0.1,
          0.27,
          0,
          0.17,
          0.24,
          0,
          0.02,
          0,
          0.01,
          0.06,
          0,
          0.06,
          0.02,
          1.34,
          0,
          0.03,
          0.11,
          0.01,
          0,
          0.04,
          0.02,
          1.54,
          0,
          0,
          0,
          0.23,
          30.65,
          "No Data",
          0.26,
          0,
          0.01,
          0,
          0.02,
          0.03,
          0.05,
          0.06,
          0.01,
          0.02,
          0.25,
          0.01,
          0.08,
          0,
          0,
          0.08,
          0.09,
          0.61,
          0.02,
          0.03,
          0,
          0.03,
          0,
          0.04,
          0,
          0,
          0.11,
          0.79,
          0,
          0,
          0.01,
          0,
          0.03,
          1.85,
          0.05,
          0.15,
          0,
          0,
          0.01,
          0.05,
          0.01,
          0,
          0.01,
          0.01,
          0.03,
          0.09,
          0.14,
          0.01,
          7.02,
          1.69,
          2.14,
          0.61,
          0.1,
          0.16,
          0.87,
          0.02,
          2.96,
          0.07,
          0.84,
          0.05,
          0,
          0.02,
          0.26,
          0.03,
          0.1,
          0.02,
          0.07,
          0.01,
          0,
          0.15,
          0,
          0.04,
          0.02,
          0.01,
          0,
          0.78,
          0.01,
          0.01,
          0,
          0,
          0.01,
          0.01,
          0.01,
          0,
          1.03,
          0.01,
          0.25,
          0.01,
          0,
          0.19,
          0.02,
          0.1,
          0.01,
          0,
          0.05,
          0.4,
          0.02,
          0.1,
          0.01,
          0,
          0.36,
          0,
          0.08,
          0.02,
          0.12,
          0.18,
          0.67,
          0,
          0.01,
          0.03,
          0.02,
          0.02,
          0.13,
          0.39,
          0.86,
          0.12,
          "No Data",
          0.31,
          0.21,
          4.53,
          0,
          0,
          0,
          0,
          0,
          0,
          0,
          0,
          1.8,
          0.03,
          0.12,
          0,
          0,
          0.13,
          0,
          0.09,
          0.04,
          0,
          0,
          1.3,
          1.72,
          0,
          0.6,
          0.06,
          0.05,
          0.01,
          0.11,
          0.09,
          0.09,
          0.78,
          0.03,
          0.03,
          0.74,
          0,
          0.01,
          0,
          0.1,
          0.08,
          1.13,
          0.22,
          0,
          0,
          0.01,
          0.61,
          0.43,
          0.95,
          13.54,
          0.02,
          0.32,
          0,
          0.24,
          0.73,
          0.03,
          0.02,
          0.03
         ],
         "zmax": 5,
         "zmin": 0
        },
        {
         "colorbar": {
          "title": {
           "text": "Percent Growth<br>of Global CO<sub>2</sub><br>Emissions"
          }
         },
         "colorscale": [
          [
           0,
           "rgb(165,0,38)"
          ],
          [
           0.1,
           "rgb(215,48,39)"
          ],
          [
           0.2,
           "rgb(244,109,67)"
          ],
          [
           0.3,
           "rgb(253,174,97)"
          ],
          [
           0.4,
           "rgb(254,224,139)"
          ],
          [
           0.5,
           "rgb(255,255,191)"
          ],
          [
           0.6,
           "rgb(217,239,139)"
          ],
          [
           0.7,
           "rgb(166,217,106)"
          ],
          [
           0.8,
           "rgb(102,189,99)"
          ],
          [
           0.9,
           "rgb(26,152,80)"
          ],
          [
           1,
           "rgb(0,104,55)"
          ]
         ],
         "customdata": [
          [
           "Afghanistan",
           "AFG",
           "No Data",
           "No Data",
           0.312,
           0.03,
           0.11,
           "Coal"
          ],
          [
           "Albania",
           "ALB",
           "No Data",
           "No Data",
           1.576,
           0.01,
           -6.76,
           "Oil"
          ],
          [
           "Algeria",
           "DZA",
           39.91,
           51,
           3.535,
           0.45,
           -6.99,
           "Gas"
          ],
          [
           "Andorra",
           "AND",
           "No Data",
           "No Data",
           6.035,
           0,
           -7.08,
           "Coal"
          ],
          [
           "Angola",
           "AGO",
           "No Data",
           "No Data",
           0.675,
           0.06,
           -5.49,
           "Coal"
          ],
          [
           "Anguilla",
           "AIA",
           "No Data",
           "No Data",
           8.227,
           0,
           -11.51,
           "Coal"
          ],
          [
           "Antarctica",
           "ATA",
           "No Data",
           "No Data",
           "No Data",
           "No Data",
           0,
           "Coal"
          ],
          [
           "Antigua and Barbuda",
           "ATG",
           "No Data",
           "No Data",
           4.395,
           0,
           -11.51,
           "Coal"
          ],
          [
           "Argentina",
           "ARG",
           47.08,
           44,
           3.473,
           0.45,
           -6.32,
           "Gas"
          ],
          [
           "Armenia",
           "ARM",
           "No Data",
           "No Data",
           1.988,
           0.02,
           6.54,
           "Gas"
          ],
          [
           "Aruba",
           "ABW",
           "No Data",
           "No Data",
           7.055,
           0,
           -11.51,
           "Coal"
          ],
          [
           "Australia",
           "AUS",
           30.06,
           56,
           15.368,
           1.13,
           -5.46,
           "Coal"
          ],
          [
           "Austria",
           "AUT",
           52.35,
           34,
           6.732,
           0.17,
           -10.78,
           "Oil"
          ],
          [
           "Azerbaijan",
           "AZE",
           "No Data",
           "No Data",
           3.72,
           0.11,
           -2.59,
           "Gas"
          ],
          [
           "Bahamas",
           "BHS",
           "No Data",
           "No Data",
           5.945,
           0.01,
           -11.38,
           "Oil"
          ],
          [
           "Bahrain",
           "BHR",
           "No Data",
           "No Data",
           20.546,
           0.1,
           1.51,
           "Coal"
          ],
          [
           "Bangladesh",
           "BGD",
           "No Data",
           "No Data",
           0.564,
           0.27,
           -1.46,
           "Gas"
          ],
          [
           "Barbados",
           "BRB",
           "No Data",
           "No Data",
           3.782,
           0,
           -10.58,
           "Coal"
          ],
          [
           "Belarus",
           "BLR",
           46.66,
           45,
           6.079,
           0.17,
           -5.86,
           "Gas"
          ],
          [
           "Belgium",
           "BEL",
           45.9,
           46,
           7.226,
           0.24,
           -16.04,
           "Gas"
          ],
          [
           "Belize",
           "BLZ",
           "No Data",
           "No Data",
           1.466,
           0,
           -11.48,
           "Coal"
          ],
          [
           "Benin",
           "BEN",
           "No Data",
           "No Data",
           0.553,
           0.02,
           -8.37,
           "Coal"
          ],
          [
           "Bermuda",
           "BMU",
           "No Data",
           "No Data",
           10.028,
           0,
           -10.54,
           "Oil"
          ],
          [
           "Bhutan",
           "BTN",
           "No Data",
           "No Data",
           2.495,
           0.01,
           -0.11,
           "Coal"
          ],
          [
           "Bolivia",
           "BOL",
           "No Data",
           "No Data",
           1.773,
           0.06,
           -13.2,
           "Oil"
          ],
          [
           "Bonaire Sint Eustatius and Saba",
           "BES",
           "No Data",
           "No Data",
           11.466,
           0,
           -11.51,
           "Coal"
          ],
          [
           "Bosnia and Herzegovina",
           "BIH",
           "No Data",
           "No Data",
           6.528,
           0.06,
           -13.8,
           "Coal"
          ],
          [
           "Botswana",
           "BWA",
           "No Data",
           "No Data",
           2.772,
           0.02,
           -5.86,
           "Coal"
          ],
          [
           "Brazil",
           "BRA",
           54.86,
           30,
           2.199,
           1.34,
           -3.79,
           "Oil"
          ],
          [
           "British Virgin Islands",
           "VGB",
           "No Data",
           "No Data",
           4.605,
           0,
           -11.51,
           "Coal"
          ],
          [
           "Brunei",
           "BRN",
           "No Data",
           "No Data",
           23.22,
           0.03,
           2.01,
           "Coal"
          ],
          [
           "Bulgaria",
           "BGR",
           48.71,
           41,
           5.389,
           0.11,
           -11.32,
           "Coal"
          ],
          [
           "Burkina Faso",
           "BFA",
           "No Data",
           "No Data",
           0.19,
           0.01,
           -8.45,
           "Coal"
          ],
          [
           "Burundi",
           "BDI",
           "No Data",
           "No Data",
           0.051,
           0,
           -14.47,
           "Oil"
          ],
          [
           "Cambodia",
           "KHM",
           "No Data",
           "No Data",
           0.917,
           0.04,
           -0.02,
           "Oil"
          ],
          [
           "Cameroon",
           "CMR",
           "No Data",
           "No Data",
           0.26,
           0.02,
           -6.88,
           "Coal"
          ],
          [
           "Canada",
           "CAN",
           26.03,
           58,
           14.197,
           1.54,
           -8,
           "Oil"
          ],
          [
           "Cape Verde",
           "CPV",
           "No Data",
           "No Data",
           0.989,
           0,
           -8.69,
           "Coal"
          ],
          [
           "Central African Republic",
           "CAF",
           "No Data",
           "No Data",
           0.039,
           0,
           -10.71,
           "Coal"
          ],
          [
           "Chad",
           "TCD",
           "No Data",
           "No Data",
           0.056,
           0,
           -9.26,
           "Coal"
          ],
          [
           "Chile",
           "CHL",
           "No Data",
           "No Data",
           4.246,
           0.23,
           -5.76,
           "Oil"
          ],
          [
           "China",
           "CHN",
           52.2,
           35,
           7.412,
           30.65,
           1.7,
           "Coal"
          ],
          [
           "Christmas Island",
           "CXR",
           "No Data",
           "No Data",
           "No Data",
           "No Data",
           0,
           "Coal"
          ],
          [
           "Colombia",
           "COL",
           57.87,
           22,
           1.751,
           0.26,
           -1.45,
           "Oil"
          ],
          [
           "Comoros",
           "COM",
           "No Data",
           "No Data",
           0.297,
           0,
           -15.49,
           "Coal"
          ],
          [
           "Congo",
           "COG",
           "No Data",
           "No Data",
           0.565,
           0.01,
           -5.3,
           "Coal"
          ],
          [
           "Cook Islands",
           "COK",
           "No Data",
           "No Data",
           4.522,
           0,
           0.14,
           "Coal"
          ],
          [
           "Costa Rica",
           "CRI",
           "No Data",
           "No Data",
           1.552,
           0.02,
           -10.33,
           "Coal"
          ],
          [
           "Cote d'Ivoire",
           "CIV",
           "No Data",
           "No Data",
           0.382,
           0.03,
           -3.9,
           "Coal"
          ],
          [
           "Croatia",
           "HRV",
           55.96,
           26,
           4.137,
           0.05,
           -4.48,
           "Oil"
          ],
          [
           "Cuba",
           "CUB",
           "No Data",
           "No Data",
           1.779,
           0.06,
           -10.53,
           "Oil"
          ],
          [
           "Curacao",
           "CUW",
           "No Data",
           "No Data",
           20.323,
           0.01,
           -11.33,
           "Coal"
          ],
          [
           "Cyprus",
           "CYP",
           50.52,
           39,
           5.38,
           0.02,
           -11.5,
           "Oil"
          ],
          [
           "Czechia",
           "CZE",
           42.15,
           48,
           8.215,
           0.25,
           -12.73,
           "Coal"
          ],
          [
           "Democratic Republic of Congo",
           "COD",
           "No Data",
           "No Data",
           0.028,
           0.01,
           -7.86,
           "Coal"
          ],
          [
           "Denmark",
           "DNK",
           76.67,
           1,
           4.522,
           0.08,
           -15.22,
           "Oil"
          ],
          [
           "Djibouti",
           "DJI",
           "No Data",
           "No Data",
           0.356,
           0,
           -12.66,
           "Coal"
          ],
          [
           "Dominica",
           "DMA",
           "No Data",
           "No Data",
           1.934,
           0,
           -11.51,
           "Coal"
          ],
          [
           "Dominican Republic",
           "DOM",
           "No Data",
           "No Data",
           2.56,
           0.08,
           0.91,
           "Oil"
          ],
          [
           "Ecuador",
           "ECU",
           "No Data",
           "No Data",
           1.753,
           0.09,
           -15.85,
           "Coal"
          ],
          [
           "Egypt",
           "EGY",
           59.74,
           18,
           2.086,
           0.61,
           -5.5,
           "Gas"
          ],
          [
           "El Salvador",
           "SLV",
           "No Data",
           "No Data",
           0.944,
           0.02,
           -10.64,
           "Oil"
          ],
          [
           "Equatorial Guinea",
           "GNQ",
           "No Data",
           "No Data",
           7.317,
           0.03,
           -0.04,
           "Coal"
          ],
          [
           "Eritrea",
           "ERI",
           "No Data",
           "No Data",
           0.204,
           0,
           -13.48,
           "Coal"
          ],
          [
           "Estonia",
           "EST",
           54.98,
           29,
           7.88,
           0.03,
           -15.57,
           "Coal"
          ],
          [
           "Eswatini",
           "SWZ",
           "No Data",
           "No Data",
           0.824,
           0,
           -5.64,
           "Oil"
          ],
          [
           "Ethiopia",
           "ETH",
           "No Data",
           "No Data",
           0.128,
           0.04,
           -10.42,
           "Oil"
          ],
          [
           "Faeroe Islands",
           "FRO",
           "No Data",
           "No Data",
           13.996,
           0,
           -7.08,
           "Coal"
          ],
          [
           "Fiji",
           "FJI",
           "No Data",
           "No Data",
           1.554,
           0,
           0.13,
           "Coal"
          ],
          [
           "Finland",
           "FIN",
           62.41,
           11,
           7.091,
           0.11,
           -7.66,
           "Oil"
          ],
          [
           "France",
           "FRA",
           61.01,
           14,
           4.238,
           0.79,
           -12.44,
           "Oil"
          ],
          [
           "French Guiana",
           "GUF",
           "No Data",
           "No Data",
           2.439,
           0,
           0,
           "Coal"
          ],
          [
           "French Polynesia",
           "PYF",
           "No Data",
           "No Data",
           2.949,
           0,
           0.14,
           "Coal"
          ],
          [
           "Gabon",
           "GAB",
           "No Data",
           "No Data",
           1.931,
           0.01,
           -4.22,
           "Coal"
          ],
          [
           "Gambia",
           "GMB",
           "No Data",
           "No Data",
           0.207,
           0,
           -8.6,
           "Coal"
          ],
          [
           "Georgia",
           "GEO",
           "No Data",
           "No Data",
           2.499,
           0.03,
           -4.89,
           "Gas"
          ],
          [
           "Germany",
           "DEU",
           63.53,
           10,
           7.69,
           1.85,
           -9.43,
           "Oil"
          ],
          [
           "Ghana",
           "GHA",
           "No Data",
           "No Data",
           0.515,
           0.05,
           -5.42,
           "Coal"
          ],
          [
           "Greece",
           "GRC",
           58.22,
           21,
           5.012,
           0.15,
           -20.54,
           "Oil"
          ],
          [
           "Greenland",
           "GRL",
           "No Data",
           "No Data",
           9.061,
           0,
           -7.08,
           "Coal"
          ],
          [
           "Grenada",
           "GRD",
           "No Data",
           "No Data",
           2.62,
           0,
           -11.27,
           "Coal"
          ],
          [
           "Guadeloupe",
           "GLP",
           "No Data",
           "No Data",
           6.403,
           0.01,
           0,
           "Oil"
          ],
          [
           "Guatemala",
           "GTM",
           "No Data",
           "No Data",
           1.057,
           0.05,
           -13.66,
           "Oil"
          ],
          [
           "Guinea",
           "GIN",
           "No Data",
           "No Data",
           0.258,
           0.01,
           -8.69,
           "Coal"
          ],
          [
           "Guinea-Bissau",
           "GNB",
           "No Data",
           "No Data",
           0.146,
           0,
           -8.69,
           "Coal"
          ],
          [
           "Guyana",
           "GUY",
           "No Data",
           "No Data",
           2.813,
           0.01,
           -11.01,
           "Coal"
          ],
          [
           "Haiti",
           "HTI",
           "No Data",
           "No Data",
           0.256,
           0.01,
           -11.23,
           "Coal"
          ],
          [
           "Honduras",
           "HND",
           "No Data",
           "No Data",
           0.975,
           0.03,
           -10.47,
           "Coal"
          ],
          [
           "Hong Kong",
           "HKG",
           "No Data",
           "No Data",
           4.167,
           0.09,
           -25.25,
           "Coal"
          ],
          [
           "Hungary",
           "HUN",
           40.41,
           50,
           4.997,
           0.14,
           -1.64,
           "Gas"
          ],
          [
           "Iceland",
           "ISL",
           "No Data",
           "No Data",
           8.604,
           0.01,
           -17.31,
           "Oil"
          ],
          [
           "India",
           "IND",
           69.2,
           7,
           1.769,
           7.02,
           -7.01,
           "Coal"
          ],
          [
           "Indonesia",
           "IDN",
           57.17,
           24,
           2.155,
           1.69,
           -10.76,
           "Coal"
          ],
          [
           "Iran",
           "IRN",
           25.66,
           59,
           8.87,
           2.14,
           1.59,
           "Gas"
          ],
          [
           "Iraq",
           "IRQ",
           "No Data",
           "No Data",
           5.242,
           0.61,
           -5.45,
           "Coal"
          ],
          [
           "Ireland",
           "IRL",
           47.86,
           43,
           6.754,
           0.1,
           -10.53,
           "Oil"
          ],
          [
           "Israel",
           "ISR",
           "No Data",
           "No Data",
           6.51,
           0.16,
           -9.68,
           "Oil"
          ],
          [
           "Italy",
           "ITA",
           55.39,
           27,
           5.025,
           0.87,
           -10.58,
           "Gas"
          ],
          [
           "Jamaica",
           "JAM",
           "No Data",
           "No Data",
           2.509,
           0.02,
           -7.65,
           "Oil"
          ],
          [
           "Japan",
           "JPN",
           48.53,
           42,
           8.15,
           2.96,
           -6.8,
           "Coal"
          ],
          [
           "Jordan",
           "JOR",
           "No Data",
           "No Data",
           2.498,
           0.07,
           -1,
           "Oil"
          ],
          [
           "Kazakhstan",
           "KAZ",
           19.23,
           61,
           15.516,
           0.84,
           -1.53,
           "Coal"
          ],
          [
           "Kenya",
           "KEN",
           "No Data",
           "No Data",
           0.3,
           0.05,
           -12,
           "Oil"
          ],
          [
           "Kiribati",
           "KIR",
           "No Data",
           "No Data",
           0.57,
           0,
           0.14,
           "Coal"
          ],
          [
           "Kosovo",
           "OWID_KOS",
           "No Data",
           "No Data",
           "No Data",
           0.02,
           -13.29,
           "Coal"
          ],
          [
           "Kuwait",
           "KWT",
           "No Data",
           "No Data",
           20.825,
           0.26,
           -7.98,
           "Coal"
          ],
          [
           "Kyrgyzstan",
           "KGZ",
           "No Data",
           "No Data",
           1.764,
           0.03,
           4.45,
           "Oil"
          ],
          [
           "Laos",
           "LAO",
           "No Data",
           "No Data",
           4.652,
           0.1,
           -0.25,
           "Coal"
          ],
          [
           "Latvia",
           "LVA",
           57.73,
           23,
           3.591,
           0.02,
           -11.45,
           "Oil"
          ],
          [
           "Lebanon",
           "LBN",
           "No Data",
           "No Data",
           3.805,
           0.07,
           -2.58,
           "Oil"
          ],
          [
           "Lesotho",
           "LSO",
           "No Data",
           "No Data",
           1.019,
           0.01,
           -5.93,
           "Coal"
          ],
          [
           "Liberia",
           "LBR",
           "No Data",
           "No Data",
           0.2,
           0,
           -7.72,
           "Coal"
          ],
          [
           "Libya",
           "LBY",
           "No Data",
           "No Data",
           7.382,
           0.15,
           -6.95,
           "Coal"
          ],
          [
           "Liechtenstein",
           "LIE",
           "No Data",
           "No Data",
           3.698,
           0,
           -4.98,
           "Coal"
          ],
          [
           "Lithuania",
           "LTU",
           64.89,
           8,
           5.069,
           0.04,
           -0.89,
           "Oil"
          ],
          [
           "Luxembourg",
           "LUX",
           60.8,
           15,
           13.059,
           0.02,
           -16.18,
           "Oil"
          ],
          [
           "Madagascar",
           "MDG",
           "No Data",
           "No Data",
           0.133,
           0.01,
           -9.14,
           "Oil"
          ],
          [
           "Malawi",
           "MWI",
           "No Data",
           "No Data",
           0.073,
           0,
           -12.18,
           "Oil"
          ],
          [
           "Malaysia",
           "MYS",
           33.74,
           54,
           8.423,
           0.78,
           -2.17,
           "Coal"
          ],
          [
           "Maldives",
           "MDV",
           "No Data",
           "No Data",
           3.324,
           0.01,
           0.14,
           "Coal"
          ],
          [
           "Mali",
           "MLI",
           "No Data",
           "No Data",
           0.167,
           0.01,
           -8.08,
           "Coal"
          ],
          [
           "Malta",
           "MLT",
           64.18,
           9,
           3.612,
           0,
           -4.45,
           "Oil"
          ],
          [
           "Marshall Islands",
           "MHL",
           "No Data",
           "No Data",
           2.556,
           0,
           0.14,
           "Coal"
          ],
          [
           "Martinique",
           "MTQ",
           "No Data",
           "No Data",
           6.258,
           0.01,
           0,
           "Coal"
          ],
          [
           "Mauritania",
           "MRT",
           "No Data",
           "No Data",
           0.726,
           0.01,
           -8.69,
           "Coal"
          ],
          [
           "Mauritius",
           "MUS",
           "No Data",
           "No Data",
           3.129,
           0.01,
           -9.11,
           "Oil"
          ],
          [
           "Mayotte",
           "MYT",
           "No Data",
           "No Data",
           1.12,
           0,
           0,
           "Coal"
          ],
          [
           "Mexico",
           "MEX",
           56.05,
           25,
           2.769,
           1.03,
           -18.03,
           "Oil"
          ],
          [
           "Moldova",
           "MDA",
           "No Data",
           "No Data",
           1.276,
           0.01,
           -0.18,
           "Oil"
          ],
          [
           "Mongolia",
           "MNG",
           "No Data",
           "No Data",
           26.978,
           0.25,
           -0.28,
           "Coal"
          ],
          [
           "Montenegro",
           "MNE",
           "No Data",
           "No Data",
           3.678,
           0.01,
           -12.67,
           "Coal"
          ],
          [
           "Montserrat",
           "MSR",
           "No Data",
           "No Data",
           5.065,
           0,
           -11.51,
           "Coal"
          ],
          [
           "Morocco",
           "MAR",
           71.6,
           5,
           1.748,
           0.19,
           -5.4,
           "Oil"
          ],
          [
           "Mozambique",
           "MOZ",
           "No Data",
           "No Data",
           0.21,
           0.02,
           -9.83,
           "Oil"
          ],
          [
           "Myanmar",
           "MMR",
           "No Data",
           "No Data",
           0.668,
           0.1,
           0.77,
           "Oil"
          ],
          [
           "Namibia",
           "NAM",
           "No Data",
           "No Data",
           1.526,
           0.01,
           -5.02,
           "Oil"
          ],
          [
           "Nauru",
           "NRU",
           "No Data",
           "No Data",
           5.236,
           0,
           0.14,
           "Coal"
          ],
          [
           "Nepal",
           "NPL",
           "No Data",
           "No Data",
           0.582,
           0.05,
           -0.05,
           "Oil"
          ],
          [
           "Netherlands",
           "NLD",
           60.44,
           16,
           8.06,
           0.4,
           -10.09,
           "Gas"
          ],
          [
           "New Caledonia",
           "NCL",
           "No Data",
           "No Data",
           30.448,
           0.02,
           -0.16,
           "Coal"
          ],
          [
           "New Zealand",
           "NZL",
           54.03,
           32,
           6.942,
           0.1,
           -10.72,
           "Oil"
          ],
          [
           "Nicaragua",
           "NIC",
           "No Data",
           "No Data",
           0.766,
           0.01,
           -10.57,
           "Coal"
          ],
          [
           "Niger",
           "NER",
           "No Data",
           "No Data",
           0.07,
           0,
           -8.79,
           "Oil"
          ],
          [
           "Nigeria",
           "NGA",
           "No Data",
           "No Data",
           0.609,
           0.36,
           -3.57,
           "Oil"
          ],
          [
           "Niue",
           "NIU",
           "No Data",
           "No Data",
           7.012,
           0,
           0.14,
           "Coal"
          ],
          [
           "North Korea",
           "PRK",
           "No Data",
           "No Data",
           1.137,
           0.08,
           -0.23,
           "Coal"
          ],
          [
           "North Macedonia",
           "MKD",
           "No Data",
           "No Data",
           3.43,
           0.02,
           -10.38,
           "Coal"
          ],
          [
           "Norway",
           "NOR",
           73.29,
           3,
           7.615,
           0.12,
           -3.69,
           "Oil"
          ],
          [
           "Oman",
           "OMN",
           "No Data",
           "No Data",
           12.173,
           0.18,
           2.31,
           "Coal"
          ],
          [
           "Pakistan",
           "PAK",
           "No Data",
           "No Data",
           1.063,
           0.67,
           0.2,
           "Oil"
          ],
          [
           "Palau",
           "PLW",
           "No Data",
           "No Data",
           12.125,
           0,
           0.14,
           "Coal"
          ],
          [
           "Palestine",
           "PSE",
           "No Data",
           "No Data",
           0.568,
           0.01,
           -2.92,
           "Coal"
          ],
          [
           "Panama",
           "PAN",
           "No Data",
           "No Data",
           2.498,
           0.03,
           -12.32,
           "Oil"
          ],
          [
           "Papua New Guinea",
           "PNG",
           "No Data",
           "No Data",
           0.744,
           0.02,
           0.52,
           "Coal"
          ],
          [
           "Paraguay",
           "PRY",
           "No Data",
           "No Data",
           1.061,
           0.02,
           -11.2,
           "Oil"
          ],
          [
           "Peru",
           "PER",
           "No Data",
           "No Data",
           1.356,
           0.13,
           -18.68,
           "Oil"
          ],
          [
           "Philippines",
           "PHL",
           58.98,
           20,
           1.241,
           0.39,
           -7.23,
           "Coal"
          ],
          [
           "Poland",
           "POL",
           40.63,
           49,
           7.916,
           0.86,
           -6.24,
           "Coal"
          ],
          [
           "Portugal",
           "PRT",
           61.11,
           13,
           3.961,
           0.12,
           -15.2,
           "Oil"
          ],
          [
           "Puerto Rico",
           "PRI",
           "No Data",
           "No Data",
           "No Data",
           "No Data",
           0,
           "Coal"
          ],
          [
           "Qatar",
           "QAT",
           "No Data",
           "No Data",
           37.019,
           0.31,
           -7.29,
           "Coal"
          ],
          [
           "Romania",
           "ROU",
           52.43,
           33,
           3.715,
           0.21,
           -4.5,
           "Oil"
          ],
          [
           "Russia",
           "RUS",
           34.73,
           53,
           10.807,
           4.53,
           -6.09,
           "Gas"
          ],
          [
           "Rwanda",
           "RWA",
           "No Data",
           "No Data",
           0.08,
           0,
           -13.03,
           "Oil"
          ],
          [
           "Saint Helena",
           "SHN",
           "No Data",
           "No Data",
           1.564,
           0,
           -11.51,
           "Coal"
          ],
          [
           "Saint Kitts and Nevis",
           "KNA",
           "No Data",
           "No Data",
           3.986,
           0,
           -11.51,
           "Coal"
          ],
          [
           "Saint Lucia",
           "LCA",
           "No Data",
           "No Data",
           2.396,
           0,
           -11.51,
           "Coal"
          ],
          [
           "Saint Pierre and Miquelon",
           "SPM",
           "No Data",
           "No Data",
           8.738,
           0,
           -11.51,
           "Coal"
          ],
          [
           "Saint Vincent and the Grenadines",
           "VCT",
           "No Data",
           "No Data",
           1.883,
           0,
           -11.51,
           "Coal"
          ],
          [
           "Samoa",
           "WSM",
           "No Data",
           "No Data",
           1.239,
           0,
           0.14,
           "Coal"
          ],
          [
           "Sao Tome and Principe",
           "STP",
           "No Data",
           "No Data",
           0.514,
           0,
           -10.71,
           "Coal"
          ],
          [
           "Saudi Arabia",
           "SAU",
           24.25,
           60,
           17.967,
           1.8,
           0.5,
           "Coal"
          ],
          [
           "Senegal",
           "SEN",
           "No Data",
           "No Data",
           0.624,
           0.03,
           -7.23,
           "Oil"
          ],
          [
           "Serbia",
           "SRB",
           "No Data",
           "No Data",
           4.937,
           0.12,
           -12.57,
           "Coal"
          ],
          [
           "Seychelles",
           "SYC",
           "No Data",
           "No Data",
           4.994,
           0,
           -15.49,
           "Coal"
          ],
          [
           "Sierra Leone",
           "SLE",
           "No Data",
           "No Data",
           0.11,
           0,
           -8.69,
           "Coal"
          ],
          [
           "Singapore",
           "SGP",
           "No Data",
           "No Data",
           7.778,
           0.13,
           -0.44,
           "Oil"
          ],
          [
           "Sint Maarten (Dutch part)",
           "SXM",
           "No Data",
           "No Data",
           14.539,
           0,
           -11.51,
           "Coal"
          ],
          [
           "Slovakia",
           "SVK",
           50.67,
           37,
           5.629,
           0.09,
           -9.01,
           "Oil"
          ],
          [
           "Slovenia",
           "SVN",
           43.28,
           47,
           6.043,
           0.04,
           -10.3,
           "Oil"
          ],
          [
           "Solomon Islands",
           "SLB",
           "No Data",
           "No Data",
           0.435,
           0,
           0.14,
           "Coal"
          ],
          [
           "Somalia",
           "SOM",
           "No Data",
           "No Data",
           0.035,
           0,
           -15.49,
           "Coal"
          ],
          [
           "South Africa",
           "ZAF",
           51.13,
           36,
           7.62,
           1.3,
           -5.04,
           "Coal"
          ],
          [
           "South Korea",
           "KOR",
           26.74,
           57,
           11.656,
           1.72,
           -7.78,
           "Coal"
          ],
          [
           "South Sudan",
           "SSD",
           "No Data",
           "No Data",
           0.105,
           0,
           -15.49,
           "Coal"
          ],
          [
           "Spain",
           "ESP",
           54.35,
           31,
           4.468,
           0.6,
           -16.93,
           "Oil"
          ],
          [
           "Sri Lanka",
           "LKA",
           "No Data",
           "No Data",
           0.986,
           0.06,
           -7.53,
           "Oil"
          ],
          [
           "Sudan",
           "SDN",
           "No Data",
           "No Data",
           0.43,
           0.05,
           -14.4,
           "Coal"
          ],
          [
           "Suriname",
           "SUR",
           "No Data",
           "No Data",
           3.791,
           0.01,
           -11.75,
           "Coal"
          ],
          [
           "Sweden",
           "SWE",
           74.22,
           2,
           3.826,
           0.11,
           -5.62,
           "Oil"
          ],
          [
           "Switzerland",
           "CHE",
           61.7,
           12,
           3.732,
           0.09,
           -12.09,
           "Oil"
          ],
          [
           "Syria",
           "SYR",
           "No Data",
           "No Data",
           1.745,
           0.09,
           -1.54,
           "Oil"
          ],
          [
           "Taiwan",
           "TWN",
           "No Data",
           "No Data",
           11.47,
           0.78,
           -0.78,
           "Coal"
          ],
          [
           "Tajikistan",
           "TJK",
           "No Data",
           "No Data",
           0.991,
           0.03,
           9.42,
           "Coal"
          ],
          [
           "Tanzania",
           "TZA",
           "No Data",
           "No Data",
           0.183,
           0.03,
           -9.17,
           "Oil"
          ],
          [
           "Thailand",
           "THA",
           55.01,
           28,
           3.693,
           0.74,
           -5.1,
           "Oil"
          ],
          [
           "Timor",
           "TLS",
           "No Data",
           "No Data",
           0.399,
           0,
           0.14,
           "Coal"
          ],
          [
           "Togo",
           "TGO",
           "No Data",
           "No Data",
           0.265,
           0.01,
           -4.93,
           "Coal"
          ],
          [
           "Tonga",
           "TON",
           "No Data",
           "No Data",
           1.36,
           0,
           0.14,
           "Coal"
          ],
          [
           "Trinidad and Tobago",
           "TTO",
           "No Data",
           "No Data",
           25.373,
           0.1,
           -12.06,
           "Coal"
          ],
          [
           "Tunisia",
           "TUN",
           "No Data",
           "No Data",
           2.38,
           0.08,
           -6.28,
           "Coal"
          ],
          [
           "Turkey",
           "TUR",
           50.53,
           38,
           4.657,
           1.13,
           -1.64,
           "Coal"
          ],
          [
           "Turkmenistan",
           "TKM",
           "No Data",
           "No Data",
           12.491,
           0.22,
           -1.29,
           "Coal"
          ],
          [
           "Turks and Caicos Islands",
           "TCA",
           "No Data",
           "No Data",
           5.231,
           0,
           -11.51,
           "Coal"
          ],
          [
           "Tuvalu",
           "TUV",
           "No Data",
           "No Data",
           0.642,
           0,
           0.15,
           "Coal"
          ],
          [
           "Uganda",
           "UGA",
           "No Data",
           "No Data",
           0.107,
           0.01,
           -14.48,
           "Coal"
          ],
          [
           "Ukraine",
           "UKR",
           60.4,
           17,
           4.891,
           0.61,
           -3.9,
           "Coal"
          ],
          [
           "United Arab Emirates",
           "ARE",
           "No Data",
           "No Data",
           15.193,
           0.43,
           -2.54,
           "Gas"
          ],
          [
           "United Kingdom",
           "GBR",
           73.09,
           4,
           4.855,
           0.95,
           -10.69,
           "Gas"
          ],
          [
           "United States",
           "USA",
           37.39,
           52,
           14.238,
           13.54,
           -10.33,
           "Oil"
          ],
          [
           "Uruguay",
           "URY",
           "No Data",
           "No Data",
           1.681,
           0.02,
           -11.3,
           "Oil"
          ],
          [
           "Uzbekistan",
           "UZB",
           "No Data",
           "No Data",
           3.37,
           0.32,
           -1.24,
           "Gas"
          ],
          [
           "Vanuatu",
           "VUT",
           "No Data",
           "No Data",
           0.591,
           0,
           0.14,
           "Coal"
          ],
          [
           "Venezuela",
           "VEN",
           "No Data",
           "No Data",
           2.975,
           0.24,
           -14.69,
           "Flaring"
          ],
          [
           "Vietnam",
           "VNM",
           49.21,
           40,
           2.613,
           0.73,
           -2.31,
           "Coal"
          ],
          [
           "Yemen",
           "YEM",
           "No Data",
           "No Data",
           0.328,
           0.03,
           -2.52,
           "Oil"
          ],
          [
           "Zambia",
           "ZMB",
           "No Data",
           "No Data",
           0.358,
           0.02,
           -6.73,
           "Oil"
          ],
          [
           "Zimbabwe",
           "ZWE",
           "No Data",
           "No Data",
           0.709,
           0.03,
           -3.82,
           "Coal"
          ]
         ],
         "hovertemplate": "%{customdata[0]} (%{customdata[1]})<br>CCPI Score: %{customdata[2]}<br>CCPI Rank: %{customdata[3]}<br>CO<sub>2</sub> Emissions per Capita: %{customdata[4]}<br>Global Share of CO<sub>2</sub> Emissions: %{customdata[5]}<br>Percent Growth of CO<sub>2</sub> Emissions: %{customdata[6]}<br>Primary CO<sub>2</sub> Emissions Source: %{customdata[7]}<br><extra></extra>",
         "locations": [
          "AFG",
          "ALB",
          "DZA",
          "AND",
          "AGO",
          "AIA",
          "ATA",
          "ATG",
          "ARG",
          "ARM",
          "ABW",
          "AUS",
          "AUT",
          "AZE",
          "BHS",
          "BHR",
          "BGD",
          "BRB",
          "BLR",
          "BEL",
          "BLZ",
          "BEN",
          "BMU",
          "BTN",
          "BOL",
          "BES",
          "BIH",
          "BWA",
          "BRA",
          "VGB",
          "BRN",
          "BGR",
          "BFA",
          "BDI",
          "KHM",
          "CMR",
          "CAN",
          "CPV",
          "CAF",
          "TCD",
          "CHL",
          "CHN",
          "CXR",
          "COL",
          "COM",
          "COG",
          "COK",
          "CRI",
          "CIV",
          "HRV",
          "CUB",
          "CUW",
          "CYP",
          "CZE",
          "COD",
          "DNK",
          "DJI",
          "DMA",
          "DOM",
          "ECU",
          "EGY",
          "SLV",
          "GNQ",
          "ERI",
          "EST",
          "SWZ",
          "ETH",
          "FRO",
          "FJI",
          "FIN",
          "FRA",
          "GUF",
          "PYF",
          "GAB",
          "GMB",
          "GEO",
          "DEU",
          "GHA",
          "GRC",
          "GRL",
          "GRD",
          "GLP",
          "GTM",
          "GIN",
          "GNB",
          "GUY",
          "HTI",
          "HND",
          "HKG",
          "HUN",
          "ISL",
          "IND",
          "IDN",
          "IRN",
          "IRQ",
          "IRL",
          "ISR",
          "ITA",
          "JAM",
          "JPN",
          "JOR",
          "KAZ",
          "KEN",
          "KIR",
          "OWID_KOS",
          "KWT",
          "KGZ",
          "LAO",
          "LVA",
          "LBN",
          "LSO",
          "LBR",
          "LBY",
          "LIE",
          "LTU",
          "LUX",
          "MDG",
          "MWI",
          "MYS",
          "MDV",
          "MLI",
          "MLT",
          "MHL",
          "MTQ",
          "MRT",
          "MUS",
          "MYT",
          "MEX",
          "MDA",
          "MNG",
          "MNE",
          "MSR",
          "MAR",
          "MOZ",
          "MMR",
          "NAM",
          "NRU",
          "NPL",
          "NLD",
          "NCL",
          "NZL",
          "NIC",
          "NER",
          "NGA",
          "NIU",
          "PRK",
          "MKD",
          "NOR",
          "OMN",
          "PAK",
          "PLW",
          "PSE",
          "PAN",
          "PNG",
          "PRY",
          "PER",
          "PHL",
          "POL",
          "PRT",
          "PRI",
          "QAT",
          "ROU",
          "RUS",
          "RWA",
          "SHN",
          "KNA",
          "LCA",
          "SPM",
          "VCT",
          "WSM",
          "STP",
          "SAU",
          "SEN",
          "SRB",
          "SYC",
          "SLE",
          "SGP",
          "SXM",
          "SVK",
          "SVN",
          "SLB",
          "SOM",
          "ZAF",
          "KOR",
          "SSD",
          "ESP",
          "LKA",
          "SDN",
          "SUR",
          "SWE",
          "CHE",
          "SYR",
          "TWN",
          "TJK",
          "TZA",
          "THA",
          "TLS",
          "TGO",
          "TON",
          "TTO",
          "TUN",
          "TUR",
          "TKM",
          "TCA",
          "TUV",
          "UGA",
          "UKR",
          "ARE",
          "GBR",
          "USA",
          "URY",
          "UZB",
          "VUT",
          "VEN",
          "VNM",
          "YEM",
          "ZMB",
          "ZWE"
         ],
         "marker": {
          "line": {
           "width": 0.1
          }
         },
         "reversescale": true,
         "type": "choropleth",
         "visible": false,
         "z": [
          0.11,
          -6.76,
          -6.99,
          -7.08,
          -5.49,
          -11.51,
          0,
          -11.51,
          -6.32,
          6.54,
          -11.51,
          -5.46,
          -10.78,
          -2.59,
          -11.38,
          1.51,
          -1.46,
          -10.58,
          -5.86,
          -16.04,
          -11.48,
          -8.37,
          -10.54,
          -0.11,
          -13.2,
          -11.51,
          -13.8,
          -5.86,
          -3.79,
          -11.51,
          2.01,
          -11.32,
          -8.45,
          -14.47,
          -0.02,
          -6.88,
          -8,
          -8.69,
          -10.71,
          -9.26,
          -5.76,
          1.7,
          0,
          -1.45,
          -15.49,
          -5.3,
          0.14,
          -10.33,
          -3.9,
          -4.48,
          -10.53,
          -11.33,
          -11.5,
          -12.73,
          -7.86,
          -15.22,
          -12.66,
          -11.51,
          0.91,
          -15.85,
          -5.5,
          -10.64,
          -0.04,
          -13.48,
          -15.57,
          -5.64,
          -10.42,
          -7.08,
          0.13,
          -7.66,
          -12.44,
          0,
          0.14,
          -4.22,
          -8.6,
          -4.89,
          -9.43,
          -5.42,
          -20.54,
          -7.08,
          -11.27,
          0,
          -13.66,
          -8.69,
          -8.69,
          -11.01,
          -11.23,
          -10.47,
          -25.25,
          -1.64,
          -17.31,
          -7.01,
          -10.76,
          1.59,
          -5.45,
          -10.53,
          -9.68,
          -10.58,
          -7.65,
          -6.8,
          -1,
          -1.53,
          -12,
          0.14,
          -13.29,
          -7.98,
          4.45,
          -0.25,
          -11.45,
          -2.58,
          -5.93,
          -7.72,
          -6.95,
          -4.98,
          -0.89,
          -16.18,
          -9.14,
          -12.18,
          -2.17,
          0.14,
          -8.08,
          -4.45,
          0.14,
          0,
          -8.69,
          -9.11,
          0,
          -18.03,
          -0.18,
          -0.28,
          -12.67,
          -11.51,
          -5.4,
          -9.83,
          0.77,
          -5.02,
          0.14,
          -0.05,
          -10.09,
          -0.16,
          -10.72,
          -10.57,
          -8.79,
          -3.57,
          0.14,
          -0.23,
          -10.38,
          -3.69,
          2.31,
          0.2,
          0.14,
          -2.92,
          -12.32,
          0.52,
          -11.2,
          -18.68,
          -7.23,
          -6.24,
          -15.2,
          0,
          -7.29,
          -4.5,
          -6.09,
          -13.03,
          -11.51,
          -11.51,
          -11.51,
          -11.51,
          -11.51,
          0.14,
          -10.71,
          0.5,
          -7.23,
          -12.57,
          -15.49,
          -8.69,
          -0.44,
          -11.51,
          -9.01,
          -10.3,
          0.14,
          -15.49,
          -5.04,
          -7.78,
          -15.49,
          -16.93,
          -7.53,
          -14.4,
          -11.75,
          -5.62,
          -12.09,
          -1.54,
          -0.78,
          9.42,
          -9.17,
          -5.1,
          0.14,
          -4.93,
          0.14,
          -12.06,
          -6.28,
          -1.64,
          -1.29,
          -11.51,
          0.15,
          -14.48,
          -3.9,
          -2.54,
          -10.69,
          -10.33,
          -11.3,
          -1.24,
          0.14,
          -14.69,
          -2.31,
          -2.52,
          -6.73,
          -3.82
         ],
         "zmax": 10,
         "zmid": 0,
         "zmin": -10
        },
        {
         "colorbar": {
          "ticktext": [
           "Coal",
           "Gas",
           "Flaring",
           "Oil"
          ],
          "tickvals": [
           0,
           1,
           2,
           3
          ],
          "title": {
           "text": "Primary CO<sub>2</sub><br>Emissions<br>Source"
          }
         },
         "colorscale": [
          [
           0,
           "rgb(165,0,38)"
          ],
          [
           0.1,
           "rgb(215,48,39)"
          ],
          [
           0.2,
           "rgb(244,109,67)"
          ],
          [
           0.3,
           "rgb(253,174,97)"
          ],
          [
           0.4,
           "rgb(254,224,139)"
          ],
          [
           0.5,
           "rgb(255,255,191)"
          ],
          [
           0.6,
           "rgb(217,239,139)"
          ],
          [
           0.7,
           "rgb(166,217,106)"
          ],
          [
           0.8,
           "rgb(102,189,99)"
          ],
          [
           0.9,
           "rgb(26,152,80)"
          ],
          [
           1,
           "rgb(0,104,55)"
          ]
         ],
         "customdata": [
          [
           "Afghanistan",
           "AFG",
           "No Data",
           "No Data",
           0.312,
           0.03,
           0.11,
           "Coal"
          ],
          [
           "Albania",
           "ALB",
           "No Data",
           "No Data",
           1.576,
           0.01,
           -6.76,
           "Oil"
          ],
          [
           "Algeria",
           "DZA",
           39.91,
           51,
           3.535,
           0.45,
           -6.99,
           "Gas"
          ],
          [
           "Andorra",
           "AND",
           "No Data",
           "No Data",
           6.035,
           0,
           -7.08,
           "Coal"
          ],
          [
           "Angola",
           "AGO",
           "No Data",
           "No Data",
           0.675,
           0.06,
           -5.49,
           "Coal"
          ],
          [
           "Anguilla",
           "AIA",
           "No Data",
           "No Data",
           8.227,
           0,
           -11.51,
           "Coal"
          ],
          [
           "Antarctica",
           "ATA",
           "No Data",
           "No Data",
           "No Data",
           "No Data",
           0,
           "Coal"
          ],
          [
           "Antigua and Barbuda",
           "ATG",
           "No Data",
           "No Data",
           4.395,
           0,
           -11.51,
           "Coal"
          ],
          [
           "Argentina",
           "ARG",
           47.08,
           44,
           3.473,
           0.45,
           -6.32,
           "Gas"
          ],
          [
           "Armenia",
           "ARM",
           "No Data",
           "No Data",
           1.988,
           0.02,
           6.54,
           "Gas"
          ],
          [
           "Aruba",
           "ABW",
           "No Data",
           "No Data",
           7.055,
           0,
           -11.51,
           "Coal"
          ],
          [
           "Australia",
           "AUS",
           30.06,
           56,
           15.368,
           1.13,
           -5.46,
           "Coal"
          ],
          [
           "Austria",
           "AUT",
           52.35,
           34,
           6.732,
           0.17,
           -10.78,
           "Oil"
          ],
          [
           "Azerbaijan",
           "AZE",
           "No Data",
           "No Data",
           3.72,
           0.11,
           -2.59,
           "Gas"
          ],
          [
           "Bahamas",
           "BHS",
           "No Data",
           "No Data",
           5.945,
           0.01,
           -11.38,
           "Oil"
          ],
          [
           "Bahrain",
           "BHR",
           "No Data",
           "No Data",
           20.546,
           0.1,
           1.51,
           "Coal"
          ],
          [
           "Bangladesh",
           "BGD",
           "No Data",
           "No Data",
           0.564,
           0.27,
           -1.46,
           "Gas"
          ],
          [
           "Barbados",
           "BRB",
           "No Data",
           "No Data",
           3.782,
           0,
           -10.58,
           "Coal"
          ],
          [
           "Belarus",
           "BLR",
           46.66,
           45,
           6.079,
           0.17,
           -5.86,
           "Gas"
          ],
          [
           "Belgium",
           "BEL",
           45.9,
           46,
           7.226,
           0.24,
           -16.04,
           "Gas"
          ],
          [
           "Belize",
           "BLZ",
           "No Data",
           "No Data",
           1.466,
           0,
           -11.48,
           "Coal"
          ],
          [
           "Benin",
           "BEN",
           "No Data",
           "No Data",
           0.553,
           0.02,
           -8.37,
           "Coal"
          ],
          [
           "Bermuda",
           "BMU",
           "No Data",
           "No Data",
           10.028,
           0,
           -10.54,
           "Oil"
          ],
          [
           "Bhutan",
           "BTN",
           "No Data",
           "No Data",
           2.495,
           0.01,
           -0.11,
           "Coal"
          ],
          [
           "Bolivia",
           "BOL",
           "No Data",
           "No Data",
           1.773,
           0.06,
           -13.2,
           "Oil"
          ],
          [
           "Bonaire Sint Eustatius and Saba",
           "BES",
           "No Data",
           "No Data",
           11.466,
           0,
           -11.51,
           "Coal"
          ],
          [
           "Bosnia and Herzegovina",
           "BIH",
           "No Data",
           "No Data",
           6.528,
           0.06,
           -13.8,
           "Coal"
          ],
          [
           "Botswana",
           "BWA",
           "No Data",
           "No Data",
           2.772,
           0.02,
           -5.86,
           "Coal"
          ],
          [
           "Brazil",
           "BRA",
           54.86,
           30,
           2.199,
           1.34,
           -3.79,
           "Oil"
          ],
          [
           "British Virgin Islands",
           "VGB",
           "No Data",
           "No Data",
           4.605,
           0,
           -11.51,
           "Coal"
          ],
          [
           "Brunei",
           "BRN",
           "No Data",
           "No Data",
           23.22,
           0.03,
           2.01,
           "Coal"
          ],
          [
           "Bulgaria",
           "BGR",
           48.71,
           41,
           5.389,
           0.11,
           -11.32,
           "Coal"
          ],
          [
           "Burkina Faso",
           "BFA",
           "No Data",
           "No Data",
           0.19,
           0.01,
           -8.45,
           "Coal"
          ],
          [
           "Burundi",
           "BDI",
           "No Data",
           "No Data",
           0.051,
           0,
           -14.47,
           "Oil"
          ],
          [
           "Cambodia",
           "KHM",
           "No Data",
           "No Data",
           0.917,
           0.04,
           -0.02,
           "Oil"
          ],
          [
           "Cameroon",
           "CMR",
           "No Data",
           "No Data",
           0.26,
           0.02,
           -6.88,
           "Coal"
          ],
          [
           "Canada",
           "CAN",
           26.03,
           58,
           14.197,
           1.54,
           -8,
           "Oil"
          ],
          [
           "Cape Verde",
           "CPV",
           "No Data",
           "No Data",
           0.989,
           0,
           -8.69,
           "Coal"
          ],
          [
           "Central African Republic",
           "CAF",
           "No Data",
           "No Data",
           0.039,
           0,
           -10.71,
           "Coal"
          ],
          [
           "Chad",
           "TCD",
           "No Data",
           "No Data",
           0.056,
           0,
           -9.26,
           "Coal"
          ],
          [
           "Chile",
           "CHL",
           "No Data",
           "No Data",
           4.246,
           0.23,
           -5.76,
           "Oil"
          ],
          [
           "China",
           "CHN",
           52.2,
           35,
           7.412,
           30.65,
           1.7,
           "Coal"
          ],
          [
           "Christmas Island",
           "CXR",
           "No Data",
           "No Data",
           "No Data",
           "No Data",
           0,
           "Coal"
          ],
          [
           "Colombia",
           "COL",
           57.87,
           22,
           1.751,
           0.26,
           -1.45,
           "Oil"
          ],
          [
           "Comoros",
           "COM",
           "No Data",
           "No Data",
           0.297,
           0,
           -15.49,
           "Coal"
          ],
          [
           "Congo",
           "COG",
           "No Data",
           "No Data",
           0.565,
           0.01,
           -5.3,
           "Coal"
          ],
          [
           "Cook Islands",
           "COK",
           "No Data",
           "No Data",
           4.522,
           0,
           0.14,
           "Coal"
          ],
          [
           "Costa Rica",
           "CRI",
           "No Data",
           "No Data",
           1.552,
           0.02,
           -10.33,
           "Coal"
          ],
          [
           "Cote d'Ivoire",
           "CIV",
           "No Data",
           "No Data",
           0.382,
           0.03,
           -3.9,
           "Coal"
          ],
          [
           "Croatia",
           "HRV",
           55.96,
           26,
           4.137,
           0.05,
           -4.48,
           "Oil"
          ],
          [
           "Cuba",
           "CUB",
           "No Data",
           "No Data",
           1.779,
           0.06,
           -10.53,
           "Oil"
          ],
          [
           "Curacao",
           "CUW",
           "No Data",
           "No Data",
           20.323,
           0.01,
           -11.33,
           "Coal"
          ],
          [
           "Cyprus",
           "CYP",
           50.52,
           39,
           5.38,
           0.02,
           -11.5,
           "Oil"
          ],
          [
           "Czechia",
           "CZE",
           42.15,
           48,
           8.215,
           0.25,
           -12.73,
           "Coal"
          ],
          [
           "Democratic Republic of Congo",
           "COD",
           "No Data",
           "No Data",
           0.028,
           0.01,
           -7.86,
           "Coal"
          ],
          [
           "Denmark",
           "DNK",
           76.67,
           1,
           4.522,
           0.08,
           -15.22,
           "Oil"
          ],
          [
           "Djibouti",
           "DJI",
           "No Data",
           "No Data",
           0.356,
           0,
           -12.66,
           "Coal"
          ],
          [
           "Dominica",
           "DMA",
           "No Data",
           "No Data",
           1.934,
           0,
           -11.51,
           "Coal"
          ],
          [
           "Dominican Republic",
           "DOM",
           "No Data",
           "No Data",
           2.56,
           0.08,
           0.91,
           "Oil"
          ],
          [
           "Ecuador",
           "ECU",
           "No Data",
           "No Data",
           1.753,
           0.09,
           -15.85,
           "Coal"
          ],
          [
           "Egypt",
           "EGY",
           59.74,
           18,
           2.086,
           0.61,
           -5.5,
           "Gas"
          ],
          [
           "El Salvador",
           "SLV",
           "No Data",
           "No Data",
           0.944,
           0.02,
           -10.64,
           "Oil"
          ],
          [
           "Equatorial Guinea",
           "GNQ",
           "No Data",
           "No Data",
           7.317,
           0.03,
           -0.04,
           "Coal"
          ],
          [
           "Eritrea",
           "ERI",
           "No Data",
           "No Data",
           0.204,
           0,
           -13.48,
           "Coal"
          ],
          [
           "Estonia",
           "EST",
           54.98,
           29,
           7.88,
           0.03,
           -15.57,
           "Coal"
          ],
          [
           "Eswatini",
           "SWZ",
           "No Data",
           "No Data",
           0.824,
           0,
           -5.64,
           "Oil"
          ],
          [
           "Ethiopia",
           "ETH",
           "No Data",
           "No Data",
           0.128,
           0.04,
           -10.42,
           "Oil"
          ],
          [
           "Faeroe Islands",
           "FRO",
           "No Data",
           "No Data",
           13.996,
           0,
           -7.08,
           "Coal"
          ],
          [
           "Fiji",
           "FJI",
           "No Data",
           "No Data",
           1.554,
           0,
           0.13,
           "Coal"
          ],
          [
           "Finland",
           "FIN",
           62.41,
           11,
           7.091,
           0.11,
           -7.66,
           "Oil"
          ],
          [
           "France",
           "FRA",
           61.01,
           14,
           4.238,
           0.79,
           -12.44,
           "Oil"
          ],
          [
           "French Guiana",
           "GUF",
           "No Data",
           "No Data",
           2.439,
           0,
           0,
           "Coal"
          ],
          [
           "French Polynesia",
           "PYF",
           "No Data",
           "No Data",
           2.949,
           0,
           0.14,
           "Coal"
          ],
          [
           "Gabon",
           "GAB",
           "No Data",
           "No Data",
           1.931,
           0.01,
           -4.22,
           "Coal"
          ],
          [
           "Gambia",
           "GMB",
           "No Data",
           "No Data",
           0.207,
           0,
           -8.6,
           "Coal"
          ],
          [
           "Georgia",
           "GEO",
           "No Data",
           "No Data",
           2.499,
           0.03,
           -4.89,
           "Gas"
          ],
          [
           "Germany",
           "DEU",
           63.53,
           10,
           7.69,
           1.85,
           -9.43,
           "Oil"
          ],
          [
           "Ghana",
           "GHA",
           "No Data",
           "No Data",
           0.515,
           0.05,
           -5.42,
           "Coal"
          ],
          [
           "Greece",
           "GRC",
           58.22,
           21,
           5.012,
           0.15,
           -20.54,
           "Oil"
          ],
          [
           "Greenland",
           "GRL",
           "No Data",
           "No Data",
           9.061,
           0,
           -7.08,
           "Coal"
          ],
          [
           "Grenada",
           "GRD",
           "No Data",
           "No Data",
           2.62,
           0,
           -11.27,
           "Coal"
          ],
          [
           "Guadeloupe",
           "GLP",
           "No Data",
           "No Data",
           6.403,
           0.01,
           0,
           "Oil"
          ],
          [
           "Guatemala",
           "GTM",
           "No Data",
           "No Data",
           1.057,
           0.05,
           -13.66,
           "Oil"
          ],
          [
           "Guinea",
           "GIN",
           "No Data",
           "No Data",
           0.258,
           0.01,
           -8.69,
           "Coal"
          ],
          [
           "Guinea-Bissau",
           "GNB",
           "No Data",
           "No Data",
           0.146,
           0,
           -8.69,
           "Coal"
          ],
          [
           "Guyana",
           "GUY",
           "No Data",
           "No Data",
           2.813,
           0.01,
           -11.01,
           "Coal"
          ],
          [
           "Haiti",
           "HTI",
           "No Data",
           "No Data",
           0.256,
           0.01,
           -11.23,
           "Coal"
          ],
          [
           "Honduras",
           "HND",
           "No Data",
           "No Data",
           0.975,
           0.03,
           -10.47,
           "Coal"
          ],
          [
           "Hong Kong",
           "HKG",
           "No Data",
           "No Data",
           4.167,
           0.09,
           -25.25,
           "Coal"
          ],
          [
           "Hungary",
           "HUN",
           40.41,
           50,
           4.997,
           0.14,
           -1.64,
           "Gas"
          ],
          [
           "Iceland",
           "ISL",
           "No Data",
           "No Data",
           8.604,
           0.01,
           -17.31,
           "Oil"
          ],
          [
           "India",
           "IND",
           69.2,
           7,
           1.769,
           7.02,
           -7.01,
           "Coal"
          ],
          [
           "Indonesia",
           "IDN",
           57.17,
           24,
           2.155,
           1.69,
           -10.76,
           "Coal"
          ],
          [
           "Iran",
           "IRN",
           25.66,
           59,
           8.87,
           2.14,
           1.59,
           "Gas"
          ],
          [
           "Iraq",
           "IRQ",
           "No Data",
           "No Data",
           5.242,
           0.61,
           -5.45,
           "Coal"
          ],
          [
           "Ireland",
           "IRL",
           47.86,
           43,
           6.754,
           0.1,
           -10.53,
           "Oil"
          ],
          [
           "Israel",
           "ISR",
           "No Data",
           "No Data",
           6.51,
           0.16,
           -9.68,
           "Oil"
          ],
          [
           "Italy",
           "ITA",
           55.39,
           27,
           5.025,
           0.87,
           -10.58,
           "Gas"
          ],
          [
           "Jamaica",
           "JAM",
           "No Data",
           "No Data",
           2.509,
           0.02,
           -7.65,
           "Oil"
          ],
          [
           "Japan",
           "JPN",
           48.53,
           42,
           8.15,
           2.96,
           -6.8,
           "Coal"
          ],
          [
           "Jordan",
           "JOR",
           "No Data",
           "No Data",
           2.498,
           0.07,
           -1,
           "Oil"
          ],
          [
           "Kazakhstan",
           "KAZ",
           19.23,
           61,
           15.516,
           0.84,
           -1.53,
           "Coal"
          ],
          [
           "Kenya",
           "KEN",
           "No Data",
           "No Data",
           0.3,
           0.05,
           -12,
           "Oil"
          ],
          [
           "Kiribati",
           "KIR",
           "No Data",
           "No Data",
           0.57,
           0,
           0.14,
           "Coal"
          ],
          [
           "Kosovo",
           "OWID_KOS",
           "No Data",
           "No Data",
           "No Data",
           0.02,
           -13.29,
           "Coal"
          ],
          [
           "Kuwait",
           "KWT",
           "No Data",
           "No Data",
           20.825,
           0.26,
           -7.98,
           "Coal"
          ],
          [
           "Kyrgyzstan",
           "KGZ",
           "No Data",
           "No Data",
           1.764,
           0.03,
           4.45,
           "Oil"
          ],
          [
           "Laos",
           "LAO",
           "No Data",
           "No Data",
           4.652,
           0.1,
           -0.25,
           "Coal"
          ],
          [
           "Latvia",
           "LVA",
           57.73,
           23,
           3.591,
           0.02,
           -11.45,
           "Oil"
          ],
          [
           "Lebanon",
           "LBN",
           "No Data",
           "No Data",
           3.805,
           0.07,
           -2.58,
           "Oil"
          ],
          [
           "Lesotho",
           "LSO",
           "No Data",
           "No Data",
           1.019,
           0.01,
           -5.93,
           "Coal"
          ],
          [
           "Liberia",
           "LBR",
           "No Data",
           "No Data",
           0.2,
           0,
           -7.72,
           "Coal"
          ],
          [
           "Libya",
           "LBY",
           "No Data",
           "No Data",
           7.382,
           0.15,
           -6.95,
           "Coal"
          ],
          [
           "Liechtenstein",
           "LIE",
           "No Data",
           "No Data",
           3.698,
           0,
           -4.98,
           "Coal"
          ],
          [
           "Lithuania",
           "LTU",
           64.89,
           8,
           5.069,
           0.04,
           -0.89,
           "Oil"
          ],
          [
           "Luxembourg",
           "LUX",
           60.8,
           15,
           13.059,
           0.02,
           -16.18,
           "Oil"
          ],
          [
           "Madagascar",
           "MDG",
           "No Data",
           "No Data",
           0.133,
           0.01,
           -9.14,
           "Oil"
          ],
          [
           "Malawi",
           "MWI",
           "No Data",
           "No Data",
           0.073,
           0,
           -12.18,
           "Oil"
          ],
          [
           "Malaysia",
           "MYS",
           33.74,
           54,
           8.423,
           0.78,
           -2.17,
           "Coal"
          ],
          [
           "Maldives",
           "MDV",
           "No Data",
           "No Data",
           3.324,
           0.01,
           0.14,
           "Coal"
          ],
          [
           "Mali",
           "MLI",
           "No Data",
           "No Data",
           0.167,
           0.01,
           -8.08,
           "Coal"
          ],
          [
           "Malta",
           "MLT",
           64.18,
           9,
           3.612,
           0,
           -4.45,
           "Oil"
          ],
          [
           "Marshall Islands",
           "MHL",
           "No Data",
           "No Data",
           2.556,
           0,
           0.14,
           "Coal"
          ],
          [
           "Martinique",
           "MTQ",
           "No Data",
           "No Data",
           6.258,
           0.01,
           0,
           "Coal"
          ],
          [
           "Mauritania",
           "MRT",
           "No Data",
           "No Data",
           0.726,
           0.01,
           -8.69,
           "Coal"
          ],
          [
           "Mauritius",
           "MUS",
           "No Data",
           "No Data",
           3.129,
           0.01,
           -9.11,
           "Oil"
          ],
          [
           "Mayotte",
           "MYT",
           "No Data",
           "No Data",
           1.12,
           0,
           0,
           "Coal"
          ],
          [
           "Mexico",
           "MEX",
           56.05,
           25,
           2.769,
           1.03,
           -18.03,
           "Oil"
          ],
          [
           "Moldova",
           "MDA",
           "No Data",
           "No Data",
           1.276,
           0.01,
           -0.18,
           "Oil"
          ],
          [
           "Mongolia",
           "MNG",
           "No Data",
           "No Data",
           26.978,
           0.25,
           -0.28,
           "Coal"
          ],
          [
           "Montenegro",
           "MNE",
           "No Data",
           "No Data",
           3.678,
           0.01,
           -12.67,
           "Coal"
          ],
          [
           "Montserrat",
           "MSR",
           "No Data",
           "No Data",
           5.065,
           0,
           -11.51,
           "Coal"
          ],
          [
           "Morocco",
           "MAR",
           71.6,
           5,
           1.748,
           0.19,
           -5.4,
           "Oil"
          ],
          [
           "Mozambique",
           "MOZ",
           "No Data",
           "No Data",
           0.21,
           0.02,
           -9.83,
           "Oil"
          ],
          [
           "Myanmar",
           "MMR",
           "No Data",
           "No Data",
           0.668,
           0.1,
           0.77,
           "Oil"
          ],
          [
           "Namibia",
           "NAM",
           "No Data",
           "No Data",
           1.526,
           0.01,
           -5.02,
           "Oil"
          ],
          [
           "Nauru",
           "NRU",
           "No Data",
           "No Data",
           5.236,
           0,
           0.14,
           "Coal"
          ],
          [
           "Nepal",
           "NPL",
           "No Data",
           "No Data",
           0.582,
           0.05,
           -0.05,
           "Oil"
          ],
          [
           "Netherlands",
           "NLD",
           60.44,
           16,
           8.06,
           0.4,
           -10.09,
           "Gas"
          ],
          [
           "New Caledonia",
           "NCL",
           "No Data",
           "No Data",
           30.448,
           0.02,
           -0.16,
           "Coal"
          ],
          [
           "New Zealand",
           "NZL",
           54.03,
           32,
           6.942,
           0.1,
           -10.72,
           "Oil"
          ],
          [
           "Nicaragua",
           "NIC",
           "No Data",
           "No Data",
           0.766,
           0.01,
           -10.57,
           "Coal"
          ],
          [
           "Niger",
           "NER",
           "No Data",
           "No Data",
           0.07,
           0,
           -8.79,
           "Oil"
          ],
          [
           "Nigeria",
           "NGA",
           "No Data",
           "No Data",
           0.609,
           0.36,
           -3.57,
           "Oil"
          ],
          [
           "Niue",
           "NIU",
           "No Data",
           "No Data",
           7.012,
           0,
           0.14,
           "Coal"
          ],
          [
           "North Korea",
           "PRK",
           "No Data",
           "No Data",
           1.137,
           0.08,
           -0.23,
           "Coal"
          ],
          [
           "North Macedonia",
           "MKD",
           "No Data",
           "No Data",
           3.43,
           0.02,
           -10.38,
           "Coal"
          ],
          [
           "Norway",
           "NOR",
           73.29,
           3,
           7.615,
           0.12,
           -3.69,
           "Oil"
          ],
          [
           "Oman",
           "OMN",
           "No Data",
           "No Data",
           12.173,
           0.18,
           2.31,
           "Coal"
          ],
          [
           "Pakistan",
           "PAK",
           "No Data",
           "No Data",
           1.063,
           0.67,
           0.2,
           "Oil"
          ],
          [
           "Palau",
           "PLW",
           "No Data",
           "No Data",
           12.125,
           0,
           0.14,
           "Coal"
          ],
          [
           "Palestine",
           "PSE",
           "No Data",
           "No Data",
           0.568,
           0.01,
           -2.92,
           "Coal"
          ],
          [
           "Panama",
           "PAN",
           "No Data",
           "No Data",
           2.498,
           0.03,
           -12.32,
           "Oil"
          ],
          [
           "Papua New Guinea",
           "PNG",
           "No Data",
           "No Data",
           0.744,
           0.02,
           0.52,
           "Coal"
          ],
          [
           "Paraguay",
           "PRY",
           "No Data",
           "No Data",
           1.061,
           0.02,
           -11.2,
           "Oil"
          ],
          [
           "Peru",
           "PER",
           "No Data",
           "No Data",
           1.356,
           0.13,
           -18.68,
           "Oil"
          ],
          [
           "Philippines",
           "PHL",
           58.98,
           20,
           1.241,
           0.39,
           -7.23,
           "Coal"
          ],
          [
           "Poland",
           "POL",
           40.63,
           49,
           7.916,
           0.86,
           -6.24,
           "Coal"
          ],
          [
           "Portugal",
           "PRT",
           61.11,
           13,
           3.961,
           0.12,
           -15.2,
           "Oil"
          ],
          [
           "Puerto Rico",
           "PRI",
           "No Data",
           "No Data",
           "No Data",
           "No Data",
           0,
           "Coal"
          ],
          [
           "Qatar",
           "QAT",
           "No Data",
           "No Data",
           37.019,
           0.31,
           -7.29,
           "Coal"
          ],
          [
           "Romania",
           "ROU",
           52.43,
           33,
           3.715,
           0.21,
           -4.5,
           "Oil"
          ],
          [
           "Russia",
           "RUS",
           34.73,
           53,
           10.807,
           4.53,
           -6.09,
           "Gas"
          ],
          [
           "Rwanda",
           "RWA",
           "No Data",
           "No Data",
           0.08,
           0,
           -13.03,
           "Oil"
          ],
          [
           "Saint Helena",
           "SHN",
           "No Data",
           "No Data",
           1.564,
           0,
           -11.51,
           "Coal"
          ],
          [
           "Saint Kitts and Nevis",
           "KNA",
           "No Data",
           "No Data",
           3.986,
           0,
           -11.51,
           "Coal"
          ],
          [
           "Saint Lucia",
           "LCA",
           "No Data",
           "No Data",
           2.396,
           0,
           -11.51,
           "Coal"
          ],
          [
           "Saint Pierre and Miquelon",
           "SPM",
           "No Data",
           "No Data",
           8.738,
           0,
           -11.51,
           "Coal"
          ],
          [
           "Saint Vincent and the Grenadines",
           "VCT",
           "No Data",
           "No Data",
           1.883,
           0,
           -11.51,
           "Coal"
          ],
          [
           "Samoa",
           "WSM",
           "No Data",
           "No Data",
           1.239,
           0,
           0.14,
           "Coal"
          ],
          [
           "Sao Tome and Principe",
           "STP",
           "No Data",
           "No Data",
           0.514,
           0,
           -10.71,
           "Coal"
          ],
          [
           "Saudi Arabia",
           "SAU",
           24.25,
           60,
           17.967,
           1.8,
           0.5,
           "Coal"
          ],
          [
           "Senegal",
           "SEN",
           "No Data",
           "No Data",
           0.624,
           0.03,
           -7.23,
           "Oil"
          ],
          [
           "Serbia",
           "SRB",
           "No Data",
           "No Data",
           4.937,
           0.12,
           -12.57,
           "Coal"
          ],
          [
           "Seychelles",
           "SYC",
           "No Data",
           "No Data",
           4.994,
           0,
           -15.49,
           "Coal"
          ],
          [
           "Sierra Leone",
           "SLE",
           "No Data",
           "No Data",
           0.11,
           0,
           -8.69,
           "Coal"
          ],
          [
           "Singapore",
           "SGP",
           "No Data",
           "No Data",
           7.778,
           0.13,
           -0.44,
           "Oil"
          ],
          [
           "Sint Maarten (Dutch part)",
           "SXM",
           "No Data",
           "No Data",
           14.539,
           0,
           -11.51,
           "Coal"
          ],
          [
           "Slovakia",
           "SVK",
           50.67,
           37,
           5.629,
           0.09,
           -9.01,
           "Oil"
          ],
          [
           "Slovenia",
           "SVN",
           43.28,
           47,
           6.043,
           0.04,
           -10.3,
           "Oil"
          ],
          [
           "Solomon Islands",
           "SLB",
           "No Data",
           "No Data",
           0.435,
           0,
           0.14,
           "Coal"
          ],
          [
           "Somalia",
           "SOM",
           "No Data",
           "No Data",
           0.035,
           0,
           -15.49,
           "Coal"
          ],
          [
           "South Africa",
           "ZAF",
           51.13,
           36,
           7.62,
           1.3,
           -5.04,
           "Coal"
          ],
          [
           "South Korea",
           "KOR",
           26.74,
           57,
           11.656,
           1.72,
           -7.78,
           "Coal"
          ],
          [
           "South Sudan",
           "SSD",
           "No Data",
           "No Data",
           0.105,
           0,
           -15.49,
           "Coal"
          ],
          [
           "Spain",
           "ESP",
           54.35,
           31,
           4.468,
           0.6,
           -16.93,
           "Oil"
          ],
          [
           "Sri Lanka",
           "LKA",
           "No Data",
           "No Data",
           0.986,
           0.06,
           -7.53,
           "Oil"
          ],
          [
           "Sudan",
           "SDN",
           "No Data",
           "No Data",
           0.43,
           0.05,
           -14.4,
           "Coal"
          ],
          [
           "Suriname",
           "SUR",
           "No Data",
           "No Data",
           3.791,
           0.01,
           -11.75,
           "Coal"
          ],
          [
           "Sweden",
           "SWE",
           74.22,
           2,
           3.826,
           0.11,
           -5.62,
           "Oil"
          ],
          [
           "Switzerland",
           "CHE",
           61.7,
           12,
           3.732,
           0.09,
           -12.09,
           "Oil"
          ],
          [
           "Syria",
           "SYR",
           "No Data",
           "No Data",
           1.745,
           0.09,
           -1.54,
           "Oil"
          ],
          [
           "Taiwan",
           "TWN",
           "No Data",
           "No Data",
           11.47,
           0.78,
           -0.78,
           "Coal"
          ],
          [
           "Tajikistan",
           "TJK",
           "No Data",
           "No Data",
           0.991,
           0.03,
           9.42,
           "Coal"
          ],
          [
           "Tanzania",
           "TZA",
           "No Data",
           "No Data",
           0.183,
           0.03,
           -9.17,
           "Oil"
          ],
          [
           "Thailand",
           "THA",
           55.01,
           28,
           3.693,
           0.74,
           -5.1,
           "Oil"
          ],
          [
           "Timor",
           "TLS",
           "No Data",
           "No Data",
           0.399,
           0,
           0.14,
           "Coal"
          ],
          [
           "Togo",
           "TGO",
           "No Data",
           "No Data",
           0.265,
           0.01,
           -4.93,
           "Coal"
          ],
          [
           "Tonga",
           "TON",
           "No Data",
           "No Data",
           1.36,
           0,
           0.14,
           "Coal"
          ],
          [
           "Trinidad and Tobago",
           "TTO",
           "No Data",
           "No Data",
           25.373,
           0.1,
           -12.06,
           "Coal"
          ],
          [
           "Tunisia",
           "TUN",
           "No Data",
           "No Data",
           2.38,
           0.08,
           -6.28,
           "Coal"
          ],
          [
           "Turkey",
           "TUR",
           50.53,
           38,
           4.657,
           1.13,
           -1.64,
           "Coal"
          ],
          [
           "Turkmenistan",
           "TKM",
           "No Data",
           "No Data",
           12.491,
           0.22,
           -1.29,
           "Coal"
          ],
          [
           "Turks and Caicos Islands",
           "TCA",
           "No Data",
           "No Data",
           5.231,
           0,
           -11.51,
           "Coal"
          ],
          [
           "Tuvalu",
           "TUV",
           "No Data",
           "No Data",
           0.642,
           0,
           0.15,
           "Coal"
          ],
          [
           "Uganda",
           "UGA",
           "No Data",
           "No Data",
           0.107,
           0.01,
           -14.48,
           "Coal"
          ],
          [
           "Ukraine",
           "UKR",
           60.4,
           17,
           4.891,
           0.61,
           -3.9,
           "Coal"
          ],
          [
           "United Arab Emirates",
           "ARE",
           "No Data",
           "No Data",
           15.193,
           0.43,
           -2.54,
           "Gas"
          ],
          [
           "United Kingdom",
           "GBR",
           73.09,
           4,
           4.855,
           0.95,
           -10.69,
           "Gas"
          ],
          [
           "United States",
           "USA",
           37.39,
           52,
           14.238,
           13.54,
           -10.33,
           "Oil"
          ],
          [
           "Uruguay",
           "URY",
           "No Data",
           "No Data",
           1.681,
           0.02,
           -11.3,
           "Oil"
          ],
          [
           "Uzbekistan",
           "UZB",
           "No Data",
           "No Data",
           3.37,
           0.32,
           -1.24,
           "Gas"
          ],
          [
           "Vanuatu",
           "VUT",
           "No Data",
           "No Data",
           0.591,
           0,
           0.14,
           "Coal"
          ],
          [
           "Venezuela",
           "VEN",
           "No Data",
           "No Data",
           2.975,
           0.24,
           -14.69,
           "Flaring"
          ],
          [
           "Vietnam",
           "VNM",
           49.21,
           40,
           2.613,
           0.73,
           -2.31,
           "Coal"
          ],
          [
           "Yemen",
           "YEM",
           "No Data",
           "No Data",
           0.328,
           0.03,
           -2.52,
           "Oil"
          ],
          [
           "Zambia",
           "ZMB",
           "No Data",
           "No Data",
           0.358,
           0.02,
           -6.73,
           "Oil"
          ],
          [
           "Zimbabwe",
           "ZWE",
           "No Data",
           "No Data",
           0.709,
           0.03,
           -3.82,
           "Coal"
          ]
         ],
         "hovertemplate": "%{customdata[0]} (%{customdata[1]})<br>CCPI Score: %{customdata[2]}<br>CCPI Rank: %{customdata[3]}<br>CO<sub>2</sub> Emissions per Capita: %{customdata[4]}<br>Global Share of CO<sub>2</sub> Emissions: %{customdata[5]}<br>Percent Growth of CO<sub>2</sub> Emissions: %{customdata[6]}<br>Primary CO<sub>2</sub> Emissions Source: %{customdata[7]}<br><extra></extra>",
         "locations": [
          "AFG",
          "ALB",
          "DZA",
          "AND",
          "AGO",
          "AIA",
          "ATA",
          "ATG",
          "ARG",
          "ARM",
          "ABW",
          "AUS",
          "AUT",
          "AZE",
          "BHS",
          "BHR",
          "BGD",
          "BRB",
          "BLR",
          "BEL",
          "BLZ",
          "BEN",
          "BMU",
          "BTN",
          "BOL",
          "BES",
          "BIH",
          "BWA",
          "BRA",
          "VGB",
          "BRN",
          "BGR",
          "BFA",
          "BDI",
          "KHM",
          "CMR",
          "CAN",
          "CPV",
          "CAF",
          "TCD",
          "CHL",
          "CHN",
          "CXR",
          "COL",
          "COM",
          "COG",
          "COK",
          "CRI",
          "CIV",
          "HRV",
          "CUB",
          "CUW",
          "CYP",
          "CZE",
          "COD",
          "DNK",
          "DJI",
          "DMA",
          "DOM",
          "ECU",
          "EGY",
          "SLV",
          "GNQ",
          "ERI",
          "EST",
          "SWZ",
          "ETH",
          "FRO",
          "FJI",
          "FIN",
          "FRA",
          "GUF",
          "PYF",
          "GAB",
          "GMB",
          "GEO",
          "DEU",
          "GHA",
          "GRC",
          "GRL",
          "GRD",
          "GLP",
          "GTM",
          "GIN",
          "GNB",
          "GUY",
          "HTI",
          "HND",
          "HKG",
          "HUN",
          "ISL",
          "IND",
          "IDN",
          "IRN",
          "IRQ",
          "IRL",
          "ISR",
          "ITA",
          "JAM",
          "JPN",
          "JOR",
          "KAZ",
          "KEN",
          "KIR",
          "OWID_KOS",
          "KWT",
          "KGZ",
          "LAO",
          "LVA",
          "LBN",
          "LSO",
          "LBR",
          "LBY",
          "LIE",
          "LTU",
          "LUX",
          "MDG",
          "MWI",
          "MYS",
          "MDV",
          "MLI",
          "MLT",
          "MHL",
          "MTQ",
          "MRT",
          "MUS",
          "MYT",
          "MEX",
          "MDA",
          "MNG",
          "MNE",
          "MSR",
          "MAR",
          "MOZ",
          "MMR",
          "NAM",
          "NRU",
          "NPL",
          "NLD",
          "NCL",
          "NZL",
          "NIC",
          "NER",
          "NGA",
          "NIU",
          "PRK",
          "MKD",
          "NOR",
          "OMN",
          "PAK",
          "PLW",
          "PSE",
          "PAN",
          "PNG",
          "PRY",
          "PER",
          "PHL",
          "POL",
          "PRT",
          "PRI",
          "QAT",
          "ROU",
          "RUS",
          "RWA",
          "SHN",
          "KNA",
          "LCA",
          "SPM",
          "VCT",
          "WSM",
          "STP",
          "SAU",
          "SEN",
          "SRB",
          "SYC",
          "SLE",
          "SGP",
          "SXM",
          "SVK",
          "SVN",
          "SLB",
          "SOM",
          "ZAF",
          "KOR",
          "SSD",
          "ESP",
          "LKA",
          "SDN",
          "SUR",
          "SWE",
          "CHE",
          "SYR",
          "TWN",
          "TJK",
          "TZA",
          "THA",
          "TLS",
          "TGO",
          "TON",
          "TTO",
          "TUN",
          "TUR",
          "TKM",
          "TCA",
          "TUV",
          "UGA",
          "UKR",
          "ARE",
          "GBR",
          "USA",
          "URY",
          "UZB",
          "VUT",
          "VEN",
          "VNM",
          "YEM",
          "ZMB",
          "ZWE"
         ],
         "marker": {
          "line": {
           "width": 0.1
          }
         },
         "type": "choropleth",
         "visible": false,
         "z": [
          0,
          3,
          1,
          0,
          0,
          0,
          0,
          0,
          1,
          1,
          0,
          0,
          3,
          1,
          3,
          0,
          1,
          0,
          1,
          1,
          0,
          0,
          3,
          0,
          3,
          0,
          0,
          0,
          3,
          0,
          0,
          0,
          0,
          3,
          3,
          0,
          3,
          0,
          0,
          0,
          3,
          0,
          0,
          3,
          0,
          0,
          0,
          0,
          0,
          3,
          3,
          0,
          3,
          0,
          0,
          3,
          0,
          0,
          3,
          0,
          1,
          3,
          0,
          0,
          0,
          3,
          3,
          0,
          0,
          3,
          3,
          0,
          0,
          0,
          0,
          1,
          3,
          0,
          3,
          0,
          0,
          3,
          3,
          0,
          0,
          0,
          0,
          0,
          0,
          1,
          3,
          0,
          0,
          1,
          0,
          3,
          3,
          1,
          3,
          0,
          3,
          0,
          3,
          0,
          0,
          0,
          3,
          0,
          3,
          3,
          0,
          0,
          0,
          0,
          3,
          3,
          3,
          3,
          0,
          0,
          0,
          3,
          0,
          0,
          0,
          3,
          0,
          3,
          3,
          0,
          0,
          0,
          3,
          3,
          3,
          3,
          0,
          3,
          1,
          0,
          3,
          0,
          3,
          3,
          0,
          0,
          0,
          3,
          0,
          3,
          0,
          0,
          3,
          0,
          3,
          3,
          0,
          0,
          3,
          0,
          0,
          3,
          1,
          3,
          0,
          0,
          0,
          0,
          0,
          0,
          0,
          0,
          3,
          0,
          0,
          0,
          3,
          0,
          3,
          3,
          0,
          0,
          0,
          0,
          0,
          3,
          3,
          0,
          0,
          3,
          3,
          3,
          0,
          0,
          3,
          3,
          0,
          0,
          0,
          0,
          0,
          0,
          0,
          0,
          0,
          0,
          0,
          1,
          1,
          3,
          3,
          1,
          0,
          2,
          0,
          3,
          3,
          0
         ]
        }
       ],
       "layout": {
        "geo": {
         "projection": {
          "type": "natural earth"
         },
         "showcoastlines": false
        },
        "margin": {
         "b": 0,
         "l": 0,
         "r": 0,
         "t": 50
        },
        "template": {
         "data": {
          "bar": [
           {
            "error_x": {
             "color": "#2a3f5f"
            },
            "error_y": {
             "color": "#2a3f5f"
            },
            "marker": {
             "line": {
              "color": "#E5ECF6",
              "width": 0.5
             },
             "pattern": {
              "fillmode": "overlay",
              "size": 10,
              "solidity": 0.2
             }
            },
            "type": "bar"
           }
          ],
          "barpolar": [
           {
            "marker": {
             "line": {
              "color": "#E5ECF6",
              "width": 0.5
             },
             "pattern": {
              "fillmode": "overlay",
              "size": 10,
              "solidity": 0.2
             }
            },
            "type": "barpolar"
           }
          ],
          "carpet": [
           {
            "aaxis": {
             "endlinecolor": "#2a3f5f",
             "gridcolor": "white",
             "linecolor": "white",
             "minorgridcolor": "white",
             "startlinecolor": "#2a3f5f"
            },
            "baxis": {
             "endlinecolor": "#2a3f5f",
             "gridcolor": "white",
             "linecolor": "white",
             "minorgridcolor": "white",
             "startlinecolor": "#2a3f5f"
            },
            "type": "carpet"
           }
          ],
          "choropleth": [
           {
            "colorbar": {
             "outlinewidth": 0,
             "ticks": ""
            },
            "type": "choropleth"
           }
          ],
          "contour": [
           {
            "colorbar": {
             "outlinewidth": 0,
             "ticks": ""
            },
            "colorscale": [
             [
              0,
              "#0d0887"
             ],
             [
              0.1111111111111111,
              "#46039f"
             ],
             [
              0.2222222222222222,
              "#7201a8"
             ],
             [
              0.3333333333333333,
              "#9c179e"
             ],
             [
              0.4444444444444444,
              "#bd3786"
             ],
             [
              0.5555555555555556,
              "#d8576b"
             ],
             [
              0.6666666666666666,
              "#ed7953"
             ],
             [
              0.7777777777777778,
              "#fb9f3a"
             ],
             [
              0.8888888888888888,
              "#fdca26"
             ],
             [
              1,
              "#f0f921"
             ]
            ],
            "type": "contour"
           }
          ],
          "contourcarpet": [
           {
            "colorbar": {
             "outlinewidth": 0,
             "ticks": ""
            },
            "type": "contourcarpet"
           }
          ],
          "heatmap": [
           {
            "colorbar": {
             "outlinewidth": 0,
             "ticks": ""
            },
            "colorscale": [
             [
              0,
              "#0d0887"
             ],
             [
              0.1111111111111111,
              "#46039f"
             ],
             [
              0.2222222222222222,
              "#7201a8"
             ],
             [
              0.3333333333333333,
              "#9c179e"
             ],
             [
              0.4444444444444444,
              "#bd3786"
             ],
             [
              0.5555555555555556,
              "#d8576b"
             ],
             [
              0.6666666666666666,
              "#ed7953"
             ],
             [
              0.7777777777777778,
              "#fb9f3a"
             ],
             [
              0.8888888888888888,
              "#fdca26"
             ],
             [
              1,
              "#f0f921"
             ]
            ],
            "type": "heatmap"
           }
          ],
          "heatmapgl": [
           {
            "colorbar": {
             "outlinewidth": 0,
             "ticks": ""
            },
            "colorscale": [
             [
              0,
              "#0d0887"
             ],
             [
              0.1111111111111111,
              "#46039f"
             ],
             [
              0.2222222222222222,
              "#7201a8"
             ],
             [
              0.3333333333333333,
              "#9c179e"
             ],
             [
              0.4444444444444444,
              "#bd3786"
             ],
             [
              0.5555555555555556,
              "#d8576b"
             ],
             [
              0.6666666666666666,
              "#ed7953"
             ],
             [
              0.7777777777777778,
              "#fb9f3a"
             ],
             [
              0.8888888888888888,
              "#fdca26"
             ],
             [
              1,
              "#f0f921"
             ]
            ],
            "type": "heatmapgl"
           }
          ],
          "histogram": [
           {
            "marker": {
             "pattern": {
              "fillmode": "overlay",
              "size": 10,
              "solidity": 0.2
             }
            },
            "type": "histogram"
           }
          ],
          "histogram2d": [
           {
            "colorbar": {
             "outlinewidth": 0,
             "ticks": ""
            },
            "colorscale": [
             [
              0,
              "#0d0887"
             ],
             [
              0.1111111111111111,
              "#46039f"
             ],
             [
              0.2222222222222222,
              "#7201a8"
             ],
             [
              0.3333333333333333,
              "#9c179e"
             ],
             [
              0.4444444444444444,
              "#bd3786"
             ],
             [
              0.5555555555555556,
              "#d8576b"
             ],
             [
              0.6666666666666666,
              "#ed7953"
             ],
             [
              0.7777777777777778,
              "#fb9f3a"
             ],
             [
              0.8888888888888888,
              "#fdca26"
             ],
             [
              1,
              "#f0f921"
             ]
            ],
            "type": "histogram2d"
           }
          ],
          "histogram2dcontour": [
           {
            "colorbar": {
             "outlinewidth": 0,
             "ticks": ""
            },
            "colorscale": [
             [
              0,
              "#0d0887"
             ],
             [
              0.1111111111111111,
              "#46039f"
             ],
             [
              0.2222222222222222,
              "#7201a8"
             ],
             [
              0.3333333333333333,
              "#9c179e"
             ],
             [
              0.4444444444444444,
              "#bd3786"
             ],
             [
              0.5555555555555556,
              "#d8576b"
             ],
             [
              0.6666666666666666,
              "#ed7953"
             ],
             [
              0.7777777777777778,
              "#fb9f3a"
             ],
             [
              0.8888888888888888,
              "#fdca26"
             ],
             [
              1,
              "#f0f921"
             ]
            ],
            "type": "histogram2dcontour"
           }
          ],
          "mesh3d": [
           {
            "colorbar": {
             "outlinewidth": 0,
             "ticks": ""
            },
            "type": "mesh3d"
           }
          ],
          "parcoords": [
           {
            "line": {
             "colorbar": {
              "outlinewidth": 0,
              "ticks": ""
             }
            },
            "type": "parcoords"
           }
          ],
          "pie": [
           {
            "automargin": true,
            "type": "pie"
           }
          ],
          "scatter": [
           {
            "marker": {
             "colorbar": {
              "outlinewidth": 0,
              "ticks": ""
             }
            },
            "type": "scatter"
           }
          ],
          "scatter3d": [
           {
            "line": {
             "colorbar": {
              "outlinewidth": 0,
              "ticks": ""
             }
            },
            "marker": {
             "colorbar": {
              "outlinewidth": 0,
              "ticks": ""
             }
            },
            "type": "scatter3d"
           }
          ],
          "scattercarpet": [
           {
            "marker": {
             "colorbar": {
              "outlinewidth": 0,
              "ticks": ""
             }
            },
            "type": "scattercarpet"
           }
          ],
          "scattergeo": [
           {
            "marker": {
             "colorbar": {
              "outlinewidth": 0,
              "ticks": ""
             }
            },
            "type": "scattergeo"
           }
          ],
          "scattergl": [
           {
            "marker": {
             "colorbar": {
              "outlinewidth": 0,
              "ticks": ""
             }
            },
            "type": "scattergl"
           }
          ],
          "scattermapbox": [
           {
            "marker": {
             "colorbar": {
              "outlinewidth": 0,
              "ticks": ""
             }
            },
            "type": "scattermapbox"
           }
          ],
          "scatterpolar": [
           {
            "marker": {
             "colorbar": {
              "outlinewidth": 0,
              "ticks": ""
             }
            },
            "type": "scatterpolar"
           }
          ],
          "scatterpolargl": [
           {
            "marker": {
             "colorbar": {
              "outlinewidth": 0,
              "ticks": ""
             }
            },
            "type": "scatterpolargl"
           }
          ],
          "scatterternary": [
           {
            "marker": {
             "colorbar": {
              "outlinewidth": 0,
              "ticks": ""
             }
            },
            "type": "scatterternary"
           }
          ],
          "surface": [
           {
            "colorbar": {
             "outlinewidth": 0,
             "ticks": ""
            },
            "colorscale": [
             [
              0,
              "#0d0887"
             ],
             [
              0.1111111111111111,
              "#46039f"
             ],
             [
              0.2222222222222222,
              "#7201a8"
             ],
             [
              0.3333333333333333,
              "#9c179e"
             ],
             [
              0.4444444444444444,
              "#bd3786"
             ],
             [
              0.5555555555555556,
              "#d8576b"
             ],
             [
              0.6666666666666666,
              "#ed7953"
             ],
             [
              0.7777777777777778,
              "#fb9f3a"
             ],
             [
              0.8888888888888888,
              "#fdca26"
             ],
             [
              1,
              "#f0f921"
             ]
            ],
            "type": "surface"
           }
          ],
          "table": [
           {
            "cells": {
             "fill": {
              "color": "#EBF0F8"
             },
             "line": {
              "color": "white"
             }
            },
            "header": {
             "fill": {
              "color": "#C8D4E3"
             },
             "line": {
              "color": "white"
             }
            },
            "type": "table"
           }
          ]
         },
         "layout": {
          "annotationdefaults": {
           "arrowcolor": "#2a3f5f",
           "arrowhead": 0,
           "arrowwidth": 1
          },
          "autotypenumbers": "strict",
          "coloraxis": {
           "colorbar": {
            "outlinewidth": 0,
            "ticks": ""
           }
          },
          "colorscale": {
           "diverging": [
            [
             0,
             "#8e0152"
            ],
            [
             0.1,
             "#c51b7d"
            ],
            [
             0.2,
             "#de77ae"
            ],
            [
             0.3,
             "#f1b6da"
            ],
            [
             0.4,
             "#fde0ef"
            ],
            [
             0.5,
             "#f7f7f7"
            ],
            [
             0.6,
             "#e6f5d0"
            ],
            [
             0.7,
             "#b8e186"
            ],
            [
             0.8,
             "#7fbc41"
            ],
            [
             0.9,
             "#4d9221"
            ],
            [
             1,
             "#276419"
            ]
           ],
           "sequential": [
            [
             0,
             "#0d0887"
            ],
            [
             0.1111111111111111,
             "#46039f"
            ],
            [
             0.2222222222222222,
             "#7201a8"
            ],
            [
             0.3333333333333333,
             "#9c179e"
            ],
            [
             0.4444444444444444,
             "#bd3786"
            ],
            [
             0.5555555555555556,
             "#d8576b"
            ],
            [
             0.6666666666666666,
             "#ed7953"
            ],
            [
             0.7777777777777778,
             "#fb9f3a"
            ],
            [
             0.8888888888888888,
             "#fdca26"
            ],
            [
             1,
             "#f0f921"
            ]
           ],
           "sequentialminus": [
            [
             0,
             "#0d0887"
            ],
            [
             0.1111111111111111,
             "#46039f"
            ],
            [
             0.2222222222222222,
             "#7201a8"
            ],
            [
             0.3333333333333333,
             "#9c179e"
            ],
            [
             0.4444444444444444,
             "#bd3786"
            ],
            [
             0.5555555555555556,
             "#d8576b"
            ],
            [
             0.6666666666666666,
             "#ed7953"
            ],
            [
             0.7777777777777778,
             "#fb9f3a"
            ],
            [
             0.8888888888888888,
             "#fdca26"
            ],
            [
             1,
             "#f0f921"
            ]
           ]
          },
          "colorway": [
           "#636efa",
           "#EF553B",
           "#00cc96",
           "#ab63fa",
           "#FFA15A",
           "#19d3f3",
           "#FF6692",
           "#B6E880",
           "#FF97FF",
           "#FECB52"
          ],
          "font": {
           "color": "#2a3f5f"
          },
          "geo": {
           "bgcolor": "white",
           "lakecolor": "white",
           "landcolor": "#E5ECF6",
           "showlakes": true,
           "showland": true,
           "subunitcolor": "white"
          },
          "hoverlabel": {
           "align": "left"
          },
          "hovermode": "closest",
          "mapbox": {
           "style": "light"
          },
          "paper_bgcolor": "white",
          "plot_bgcolor": "#E5ECF6",
          "polar": {
           "angularaxis": {
            "gridcolor": "white",
            "linecolor": "white",
            "ticks": ""
           },
           "bgcolor": "#E5ECF6",
           "radialaxis": {
            "gridcolor": "white",
            "linecolor": "white",
            "ticks": ""
           }
          },
          "scene": {
           "xaxis": {
            "backgroundcolor": "#E5ECF6",
            "gridcolor": "white",
            "gridwidth": 2,
            "linecolor": "white",
            "showbackground": true,
            "ticks": "",
            "zerolinecolor": "white"
           },
           "yaxis": {
            "backgroundcolor": "#E5ECF6",
            "gridcolor": "white",
            "gridwidth": 2,
            "linecolor": "white",
            "showbackground": true,
            "ticks": "",
            "zerolinecolor": "white"
           },
           "zaxis": {
            "backgroundcolor": "#E5ECF6",
            "gridcolor": "white",
            "gridwidth": 2,
            "linecolor": "white",
            "showbackground": true,
            "ticks": "",
            "zerolinecolor": "white"
           }
          },
          "shapedefaults": {
           "line": {
            "color": "#2a3f5f"
           }
          },
          "ternary": {
           "aaxis": {
            "gridcolor": "white",
            "linecolor": "white",
            "ticks": ""
           },
           "baxis": {
            "gridcolor": "white",
            "linecolor": "white",
            "ticks": ""
           },
           "bgcolor": "#E5ECF6",
           "caxis": {
            "gridcolor": "white",
            "linecolor": "white",
            "ticks": ""
           }
          },
          "title": {
           "x": 0.05
          },
          "xaxis": {
           "automargin": true,
           "gridcolor": "white",
           "linecolor": "white",
           "ticks": "",
           "title": {
            "standoff": 15
           },
           "zerolinecolor": "white",
           "zerolinewidth": 2
          },
          "yaxis": {
           "automargin": true,
           "gridcolor": "white",
           "linecolor": "white",
           "ticks": "",
           "title": {
            "standoff": 15
           },
           "zerolinecolor": "white",
           "zerolinewidth": 2
          }
         }
        },
        "title": {
         "text": "CO<sub>2</sub> Emissions"
        },
        "updatemenus": [
         {
          "buttons": [
           {
            "args": [
             {
              "visible": [
               true,
               false,
               false,
               false
              ]
             }
            ],
            "label": "CO<sub>2</sub> Emissions per Capita",
            "method": "update"
           },
           {
            "args": [
             {
              "visible": [
               false,
               true,
               false,
               false
              ]
             }
            ],
            "label": "Share of Global CO<sub>2</sub> Emissions",
            "method": "update"
           },
           {
            "args": [
             {
              "visible": [
               false,
               false,
               true,
               false
              ]
             }
            ],
            "label": "Percent Growth of CO<sub>2</sub> Emissions",
            "method": "update"
           },
           {
            "args": [
             {
              "visible": [
               false,
               false,
               false,
               true
              ]
             }
            ],
            "label": "Primary Source of CO<sub>2</sub> Emissions",
            "method": "update"
           }
          ],
          "direction": "down",
          "pad": {
           "r": 10,
           "t": 0
          },
          "x": 0.22,
          "xanchor": "left",
          "y": 1.1,
          "yanchor": "top"
         }
        ]
       }
      },
      "text/html": [
       "<div>                            <div id=\"3a15907d-1882-4d2f-9105-94a585e5ca77\" class=\"plotly-graph-div\" style=\"height:525px; width:100%;\"></div>            <script type=\"text/javascript\">                require([\"plotly\"], function(Plotly) {                    window.PLOTLYENV=window.PLOTLYENV || {};                                    if (document.getElementById(\"3a15907d-1882-4d2f-9105-94a585e5ca77\")) {                    Plotly.newPlot(                        \"3a15907d-1882-4d2f-9105-94a585e5ca77\",                        [{\"colorbar\":{\"title\":{\"text\":\"CO<sub>2</sub><br>Emissions<br>per Capita\"}},\"colorscale\":[[0.0,\"rgb(165,0,38)\"],[0.1,\"rgb(215,48,39)\"],[0.2,\"rgb(244,109,67)\"],[0.3,\"rgb(253,174,97)\"],[0.4,\"rgb(254,224,139)\"],[0.5,\"rgb(255,255,191)\"],[0.6,\"rgb(217,239,139)\"],[0.7,\"rgb(166,217,106)\"],[0.8,\"rgb(102,189,99)\"],[0.9,\"rgb(26,152,80)\"],[1.0,\"rgb(0,104,55)\"]],\"customdata\":[[\"Afghanistan\",\"AFG\",\"No Data\",\"No Data\",0.312,0.03,0.11,\"Coal\"],[\"Albania\",\"ALB\",\"No Data\",\"No Data\",1.576,0.01,-6.76,\"Oil\"],[\"Algeria\",\"DZA\",39.91,51.0,3.535,0.45,-6.99,\"Gas\"],[\"Andorra\",\"AND\",\"No Data\",\"No Data\",6.035,0.0,-7.08,\"Coal\"],[\"Angola\",\"AGO\",\"No Data\",\"No Data\",0.675,0.06,-5.49,\"Coal\"],[\"Anguilla\",\"AIA\",\"No Data\",\"No Data\",8.227,0.0,-11.51,\"Coal\"],[\"Antarctica\",\"ATA\",\"No Data\",\"No Data\",\"No Data\",\"No Data\",0.0,\"Coal\"],[\"Antigua and Barbuda\",\"ATG\",\"No Data\",\"No Data\",4.395,0.0,-11.51,\"Coal\"],[\"Argentina\",\"ARG\",47.08,44.0,3.473,0.45,-6.32,\"Gas\"],[\"Armenia\",\"ARM\",\"No Data\",\"No Data\",1.988,0.02,6.54,\"Gas\"],[\"Aruba\",\"ABW\",\"No Data\",\"No Data\",7.055,0.0,-11.51,\"Coal\"],[\"Australia\",\"AUS\",30.06,56.0,15.368,1.13,-5.46,\"Coal\"],[\"Austria\",\"AUT\",52.35,34.0,6.732,0.17,-10.78,\"Oil\"],[\"Azerbaijan\",\"AZE\",\"No Data\",\"No Data\",3.72,0.11,-2.59,\"Gas\"],[\"Bahamas\",\"BHS\",\"No Data\",\"No Data\",5.945,0.01,-11.38,\"Oil\"],[\"Bahrain\",\"BHR\",\"No Data\",\"No Data\",20.546,0.1,1.51,\"Coal\"],[\"Bangladesh\",\"BGD\",\"No Data\",\"No Data\",0.564,0.27,-1.46,\"Gas\"],[\"Barbados\",\"BRB\",\"No Data\",\"No Data\",3.782,0.0,-10.58,\"Coal\"],[\"Belarus\",\"BLR\",46.66,45.0,6.079,0.17,-5.86,\"Gas\"],[\"Belgium\",\"BEL\",45.9,46.0,7.226,0.24,-16.04,\"Gas\"],[\"Belize\",\"BLZ\",\"No Data\",\"No Data\",1.466,0.0,-11.48,\"Coal\"],[\"Benin\",\"BEN\",\"No Data\",\"No Data\",0.553,0.02,-8.37,\"Coal\"],[\"Bermuda\",\"BMU\",\"No Data\",\"No Data\",10.028,0.0,-10.54,\"Oil\"],[\"Bhutan\",\"BTN\",\"No Data\",\"No Data\",2.495,0.01,-0.11,\"Coal\"],[\"Bolivia\",\"BOL\",\"No Data\",\"No Data\",1.773,0.06,-13.2,\"Oil\"],[\"Bonaire Sint Eustatius and Saba\",\"BES\",\"No Data\",\"No Data\",11.466,0.0,-11.51,\"Coal\"],[\"Bosnia and Herzegovina\",\"BIH\",\"No Data\",\"No Data\",6.528,0.06,-13.8,\"Coal\"],[\"Botswana\",\"BWA\",\"No Data\",\"No Data\",2.772,0.02,-5.86,\"Coal\"],[\"Brazil\",\"BRA\",54.86,30.0,2.199,1.34,-3.79,\"Oil\"],[\"British Virgin Islands\",\"VGB\",\"No Data\",\"No Data\",4.605,0.0,-11.51,\"Coal\"],[\"Brunei\",\"BRN\",\"No Data\",\"No Data\",23.22,0.03,2.01,\"Coal\"],[\"Bulgaria\",\"BGR\",48.71,41.0,5.389,0.11,-11.32,\"Coal\"],[\"Burkina Faso\",\"BFA\",\"No Data\",\"No Data\",0.19,0.01,-8.45,\"Coal\"],[\"Burundi\",\"BDI\",\"No Data\",\"No Data\",0.051,0.0,-14.47,\"Oil\"],[\"Cambodia\",\"KHM\",\"No Data\",\"No Data\",0.917,0.04,-0.02,\"Oil\"],[\"Cameroon\",\"CMR\",\"No Data\",\"No Data\",0.26,0.02,-6.88,\"Coal\"],[\"Canada\",\"CAN\",26.03,58.0,14.197,1.54,-8.0,\"Oil\"],[\"Cape Verde\",\"CPV\",\"No Data\",\"No Data\",0.989,0.0,-8.69,\"Coal\"],[\"Central African Republic\",\"CAF\",\"No Data\",\"No Data\",0.039,0.0,-10.71,\"Coal\"],[\"Chad\",\"TCD\",\"No Data\",\"No Data\",0.056,0.0,-9.26,\"Coal\"],[\"Chile\",\"CHL\",\"No Data\",\"No Data\",4.246,0.23,-5.76,\"Oil\"],[\"China\",\"CHN\",52.2,35.0,7.412,30.65,1.7,\"Coal\"],[\"Christmas Island\",\"CXR\",\"No Data\",\"No Data\",\"No Data\",\"No Data\",0.0,\"Coal\"],[\"Colombia\",\"COL\",57.87,22.0,1.751,0.26,-1.45,\"Oil\"],[\"Comoros\",\"COM\",\"No Data\",\"No Data\",0.297,0.0,-15.49,\"Coal\"],[\"Congo\",\"COG\",\"No Data\",\"No Data\",0.565,0.01,-5.3,\"Coal\"],[\"Cook Islands\",\"COK\",\"No Data\",\"No Data\",4.522,0.0,0.14,\"Coal\"],[\"Costa Rica\",\"CRI\",\"No Data\",\"No Data\",1.552,0.02,-10.33,\"Coal\"],[\"Cote d'Ivoire\",\"CIV\",\"No Data\",\"No Data\",0.382,0.03,-3.9,\"Coal\"],[\"Croatia\",\"HRV\",55.96,26.0,4.137,0.05,-4.48,\"Oil\"],[\"Cuba\",\"CUB\",\"No Data\",\"No Data\",1.779,0.06,-10.53,\"Oil\"],[\"Curacao\",\"CUW\",\"No Data\",\"No Data\",20.323,0.01,-11.33,\"Coal\"],[\"Cyprus\",\"CYP\",50.52,39.0,5.38,0.02,-11.5,\"Oil\"],[\"Czechia\",\"CZE\",42.15,48.0,8.215,0.25,-12.73,\"Coal\"],[\"Democratic Republic of Congo\",\"COD\",\"No Data\",\"No Data\",0.028,0.01,-7.86,\"Coal\"],[\"Denmark\",\"DNK\",76.67,1.0,4.522,0.08,-15.22,\"Oil\"],[\"Djibouti\",\"DJI\",\"No Data\",\"No Data\",0.356,0.0,-12.66,\"Coal\"],[\"Dominica\",\"DMA\",\"No Data\",\"No Data\",1.934,0.0,-11.51,\"Coal\"],[\"Dominican Republic\",\"DOM\",\"No Data\",\"No Data\",2.56,0.08,0.91,\"Oil\"],[\"Ecuador\",\"ECU\",\"No Data\",\"No Data\",1.753,0.09,-15.85,\"Coal\"],[\"Egypt\",\"EGY\",59.74,18.0,2.086,0.61,-5.5,\"Gas\"],[\"El Salvador\",\"SLV\",\"No Data\",\"No Data\",0.944,0.02,-10.64,\"Oil\"],[\"Equatorial Guinea\",\"GNQ\",\"No Data\",\"No Data\",7.317,0.03,-0.04,\"Coal\"],[\"Eritrea\",\"ERI\",\"No Data\",\"No Data\",0.204,0.0,-13.48,\"Coal\"],[\"Estonia\",\"EST\",54.98,29.0,7.88,0.03,-15.57,\"Coal\"],[\"Eswatini\",\"SWZ\",\"No Data\",\"No Data\",0.824,0.0,-5.64,\"Oil\"],[\"Ethiopia\",\"ETH\",\"No Data\",\"No Data\",0.128,0.04,-10.42,\"Oil\"],[\"Faeroe Islands\",\"FRO\",\"No Data\",\"No Data\",13.996,0.0,-7.08,\"Coal\"],[\"Fiji\",\"FJI\",\"No Data\",\"No Data\",1.554,0.0,0.13,\"Coal\"],[\"Finland\",\"FIN\",62.41,11.0,7.091,0.11,-7.66,\"Oil\"],[\"France\",\"FRA\",61.01,14.0,4.238,0.79,-12.44,\"Oil\"],[\"French Guiana\",\"GUF\",\"No Data\",\"No Data\",2.439,0.0,0.0,\"Coal\"],[\"French Polynesia\",\"PYF\",\"No Data\",\"No Data\",2.949,0.0,0.14,\"Coal\"],[\"Gabon\",\"GAB\",\"No Data\",\"No Data\",1.931,0.01,-4.22,\"Coal\"],[\"Gambia\",\"GMB\",\"No Data\",\"No Data\",0.207,0.0,-8.6,\"Coal\"],[\"Georgia\",\"GEO\",\"No Data\",\"No Data\",2.499,0.03,-4.89,\"Gas\"],[\"Germany\",\"DEU\",63.53,10.0,7.69,1.85,-9.43,\"Oil\"],[\"Ghana\",\"GHA\",\"No Data\",\"No Data\",0.515,0.05,-5.42,\"Coal\"],[\"Greece\",\"GRC\",58.22,21.0,5.012,0.15,-20.54,\"Oil\"],[\"Greenland\",\"GRL\",\"No Data\",\"No Data\",9.061,0.0,-7.08,\"Coal\"],[\"Grenada\",\"GRD\",\"No Data\",\"No Data\",2.62,0.0,-11.27,\"Coal\"],[\"Guadeloupe\",\"GLP\",\"No Data\",\"No Data\",6.403,0.01,0.0,\"Oil\"],[\"Guatemala\",\"GTM\",\"No Data\",\"No Data\",1.057,0.05,-13.66,\"Oil\"],[\"Guinea\",\"GIN\",\"No Data\",\"No Data\",0.258,0.01,-8.69,\"Coal\"],[\"Guinea-Bissau\",\"GNB\",\"No Data\",\"No Data\",0.146,0.0,-8.69,\"Coal\"],[\"Guyana\",\"GUY\",\"No Data\",\"No Data\",2.813,0.01,-11.01,\"Coal\"],[\"Haiti\",\"HTI\",\"No Data\",\"No Data\",0.256,0.01,-11.23,\"Coal\"],[\"Honduras\",\"HND\",\"No Data\",\"No Data\",0.975,0.03,-10.47,\"Coal\"],[\"Hong Kong\",\"HKG\",\"No Data\",\"No Data\",4.167,0.09,-25.25,\"Coal\"],[\"Hungary\",\"HUN\",40.41,50.0,4.997,0.14,-1.64,\"Gas\"],[\"Iceland\",\"ISL\",\"No Data\",\"No Data\",8.604,0.01,-17.31,\"Oil\"],[\"India\",\"IND\",69.2,7.0,1.769,7.02,-7.01,\"Coal\"],[\"Indonesia\",\"IDN\",57.17,24.0,2.155,1.69,-10.76,\"Coal\"],[\"Iran\",\"IRN\",25.66,59.0,8.87,2.14,1.59,\"Gas\"],[\"Iraq\",\"IRQ\",\"No Data\",\"No Data\",5.242,0.61,-5.45,\"Coal\"],[\"Ireland\",\"IRL\",47.86,43.0,6.754,0.1,-10.53,\"Oil\"],[\"Israel\",\"ISR\",\"No Data\",\"No Data\",6.51,0.16,-9.68,\"Oil\"],[\"Italy\",\"ITA\",55.39,27.0,5.025,0.87,-10.58,\"Gas\"],[\"Jamaica\",\"JAM\",\"No Data\",\"No Data\",2.509,0.02,-7.65,\"Oil\"],[\"Japan\",\"JPN\",48.53,42.0,8.15,2.96,-6.8,\"Coal\"],[\"Jordan\",\"JOR\",\"No Data\",\"No Data\",2.498,0.07,-1.0,\"Oil\"],[\"Kazakhstan\",\"KAZ\",19.23,61.0,15.516,0.84,-1.53,\"Coal\"],[\"Kenya\",\"KEN\",\"No Data\",\"No Data\",0.3,0.05,-12.0,\"Oil\"],[\"Kiribati\",\"KIR\",\"No Data\",\"No Data\",0.57,0.0,0.14,\"Coal\"],[\"Kosovo\",\"OWID_KOS\",\"No Data\",\"No Data\",\"No Data\",0.02,-13.29,\"Coal\"],[\"Kuwait\",\"KWT\",\"No Data\",\"No Data\",20.825,0.26,-7.98,\"Coal\"],[\"Kyrgyzstan\",\"KGZ\",\"No Data\",\"No Data\",1.764,0.03,4.45,\"Oil\"],[\"Laos\",\"LAO\",\"No Data\",\"No Data\",4.652,0.1,-0.25,\"Coal\"],[\"Latvia\",\"LVA\",57.73,23.0,3.591,0.02,-11.45,\"Oil\"],[\"Lebanon\",\"LBN\",\"No Data\",\"No Data\",3.805,0.07,-2.58,\"Oil\"],[\"Lesotho\",\"LSO\",\"No Data\",\"No Data\",1.019,0.01,-5.93,\"Coal\"],[\"Liberia\",\"LBR\",\"No Data\",\"No Data\",0.2,0.0,-7.72,\"Coal\"],[\"Libya\",\"LBY\",\"No Data\",\"No Data\",7.382,0.15,-6.95,\"Coal\"],[\"Liechtenstein\",\"LIE\",\"No Data\",\"No Data\",3.698,0.0,-4.98,\"Coal\"],[\"Lithuania\",\"LTU\",64.89,8.0,5.069,0.04,-0.89,\"Oil\"],[\"Luxembourg\",\"LUX\",60.8,15.0,13.059,0.02,-16.18,\"Oil\"],[\"Madagascar\",\"MDG\",\"No Data\",\"No Data\",0.133,0.01,-9.14,\"Oil\"],[\"Malawi\",\"MWI\",\"No Data\",\"No Data\",0.073,0.0,-12.18,\"Oil\"],[\"Malaysia\",\"MYS\",33.74,54.0,8.423,0.78,-2.17,\"Coal\"],[\"Maldives\",\"MDV\",\"No Data\",\"No Data\",3.324,0.01,0.14,\"Coal\"],[\"Mali\",\"MLI\",\"No Data\",\"No Data\",0.167,0.01,-8.08,\"Coal\"],[\"Malta\",\"MLT\",64.18,9.0,3.612,0.0,-4.45,\"Oil\"],[\"Marshall Islands\",\"MHL\",\"No Data\",\"No Data\",2.556,0.0,0.14,\"Coal\"],[\"Martinique\",\"MTQ\",\"No Data\",\"No Data\",6.258,0.01,0.0,\"Coal\"],[\"Mauritania\",\"MRT\",\"No Data\",\"No Data\",0.726,0.01,-8.69,\"Coal\"],[\"Mauritius\",\"MUS\",\"No Data\",\"No Data\",3.129,0.01,-9.11,\"Oil\"],[\"Mayotte\",\"MYT\",\"No Data\",\"No Data\",1.12,0.0,0.0,\"Coal\"],[\"Mexico\",\"MEX\",56.05,25.0,2.769,1.03,-18.03,\"Oil\"],[\"Moldova\",\"MDA\",\"No Data\",\"No Data\",1.276,0.01,-0.18,\"Oil\"],[\"Mongolia\",\"MNG\",\"No Data\",\"No Data\",26.978,0.25,-0.28,\"Coal\"],[\"Montenegro\",\"MNE\",\"No Data\",\"No Data\",3.678,0.01,-12.67,\"Coal\"],[\"Montserrat\",\"MSR\",\"No Data\",\"No Data\",5.065,0.0,-11.51,\"Coal\"],[\"Morocco\",\"MAR\",71.6,5.0,1.748,0.19,-5.4,\"Oil\"],[\"Mozambique\",\"MOZ\",\"No Data\",\"No Data\",0.21,0.02,-9.83,\"Oil\"],[\"Myanmar\",\"MMR\",\"No Data\",\"No Data\",0.668,0.1,0.77,\"Oil\"],[\"Namibia\",\"NAM\",\"No Data\",\"No Data\",1.526,0.01,-5.02,\"Oil\"],[\"Nauru\",\"NRU\",\"No Data\",\"No Data\",5.236,0.0,0.14,\"Coal\"],[\"Nepal\",\"NPL\",\"No Data\",\"No Data\",0.582,0.05,-0.05,\"Oil\"],[\"Netherlands\",\"NLD\",60.44,16.0,8.06,0.4,-10.09,\"Gas\"],[\"New Caledonia\",\"NCL\",\"No Data\",\"No Data\",30.448,0.02,-0.16,\"Coal\"],[\"New Zealand\",\"NZL\",54.03,32.0,6.942,0.1,-10.72,\"Oil\"],[\"Nicaragua\",\"NIC\",\"No Data\",\"No Data\",0.766,0.01,-10.57,\"Coal\"],[\"Niger\",\"NER\",\"No Data\",\"No Data\",0.07,0.0,-8.79,\"Oil\"],[\"Nigeria\",\"NGA\",\"No Data\",\"No Data\",0.609,0.36,-3.57,\"Oil\"],[\"Niue\",\"NIU\",\"No Data\",\"No Data\",7.012,0.0,0.14,\"Coal\"],[\"North Korea\",\"PRK\",\"No Data\",\"No Data\",1.137,0.08,-0.23,\"Coal\"],[\"North Macedonia\",\"MKD\",\"No Data\",\"No Data\",3.43,0.02,-10.38,\"Coal\"],[\"Norway\",\"NOR\",73.29,3.0,7.615,0.12,-3.69,\"Oil\"],[\"Oman\",\"OMN\",\"No Data\",\"No Data\",12.173,0.18,2.31,\"Coal\"],[\"Pakistan\",\"PAK\",\"No Data\",\"No Data\",1.063,0.67,0.2,\"Oil\"],[\"Palau\",\"PLW\",\"No Data\",\"No Data\",12.125,0.0,0.14,\"Coal\"],[\"Palestine\",\"PSE\",\"No Data\",\"No Data\",0.568,0.01,-2.92,\"Coal\"],[\"Panama\",\"PAN\",\"No Data\",\"No Data\",2.498,0.03,-12.32,\"Oil\"],[\"Papua New Guinea\",\"PNG\",\"No Data\",\"No Data\",0.744,0.02,0.52,\"Coal\"],[\"Paraguay\",\"PRY\",\"No Data\",\"No Data\",1.061,0.02,-11.2,\"Oil\"],[\"Peru\",\"PER\",\"No Data\",\"No Data\",1.356,0.13,-18.68,\"Oil\"],[\"Philippines\",\"PHL\",58.98,20.0,1.241,0.39,-7.23,\"Coal\"],[\"Poland\",\"POL\",40.63,49.0,7.916,0.86,-6.24,\"Coal\"],[\"Portugal\",\"PRT\",61.11,13.0,3.961,0.12,-15.2,\"Oil\"],[\"Puerto Rico\",\"PRI\",\"No Data\",\"No Data\",\"No Data\",\"No Data\",0.0,\"Coal\"],[\"Qatar\",\"QAT\",\"No Data\",\"No Data\",37.019,0.31,-7.29,\"Coal\"],[\"Romania\",\"ROU\",52.43,33.0,3.715,0.21,-4.5,\"Oil\"],[\"Russia\",\"RUS\",34.73,53.0,10.807,4.53,-6.09,\"Gas\"],[\"Rwanda\",\"RWA\",\"No Data\",\"No Data\",0.08,0.0,-13.03,\"Oil\"],[\"Saint Helena\",\"SHN\",\"No Data\",\"No Data\",1.564,0.0,-11.51,\"Coal\"],[\"Saint Kitts and Nevis\",\"KNA\",\"No Data\",\"No Data\",3.986,0.0,-11.51,\"Coal\"],[\"Saint Lucia\",\"LCA\",\"No Data\",\"No Data\",2.396,0.0,-11.51,\"Coal\"],[\"Saint Pierre and Miquelon\",\"SPM\",\"No Data\",\"No Data\",8.738,0.0,-11.51,\"Coal\"],[\"Saint Vincent and the Grenadines\",\"VCT\",\"No Data\",\"No Data\",1.883,0.0,-11.51,\"Coal\"],[\"Samoa\",\"WSM\",\"No Data\",\"No Data\",1.239,0.0,0.14,\"Coal\"],[\"Sao Tome and Principe\",\"STP\",\"No Data\",\"No Data\",0.514,0.0,-10.71,\"Coal\"],[\"Saudi Arabia\",\"SAU\",24.25,60.0,17.967,1.8,0.5,\"Coal\"],[\"Senegal\",\"SEN\",\"No Data\",\"No Data\",0.624,0.03,-7.23,\"Oil\"],[\"Serbia\",\"SRB\",\"No Data\",\"No Data\",4.937,0.12,-12.57,\"Coal\"],[\"Seychelles\",\"SYC\",\"No Data\",\"No Data\",4.994,0.0,-15.49,\"Coal\"],[\"Sierra Leone\",\"SLE\",\"No Data\",\"No Data\",0.11,0.0,-8.69,\"Coal\"],[\"Singapore\",\"SGP\",\"No Data\",\"No Data\",7.778,0.13,-0.44,\"Oil\"],[\"Sint Maarten (Dutch part)\",\"SXM\",\"No Data\",\"No Data\",14.539,0.0,-11.51,\"Coal\"],[\"Slovakia\",\"SVK\",50.67,37.0,5.629,0.09,-9.01,\"Oil\"],[\"Slovenia\",\"SVN\",43.28,47.0,6.043,0.04,-10.3,\"Oil\"],[\"Solomon Islands\",\"SLB\",\"No Data\",\"No Data\",0.435,0.0,0.14,\"Coal\"],[\"Somalia\",\"SOM\",\"No Data\",\"No Data\",0.035,0.0,-15.49,\"Coal\"],[\"South Africa\",\"ZAF\",51.13,36.0,7.62,1.3,-5.04,\"Coal\"],[\"South Korea\",\"KOR\",26.74,57.0,11.656,1.72,-7.78,\"Coal\"],[\"South Sudan\",\"SSD\",\"No Data\",\"No Data\",0.105,0.0,-15.49,\"Coal\"],[\"Spain\",\"ESP\",54.35,31.0,4.468,0.6,-16.93,\"Oil\"],[\"Sri Lanka\",\"LKA\",\"No Data\",\"No Data\",0.986,0.06,-7.53,\"Oil\"],[\"Sudan\",\"SDN\",\"No Data\",\"No Data\",0.43,0.05,-14.4,\"Coal\"],[\"Suriname\",\"SUR\",\"No Data\",\"No Data\",3.791,0.01,-11.75,\"Coal\"],[\"Sweden\",\"SWE\",74.22,2.0,3.826,0.11,-5.62,\"Oil\"],[\"Switzerland\",\"CHE\",61.7,12.0,3.732,0.09,-12.09,\"Oil\"],[\"Syria\",\"SYR\",\"No Data\",\"No Data\",1.745,0.09,-1.54,\"Oil\"],[\"Taiwan\",\"TWN\",\"No Data\",\"No Data\",11.47,0.78,-0.78,\"Coal\"],[\"Tajikistan\",\"TJK\",\"No Data\",\"No Data\",0.991,0.03,9.42,\"Coal\"],[\"Tanzania\",\"TZA\",\"No Data\",\"No Data\",0.183,0.03,-9.17,\"Oil\"],[\"Thailand\",\"THA\",55.01,28.0,3.693,0.74,-5.1,\"Oil\"],[\"Timor\",\"TLS\",\"No Data\",\"No Data\",0.399,0.0,0.14,\"Coal\"],[\"Togo\",\"TGO\",\"No Data\",\"No Data\",0.265,0.01,-4.93,\"Coal\"],[\"Tonga\",\"TON\",\"No Data\",\"No Data\",1.36,0.0,0.14,\"Coal\"],[\"Trinidad and Tobago\",\"TTO\",\"No Data\",\"No Data\",25.373,0.1,-12.06,\"Coal\"],[\"Tunisia\",\"TUN\",\"No Data\",\"No Data\",2.38,0.08,-6.28,\"Coal\"],[\"Turkey\",\"TUR\",50.53,38.0,4.657,1.13,-1.64,\"Coal\"],[\"Turkmenistan\",\"TKM\",\"No Data\",\"No Data\",12.491,0.22,-1.29,\"Coal\"],[\"Turks and Caicos Islands\",\"TCA\",\"No Data\",\"No Data\",5.231,0.0,-11.51,\"Coal\"],[\"Tuvalu\",\"TUV\",\"No Data\",\"No Data\",0.642,0.0,0.15,\"Coal\"],[\"Uganda\",\"UGA\",\"No Data\",\"No Data\",0.107,0.01,-14.48,\"Coal\"],[\"Ukraine\",\"UKR\",60.4,17.0,4.891,0.61,-3.9,\"Coal\"],[\"United Arab Emirates\",\"ARE\",\"No Data\",\"No Data\",15.193,0.43,-2.54,\"Gas\"],[\"United Kingdom\",\"GBR\",73.09,4.0,4.855,0.95,-10.69,\"Gas\"],[\"United States\",\"USA\",37.39,52.0,14.238,13.54,-10.33,\"Oil\"],[\"Uruguay\",\"URY\",\"No Data\",\"No Data\",1.681,0.02,-11.3,\"Oil\"],[\"Uzbekistan\",\"UZB\",\"No Data\",\"No Data\",3.37,0.32,-1.24,\"Gas\"],[\"Vanuatu\",\"VUT\",\"No Data\",\"No Data\",0.591,0.0,0.14,\"Coal\"],[\"Venezuela\",\"VEN\",\"No Data\",\"No Data\",2.975,0.24,-14.69,\"Flaring\"],[\"Vietnam\",\"VNM\",49.21,40.0,2.613,0.73,-2.31,\"Coal\"],[\"Yemen\",\"YEM\",\"No Data\",\"No Data\",0.328,0.03,-2.52,\"Oil\"],[\"Zambia\",\"ZMB\",\"No Data\",\"No Data\",0.358,0.02,-6.73,\"Oil\"],[\"Zimbabwe\",\"ZWE\",\"No Data\",\"No Data\",0.709,0.03,-3.82,\"Coal\"]],\"hovertemplate\":\"%{customdata[0]} (%{customdata[1]})<br>CCPI Score: %{customdata[2]}<br>CCPI Rank: %{customdata[3]}<br>CO<sub>2</sub> Emissions per Capita: %{customdata[4]}<br>Global Share of CO<sub>2</sub> Emissions: %{customdata[5]}<br>Percent Growth of CO<sub>2</sub> Emissions: %{customdata[6]}<br>Primary CO<sub>2</sub> Emissions Source: %{customdata[7]}<br><extra></extra>\",\"locations\":[\"AFG\",\"ALB\",\"DZA\",\"AND\",\"AGO\",\"AIA\",\"ATA\",\"ATG\",\"ARG\",\"ARM\",\"ABW\",\"AUS\",\"AUT\",\"AZE\",\"BHS\",\"BHR\",\"BGD\",\"BRB\",\"BLR\",\"BEL\",\"BLZ\",\"BEN\",\"BMU\",\"BTN\",\"BOL\",\"BES\",\"BIH\",\"BWA\",\"BRA\",\"VGB\",\"BRN\",\"BGR\",\"BFA\",\"BDI\",\"KHM\",\"CMR\",\"CAN\",\"CPV\",\"CAF\",\"TCD\",\"CHL\",\"CHN\",\"CXR\",\"COL\",\"COM\",\"COG\",\"COK\",\"CRI\",\"CIV\",\"HRV\",\"CUB\",\"CUW\",\"CYP\",\"CZE\",\"COD\",\"DNK\",\"DJI\",\"DMA\",\"DOM\",\"ECU\",\"EGY\",\"SLV\",\"GNQ\",\"ERI\",\"EST\",\"SWZ\",\"ETH\",\"FRO\",\"FJI\",\"FIN\",\"FRA\",\"GUF\",\"PYF\",\"GAB\",\"GMB\",\"GEO\",\"DEU\",\"GHA\",\"GRC\",\"GRL\",\"GRD\",\"GLP\",\"GTM\",\"GIN\",\"GNB\",\"GUY\",\"HTI\",\"HND\",\"HKG\",\"HUN\",\"ISL\",\"IND\",\"IDN\",\"IRN\",\"IRQ\",\"IRL\",\"ISR\",\"ITA\",\"JAM\",\"JPN\",\"JOR\",\"KAZ\",\"KEN\",\"KIR\",\"OWID_KOS\",\"KWT\",\"KGZ\",\"LAO\",\"LVA\",\"LBN\",\"LSO\",\"LBR\",\"LBY\",\"LIE\",\"LTU\",\"LUX\",\"MDG\",\"MWI\",\"MYS\",\"MDV\",\"MLI\",\"MLT\",\"MHL\",\"MTQ\",\"MRT\",\"MUS\",\"MYT\",\"MEX\",\"MDA\",\"MNG\",\"MNE\",\"MSR\",\"MAR\",\"MOZ\",\"MMR\",\"NAM\",\"NRU\",\"NPL\",\"NLD\",\"NCL\",\"NZL\",\"NIC\",\"NER\",\"NGA\",\"NIU\",\"PRK\",\"MKD\",\"NOR\",\"OMN\",\"PAK\",\"PLW\",\"PSE\",\"PAN\",\"PNG\",\"PRY\",\"PER\",\"PHL\",\"POL\",\"PRT\",\"PRI\",\"QAT\",\"ROU\",\"RUS\",\"RWA\",\"SHN\",\"KNA\",\"LCA\",\"SPM\",\"VCT\",\"WSM\",\"STP\",\"SAU\",\"SEN\",\"SRB\",\"SYC\",\"SLE\",\"SGP\",\"SXM\",\"SVK\",\"SVN\",\"SLB\",\"SOM\",\"ZAF\",\"KOR\",\"SSD\",\"ESP\",\"LKA\",\"SDN\",\"SUR\",\"SWE\",\"CHE\",\"SYR\",\"TWN\",\"TJK\",\"TZA\",\"THA\",\"TLS\",\"TGO\",\"TON\",\"TTO\",\"TUN\",\"TUR\",\"TKM\",\"TCA\",\"TUV\",\"UGA\",\"UKR\",\"ARE\",\"GBR\",\"USA\",\"URY\",\"UZB\",\"VUT\",\"VEN\",\"VNM\",\"YEM\",\"ZMB\",\"ZWE\"],\"marker\":{\"line\":{\"width\":0.1}},\"reversescale\":true,\"visible\":true,\"z\":[0.312,1.576,3.535,6.035,0.675,8.227,\"No Data\",4.395,3.473,1.988,7.055,15.368,6.732,3.72,5.945,20.546,0.564,3.782,6.079,7.226,1.466,0.553,10.028,2.495,1.773,11.466,6.528,2.772,2.199,4.605,23.22,5.389,0.19,0.051,0.917,0.26,14.197,0.989,0.039,0.056,4.246,7.412,\"No Data\",1.751,0.297,0.565,4.522,1.552,0.382,4.137,1.779,20.323,5.38,8.215,0.028,4.522,0.356,1.934,2.56,1.753,2.086,0.944,7.317,0.204,7.88,0.824,0.128,13.996,1.554,7.091,4.238,2.439,2.949,1.931,0.207,2.499,7.69,0.515,5.012,9.061,2.62,6.403,1.057,0.258,0.146,2.813,0.256,0.975,4.167,4.997,8.604,1.769,2.155,8.87,5.242,6.754,6.51,5.025,2.509,8.15,2.498,15.516,0.3,0.57,\"No Data\",20.825,1.764,4.652,3.591,3.805,1.019,0.2,7.382,3.698,5.069,13.059,0.133,0.073,8.423,3.324,0.167,3.612,2.556,6.258,0.726,3.129,1.12,2.769,1.276,26.978,3.678,5.065,1.748,0.21,0.668,1.526,5.236,0.582,8.06,30.448,6.942,0.766,0.07,0.609,7.012,1.137,3.43,7.615,12.173,1.063,12.125,0.568,2.498,0.744,1.061,1.356,1.241,7.916,3.961,\"No Data\",37.019,3.715,10.807,0.08,1.564,3.986,2.396,8.738,1.883,1.239,0.514,17.967,0.624,4.937,4.994,0.11,7.778,14.539,5.629,6.043,0.435,0.035,7.62,11.656,0.105,4.468,0.986,0.43,3.791,3.826,3.732,1.745,11.47,0.991,0.183,3.693,0.399,0.265,1.36,25.373,2.38,4.657,12.491,5.231,0.642,0.107,4.891,15.193,4.855,14.238,1.681,3.37,0.591,2.975,2.613,0.328,0.358,0.709],\"zmax\":11.4688,\"zmin\":0.2566,\"type\":\"choropleth\"},{\"colorbar\":{\"title\":{\"text\":\"Share of<br>Global CO<sub>2</sub><br>Emissions\"}},\"colorscale\":[[0.0,\"rgb(165,0,38)\"],[0.1,\"rgb(215,48,39)\"],[0.2,\"rgb(244,109,67)\"],[0.3,\"rgb(253,174,97)\"],[0.4,\"rgb(254,224,139)\"],[0.5,\"rgb(255,255,191)\"],[0.6,\"rgb(217,239,139)\"],[0.7,\"rgb(166,217,106)\"],[0.8,\"rgb(102,189,99)\"],[0.9,\"rgb(26,152,80)\"],[1.0,\"rgb(0,104,55)\"]],\"customdata\":[[\"Afghanistan\",\"AFG\",\"No Data\",\"No Data\",0.312,0.03,0.11,\"Coal\"],[\"Albania\",\"ALB\",\"No Data\",\"No Data\",1.576,0.01,-6.76,\"Oil\"],[\"Algeria\",\"DZA\",39.91,51.0,3.535,0.45,-6.99,\"Gas\"],[\"Andorra\",\"AND\",\"No Data\",\"No Data\",6.035,0.0,-7.08,\"Coal\"],[\"Angola\",\"AGO\",\"No Data\",\"No Data\",0.675,0.06,-5.49,\"Coal\"],[\"Anguilla\",\"AIA\",\"No Data\",\"No Data\",8.227,0.0,-11.51,\"Coal\"],[\"Antarctica\",\"ATA\",\"No Data\",\"No Data\",\"No Data\",\"No Data\",0.0,\"Coal\"],[\"Antigua and Barbuda\",\"ATG\",\"No Data\",\"No Data\",4.395,0.0,-11.51,\"Coal\"],[\"Argentina\",\"ARG\",47.08,44.0,3.473,0.45,-6.32,\"Gas\"],[\"Armenia\",\"ARM\",\"No Data\",\"No Data\",1.988,0.02,6.54,\"Gas\"],[\"Aruba\",\"ABW\",\"No Data\",\"No Data\",7.055,0.0,-11.51,\"Coal\"],[\"Australia\",\"AUS\",30.06,56.0,15.368,1.13,-5.46,\"Coal\"],[\"Austria\",\"AUT\",52.35,34.0,6.732,0.17,-10.78,\"Oil\"],[\"Azerbaijan\",\"AZE\",\"No Data\",\"No Data\",3.72,0.11,-2.59,\"Gas\"],[\"Bahamas\",\"BHS\",\"No Data\",\"No Data\",5.945,0.01,-11.38,\"Oil\"],[\"Bahrain\",\"BHR\",\"No Data\",\"No Data\",20.546,0.1,1.51,\"Coal\"],[\"Bangladesh\",\"BGD\",\"No Data\",\"No Data\",0.564,0.27,-1.46,\"Gas\"],[\"Barbados\",\"BRB\",\"No Data\",\"No Data\",3.782,0.0,-10.58,\"Coal\"],[\"Belarus\",\"BLR\",46.66,45.0,6.079,0.17,-5.86,\"Gas\"],[\"Belgium\",\"BEL\",45.9,46.0,7.226,0.24,-16.04,\"Gas\"],[\"Belize\",\"BLZ\",\"No Data\",\"No Data\",1.466,0.0,-11.48,\"Coal\"],[\"Benin\",\"BEN\",\"No Data\",\"No Data\",0.553,0.02,-8.37,\"Coal\"],[\"Bermuda\",\"BMU\",\"No Data\",\"No Data\",10.028,0.0,-10.54,\"Oil\"],[\"Bhutan\",\"BTN\",\"No Data\",\"No Data\",2.495,0.01,-0.11,\"Coal\"],[\"Bolivia\",\"BOL\",\"No Data\",\"No Data\",1.773,0.06,-13.2,\"Oil\"],[\"Bonaire Sint Eustatius and Saba\",\"BES\",\"No Data\",\"No Data\",11.466,0.0,-11.51,\"Coal\"],[\"Bosnia and Herzegovina\",\"BIH\",\"No Data\",\"No Data\",6.528,0.06,-13.8,\"Coal\"],[\"Botswana\",\"BWA\",\"No Data\",\"No Data\",2.772,0.02,-5.86,\"Coal\"],[\"Brazil\",\"BRA\",54.86,30.0,2.199,1.34,-3.79,\"Oil\"],[\"British Virgin Islands\",\"VGB\",\"No Data\",\"No Data\",4.605,0.0,-11.51,\"Coal\"],[\"Brunei\",\"BRN\",\"No Data\",\"No Data\",23.22,0.03,2.01,\"Coal\"],[\"Bulgaria\",\"BGR\",48.71,41.0,5.389,0.11,-11.32,\"Coal\"],[\"Burkina Faso\",\"BFA\",\"No Data\",\"No Data\",0.19,0.01,-8.45,\"Coal\"],[\"Burundi\",\"BDI\",\"No Data\",\"No Data\",0.051,0.0,-14.47,\"Oil\"],[\"Cambodia\",\"KHM\",\"No Data\",\"No Data\",0.917,0.04,-0.02,\"Oil\"],[\"Cameroon\",\"CMR\",\"No Data\",\"No Data\",0.26,0.02,-6.88,\"Coal\"],[\"Canada\",\"CAN\",26.03,58.0,14.197,1.54,-8.0,\"Oil\"],[\"Cape Verde\",\"CPV\",\"No Data\",\"No Data\",0.989,0.0,-8.69,\"Coal\"],[\"Central African Republic\",\"CAF\",\"No Data\",\"No Data\",0.039,0.0,-10.71,\"Coal\"],[\"Chad\",\"TCD\",\"No Data\",\"No Data\",0.056,0.0,-9.26,\"Coal\"],[\"Chile\",\"CHL\",\"No Data\",\"No Data\",4.246,0.23,-5.76,\"Oil\"],[\"China\",\"CHN\",52.2,35.0,7.412,30.65,1.7,\"Coal\"],[\"Christmas Island\",\"CXR\",\"No Data\",\"No Data\",\"No Data\",\"No Data\",0.0,\"Coal\"],[\"Colombia\",\"COL\",57.87,22.0,1.751,0.26,-1.45,\"Oil\"],[\"Comoros\",\"COM\",\"No Data\",\"No Data\",0.297,0.0,-15.49,\"Coal\"],[\"Congo\",\"COG\",\"No Data\",\"No Data\",0.565,0.01,-5.3,\"Coal\"],[\"Cook Islands\",\"COK\",\"No Data\",\"No Data\",4.522,0.0,0.14,\"Coal\"],[\"Costa Rica\",\"CRI\",\"No Data\",\"No Data\",1.552,0.02,-10.33,\"Coal\"],[\"Cote d'Ivoire\",\"CIV\",\"No Data\",\"No Data\",0.382,0.03,-3.9,\"Coal\"],[\"Croatia\",\"HRV\",55.96,26.0,4.137,0.05,-4.48,\"Oil\"],[\"Cuba\",\"CUB\",\"No Data\",\"No Data\",1.779,0.06,-10.53,\"Oil\"],[\"Curacao\",\"CUW\",\"No Data\",\"No Data\",20.323,0.01,-11.33,\"Coal\"],[\"Cyprus\",\"CYP\",50.52,39.0,5.38,0.02,-11.5,\"Oil\"],[\"Czechia\",\"CZE\",42.15,48.0,8.215,0.25,-12.73,\"Coal\"],[\"Democratic Republic of Congo\",\"COD\",\"No Data\",\"No Data\",0.028,0.01,-7.86,\"Coal\"],[\"Denmark\",\"DNK\",76.67,1.0,4.522,0.08,-15.22,\"Oil\"],[\"Djibouti\",\"DJI\",\"No Data\",\"No Data\",0.356,0.0,-12.66,\"Coal\"],[\"Dominica\",\"DMA\",\"No Data\",\"No Data\",1.934,0.0,-11.51,\"Coal\"],[\"Dominican Republic\",\"DOM\",\"No Data\",\"No Data\",2.56,0.08,0.91,\"Oil\"],[\"Ecuador\",\"ECU\",\"No Data\",\"No Data\",1.753,0.09,-15.85,\"Coal\"],[\"Egypt\",\"EGY\",59.74,18.0,2.086,0.61,-5.5,\"Gas\"],[\"El Salvador\",\"SLV\",\"No Data\",\"No Data\",0.944,0.02,-10.64,\"Oil\"],[\"Equatorial Guinea\",\"GNQ\",\"No Data\",\"No Data\",7.317,0.03,-0.04,\"Coal\"],[\"Eritrea\",\"ERI\",\"No Data\",\"No Data\",0.204,0.0,-13.48,\"Coal\"],[\"Estonia\",\"EST\",54.98,29.0,7.88,0.03,-15.57,\"Coal\"],[\"Eswatini\",\"SWZ\",\"No Data\",\"No Data\",0.824,0.0,-5.64,\"Oil\"],[\"Ethiopia\",\"ETH\",\"No Data\",\"No Data\",0.128,0.04,-10.42,\"Oil\"],[\"Faeroe Islands\",\"FRO\",\"No Data\",\"No Data\",13.996,0.0,-7.08,\"Coal\"],[\"Fiji\",\"FJI\",\"No Data\",\"No Data\",1.554,0.0,0.13,\"Coal\"],[\"Finland\",\"FIN\",62.41,11.0,7.091,0.11,-7.66,\"Oil\"],[\"France\",\"FRA\",61.01,14.0,4.238,0.79,-12.44,\"Oil\"],[\"French Guiana\",\"GUF\",\"No Data\",\"No Data\",2.439,0.0,0.0,\"Coal\"],[\"French Polynesia\",\"PYF\",\"No Data\",\"No Data\",2.949,0.0,0.14,\"Coal\"],[\"Gabon\",\"GAB\",\"No Data\",\"No Data\",1.931,0.01,-4.22,\"Coal\"],[\"Gambia\",\"GMB\",\"No Data\",\"No Data\",0.207,0.0,-8.6,\"Coal\"],[\"Georgia\",\"GEO\",\"No Data\",\"No Data\",2.499,0.03,-4.89,\"Gas\"],[\"Germany\",\"DEU\",63.53,10.0,7.69,1.85,-9.43,\"Oil\"],[\"Ghana\",\"GHA\",\"No Data\",\"No Data\",0.515,0.05,-5.42,\"Coal\"],[\"Greece\",\"GRC\",58.22,21.0,5.012,0.15,-20.54,\"Oil\"],[\"Greenland\",\"GRL\",\"No Data\",\"No Data\",9.061,0.0,-7.08,\"Coal\"],[\"Grenada\",\"GRD\",\"No Data\",\"No Data\",2.62,0.0,-11.27,\"Coal\"],[\"Guadeloupe\",\"GLP\",\"No Data\",\"No Data\",6.403,0.01,0.0,\"Oil\"],[\"Guatemala\",\"GTM\",\"No Data\",\"No Data\",1.057,0.05,-13.66,\"Oil\"],[\"Guinea\",\"GIN\",\"No Data\",\"No Data\",0.258,0.01,-8.69,\"Coal\"],[\"Guinea-Bissau\",\"GNB\",\"No Data\",\"No Data\",0.146,0.0,-8.69,\"Coal\"],[\"Guyana\",\"GUY\",\"No Data\",\"No Data\",2.813,0.01,-11.01,\"Coal\"],[\"Haiti\",\"HTI\",\"No Data\",\"No Data\",0.256,0.01,-11.23,\"Coal\"],[\"Honduras\",\"HND\",\"No Data\",\"No Data\",0.975,0.03,-10.47,\"Coal\"],[\"Hong Kong\",\"HKG\",\"No Data\",\"No Data\",4.167,0.09,-25.25,\"Coal\"],[\"Hungary\",\"HUN\",40.41,50.0,4.997,0.14,-1.64,\"Gas\"],[\"Iceland\",\"ISL\",\"No Data\",\"No Data\",8.604,0.01,-17.31,\"Oil\"],[\"India\",\"IND\",69.2,7.0,1.769,7.02,-7.01,\"Coal\"],[\"Indonesia\",\"IDN\",57.17,24.0,2.155,1.69,-10.76,\"Coal\"],[\"Iran\",\"IRN\",25.66,59.0,8.87,2.14,1.59,\"Gas\"],[\"Iraq\",\"IRQ\",\"No Data\",\"No Data\",5.242,0.61,-5.45,\"Coal\"],[\"Ireland\",\"IRL\",47.86,43.0,6.754,0.1,-10.53,\"Oil\"],[\"Israel\",\"ISR\",\"No Data\",\"No Data\",6.51,0.16,-9.68,\"Oil\"],[\"Italy\",\"ITA\",55.39,27.0,5.025,0.87,-10.58,\"Gas\"],[\"Jamaica\",\"JAM\",\"No Data\",\"No Data\",2.509,0.02,-7.65,\"Oil\"],[\"Japan\",\"JPN\",48.53,42.0,8.15,2.96,-6.8,\"Coal\"],[\"Jordan\",\"JOR\",\"No Data\",\"No Data\",2.498,0.07,-1.0,\"Oil\"],[\"Kazakhstan\",\"KAZ\",19.23,61.0,15.516,0.84,-1.53,\"Coal\"],[\"Kenya\",\"KEN\",\"No Data\",\"No Data\",0.3,0.05,-12.0,\"Oil\"],[\"Kiribati\",\"KIR\",\"No Data\",\"No Data\",0.57,0.0,0.14,\"Coal\"],[\"Kosovo\",\"OWID_KOS\",\"No Data\",\"No Data\",\"No Data\",0.02,-13.29,\"Coal\"],[\"Kuwait\",\"KWT\",\"No Data\",\"No Data\",20.825,0.26,-7.98,\"Coal\"],[\"Kyrgyzstan\",\"KGZ\",\"No Data\",\"No Data\",1.764,0.03,4.45,\"Oil\"],[\"Laos\",\"LAO\",\"No Data\",\"No Data\",4.652,0.1,-0.25,\"Coal\"],[\"Latvia\",\"LVA\",57.73,23.0,3.591,0.02,-11.45,\"Oil\"],[\"Lebanon\",\"LBN\",\"No Data\",\"No Data\",3.805,0.07,-2.58,\"Oil\"],[\"Lesotho\",\"LSO\",\"No Data\",\"No Data\",1.019,0.01,-5.93,\"Coal\"],[\"Liberia\",\"LBR\",\"No Data\",\"No Data\",0.2,0.0,-7.72,\"Coal\"],[\"Libya\",\"LBY\",\"No Data\",\"No Data\",7.382,0.15,-6.95,\"Coal\"],[\"Liechtenstein\",\"LIE\",\"No Data\",\"No Data\",3.698,0.0,-4.98,\"Coal\"],[\"Lithuania\",\"LTU\",64.89,8.0,5.069,0.04,-0.89,\"Oil\"],[\"Luxembourg\",\"LUX\",60.8,15.0,13.059,0.02,-16.18,\"Oil\"],[\"Madagascar\",\"MDG\",\"No Data\",\"No Data\",0.133,0.01,-9.14,\"Oil\"],[\"Malawi\",\"MWI\",\"No Data\",\"No Data\",0.073,0.0,-12.18,\"Oil\"],[\"Malaysia\",\"MYS\",33.74,54.0,8.423,0.78,-2.17,\"Coal\"],[\"Maldives\",\"MDV\",\"No Data\",\"No Data\",3.324,0.01,0.14,\"Coal\"],[\"Mali\",\"MLI\",\"No Data\",\"No Data\",0.167,0.01,-8.08,\"Coal\"],[\"Malta\",\"MLT\",64.18,9.0,3.612,0.0,-4.45,\"Oil\"],[\"Marshall Islands\",\"MHL\",\"No Data\",\"No Data\",2.556,0.0,0.14,\"Coal\"],[\"Martinique\",\"MTQ\",\"No Data\",\"No Data\",6.258,0.01,0.0,\"Coal\"],[\"Mauritania\",\"MRT\",\"No Data\",\"No Data\",0.726,0.01,-8.69,\"Coal\"],[\"Mauritius\",\"MUS\",\"No Data\",\"No Data\",3.129,0.01,-9.11,\"Oil\"],[\"Mayotte\",\"MYT\",\"No Data\",\"No Data\",1.12,0.0,0.0,\"Coal\"],[\"Mexico\",\"MEX\",56.05,25.0,2.769,1.03,-18.03,\"Oil\"],[\"Moldova\",\"MDA\",\"No Data\",\"No Data\",1.276,0.01,-0.18,\"Oil\"],[\"Mongolia\",\"MNG\",\"No Data\",\"No Data\",26.978,0.25,-0.28,\"Coal\"],[\"Montenegro\",\"MNE\",\"No Data\",\"No Data\",3.678,0.01,-12.67,\"Coal\"],[\"Montserrat\",\"MSR\",\"No Data\",\"No Data\",5.065,0.0,-11.51,\"Coal\"],[\"Morocco\",\"MAR\",71.6,5.0,1.748,0.19,-5.4,\"Oil\"],[\"Mozambique\",\"MOZ\",\"No Data\",\"No Data\",0.21,0.02,-9.83,\"Oil\"],[\"Myanmar\",\"MMR\",\"No Data\",\"No Data\",0.668,0.1,0.77,\"Oil\"],[\"Namibia\",\"NAM\",\"No Data\",\"No Data\",1.526,0.01,-5.02,\"Oil\"],[\"Nauru\",\"NRU\",\"No Data\",\"No Data\",5.236,0.0,0.14,\"Coal\"],[\"Nepal\",\"NPL\",\"No Data\",\"No Data\",0.582,0.05,-0.05,\"Oil\"],[\"Netherlands\",\"NLD\",60.44,16.0,8.06,0.4,-10.09,\"Gas\"],[\"New Caledonia\",\"NCL\",\"No Data\",\"No Data\",30.448,0.02,-0.16,\"Coal\"],[\"New Zealand\",\"NZL\",54.03,32.0,6.942,0.1,-10.72,\"Oil\"],[\"Nicaragua\",\"NIC\",\"No Data\",\"No Data\",0.766,0.01,-10.57,\"Coal\"],[\"Niger\",\"NER\",\"No Data\",\"No Data\",0.07,0.0,-8.79,\"Oil\"],[\"Nigeria\",\"NGA\",\"No Data\",\"No Data\",0.609,0.36,-3.57,\"Oil\"],[\"Niue\",\"NIU\",\"No Data\",\"No Data\",7.012,0.0,0.14,\"Coal\"],[\"North Korea\",\"PRK\",\"No Data\",\"No Data\",1.137,0.08,-0.23,\"Coal\"],[\"North Macedonia\",\"MKD\",\"No Data\",\"No Data\",3.43,0.02,-10.38,\"Coal\"],[\"Norway\",\"NOR\",73.29,3.0,7.615,0.12,-3.69,\"Oil\"],[\"Oman\",\"OMN\",\"No Data\",\"No Data\",12.173,0.18,2.31,\"Coal\"],[\"Pakistan\",\"PAK\",\"No Data\",\"No Data\",1.063,0.67,0.2,\"Oil\"],[\"Palau\",\"PLW\",\"No Data\",\"No Data\",12.125,0.0,0.14,\"Coal\"],[\"Palestine\",\"PSE\",\"No Data\",\"No Data\",0.568,0.01,-2.92,\"Coal\"],[\"Panama\",\"PAN\",\"No Data\",\"No Data\",2.498,0.03,-12.32,\"Oil\"],[\"Papua New Guinea\",\"PNG\",\"No Data\",\"No Data\",0.744,0.02,0.52,\"Coal\"],[\"Paraguay\",\"PRY\",\"No Data\",\"No Data\",1.061,0.02,-11.2,\"Oil\"],[\"Peru\",\"PER\",\"No Data\",\"No Data\",1.356,0.13,-18.68,\"Oil\"],[\"Philippines\",\"PHL\",58.98,20.0,1.241,0.39,-7.23,\"Coal\"],[\"Poland\",\"POL\",40.63,49.0,7.916,0.86,-6.24,\"Coal\"],[\"Portugal\",\"PRT\",61.11,13.0,3.961,0.12,-15.2,\"Oil\"],[\"Puerto Rico\",\"PRI\",\"No Data\",\"No Data\",\"No Data\",\"No Data\",0.0,\"Coal\"],[\"Qatar\",\"QAT\",\"No Data\",\"No Data\",37.019,0.31,-7.29,\"Coal\"],[\"Romania\",\"ROU\",52.43,33.0,3.715,0.21,-4.5,\"Oil\"],[\"Russia\",\"RUS\",34.73,53.0,10.807,4.53,-6.09,\"Gas\"],[\"Rwanda\",\"RWA\",\"No Data\",\"No Data\",0.08,0.0,-13.03,\"Oil\"],[\"Saint Helena\",\"SHN\",\"No Data\",\"No Data\",1.564,0.0,-11.51,\"Coal\"],[\"Saint Kitts and Nevis\",\"KNA\",\"No Data\",\"No Data\",3.986,0.0,-11.51,\"Coal\"],[\"Saint Lucia\",\"LCA\",\"No Data\",\"No Data\",2.396,0.0,-11.51,\"Coal\"],[\"Saint Pierre and Miquelon\",\"SPM\",\"No Data\",\"No Data\",8.738,0.0,-11.51,\"Coal\"],[\"Saint Vincent and the Grenadines\",\"VCT\",\"No Data\",\"No Data\",1.883,0.0,-11.51,\"Coal\"],[\"Samoa\",\"WSM\",\"No Data\",\"No Data\",1.239,0.0,0.14,\"Coal\"],[\"Sao Tome and Principe\",\"STP\",\"No Data\",\"No Data\",0.514,0.0,-10.71,\"Coal\"],[\"Saudi Arabia\",\"SAU\",24.25,60.0,17.967,1.8,0.5,\"Coal\"],[\"Senegal\",\"SEN\",\"No Data\",\"No Data\",0.624,0.03,-7.23,\"Oil\"],[\"Serbia\",\"SRB\",\"No Data\",\"No Data\",4.937,0.12,-12.57,\"Coal\"],[\"Seychelles\",\"SYC\",\"No Data\",\"No Data\",4.994,0.0,-15.49,\"Coal\"],[\"Sierra Leone\",\"SLE\",\"No Data\",\"No Data\",0.11,0.0,-8.69,\"Coal\"],[\"Singapore\",\"SGP\",\"No Data\",\"No Data\",7.778,0.13,-0.44,\"Oil\"],[\"Sint Maarten (Dutch part)\",\"SXM\",\"No Data\",\"No Data\",14.539,0.0,-11.51,\"Coal\"],[\"Slovakia\",\"SVK\",50.67,37.0,5.629,0.09,-9.01,\"Oil\"],[\"Slovenia\",\"SVN\",43.28,47.0,6.043,0.04,-10.3,\"Oil\"],[\"Solomon Islands\",\"SLB\",\"No Data\",\"No Data\",0.435,0.0,0.14,\"Coal\"],[\"Somalia\",\"SOM\",\"No Data\",\"No Data\",0.035,0.0,-15.49,\"Coal\"],[\"South Africa\",\"ZAF\",51.13,36.0,7.62,1.3,-5.04,\"Coal\"],[\"South Korea\",\"KOR\",26.74,57.0,11.656,1.72,-7.78,\"Coal\"],[\"South Sudan\",\"SSD\",\"No Data\",\"No Data\",0.105,0.0,-15.49,\"Coal\"],[\"Spain\",\"ESP\",54.35,31.0,4.468,0.6,-16.93,\"Oil\"],[\"Sri Lanka\",\"LKA\",\"No Data\",\"No Data\",0.986,0.06,-7.53,\"Oil\"],[\"Sudan\",\"SDN\",\"No Data\",\"No Data\",0.43,0.05,-14.4,\"Coal\"],[\"Suriname\",\"SUR\",\"No Data\",\"No Data\",3.791,0.01,-11.75,\"Coal\"],[\"Sweden\",\"SWE\",74.22,2.0,3.826,0.11,-5.62,\"Oil\"],[\"Switzerland\",\"CHE\",61.7,12.0,3.732,0.09,-12.09,\"Oil\"],[\"Syria\",\"SYR\",\"No Data\",\"No Data\",1.745,0.09,-1.54,\"Oil\"],[\"Taiwan\",\"TWN\",\"No Data\",\"No Data\",11.47,0.78,-0.78,\"Coal\"],[\"Tajikistan\",\"TJK\",\"No Data\",\"No Data\",0.991,0.03,9.42,\"Coal\"],[\"Tanzania\",\"TZA\",\"No Data\",\"No Data\",0.183,0.03,-9.17,\"Oil\"],[\"Thailand\",\"THA\",55.01,28.0,3.693,0.74,-5.1,\"Oil\"],[\"Timor\",\"TLS\",\"No Data\",\"No Data\",0.399,0.0,0.14,\"Coal\"],[\"Togo\",\"TGO\",\"No Data\",\"No Data\",0.265,0.01,-4.93,\"Coal\"],[\"Tonga\",\"TON\",\"No Data\",\"No Data\",1.36,0.0,0.14,\"Coal\"],[\"Trinidad and Tobago\",\"TTO\",\"No Data\",\"No Data\",25.373,0.1,-12.06,\"Coal\"],[\"Tunisia\",\"TUN\",\"No Data\",\"No Data\",2.38,0.08,-6.28,\"Coal\"],[\"Turkey\",\"TUR\",50.53,38.0,4.657,1.13,-1.64,\"Coal\"],[\"Turkmenistan\",\"TKM\",\"No Data\",\"No Data\",12.491,0.22,-1.29,\"Coal\"],[\"Turks and Caicos Islands\",\"TCA\",\"No Data\",\"No Data\",5.231,0.0,-11.51,\"Coal\"],[\"Tuvalu\",\"TUV\",\"No Data\",\"No Data\",0.642,0.0,0.15,\"Coal\"],[\"Uganda\",\"UGA\",\"No Data\",\"No Data\",0.107,0.01,-14.48,\"Coal\"],[\"Ukraine\",\"UKR\",60.4,17.0,4.891,0.61,-3.9,\"Coal\"],[\"United Arab Emirates\",\"ARE\",\"No Data\",\"No Data\",15.193,0.43,-2.54,\"Gas\"],[\"United Kingdom\",\"GBR\",73.09,4.0,4.855,0.95,-10.69,\"Gas\"],[\"United States\",\"USA\",37.39,52.0,14.238,13.54,-10.33,\"Oil\"],[\"Uruguay\",\"URY\",\"No Data\",\"No Data\",1.681,0.02,-11.3,\"Oil\"],[\"Uzbekistan\",\"UZB\",\"No Data\",\"No Data\",3.37,0.32,-1.24,\"Gas\"],[\"Vanuatu\",\"VUT\",\"No Data\",\"No Data\",0.591,0.0,0.14,\"Coal\"],[\"Venezuela\",\"VEN\",\"No Data\",\"No Data\",2.975,0.24,-14.69,\"Flaring\"],[\"Vietnam\",\"VNM\",49.21,40.0,2.613,0.73,-2.31,\"Coal\"],[\"Yemen\",\"YEM\",\"No Data\",\"No Data\",0.328,0.03,-2.52,\"Oil\"],[\"Zambia\",\"ZMB\",\"No Data\",\"No Data\",0.358,0.02,-6.73,\"Oil\"],[\"Zimbabwe\",\"ZWE\",\"No Data\",\"No Data\",0.709,0.03,-3.82,\"Coal\"]],\"hovertemplate\":\"%{customdata[0]} (%{customdata[1]})<br>CCPI Score: %{customdata[2]}<br>CCPI Rank: %{customdata[3]}<br>CO<sub>2</sub> Emissions per Capita: %{customdata[4]}<br>Global Share of CO<sub>2</sub> Emissions: %{customdata[5]}<br>Percent Growth of CO<sub>2</sub> Emissions: %{customdata[6]}<br>Primary CO<sub>2</sub> Emissions Source: %{customdata[7]}<br><extra></extra>\",\"locations\":[\"AFG\",\"ALB\",\"DZA\",\"AND\",\"AGO\",\"AIA\",\"ATA\",\"ATG\",\"ARG\",\"ARM\",\"ABW\",\"AUS\",\"AUT\",\"AZE\",\"BHS\",\"BHR\",\"BGD\",\"BRB\",\"BLR\",\"BEL\",\"BLZ\",\"BEN\",\"BMU\",\"BTN\",\"BOL\",\"BES\",\"BIH\",\"BWA\",\"BRA\",\"VGB\",\"BRN\",\"BGR\",\"BFA\",\"BDI\",\"KHM\",\"CMR\",\"CAN\",\"CPV\",\"CAF\",\"TCD\",\"CHL\",\"CHN\",\"CXR\",\"COL\",\"COM\",\"COG\",\"COK\",\"CRI\",\"CIV\",\"HRV\",\"CUB\",\"CUW\",\"CYP\",\"CZE\",\"COD\",\"DNK\",\"DJI\",\"DMA\",\"DOM\",\"ECU\",\"EGY\",\"SLV\",\"GNQ\",\"ERI\",\"EST\",\"SWZ\",\"ETH\",\"FRO\",\"FJI\",\"FIN\",\"FRA\",\"GUF\",\"PYF\",\"GAB\",\"GMB\",\"GEO\",\"DEU\",\"GHA\",\"GRC\",\"GRL\",\"GRD\",\"GLP\",\"GTM\",\"GIN\",\"GNB\",\"GUY\",\"HTI\",\"HND\",\"HKG\",\"HUN\",\"ISL\",\"IND\",\"IDN\",\"IRN\",\"IRQ\",\"IRL\",\"ISR\",\"ITA\",\"JAM\",\"JPN\",\"JOR\",\"KAZ\",\"KEN\",\"KIR\",\"OWID_KOS\",\"KWT\",\"KGZ\",\"LAO\",\"LVA\",\"LBN\",\"LSO\",\"LBR\",\"LBY\",\"LIE\",\"LTU\",\"LUX\",\"MDG\",\"MWI\",\"MYS\",\"MDV\",\"MLI\",\"MLT\",\"MHL\",\"MTQ\",\"MRT\",\"MUS\",\"MYT\",\"MEX\",\"MDA\",\"MNG\",\"MNE\",\"MSR\",\"MAR\",\"MOZ\",\"MMR\",\"NAM\",\"NRU\",\"NPL\",\"NLD\",\"NCL\",\"NZL\",\"NIC\",\"NER\",\"NGA\",\"NIU\",\"PRK\",\"MKD\",\"NOR\",\"OMN\",\"PAK\",\"PLW\",\"PSE\",\"PAN\",\"PNG\",\"PRY\",\"PER\",\"PHL\",\"POL\",\"PRT\",\"PRI\",\"QAT\",\"ROU\",\"RUS\",\"RWA\",\"SHN\",\"KNA\",\"LCA\",\"SPM\",\"VCT\",\"WSM\",\"STP\",\"SAU\",\"SEN\",\"SRB\",\"SYC\",\"SLE\",\"SGP\",\"SXM\",\"SVK\",\"SVN\",\"SLB\",\"SOM\",\"ZAF\",\"KOR\",\"SSD\",\"ESP\",\"LKA\",\"SDN\",\"SUR\",\"SWE\",\"CHE\",\"SYR\",\"TWN\",\"TJK\",\"TZA\",\"THA\",\"TLS\",\"TGO\",\"TON\",\"TTO\",\"TUN\",\"TUR\",\"TKM\",\"TCA\",\"TUV\",\"UGA\",\"UKR\",\"ARE\",\"GBR\",\"USA\",\"URY\",\"UZB\",\"VUT\",\"VEN\",\"VNM\",\"YEM\",\"ZMB\",\"ZWE\"],\"marker\":{\"line\":{\"width\":0.1}},\"reversescale\":true,\"visible\":false,\"z\":[0.03,0.01,0.45,0.0,0.06,0.0,\"No Data\",0.0,0.45,0.02,0.0,1.13,0.17,0.11,0.01,0.1,0.27,0.0,0.17,0.24,0.0,0.02,0.0,0.01,0.06,0.0,0.06,0.02,1.34,0.0,0.03,0.11,0.01,0.0,0.04,0.02,1.54,0.0,0.0,0.0,0.23,30.65,\"No Data\",0.26,0.0,0.01,0.0,0.02,0.03,0.05,0.06,0.01,0.02,0.25,0.01,0.08,0.0,0.0,0.08,0.09,0.61,0.02,0.03,0.0,0.03,0.0,0.04,0.0,0.0,0.11,0.79,0.0,0.0,0.01,0.0,0.03,1.85,0.05,0.15,0.0,0.0,0.01,0.05,0.01,0.0,0.01,0.01,0.03,0.09,0.14,0.01,7.02,1.69,2.14,0.61,0.1,0.16,0.87,0.02,2.96,0.07,0.84,0.05,0.0,0.02,0.26,0.03,0.1,0.02,0.07,0.01,0.0,0.15,0.0,0.04,0.02,0.01,0.0,0.78,0.01,0.01,0.0,0.0,0.01,0.01,0.01,0.0,1.03,0.01,0.25,0.01,0.0,0.19,0.02,0.1,0.01,0.0,0.05,0.4,0.02,0.1,0.01,0.0,0.36,0.0,0.08,0.02,0.12,0.18,0.67,0.0,0.01,0.03,0.02,0.02,0.13,0.39,0.86,0.12,\"No Data\",0.31,0.21,4.53,0.0,0.0,0.0,0.0,0.0,0.0,0.0,0.0,1.8,0.03,0.12,0.0,0.0,0.13,0.0,0.09,0.04,0.0,0.0,1.3,1.72,0.0,0.6,0.06,0.05,0.01,0.11,0.09,0.09,0.78,0.03,0.03,0.74,0.0,0.01,0.0,0.1,0.08,1.13,0.22,0.0,0.0,0.01,0.61,0.43,0.95,13.54,0.02,0.32,0.0,0.24,0.73,0.03,0.02,0.03],\"zmax\":5,\"zmin\":0,\"type\":\"choropleth\"},{\"colorbar\":{\"title\":{\"text\":\"Percent Growth<br>of Global CO<sub>2</sub><br>Emissions\"}},\"colorscale\":[[0.0,\"rgb(165,0,38)\"],[0.1,\"rgb(215,48,39)\"],[0.2,\"rgb(244,109,67)\"],[0.3,\"rgb(253,174,97)\"],[0.4,\"rgb(254,224,139)\"],[0.5,\"rgb(255,255,191)\"],[0.6,\"rgb(217,239,139)\"],[0.7,\"rgb(166,217,106)\"],[0.8,\"rgb(102,189,99)\"],[0.9,\"rgb(26,152,80)\"],[1.0,\"rgb(0,104,55)\"]],\"customdata\":[[\"Afghanistan\",\"AFG\",\"No Data\",\"No Data\",0.312,0.03,0.11,\"Coal\"],[\"Albania\",\"ALB\",\"No Data\",\"No Data\",1.576,0.01,-6.76,\"Oil\"],[\"Algeria\",\"DZA\",39.91,51.0,3.535,0.45,-6.99,\"Gas\"],[\"Andorra\",\"AND\",\"No Data\",\"No Data\",6.035,0.0,-7.08,\"Coal\"],[\"Angola\",\"AGO\",\"No Data\",\"No Data\",0.675,0.06,-5.49,\"Coal\"],[\"Anguilla\",\"AIA\",\"No Data\",\"No Data\",8.227,0.0,-11.51,\"Coal\"],[\"Antarctica\",\"ATA\",\"No Data\",\"No Data\",\"No Data\",\"No Data\",0.0,\"Coal\"],[\"Antigua and Barbuda\",\"ATG\",\"No Data\",\"No Data\",4.395,0.0,-11.51,\"Coal\"],[\"Argentina\",\"ARG\",47.08,44.0,3.473,0.45,-6.32,\"Gas\"],[\"Armenia\",\"ARM\",\"No Data\",\"No Data\",1.988,0.02,6.54,\"Gas\"],[\"Aruba\",\"ABW\",\"No Data\",\"No Data\",7.055,0.0,-11.51,\"Coal\"],[\"Australia\",\"AUS\",30.06,56.0,15.368,1.13,-5.46,\"Coal\"],[\"Austria\",\"AUT\",52.35,34.0,6.732,0.17,-10.78,\"Oil\"],[\"Azerbaijan\",\"AZE\",\"No Data\",\"No Data\",3.72,0.11,-2.59,\"Gas\"],[\"Bahamas\",\"BHS\",\"No Data\",\"No Data\",5.945,0.01,-11.38,\"Oil\"],[\"Bahrain\",\"BHR\",\"No Data\",\"No Data\",20.546,0.1,1.51,\"Coal\"],[\"Bangladesh\",\"BGD\",\"No Data\",\"No Data\",0.564,0.27,-1.46,\"Gas\"],[\"Barbados\",\"BRB\",\"No Data\",\"No Data\",3.782,0.0,-10.58,\"Coal\"],[\"Belarus\",\"BLR\",46.66,45.0,6.079,0.17,-5.86,\"Gas\"],[\"Belgium\",\"BEL\",45.9,46.0,7.226,0.24,-16.04,\"Gas\"],[\"Belize\",\"BLZ\",\"No Data\",\"No Data\",1.466,0.0,-11.48,\"Coal\"],[\"Benin\",\"BEN\",\"No Data\",\"No Data\",0.553,0.02,-8.37,\"Coal\"],[\"Bermuda\",\"BMU\",\"No Data\",\"No Data\",10.028,0.0,-10.54,\"Oil\"],[\"Bhutan\",\"BTN\",\"No Data\",\"No Data\",2.495,0.01,-0.11,\"Coal\"],[\"Bolivia\",\"BOL\",\"No Data\",\"No Data\",1.773,0.06,-13.2,\"Oil\"],[\"Bonaire Sint Eustatius and Saba\",\"BES\",\"No Data\",\"No Data\",11.466,0.0,-11.51,\"Coal\"],[\"Bosnia and Herzegovina\",\"BIH\",\"No Data\",\"No Data\",6.528,0.06,-13.8,\"Coal\"],[\"Botswana\",\"BWA\",\"No Data\",\"No Data\",2.772,0.02,-5.86,\"Coal\"],[\"Brazil\",\"BRA\",54.86,30.0,2.199,1.34,-3.79,\"Oil\"],[\"British Virgin Islands\",\"VGB\",\"No Data\",\"No Data\",4.605,0.0,-11.51,\"Coal\"],[\"Brunei\",\"BRN\",\"No Data\",\"No Data\",23.22,0.03,2.01,\"Coal\"],[\"Bulgaria\",\"BGR\",48.71,41.0,5.389,0.11,-11.32,\"Coal\"],[\"Burkina Faso\",\"BFA\",\"No Data\",\"No Data\",0.19,0.01,-8.45,\"Coal\"],[\"Burundi\",\"BDI\",\"No Data\",\"No Data\",0.051,0.0,-14.47,\"Oil\"],[\"Cambodia\",\"KHM\",\"No Data\",\"No Data\",0.917,0.04,-0.02,\"Oil\"],[\"Cameroon\",\"CMR\",\"No Data\",\"No Data\",0.26,0.02,-6.88,\"Coal\"],[\"Canada\",\"CAN\",26.03,58.0,14.197,1.54,-8.0,\"Oil\"],[\"Cape Verde\",\"CPV\",\"No Data\",\"No Data\",0.989,0.0,-8.69,\"Coal\"],[\"Central African Republic\",\"CAF\",\"No Data\",\"No Data\",0.039,0.0,-10.71,\"Coal\"],[\"Chad\",\"TCD\",\"No Data\",\"No Data\",0.056,0.0,-9.26,\"Coal\"],[\"Chile\",\"CHL\",\"No Data\",\"No Data\",4.246,0.23,-5.76,\"Oil\"],[\"China\",\"CHN\",52.2,35.0,7.412,30.65,1.7,\"Coal\"],[\"Christmas Island\",\"CXR\",\"No Data\",\"No Data\",\"No Data\",\"No Data\",0.0,\"Coal\"],[\"Colombia\",\"COL\",57.87,22.0,1.751,0.26,-1.45,\"Oil\"],[\"Comoros\",\"COM\",\"No Data\",\"No Data\",0.297,0.0,-15.49,\"Coal\"],[\"Congo\",\"COG\",\"No Data\",\"No Data\",0.565,0.01,-5.3,\"Coal\"],[\"Cook Islands\",\"COK\",\"No Data\",\"No Data\",4.522,0.0,0.14,\"Coal\"],[\"Costa Rica\",\"CRI\",\"No Data\",\"No Data\",1.552,0.02,-10.33,\"Coal\"],[\"Cote d'Ivoire\",\"CIV\",\"No Data\",\"No Data\",0.382,0.03,-3.9,\"Coal\"],[\"Croatia\",\"HRV\",55.96,26.0,4.137,0.05,-4.48,\"Oil\"],[\"Cuba\",\"CUB\",\"No Data\",\"No Data\",1.779,0.06,-10.53,\"Oil\"],[\"Curacao\",\"CUW\",\"No Data\",\"No Data\",20.323,0.01,-11.33,\"Coal\"],[\"Cyprus\",\"CYP\",50.52,39.0,5.38,0.02,-11.5,\"Oil\"],[\"Czechia\",\"CZE\",42.15,48.0,8.215,0.25,-12.73,\"Coal\"],[\"Democratic Republic of Congo\",\"COD\",\"No Data\",\"No Data\",0.028,0.01,-7.86,\"Coal\"],[\"Denmark\",\"DNK\",76.67,1.0,4.522,0.08,-15.22,\"Oil\"],[\"Djibouti\",\"DJI\",\"No Data\",\"No Data\",0.356,0.0,-12.66,\"Coal\"],[\"Dominica\",\"DMA\",\"No Data\",\"No Data\",1.934,0.0,-11.51,\"Coal\"],[\"Dominican Republic\",\"DOM\",\"No Data\",\"No Data\",2.56,0.08,0.91,\"Oil\"],[\"Ecuador\",\"ECU\",\"No Data\",\"No Data\",1.753,0.09,-15.85,\"Coal\"],[\"Egypt\",\"EGY\",59.74,18.0,2.086,0.61,-5.5,\"Gas\"],[\"El Salvador\",\"SLV\",\"No Data\",\"No Data\",0.944,0.02,-10.64,\"Oil\"],[\"Equatorial Guinea\",\"GNQ\",\"No Data\",\"No Data\",7.317,0.03,-0.04,\"Coal\"],[\"Eritrea\",\"ERI\",\"No Data\",\"No Data\",0.204,0.0,-13.48,\"Coal\"],[\"Estonia\",\"EST\",54.98,29.0,7.88,0.03,-15.57,\"Coal\"],[\"Eswatini\",\"SWZ\",\"No Data\",\"No Data\",0.824,0.0,-5.64,\"Oil\"],[\"Ethiopia\",\"ETH\",\"No Data\",\"No Data\",0.128,0.04,-10.42,\"Oil\"],[\"Faeroe Islands\",\"FRO\",\"No Data\",\"No Data\",13.996,0.0,-7.08,\"Coal\"],[\"Fiji\",\"FJI\",\"No Data\",\"No Data\",1.554,0.0,0.13,\"Coal\"],[\"Finland\",\"FIN\",62.41,11.0,7.091,0.11,-7.66,\"Oil\"],[\"France\",\"FRA\",61.01,14.0,4.238,0.79,-12.44,\"Oil\"],[\"French Guiana\",\"GUF\",\"No Data\",\"No Data\",2.439,0.0,0.0,\"Coal\"],[\"French Polynesia\",\"PYF\",\"No Data\",\"No Data\",2.949,0.0,0.14,\"Coal\"],[\"Gabon\",\"GAB\",\"No Data\",\"No Data\",1.931,0.01,-4.22,\"Coal\"],[\"Gambia\",\"GMB\",\"No Data\",\"No Data\",0.207,0.0,-8.6,\"Coal\"],[\"Georgia\",\"GEO\",\"No Data\",\"No Data\",2.499,0.03,-4.89,\"Gas\"],[\"Germany\",\"DEU\",63.53,10.0,7.69,1.85,-9.43,\"Oil\"],[\"Ghana\",\"GHA\",\"No Data\",\"No Data\",0.515,0.05,-5.42,\"Coal\"],[\"Greece\",\"GRC\",58.22,21.0,5.012,0.15,-20.54,\"Oil\"],[\"Greenland\",\"GRL\",\"No Data\",\"No Data\",9.061,0.0,-7.08,\"Coal\"],[\"Grenada\",\"GRD\",\"No Data\",\"No Data\",2.62,0.0,-11.27,\"Coal\"],[\"Guadeloupe\",\"GLP\",\"No Data\",\"No Data\",6.403,0.01,0.0,\"Oil\"],[\"Guatemala\",\"GTM\",\"No Data\",\"No Data\",1.057,0.05,-13.66,\"Oil\"],[\"Guinea\",\"GIN\",\"No Data\",\"No Data\",0.258,0.01,-8.69,\"Coal\"],[\"Guinea-Bissau\",\"GNB\",\"No Data\",\"No Data\",0.146,0.0,-8.69,\"Coal\"],[\"Guyana\",\"GUY\",\"No Data\",\"No Data\",2.813,0.01,-11.01,\"Coal\"],[\"Haiti\",\"HTI\",\"No Data\",\"No Data\",0.256,0.01,-11.23,\"Coal\"],[\"Honduras\",\"HND\",\"No Data\",\"No Data\",0.975,0.03,-10.47,\"Coal\"],[\"Hong Kong\",\"HKG\",\"No Data\",\"No Data\",4.167,0.09,-25.25,\"Coal\"],[\"Hungary\",\"HUN\",40.41,50.0,4.997,0.14,-1.64,\"Gas\"],[\"Iceland\",\"ISL\",\"No Data\",\"No Data\",8.604,0.01,-17.31,\"Oil\"],[\"India\",\"IND\",69.2,7.0,1.769,7.02,-7.01,\"Coal\"],[\"Indonesia\",\"IDN\",57.17,24.0,2.155,1.69,-10.76,\"Coal\"],[\"Iran\",\"IRN\",25.66,59.0,8.87,2.14,1.59,\"Gas\"],[\"Iraq\",\"IRQ\",\"No Data\",\"No Data\",5.242,0.61,-5.45,\"Coal\"],[\"Ireland\",\"IRL\",47.86,43.0,6.754,0.1,-10.53,\"Oil\"],[\"Israel\",\"ISR\",\"No Data\",\"No Data\",6.51,0.16,-9.68,\"Oil\"],[\"Italy\",\"ITA\",55.39,27.0,5.025,0.87,-10.58,\"Gas\"],[\"Jamaica\",\"JAM\",\"No Data\",\"No Data\",2.509,0.02,-7.65,\"Oil\"],[\"Japan\",\"JPN\",48.53,42.0,8.15,2.96,-6.8,\"Coal\"],[\"Jordan\",\"JOR\",\"No Data\",\"No Data\",2.498,0.07,-1.0,\"Oil\"],[\"Kazakhstan\",\"KAZ\",19.23,61.0,15.516,0.84,-1.53,\"Coal\"],[\"Kenya\",\"KEN\",\"No Data\",\"No Data\",0.3,0.05,-12.0,\"Oil\"],[\"Kiribati\",\"KIR\",\"No Data\",\"No Data\",0.57,0.0,0.14,\"Coal\"],[\"Kosovo\",\"OWID_KOS\",\"No Data\",\"No Data\",\"No Data\",0.02,-13.29,\"Coal\"],[\"Kuwait\",\"KWT\",\"No Data\",\"No Data\",20.825,0.26,-7.98,\"Coal\"],[\"Kyrgyzstan\",\"KGZ\",\"No Data\",\"No Data\",1.764,0.03,4.45,\"Oil\"],[\"Laos\",\"LAO\",\"No Data\",\"No Data\",4.652,0.1,-0.25,\"Coal\"],[\"Latvia\",\"LVA\",57.73,23.0,3.591,0.02,-11.45,\"Oil\"],[\"Lebanon\",\"LBN\",\"No Data\",\"No Data\",3.805,0.07,-2.58,\"Oil\"],[\"Lesotho\",\"LSO\",\"No Data\",\"No Data\",1.019,0.01,-5.93,\"Coal\"],[\"Liberia\",\"LBR\",\"No Data\",\"No Data\",0.2,0.0,-7.72,\"Coal\"],[\"Libya\",\"LBY\",\"No Data\",\"No Data\",7.382,0.15,-6.95,\"Coal\"],[\"Liechtenstein\",\"LIE\",\"No Data\",\"No Data\",3.698,0.0,-4.98,\"Coal\"],[\"Lithuania\",\"LTU\",64.89,8.0,5.069,0.04,-0.89,\"Oil\"],[\"Luxembourg\",\"LUX\",60.8,15.0,13.059,0.02,-16.18,\"Oil\"],[\"Madagascar\",\"MDG\",\"No Data\",\"No Data\",0.133,0.01,-9.14,\"Oil\"],[\"Malawi\",\"MWI\",\"No Data\",\"No Data\",0.073,0.0,-12.18,\"Oil\"],[\"Malaysia\",\"MYS\",33.74,54.0,8.423,0.78,-2.17,\"Coal\"],[\"Maldives\",\"MDV\",\"No Data\",\"No Data\",3.324,0.01,0.14,\"Coal\"],[\"Mali\",\"MLI\",\"No Data\",\"No Data\",0.167,0.01,-8.08,\"Coal\"],[\"Malta\",\"MLT\",64.18,9.0,3.612,0.0,-4.45,\"Oil\"],[\"Marshall Islands\",\"MHL\",\"No Data\",\"No Data\",2.556,0.0,0.14,\"Coal\"],[\"Martinique\",\"MTQ\",\"No Data\",\"No Data\",6.258,0.01,0.0,\"Coal\"],[\"Mauritania\",\"MRT\",\"No Data\",\"No Data\",0.726,0.01,-8.69,\"Coal\"],[\"Mauritius\",\"MUS\",\"No Data\",\"No Data\",3.129,0.01,-9.11,\"Oil\"],[\"Mayotte\",\"MYT\",\"No Data\",\"No Data\",1.12,0.0,0.0,\"Coal\"],[\"Mexico\",\"MEX\",56.05,25.0,2.769,1.03,-18.03,\"Oil\"],[\"Moldova\",\"MDA\",\"No Data\",\"No Data\",1.276,0.01,-0.18,\"Oil\"],[\"Mongolia\",\"MNG\",\"No Data\",\"No Data\",26.978,0.25,-0.28,\"Coal\"],[\"Montenegro\",\"MNE\",\"No Data\",\"No Data\",3.678,0.01,-12.67,\"Coal\"],[\"Montserrat\",\"MSR\",\"No Data\",\"No Data\",5.065,0.0,-11.51,\"Coal\"],[\"Morocco\",\"MAR\",71.6,5.0,1.748,0.19,-5.4,\"Oil\"],[\"Mozambique\",\"MOZ\",\"No Data\",\"No Data\",0.21,0.02,-9.83,\"Oil\"],[\"Myanmar\",\"MMR\",\"No Data\",\"No Data\",0.668,0.1,0.77,\"Oil\"],[\"Namibia\",\"NAM\",\"No Data\",\"No Data\",1.526,0.01,-5.02,\"Oil\"],[\"Nauru\",\"NRU\",\"No Data\",\"No Data\",5.236,0.0,0.14,\"Coal\"],[\"Nepal\",\"NPL\",\"No Data\",\"No Data\",0.582,0.05,-0.05,\"Oil\"],[\"Netherlands\",\"NLD\",60.44,16.0,8.06,0.4,-10.09,\"Gas\"],[\"New Caledonia\",\"NCL\",\"No Data\",\"No Data\",30.448,0.02,-0.16,\"Coal\"],[\"New Zealand\",\"NZL\",54.03,32.0,6.942,0.1,-10.72,\"Oil\"],[\"Nicaragua\",\"NIC\",\"No Data\",\"No Data\",0.766,0.01,-10.57,\"Coal\"],[\"Niger\",\"NER\",\"No Data\",\"No Data\",0.07,0.0,-8.79,\"Oil\"],[\"Nigeria\",\"NGA\",\"No Data\",\"No Data\",0.609,0.36,-3.57,\"Oil\"],[\"Niue\",\"NIU\",\"No Data\",\"No Data\",7.012,0.0,0.14,\"Coal\"],[\"North Korea\",\"PRK\",\"No Data\",\"No Data\",1.137,0.08,-0.23,\"Coal\"],[\"North Macedonia\",\"MKD\",\"No Data\",\"No Data\",3.43,0.02,-10.38,\"Coal\"],[\"Norway\",\"NOR\",73.29,3.0,7.615,0.12,-3.69,\"Oil\"],[\"Oman\",\"OMN\",\"No Data\",\"No Data\",12.173,0.18,2.31,\"Coal\"],[\"Pakistan\",\"PAK\",\"No Data\",\"No Data\",1.063,0.67,0.2,\"Oil\"],[\"Palau\",\"PLW\",\"No Data\",\"No Data\",12.125,0.0,0.14,\"Coal\"],[\"Palestine\",\"PSE\",\"No Data\",\"No Data\",0.568,0.01,-2.92,\"Coal\"],[\"Panama\",\"PAN\",\"No Data\",\"No Data\",2.498,0.03,-12.32,\"Oil\"],[\"Papua New Guinea\",\"PNG\",\"No Data\",\"No Data\",0.744,0.02,0.52,\"Coal\"],[\"Paraguay\",\"PRY\",\"No Data\",\"No Data\",1.061,0.02,-11.2,\"Oil\"],[\"Peru\",\"PER\",\"No Data\",\"No Data\",1.356,0.13,-18.68,\"Oil\"],[\"Philippines\",\"PHL\",58.98,20.0,1.241,0.39,-7.23,\"Coal\"],[\"Poland\",\"POL\",40.63,49.0,7.916,0.86,-6.24,\"Coal\"],[\"Portugal\",\"PRT\",61.11,13.0,3.961,0.12,-15.2,\"Oil\"],[\"Puerto Rico\",\"PRI\",\"No Data\",\"No Data\",\"No Data\",\"No Data\",0.0,\"Coal\"],[\"Qatar\",\"QAT\",\"No Data\",\"No Data\",37.019,0.31,-7.29,\"Coal\"],[\"Romania\",\"ROU\",52.43,33.0,3.715,0.21,-4.5,\"Oil\"],[\"Russia\",\"RUS\",34.73,53.0,10.807,4.53,-6.09,\"Gas\"],[\"Rwanda\",\"RWA\",\"No Data\",\"No Data\",0.08,0.0,-13.03,\"Oil\"],[\"Saint Helena\",\"SHN\",\"No Data\",\"No Data\",1.564,0.0,-11.51,\"Coal\"],[\"Saint Kitts and Nevis\",\"KNA\",\"No Data\",\"No Data\",3.986,0.0,-11.51,\"Coal\"],[\"Saint Lucia\",\"LCA\",\"No Data\",\"No Data\",2.396,0.0,-11.51,\"Coal\"],[\"Saint Pierre and Miquelon\",\"SPM\",\"No Data\",\"No Data\",8.738,0.0,-11.51,\"Coal\"],[\"Saint Vincent and the Grenadines\",\"VCT\",\"No Data\",\"No Data\",1.883,0.0,-11.51,\"Coal\"],[\"Samoa\",\"WSM\",\"No Data\",\"No Data\",1.239,0.0,0.14,\"Coal\"],[\"Sao Tome and Principe\",\"STP\",\"No Data\",\"No Data\",0.514,0.0,-10.71,\"Coal\"],[\"Saudi Arabia\",\"SAU\",24.25,60.0,17.967,1.8,0.5,\"Coal\"],[\"Senegal\",\"SEN\",\"No Data\",\"No Data\",0.624,0.03,-7.23,\"Oil\"],[\"Serbia\",\"SRB\",\"No Data\",\"No Data\",4.937,0.12,-12.57,\"Coal\"],[\"Seychelles\",\"SYC\",\"No Data\",\"No Data\",4.994,0.0,-15.49,\"Coal\"],[\"Sierra Leone\",\"SLE\",\"No Data\",\"No Data\",0.11,0.0,-8.69,\"Coal\"],[\"Singapore\",\"SGP\",\"No Data\",\"No Data\",7.778,0.13,-0.44,\"Oil\"],[\"Sint Maarten (Dutch part)\",\"SXM\",\"No Data\",\"No Data\",14.539,0.0,-11.51,\"Coal\"],[\"Slovakia\",\"SVK\",50.67,37.0,5.629,0.09,-9.01,\"Oil\"],[\"Slovenia\",\"SVN\",43.28,47.0,6.043,0.04,-10.3,\"Oil\"],[\"Solomon Islands\",\"SLB\",\"No Data\",\"No Data\",0.435,0.0,0.14,\"Coal\"],[\"Somalia\",\"SOM\",\"No Data\",\"No Data\",0.035,0.0,-15.49,\"Coal\"],[\"South Africa\",\"ZAF\",51.13,36.0,7.62,1.3,-5.04,\"Coal\"],[\"South Korea\",\"KOR\",26.74,57.0,11.656,1.72,-7.78,\"Coal\"],[\"South Sudan\",\"SSD\",\"No Data\",\"No Data\",0.105,0.0,-15.49,\"Coal\"],[\"Spain\",\"ESP\",54.35,31.0,4.468,0.6,-16.93,\"Oil\"],[\"Sri Lanka\",\"LKA\",\"No Data\",\"No Data\",0.986,0.06,-7.53,\"Oil\"],[\"Sudan\",\"SDN\",\"No Data\",\"No Data\",0.43,0.05,-14.4,\"Coal\"],[\"Suriname\",\"SUR\",\"No Data\",\"No Data\",3.791,0.01,-11.75,\"Coal\"],[\"Sweden\",\"SWE\",74.22,2.0,3.826,0.11,-5.62,\"Oil\"],[\"Switzerland\",\"CHE\",61.7,12.0,3.732,0.09,-12.09,\"Oil\"],[\"Syria\",\"SYR\",\"No Data\",\"No Data\",1.745,0.09,-1.54,\"Oil\"],[\"Taiwan\",\"TWN\",\"No Data\",\"No Data\",11.47,0.78,-0.78,\"Coal\"],[\"Tajikistan\",\"TJK\",\"No Data\",\"No Data\",0.991,0.03,9.42,\"Coal\"],[\"Tanzania\",\"TZA\",\"No Data\",\"No Data\",0.183,0.03,-9.17,\"Oil\"],[\"Thailand\",\"THA\",55.01,28.0,3.693,0.74,-5.1,\"Oil\"],[\"Timor\",\"TLS\",\"No Data\",\"No Data\",0.399,0.0,0.14,\"Coal\"],[\"Togo\",\"TGO\",\"No Data\",\"No Data\",0.265,0.01,-4.93,\"Coal\"],[\"Tonga\",\"TON\",\"No Data\",\"No Data\",1.36,0.0,0.14,\"Coal\"],[\"Trinidad and Tobago\",\"TTO\",\"No Data\",\"No Data\",25.373,0.1,-12.06,\"Coal\"],[\"Tunisia\",\"TUN\",\"No Data\",\"No Data\",2.38,0.08,-6.28,\"Coal\"],[\"Turkey\",\"TUR\",50.53,38.0,4.657,1.13,-1.64,\"Coal\"],[\"Turkmenistan\",\"TKM\",\"No Data\",\"No Data\",12.491,0.22,-1.29,\"Coal\"],[\"Turks and Caicos Islands\",\"TCA\",\"No Data\",\"No Data\",5.231,0.0,-11.51,\"Coal\"],[\"Tuvalu\",\"TUV\",\"No Data\",\"No Data\",0.642,0.0,0.15,\"Coal\"],[\"Uganda\",\"UGA\",\"No Data\",\"No Data\",0.107,0.01,-14.48,\"Coal\"],[\"Ukraine\",\"UKR\",60.4,17.0,4.891,0.61,-3.9,\"Coal\"],[\"United Arab Emirates\",\"ARE\",\"No Data\",\"No Data\",15.193,0.43,-2.54,\"Gas\"],[\"United Kingdom\",\"GBR\",73.09,4.0,4.855,0.95,-10.69,\"Gas\"],[\"United States\",\"USA\",37.39,52.0,14.238,13.54,-10.33,\"Oil\"],[\"Uruguay\",\"URY\",\"No Data\",\"No Data\",1.681,0.02,-11.3,\"Oil\"],[\"Uzbekistan\",\"UZB\",\"No Data\",\"No Data\",3.37,0.32,-1.24,\"Gas\"],[\"Vanuatu\",\"VUT\",\"No Data\",\"No Data\",0.591,0.0,0.14,\"Coal\"],[\"Venezuela\",\"VEN\",\"No Data\",\"No Data\",2.975,0.24,-14.69,\"Flaring\"],[\"Vietnam\",\"VNM\",49.21,40.0,2.613,0.73,-2.31,\"Coal\"],[\"Yemen\",\"YEM\",\"No Data\",\"No Data\",0.328,0.03,-2.52,\"Oil\"],[\"Zambia\",\"ZMB\",\"No Data\",\"No Data\",0.358,0.02,-6.73,\"Oil\"],[\"Zimbabwe\",\"ZWE\",\"No Data\",\"No Data\",0.709,0.03,-3.82,\"Coal\"]],\"hovertemplate\":\"%{customdata[0]} (%{customdata[1]})<br>CCPI Score: %{customdata[2]}<br>CCPI Rank: %{customdata[3]}<br>CO<sub>2</sub> Emissions per Capita: %{customdata[4]}<br>Global Share of CO<sub>2</sub> Emissions: %{customdata[5]}<br>Percent Growth of CO<sub>2</sub> Emissions: %{customdata[6]}<br>Primary CO<sub>2</sub> Emissions Source: %{customdata[7]}<br><extra></extra>\",\"locations\":[\"AFG\",\"ALB\",\"DZA\",\"AND\",\"AGO\",\"AIA\",\"ATA\",\"ATG\",\"ARG\",\"ARM\",\"ABW\",\"AUS\",\"AUT\",\"AZE\",\"BHS\",\"BHR\",\"BGD\",\"BRB\",\"BLR\",\"BEL\",\"BLZ\",\"BEN\",\"BMU\",\"BTN\",\"BOL\",\"BES\",\"BIH\",\"BWA\",\"BRA\",\"VGB\",\"BRN\",\"BGR\",\"BFA\",\"BDI\",\"KHM\",\"CMR\",\"CAN\",\"CPV\",\"CAF\",\"TCD\",\"CHL\",\"CHN\",\"CXR\",\"COL\",\"COM\",\"COG\",\"COK\",\"CRI\",\"CIV\",\"HRV\",\"CUB\",\"CUW\",\"CYP\",\"CZE\",\"COD\",\"DNK\",\"DJI\",\"DMA\",\"DOM\",\"ECU\",\"EGY\",\"SLV\",\"GNQ\",\"ERI\",\"EST\",\"SWZ\",\"ETH\",\"FRO\",\"FJI\",\"FIN\",\"FRA\",\"GUF\",\"PYF\",\"GAB\",\"GMB\",\"GEO\",\"DEU\",\"GHA\",\"GRC\",\"GRL\",\"GRD\",\"GLP\",\"GTM\",\"GIN\",\"GNB\",\"GUY\",\"HTI\",\"HND\",\"HKG\",\"HUN\",\"ISL\",\"IND\",\"IDN\",\"IRN\",\"IRQ\",\"IRL\",\"ISR\",\"ITA\",\"JAM\",\"JPN\",\"JOR\",\"KAZ\",\"KEN\",\"KIR\",\"OWID_KOS\",\"KWT\",\"KGZ\",\"LAO\",\"LVA\",\"LBN\",\"LSO\",\"LBR\",\"LBY\",\"LIE\",\"LTU\",\"LUX\",\"MDG\",\"MWI\",\"MYS\",\"MDV\",\"MLI\",\"MLT\",\"MHL\",\"MTQ\",\"MRT\",\"MUS\",\"MYT\",\"MEX\",\"MDA\",\"MNG\",\"MNE\",\"MSR\",\"MAR\",\"MOZ\",\"MMR\",\"NAM\",\"NRU\",\"NPL\",\"NLD\",\"NCL\",\"NZL\",\"NIC\",\"NER\",\"NGA\",\"NIU\",\"PRK\",\"MKD\",\"NOR\",\"OMN\",\"PAK\",\"PLW\",\"PSE\",\"PAN\",\"PNG\",\"PRY\",\"PER\",\"PHL\",\"POL\",\"PRT\",\"PRI\",\"QAT\",\"ROU\",\"RUS\",\"RWA\",\"SHN\",\"KNA\",\"LCA\",\"SPM\",\"VCT\",\"WSM\",\"STP\",\"SAU\",\"SEN\",\"SRB\",\"SYC\",\"SLE\",\"SGP\",\"SXM\",\"SVK\",\"SVN\",\"SLB\",\"SOM\",\"ZAF\",\"KOR\",\"SSD\",\"ESP\",\"LKA\",\"SDN\",\"SUR\",\"SWE\",\"CHE\",\"SYR\",\"TWN\",\"TJK\",\"TZA\",\"THA\",\"TLS\",\"TGO\",\"TON\",\"TTO\",\"TUN\",\"TUR\",\"TKM\",\"TCA\",\"TUV\",\"UGA\",\"UKR\",\"ARE\",\"GBR\",\"USA\",\"URY\",\"UZB\",\"VUT\",\"VEN\",\"VNM\",\"YEM\",\"ZMB\",\"ZWE\"],\"marker\":{\"line\":{\"width\":0.1}},\"reversescale\":true,\"visible\":false,\"z\":[0.11,-6.76,-6.99,-7.08,-5.49,-11.51,0.0,-11.51,-6.32,6.54,-11.51,-5.46,-10.78,-2.59,-11.38,1.51,-1.46,-10.58,-5.86,-16.04,-11.48,-8.37,-10.54,-0.11,-13.2,-11.51,-13.8,-5.86,-3.79,-11.51,2.01,-11.32,-8.45,-14.47,-0.02,-6.88,-8.0,-8.69,-10.71,-9.26,-5.76,1.7,0.0,-1.45,-15.49,-5.3,0.14,-10.33,-3.9,-4.48,-10.53,-11.33,-11.5,-12.73,-7.86,-15.22,-12.66,-11.51,0.91,-15.85,-5.5,-10.64,-0.04,-13.48,-15.57,-5.64,-10.42,-7.08,0.13,-7.66,-12.44,0.0,0.14,-4.22,-8.6,-4.89,-9.43,-5.42,-20.54,-7.08,-11.27,0.0,-13.66,-8.69,-8.69,-11.01,-11.23,-10.47,-25.25,-1.64,-17.31,-7.01,-10.76,1.59,-5.45,-10.53,-9.68,-10.58,-7.65,-6.8,-1.0,-1.53,-12.0,0.14,-13.29,-7.98,4.45,-0.25,-11.45,-2.58,-5.93,-7.72,-6.95,-4.98,-0.89,-16.18,-9.14,-12.18,-2.17,0.14,-8.08,-4.45,0.14,0.0,-8.69,-9.11,0.0,-18.03,-0.18,-0.28,-12.67,-11.51,-5.4,-9.83,0.77,-5.02,0.14,-0.05,-10.09,-0.16,-10.72,-10.57,-8.79,-3.57,0.14,-0.23,-10.38,-3.69,2.31,0.2,0.14,-2.92,-12.32,0.52,-11.2,-18.68,-7.23,-6.24,-15.2,0.0,-7.29,-4.5,-6.09,-13.03,-11.51,-11.51,-11.51,-11.51,-11.51,0.14,-10.71,0.5,-7.23,-12.57,-15.49,-8.69,-0.44,-11.51,-9.01,-10.3,0.14,-15.49,-5.04,-7.78,-15.49,-16.93,-7.53,-14.4,-11.75,-5.62,-12.09,-1.54,-0.78,9.42,-9.17,-5.1,0.14,-4.93,0.14,-12.06,-6.28,-1.64,-1.29,-11.51,0.15,-14.48,-3.9,-2.54,-10.69,-10.33,-11.3,-1.24,0.14,-14.69,-2.31,-2.52,-6.73,-3.82],\"zmax\":10,\"zmid\":0,\"zmin\":-10,\"type\":\"choropleth\"},{\"colorbar\":{\"ticktext\":[\"Coal\",\"Gas\",\"Flaring\",\"Oil\"],\"tickvals\":[0,1,2,3],\"title\":{\"text\":\"Primary CO<sub>2</sub><br>Emissions<br>Source\"}},\"colorscale\":[[0.0,\"rgb(165,0,38)\"],[0.1,\"rgb(215,48,39)\"],[0.2,\"rgb(244,109,67)\"],[0.3,\"rgb(253,174,97)\"],[0.4,\"rgb(254,224,139)\"],[0.5,\"rgb(255,255,191)\"],[0.6,\"rgb(217,239,139)\"],[0.7,\"rgb(166,217,106)\"],[0.8,\"rgb(102,189,99)\"],[0.9,\"rgb(26,152,80)\"],[1.0,\"rgb(0,104,55)\"]],\"customdata\":[[\"Afghanistan\",\"AFG\",\"No Data\",\"No Data\",0.312,0.03,0.11,\"Coal\"],[\"Albania\",\"ALB\",\"No Data\",\"No Data\",1.576,0.01,-6.76,\"Oil\"],[\"Algeria\",\"DZA\",39.91,51.0,3.535,0.45,-6.99,\"Gas\"],[\"Andorra\",\"AND\",\"No Data\",\"No Data\",6.035,0.0,-7.08,\"Coal\"],[\"Angola\",\"AGO\",\"No Data\",\"No Data\",0.675,0.06,-5.49,\"Coal\"],[\"Anguilla\",\"AIA\",\"No Data\",\"No Data\",8.227,0.0,-11.51,\"Coal\"],[\"Antarctica\",\"ATA\",\"No Data\",\"No Data\",\"No Data\",\"No Data\",0.0,\"Coal\"],[\"Antigua and Barbuda\",\"ATG\",\"No Data\",\"No Data\",4.395,0.0,-11.51,\"Coal\"],[\"Argentina\",\"ARG\",47.08,44.0,3.473,0.45,-6.32,\"Gas\"],[\"Armenia\",\"ARM\",\"No Data\",\"No Data\",1.988,0.02,6.54,\"Gas\"],[\"Aruba\",\"ABW\",\"No Data\",\"No Data\",7.055,0.0,-11.51,\"Coal\"],[\"Australia\",\"AUS\",30.06,56.0,15.368,1.13,-5.46,\"Coal\"],[\"Austria\",\"AUT\",52.35,34.0,6.732,0.17,-10.78,\"Oil\"],[\"Azerbaijan\",\"AZE\",\"No Data\",\"No Data\",3.72,0.11,-2.59,\"Gas\"],[\"Bahamas\",\"BHS\",\"No Data\",\"No Data\",5.945,0.01,-11.38,\"Oil\"],[\"Bahrain\",\"BHR\",\"No Data\",\"No Data\",20.546,0.1,1.51,\"Coal\"],[\"Bangladesh\",\"BGD\",\"No Data\",\"No Data\",0.564,0.27,-1.46,\"Gas\"],[\"Barbados\",\"BRB\",\"No Data\",\"No Data\",3.782,0.0,-10.58,\"Coal\"],[\"Belarus\",\"BLR\",46.66,45.0,6.079,0.17,-5.86,\"Gas\"],[\"Belgium\",\"BEL\",45.9,46.0,7.226,0.24,-16.04,\"Gas\"],[\"Belize\",\"BLZ\",\"No Data\",\"No Data\",1.466,0.0,-11.48,\"Coal\"],[\"Benin\",\"BEN\",\"No Data\",\"No Data\",0.553,0.02,-8.37,\"Coal\"],[\"Bermuda\",\"BMU\",\"No Data\",\"No Data\",10.028,0.0,-10.54,\"Oil\"],[\"Bhutan\",\"BTN\",\"No Data\",\"No Data\",2.495,0.01,-0.11,\"Coal\"],[\"Bolivia\",\"BOL\",\"No Data\",\"No Data\",1.773,0.06,-13.2,\"Oil\"],[\"Bonaire Sint Eustatius and Saba\",\"BES\",\"No Data\",\"No Data\",11.466,0.0,-11.51,\"Coal\"],[\"Bosnia and Herzegovina\",\"BIH\",\"No Data\",\"No Data\",6.528,0.06,-13.8,\"Coal\"],[\"Botswana\",\"BWA\",\"No Data\",\"No Data\",2.772,0.02,-5.86,\"Coal\"],[\"Brazil\",\"BRA\",54.86,30.0,2.199,1.34,-3.79,\"Oil\"],[\"British Virgin Islands\",\"VGB\",\"No Data\",\"No Data\",4.605,0.0,-11.51,\"Coal\"],[\"Brunei\",\"BRN\",\"No Data\",\"No Data\",23.22,0.03,2.01,\"Coal\"],[\"Bulgaria\",\"BGR\",48.71,41.0,5.389,0.11,-11.32,\"Coal\"],[\"Burkina Faso\",\"BFA\",\"No Data\",\"No Data\",0.19,0.01,-8.45,\"Coal\"],[\"Burundi\",\"BDI\",\"No Data\",\"No Data\",0.051,0.0,-14.47,\"Oil\"],[\"Cambodia\",\"KHM\",\"No Data\",\"No Data\",0.917,0.04,-0.02,\"Oil\"],[\"Cameroon\",\"CMR\",\"No Data\",\"No Data\",0.26,0.02,-6.88,\"Coal\"],[\"Canada\",\"CAN\",26.03,58.0,14.197,1.54,-8.0,\"Oil\"],[\"Cape Verde\",\"CPV\",\"No Data\",\"No Data\",0.989,0.0,-8.69,\"Coal\"],[\"Central African Republic\",\"CAF\",\"No Data\",\"No Data\",0.039,0.0,-10.71,\"Coal\"],[\"Chad\",\"TCD\",\"No Data\",\"No Data\",0.056,0.0,-9.26,\"Coal\"],[\"Chile\",\"CHL\",\"No Data\",\"No Data\",4.246,0.23,-5.76,\"Oil\"],[\"China\",\"CHN\",52.2,35.0,7.412,30.65,1.7,\"Coal\"],[\"Christmas Island\",\"CXR\",\"No Data\",\"No Data\",\"No Data\",\"No Data\",0.0,\"Coal\"],[\"Colombia\",\"COL\",57.87,22.0,1.751,0.26,-1.45,\"Oil\"],[\"Comoros\",\"COM\",\"No Data\",\"No Data\",0.297,0.0,-15.49,\"Coal\"],[\"Congo\",\"COG\",\"No Data\",\"No Data\",0.565,0.01,-5.3,\"Coal\"],[\"Cook Islands\",\"COK\",\"No Data\",\"No Data\",4.522,0.0,0.14,\"Coal\"],[\"Costa Rica\",\"CRI\",\"No Data\",\"No Data\",1.552,0.02,-10.33,\"Coal\"],[\"Cote d'Ivoire\",\"CIV\",\"No Data\",\"No Data\",0.382,0.03,-3.9,\"Coal\"],[\"Croatia\",\"HRV\",55.96,26.0,4.137,0.05,-4.48,\"Oil\"],[\"Cuba\",\"CUB\",\"No Data\",\"No Data\",1.779,0.06,-10.53,\"Oil\"],[\"Curacao\",\"CUW\",\"No Data\",\"No Data\",20.323,0.01,-11.33,\"Coal\"],[\"Cyprus\",\"CYP\",50.52,39.0,5.38,0.02,-11.5,\"Oil\"],[\"Czechia\",\"CZE\",42.15,48.0,8.215,0.25,-12.73,\"Coal\"],[\"Democratic Republic of Congo\",\"COD\",\"No Data\",\"No Data\",0.028,0.01,-7.86,\"Coal\"],[\"Denmark\",\"DNK\",76.67,1.0,4.522,0.08,-15.22,\"Oil\"],[\"Djibouti\",\"DJI\",\"No Data\",\"No Data\",0.356,0.0,-12.66,\"Coal\"],[\"Dominica\",\"DMA\",\"No Data\",\"No Data\",1.934,0.0,-11.51,\"Coal\"],[\"Dominican Republic\",\"DOM\",\"No Data\",\"No Data\",2.56,0.08,0.91,\"Oil\"],[\"Ecuador\",\"ECU\",\"No Data\",\"No Data\",1.753,0.09,-15.85,\"Coal\"],[\"Egypt\",\"EGY\",59.74,18.0,2.086,0.61,-5.5,\"Gas\"],[\"El Salvador\",\"SLV\",\"No Data\",\"No Data\",0.944,0.02,-10.64,\"Oil\"],[\"Equatorial Guinea\",\"GNQ\",\"No Data\",\"No Data\",7.317,0.03,-0.04,\"Coal\"],[\"Eritrea\",\"ERI\",\"No Data\",\"No Data\",0.204,0.0,-13.48,\"Coal\"],[\"Estonia\",\"EST\",54.98,29.0,7.88,0.03,-15.57,\"Coal\"],[\"Eswatini\",\"SWZ\",\"No Data\",\"No Data\",0.824,0.0,-5.64,\"Oil\"],[\"Ethiopia\",\"ETH\",\"No Data\",\"No Data\",0.128,0.04,-10.42,\"Oil\"],[\"Faeroe Islands\",\"FRO\",\"No Data\",\"No Data\",13.996,0.0,-7.08,\"Coal\"],[\"Fiji\",\"FJI\",\"No Data\",\"No Data\",1.554,0.0,0.13,\"Coal\"],[\"Finland\",\"FIN\",62.41,11.0,7.091,0.11,-7.66,\"Oil\"],[\"France\",\"FRA\",61.01,14.0,4.238,0.79,-12.44,\"Oil\"],[\"French Guiana\",\"GUF\",\"No Data\",\"No Data\",2.439,0.0,0.0,\"Coal\"],[\"French Polynesia\",\"PYF\",\"No Data\",\"No Data\",2.949,0.0,0.14,\"Coal\"],[\"Gabon\",\"GAB\",\"No Data\",\"No Data\",1.931,0.01,-4.22,\"Coal\"],[\"Gambia\",\"GMB\",\"No Data\",\"No Data\",0.207,0.0,-8.6,\"Coal\"],[\"Georgia\",\"GEO\",\"No Data\",\"No Data\",2.499,0.03,-4.89,\"Gas\"],[\"Germany\",\"DEU\",63.53,10.0,7.69,1.85,-9.43,\"Oil\"],[\"Ghana\",\"GHA\",\"No Data\",\"No Data\",0.515,0.05,-5.42,\"Coal\"],[\"Greece\",\"GRC\",58.22,21.0,5.012,0.15,-20.54,\"Oil\"],[\"Greenland\",\"GRL\",\"No Data\",\"No Data\",9.061,0.0,-7.08,\"Coal\"],[\"Grenada\",\"GRD\",\"No Data\",\"No Data\",2.62,0.0,-11.27,\"Coal\"],[\"Guadeloupe\",\"GLP\",\"No Data\",\"No Data\",6.403,0.01,0.0,\"Oil\"],[\"Guatemala\",\"GTM\",\"No Data\",\"No Data\",1.057,0.05,-13.66,\"Oil\"],[\"Guinea\",\"GIN\",\"No Data\",\"No Data\",0.258,0.01,-8.69,\"Coal\"],[\"Guinea-Bissau\",\"GNB\",\"No Data\",\"No Data\",0.146,0.0,-8.69,\"Coal\"],[\"Guyana\",\"GUY\",\"No Data\",\"No Data\",2.813,0.01,-11.01,\"Coal\"],[\"Haiti\",\"HTI\",\"No Data\",\"No Data\",0.256,0.01,-11.23,\"Coal\"],[\"Honduras\",\"HND\",\"No Data\",\"No Data\",0.975,0.03,-10.47,\"Coal\"],[\"Hong Kong\",\"HKG\",\"No Data\",\"No Data\",4.167,0.09,-25.25,\"Coal\"],[\"Hungary\",\"HUN\",40.41,50.0,4.997,0.14,-1.64,\"Gas\"],[\"Iceland\",\"ISL\",\"No Data\",\"No Data\",8.604,0.01,-17.31,\"Oil\"],[\"India\",\"IND\",69.2,7.0,1.769,7.02,-7.01,\"Coal\"],[\"Indonesia\",\"IDN\",57.17,24.0,2.155,1.69,-10.76,\"Coal\"],[\"Iran\",\"IRN\",25.66,59.0,8.87,2.14,1.59,\"Gas\"],[\"Iraq\",\"IRQ\",\"No Data\",\"No Data\",5.242,0.61,-5.45,\"Coal\"],[\"Ireland\",\"IRL\",47.86,43.0,6.754,0.1,-10.53,\"Oil\"],[\"Israel\",\"ISR\",\"No Data\",\"No Data\",6.51,0.16,-9.68,\"Oil\"],[\"Italy\",\"ITA\",55.39,27.0,5.025,0.87,-10.58,\"Gas\"],[\"Jamaica\",\"JAM\",\"No Data\",\"No Data\",2.509,0.02,-7.65,\"Oil\"],[\"Japan\",\"JPN\",48.53,42.0,8.15,2.96,-6.8,\"Coal\"],[\"Jordan\",\"JOR\",\"No Data\",\"No Data\",2.498,0.07,-1.0,\"Oil\"],[\"Kazakhstan\",\"KAZ\",19.23,61.0,15.516,0.84,-1.53,\"Coal\"],[\"Kenya\",\"KEN\",\"No Data\",\"No Data\",0.3,0.05,-12.0,\"Oil\"],[\"Kiribati\",\"KIR\",\"No Data\",\"No Data\",0.57,0.0,0.14,\"Coal\"],[\"Kosovo\",\"OWID_KOS\",\"No Data\",\"No Data\",\"No Data\",0.02,-13.29,\"Coal\"],[\"Kuwait\",\"KWT\",\"No Data\",\"No Data\",20.825,0.26,-7.98,\"Coal\"],[\"Kyrgyzstan\",\"KGZ\",\"No Data\",\"No Data\",1.764,0.03,4.45,\"Oil\"],[\"Laos\",\"LAO\",\"No Data\",\"No Data\",4.652,0.1,-0.25,\"Coal\"],[\"Latvia\",\"LVA\",57.73,23.0,3.591,0.02,-11.45,\"Oil\"],[\"Lebanon\",\"LBN\",\"No Data\",\"No Data\",3.805,0.07,-2.58,\"Oil\"],[\"Lesotho\",\"LSO\",\"No Data\",\"No Data\",1.019,0.01,-5.93,\"Coal\"],[\"Liberia\",\"LBR\",\"No Data\",\"No Data\",0.2,0.0,-7.72,\"Coal\"],[\"Libya\",\"LBY\",\"No Data\",\"No Data\",7.382,0.15,-6.95,\"Coal\"],[\"Liechtenstein\",\"LIE\",\"No Data\",\"No Data\",3.698,0.0,-4.98,\"Coal\"],[\"Lithuania\",\"LTU\",64.89,8.0,5.069,0.04,-0.89,\"Oil\"],[\"Luxembourg\",\"LUX\",60.8,15.0,13.059,0.02,-16.18,\"Oil\"],[\"Madagascar\",\"MDG\",\"No Data\",\"No Data\",0.133,0.01,-9.14,\"Oil\"],[\"Malawi\",\"MWI\",\"No Data\",\"No Data\",0.073,0.0,-12.18,\"Oil\"],[\"Malaysia\",\"MYS\",33.74,54.0,8.423,0.78,-2.17,\"Coal\"],[\"Maldives\",\"MDV\",\"No Data\",\"No Data\",3.324,0.01,0.14,\"Coal\"],[\"Mali\",\"MLI\",\"No Data\",\"No Data\",0.167,0.01,-8.08,\"Coal\"],[\"Malta\",\"MLT\",64.18,9.0,3.612,0.0,-4.45,\"Oil\"],[\"Marshall Islands\",\"MHL\",\"No Data\",\"No Data\",2.556,0.0,0.14,\"Coal\"],[\"Martinique\",\"MTQ\",\"No Data\",\"No Data\",6.258,0.01,0.0,\"Coal\"],[\"Mauritania\",\"MRT\",\"No Data\",\"No Data\",0.726,0.01,-8.69,\"Coal\"],[\"Mauritius\",\"MUS\",\"No Data\",\"No Data\",3.129,0.01,-9.11,\"Oil\"],[\"Mayotte\",\"MYT\",\"No Data\",\"No Data\",1.12,0.0,0.0,\"Coal\"],[\"Mexico\",\"MEX\",56.05,25.0,2.769,1.03,-18.03,\"Oil\"],[\"Moldova\",\"MDA\",\"No Data\",\"No Data\",1.276,0.01,-0.18,\"Oil\"],[\"Mongolia\",\"MNG\",\"No Data\",\"No Data\",26.978,0.25,-0.28,\"Coal\"],[\"Montenegro\",\"MNE\",\"No Data\",\"No Data\",3.678,0.01,-12.67,\"Coal\"],[\"Montserrat\",\"MSR\",\"No Data\",\"No Data\",5.065,0.0,-11.51,\"Coal\"],[\"Morocco\",\"MAR\",71.6,5.0,1.748,0.19,-5.4,\"Oil\"],[\"Mozambique\",\"MOZ\",\"No Data\",\"No Data\",0.21,0.02,-9.83,\"Oil\"],[\"Myanmar\",\"MMR\",\"No Data\",\"No Data\",0.668,0.1,0.77,\"Oil\"],[\"Namibia\",\"NAM\",\"No Data\",\"No Data\",1.526,0.01,-5.02,\"Oil\"],[\"Nauru\",\"NRU\",\"No Data\",\"No Data\",5.236,0.0,0.14,\"Coal\"],[\"Nepal\",\"NPL\",\"No Data\",\"No Data\",0.582,0.05,-0.05,\"Oil\"],[\"Netherlands\",\"NLD\",60.44,16.0,8.06,0.4,-10.09,\"Gas\"],[\"New Caledonia\",\"NCL\",\"No Data\",\"No Data\",30.448,0.02,-0.16,\"Coal\"],[\"New Zealand\",\"NZL\",54.03,32.0,6.942,0.1,-10.72,\"Oil\"],[\"Nicaragua\",\"NIC\",\"No Data\",\"No Data\",0.766,0.01,-10.57,\"Coal\"],[\"Niger\",\"NER\",\"No Data\",\"No Data\",0.07,0.0,-8.79,\"Oil\"],[\"Nigeria\",\"NGA\",\"No Data\",\"No Data\",0.609,0.36,-3.57,\"Oil\"],[\"Niue\",\"NIU\",\"No Data\",\"No Data\",7.012,0.0,0.14,\"Coal\"],[\"North Korea\",\"PRK\",\"No Data\",\"No Data\",1.137,0.08,-0.23,\"Coal\"],[\"North Macedonia\",\"MKD\",\"No Data\",\"No Data\",3.43,0.02,-10.38,\"Coal\"],[\"Norway\",\"NOR\",73.29,3.0,7.615,0.12,-3.69,\"Oil\"],[\"Oman\",\"OMN\",\"No Data\",\"No Data\",12.173,0.18,2.31,\"Coal\"],[\"Pakistan\",\"PAK\",\"No Data\",\"No Data\",1.063,0.67,0.2,\"Oil\"],[\"Palau\",\"PLW\",\"No Data\",\"No Data\",12.125,0.0,0.14,\"Coal\"],[\"Palestine\",\"PSE\",\"No Data\",\"No Data\",0.568,0.01,-2.92,\"Coal\"],[\"Panama\",\"PAN\",\"No Data\",\"No Data\",2.498,0.03,-12.32,\"Oil\"],[\"Papua New Guinea\",\"PNG\",\"No Data\",\"No Data\",0.744,0.02,0.52,\"Coal\"],[\"Paraguay\",\"PRY\",\"No Data\",\"No Data\",1.061,0.02,-11.2,\"Oil\"],[\"Peru\",\"PER\",\"No Data\",\"No Data\",1.356,0.13,-18.68,\"Oil\"],[\"Philippines\",\"PHL\",58.98,20.0,1.241,0.39,-7.23,\"Coal\"],[\"Poland\",\"POL\",40.63,49.0,7.916,0.86,-6.24,\"Coal\"],[\"Portugal\",\"PRT\",61.11,13.0,3.961,0.12,-15.2,\"Oil\"],[\"Puerto Rico\",\"PRI\",\"No Data\",\"No Data\",\"No Data\",\"No Data\",0.0,\"Coal\"],[\"Qatar\",\"QAT\",\"No Data\",\"No Data\",37.019,0.31,-7.29,\"Coal\"],[\"Romania\",\"ROU\",52.43,33.0,3.715,0.21,-4.5,\"Oil\"],[\"Russia\",\"RUS\",34.73,53.0,10.807,4.53,-6.09,\"Gas\"],[\"Rwanda\",\"RWA\",\"No Data\",\"No Data\",0.08,0.0,-13.03,\"Oil\"],[\"Saint Helena\",\"SHN\",\"No Data\",\"No Data\",1.564,0.0,-11.51,\"Coal\"],[\"Saint Kitts and Nevis\",\"KNA\",\"No Data\",\"No Data\",3.986,0.0,-11.51,\"Coal\"],[\"Saint Lucia\",\"LCA\",\"No Data\",\"No Data\",2.396,0.0,-11.51,\"Coal\"],[\"Saint Pierre and Miquelon\",\"SPM\",\"No Data\",\"No Data\",8.738,0.0,-11.51,\"Coal\"],[\"Saint Vincent and the Grenadines\",\"VCT\",\"No Data\",\"No Data\",1.883,0.0,-11.51,\"Coal\"],[\"Samoa\",\"WSM\",\"No Data\",\"No Data\",1.239,0.0,0.14,\"Coal\"],[\"Sao Tome and Principe\",\"STP\",\"No Data\",\"No Data\",0.514,0.0,-10.71,\"Coal\"],[\"Saudi Arabia\",\"SAU\",24.25,60.0,17.967,1.8,0.5,\"Coal\"],[\"Senegal\",\"SEN\",\"No Data\",\"No Data\",0.624,0.03,-7.23,\"Oil\"],[\"Serbia\",\"SRB\",\"No Data\",\"No Data\",4.937,0.12,-12.57,\"Coal\"],[\"Seychelles\",\"SYC\",\"No Data\",\"No Data\",4.994,0.0,-15.49,\"Coal\"],[\"Sierra Leone\",\"SLE\",\"No Data\",\"No Data\",0.11,0.0,-8.69,\"Coal\"],[\"Singapore\",\"SGP\",\"No Data\",\"No Data\",7.778,0.13,-0.44,\"Oil\"],[\"Sint Maarten (Dutch part)\",\"SXM\",\"No Data\",\"No Data\",14.539,0.0,-11.51,\"Coal\"],[\"Slovakia\",\"SVK\",50.67,37.0,5.629,0.09,-9.01,\"Oil\"],[\"Slovenia\",\"SVN\",43.28,47.0,6.043,0.04,-10.3,\"Oil\"],[\"Solomon Islands\",\"SLB\",\"No Data\",\"No Data\",0.435,0.0,0.14,\"Coal\"],[\"Somalia\",\"SOM\",\"No Data\",\"No Data\",0.035,0.0,-15.49,\"Coal\"],[\"South Africa\",\"ZAF\",51.13,36.0,7.62,1.3,-5.04,\"Coal\"],[\"South Korea\",\"KOR\",26.74,57.0,11.656,1.72,-7.78,\"Coal\"],[\"South Sudan\",\"SSD\",\"No Data\",\"No Data\",0.105,0.0,-15.49,\"Coal\"],[\"Spain\",\"ESP\",54.35,31.0,4.468,0.6,-16.93,\"Oil\"],[\"Sri Lanka\",\"LKA\",\"No Data\",\"No Data\",0.986,0.06,-7.53,\"Oil\"],[\"Sudan\",\"SDN\",\"No Data\",\"No Data\",0.43,0.05,-14.4,\"Coal\"],[\"Suriname\",\"SUR\",\"No Data\",\"No Data\",3.791,0.01,-11.75,\"Coal\"],[\"Sweden\",\"SWE\",74.22,2.0,3.826,0.11,-5.62,\"Oil\"],[\"Switzerland\",\"CHE\",61.7,12.0,3.732,0.09,-12.09,\"Oil\"],[\"Syria\",\"SYR\",\"No Data\",\"No Data\",1.745,0.09,-1.54,\"Oil\"],[\"Taiwan\",\"TWN\",\"No Data\",\"No Data\",11.47,0.78,-0.78,\"Coal\"],[\"Tajikistan\",\"TJK\",\"No Data\",\"No Data\",0.991,0.03,9.42,\"Coal\"],[\"Tanzania\",\"TZA\",\"No Data\",\"No Data\",0.183,0.03,-9.17,\"Oil\"],[\"Thailand\",\"THA\",55.01,28.0,3.693,0.74,-5.1,\"Oil\"],[\"Timor\",\"TLS\",\"No Data\",\"No Data\",0.399,0.0,0.14,\"Coal\"],[\"Togo\",\"TGO\",\"No Data\",\"No Data\",0.265,0.01,-4.93,\"Coal\"],[\"Tonga\",\"TON\",\"No Data\",\"No Data\",1.36,0.0,0.14,\"Coal\"],[\"Trinidad and Tobago\",\"TTO\",\"No Data\",\"No Data\",25.373,0.1,-12.06,\"Coal\"],[\"Tunisia\",\"TUN\",\"No Data\",\"No Data\",2.38,0.08,-6.28,\"Coal\"],[\"Turkey\",\"TUR\",50.53,38.0,4.657,1.13,-1.64,\"Coal\"],[\"Turkmenistan\",\"TKM\",\"No Data\",\"No Data\",12.491,0.22,-1.29,\"Coal\"],[\"Turks and Caicos Islands\",\"TCA\",\"No Data\",\"No Data\",5.231,0.0,-11.51,\"Coal\"],[\"Tuvalu\",\"TUV\",\"No Data\",\"No Data\",0.642,0.0,0.15,\"Coal\"],[\"Uganda\",\"UGA\",\"No Data\",\"No Data\",0.107,0.01,-14.48,\"Coal\"],[\"Ukraine\",\"UKR\",60.4,17.0,4.891,0.61,-3.9,\"Coal\"],[\"United Arab Emirates\",\"ARE\",\"No Data\",\"No Data\",15.193,0.43,-2.54,\"Gas\"],[\"United Kingdom\",\"GBR\",73.09,4.0,4.855,0.95,-10.69,\"Gas\"],[\"United States\",\"USA\",37.39,52.0,14.238,13.54,-10.33,\"Oil\"],[\"Uruguay\",\"URY\",\"No Data\",\"No Data\",1.681,0.02,-11.3,\"Oil\"],[\"Uzbekistan\",\"UZB\",\"No Data\",\"No Data\",3.37,0.32,-1.24,\"Gas\"],[\"Vanuatu\",\"VUT\",\"No Data\",\"No Data\",0.591,0.0,0.14,\"Coal\"],[\"Venezuela\",\"VEN\",\"No Data\",\"No Data\",2.975,0.24,-14.69,\"Flaring\"],[\"Vietnam\",\"VNM\",49.21,40.0,2.613,0.73,-2.31,\"Coal\"],[\"Yemen\",\"YEM\",\"No Data\",\"No Data\",0.328,0.03,-2.52,\"Oil\"],[\"Zambia\",\"ZMB\",\"No Data\",\"No Data\",0.358,0.02,-6.73,\"Oil\"],[\"Zimbabwe\",\"ZWE\",\"No Data\",\"No Data\",0.709,0.03,-3.82,\"Coal\"]],\"hovertemplate\":\"%{customdata[0]} (%{customdata[1]})<br>CCPI Score: %{customdata[2]}<br>CCPI Rank: %{customdata[3]}<br>CO<sub>2</sub> Emissions per Capita: %{customdata[4]}<br>Global Share of CO<sub>2</sub> Emissions: %{customdata[5]}<br>Percent Growth of CO<sub>2</sub> Emissions: %{customdata[6]}<br>Primary CO<sub>2</sub> Emissions Source: %{customdata[7]}<br><extra></extra>\",\"locations\":[\"AFG\",\"ALB\",\"DZA\",\"AND\",\"AGO\",\"AIA\",\"ATA\",\"ATG\",\"ARG\",\"ARM\",\"ABW\",\"AUS\",\"AUT\",\"AZE\",\"BHS\",\"BHR\",\"BGD\",\"BRB\",\"BLR\",\"BEL\",\"BLZ\",\"BEN\",\"BMU\",\"BTN\",\"BOL\",\"BES\",\"BIH\",\"BWA\",\"BRA\",\"VGB\",\"BRN\",\"BGR\",\"BFA\",\"BDI\",\"KHM\",\"CMR\",\"CAN\",\"CPV\",\"CAF\",\"TCD\",\"CHL\",\"CHN\",\"CXR\",\"COL\",\"COM\",\"COG\",\"COK\",\"CRI\",\"CIV\",\"HRV\",\"CUB\",\"CUW\",\"CYP\",\"CZE\",\"COD\",\"DNK\",\"DJI\",\"DMA\",\"DOM\",\"ECU\",\"EGY\",\"SLV\",\"GNQ\",\"ERI\",\"EST\",\"SWZ\",\"ETH\",\"FRO\",\"FJI\",\"FIN\",\"FRA\",\"GUF\",\"PYF\",\"GAB\",\"GMB\",\"GEO\",\"DEU\",\"GHA\",\"GRC\",\"GRL\",\"GRD\",\"GLP\",\"GTM\",\"GIN\",\"GNB\",\"GUY\",\"HTI\",\"HND\",\"HKG\",\"HUN\",\"ISL\",\"IND\",\"IDN\",\"IRN\",\"IRQ\",\"IRL\",\"ISR\",\"ITA\",\"JAM\",\"JPN\",\"JOR\",\"KAZ\",\"KEN\",\"KIR\",\"OWID_KOS\",\"KWT\",\"KGZ\",\"LAO\",\"LVA\",\"LBN\",\"LSO\",\"LBR\",\"LBY\",\"LIE\",\"LTU\",\"LUX\",\"MDG\",\"MWI\",\"MYS\",\"MDV\",\"MLI\",\"MLT\",\"MHL\",\"MTQ\",\"MRT\",\"MUS\",\"MYT\",\"MEX\",\"MDA\",\"MNG\",\"MNE\",\"MSR\",\"MAR\",\"MOZ\",\"MMR\",\"NAM\",\"NRU\",\"NPL\",\"NLD\",\"NCL\",\"NZL\",\"NIC\",\"NER\",\"NGA\",\"NIU\",\"PRK\",\"MKD\",\"NOR\",\"OMN\",\"PAK\",\"PLW\",\"PSE\",\"PAN\",\"PNG\",\"PRY\",\"PER\",\"PHL\",\"POL\",\"PRT\",\"PRI\",\"QAT\",\"ROU\",\"RUS\",\"RWA\",\"SHN\",\"KNA\",\"LCA\",\"SPM\",\"VCT\",\"WSM\",\"STP\",\"SAU\",\"SEN\",\"SRB\",\"SYC\",\"SLE\",\"SGP\",\"SXM\",\"SVK\",\"SVN\",\"SLB\",\"SOM\",\"ZAF\",\"KOR\",\"SSD\",\"ESP\",\"LKA\",\"SDN\",\"SUR\",\"SWE\",\"CHE\",\"SYR\",\"TWN\",\"TJK\",\"TZA\",\"THA\",\"TLS\",\"TGO\",\"TON\",\"TTO\",\"TUN\",\"TUR\",\"TKM\",\"TCA\",\"TUV\",\"UGA\",\"UKR\",\"ARE\",\"GBR\",\"USA\",\"URY\",\"UZB\",\"VUT\",\"VEN\",\"VNM\",\"YEM\",\"ZMB\",\"ZWE\"],\"marker\":{\"line\":{\"width\":0.1}},\"visible\":false,\"z\":[0,3,1,0,0,0,0,0,1,1,0,0,3,1,3,0,1,0,1,1,0,0,3,0,3,0,0,0,3,0,0,0,0,3,3,0,3,0,0,0,3,0,0,3,0,0,0,0,0,3,3,0,3,0,0,3,0,0,3,0,1,3,0,0,0,3,3,0,0,3,3,0,0,0,0,1,3,0,3,0,0,3,3,0,0,0,0,0,0,1,3,0,0,1,0,3,3,1,3,0,3,0,3,0,0,0,3,0,3,3,0,0,0,0,3,3,3,3,0,0,0,3,0,0,0,3,0,3,3,0,0,0,3,3,3,3,0,3,1,0,3,0,3,3,0,0,0,3,0,3,0,0,3,0,3,3,0,0,3,0,0,3,1,3,0,0,0,0,0,0,0,0,3,0,0,0,3,0,3,3,0,0,0,0,0,3,3,0,0,3,3,3,0,0,3,3,0,0,0,0,0,0,0,0,0,0,0,1,1,3,3,1,0,2,0,3,3,0],\"type\":\"choropleth\"}],                        {\"geo\":{\"projection\":{\"type\":\"natural earth\"},\"showcoastlines\":false},\"margin\":{\"b\":0,\"l\":0,\"r\":0,\"t\":50},\"title\":{\"text\":\"CO<sub>2</sub> Emissions\"},\"updatemenus\":[{\"buttons\":[{\"args\":[{\"visible\":[true,false,false,false]}],\"label\":\"CO<sub>2</sub> Emissions per Capita\",\"method\":\"update\"},{\"args\":[{\"visible\":[false,true,false,false]}],\"label\":\"Share of Global CO<sub>2</sub> Emissions\",\"method\":\"update\"},{\"args\":[{\"visible\":[false,false,true,false]}],\"label\":\"Percent Growth of CO<sub>2</sub> Emissions\",\"method\":\"update\"},{\"args\":[{\"visible\":[false,false,false,true]}],\"label\":\"Primary Source of CO<sub>2</sub> Emissions\",\"method\":\"update\"}],\"direction\":\"down\",\"pad\":{\"r\":10,\"t\":0},\"x\":0.22,\"xanchor\":\"left\",\"y\":1.1,\"yanchor\":\"top\"}],\"template\":{\"data\":{\"bar\":[{\"error_x\":{\"color\":\"#2a3f5f\"},\"error_y\":{\"color\":\"#2a3f5f\"},\"marker\":{\"line\":{\"color\":\"#E5ECF6\",\"width\":0.5},\"pattern\":{\"fillmode\":\"overlay\",\"size\":10,\"solidity\":0.2}},\"type\":\"bar\"}],\"barpolar\":[{\"marker\":{\"line\":{\"color\":\"#E5ECF6\",\"width\":0.5},\"pattern\":{\"fillmode\":\"overlay\",\"size\":10,\"solidity\":0.2}},\"type\":\"barpolar\"}],\"carpet\":[{\"aaxis\":{\"endlinecolor\":\"#2a3f5f\",\"gridcolor\":\"white\",\"linecolor\":\"white\",\"minorgridcolor\":\"white\",\"startlinecolor\":\"#2a3f5f\"},\"baxis\":{\"endlinecolor\":\"#2a3f5f\",\"gridcolor\":\"white\",\"linecolor\":\"white\",\"minorgridcolor\":\"white\",\"startlinecolor\":\"#2a3f5f\"},\"type\":\"carpet\"}],\"choropleth\":[{\"colorbar\":{\"outlinewidth\":0,\"ticks\":\"\"},\"type\":\"choropleth\"}],\"contour\":[{\"colorbar\":{\"outlinewidth\":0,\"ticks\":\"\"},\"colorscale\":[[0.0,\"#0d0887\"],[0.1111111111111111,\"#46039f\"],[0.2222222222222222,\"#7201a8\"],[0.3333333333333333,\"#9c179e\"],[0.4444444444444444,\"#bd3786\"],[0.5555555555555556,\"#d8576b\"],[0.6666666666666666,\"#ed7953\"],[0.7777777777777778,\"#fb9f3a\"],[0.8888888888888888,\"#fdca26\"],[1.0,\"#f0f921\"]],\"type\":\"contour\"}],\"contourcarpet\":[{\"colorbar\":{\"outlinewidth\":0,\"ticks\":\"\"},\"type\":\"contourcarpet\"}],\"heatmap\":[{\"colorbar\":{\"outlinewidth\":0,\"ticks\":\"\"},\"colorscale\":[[0.0,\"#0d0887\"],[0.1111111111111111,\"#46039f\"],[0.2222222222222222,\"#7201a8\"],[0.3333333333333333,\"#9c179e\"],[0.4444444444444444,\"#bd3786\"],[0.5555555555555556,\"#d8576b\"],[0.6666666666666666,\"#ed7953\"],[0.7777777777777778,\"#fb9f3a\"],[0.8888888888888888,\"#fdca26\"],[1.0,\"#f0f921\"]],\"type\":\"heatmap\"}],\"heatmapgl\":[{\"colorbar\":{\"outlinewidth\":0,\"ticks\":\"\"},\"colorscale\":[[0.0,\"#0d0887\"],[0.1111111111111111,\"#46039f\"],[0.2222222222222222,\"#7201a8\"],[0.3333333333333333,\"#9c179e\"],[0.4444444444444444,\"#bd3786\"],[0.5555555555555556,\"#d8576b\"],[0.6666666666666666,\"#ed7953\"],[0.7777777777777778,\"#fb9f3a\"],[0.8888888888888888,\"#fdca26\"],[1.0,\"#f0f921\"]],\"type\":\"heatmapgl\"}],\"histogram\":[{\"marker\":{\"pattern\":{\"fillmode\":\"overlay\",\"size\":10,\"solidity\":0.2}},\"type\":\"histogram\"}],\"histogram2d\":[{\"colorbar\":{\"outlinewidth\":0,\"ticks\":\"\"},\"colorscale\":[[0.0,\"#0d0887\"],[0.1111111111111111,\"#46039f\"],[0.2222222222222222,\"#7201a8\"],[0.3333333333333333,\"#9c179e\"],[0.4444444444444444,\"#bd3786\"],[0.5555555555555556,\"#d8576b\"],[0.6666666666666666,\"#ed7953\"],[0.7777777777777778,\"#fb9f3a\"],[0.8888888888888888,\"#fdca26\"],[1.0,\"#f0f921\"]],\"type\":\"histogram2d\"}],\"histogram2dcontour\":[{\"colorbar\":{\"outlinewidth\":0,\"ticks\":\"\"},\"colorscale\":[[0.0,\"#0d0887\"],[0.1111111111111111,\"#46039f\"],[0.2222222222222222,\"#7201a8\"],[0.3333333333333333,\"#9c179e\"],[0.4444444444444444,\"#bd3786\"],[0.5555555555555556,\"#d8576b\"],[0.6666666666666666,\"#ed7953\"],[0.7777777777777778,\"#fb9f3a\"],[0.8888888888888888,\"#fdca26\"],[1.0,\"#f0f921\"]],\"type\":\"histogram2dcontour\"}],\"mesh3d\":[{\"colorbar\":{\"outlinewidth\":0,\"ticks\":\"\"},\"type\":\"mesh3d\"}],\"parcoords\":[{\"line\":{\"colorbar\":{\"outlinewidth\":0,\"ticks\":\"\"}},\"type\":\"parcoords\"}],\"pie\":[{\"automargin\":true,\"type\":\"pie\"}],\"scatter\":[{\"marker\":{\"colorbar\":{\"outlinewidth\":0,\"ticks\":\"\"}},\"type\":\"scatter\"}],\"scatter3d\":[{\"line\":{\"colorbar\":{\"outlinewidth\":0,\"ticks\":\"\"}},\"marker\":{\"colorbar\":{\"outlinewidth\":0,\"ticks\":\"\"}},\"type\":\"scatter3d\"}],\"scattercarpet\":[{\"marker\":{\"colorbar\":{\"outlinewidth\":0,\"ticks\":\"\"}},\"type\":\"scattercarpet\"}],\"scattergeo\":[{\"marker\":{\"colorbar\":{\"outlinewidth\":0,\"ticks\":\"\"}},\"type\":\"scattergeo\"}],\"scattergl\":[{\"marker\":{\"colorbar\":{\"outlinewidth\":0,\"ticks\":\"\"}},\"type\":\"scattergl\"}],\"scattermapbox\":[{\"marker\":{\"colorbar\":{\"outlinewidth\":0,\"ticks\":\"\"}},\"type\":\"scattermapbox\"}],\"scatterpolar\":[{\"marker\":{\"colorbar\":{\"outlinewidth\":0,\"ticks\":\"\"}},\"type\":\"scatterpolar\"}],\"scatterpolargl\":[{\"marker\":{\"colorbar\":{\"outlinewidth\":0,\"ticks\":\"\"}},\"type\":\"scatterpolargl\"}],\"scatterternary\":[{\"marker\":{\"colorbar\":{\"outlinewidth\":0,\"ticks\":\"\"}},\"type\":\"scatterternary\"}],\"surface\":[{\"colorbar\":{\"outlinewidth\":0,\"ticks\":\"\"},\"colorscale\":[[0.0,\"#0d0887\"],[0.1111111111111111,\"#46039f\"],[0.2222222222222222,\"#7201a8\"],[0.3333333333333333,\"#9c179e\"],[0.4444444444444444,\"#bd3786\"],[0.5555555555555556,\"#d8576b\"],[0.6666666666666666,\"#ed7953\"],[0.7777777777777778,\"#fb9f3a\"],[0.8888888888888888,\"#fdca26\"],[1.0,\"#f0f921\"]],\"type\":\"surface\"}],\"table\":[{\"cells\":{\"fill\":{\"color\":\"#EBF0F8\"},\"line\":{\"color\":\"white\"}},\"header\":{\"fill\":{\"color\":\"#C8D4E3\"},\"line\":{\"color\":\"white\"}},\"type\":\"table\"}]},\"layout\":{\"annotationdefaults\":{\"arrowcolor\":\"#2a3f5f\",\"arrowhead\":0,\"arrowwidth\":1},\"autotypenumbers\":\"strict\",\"coloraxis\":{\"colorbar\":{\"outlinewidth\":0,\"ticks\":\"\"}},\"colorscale\":{\"diverging\":[[0,\"#8e0152\"],[0.1,\"#c51b7d\"],[0.2,\"#de77ae\"],[0.3,\"#f1b6da\"],[0.4,\"#fde0ef\"],[0.5,\"#f7f7f7\"],[0.6,\"#e6f5d0\"],[0.7,\"#b8e186\"],[0.8,\"#7fbc41\"],[0.9,\"#4d9221\"],[1,\"#276419\"]],\"sequential\":[[0.0,\"#0d0887\"],[0.1111111111111111,\"#46039f\"],[0.2222222222222222,\"#7201a8\"],[0.3333333333333333,\"#9c179e\"],[0.4444444444444444,\"#bd3786\"],[0.5555555555555556,\"#d8576b\"],[0.6666666666666666,\"#ed7953\"],[0.7777777777777778,\"#fb9f3a\"],[0.8888888888888888,\"#fdca26\"],[1.0,\"#f0f921\"]],\"sequentialminus\":[[0.0,\"#0d0887\"],[0.1111111111111111,\"#46039f\"],[0.2222222222222222,\"#7201a8\"],[0.3333333333333333,\"#9c179e\"],[0.4444444444444444,\"#bd3786\"],[0.5555555555555556,\"#d8576b\"],[0.6666666666666666,\"#ed7953\"],[0.7777777777777778,\"#fb9f3a\"],[0.8888888888888888,\"#fdca26\"],[1.0,\"#f0f921\"]]},\"colorway\":[\"#636efa\",\"#EF553B\",\"#00cc96\",\"#ab63fa\",\"#FFA15A\",\"#19d3f3\",\"#FF6692\",\"#B6E880\",\"#FF97FF\",\"#FECB52\"],\"font\":{\"color\":\"#2a3f5f\"},\"geo\":{\"bgcolor\":\"white\",\"lakecolor\":\"white\",\"landcolor\":\"#E5ECF6\",\"showlakes\":true,\"showland\":true,\"subunitcolor\":\"white\"},\"hoverlabel\":{\"align\":\"left\"},\"hovermode\":\"closest\",\"mapbox\":{\"style\":\"light\"},\"paper_bgcolor\":\"white\",\"plot_bgcolor\":\"#E5ECF6\",\"polar\":{\"angularaxis\":{\"gridcolor\":\"white\",\"linecolor\":\"white\",\"ticks\":\"\"},\"bgcolor\":\"#E5ECF6\",\"radialaxis\":{\"gridcolor\":\"white\",\"linecolor\":\"white\",\"ticks\":\"\"}},\"scene\":{\"xaxis\":{\"backgroundcolor\":\"#E5ECF6\",\"gridcolor\":\"white\",\"gridwidth\":2,\"linecolor\":\"white\",\"showbackground\":true,\"ticks\":\"\",\"zerolinecolor\":\"white\"},\"yaxis\":{\"backgroundcolor\":\"#E5ECF6\",\"gridcolor\":\"white\",\"gridwidth\":2,\"linecolor\":\"white\",\"showbackground\":true,\"ticks\":\"\",\"zerolinecolor\":\"white\"},\"zaxis\":{\"backgroundcolor\":\"#E5ECF6\",\"gridcolor\":\"white\",\"gridwidth\":2,\"linecolor\":\"white\",\"showbackground\":true,\"ticks\":\"\",\"zerolinecolor\":\"white\"}},\"shapedefaults\":{\"line\":{\"color\":\"#2a3f5f\"}},\"ternary\":{\"aaxis\":{\"gridcolor\":\"white\",\"linecolor\":\"white\",\"ticks\":\"\"},\"baxis\":{\"gridcolor\":\"white\",\"linecolor\":\"white\",\"ticks\":\"\"},\"bgcolor\":\"#E5ECF6\",\"caxis\":{\"gridcolor\":\"white\",\"linecolor\":\"white\",\"ticks\":\"\"}},\"title\":{\"x\":0.05},\"xaxis\":{\"automargin\":true,\"gridcolor\":\"white\",\"linecolor\":\"white\",\"ticks\":\"\",\"title\":{\"standoff\":15},\"zerolinecolor\":\"white\",\"zerolinewidth\":2},\"yaxis\":{\"automargin\":true,\"gridcolor\":\"white\",\"linecolor\":\"white\",\"ticks\":\"\",\"title\":{\"standoff\":15},\"zerolinecolor\":\"white\",\"zerolinewidth\":2}}}},                        {\"responsive\": true}                    ).then(function(){\n",
       "                            \n",
       "var gd = document.getElementById('3a15907d-1882-4d2f-9105-94a585e5ca77');\n",
       "var x = new MutationObserver(function (mutations, observer) {{\n",
       "        var display = window.getComputedStyle(gd).display;\n",
       "        if (!display || display === 'none') {{\n",
       "            console.log([gd, 'removed!']);\n",
       "            Plotly.purge(gd);\n",
       "            observer.disconnect();\n",
       "        }}\n",
       "}});\n",
       "\n",
       "// Listen for the removal of the full notebook cells\n",
       "var notebookContainer = gd.closest('#notebook-container');\n",
       "if (notebookContainer) {{\n",
       "    x.observe(notebookContainer, {childList: true});\n",
       "}}\n",
       "\n",
       "// Listen for the clearing of the current output cell\n",
       "var outputEl = gd.closest('.output');\n",
       "if (outputEl) {{\n",
       "    x.observe(outputEl, {childList: true});\n",
       "}}\n",
       "\n",
       "                        })                };                });            </script>        </div>"
      ]
     },
     "metadata": {},
     "output_type": "display_data"
    }
   ],
   "source": [
    "emissions_fig = go.Figure(\n",
    "    data=[\n",
    "        # Need a new trace for each of the different data sets so that view can be properly updated\n",
    "        go.Choropleth( \n",
    "            locations=locations_co2, \n",
    "            z=ccpi_emissions[\"co2_per_capita\"],\n",
    "            zmin=get_min_bp(ccpi_emissions, \"co2_per_capita\"),\n",
    "            zmax=get_max_bp(ccpi_emissions, \"co2_per_capita\"),\n",
    "            hovertemplate=hovertemplate_co2,\n",
    "            colorscale=\"RdYlGn\",\n",
    "            reversescale=True,\n",
    "            colorbar_title=\"CO<sub>2</sub><br>Emissions<br>per Capita\",\n",
    "            marker_line_width=0.1,\n",
    "            customdata=customdata_co2,\n",
    "            visible=True\n",
    "        ),\n",
    "        go.Choropleth( \n",
    "            locations=locations_co2, \n",
    "            z=ccpi_emissions[\"share_global_co2\"],\n",
    "            zmin=0,\n",
    "            zmax=5,\n",
    "            hovertemplate=hovertemplate_co2,\n",
    "            colorscale=\"RdYlGn\",\n",
    "            reversescale=True,\n",
    "            colorbar_title=\"Share of<br>Global CO<sub>2</sub><br>Emissions\",\n",
    "            marker_line_width=0.1,\n",
    "            customdata=customdata_co2,\n",
    "            visible=False\n",
    "        ),\n",
    "        go.Choropleth( \n",
    "            locations=locations_co2, \n",
    "            z=ccpi_emissions[\"co2_growth_prct\"],\n",
    "            zmid=0,\n",
    "            zmin=-10,\n",
    "            zmax=10,\n",
    "            hovertemplate=hovertemplate_co2,\n",
    "            colorscale=\"RdYlGn\",\n",
    "            reversescale=True,\n",
    "            colorbar_title=\"Percent Growth<br>of Global CO<sub>2</sub><br>Emissions\",\n",
    "            marker_line_width=0.1,\n",
    "            customdata=customdata_co2,\n",
    "            visible=False\n",
    "        ),\n",
    "        go.Choropleth( \n",
    "            locations=locations_co2, \n",
    "            z=ccpi_emissions[\"primary_co2_source_num\"],\n",
    "            colorscale=\"RdYlGn\",\n",
    "            # Plotly does not allow for categorical go.Choropleth color scales, so continuous diverging scale is used.\n",
    "            colorbar=dict(\n",
    "                tickvals=[0, 1, 2, 3],\n",
    "                ticktext=[\"Coal\", \"Gas\", \"Flaring\", \"Oil\"]\n",
    "            ),\n",
    "            colorbar_title=\"Primary CO<sub>2</sub><br>Emissions<br>Source\",\n",
    "            hovertemplate=hovertemplate_co2,\n",
    "            marker_line_width=0.1,\n",
    "            customdata=customdata_co2,\n",
    "            visible=False\n",
    "        )\n",
    "    ],\n",
    "    layout=go.Layout(\n",
    "        title_text=\"CO<sub>2</sub> Emissions\",\n",
    "        margin={\"r\":0,\"t\":50,\"l\":0,\"b\":0},\n",
    "        geo={\n",
    "            \"projection_type\": \"natural earth\",\n",
    "            \"showcoastlines\": False,\n",
    "            \n",
    "        },\n",
    "        updatemenus=[\n",
    "            # Add dropdown menu that will allow for selection of data\n",
    "            dict(\n",
    "                buttons=[\n",
    "                    dict(\n",
    "                        args=[{\"visible\":(True, False, False, False)}],\n",
    "                        label=\"CO<sub>2</sub> Emissions per Capita\",\n",
    "                        method=\"update\"\n",
    "                    ),\n",
    "                    dict(\n",
    "                        args=[{\"visible\":(False, True, False, False)}],\n",
    "                        label=\"Share of Global CO<sub>2</sub> Emissions\",\n",
    "                        method=\"update\"\n",
    "                    ),\n",
    "                    dict(\n",
    "                        args=[{\"visible\":(False, False, True, False)}],\n",
    "                        label=\"Percent Growth of CO<sub>2</sub> Emissions\",\n",
    "                        method=\"update\"\n",
    "                    ),\n",
    "                    dict(\n",
    "                        args=[{\"visible\":(False, False, False, True)}],\n",
    "                        label=\"Primary Source of CO<sub>2</sub> Emissions\",\n",
    "                        method=\"update\"\n",
    "                    )\n",
    "                    \n",
    "                ],\n",
    "                direction=\"down\",\n",
    "                pad={\"r\":10, \"t\":0},\n",
    "                x=0.22,\n",
    "                xanchor=\"left\",\n",
    "                y=1.1,\n",
    "                yanchor=\"top\"\n",
    "            )\n",
    "        ]\n",
    "    )\n",
    ")\n",
    "\n",
    "emissions_fig.show()"
   ]
  },
  {
   "cell_type": "markdown",
   "id": "66804196",
   "metadata": {},
   "source": [
    "## Greenhouse Gas Emissions"
   ]
  },
  {
   "cell_type": "code",
   "execution_count": 120,
   "id": "8d8dd9d7",
   "metadata": {},
   "outputs": [],
   "source": [
    "# Setting up plotting variables\n",
    "locations_ghg = emissions_ghg[\"iso_code\"]\n",
    "\n",
    "hovertemplate_ghg = \"<br>\".join([\n",
    "    \"%{customdata[0]} (%{customdata[1]})\", \n",
    "    \"Greenhouse Gas Emissions per Capita: %{customdata[2]}\",\n",
    "    \"Methane Emissions per Capita: %{customdata[3]}\",\n",
    "    \"Nitrous Oxide Emissions per Capita: %{customdata[4]}\",\n",
    "    \"CO<sub>2</sub> Emissions per Capita: %{customdata[5]}\", \n",
    "    \"<extra></extra>\"\n",
    "])\n",
    "\n",
    "customdata_ghg = emissions_ghg[[\n",
    "    \"country\", \n",
    "    \"iso_code\", \n",
    "    \"ghg_per_capita\", \n",
    "    \"methane_per_capita\",\n",
    "    \"nitrous_oxide_per_capita\", \n",
    "    \"co2_per_capita\"\n",
    "]]"
   ]
  },
  {
   "cell_type": "code",
   "execution_count": 126,
   "id": "dd601596",
   "metadata": {},
   "outputs": [
    {
     "data": {
      "application/vnd.plotly.v1+json": {
       "config": {
        "plotlyServerURL": "https://plot.ly"
       },
       "data": [
        {
         "colorbar": {
          "title": {
           "text": "GHG<br>Emissions<br>per Capita"
          }
         },
         "colorscale": [
          [
           0,
           "rgb(165,0,38)"
          ],
          [
           0.1,
           "rgb(215,48,39)"
          ],
          [
           0.2,
           "rgb(244,109,67)"
          ],
          [
           0.3,
           "rgb(253,174,97)"
          ],
          [
           0.4,
           "rgb(254,224,139)"
          ],
          [
           0.5,
           "rgb(255,255,191)"
          ],
          [
           0.6,
           "rgb(217,239,139)"
          ],
          [
           0.7,
           "rgb(166,217,106)"
          ],
          [
           0.8,
           "rgb(102,189,99)"
          ],
          [
           0.9,
           "rgb(26,152,80)"
          ],
          [
           1,
           "rgb(0,104,55)"
          ]
         ],
         "customdata": [
          [
           "Afghanistan",
           "AFG",
           2.73,
           2.209,
           0.258,
           0.191
          ],
          [
           "Albania",
           "ALB",
           3.184,
           1.126,
           0.437,
           1.556
          ],
          [
           "Algeria",
           "DZA",
           5.181,
           1.219,
           0.294,
           3.673
          ],
          [
           "Andorra",
           "AND",
           1.299,
           0.649,
           0,
           6.068
          ],
          [
           "Angola",
           "AGO",
           6.245,
           1.789,
           0.728,
           1.089
          ],
          [
           "Anguilla",
           "AIA",
           null,
           null,
           null,
           10.661
          ],
          [
           "Antarctica",
           "ATA",
           null,
           null,
           null,
           null
          ],
          [
           "Antigua and Barbuda",
           "ATG",
           14.526,
           2.105,
           0.211,
           5.194
          ],
          [
           "Argentina",
           "ARG",
           11.08,
           2.794,
           1.111,
           4.389
          ],
          [
           "Armenia",
           "ARM",
           3.222,
           0.875,
           0.552,
           1.772
          ],
          [
           "Aruba",
           "ABW",
           null,
           null,
           null,
           8.421
          ],
          [
           "Australia",
           "AUS",
           21.394,
           5.033,
           2.357,
           17.143
          ],
          [
           "Austria",
           "AUT",
           8.214,
           0.776,
           0.423,
           7.684
          ],
          [
           "Azerbaijan",
           "AZE",
           7.599,
           4.604,
           0.37,
           3.806
          ],
          [
           "Bahamas",
           "BHS",
           10.503,
           0.899,
           0.317,
           5.235
          ],
          [
           "Bahrain",
           "BHR",
           33.008,
           9.986,
           0.049,
           22.004
          ],
          [
           "Bangladesh",
           "BGD",
           1.327,
           0.509,
           0.173,
           0.484
          ],
          [
           "Barbados",
           "BRB",
           15.21,
           8.147,
           0.175,
           4.49
          ],
          [
           "Belarus",
           "BLR",
           8.543,
           1.756,
           1.25,
           6.336
          ],
          [
           "Belgium",
           "BEL",
           9.455,
           0.744,
           0.395,
           8.796
          ],
          [
           "Belize",
           "BLZ",
           13.207,
           2.772,
           0.897,
           1.691
          ],
          [
           "Benin",
           "BEN",
           2.44,
           0.532,
           0.275,
           0.607
          ],
          [
           "Bermuda",
           "BMU",
           null,
           null,
           null,
           9.773
          ],
          [
           "Bhutan",
           "BTN",
           -2.469,
           1.208,
           0.258,
           1.57
          ],
          [
           "Bolivia",
           "BOL",
           13.682,
           2.994,
           1.073,
           2.066
          ],
          [
           "Bonaire Sint Eustatius and Saba",
           "BES",
           null,
           null,
           null,
           13.474
          ],
          [
           "Bosnia and Herzegovina",
           "BIH",
           8.048,
           1.025,
           0.357,
           6.418
          ],
          [
           "Botswana",
           "BWA",
           32.403,
           7.037,
           1.87,
           2.932
          ],
          [
           "Brazil",
           "BRA",
           6.691,
           2.159,
           0.887,
           2.39
          ],
          [
           "British Virgin Islands",
           "VGB",
           null,
           null,
           null,
           7.239
          ],
          [
           "Brunei",
           "BRN",
           40,
           22.119,
           0.381,
           17.971
          ],
          [
           "Bulgaria",
           "BGR",
           6.162,
           0.993,
           0.561,
           6.362
          ],
          [
           "Burkina Faso",
           "BFA",
           2.072,
           0.829,
           0.531,
           0.181
          ],
          [
           "Burundi",
           "BDI",
           0.738,
           0.187,
           0.176,
           0.045
          ],
          [
           "Cambodia",
           "KHM",
           4.15,
           1.621,
           0.424,
           0.668
          ],
          [
           "Cameroon",
           "CMR",
           8.709,
           0.763,
           2.662,
           0.327
          ],
          [
           "Canada",
           "CAN",
           21.419,
           2.903,
           1.219,
           15.38
          ],
          [
           "Cape Verde",
           "CPV",
           1.751,
           0.245,
           0.151,
           1.014
          ],
          [
           "Central African Republic",
           "CAF",
           16.688,
           5.93,
           7.62,
           0.044
          ],
          [
           "Chad",
           "TCD",
           7.002,
           3.539,
           1.682,
           0.07
          ],
          [
           "Chile",
           "CHL",
           0.205,
           0.727,
           0.359,
           4.635
          ],
          [
           "China",
           "CHN",
           8.187,
           0.895,
           0.394,
           6.874
          ],
          [
           "Christmas Island",
           "CXR",
           null,
           null,
           null,
           null
          ],
          [
           "Colombia",
           "COL",
           4.816,
           1.641,
           0.443,
           1.936
          ],
          [
           "Comoros",
           "COM",
           0.754,
           0.352,
           0.063,
           0.272
          ],
          [
           "Congo",
           "COG",
           9.992,
           2.594,
           0.803,
           0.743
          ],
          [
           "Cook Islands",
           "COK",
           6.111,
           0.556,
           0,
           3.973
          ],
          [
           "Costa Rica",
           "CRI",
           0.945,
           1.025,
           0.412,
           1.617
          ],
          [
           "Cote d'Ivoire",
           "CIV",
           1.308,
           0.317,
           0.162,
           0.495
          ],
          [
           "Croatia",
           "HRV",
           4.5,
           0.889,
           0.387,
           4.297
          ],
          [
           "Cuba",
           "CUB",
           2.403,
           1.151,
           0.332,
           2.486
          ],
          [
           "Curacao",
           "CUW",
           null,
           null,
           null,
           36.013
          ],
          [
           "Cyprus",
           "CYP",
           7.06,
           0.615,
           0.308,
           6.301
          ],
          [
           "Czechia",
           "CZE",
           10.525,
           1.171,
           0.527,
           10.047
          ],
          [
           "Democratic Republic of Congo",
           "COD",
           2.854,
           0.676,
           0.272,
           0.026
          ],
          [
           "Denmark",
           "DNK",
           8.17,
           1.255,
           0.89,
           6.48
          ],
          [
           "Djibouti",
           "DJI",
           2.239,
           0.732,
           0.291,
           0.43
          ],
          [
           "Dominica",
           "DMA",
           5.352,
           0.704,
           0.282,
           2.518
          ],
          [
           "Dominican Republic",
           "DOM",
           2.779,
           0.877,
           0.299,
           2.37
          ],
          [
           "Ecuador",
           "ECU",
           5.978,
           1.247,
           0.291,
           2.396
          ],
          [
           "Egypt",
           "EGY",
           3.287,
           0.596,
           0.24,
           2.479
          ],
          [
           "El Salvador",
           "SLV",
           2.121,
           0.634,
           0.194,
           1.046
          ],
          [
           "Equatorial Guinea",
           "GNQ",
           19.111,
           10.897,
           0.033,
           9.371
          ],
          [
           "Eritrea",
           "ERI",
           2.357,
           1.09,
           0.841,
           0.191
          ],
          [
           "Estonia",
           "EST",
           15.475,
           0.835,
           1.017,
           13.344
          ],
          [
           "Eswatini",
           "SWZ",
           2.908,
           1.338,
           0.395,
           0.947
          ],
          [
           "Ethiopia",
           "ETH",
           1.821,
           1.021,
           0.489,
           0.138
          ],
          [
           "Faeroe Islands",
           "FRO",
           null,
           null,
           null,
           13.082
          ],
          [
           "Fiji",
           "FJI",
           1.101,
           1.25,
           0.413,
           1.444
          ],
          [
           "Finland",
           "FIN",
           11.488,
           0.817,
           0.844,
           8.591
          ],
          [
           "France",
           "FRA",
           5.097,
           0.926,
           0.581,
           5.158
          ],
          [
           "French Guiana",
           "GUF",
           null,
           null,
           null,
           2.682
          ],
          [
           "French Polynesia",
           "PYF",
           null,
           null,
           null,
           2.762
          ],
          [
           "Gabon",
           "GAB",
           -42.311,
           0.727,
           0.274,
           2.71
          ],
          [
           "Gambia",
           "GMB",
           1.117,
           0.768,
           0.186,
           0.247
          ],
          [
           "Georgia",
           "GEO",
           4.291,
           1.342,
           0.553,
           2.507
          ],
          [
           "Germany",
           "DEU",
           9.839,
           0.675,
           0.433,
           9.742
          ],
          [
           "Ghana",
           "GHA",
           1.792,
           0.751,
           0.229,
           0.581
          ],
          [
           "Greece",
           "GRC",
           8.136,
           0.896,
           0.426,
           6.724
          ],
          [
           "Greenland",
           "GRL",
           null,
           null,
           null,
           9.306
          ],
          [
           "Grenada",
           "GRD",
           21.091,
           18.273,
           0.091,
           2.426
          ],
          [
           "Guadeloupe",
           "GLP",
           null,
           null,
           null,
           6.32
          ],
          [
           "Guatemala",
           "GTM",
           2.641,
           0.777,
           0.325,
           1.02
          ],
          [
           "Guinea",
           "GIN",
           3.885,
           1.582,
           0.639,
           0.234
          ],
          [
           "Guinea-Bissau",
           "GNB",
           2.363,
           0.802,
           0.438,
           0.171
          ],
          [
           "Guyana",
           "GUY",
           48.534,
           7.289,
           1.855,
           3.04
          ],
          [
           "Haiti",
           "HTI",
           0.926,
           0.43,
           0.148,
           0.275
          ],
          [
           "Honduras",
           "HND",
           5.553,
           1.002,
           0.375,
           1.002
          ],
          [
           "Hong Kong",
           "HKG",
           null,
           null,
           null,
           5.99
          ],
          [
           "Hungary",
           "HUN",
           6.283,
           0.738,
           0.568,
           4.826
          ],
          [
           "Iceland",
           "ISL",
           9.608,
           1.657,
           1.205,
           10.498
          ],
          [
           "India",
           "IND",
           2.443,
           0.501,
           0.187,
           1.799
          ],
          [
           "Indonesia",
           "IDN",
           8.522,
           1.118,
           0.354,
           2.144
          ],
          [
           "Iran",
           "IRN",
           10.909,
           1.799,
           0.468,
           8.011
          ],
          [
           "Iraq",
           "IRQ",
           5.228,
           0.435,
           0.132,
           5.309
          ],
          [
           "Ireland",
           "IRL",
           13.965,
           3.511,
           2.006,
           8.551
          ],
          [
           "Israel",
           "ISR",
           11.109,
           1.447,
           0.28,
           7.55
          ],
          [
           "Italy",
           "ITA",
           6.093,
           0.738,
           0.298,
           5.902
          ],
          [
           "Jamaica",
           "JAM",
           3.304,
           0.282,
           0.141,
           2.809
          ],
          [
           "Japan",
           "JPN",
           9.892,
           0.168,
           0.142,
           9.422
          ],
          [
           "Jordan",
           "JOR",
           3.739,
           0.633,
           0.136,
           2.548
          ],
          [
           "Kazakhstan",
           "KAZ",
           16.209,
           2.249,
           0.566,
           16.19
          ],
          [
           "Kenya",
           "KEN",
           0.974,
           0.828,
           0.383,
           0.35
          ],
          [
           "Kiribati",
           "KIR",
           0.708,
           0.177,
           0.088,
           0.488
          ],
          [
           "Kosovo",
           "OWID_KOS",
           null,
           null,
           null,
           null
          ],
          [
           "Kuwait",
           "KWT",
           28.302,
           1.483,
           0.177,
           25.49
          ],
          [
           "Kyrgyzstan",
           "KGZ",
           2.634,
           0.79,
           0.326,
           1.588
          ],
          [
           "Laos",
           "LAO",
           6.906,
           2.226,
           0.789,
           2.163
          ],
          [
           "Latvia",
           "LVA",
           -1.18,
           1.008,
           0.983,
           3.652
          ],
          [
           "Lebanon",
           "LBN",
           4.675,
           0.462,
           0.109,
           3.947
          ],
          [
           "Lesotho",
           "LSO",
           1.769,
           1.084,
           0.381,
           1.066
          ],
          [
           "Liberia",
           "LBR",
           2.298,
           1.365,
           0.31,
           0.296
          ],
          [
           "Libya",
           "LBY",
           13.47,
           4.596,
           0.294,
           8.238
          ],
          [
           "Liechtenstein",
           "LIE",
           1.053,
           0.526,
           0.263,
           3.972
          ],
          [
           "Lithuania",
           "LTU",
           6.128,
           1.149,
           1.263,
           4.62
          ],
          [
           "Luxembourg",
           "LUX",
           16.874,
           0.95,
           0.518,
           15.697
          ],
          [
           "Madagascar",
           "MDG",
           2.364,
           0.828,
           0.408,
           0.131
          ],
          [
           "Malawi",
           "MWI",
           1.232,
           0.643,
           0.244,
           0.076
          ],
          [
           "Malaysia",
           "MYS",
           5.248,
           1.588,
           0.344,
           8.166
          ],
          [
           "Maldives",
           "MDV",
           4.244,
           0.252,
           0.063,
           3.021
          ],
          [
           "Mali",
           "MLI",
           2.642,
           1.245,
           0.799,
           0.185
          ],
          [
           "Malta",
           "MLT",
           4.404,
           0.505,
           0.115,
           3.223
          ],
          [
           "Marshall Islands",
           "MHL",
           0.69,
           0.517,
           0,
           2.476
          ],
          [
           "Martinique",
           "MTQ",
           null,
           null,
           null,
           6.147
          ],
          [
           "Mauritania",
           "MRT",
           2.738,
           1.669,
           0.797,
           0.609
          ],
          [
           "Mauritius",
           "MUS",
           5.135,
           1.49,
           0.19,
           3.444
          ],
          [
           "Mayotte",
           "MYT",
           null,
           null,
           null,
           1.223
          ],
          [
           "Mexico",
           "MEX",
           5.581,
           1.175,
           0.354,
           3.915
          ],
          [
           "Moldova",
           "MDA",
           2.912,
           0.829,
           0.325,
           1.206
          ],
          [
           "Mongolia",
           "MNG",
           22.12,
           5.602,
           4.169,
           8.287
          ],
          [
           "Montenegro",
           "MNE",
           5.455,
           1.324,
           0.287,
           3.213
          ],
          [
           "Montserrat",
           "MSR",
           null,
           null,
           null,
           5.888
          ],
          [
           "Morocco",
           "MAR",
           2.507,
           0.49,
           0.25,
           1.664
          ],
          [
           "Mozambique",
           "MOZ",
           2.735,
           0.666,
           0.418,
           0.293
          ],
          [
           "Myanmar",
           "MMR",
           4.139,
           1.466,
           0.455,
           0.48
          ],
          [
           "Namibia",
           "NAM",
           8.656,
           1.985,
           1.293,
           1.718
          ],
          [
           "Nauru",
           "NRU",
           8,
           0,
           0,
           4.898
          ],
          [
           "Nepal",
           "NPL",
           2.247,
           1.307,
           0.358,
           0.358
          ],
          [
           "Netherlands",
           "NLD",
           11.011,
           1.109,
           0.502,
           9.712
          ],
          [
           "New Caledonia",
           "NCL",
           null,
           null,
           null,
           19.385
          ],
          [
           "New Zealand",
           "NZL",
           13.55,
           7.042,
           3.215,
           7.363
          ],
          [
           "Nicaragua",
           "NIC",
           3.274,
           1.688,
           0.598,
           0.854
          ],
          [
           "Niger",
           "NER",
           2.054,
           1.328,
           0.537,
           0.099
          ],
          [
           "Nigeria",
           "NGA",
           2.587,
           0.72,
           0.201,
           0.623
          ],
          [
           "Niue",
           "NIU",
           30,
           0,
           0,
           4.549
          ],
          [
           "North Korea",
           "PRK",
           2.59,
           0.731,
           0.096,
           1.162
          ],
          [
           "North Macedonia",
           "MKD",
           4.993,
           1.197,
           0.284,
           3.358
          ],
          [
           "Norway",
           "NOR",
           4.534,
           0.95,
           0.613,
           8.532
          ],
          [
           "Oman",
           "OMN",
           16.964,
           1.192,
           0.167,
           13.464
          ],
          [
           "Pakistan",
           "PAK",
           1.982,
           0.703,
           0.284,
           1.017
          ],
          [
           "Palau",
           "PLW",
           1.667,
           1.111,
           0,
           11.994
          ],
          [
           "Palestine",
           "PSE",
           null,
           null,
           null,
           0.697
          ],
          [
           "Panama",
           "PAN",
           6.673,
           1.33,
           0.332,
           2.615
          ],
          [
           "Papua New Guinea",
           "PNG",
           7.719,
           1.674,
           0.5,
           0.802
          ],
          [
           "Paraguay",
           "PRY",
           28.709,
           4.916,
           1.679,
           1.06
          ],
          [
           "Peru",
           "PER",
           5.46,
           1.015,
           0.313,
           1.705
          ],
          [
           "Philippines",
           "PHL",
           1.441,
           0.632,
           0.13,
           1.179
          ],
          [
           "Poland",
           "POL",
           9.207,
           1.232,
           0.569,
           8.538
          ],
          [
           "Portugal",
           "PRT",
           6.72,
           1.129,
           0.322,
           4.887
          ],
          [
           "Puerto Rico",
           "PRI",
           null,
           null,
           null,
           null
          ],
          [
           "Qatar",
           "QAT",
           34.763,
           2.894,
           0.531,
           33.494
          ],
          [
           "Romania",
           "ROU",
           -2.962,
           1.237,
           0.418,
           3.746
          ],
          [
           "Russia",
           "RUS",
           16.461,
           6.206,
           0.513,
           11.142
          ],
          [
           "Rwanda",
           "RWA",
           0.65,
           0.279,
           0.176,
           0.089
          ],
          [
           "Saint Helena",
           "SHN",
           null,
           null,
           null,
           2.46
          ],
          [
           "Saint Kitts and Nevis",
           "KNA",
           7.115,
           1.538,
           0.385,
           4.613
          ],
          [
           "Saint Lucia",
           "LCA",
           4.5,
           1.5,
           0.167,
           2.707
          ],
          [
           "Saint Pierre and Miquelon",
           "SPM",
           null,
           null,
           null,
           11.116
          ],
          [
           "Saint Vincent and the Grenadines",
           "VCT",
           3.028,
           0.642,
           0.092,
           2.209
          ],
          [
           "Samoa",
           "WSM",
           3.59,
           1.538,
           0.308,
           1.224
          ],
          [
           "Sao Tome and Principe",
           "STP",
           0.985,
           0.148,
           0.099,
           0.613
          ],
          [
           "Saudi Arabia",
           "SAU",
           20.454,
           1.312,
           0.181,
           19.698
          ],
          [
           "Senegal",
           "SEN",
           2.334,
           0.74,
           0.548,
           0.668
          ],
          [
           "Serbia",
           "SRB",
           7.1,
           1.4,
           0.56,
           5.086
          ],
          [
           "Seychelles",
           "SYC",
           13.542,
           0.937,
           0,
           5.589
          ],
          [
           "Sierra Leone",
           "SLE",
           1.854,
           0.703,
           0.224,
           0.124
          ],
          [
           "Singapore",
           "SGP",
           11.187,
           0.697,
           1.595,
           7.124
          ],
          [
           "Sint Maarten (Dutch part)",
           "SXM",
           null,
           null,
           null,
           18.674
          ],
          [
           "Slovakia",
           "SVK",
           6.161,
           0.805,
           0.369,
           6.405
          ],
          [
           "Slovenia",
           "SVN",
           5.299,
           0.969,
           0.386,
           6.955
          ],
          [
           "Solomon Islands",
           "SLB",
           4.41,
           0.646,
           0.048,
           0.467
          ],
          [
           "Somalia",
           "SOM",
           2.837,
           1.365,
           0.465,
           0.045
          ],
          [
           "South Africa",
           "ZAF",
           8.849,
           0.796,
           0.322,
           8.269
          ],
          [
           "South Korea",
           "KOR",
           12.894,
           0.505,
           0.208,
           12.539
          ],
          [
           "South Sudan",
           "SSD",
           null,
           null,
           null,
           0.157
          ],
          [
           "Spain",
           "ESP",
           6.086,
           0.843,
           0.427,
           5.592
          ],
          [
           "Sri Lanka",
           "LKA",
           1.775,
           0.446,
           0.116,
           1.095
          ],
          [
           "Sudan",
           "SDN",
           3.807,
           1.403,
           0.714,
           0.485
          ],
          [
           "Suriname",
           "SUR",
           12.991,
           2.938,
           0.531,
           4.029
          ],
          [
           "Sweden",
           "SWE",
           4.7,
           0.485,
           0.502,
           4.398
          ],
          [
           "Switzerland",
           "CHE",
           5.575,
           0.58,
           0.261,
           4.677
          ],
          [
           "Syria",
           "SYR",
           2.598,
           0.744,
           0.199,
           1.665
          ],
          [
           "Taiwan",
           "TWN",
           null,
           null,
           null,
           11.843
          ],
          [
           "Tajikistan",
           "TJK",
           1.537,
           0.623,
           0.256,
           0.743
          ],
          [
           "Tanzania",
           "TZA",
           6.022,
           1.42,
           0.622,
           0.205
          ],
          [
           "Thailand",
           "THA",
           6.049,
           1.219,
           0.303,
           4.11
          ],
          [
           "Timor",
           "TLS",
           null,
           null,
           null,
           0.406
          ],
          [
           "Togo",
           "TGO",
           2.047,
           0.459,
           0.246,
           0.307
          ],
          [
           "Tonga",
           "TON",
           2.871,
           0.99,
           0.495,
           1.268
          ],
          [
           "Trinidad and Tobago",
           "TTO",
           18.817,
           0.922,
           0.283,
           29.075
          ],
          [
           "Tunisia",
           "TUN",
           3.486,
           0.556,
           0.278,
           2.566
          ],
          [
           "Turkey",
           "TUR",
           4.96,
           0.558,
           0.441,
           5.026
          ],
          [
           "Turkmenistan",
           "TKM",
           22.284,
           8.914,
           0.652,
           12.391
          ],
          [
           "Turks and Caicos Islands",
           "TCA",
           null,
           null,
           null,
           5.913
          ],
          [
           "Tuvalu",
           "TUV",
           0.909,
           0.909,
           0,
           0.652
          ],
          [
           "Uganda",
           "UGA",
           2.045,
           0.844,
           0.397,
           0.121
          ],
          [
           "Ukraine",
           "UKR",
           6.345,
           1.441,
           0.537,
           5.233
          ],
          [
           "United Arab Emirates",
           "ARE",
           27.691,
           5.414,
           0.736,
           22.932
          ],
          [
           "United Kingdom",
           "GBR",
           6.962,
           0.788,
           0.428,
           6.023
          ],
          [
           "United States",
           "USA",
           18.059,
           1.948,
           0.779,
           16.247
          ],
          [
           "Uruguay",
           "URY",
           7.763,
           6.341,
           2.328,
           1.904
          ],
          [
           "Uzbekistan",
           "UZB",
           6.191,
           3.361,
           0.496,
           3.44
          ],
          [
           "Vanuatu",
           "VUT",
           2.986,
           1.763,
           0.647,
           0.527
          ],
          [
           "Venezuela",
           "VEN",
           11.729,
           2.774,
           0.498,
           5.677
          ],
          [
           "Vietnam",
           "VNM",
           3.356,
           0.972,
           0.259,
           2.059
          ],
          [
           "World",
           "OWID_WRL",
           6.613,
           1.146,
           0.409,
           4.75
          ],
          [
           "Yemen",
           "YEM",
           0.868,
           0.3,
           0.124,
           0.384
          ],
          [
           "Zambia",
           "ZMB",
           30.189,
           7.293,
           1.743,
           0.346
          ],
          [
           "Zimbabwe",
           "ZWE",
           4.703,
           0.85,
           0.467,
           0.765
          ]
         ],
         "hovertemplate": "%{customdata[0]} (%{customdata[1]})<br>Greenhouse Gas Emissions per Capita: %{customdata[2]}<br>Methane Emissions per Capita: %{customdata[3]}<br>Nitrous Oxide Emissions per Capita: %{customdata[4]}<br>CO<sub>2</sub> Emissions per Capita: %{customdata[5]}<br><extra></extra>",
         "locations": [
          "AFG",
          "ALB",
          "DZA",
          "AND",
          "AGO",
          "AIA",
          "ATA",
          "ATG",
          "ARG",
          "ARM",
          "ABW",
          "AUS",
          "AUT",
          "AZE",
          "BHS",
          "BHR",
          "BGD",
          "BRB",
          "BLR",
          "BEL",
          "BLZ",
          "BEN",
          "BMU",
          "BTN",
          "BOL",
          "BES",
          "BIH",
          "BWA",
          "BRA",
          "VGB",
          "BRN",
          "BGR",
          "BFA",
          "BDI",
          "KHM",
          "CMR",
          "CAN",
          "CPV",
          "CAF",
          "TCD",
          "CHL",
          "CHN",
          "CXR",
          "COL",
          "COM",
          "COG",
          "COK",
          "CRI",
          "CIV",
          "HRV",
          "CUB",
          "CUW",
          "CYP",
          "CZE",
          "COD",
          "DNK",
          "DJI",
          "DMA",
          "DOM",
          "ECU",
          "EGY",
          "SLV",
          "GNQ",
          "ERI",
          "EST",
          "SWZ",
          "ETH",
          "FRO",
          "FJI",
          "FIN",
          "FRA",
          "GUF",
          "PYF",
          "GAB",
          "GMB",
          "GEO",
          "DEU",
          "GHA",
          "GRC",
          "GRL",
          "GRD",
          "GLP",
          "GTM",
          "GIN",
          "GNB",
          "GUY",
          "HTI",
          "HND",
          "HKG",
          "HUN",
          "ISL",
          "IND",
          "IDN",
          "IRN",
          "IRQ",
          "IRL",
          "ISR",
          "ITA",
          "JAM",
          "JPN",
          "JOR",
          "KAZ",
          "KEN",
          "KIR",
          "OWID_KOS",
          "KWT",
          "KGZ",
          "LAO",
          "LVA",
          "LBN",
          "LSO",
          "LBR",
          "LBY",
          "LIE",
          "LTU",
          "LUX",
          "MDG",
          "MWI",
          "MYS",
          "MDV",
          "MLI",
          "MLT",
          "MHL",
          "MTQ",
          "MRT",
          "MUS",
          "MYT",
          "MEX",
          "MDA",
          "MNG",
          "MNE",
          "MSR",
          "MAR",
          "MOZ",
          "MMR",
          "NAM",
          "NRU",
          "NPL",
          "NLD",
          "NCL",
          "NZL",
          "NIC",
          "NER",
          "NGA",
          "NIU",
          "PRK",
          "MKD",
          "NOR",
          "OMN",
          "PAK",
          "PLW",
          "PSE",
          "PAN",
          "PNG",
          "PRY",
          "PER",
          "PHL",
          "POL",
          "PRT",
          "PRI",
          "QAT",
          "ROU",
          "RUS",
          "RWA",
          "SHN",
          "KNA",
          "LCA",
          "SPM",
          "VCT",
          "WSM",
          "STP",
          "SAU",
          "SEN",
          "SRB",
          "SYC",
          "SLE",
          "SGP",
          "SXM",
          "SVK",
          "SVN",
          "SLB",
          "SOM",
          "ZAF",
          "KOR",
          "SSD",
          "ESP",
          "LKA",
          "SDN",
          "SUR",
          "SWE",
          "CHE",
          "SYR",
          "TWN",
          "TJK",
          "TZA",
          "THA",
          "TLS",
          "TGO",
          "TON",
          "TTO",
          "TUN",
          "TUR",
          "TKM",
          "TCA",
          "TUV",
          "UGA",
          "UKR",
          "ARE",
          "GBR",
          "USA",
          "URY",
          "UZB",
          "VUT",
          "VEN",
          "VNM",
          "OWID_WRL",
          "YEM",
          "ZMB",
          "ZWE"
         ],
         "marker": {
          "line": {
           "width": 0.1
          }
         },
         "reversescale": true,
         "type": "choropleth",
         "visible": true,
         "z": [
          2.73,
          3.184,
          5.181,
          1.299,
          6.245,
          null,
          null,
          14.526,
          11.08,
          3.222,
          null,
          21.394,
          8.214,
          7.599,
          10.503,
          33.008,
          1.327,
          15.21,
          8.543,
          9.455,
          13.207,
          2.44,
          null,
          -2.469,
          13.682,
          null,
          8.048,
          32.403,
          6.691,
          null,
          40,
          6.162,
          2.072,
          0.738,
          4.15,
          8.709,
          21.419,
          1.751,
          16.688,
          7.002,
          0.205,
          8.187,
          null,
          4.816,
          0.754,
          9.992,
          6.111,
          0.945,
          1.308,
          4.5,
          2.403,
          null,
          7.06,
          10.525,
          2.854,
          8.17,
          2.239,
          5.352,
          2.779,
          5.978,
          3.287,
          2.121,
          19.111,
          2.357,
          15.475,
          2.908,
          1.821,
          null,
          1.101,
          11.488,
          5.097,
          null,
          null,
          -42.311,
          1.117,
          4.291,
          9.839,
          1.792,
          8.136,
          null,
          21.091,
          null,
          2.641,
          3.885,
          2.363,
          48.534,
          0.926,
          5.553,
          null,
          6.283,
          9.608,
          2.443,
          8.522,
          10.909,
          5.228,
          13.965,
          11.109,
          6.093,
          3.304,
          9.892,
          3.739,
          16.209,
          0.974,
          0.708,
          null,
          28.302,
          2.634,
          6.906,
          -1.18,
          4.675,
          1.769,
          2.298,
          13.47,
          1.053,
          6.128,
          16.874,
          2.364,
          1.232,
          5.248,
          4.244,
          2.642,
          4.404,
          0.69,
          null,
          2.738,
          5.135,
          null,
          5.581,
          2.912,
          22.12,
          5.455,
          null,
          2.507,
          2.735,
          4.139,
          8.656,
          8,
          2.247,
          11.011,
          null,
          13.55,
          3.274,
          2.054,
          2.587,
          30,
          2.59,
          4.993,
          4.534,
          16.964,
          1.982,
          1.667,
          null,
          6.673,
          7.719,
          28.709,
          5.46,
          1.441,
          9.207,
          6.72,
          null,
          34.763,
          -2.962,
          16.461,
          0.65,
          null,
          7.115,
          4.5,
          null,
          3.028,
          3.59,
          0.985,
          20.454,
          2.334,
          7.1,
          13.542,
          1.854,
          11.187,
          null,
          6.161,
          5.299,
          4.41,
          2.837,
          8.849,
          12.894,
          null,
          6.086,
          1.775,
          3.807,
          12.991,
          4.7,
          5.575,
          2.598,
          null,
          1.537,
          6.022,
          6.049,
          null,
          2.047,
          2.871,
          18.817,
          3.486,
          4.96,
          22.284,
          null,
          0.909,
          2.045,
          6.345,
          27.691,
          6.962,
          18.059,
          7.763,
          6.191,
          2.986,
          11.729,
          3.356,
          6.613,
          0.868,
          30.189,
          4.703
         ],
         "zmax": 16.964,
         "zmin": 1.232
        },
        {
         "colorbar": {
          "title": {
           "text": "Methane<br>Emissions<br>per Capita"
          }
         },
         "colorscale": [
          [
           0,
           "rgb(165,0,38)"
          ],
          [
           0.1,
           "rgb(215,48,39)"
          ],
          [
           0.2,
           "rgb(244,109,67)"
          ],
          [
           0.3,
           "rgb(253,174,97)"
          ],
          [
           0.4,
           "rgb(254,224,139)"
          ],
          [
           0.5,
           "rgb(255,255,191)"
          ],
          [
           0.6,
           "rgb(217,239,139)"
          ],
          [
           0.7,
           "rgb(166,217,106)"
          ],
          [
           0.8,
           "rgb(102,189,99)"
          ],
          [
           0.9,
           "rgb(26,152,80)"
          ],
          [
           1,
           "rgb(0,104,55)"
          ]
         ],
         "customdata": [
          [
           "Afghanistan",
           "AFG",
           2.73,
           2.209,
           0.258,
           0.191
          ],
          [
           "Albania",
           "ALB",
           3.184,
           1.126,
           0.437,
           1.556
          ],
          [
           "Algeria",
           "DZA",
           5.181,
           1.219,
           0.294,
           3.673
          ],
          [
           "Andorra",
           "AND",
           1.299,
           0.649,
           0,
           6.068
          ],
          [
           "Angola",
           "AGO",
           6.245,
           1.789,
           0.728,
           1.089
          ],
          [
           "Anguilla",
           "AIA",
           null,
           null,
           null,
           10.661
          ],
          [
           "Antarctica",
           "ATA",
           null,
           null,
           null,
           null
          ],
          [
           "Antigua and Barbuda",
           "ATG",
           14.526,
           2.105,
           0.211,
           5.194
          ],
          [
           "Argentina",
           "ARG",
           11.08,
           2.794,
           1.111,
           4.389
          ],
          [
           "Armenia",
           "ARM",
           3.222,
           0.875,
           0.552,
           1.772
          ],
          [
           "Aruba",
           "ABW",
           null,
           null,
           null,
           8.421
          ],
          [
           "Australia",
           "AUS",
           21.394,
           5.033,
           2.357,
           17.143
          ],
          [
           "Austria",
           "AUT",
           8.214,
           0.776,
           0.423,
           7.684
          ],
          [
           "Azerbaijan",
           "AZE",
           7.599,
           4.604,
           0.37,
           3.806
          ],
          [
           "Bahamas",
           "BHS",
           10.503,
           0.899,
           0.317,
           5.235
          ],
          [
           "Bahrain",
           "BHR",
           33.008,
           9.986,
           0.049,
           22.004
          ],
          [
           "Bangladesh",
           "BGD",
           1.327,
           0.509,
           0.173,
           0.484
          ],
          [
           "Barbados",
           "BRB",
           15.21,
           8.147,
           0.175,
           4.49
          ],
          [
           "Belarus",
           "BLR",
           8.543,
           1.756,
           1.25,
           6.336
          ],
          [
           "Belgium",
           "BEL",
           9.455,
           0.744,
           0.395,
           8.796
          ],
          [
           "Belize",
           "BLZ",
           13.207,
           2.772,
           0.897,
           1.691
          ],
          [
           "Benin",
           "BEN",
           2.44,
           0.532,
           0.275,
           0.607
          ],
          [
           "Bermuda",
           "BMU",
           null,
           null,
           null,
           9.773
          ],
          [
           "Bhutan",
           "BTN",
           -2.469,
           1.208,
           0.258,
           1.57
          ],
          [
           "Bolivia",
           "BOL",
           13.682,
           2.994,
           1.073,
           2.066
          ],
          [
           "Bonaire Sint Eustatius and Saba",
           "BES",
           null,
           null,
           null,
           13.474
          ],
          [
           "Bosnia and Herzegovina",
           "BIH",
           8.048,
           1.025,
           0.357,
           6.418
          ],
          [
           "Botswana",
           "BWA",
           32.403,
           7.037,
           1.87,
           2.932
          ],
          [
           "Brazil",
           "BRA",
           6.691,
           2.159,
           0.887,
           2.39
          ],
          [
           "British Virgin Islands",
           "VGB",
           null,
           null,
           null,
           7.239
          ],
          [
           "Brunei",
           "BRN",
           40,
           22.119,
           0.381,
           17.971
          ],
          [
           "Bulgaria",
           "BGR",
           6.162,
           0.993,
           0.561,
           6.362
          ],
          [
           "Burkina Faso",
           "BFA",
           2.072,
           0.829,
           0.531,
           0.181
          ],
          [
           "Burundi",
           "BDI",
           0.738,
           0.187,
           0.176,
           0.045
          ],
          [
           "Cambodia",
           "KHM",
           4.15,
           1.621,
           0.424,
           0.668
          ],
          [
           "Cameroon",
           "CMR",
           8.709,
           0.763,
           2.662,
           0.327
          ],
          [
           "Canada",
           "CAN",
           21.419,
           2.903,
           1.219,
           15.38
          ],
          [
           "Cape Verde",
           "CPV",
           1.751,
           0.245,
           0.151,
           1.014
          ],
          [
           "Central African Republic",
           "CAF",
           16.688,
           5.93,
           7.62,
           0.044
          ],
          [
           "Chad",
           "TCD",
           7.002,
           3.539,
           1.682,
           0.07
          ],
          [
           "Chile",
           "CHL",
           0.205,
           0.727,
           0.359,
           4.635
          ],
          [
           "China",
           "CHN",
           8.187,
           0.895,
           0.394,
           6.874
          ],
          [
           "Christmas Island",
           "CXR",
           null,
           null,
           null,
           null
          ],
          [
           "Colombia",
           "COL",
           4.816,
           1.641,
           0.443,
           1.936
          ],
          [
           "Comoros",
           "COM",
           0.754,
           0.352,
           0.063,
           0.272
          ],
          [
           "Congo",
           "COG",
           9.992,
           2.594,
           0.803,
           0.743
          ],
          [
           "Cook Islands",
           "COK",
           6.111,
           0.556,
           0,
           3.973
          ],
          [
           "Costa Rica",
           "CRI",
           0.945,
           1.025,
           0.412,
           1.617
          ],
          [
           "Cote d'Ivoire",
           "CIV",
           1.308,
           0.317,
           0.162,
           0.495
          ],
          [
           "Croatia",
           "HRV",
           4.5,
           0.889,
           0.387,
           4.297
          ],
          [
           "Cuba",
           "CUB",
           2.403,
           1.151,
           0.332,
           2.486
          ],
          [
           "Curacao",
           "CUW",
           null,
           null,
           null,
           36.013
          ],
          [
           "Cyprus",
           "CYP",
           7.06,
           0.615,
           0.308,
           6.301
          ],
          [
           "Czechia",
           "CZE",
           10.525,
           1.171,
           0.527,
           10.047
          ],
          [
           "Democratic Republic of Congo",
           "COD",
           2.854,
           0.676,
           0.272,
           0.026
          ],
          [
           "Denmark",
           "DNK",
           8.17,
           1.255,
           0.89,
           6.48
          ],
          [
           "Djibouti",
           "DJI",
           2.239,
           0.732,
           0.291,
           0.43
          ],
          [
           "Dominica",
           "DMA",
           5.352,
           0.704,
           0.282,
           2.518
          ],
          [
           "Dominican Republic",
           "DOM",
           2.779,
           0.877,
           0.299,
           2.37
          ],
          [
           "Ecuador",
           "ECU",
           5.978,
           1.247,
           0.291,
           2.396
          ],
          [
           "Egypt",
           "EGY",
           3.287,
           0.596,
           0.24,
           2.479
          ],
          [
           "El Salvador",
           "SLV",
           2.121,
           0.634,
           0.194,
           1.046
          ],
          [
           "Equatorial Guinea",
           "GNQ",
           19.111,
           10.897,
           0.033,
           9.371
          ],
          [
           "Eritrea",
           "ERI",
           2.357,
           1.09,
           0.841,
           0.191
          ],
          [
           "Estonia",
           "EST",
           15.475,
           0.835,
           1.017,
           13.344
          ],
          [
           "Eswatini",
           "SWZ",
           2.908,
           1.338,
           0.395,
           0.947
          ],
          [
           "Ethiopia",
           "ETH",
           1.821,
           1.021,
           0.489,
           0.138
          ],
          [
           "Faeroe Islands",
           "FRO",
           null,
           null,
           null,
           13.082
          ],
          [
           "Fiji",
           "FJI",
           1.101,
           1.25,
           0.413,
           1.444
          ],
          [
           "Finland",
           "FIN",
           11.488,
           0.817,
           0.844,
           8.591
          ],
          [
           "France",
           "FRA",
           5.097,
           0.926,
           0.581,
           5.158
          ],
          [
           "French Guiana",
           "GUF",
           null,
           null,
           null,
           2.682
          ],
          [
           "French Polynesia",
           "PYF",
           null,
           null,
           null,
           2.762
          ],
          [
           "Gabon",
           "GAB",
           -42.311,
           0.727,
           0.274,
           2.71
          ],
          [
           "Gambia",
           "GMB",
           1.117,
           0.768,
           0.186,
           0.247
          ],
          [
           "Georgia",
           "GEO",
           4.291,
           1.342,
           0.553,
           2.507
          ],
          [
           "Germany",
           "DEU",
           9.839,
           0.675,
           0.433,
           9.742
          ],
          [
           "Ghana",
           "GHA",
           1.792,
           0.751,
           0.229,
           0.581
          ],
          [
           "Greece",
           "GRC",
           8.136,
           0.896,
           0.426,
           6.724
          ],
          [
           "Greenland",
           "GRL",
           null,
           null,
           null,
           9.306
          ],
          [
           "Grenada",
           "GRD",
           21.091,
           18.273,
           0.091,
           2.426
          ],
          [
           "Guadeloupe",
           "GLP",
           null,
           null,
           null,
           6.32
          ],
          [
           "Guatemala",
           "GTM",
           2.641,
           0.777,
           0.325,
           1.02
          ],
          [
           "Guinea",
           "GIN",
           3.885,
           1.582,
           0.639,
           0.234
          ],
          [
           "Guinea-Bissau",
           "GNB",
           2.363,
           0.802,
           0.438,
           0.171
          ],
          [
           "Guyana",
           "GUY",
           48.534,
           7.289,
           1.855,
           3.04
          ],
          [
           "Haiti",
           "HTI",
           0.926,
           0.43,
           0.148,
           0.275
          ],
          [
           "Honduras",
           "HND",
           5.553,
           1.002,
           0.375,
           1.002
          ],
          [
           "Hong Kong",
           "HKG",
           null,
           null,
           null,
           5.99
          ],
          [
           "Hungary",
           "HUN",
           6.283,
           0.738,
           0.568,
           4.826
          ],
          [
           "Iceland",
           "ISL",
           9.608,
           1.657,
           1.205,
           10.498
          ],
          [
           "India",
           "IND",
           2.443,
           0.501,
           0.187,
           1.799
          ],
          [
           "Indonesia",
           "IDN",
           8.522,
           1.118,
           0.354,
           2.144
          ],
          [
           "Iran",
           "IRN",
           10.909,
           1.799,
           0.468,
           8.011
          ],
          [
           "Iraq",
           "IRQ",
           5.228,
           0.435,
           0.132,
           5.309
          ],
          [
           "Ireland",
           "IRL",
           13.965,
           3.511,
           2.006,
           8.551
          ],
          [
           "Israel",
           "ISR",
           11.109,
           1.447,
           0.28,
           7.55
          ],
          [
           "Italy",
           "ITA",
           6.093,
           0.738,
           0.298,
           5.902
          ],
          [
           "Jamaica",
           "JAM",
           3.304,
           0.282,
           0.141,
           2.809
          ],
          [
           "Japan",
           "JPN",
           9.892,
           0.168,
           0.142,
           9.422
          ],
          [
           "Jordan",
           "JOR",
           3.739,
           0.633,
           0.136,
           2.548
          ],
          [
           "Kazakhstan",
           "KAZ",
           16.209,
           2.249,
           0.566,
           16.19
          ],
          [
           "Kenya",
           "KEN",
           0.974,
           0.828,
           0.383,
           0.35
          ],
          [
           "Kiribati",
           "KIR",
           0.708,
           0.177,
           0.088,
           0.488
          ],
          [
           "Kosovo",
           "OWID_KOS",
           null,
           null,
           null,
           null
          ],
          [
           "Kuwait",
           "KWT",
           28.302,
           1.483,
           0.177,
           25.49
          ],
          [
           "Kyrgyzstan",
           "KGZ",
           2.634,
           0.79,
           0.326,
           1.588
          ],
          [
           "Laos",
           "LAO",
           6.906,
           2.226,
           0.789,
           2.163
          ],
          [
           "Latvia",
           "LVA",
           -1.18,
           1.008,
           0.983,
           3.652
          ],
          [
           "Lebanon",
           "LBN",
           4.675,
           0.462,
           0.109,
           3.947
          ],
          [
           "Lesotho",
           "LSO",
           1.769,
           1.084,
           0.381,
           1.066
          ],
          [
           "Liberia",
           "LBR",
           2.298,
           1.365,
           0.31,
           0.296
          ],
          [
           "Libya",
           "LBY",
           13.47,
           4.596,
           0.294,
           8.238
          ],
          [
           "Liechtenstein",
           "LIE",
           1.053,
           0.526,
           0.263,
           3.972
          ],
          [
           "Lithuania",
           "LTU",
           6.128,
           1.149,
           1.263,
           4.62
          ],
          [
           "Luxembourg",
           "LUX",
           16.874,
           0.95,
           0.518,
           15.697
          ],
          [
           "Madagascar",
           "MDG",
           2.364,
           0.828,
           0.408,
           0.131
          ],
          [
           "Malawi",
           "MWI",
           1.232,
           0.643,
           0.244,
           0.076
          ],
          [
           "Malaysia",
           "MYS",
           5.248,
           1.588,
           0.344,
           8.166
          ],
          [
           "Maldives",
           "MDV",
           4.244,
           0.252,
           0.063,
           3.021
          ],
          [
           "Mali",
           "MLI",
           2.642,
           1.245,
           0.799,
           0.185
          ],
          [
           "Malta",
           "MLT",
           4.404,
           0.505,
           0.115,
           3.223
          ],
          [
           "Marshall Islands",
           "MHL",
           0.69,
           0.517,
           0,
           2.476
          ],
          [
           "Martinique",
           "MTQ",
           null,
           null,
           null,
           6.147
          ],
          [
           "Mauritania",
           "MRT",
           2.738,
           1.669,
           0.797,
           0.609
          ],
          [
           "Mauritius",
           "MUS",
           5.135,
           1.49,
           0.19,
           3.444
          ],
          [
           "Mayotte",
           "MYT",
           null,
           null,
           null,
           1.223
          ],
          [
           "Mexico",
           "MEX",
           5.581,
           1.175,
           0.354,
           3.915
          ],
          [
           "Moldova",
           "MDA",
           2.912,
           0.829,
           0.325,
           1.206
          ],
          [
           "Mongolia",
           "MNG",
           22.12,
           5.602,
           4.169,
           8.287
          ],
          [
           "Montenegro",
           "MNE",
           5.455,
           1.324,
           0.287,
           3.213
          ],
          [
           "Montserrat",
           "MSR",
           null,
           null,
           null,
           5.888
          ],
          [
           "Morocco",
           "MAR",
           2.507,
           0.49,
           0.25,
           1.664
          ],
          [
           "Mozambique",
           "MOZ",
           2.735,
           0.666,
           0.418,
           0.293
          ],
          [
           "Myanmar",
           "MMR",
           4.139,
           1.466,
           0.455,
           0.48
          ],
          [
           "Namibia",
           "NAM",
           8.656,
           1.985,
           1.293,
           1.718
          ],
          [
           "Nauru",
           "NRU",
           8,
           0,
           0,
           4.898
          ],
          [
           "Nepal",
           "NPL",
           2.247,
           1.307,
           0.358,
           0.358
          ],
          [
           "Netherlands",
           "NLD",
           11.011,
           1.109,
           0.502,
           9.712
          ],
          [
           "New Caledonia",
           "NCL",
           null,
           null,
           null,
           19.385
          ],
          [
           "New Zealand",
           "NZL",
           13.55,
           7.042,
           3.215,
           7.363
          ],
          [
           "Nicaragua",
           "NIC",
           3.274,
           1.688,
           0.598,
           0.854
          ],
          [
           "Niger",
           "NER",
           2.054,
           1.328,
           0.537,
           0.099
          ],
          [
           "Nigeria",
           "NGA",
           2.587,
           0.72,
           0.201,
           0.623
          ],
          [
           "Niue",
           "NIU",
           30,
           0,
           0,
           4.549
          ],
          [
           "North Korea",
           "PRK",
           2.59,
           0.731,
           0.096,
           1.162
          ],
          [
           "North Macedonia",
           "MKD",
           4.993,
           1.197,
           0.284,
           3.358
          ],
          [
           "Norway",
           "NOR",
           4.534,
           0.95,
           0.613,
           8.532
          ],
          [
           "Oman",
           "OMN",
           16.964,
           1.192,
           0.167,
           13.464
          ],
          [
           "Pakistan",
           "PAK",
           1.982,
           0.703,
           0.284,
           1.017
          ],
          [
           "Palau",
           "PLW",
           1.667,
           1.111,
           0,
           11.994
          ],
          [
           "Palestine",
           "PSE",
           null,
           null,
           null,
           0.697
          ],
          [
           "Panama",
           "PAN",
           6.673,
           1.33,
           0.332,
           2.615
          ],
          [
           "Papua New Guinea",
           "PNG",
           7.719,
           1.674,
           0.5,
           0.802
          ],
          [
           "Paraguay",
           "PRY",
           28.709,
           4.916,
           1.679,
           1.06
          ],
          [
           "Peru",
           "PER",
           5.46,
           1.015,
           0.313,
           1.705
          ],
          [
           "Philippines",
           "PHL",
           1.441,
           0.632,
           0.13,
           1.179
          ],
          [
           "Poland",
           "POL",
           9.207,
           1.232,
           0.569,
           8.538
          ],
          [
           "Portugal",
           "PRT",
           6.72,
           1.129,
           0.322,
           4.887
          ],
          [
           "Puerto Rico",
           "PRI",
           null,
           null,
           null,
           null
          ],
          [
           "Qatar",
           "QAT",
           34.763,
           2.894,
           0.531,
           33.494
          ],
          [
           "Romania",
           "ROU",
           -2.962,
           1.237,
           0.418,
           3.746
          ],
          [
           "Russia",
           "RUS",
           16.461,
           6.206,
           0.513,
           11.142
          ],
          [
           "Rwanda",
           "RWA",
           0.65,
           0.279,
           0.176,
           0.089
          ],
          [
           "Saint Helena",
           "SHN",
           null,
           null,
           null,
           2.46
          ],
          [
           "Saint Kitts and Nevis",
           "KNA",
           7.115,
           1.538,
           0.385,
           4.613
          ],
          [
           "Saint Lucia",
           "LCA",
           4.5,
           1.5,
           0.167,
           2.707
          ],
          [
           "Saint Pierre and Miquelon",
           "SPM",
           null,
           null,
           null,
           11.116
          ],
          [
           "Saint Vincent and the Grenadines",
           "VCT",
           3.028,
           0.642,
           0.092,
           2.209
          ],
          [
           "Samoa",
           "WSM",
           3.59,
           1.538,
           0.308,
           1.224
          ],
          [
           "Sao Tome and Principe",
           "STP",
           0.985,
           0.148,
           0.099,
           0.613
          ],
          [
           "Saudi Arabia",
           "SAU",
           20.454,
           1.312,
           0.181,
           19.698
          ],
          [
           "Senegal",
           "SEN",
           2.334,
           0.74,
           0.548,
           0.668
          ],
          [
           "Serbia",
           "SRB",
           7.1,
           1.4,
           0.56,
           5.086
          ],
          [
           "Seychelles",
           "SYC",
           13.542,
           0.937,
           0,
           5.589
          ],
          [
           "Sierra Leone",
           "SLE",
           1.854,
           0.703,
           0.224,
           0.124
          ],
          [
           "Singapore",
           "SGP",
           11.187,
           0.697,
           1.595,
           7.124
          ],
          [
           "Sint Maarten (Dutch part)",
           "SXM",
           null,
           null,
           null,
           18.674
          ],
          [
           "Slovakia",
           "SVK",
           6.161,
           0.805,
           0.369,
           6.405
          ],
          [
           "Slovenia",
           "SVN",
           5.299,
           0.969,
           0.386,
           6.955
          ],
          [
           "Solomon Islands",
           "SLB",
           4.41,
           0.646,
           0.048,
           0.467
          ],
          [
           "Somalia",
           "SOM",
           2.837,
           1.365,
           0.465,
           0.045
          ],
          [
           "South Africa",
           "ZAF",
           8.849,
           0.796,
           0.322,
           8.269
          ],
          [
           "South Korea",
           "KOR",
           12.894,
           0.505,
           0.208,
           12.539
          ],
          [
           "South Sudan",
           "SSD",
           null,
           null,
           null,
           0.157
          ],
          [
           "Spain",
           "ESP",
           6.086,
           0.843,
           0.427,
           5.592
          ],
          [
           "Sri Lanka",
           "LKA",
           1.775,
           0.446,
           0.116,
           1.095
          ],
          [
           "Sudan",
           "SDN",
           3.807,
           1.403,
           0.714,
           0.485
          ],
          [
           "Suriname",
           "SUR",
           12.991,
           2.938,
           0.531,
           4.029
          ],
          [
           "Sweden",
           "SWE",
           4.7,
           0.485,
           0.502,
           4.398
          ],
          [
           "Switzerland",
           "CHE",
           5.575,
           0.58,
           0.261,
           4.677
          ],
          [
           "Syria",
           "SYR",
           2.598,
           0.744,
           0.199,
           1.665
          ],
          [
           "Taiwan",
           "TWN",
           null,
           null,
           null,
           11.843
          ],
          [
           "Tajikistan",
           "TJK",
           1.537,
           0.623,
           0.256,
           0.743
          ],
          [
           "Tanzania",
           "TZA",
           6.022,
           1.42,
           0.622,
           0.205
          ],
          [
           "Thailand",
           "THA",
           6.049,
           1.219,
           0.303,
           4.11
          ],
          [
           "Timor",
           "TLS",
           null,
           null,
           null,
           0.406
          ],
          [
           "Togo",
           "TGO",
           2.047,
           0.459,
           0.246,
           0.307
          ],
          [
           "Tonga",
           "TON",
           2.871,
           0.99,
           0.495,
           1.268
          ],
          [
           "Trinidad and Tobago",
           "TTO",
           18.817,
           0.922,
           0.283,
           29.075
          ],
          [
           "Tunisia",
           "TUN",
           3.486,
           0.556,
           0.278,
           2.566
          ],
          [
           "Turkey",
           "TUR",
           4.96,
           0.558,
           0.441,
           5.026
          ],
          [
           "Turkmenistan",
           "TKM",
           22.284,
           8.914,
           0.652,
           12.391
          ],
          [
           "Turks and Caicos Islands",
           "TCA",
           null,
           null,
           null,
           5.913
          ],
          [
           "Tuvalu",
           "TUV",
           0.909,
           0.909,
           0,
           0.652
          ],
          [
           "Uganda",
           "UGA",
           2.045,
           0.844,
           0.397,
           0.121
          ],
          [
           "Ukraine",
           "UKR",
           6.345,
           1.441,
           0.537,
           5.233
          ],
          [
           "United Arab Emirates",
           "ARE",
           27.691,
           5.414,
           0.736,
           22.932
          ],
          [
           "United Kingdom",
           "GBR",
           6.962,
           0.788,
           0.428,
           6.023
          ],
          [
           "United States",
           "USA",
           18.059,
           1.948,
           0.779,
           16.247
          ],
          [
           "Uruguay",
           "URY",
           7.763,
           6.341,
           2.328,
           1.904
          ],
          [
           "Uzbekistan",
           "UZB",
           6.191,
           3.361,
           0.496,
           3.44
          ],
          [
           "Vanuatu",
           "VUT",
           2.986,
           1.763,
           0.647,
           0.527
          ],
          [
           "Venezuela",
           "VEN",
           11.729,
           2.774,
           0.498,
           5.677
          ],
          [
           "Vietnam",
           "VNM",
           3.356,
           0.972,
           0.259,
           2.059
          ],
          [
           "World",
           "OWID_WRL",
           6.613,
           1.146,
           0.409,
           4.75
          ],
          [
           "Yemen",
           "YEM",
           0.868,
           0.3,
           0.124,
           0.384
          ],
          [
           "Zambia",
           "ZMB",
           30.189,
           7.293,
           1.743,
           0.346
          ],
          [
           "Zimbabwe",
           "ZWE",
           4.703,
           0.85,
           0.467,
           0.765
          ]
         ],
         "hovertemplate": "%{customdata[0]} (%{customdata[1]})<br>Greenhouse Gas Emissions per Capita: %{customdata[2]}<br>Methane Emissions per Capita: %{customdata[3]}<br>Nitrous Oxide Emissions per Capita: %{customdata[4]}<br>CO<sub>2</sub> Emissions per Capita: %{customdata[5]}<br><extra></extra>",
         "locations": [
          "AFG",
          "ALB",
          "DZA",
          "AND",
          "AGO",
          "AIA",
          "ATA",
          "ATG",
          "ARG",
          "ARM",
          "ABW",
          "AUS",
          "AUT",
          "AZE",
          "BHS",
          "BHR",
          "BGD",
          "BRB",
          "BLR",
          "BEL",
          "BLZ",
          "BEN",
          "BMU",
          "BTN",
          "BOL",
          "BES",
          "BIH",
          "BWA",
          "BRA",
          "VGB",
          "BRN",
          "BGR",
          "BFA",
          "BDI",
          "KHM",
          "CMR",
          "CAN",
          "CPV",
          "CAF",
          "TCD",
          "CHL",
          "CHN",
          "CXR",
          "COL",
          "COM",
          "COG",
          "COK",
          "CRI",
          "CIV",
          "HRV",
          "CUB",
          "CUW",
          "CYP",
          "CZE",
          "COD",
          "DNK",
          "DJI",
          "DMA",
          "DOM",
          "ECU",
          "EGY",
          "SLV",
          "GNQ",
          "ERI",
          "EST",
          "SWZ",
          "ETH",
          "FRO",
          "FJI",
          "FIN",
          "FRA",
          "GUF",
          "PYF",
          "GAB",
          "GMB",
          "GEO",
          "DEU",
          "GHA",
          "GRC",
          "GRL",
          "GRD",
          "GLP",
          "GTM",
          "GIN",
          "GNB",
          "GUY",
          "HTI",
          "HND",
          "HKG",
          "HUN",
          "ISL",
          "IND",
          "IDN",
          "IRN",
          "IRQ",
          "IRL",
          "ISR",
          "ITA",
          "JAM",
          "JPN",
          "JOR",
          "KAZ",
          "KEN",
          "KIR",
          "OWID_KOS",
          "KWT",
          "KGZ",
          "LAO",
          "LVA",
          "LBN",
          "LSO",
          "LBR",
          "LBY",
          "LIE",
          "LTU",
          "LUX",
          "MDG",
          "MWI",
          "MYS",
          "MDV",
          "MLI",
          "MLT",
          "MHL",
          "MTQ",
          "MRT",
          "MUS",
          "MYT",
          "MEX",
          "MDA",
          "MNG",
          "MNE",
          "MSR",
          "MAR",
          "MOZ",
          "MMR",
          "NAM",
          "NRU",
          "NPL",
          "NLD",
          "NCL",
          "NZL",
          "NIC",
          "NER",
          "NGA",
          "NIU",
          "PRK",
          "MKD",
          "NOR",
          "OMN",
          "PAK",
          "PLW",
          "PSE",
          "PAN",
          "PNG",
          "PRY",
          "PER",
          "PHL",
          "POL",
          "PRT",
          "PRI",
          "QAT",
          "ROU",
          "RUS",
          "RWA",
          "SHN",
          "KNA",
          "LCA",
          "SPM",
          "VCT",
          "WSM",
          "STP",
          "SAU",
          "SEN",
          "SRB",
          "SYC",
          "SLE",
          "SGP",
          "SXM",
          "SVK",
          "SVN",
          "SLB",
          "SOM",
          "ZAF",
          "KOR",
          "SSD",
          "ESP",
          "LKA",
          "SDN",
          "SUR",
          "SWE",
          "CHE",
          "SYR",
          "TWN",
          "TJK",
          "TZA",
          "THA",
          "TLS",
          "TGO",
          "TON",
          "TTO",
          "TUN",
          "TUR",
          "TKM",
          "TCA",
          "TUV",
          "UGA",
          "UKR",
          "ARE",
          "GBR",
          "USA",
          "URY",
          "UZB",
          "VUT",
          "VEN",
          "VNM",
          "OWID_WRL",
          "YEM",
          "ZMB",
          "ZWE"
         ],
         "marker": {
          "line": {
           "width": 0.1
          }
         },
         "reversescale": true,
         "type": "choropleth",
         "visible": false,
         "z": [
          2.209,
          1.126,
          1.219,
          0.649,
          1.789,
          null,
          null,
          2.105,
          2.794,
          0.875,
          null,
          5.033,
          0.776,
          4.604,
          0.899,
          9.986,
          0.509,
          8.147,
          1.756,
          0.744,
          2.772,
          0.532,
          null,
          1.208,
          2.994,
          null,
          1.025,
          7.037,
          2.159,
          null,
          22.119,
          0.993,
          0.829,
          0.187,
          1.621,
          0.763,
          2.903,
          0.245,
          5.93,
          3.539,
          0.727,
          0.895,
          null,
          1.641,
          0.352,
          2.594,
          0.556,
          1.025,
          0.317,
          0.889,
          1.151,
          null,
          0.615,
          1.171,
          0.676,
          1.255,
          0.732,
          0.704,
          0.877,
          1.247,
          0.596,
          0.634,
          10.897,
          1.09,
          0.835,
          1.338,
          1.021,
          null,
          1.25,
          0.817,
          0.926,
          null,
          null,
          0.727,
          0.768,
          1.342,
          0.675,
          0.751,
          0.896,
          null,
          18.273,
          null,
          0.777,
          1.582,
          0.802,
          7.289,
          0.43,
          1.002,
          null,
          0.738,
          1.657,
          0.501,
          1.118,
          1.799,
          0.435,
          3.511,
          1.447,
          0.738,
          0.282,
          0.168,
          0.633,
          2.249,
          0.828,
          0.177,
          null,
          1.483,
          0.79,
          2.226,
          1.008,
          0.462,
          1.084,
          1.365,
          4.596,
          0.526,
          1.149,
          0.95,
          0.828,
          0.643,
          1.588,
          0.252,
          1.245,
          0.505,
          0.517,
          null,
          1.669,
          1.49,
          null,
          1.175,
          0.829,
          5.602,
          1.324,
          null,
          0.49,
          0.666,
          1.466,
          1.985,
          0,
          1.307,
          1.109,
          null,
          7.042,
          1.688,
          1.328,
          0.72,
          0,
          0.731,
          1.197,
          0.95,
          1.192,
          0.703,
          1.111,
          null,
          1.33,
          1.674,
          4.916,
          1.015,
          0.632,
          1.232,
          1.129,
          null,
          2.894,
          1.237,
          6.206,
          0.279,
          null,
          1.538,
          1.5,
          null,
          0.642,
          1.538,
          0.148,
          1.312,
          0.74,
          1.4,
          0.937,
          0.703,
          0.697,
          null,
          0.805,
          0.969,
          0.646,
          1.365,
          0.796,
          0.505,
          null,
          0.843,
          0.446,
          1.403,
          2.938,
          0.485,
          0.58,
          0.744,
          null,
          0.623,
          1.42,
          1.219,
          null,
          0.459,
          0.99,
          0.922,
          0.556,
          0.558,
          8.914,
          null,
          0.909,
          0.844,
          1.441,
          5.414,
          0.788,
          1.948,
          6.341,
          3.361,
          1.763,
          2.774,
          0.972,
          1.146,
          0.3,
          7.293,
          0.85
         ],
         "zmax": 3.539,
         "zmin": 0.49
        },
        {
         "colorbar": {
          "title": {
           "text": "Nitrous Oxide<br>Emissions<br>per Capita"
          }
         },
         "colorscale": [
          [
           0,
           "rgb(165,0,38)"
          ],
          [
           0.1,
           "rgb(215,48,39)"
          ],
          [
           0.2,
           "rgb(244,109,67)"
          ],
          [
           0.3,
           "rgb(253,174,97)"
          ],
          [
           0.4,
           "rgb(254,224,139)"
          ],
          [
           0.5,
           "rgb(255,255,191)"
          ],
          [
           0.6,
           "rgb(217,239,139)"
          ],
          [
           0.7,
           "rgb(166,217,106)"
          ],
          [
           0.8,
           "rgb(102,189,99)"
          ],
          [
           0.9,
           "rgb(26,152,80)"
          ],
          [
           1,
           "rgb(0,104,55)"
          ]
         ],
         "customdata": [
          [
           "Afghanistan",
           "AFG",
           2.73,
           2.209,
           0.258,
           0.191
          ],
          [
           "Albania",
           "ALB",
           3.184,
           1.126,
           0.437,
           1.556
          ],
          [
           "Algeria",
           "DZA",
           5.181,
           1.219,
           0.294,
           3.673
          ],
          [
           "Andorra",
           "AND",
           1.299,
           0.649,
           0,
           6.068
          ],
          [
           "Angola",
           "AGO",
           6.245,
           1.789,
           0.728,
           1.089
          ],
          [
           "Anguilla",
           "AIA",
           null,
           null,
           null,
           10.661
          ],
          [
           "Antarctica",
           "ATA",
           null,
           null,
           null,
           null
          ],
          [
           "Antigua and Barbuda",
           "ATG",
           14.526,
           2.105,
           0.211,
           5.194
          ],
          [
           "Argentina",
           "ARG",
           11.08,
           2.794,
           1.111,
           4.389
          ],
          [
           "Armenia",
           "ARM",
           3.222,
           0.875,
           0.552,
           1.772
          ],
          [
           "Aruba",
           "ABW",
           null,
           null,
           null,
           8.421
          ],
          [
           "Australia",
           "AUS",
           21.394,
           5.033,
           2.357,
           17.143
          ],
          [
           "Austria",
           "AUT",
           8.214,
           0.776,
           0.423,
           7.684
          ],
          [
           "Azerbaijan",
           "AZE",
           7.599,
           4.604,
           0.37,
           3.806
          ],
          [
           "Bahamas",
           "BHS",
           10.503,
           0.899,
           0.317,
           5.235
          ],
          [
           "Bahrain",
           "BHR",
           33.008,
           9.986,
           0.049,
           22.004
          ],
          [
           "Bangladesh",
           "BGD",
           1.327,
           0.509,
           0.173,
           0.484
          ],
          [
           "Barbados",
           "BRB",
           15.21,
           8.147,
           0.175,
           4.49
          ],
          [
           "Belarus",
           "BLR",
           8.543,
           1.756,
           1.25,
           6.336
          ],
          [
           "Belgium",
           "BEL",
           9.455,
           0.744,
           0.395,
           8.796
          ],
          [
           "Belize",
           "BLZ",
           13.207,
           2.772,
           0.897,
           1.691
          ],
          [
           "Benin",
           "BEN",
           2.44,
           0.532,
           0.275,
           0.607
          ],
          [
           "Bermuda",
           "BMU",
           null,
           null,
           null,
           9.773
          ],
          [
           "Bhutan",
           "BTN",
           -2.469,
           1.208,
           0.258,
           1.57
          ],
          [
           "Bolivia",
           "BOL",
           13.682,
           2.994,
           1.073,
           2.066
          ],
          [
           "Bonaire Sint Eustatius and Saba",
           "BES",
           null,
           null,
           null,
           13.474
          ],
          [
           "Bosnia and Herzegovina",
           "BIH",
           8.048,
           1.025,
           0.357,
           6.418
          ],
          [
           "Botswana",
           "BWA",
           32.403,
           7.037,
           1.87,
           2.932
          ],
          [
           "Brazil",
           "BRA",
           6.691,
           2.159,
           0.887,
           2.39
          ],
          [
           "British Virgin Islands",
           "VGB",
           null,
           null,
           null,
           7.239
          ],
          [
           "Brunei",
           "BRN",
           40,
           22.119,
           0.381,
           17.971
          ],
          [
           "Bulgaria",
           "BGR",
           6.162,
           0.993,
           0.561,
           6.362
          ],
          [
           "Burkina Faso",
           "BFA",
           2.072,
           0.829,
           0.531,
           0.181
          ],
          [
           "Burundi",
           "BDI",
           0.738,
           0.187,
           0.176,
           0.045
          ],
          [
           "Cambodia",
           "KHM",
           4.15,
           1.621,
           0.424,
           0.668
          ],
          [
           "Cameroon",
           "CMR",
           8.709,
           0.763,
           2.662,
           0.327
          ],
          [
           "Canada",
           "CAN",
           21.419,
           2.903,
           1.219,
           15.38
          ],
          [
           "Cape Verde",
           "CPV",
           1.751,
           0.245,
           0.151,
           1.014
          ],
          [
           "Central African Republic",
           "CAF",
           16.688,
           5.93,
           7.62,
           0.044
          ],
          [
           "Chad",
           "TCD",
           7.002,
           3.539,
           1.682,
           0.07
          ],
          [
           "Chile",
           "CHL",
           0.205,
           0.727,
           0.359,
           4.635
          ],
          [
           "China",
           "CHN",
           8.187,
           0.895,
           0.394,
           6.874
          ],
          [
           "Christmas Island",
           "CXR",
           null,
           null,
           null,
           null
          ],
          [
           "Colombia",
           "COL",
           4.816,
           1.641,
           0.443,
           1.936
          ],
          [
           "Comoros",
           "COM",
           0.754,
           0.352,
           0.063,
           0.272
          ],
          [
           "Congo",
           "COG",
           9.992,
           2.594,
           0.803,
           0.743
          ],
          [
           "Cook Islands",
           "COK",
           6.111,
           0.556,
           0,
           3.973
          ],
          [
           "Costa Rica",
           "CRI",
           0.945,
           1.025,
           0.412,
           1.617
          ],
          [
           "Cote d'Ivoire",
           "CIV",
           1.308,
           0.317,
           0.162,
           0.495
          ],
          [
           "Croatia",
           "HRV",
           4.5,
           0.889,
           0.387,
           4.297
          ],
          [
           "Cuba",
           "CUB",
           2.403,
           1.151,
           0.332,
           2.486
          ],
          [
           "Curacao",
           "CUW",
           null,
           null,
           null,
           36.013
          ],
          [
           "Cyprus",
           "CYP",
           7.06,
           0.615,
           0.308,
           6.301
          ],
          [
           "Czechia",
           "CZE",
           10.525,
           1.171,
           0.527,
           10.047
          ],
          [
           "Democratic Republic of Congo",
           "COD",
           2.854,
           0.676,
           0.272,
           0.026
          ],
          [
           "Denmark",
           "DNK",
           8.17,
           1.255,
           0.89,
           6.48
          ],
          [
           "Djibouti",
           "DJI",
           2.239,
           0.732,
           0.291,
           0.43
          ],
          [
           "Dominica",
           "DMA",
           5.352,
           0.704,
           0.282,
           2.518
          ],
          [
           "Dominican Republic",
           "DOM",
           2.779,
           0.877,
           0.299,
           2.37
          ],
          [
           "Ecuador",
           "ECU",
           5.978,
           1.247,
           0.291,
           2.396
          ],
          [
           "Egypt",
           "EGY",
           3.287,
           0.596,
           0.24,
           2.479
          ],
          [
           "El Salvador",
           "SLV",
           2.121,
           0.634,
           0.194,
           1.046
          ],
          [
           "Equatorial Guinea",
           "GNQ",
           19.111,
           10.897,
           0.033,
           9.371
          ],
          [
           "Eritrea",
           "ERI",
           2.357,
           1.09,
           0.841,
           0.191
          ],
          [
           "Estonia",
           "EST",
           15.475,
           0.835,
           1.017,
           13.344
          ],
          [
           "Eswatini",
           "SWZ",
           2.908,
           1.338,
           0.395,
           0.947
          ],
          [
           "Ethiopia",
           "ETH",
           1.821,
           1.021,
           0.489,
           0.138
          ],
          [
           "Faeroe Islands",
           "FRO",
           null,
           null,
           null,
           13.082
          ],
          [
           "Fiji",
           "FJI",
           1.101,
           1.25,
           0.413,
           1.444
          ],
          [
           "Finland",
           "FIN",
           11.488,
           0.817,
           0.844,
           8.591
          ],
          [
           "France",
           "FRA",
           5.097,
           0.926,
           0.581,
           5.158
          ],
          [
           "French Guiana",
           "GUF",
           null,
           null,
           null,
           2.682
          ],
          [
           "French Polynesia",
           "PYF",
           null,
           null,
           null,
           2.762
          ],
          [
           "Gabon",
           "GAB",
           -42.311,
           0.727,
           0.274,
           2.71
          ],
          [
           "Gambia",
           "GMB",
           1.117,
           0.768,
           0.186,
           0.247
          ],
          [
           "Georgia",
           "GEO",
           4.291,
           1.342,
           0.553,
           2.507
          ],
          [
           "Germany",
           "DEU",
           9.839,
           0.675,
           0.433,
           9.742
          ],
          [
           "Ghana",
           "GHA",
           1.792,
           0.751,
           0.229,
           0.581
          ],
          [
           "Greece",
           "GRC",
           8.136,
           0.896,
           0.426,
           6.724
          ],
          [
           "Greenland",
           "GRL",
           null,
           null,
           null,
           9.306
          ],
          [
           "Grenada",
           "GRD",
           21.091,
           18.273,
           0.091,
           2.426
          ],
          [
           "Guadeloupe",
           "GLP",
           null,
           null,
           null,
           6.32
          ],
          [
           "Guatemala",
           "GTM",
           2.641,
           0.777,
           0.325,
           1.02
          ],
          [
           "Guinea",
           "GIN",
           3.885,
           1.582,
           0.639,
           0.234
          ],
          [
           "Guinea-Bissau",
           "GNB",
           2.363,
           0.802,
           0.438,
           0.171
          ],
          [
           "Guyana",
           "GUY",
           48.534,
           7.289,
           1.855,
           3.04
          ],
          [
           "Haiti",
           "HTI",
           0.926,
           0.43,
           0.148,
           0.275
          ],
          [
           "Honduras",
           "HND",
           5.553,
           1.002,
           0.375,
           1.002
          ],
          [
           "Hong Kong",
           "HKG",
           null,
           null,
           null,
           5.99
          ],
          [
           "Hungary",
           "HUN",
           6.283,
           0.738,
           0.568,
           4.826
          ],
          [
           "Iceland",
           "ISL",
           9.608,
           1.657,
           1.205,
           10.498
          ],
          [
           "India",
           "IND",
           2.443,
           0.501,
           0.187,
           1.799
          ],
          [
           "Indonesia",
           "IDN",
           8.522,
           1.118,
           0.354,
           2.144
          ],
          [
           "Iran",
           "IRN",
           10.909,
           1.799,
           0.468,
           8.011
          ],
          [
           "Iraq",
           "IRQ",
           5.228,
           0.435,
           0.132,
           5.309
          ],
          [
           "Ireland",
           "IRL",
           13.965,
           3.511,
           2.006,
           8.551
          ],
          [
           "Israel",
           "ISR",
           11.109,
           1.447,
           0.28,
           7.55
          ],
          [
           "Italy",
           "ITA",
           6.093,
           0.738,
           0.298,
           5.902
          ],
          [
           "Jamaica",
           "JAM",
           3.304,
           0.282,
           0.141,
           2.809
          ],
          [
           "Japan",
           "JPN",
           9.892,
           0.168,
           0.142,
           9.422
          ],
          [
           "Jordan",
           "JOR",
           3.739,
           0.633,
           0.136,
           2.548
          ],
          [
           "Kazakhstan",
           "KAZ",
           16.209,
           2.249,
           0.566,
           16.19
          ],
          [
           "Kenya",
           "KEN",
           0.974,
           0.828,
           0.383,
           0.35
          ],
          [
           "Kiribati",
           "KIR",
           0.708,
           0.177,
           0.088,
           0.488
          ],
          [
           "Kosovo",
           "OWID_KOS",
           null,
           null,
           null,
           null
          ],
          [
           "Kuwait",
           "KWT",
           28.302,
           1.483,
           0.177,
           25.49
          ],
          [
           "Kyrgyzstan",
           "KGZ",
           2.634,
           0.79,
           0.326,
           1.588
          ],
          [
           "Laos",
           "LAO",
           6.906,
           2.226,
           0.789,
           2.163
          ],
          [
           "Latvia",
           "LVA",
           -1.18,
           1.008,
           0.983,
           3.652
          ],
          [
           "Lebanon",
           "LBN",
           4.675,
           0.462,
           0.109,
           3.947
          ],
          [
           "Lesotho",
           "LSO",
           1.769,
           1.084,
           0.381,
           1.066
          ],
          [
           "Liberia",
           "LBR",
           2.298,
           1.365,
           0.31,
           0.296
          ],
          [
           "Libya",
           "LBY",
           13.47,
           4.596,
           0.294,
           8.238
          ],
          [
           "Liechtenstein",
           "LIE",
           1.053,
           0.526,
           0.263,
           3.972
          ],
          [
           "Lithuania",
           "LTU",
           6.128,
           1.149,
           1.263,
           4.62
          ],
          [
           "Luxembourg",
           "LUX",
           16.874,
           0.95,
           0.518,
           15.697
          ],
          [
           "Madagascar",
           "MDG",
           2.364,
           0.828,
           0.408,
           0.131
          ],
          [
           "Malawi",
           "MWI",
           1.232,
           0.643,
           0.244,
           0.076
          ],
          [
           "Malaysia",
           "MYS",
           5.248,
           1.588,
           0.344,
           8.166
          ],
          [
           "Maldives",
           "MDV",
           4.244,
           0.252,
           0.063,
           3.021
          ],
          [
           "Mali",
           "MLI",
           2.642,
           1.245,
           0.799,
           0.185
          ],
          [
           "Malta",
           "MLT",
           4.404,
           0.505,
           0.115,
           3.223
          ],
          [
           "Marshall Islands",
           "MHL",
           0.69,
           0.517,
           0,
           2.476
          ],
          [
           "Martinique",
           "MTQ",
           null,
           null,
           null,
           6.147
          ],
          [
           "Mauritania",
           "MRT",
           2.738,
           1.669,
           0.797,
           0.609
          ],
          [
           "Mauritius",
           "MUS",
           5.135,
           1.49,
           0.19,
           3.444
          ],
          [
           "Mayotte",
           "MYT",
           null,
           null,
           null,
           1.223
          ],
          [
           "Mexico",
           "MEX",
           5.581,
           1.175,
           0.354,
           3.915
          ],
          [
           "Moldova",
           "MDA",
           2.912,
           0.829,
           0.325,
           1.206
          ],
          [
           "Mongolia",
           "MNG",
           22.12,
           5.602,
           4.169,
           8.287
          ],
          [
           "Montenegro",
           "MNE",
           5.455,
           1.324,
           0.287,
           3.213
          ],
          [
           "Montserrat",
           "MSR",
           null,
           null,
           null,
           5.888
          ],
          [
           "Morocco",
           "MAR",
           2.507,
           0.49,
           0.25,
           1.664
          ],
          [
           "Mozambique",
           "MOZ",
           2.735,
           0.666,
           0.418,
           0.293
          ],
          [
           "Myanmar",
           "MMR",
           4.139,
           1.466,
           0.455,
           0.48
          ],
          [
           "Namibia",
           "NAM",
           8.656,
           1.985,
           1.293,
           1.718
          ],
          [
           "Nauru",
           "NRU",
           8,
           0,
           0,
           4.898
          ],
          [
           "Nepal",
           "NPL",
           2.247,
           1.307,
           0.358,
           0.358
          ],
          [
           "Netherlands",
           "NLD",
           11.011,
           1.109,
           0.502,
           9.712
          ],
          [
           "New Caledonia",
           "NCL",
           null,
           null,
           null,
           19.385
          ],
          [
           "New Zealand",
           "NZL",
           13.55,
           7.042,
           3.215,
           7.363
          ],
          [
           "Nicaragua",
           "NIC",
           3.274,
           1.688,
           0.598,
           0.854
          ],
          [
           "Niger",
           "NER",
           2.054,
           1.328,
           0.537,
           0.099
          ],
          [
           "Nigeria",
           "NGA",
           2.587,
           0.72,
           0.201,
           0.623
          ],
          [
           "Niue",
           "NIU",
           30,
           0,
           0,
           4.549
          ],
          [
           "North Korea",
           "PRK",
           2.59,
           0.731,
           0.096,
           1.162
          ],
          [
           "North Macedonia",
           "MKD",
           4.993,
           1.197,
           0.284,
           3.358
          ],
          [
           "Norway",
           "NOR",
           4.534,
           0.95,
           0.613,
           8.532
          ],
          [
           "Oman",
           "OMN",
           16.964,
           1.192,
           0.167,
           13.464
          ],
          [
           "Pakistan",
           "PAK",
           1.982,
           0.703,
           0.284,
           1.017
          ],
          [
           "Palau",
           "PLW",
           1.667,
           1.111,
           0,
           11.994
          ],
          [
           "Palestine",
           "PSE",
           null,
           null,
           null,
           0.697
          ],
          [
           "Panama",
           "PAN",
           6.673,
           1.33,
           0.332,
           2.615
          ],
          [
           "Papua New Guinea",
           "PNG",
           7.719,
           1.674,
           0.5,
           0.802
          ],
          [
           "Paraguay",
           "PRY",
           28.709,
           4.916,
           1.679,
           1.06
          ],
          [
           "Peru",
           "PER",
           5.46,
           1.015,
           0.313,
           1.705
          ],
          [
           "Philippines",
           "PHL",
           1.441,
           0.632,
           0.13,
           1.179
          ],
          [
           "Poland",
           "POL",
           9.207,
           1.232,
           0.569,
           8.538
          ],
          [
           "Portugal",
           "PRT",
           6.72,
           1.129,
           0.322,
           4.887
          ],
          [
           "Puerto Rico",
           "PRI",
           null,
           null,
           null,
           null
          ],
          [
           "Qatar",
           "QAT",
           34.763,
           2.894,
           0.531,
           33.494
          ],
          [
           "Romania",
           "ROU",
           -2.962,
           1.237,
           0.418,
           3.746
          ],
          [
           "Russia",
           "RUS",
           16.461,
           6.206,
           0.513,
           11.142
          ],
          [
           "Rwanda",
           "RWA",
           0.65,
           0.279,
           0.176,
           0.089
          ],
          [
           "Saint Helena",
           "SHN",
           null,
           null,
           null,
           2.46
          ],
          [
           "Saint Kitts and Nevis",
           "KNA",
           7.115,
           1.538,
           0.385,
           4.613
          ],
          [
           "Saint Lucia",
           "LCA",
           4.5,
           1.5,
           0.167,
           2.707
          ],
          [
           "Saint Pierre and Miquelon",
           "SPM",
           null,
           null,
           null,
           11.116
          ],
          [
           "Saint Vincent and the Grenadines",
           "VCT",
           3.028,
           0.642,
           0.092,
           2.209
          ],
          [
           "Samoa",
           "WSM",
           3.59,
           1.538,
           0.308,
           1.224
          ],
          [
           "Sao Tome and Principe",
           "STP",
           0.985,
           0.148,
           0.099,
           0.613
          ],
          [
           "Saudi Arabia",
           "SAU",
           20.454,
           1.312,
           0.181,
           19.698
          ],
          [
           "Senegal",
           "SEN",
           2.334,
           0.74,
           0.548,
           0.668
          ],
          [
           "Serbia",
           "SRB",
           7.1,
           1.4,
           0.56,
           5.086
          ],
          [
           "Seychelles",
           "SYC",
           13.542,
           0.937,
           0,
           5.589
          ],
          [
           "Sierra Leone",
           "SLE",
           1.854,
           0.703,
           0.224,
           0.124
          ],
          [
           "Singapore",
           "SGP",
           11.187,
           0.697,
           1.595,
           7.124
          ],
          [
           "Sint Maarten (Dutch part)",
           "SXM",
           null,
           null,
           null,
           18.674
          ],
          [
           "Slovakia",
           "SVK",
           6.161,
           0.805,
           0.369,
           6.405
          ],
          [
           "Slovenia",
           "SVN",
           5.299,
           0.969,
           0.386,
           6.955
          ],
          [
           "Solomon Islands",
           "SLB",
           4.41,
           0.646,
           0.048,
           0.467
          ],
          [
           "Somalia",
           "SOM",
           2.837,
           1.365,
           0.465,
           0.045
          ],
          [
           "South Africa",
           "ZAF",
           8.849,
           0.796,
           0.322,
           8.269
          ],
          [
           "South Korea",
           "KOR",
           12.894,
           0.505,
           0.208,
           12.539
          ],
          [
           "South Sudan",
           "SSD",
           null,
           null,
           null,
           0.157
          ],
          [
           "Spain",
           "ESP",
           6.086,
           0.843,
           0.427,
           5.592
          ],
          [
           "Sri Lanka",
           "LKA",
           1.775,
           0.446,
           0.116,
           1.095
          ],
          [
           "Sudan",
           "SDN",
           3.807,
           1.403,
           0.714,
           0.485
          ],
          [
           "Suriname",
           "SUR",
           12.991,
           2.938,
           0.531,
           4.029
          ],
          [
           "Sweden",
           "SWE",
           4.7,
           0.485,
           0.502,
           4.398
          ],
          [
           "Switzerland",
           "CHE",
           5.575,
           0.58,
           0.261,
           4.677
          ],
          [
           "Syria",
           "SYR",
           2.598,
           0.744,
           0.199,
           1.665
          ],
          [
           "Taiwan",
           "TWN",
           null,
           null,
           null,
           11.843
          ],
          [
           "Tajikistan",
           "TJK",
           1.537,
           0.623,
           0.256,
           0.743
          ],
          [
           "Tanzania",
           "TZA",
           6.022,
           1.42,
           0.622,
           0.205
          ],
          [
           "Thailand",
           "THA",
           6.049,
           1.219,
           0.303,
           4.11
          ],
          [
           "Timor",
           "TLS",
           null,
           null,
           null,
           0.406
          ],
          [
           "Togo",
           "TGO",
           2.047,
           0.459,
           0.246,
           0.307
          ],
          [
           "Tonga",
           "TON",
           2.871,
           0.99,
           0.495,
           1.268
          ],
          [
           "Trinidad and Tobago",
           "TTO",
           18.817,
           0.922,
           0.283,
           29.075
          ],
          [
           "Tunisia",
           "TUN",
           3.486,
           0.556,
           0.278,
           2.566
          ],
          [
           "Turkey",
           "TUR",
           4.96,
           0.558,
           0.441,
           5.026
          ],
          [
           "Turkmenistan",
           "TKM",
           22.284,
           8.914,
           0.652,
           12.391
          ],
          [
           "Turks and Caicos Islands",
           "TCA",
           null,
           null,
           null,
           5.913
          ],
          [
           "Tuvalu",
           "TUV",
           0.909,
           0.909,
           0,
           0.652
          ],
          [
           "Uganda",
           "UGA",
           2.045,
           0.844,
           0.397,
           0.121
          ],
          [
           "Ukraine",
           "UKR",
           6.345,
           1.441,
           0.537,
           5.233
          ],
          [
           "United Arab Emirates",
           "ARE",
           27.691,
           5.414,
           0.736,
           22.932
          ],
          [
           "United Kingdom",
           "GBR",
           6.962,
           0.788,
           0.428,
           6.023
          ],
          [
           "United States",
           "USA",
           18.059,
           1.948,
           0.779,
           16.247
          ],
          [
           "Uruguay",
           "URY",
           7.763,
           6.341,
           2.328,
           1.904
          ],
          [
           "Uzbekistan",
           "UZB",
           6.191,
           3.361,
           0.496,
           3.44
          ],
          [
           "Vanuatu",
           "VUT",
           2.986,
           1.763,
           0.647,
           0.527
          ],
          [
           "Venezuela",
           "VEN",
           11.729,
           2.774,
           0.498,
           5.677
          ],
          [
           "Vietnam",
           "VNM",
           3.356,
           0.972,
           0.259,
           2.059
          ],
          [
           "World",
           "OWID_WRL",
           6.613,
           1.146,
           0.409,
           4.75
          ],
          [
           "Yemen",
           "YEM",
           0.868,
           0.3,
           0.124,
           0.384
          ],
          [
           "Zambia",
           "ZMB",
           30.189,
           7.293,
           1.743,
           0.346
          ],
          [
           "Zimbabwe",
           "ZWE",
           4.703,
           0.85,
           0.467,
           0.765
          ]
         ],
         "hovertemplate": "%{customdata[0]} (%{customdata[1]})<br>Greenhouse Gas Emissions per Capita: %{customdata[2]}<br>Methane Emissions per Capita: %{customdata[3]}<br>Nitrous Oxide Emissions per Capita: %{customdata[4]}<br>CO<sub>2</sub> Emissions per Capita: %{customdata[5]}<br><extra></extra>",
         "locations": [
          "AFG",
          "ALB",
          "DZA",
          "AND",
          "AGO",
          "AIA",
          "ATA",
          "ATG",
          "ARG",
          "ARM",
          "ABW",
          "AUS",
          "AUT",
          "AZE",
          "BHS",
          "BHR",
          "BGD",
          "BRB",
          "BLR",
          "BEL",
          "BLZ",
          "BEN",
          "BMU",
          "BTN",
          "BOL",
          "BES",
          "BIH",
          "BWA",
          "BRA",
          "VGB",
          "BRN",
          "BGR",
          "BFA",
          "BDI",
          "KHM",
          "CMR",
          "CAN",
          "CPV",
          "CAF",
          "TCD",
          "CHL",
          "CHN",
          "CXR",
          "COL",
          "COM",
          "COG",
          "COK",
          "CRI",
          "CIV",
          "HRV",
          "CUB",
          "CUW",
          "CYP",
          "CZE",
          "COD",
          "DNK",
          "DJI",
          "DMA",
          "DOM",
          "ECU",
          "EGY",
          "SLV",
          "GNQ",
          "ERI",
          "EST",
          "SWZ",
          "ETH",
          "FRO",
          "FJI",
          "FIN",
          "FRA",
          "GUF",
          "PYF",
          "GAB",
          "GMB",
          "GEO",
          "DEU",
          "GHA",
          "GRC",
          "GRL",
          "GRD",
          "GLP",
          "GTM",
          "GIN",
          "GNB",
          "GUY",
          "HTI",
          "HND",
          "HKG",
          "HUN",
          "ISL",
          "IND",
          "IDN",
          "IRN",
          "IRQ",
          "IRL",
          "ISR",
          "ITA",
          "JAM",
          "JPN",
          "JOR",
          "KAZ",
          "KEN",
          "KIR",
          "OWID_KOS",
          "KWT",
          "KGZ",
          "LAO",
          "LVA",
          "LBN",
          "LSO",
          "LBR",
          "LBY",
          "LIE",
          "LTU",
          "LUX",
          "MDG",
          "MWI",
          "MYS",
          "MDV",
          "MLI",
          "MLT",
          "MHL",
          "MTQ",
          "MRT",
          "MUS",
          "MYT",
          "MEX",
          "MDA",
          "MNG",
          "MNE",
          "MSR",
          "MAR",
          "MOZ",
          "MMR",
          "NAM",
          "NRU",
          "NPL",
          "NLD",
          "NCL",
          "NZL",
          "NIC",
          "NER",
          "NGA",
          "NIU",
          "PRK",
          "MKD",
          "NOR",
          "OMN",
          "PAK",
          "PLW",
          "PSE",
          "PAN",
          "PNG",
          "PRY",
          "PER",
          "PHL",
          "POL",
          "PRT",
          "PRI",
          "QAT",
          "ROU",
          "RUS",
          "RWA",
          "SHN",
          "KNA",
          "LCA",
          "SPM",
          "VCT",
          "WSM",
          "STP",
          "SAU",
          "SEN",
          "SRB",
          "SYC",
          "SLE",
          "SGP",
          "SXM",
          "SVK",
          "SVN",
          "SLB",
          "SOM",
          "ZAF",
          "KOR",
          "SSD",
          "ESP",
          "LKA",
          "SDN",
          "SUR",
          "SWE",
          "CHE",
          "SYR",
          "TWN",
          "TJK",
          "TZA",
          "THA",
          "TLS",
          "TGO",
          "TON",
          "TTO",
          "TUN",
          "TUR",
          "TKM",
          "TCA",
          "TUV",
          "UGA",
          "UKR",
          "ARE",
          "GBR",
          "USA",
          "URY",
          "UZB",
          "VUT",
          "VEN",
          "VNM",
          "OWID_WRL",
          "YEM",
          "ZMB",
          "ZWE"
         ],
         "marker": {
          "line": {
           "width": 0.1
          }
         },
         "reversescale": true,
         "type": "choropleth",
         "visible": false,
         "z": [
          0.258,
          0.437,
          0.294,
          0,
          0.728,
          null,
          null,
          0.211,
          1.111,
          0.552,
          null,
          2.357,
          0.423,
          0.37,
          0.317,
          0.049,
          0.173,
          0.175,
          1.25,
          0.395,
          0.897,
          0.275,
          null,
          0.258,
          1.073,
          null,
          0.357,
          1.87,
          0.887,
          null,
          0.381,
          0.561,
          0.531,
          0.176,
          0.424,
          2.662,
          1.219,
          0.151,
          7.62,
          1.682,
          0.359,
          0.394,
          null,
          0.443,
          0.063,
          0.803,
          0,
          0.412,
          0.162,
          0.387,
          0.332,
          null,
          0.308,
          0.527,
          0.272,
          0.89,
          0.291,
          0.282,
          0.299,
          0.291,
          0.24,
          0.194,
          0.033,
          0.841,
          1.017,
          0.395,
          0.489,
          null,
          0.413,
          0.844,
          0.581,
          null,
          null,
          0.274,
          0.186,
          0.553,
          0.433,
          0.229,
          0.426,
          null,
          0.091,
          null,
          0.325,
          0.639,
          0.438,
          1.855,
          0.148,
          0.375,
          null,
          0.568,
          1.205,
          0.187,
          0.354,
          0.468,
          0.132,
          2.006,
          0.28,
          0.298,
          0.141,
          0.142,
          0.136,
          0.566,
          0.383,
          0.088,
          null,
          0.177,
          0.326,
          0.789,
          0.983,
          0.109,
          0.381,
          0.31,
          0.294,
          0.263,
          1.263,
          0.518,
          0.408,
          0.244,
          0.344,
          0.063,
          0.799,
          0.115,
          0,
          null,
          0.797,
          0.19,
          null,
          0.354,
          0.325,
          4.169,
          0.287,
          null,
          0.25,
          0.418,
          0.455,
          1.293,
          0,
          0.358,
          0.502,
          null,
          3.215,
          0.598,
          0.537,
          0.201,
          0,
          0.096,
          0.284,
          0.613,
          0.167,
          0.284,
          0,
          null,
          0.332,
          0.5,
          1.679,
          0.313,
          0.13,
          0.569,
          0.322,
          null,
          0.531,
          0.418,
          0.513,
          0.176,
          null,
          0.385,
          0.167,
          null,
          0.092,
          0.308,
          0.099,
          0.181,
          0.548,
          0.56,
          0,
          0.224,
          1.595,
          null,
          0.369,
          0.386,
          0.048,
          0.465,
          0.322,
          0.208,
          null,
          0.427,
          0.116,
          0.714,
          0.531,
          0.502,
          0.261,
          0.199,
          null,
          0.256,
          0.622,
          0.303,
          null,
          0.246,
          0.495,
          0.283,
          0.278,
          0.441,
          0.652,
          null,
          0,
          0.397,
          0.537,
          0.736,
          0.428,
          0.779,
          2.328,
          0.496,
          0.647,
          0.498,
          0.259,
          0.409,
          0.124,
          1.743,
          0.467
         ],
         "zmax": 1.073,
         "zmin": 0.115
        },
        {
         "colorbar": {
          "title": {
           "text": "CO<sub>2</sub><br>Emissions<br>per Capita"
          }
         },
         "colorscale": [
          [
           0,
           "rgb(165,0,38)"
          ],
          [
           0.1,
           "rgb(215,48,39)"
          ],
          [
           0.2,
           "rgb(244,109,67)"
          ],
          [
           0.3,
           "rgb(253,174,97)"
          ],
          [
           0.4,
           "rgb(254,224,139)"
          ],
          [
           0.5,
           "rgb(255,255,191)"
          ],
          [
           0.6,
           "rgb(217,239,139)"
          ],
          [
           0.7,
           "rgb(166,217,106)"
          ],
          [
           0.8,
           "rgb(102,189,99)"
          ],
          [
           0.9,
           "rgb(26,152,80)"
          ],
          [
           1,
           "rgb(0,104,55)"
          ]
         ],
         "customdata": [
          [
           "Afghanistan",
           "AFG",
           2.73,
           2.209,
           0.258,
           0.191
          ],
          [
           "Albania",
           "ALB",
           3.184,
           1.126,
           0.437,
           1.556
          ],
          [
           "Algeria",
           "DZA",
           5.181,
           1.219,
           0.294,
           3.673
          ],
          [
           "Andorra",
           "AND",
           1.299,
           0.649,
           0,
           6.068
          ],
          [
           "Angola",
           "AGO",
           6.245,
           1.789,
           0.728,
           1.089
          ],
          [
           "Anguilla",
           "AIA",
           null,
           null,
           null,
           10.661
          ],
          [
           "Antarctica",
           "ATA",
           null,
           null,
           null,
           null
          ],
          [
           "Antigua and Barbuda",
           "ATG",
           14.526,
           2.105,
           0.211,
           5.194
          ],
          [
           "Argentina",
           "ARG",
           11.08,
           2.794,
           1.111,
           4.389
          ],
          [
           "Armenia",
           "ARM",
           3.222,
           0.875,
           0.552,
           1.772
          ],
          [
           "Aruba",
           "ABW",
           null,
           null,
           null,
           8.421
          ],
          [
           "Australia",
           "AUS",
           21.394,
           5.033,
           2.357,
           17.143
          ],
          [
           "Austria",
           "AUT",
           8.214,
           0.776,
           0.423,
           7.684
          ],
          [
           "Azerbaijan",
           "AZE",
           7.599,
           4.604,
           0.37,
           3.806
          ],
          [
           "Bahamas",
           "BHS",
           10.503,
           0.899,
           0.317,
           5.235
          ],
          [
           "Bahrain",
           "BHR",
           33.008,
           9.986,
           0.049,
           22.004
          ],
          [
           "Bangladesh",
           "BGD",
           1.327,
           0.509,
           0.173,
           0.484
          ],
          [
           "Barbados",
           "BRB",
           15.21,
           8.147,
           0.175,
           4.49
          ],
          [
           "Belarus",
           "BLR",
           8.543,
           1.756,
           1.25,
           6.336
          ],
          [
           "Belgium",
           "BEL",
           9.455,
           0.744,
           0.395,
           8.796
          ],
          [
           "Belize",
           "BLZ",
           13.207,
           2.772,
           0.897,
           1.691
          ],
          [
           "Benin",
           "BEN",
           2.44,
           0.532,
           0.275,
           0.607
          ],
          [
           "Bermuda",
           "BMU",
           null,
           null,
           null,
           9.773
          ],
          [
           "Bhutan",
           "BTN",
           -2.469,
           1.208,
           0.258,
           1.57
          ],
          [
           "Bolivia",
           "BOL",
           13.682,
           2.994,
           1.073,
           2.066
          ],
          [
           "Bonaire Sint Eustatius and Saba",
           "BES",
           null,
           null,
           null,
           13.474
          ],
          [
           "Bosnia and Herzegovina",
           "BIH",
           8.048,
           1.025,
           0.357,
           6.418
          ],
          [
           "Botswana",
           "BWA",
           32.403,
           7.037,
           1.87,
           2.932
          ],
          [
           "Brazil",
           "BRA",
           6.691,
           2.159,
           0.887,
           2.39
          ],
          [
           "British Virgin Islands",
           "VGB",
           null,
           null,
           null,
           7.239
          ],
          [
           "Brunei",
           "BRN",
           40,
           22.119,
           0.381,
           17.971
          ],
          [
           "Bulgaria",
           "BGR",
           6.162,
           0.993,
           0.561,
           6.362
          ],
          [
           "Burkina Faso",
           "BFA",
           2.072,
           0.829,
           0.531,
           0.181
          ],
          [
           "Burundi",
           "BDI",
           0.738,
           0.187,
           0.176,
           0.045
          ],
          [
           "Cambodia",
           "KHM",
           4.15,
           1.621,
           0.424,
           0.668
          ],
          [
           "Cameroon",
           "CMR",
           8.709,
           0.763,
           2.662,
           0.327
          ],
          [
           "Canada",
           "CAN",
           21.419,
           2.903,
           1.219,
           15.38
          ],
          [
           "Cape Verde",
           "CPV",
           1.751,
           0.245,
           0.151,
           1.014
          ],
          [
           "Central African Republic",
           "CAF",
           16.688,
           5.93,
           7.62,
           0.044
          ],
          [
           "Chad",
           "TCD",
           7.002,
           3.539,
           1.682,
           0.07
          ],
          [
           "Chile",
           "CHL",
           0.205,
           0.727,
           0.359,
           4.635
          ],
          [
           "China",
           "CHN",
           8.187,
           0.895,
           0.394,
           6.874
          ],
          [
           "Christmas Island",
           "CXR",
           null,
           null,
           null,
           null
          ],
          [
           "Colombia",
           "COL",
           4.816,
           1.641,
           0.443,
           1.936
          ],
          [
           "Comoros",
           "COM",
           0.754,
           0.352,
           0.063,
           0.272
          ],
          [
           "Congo",
           "COG",
           9.992,
           2.594,
           0.803,
           0.743
          ],
          [
           "Cook Islands",
           "COK",
           6.111,
           0.556,
           0,
           3.973
          ],
          [
           "Costa Rica",
           "CRI",
           0.945,
           1.025,
           0.412,
           1.617
          ],
          [
           "Cote d'Ivoire",
           "CIV",
           1.308,
           0.317,
           0.162,
           0.495
          ],
          [
           "Croatia",
           "HRV",
           4.5,
           0.889,
           0.387,
           4.297
          ],
          [
           "Cuba",
           "CUB",
           2.403,
           1.151,
           0.332,
           2.486
          ],
          [
           "Curacao",
           "CUW",
           null,
           null,
           null,
           36.013
          ],
          [
           "Cyprus",
           "CYP",
           7.06,
           0.615,
           0.308,
           6.301
          ],
          [
           "Czechia",
           "CZE",
           10.525,
           1.171,
           0.527,
           10.047
          ],
          [
           "Democratic Republic of Congo",
           "COD",
           2.854,
           0.676,
           0.272,
           0.026
          ],
          [
           "Denmark",
           "DNK",
           8.17,
           1.255,
           0.89,
           6.48
          ],
          [
           "Djibouti",
           "DJI",
           2.239,
           0.732,
           0.291,
           0.43
          ],
          [
           "Dominica",
           "DMA",
           5.352,
           0.704,
           0.282,
           2.518
          ],
          [
           "Dominican Republic",
           "DOM",
           2.779,
           0.877,
           0.299,
           2.37
          ],
          [
           "Ecuador",
           "ECU",
           5.978,
           1.247,
           0.291,
           2.396
          ],
          [
           "Egypt",
           "EGY",
           3.287,
           0.596,
           0.24,
           2.479
          ],
          [
           "El Salvador",
           "SLV",
           2.121,
           0.634,
           0.194,
           1.046
          ],
          [
           "Equatorial Guinea",
           "GNQ",
           19.111,
           10.897,
           0.033,
           9.371
          ],
          [
           "Eritrea",
           "ERI",
           2.357,
           1.09,
           0.841,
           0.191
          ],
          [
           "Estonia",
           "EST",
           15.475,
           0.835,
           1.017,
           13.344
          ],
          [
           "Eswatini",
           "SWZ",
           2.908,
           1.338,
           0.395,
           0.947
          ],
          [
           "Ethiopia",
           "ETH",
           1.821,
           1.021,
           0.489,
           0.138
          ],
          [
           "Faeroe Islands",
           "FRO",
           null,
           null,
           null,
           13.082
          ],
          [
           "Fiji",
           "FJI",
           1.101,
           1.25,
           0.413,
           1.444
          ],
          [
           "Finland",
           "FIN",
           11.488,
           0.817,
           0.844,
           8.591
          ],
          [
           "France",
           "FRA",
           5.097,
           0.926,
           0.581,
           5.158
          ],
          [
           "French Guiana",
           "GUF",
           null,
           null,
           null,
           2.682
          ],
          [
           "French Polynesia",
           "PYF",
           null,
           null,
           null,
           2.762
          ],
          [
           "Gabon",
           "GAB",
           -42.311,
           0.727,
           0.274,
           2.71
          ],
          [
           "Gambia",
           "GMB",
           1.117,
           0.768,
           0.186,
           0.247
          ],
          [
           "Georgia",
           "GEO",
           4.291,
           1.342,
           0.553,
           2.507
          ],
          [
           "Germany",
           "DEU",
           9.839,
           0.675,
           0.433,
           9.742
          ],
          [
           "Ghana",
           "GHA",
           1.792,
           0.751,
           0.229,
           0.581
          ],
          [
           "Greece",
           "GRC",
           8.136,
           0.896,
           0.426,
           6.724
          ],
          [
           "Greenland",
           "GRL",
           null,
           null,
           null,
           9.306
          ],
          [
           "Grenada",
           "GRD",
           21.091,
           18.273,
           0.091,
           2.426
          ],
          [
           "Guadeloupe",
           "GLP",
           null,
           null,
           null,
           6.32
          ],
          [
           "Guatemala",
           "GTM",
           2.641,
           0.777,
           0.325,
           1.02
          ],
          [
           "Guinea",
           "GIN",
           3.885,
           1.582,
           0.639,
           0.234
          ],
          [
           "Guinea-Bissau",
           "GNB",
           2.363,
           0.802,
           0.438,
           0.171
          ],
          [
           "Guyana",
           "GUY",
           48.534,
           7.289,
           1.855,
           3.04
          ],
          [
           "Haiti",
           "HTI",
           0.926,
           0.43,
           0.148,
           0.275
          ],
          [
           "Honduras",
           "HND",
           5.553,
           1.002,
           0.375,
           1.002
          ],
          [
           "Hong Kong",
           "HKG",
           null,
           null,
           null,
           5.99
          ],
          [
           "Hungary",
           "HUN",
           6.283,
           0.738,
           0.568,
           4.826
          ],
          [
           "Iceland",
           "ISL",
           9.608,
           1.657,
           1.205,
           10.498
          ],
          [
           "India",
           "IND",
           2.443,
           0.501,
           0.187,
           1.799
          ],
          [
           "Indonesia",
           "IDN",
           8.522,
           1.118,
           0.354,
           2.144
          ],
          [
           "Iran",
           "IRN",
           10.909,
           1.799,
           0.468,
           8.011
          ],
          [
           "Iraq",
           "IRQ",
           5.228,
           0.435,
           0.132,
           5.309
          ],
          [
           "Ireland",
           "IRL",
           13.965,
           3.511,
           2.006,
           8.551
          ],
          [
           "Israel",
           "ISR",
           11.109,
           1.447,
           0.28,
           7.55
          ],
          [
           "Italy",
           "ITA",
           6.093,
           0.738,
           0.298,
           5.902
          ],
          [
           "Jamaica",
           "JAM",
           3.304,
           0.282,
           0.141,
           2.809
          ],
          [
           "Japan",
           "JPN",
           9.892,
           0.168,
           0.142,
           9.422
          ],
          [
           "Jordan",
           "JOR",
           3.739,
           0.633,
           0.136,
           2.548
          ],
          [
           "Kazakhstan",
           "KAZ",
           16.209,
           2.249,
           0.566,
           16.19
          ],
          [
           "Kenya",
           "KEN",
           0.974,
           0.828,
           0.383,
           0.35
          ],
          [
           "Kiribati",
           "KIR",
           0.708,
           0.177,
           0.088,
           0.488
          ],
          [
           "Kosovo",
           "OWID_KOS",
           null,
           null,
           null,
           null
          ],
          [
           "Kuwait",
           "KWT",
           28.302,
           1.483,
           0.177,
           25.49
          ],
          [
           "Kyrgyzstan",
           "KGZ",
           2.634,
           0.79,
           0.326,
           1.588
          ],
          [
           "Laos",
           "LAO",
           6.906,
           2.226,
           0.789,
           2.163
          ],
          [
           "Latvia",
           "LVA",
           -1.18,
           1.008,
           0.983,
           3.652
          ],
          [
           "Lebanon",
           "LBN",
           4.675,
           0.462,
           0.109,
           3.947
          ],
          [
           "Lesotho",
           "LSO",
           1.769,
           1.084,
           0.381,
           1.066
          ],
          [
           "Liberia",
           "LBR",
           2.298,
           1.365,
           0.31,
           0.296
          ],
          [
           "Libya",
           "LBY",
           13.47,
           4.596,
           0.294,
           8.238
          ],
          [
           "Liechtenstein",
           "LIE",
           1.053,
           0.526,
           0.263,
           3.972
          ],
          [
           "Lithuania",
           "LTU",
           6.128,
           1.149,
           1.263,
           4.62
          ],
          [
           "Luxembourg",
           "LUX",
           16.874,
           0.95,
           0.518,
           15.697
          ],
          [
           "Madagascar",
           "MDG",
           2.364,
           0.828,
           0.408,
           0.131
          ],
          [
           "Malawi",
           "MWI",
           1.232,
           0.643,
           0.244,
           0.076
          ],
          [
           "Malaysia",
           "MYS",
           5.248,
           1.588,
           0.344,
           8.166
          ],
          [
           "Maldives",
           "MDV",
           4.244,
           0.252,
           0.063,
           3.021
          ],
          [
           "Mali",
           "MLI",
           2.642,
           1.245,
           0.799,
           0.185
          ],
          [
           "Malta",
           "MLT",
           4.404,
           0.505,
           0.115,
           3.223
          ],
          [
           "Marshall Islands",
           "MHL",
           0.69,
           0.517,
           0,
           2.476
          ],
          [
           "Martinique",
           "MTQ",
           null,
           null,
           null,
           6.147
          ],
          [
           "Mauritania",
           "MRT",
           2.738,
           1.669,
           0.797,
           0.609
          ],
          [
           "Mauritius",
           "MUS",
           5.135,
           1.49,
           0.19,
           3.444
          ],
          [
           "Mayotte",
           "MYT",
           null,
           null,
           null,
           1.223
          ],
          [
           "Mexico",
           "MEX",
           5.581,
           1.175,
           0.354,
           3.915
          ],
          [
           "Moldova",
           "MDA",
           2.912,
           0.829,
           0.325,
           1.206
          ],
          [
           "Mongolia",
           "MNG",
           22.12,
           5.602,
           4.169,
           8.287
          ],
          [
           "Montenegro",
           "MNE",
           5.455,
           1.324,
           0.287,
           3.213
          ],
          [
           "Montserrat",
           "MSR",
           null,
           null,
           null,
           5.888
          ],
          [
           "Morocco",
           "MAR",
           2.507,
           0.49,
           0.25,
           1.664
          ],
          [
           "Mozambique",
           "MOZ",
           2.735,
           0.666,
           0.418,
           0.293
          ],
          [
           "Myanmar",
           "MMR",
           4.139,
           1.466,
           0.455,
           0.48
          ],
          [
           "Namibia",
           "NAM",
           8.656,
           1.985,
           1.293,
           1.718
          ],
          [
           "Nauru",
           "NRU",
           8,
           0,
           0,
           4.898
          ],
          [
           "Nepal",
           "NPL",
           2.247,
           1.307,
           0.358,
           0.358
          ],
          [
           "Netherlands",
           "NLD",
           11.011,
           1.109,
           0.502,
           9.712
          ],
          [
           "New Caledonia",
           "NCL",
           null,
           null,
           null,
           19.385
          ],
          [
           "New Zealand",
           "NZL",
           13.55,
           7.042,
           3.215,
           7.363
          ],
          [
           "Nicaragua",
           "NIC",
           3.274,
           1.688,
           0.598,
           0.854
          ],
          [
           "Niger",
           "NER",
           2.054,
           1.328,
           0.537,
           0.099
          ],
          [
           "Nigeria",
           "NGA",
           2.587,
           0.72,
           0.201,
           0.623
          ],
          [
           "Niue",
           "NIU",
           30,
           0,
           0,
           4.549
          ],
          [
           "North Korea",
           "PRK",
           2.59,
           0.731,
           0.096,
           1.162
          ],
          [
           "North Macedonia",
           "MKD",
           4.993,
           1.197,
           0.284,
           3.358
          ],
          [
           "Norway",
           "NOR",
           4.534,
           0.95,
           0.613,
           8.532
          ],
          [
           "Oman",
           "OMN",
           16.964,
           1.192,
           0.167,
           13.464
          ],
          [
           "Pakistan",
           "PAK",
           1.982,
           0.703,
           0.284,
           1.017
          ],
          [
           "Palau",
           "PLW",
           1.667,
           1.111,
           0,
           11.994
          ],
          [
           "Palestine",
           "PSE",
           null,
           null,
           null,
           0.697
          ],
          [
           "Panama",
           "PAN",
           6.673,
           1.33,
           0.332,
           2.615
          ],
          [
           "Papua New Guinea",
           "PNG",
           7.719,
           1.674,
           0.5,
           0.802
          ],
          [
           "Paraguay",
           "PRY",
           28.709,
           4.916,
           1.679,
           1.06
          ],
          [
           "Peru",
           "PER",
           5.46,
           1.015,
           0.313,
           1.705
          ],
          [
           "Philippines",
           "PHL",
           1.441,
           0.632,
           0.13,
           1.179
          ],
          [
           "Poland",
           "POL",
           9.207,
           1.232,
           0.569,
           8.538
          ],
          [
           "Portugal",
           "PRT",
           6.72,
           1.129,
           0.322,
           4.887
          ],
          [
           "Puerto Rico",
           "PRI",
           null,
           null,
           null,
           null
          ],
          [
           "Qatar",
           "QAT",
           34.763,
           2.894,
           0.531,
           33.494
          ],
          [
           "Romania",
           "ROU",
           -2.962,
           1.237,
           0.418,
           3.746
          ],
          [
           "Russia",
           "RUS",
           16.461,
           6.206,
           0.513,
           11.142
          ],
          [
           "Rwanda",
           "RWA",
           0.65,
           0.279,
           0.176,
           0.089
          ],
          [
           "Saint Helena",
           "SHN",
           null,
           null,
           null,
           2.46
          ],
          [
           "Saint Kitts and Nevis",
           "KNA",
           7.115,
           1.538,
           0.385,
           4.613
          ],
          [
           "Saint Lucia",
           "LCA",
           4.5,
           1.5,
           0.167,
           2.707
          ],
          [
           "Saint Pierre and Miquelon",
           "SPM",
           null,
           null,
           null,
           11.116
          ],
          [
           "Saint Vincent and the Grenadines",
           "VCT",
           3.028,
           0.642,
           0.092,
           2.209
          ],
          [
           "Samoa",
           "WSM",
           3.59,
           1.538,
           0.308,
           1.224
          ],
          [
           "Sao Tome and Principe",
           "STP",
           0.985,
           0.148,
           0.099,
           0.613
          ],
          [
           "Saudi Arabia",
           "SAU",
           20.454,
           1.312,
           0.181,
           19.698
          ],
          [
           "Senegal",
           "SEN",
           2.334,
           0.74,
           0.548,
           0.668
          ],
          [
           "Serbia",
           "SRB",
           7.1,
           1.4,
           0.56,
           5.086
          ],
          [
           "Seychelles",
           "SYC",
           13.542,
           0.937,
           0,
           5.589
          ],
          [
           "Sierra Leone",
           "SLE",
           1.854,
           0.703,
           0.224,
           0.124
          ],
          [
           "Singapore",
           "SGP",
           11.187,
           0.697,
           1.595,
           7.124
          ],
          [
           "Sint Maarten (Dutch part)",
           "SXM",
           null,
           null,
           null,
           18.674
          ],
          [
           "Slovakia",
           "SVK",
           6.161,
           0.805,
           0.369,
           6.405
          ],
          [
           "Slovenia",
           "SVN",
           5.299,
           0.969,
           0.386,
           6.955
          ],
          [
           "Solomon Islands",
           "SLB",
           4.41,
           0.646,
           0.048,
           0.467
          ],
          [
           "Somalia",
           "SOM",
           2.837,
           1.365,
           0.465,
           0.045
          ],
          [
           "South Africa",
           "ZAF",
           8.849,
           0.796,
           0.322,
           8.269
          ],
          [
           "South Korea",
           "KOR",
           12.894,
           0.505,
           0.208,
           12.539
          ],
          [
           "South Sudan",
           "SSD",
           null,
           null,
           null,
           0.157
          ],
          [
           "Spain",
           "ESP",
           6.086,
           0.843,
           0.427,
           5.592
          ],
          [
           "Sri Lanka",
           "LKA",
           1.775,
           0.446,
           0.116,
           1.095
          ],
          [
           "Sudan",
           "SDN",
           3.807,
           1.403,
           0.714,
           0.485
          ],
          [
           "Suriname",
           "SUR",
           12.991,
           2.938,
           0.531,
           4.029
          ],
          [
           "Sweden",
           "SWE",
           4.7,
           0.485,
           0.502,
           4.398
          ],
          [
           "Switzerland",
           "CHE",
           5.575,
           0.58,
           0.261,
           4.677
          ],
          [
           "Syria",
           "SYR",
           2.598,
           0.744,
           0.199,
           1.665
          ],
          [
           "Taiwan",
           "TWN",
           null,
           null,
           null,
           11.843
          ],
          [
           "Tajikistan",
           "TJK",
           1.537,
           0.623,
           0.256,
           0.743
          ],
          [
           "Tanzania",
           "TZA",
           6.022,
           1.42,
           0.622,
           0.205
          ],
          [
           "Thailand",
           "THA",
           6.049,
           1.219,
           0.303,
           4.11
          ],
          [
           "Timor",
           "TLS",
           null,
           null,
           null,
           0.406
          ],
          [
           "Togo",
           "TGO",
           2.047,
           0.459,
           0.246,
           0.307
          ],
          [
           "Tonga",
           "TON",
           2.871,
           0.99,
           0.495,
           1.268
          ],
          [
           "Trinidad and Tobago",
           "TTO",
           18.817,
           0.922,
           0.283,
           29.075
          ],
          [
           "Tunisia",
           "TUN",
           3.486,
           0.556,
           0.278,
           2.566
          ],
          [
           "Turkey",
           "TUR",
           4.96,
           0.558,
           0.441,
           5.026
          ],
          [
           "Turkmenistan",
           "TKM",
           22.284,
           8.914,
           0.652,
           12.391
          ],
          [
           "Turks and Caicos Islands",
           "TCA",
           null,
           null,
           null,
           5.913
          ],
          [
           "Tuvalu",
           "TUV",
           0.909,
           0.909,
           0,
           0.652
          ],
          [
           "Uganda",
           "UGA",
           2.045,
           0.844,
           0.397,
           0.121
          ],
          [
           "Ukraine",
           "UKR",
           6.345,
           1.441,
           0.537,
           5.233
          ],
          [
           "United Arab Emirates",
           "ARE",
           27.691,
           5.414,
           0.736,
           22.932
          ],
          [
           "United Kingdom",
           "GBR",
           6.962,
           0.788,
           0.428,
           6.023
          ],
          [
           "United States",
           "USA",
           18.059,
           1.948,
           0.779,
           16.247
          ],
          [
           "Uruguay",
           "URY",
           7.763,
           6.341,
           2.328,
           1.904
          ],
          [
           "Uzbekistan",
           "UZB",
           6.191,
           3.361,
           0.496,
           3.44
          ],
          [
           "Vanuatu",
           "VUT",
           2.986,
           1.763,
           0.647,
           0.527
          ],
          [
           "Venezuela",
           "VEN",
           11.729,
           2.774,
           0.498,
           5.677
          ],
          [
           "Vietnam",
           "VNM",
           3.356,
           0.972,
           0.259,
           2.059
          ],
          [
           "World",
           "OWID_WRL",
           6.613,
           1.146,
           0.409,
           4.75
          ],
          [
           "Yemen",
           "YEM",
           0.868,
           0.3,
           0.124,
           0.384
          ],
          [
           "Zambia",
           "ZMB",
           30.189,
           7.293,
           1.743,
           0.346
          ],
          [
           "Zimbabwe",
           "ZWE",
           4.703,
           0.85,
           0.467,
           0.765
          ]
         ],
         "hovertemplate": "%{customdata[0]} (%{customdata[1]})<br>Greenhouse Gas Emissions per Capita: %{customdata[2]}<br>Methane Emissions per Capita: %{customdata[3]}<br>Nitrous Oxide Emissions per Capita: %{customdata[4]}<br>CO<sub>2</sub> Emissions per Capita: %{customdata[5]}<br><extra></extra>",
         "locations": [
          "AFG",
          "ALB",
          "DZA",
          "AND",
          "AGO",
          "AIA",
          "ATA",
          "ATG",
          "ARG",
          "ARM",
          "ABW",
          "AUS",
          "AUT",
          "AZE",
          "BHS",
          "BHR",
          "BGD",
          "BRB",
          "BLR",
          "BEL",
          "BLZ",
          "BEN",
          "BMU",
          "BTN",
          "BOL",
          "BES",
          "BIH",
          "BWA",
          "BRA",
          "VGB",
          "BRN",
          "BGR",
          "BFA",
          "BDI",
          "KHM",
          "CMR",
          "CAN",
          "CPV",
          "CAF",
          "TCD",
          "CHL",
          "CHN",
          "CXR",
          "COL",
          "COM",
          "COG",
          "COK",
          "CRI",
          "CIV",
          "HRV",
          "CUB",
          "CUW",
          "CYP",
          "CZE",
          "COD",
          "DNK",
          "DJI",
          "DMA",
          "DOM",
          "ECU",
          "EGY",
          "SLV",
          "GNQ",
          "ERI",
          "EST",
          "SWZ",
          "ETH",
          "FRO",
          "FJI",
          "FIN",
          "FRA",
          "GUF",
          "PYF",
          "GAB",
          "GMB",
          "GEO",
          "DEU",
          "GHA",
          "GRC",
          "GRL",
          "GRD",
          "GLP",
          "GTM",
          "GIN",
          "GNB",
          "GUY",
          "HTI",
          "HND",
          "HKG",
          "HUN",
          "ISL",
          "IND",
          "IDN",
          "IRN",
          "IRQ",
          "IRL",
          "ISR",
          "ITA",
          "JAM",
          "JPN",
          "JOR",
          "KAZ",
          "KEN",
          "KIR",
          "OWID_KOS",
          "KWT",
          "KGZ",
          "LAO",
          "LVA",
          "LBN",
          "LSO",
          "LBR",
          "LBY",
          "LIE",
          "LTU",
          "LUX",
          "MDG",
          "MWI",
          "MYS",
          "MDV",
          "MLI",
          "MLT",
          "MHL",
          "MTQ",
          "MRT",
          "MUS",
          "MYT",
          "MEX",
          "MDA",
          "MNG",
          "MNE",
          "MSR",
          "MAR",
          "MOZ",
          "MMR",
          "NAM",
          "NRU",
          "NPL",
          "NLD",
          "NCL",
          "NZL",
          "NIC",
          "NER",
          "NGA",
          "NIU",
          "PRK",
          "MKD",
          "NOR",
          "OMN",
          "PAK",
          "PLW",
          "PSE",
          "PAN",
          "PNG",
          "PRY",
          "PER",
          "PHL",
          "POL",
          "PRT",
          "PRI",
          "QAT",
          "ROU",
          "RUS",
          "RWA",
          "SHN",
          "KNA",
          "LCA",
          "SPM",
          "VCT",
          "WSM",
          "STP",
          "SAU",
          "SEN",
          "SRB",
          "SYC",
          "SLE",
          "SGP",
          "SXM",
          "SVK",
          "SVN",
          "SLB",
          "SOM",
          "ZAF",
          "KOR",
          "SSD",
          "ESP",
          "LKA",
          "SDN",
          "SUR",
          "SWE",
          "CHE",
          "SYR",
          "TWN",
          "TJK",
          "TZA",
          "THA",
          "TLS",
          "TGO",
          "TON",
          "TTO",
          "TUN",
          "TUR",
          "TKM",
          "TCA",
          "TUV",
          "UGA",
          "UKR",
          "ARE",
          "GBR",
          "USA",
          "URY",
          "UZB",
          "VUT",
          "VEN",
          "VNM",
          "OWID_WRL",
          "YEM",
          "ZMB",
          "ZWE"
         ],
         "marker": {
          "line": {
           "width": 0.1
          }
         },
         "reversescale": true,
         "type": "choropleth",
         "visible": false,
         "z": [
          0.191,
          1.556,
          3.673,
          6.068,
          1.089,
          10.661,
          null,
          5.194,
          4.389,
          1.772,
          8.421,
          17.143,
          7.684,
          3.806,
          5.235,
          22.004,
          0.484,
          4.49,
          6.336,
          8.796,
          1.691,
          0.607,
          9.773,
          1.57,
          2.066,
          13.474,
          6.418,
          2.932,
          2.39,
          7.239,
          17.971,
          6.362,
          0.181,
          0.045,
          0.668,
          0.327,
          15.38,
          1.014,
          0.044,
          0.07,
          4.635,
          6.874,
          null,
          1.936,
          0.272,
          0.743,
          3.973,
          1.617,
          0.495,
          4.297,
          2.486,
          36.013,
          6.301,
          10.047,
          0.026,
          6.48,
          0.43,
          2.518,
          2.37,
          2.396,
          2.479,
          1.046,
          9.371,
          0.191,
          13.344,
          0.947,
          0.138,
          13.082,
          1.444,
          8.591,
          5.158,
          2.682,
          2.762,
          2.71,
          0.247,
          2.507,
          9.742,
          0.581,
          6.724,
          9.306,
          2.426,
          6.32,
          1.02,
          0.234,
          0.171,
          3.04,
          0.275,
          1.002,
          5.99,
          4.826,
          10.498,
          1.799,
          2.144,
          8.011,
          5.309,
          8.551,
          7.55,
          5.902,
          2.809,
          9.422,
          2.548,
          16.19,
          0.35,
          0.488,
          null,
          25.49,
          1.588,
          2.163,
          3.652,
          3.947,
          1.066,
          0.296,
          8.238,
          3.972,
          4.62,
          15.697,
          0.131,
          0.076,
          8.166,
          3.021,
          0.185,
          3.223,
          2.476,
          6.147,
          0.609,
          3.444,
          1.223,
          3.915,
          1.206,
          8.287,
          3.213,
          5.888,
          1.664,
          0.293,
          0.48,
          1.718,
          4.898,
          0.358,
          9.712,
          19.385,
          7.363,
          0.854,
          0.099,
          0.623,
          4.549,
          1.162,
          3.358,
          8.532,
          13.464,
          1.017,
          11.994,
          0.697,
          2.615,
          0.802,
          1.06,
          1.705,
          1.179,
          8.538,
          4.887,
          null,
          33.494,
          3.746,
          11.142,
          0.089,
          2.46,
          4.613,
          2.707,
          11.116,
          2.209,
          1.224,
          0.613,
          19.698,
          0.668,
          5.086,
          5.589,
          0.124,
          7.124,
          18.674,
          6.405,
          6.955,
          0.467,
          0.045,
          8.269,
          12.539,
          0.157,
          5.592,
          1.095,
          0.485,
          4.029,
          4.398,
          4.677,
          1.665,
          11.843,
          0.743,
          0.205,
          4.11,
          0.406,
          0.307,
          1.268,
          29.075,
          2.566,
          5.026,
          12.391,
          5.913,
          0.652,
          0.121,
          5.233,
          22.932,
          6.023,
          16.247,
          1.904,
          3.44,
          0.527,
          5.677,
          2.059,
          4.75,
          0.384,
          0.346,
          0.765
         ],
         "zmax": 11.933599999999998,
         "zmin": 0.27320000000000005
        }
       ],
       "layout": {
        "geo": {
         "projection": {
          "type": "natural earth"
         },
         "showcoastlines": false
        },
        "margin": {
         "b": 0,
         "l": 0,
         "r": 0,
         "t": 50
        },
        "template": {
         "data": {
          "bar": [
           {
            "error_x": {
             "color": "#2a3f5f"
            },
            "error_y": {
             "color": "#2a3f5f"
            },
            "marker": {
             "line": {
              "color": "#E5ECF6",
              "width": 0.5
             },
             "pattern": {
              "fillmode": "overlay",
              "size": 10,
              "solidity": 0.2
             }
            },
            "type": "bar"
           }
          ],
          "barpolar": [
           {
            "marker": {
             "line": {
              "color": "#E5ECF6",
              "width": 0.5
             },
             "pattern": {
              "fillmode": "overlay",
              "size": 10,
              "solidity": 0.2
             }
            },
            "type": "barpolar"
           }
          ],
          "carpet": [
           {
            "aaxis": {
             "endlinecolor": "#2a3f5f",
             "gridcolor": "white",
             "linecolor": "white",
             "minorgridcolor": "white",
             "startlinecolor": "#2a3f5f"
            },
            "baxis": {
             "endlinecolor": "#2a3f5f",
             "gridcolor": "white",
             "linecolor": "white",
             "minorgridcolor": "white",
             "startlinecolor": "#2a3f5f"
            },
            "type": "carpet"
           }
          ],
          "choropleth": [
           {
            "colorbar": {
             "outlinewidth": 0,
             "ticks": ""
            },
            "type": "choropleth"
           }
          ],
          "contour": [
           {
            "colorbar": {
             "outlinewidth": 0,
             "ticks": ""
            },
            "colorscale": [
             [
              0,
              "#0d0887"
             ],
             [
              0.1111111111111111,
              "#46039f"
             ],
             [
              0.2222222222222222,
              "#7201a8"
             ],
             [
              0.3333333333333333,
              "#9c179e"
             ],
             [
              0.4444444444444444,
              "#bd3786"
             ],
             [
              0.5555555555555556,
              "#d8576b"
             ],
             [
              0.6666666666666666,
              "#ed7953"
             ],
             [
              0.7777777777777778,
              "#fb9f3a"
             ],
             [
              0.8888888888888888,
              "#fdca26"
             ],
             [
              1,
              "#f0f921"
             ]
            ],
            "type": "contour"
           }
          ],
          "contourcarpet": [
           {
            "colorbar": {
             "outlinewidth": 0,
             "ticks": ""
            },
            "type": "contourcarpet"
           }
          ],
          "heatmap": [
           {
            "colorbar": {
             "outlinewidth": 0,
             "ticks": ""
            },
            "colorscale": [
             [
              0,
              "#0d0887"
             ],
             [
              0.1111111111111111,
              "#46039f"
             ],
             [
              0.2222222222222222,
              "#7201a8"
             ],
             [
              0.3333333333333333,
              "#9c179e"
             ],
             [
              0.4444444444444444,
              "#bd3786"
             ],
             [
              0.5555555555555556,
              "#d8576b"
             ],
             [
              0.6666666666666666,
              "#ed7953"
             ],
             [
              0.7777777777777778,
              "#fb9f3a"
             ],
             [
              0.8888888888888888,
              "#fdca26"
             ],
             [
              1,
              "#f0f921"
             ]
            ],
            "type": "heatmap"
           }
          ],
          "heatmapgl": [
           {
            "colorbar": {
             "outlinewidth": 0,
             "ticks": ""
            },
            "colorscale": [
             [
              0,
              "#0d0887"
             ],
             [
              0.1111111111111111,
              "#46039f"
             ],
             [
              0.2222222222222222,
              "#7201a8"
             ],
             [
              0.3333333333333333,
              "#9c179e"
             ],
             [
              0.4444444444444444,
              "#bd3786"
             ],
             [
              0.5555555555555556,
              "#d8576b"
             ],
             [
              0.6666666666666666,
              "#ed7953"
             ],
             [
              0.7777777777777778,
              "#fb9f3a"
             ],
             [
              0.8888888888888888,
              "#fdca26"
             ],
             [
              1,
              "#f0f921"
             ]
            ],
            "type": "heatmapgl"
           }
          ],
          "histogram": [
           {
            "marker": {
             "pattern": {
              "fillmode": "overlay",
              "size": 10,
              "solidity": 0.2
             }
            },
            "type": "histogram"
           }
          ],
          "histogram2d": [
           {
            "colorbar": {
             "outlinewidth": 0,
             "ticks": ""
            },
            "colorscale": [
             [
              0,
              "#0d0887"
             ],
             [
              0.1111111111111111,
              "#46039f"
             ],
             [
              0.2222222222222222,
              "#7201a8"
             ],
             [
              0.3333333333333333,
              "#9c179e"
             ],
             [
              0.4444444444444444,
              "#bd3786"
             ],
             [
              0.5555555555555556,
              "#d8576b"
             ],
             [
              0.6666666666666666,
              "#ed7953"
             ],
             [
              0.7777777777777778,
              "#fb9f3a"
             ],
             [
              0.8888888888888888,
              "#fdca26"
             ],
             [
              1,
              "#f0f921"
             ]
            ],
            "type": "histogram2d"
           }
          ],
          "histogram2dcontour": [
           {
            "colorbar": {
             "outlinewidth": 0,
             "ticks": ""
            },
            "colorscale": [
             [
              0,
              "#0d0887"
             ],
             [
              0.1111111111111111,
              "#46039f"
             ],
             [
              0.2222222222222222,
              "#7201a8"
             ],
             [
              0.3333333333333333,
              "#9c179e"
             ],
             [
              0.4444444444444444,
              "#bd3786"
             ],
             [
              0.5555555555555556,
              "#d8576b"
             ],
             [
              0.6666666666666666,
              "#ed7953"
             ],
             [
              0.7777777777777778,
              "#fb9f3a"
             ],
             [
              0.8888888888888888,
              "#fdca26"
             ],
             [
              1,
              "#f0f921"
             ]
            ],
            "type": "histogram2dcontour"
           }
          ],
          "mesh3d": [
           {
            "colorbar": {
             "outlinewidth": 0,
             "ticks": ""
            },
            "type": "mesh3d"
           }
          ],
          "parcoords": [
           {
            "line": {
             "colorbar": {
              "outlinewidth": 0,
              "ticks": ""
             }
            },
            "type": "parcoords"
           }
          ],
          "pie": [
           {
            "automargin": true,
            "type": "pie"
           }
          ],
          "scatter": [
           {
            "marker": {
             "colorbar": {
              "outlinewidth": 0,
              "ticks": ""
             }
            },
            "type": "scatter"
           }
          ],
          "scatter3d": [
           {
            "line": {
             "colorbar": {
              "outlinewidth": 0,
              "ticks": ""
             }
            },
            "marker": {
             "colorbar": {
              "outlinewidth": 0,
              "ticks": ""
             }
            },
            "type": "scatter3d"
           }
          ],
          "scattercarpet": [
           {
            "marker": {
             "colorbar": {
              "outlinewidth": 0,
              "ticks": ""
             }
            },
            "type": "scattercarpet"
           }
          ],
          "scattergeo": [
           {
            "marker": {
             "colorbar": {
              "outlinewidth": 0,
              "ticks": ""
             }
            },
            "type": "scattergeo"
           }
          ],
          "scattergl": [
           {
            "marker": {
             "colorbar": {
              "outlinewidth": 0,
              "ticks": ""
             }
            },
            "type": "scattergl"
           }
          ],
          "scattermapbox": [
           {
            "marker": {
             "colorbar": {
              "outlinewidth": 0,
              "ticks": ""
             }
            },
            "type": "scattermapbox"
           }
          ],
          "scatterpolar": [
           {
            "marker": {
             "colorbar": {
              "outlinewidth": 0,
              "ticks": ""
             }
            },
            "type": "scatterpolar"
           }
          ],
          "scatterpolargl": [
           {
            "marker": {
             "colorbar": {
              "outlinewidth": 0,
              "ticks": ""
             }
            },
            "type": "scatterpolargl"
           }
          ],
          "scatterternary": [
           {
            "marker": {
             "colorbar": {
              "outlinewidth": 0,
              "ticks": ""
             }
            },
            "type": "scatterternary"
           }
          ],
          "surface": [
           {
            "colorbar": {
             "outlinewidth": 0,
             "ticks": ""
            },
            "colorscale": [
             [
              0,
              "#0d0887"
             ],
             [
              0.1111111111111111,
              "#46039f"
             ],
             [
              0.2222222222222222,
              "#7201a8"
             ],
             [
              0.3333333333333333,
              "#9c179e"
             ],
             [
              0.4444444444444444,
              "#bd3786"
             ],
             [
              0.5555555555555556,
              "#d8576b"
             ],
             [
              0.6666666666666666,
              "#ed7953"
             ],
             [
              0.7777777777777778,
              "#fb9f3a"
             ],
             [
              0.8888888888888888,
              "#fdca26"
             ],
             [
              1,
              "#f0f921"
             ]
            ],
            "type": "surface"
           }
          ],
          "table": [
           {
            "cells": {
             "fill": {
              "color": "#EBF0F8"
             },
             "line": {
              "color": "white"
             }
            },
            "header": {
             "fill": {
              "color": "#C8D4E3"
             },
             "line": {
              "color": "white"
             }
            },
            "type": "table"
           }
          ]
         },
         "layout": {
          "annotationdefaults": {
           "arrowcolor": "#2a3f5f",
           "arrowhead": 0,
           "arrowwidth": 1
          },
          "autotypenumbers": "strict",
          "coloraxis": {
           "colorbar": {
            "outlinewidth": 0,
            "ticks": ""
           }
          },
          "colorscale": {
           "diverging": [
            [
             0,
             "#8e0152"
            ],
            [
             0.1,
             "#c51b7d"
            ],
            [
             0.2,
             "#de77ae"
            ],
            [
             0.3,
             "#f1b6da"
            ],
            [
             0.4,
             "#fde0ef"
            ],
            [
             0.5,
             "#f7f7f7"
            ],
            [
             0.6,
             "#e6f5d0"
            ],
            [
             0.7,
             "#b8e186"
            ],
            [
             0.8,
             "#7fbc41"
            ],
            [
             0.9,
             "#4d9221"
            ],
            [
             1,
             "#276419"
            ]
           ],
           "sequential": [
            [
             0,
             "#0d0887"
            ],
            [
             0.1111111111111111,
             "#46039f"
            ],
            [
             0.2222222222222222,
             "#7201a8"
            ],
            [
             0.3333333333333333,
             "#9c179e"
            ],
            [
             0.4444444444444444,
             "#bd3786"
            ],
            [
             0.5555555555555556,
             "#d8576b"
            ],
            [
             0.6666666666666666,
             "#ed7953"
            ],
            [
             0.7777777777777778,
             "#fb9f3a"
            ],
            [
             0.8888888888888888,
             "#fdca26"
            ],
            [
             1,
             "#f0f921"
            ]
           ],
           "sequentialminus": [
            [
             0,
             "#0d0887"
            ],
            [
             0.1111111111111111,
             "#46039f"
            ],
            [
             0.2222222222222222,
             "#7201a8"
            ],
            [
             0.3333333333333333,
             "#9c179e"
            ],
            [
             0.4444444444444444,
             "#bd3786"
            ],
            [
             0.5555555555555556,
             "#d8576b"
            ],
            [
             0.6666666666666666,
             "#ed7953"
            ],
            [
             0.7777777777777778,
             "#fb9f3a"
            ],
            [
             0.8888888888888888,
             "#fdca26"
            ],
            [
             1,
             "#f0f921"
            ]
           ]
          },
          "colorway": [
           "#636efa",
           "#EF553B",
           "#00cc96",
           "#ab63fa",
           "#FFA15A",
           "#19d3f3",
           "#FF6692",
           "#B6E880",
           "#FF97FF",
           "#FECB52"
          ],
          "font": {
           "color": "#2a3f5f"
          },
          "geo": {
           "bgcolor": "white",
           "lakecolor": "white",
           "landcolor": "#E5ECF6",
           "showlakes": true,
           "showland": true,
           "subunitcolor": "white"
          },
          "hoverlabel": {
           "align": "left"
          },
          "hovermode": "closest",
          "mapbox": {
           "style": "light"
          },
          "paper_bgcolor": "white",
          "plot_bgcolor": "#E5ECF6",
          "polar": {
           "angularaxis": {
            "gridcolor": "white",
            "linecolor": "white",
            "ticks": ""
           },
           "bgcolor": "#E5ECF6",
           "radialaxis": {
            "gridcolor": "white",
            "linecolor": "white",
            "ticks": ""
           }
          },
          "scene": {
           "xaxis": {
            "backgroundcolor": "#E5ECF6",
            "gridcolor": "white",
            "gridwidth": 2,
            "linecolor": "white",
            "showbackground": true,
            "ticks": "",
            "zerolinecolor": "white"
           },
           "yaxis": {
            "backgroundcolor": "#E5ECF6",
            "gridcolor": "white",
            "gridwidth": 2,
            "linecolor": "white",
            "showbackground": true,
            "ticks": "",
            "zerolinecolor": "white"
           },
           "zaxis": {
            "backgroundcolor": "#E5ECF6",
            "gridcolor": "white",
            "gridwidth": 2,
            "linecolor": "white",
            "showbackground": true,
            "ticks": "",
            "zerolinecolor": "white"
           }
          },
          "shapedefaults": {
           "line": {
            "color": "#2a3f5f"
           }
          },
          "ternary": {
           "aaxis": {
            "gridcolor": "white",
            "linecolor": "white",
            "ticks": ""
           },
           "baxis": {
            "gridcolor": "white",
            "linecolor": "white",
            "ticks": ""
           },
           "bgcolor": "#E5ECF6",
           "caxis": {
            "gridcolor": "white",
            "linecolor": "white",
            "ticks": ""
           }
          },
          "title": {
           "x": 0.05
          },
          "xaxis": {
           "automargin": true,
           "gridcolor": "white",
           "linecolor": "white",
           "ticks": "",
           "title": {
            "standoff": 15
           },
           "zerolinecolor": "white",
           "zerolinewidth": 2
          },
          "yaxis": {
           "automargin": true,
           "gridcolor": "white",
           "linecolor": "white",
           "ticks": "",
           "title": {
            "standoff": 15
           },
           "zerolinecolor": "white",
           "zerolinewidth": 2
          }
         }
        },
        "title": {
         "text": "Greenhouse Gas (GHG) Emissions"
        },
        "updatemenus": [
         {
          "buttons": [
           {
            "args": [
             {
              "visible": [
               true,
               false,
               false,
               false
              ]
             }
            ],
            "label": "Greenhouse Gas Emissions per Capita",
            "method": "update"
           },
           {
            "args": [
             {
              "visible": [
               false,
               true,
               false,
               false
              ]
             }
            ],
            "label": "Methane Emissions per Capita",
            "method": "update"
           },
           {
            "args": [
             {
              "visible": [
               false,
               false,
               true,
               false
              ]
             }
            ],
            "label": "Nitrous Oxide Emissions per Capita",
            "method": "update"
           },
           {
            "args": [
             {
              "visible": [
               false,
               false,
               false,
               true
              ]
             }
            ],
            "label": "CO<sub>2</sub> Emissions per Capita",
            "method": "update"
           }
          ],
          "direction": "down",
          "pad": {
           "r": 10,
           "t": 0
          },
          "x": 0.4,
          "xanchor": "left",
          "y": 1.1,
          "yanchor": "top"
         }
        ]
       }
      },
      "text/html": [
       "<div>                            <div id=\"2c3abe05-edf8-4bf0-a443-dd57b84334c5\" class=\"plotly-graph-div\" style=\"height:525px; width:100%;\"></div>            <script type=\"text/javascript\">                require([\"plotly\"], function(Plotly) {                    window.PLOTLYENV=window.PLOTLYENV || {};                                    if (document.getElementById(\"2c3abe05-edf8-4bf0-a443-dd57b84334c5\")) {                    Plotly.newPlot(                        \"2c3abe05-edf8-4bf0-a443-dd57b84334c5\",                        [{\"colorbar\":{\"title\":{\"text\":\"GHG<br>Emissions<br>per Capita\"}},\"colorscale\":[[0.0,\"rgb(165,0,38)\"],[0.1,\"rgb(215,48,39)\"],[0.2,\"rgb(244,109,67)\"],[0.3,\"rgb(253,174,97)\"],[0.4,\"rgb(254,224,139)\"],[0.5,\"rgb(255,255,191)\"],[0.6,\"rgb(217,239,139)\"],[0.7,\"rgb(166,217,106)\"],[0.8,\"rgb(102,189,99)\"],[0.9,\"rgb(26,152,80)\"],[1.0,\"rgb(0,104,55)\"]],\"customdata\":[[\"Afghanistan\",\"AFG\",2.73,2.209,0.258,0.191],[\"Albania\",\"ALB\",3.184,1.126,0.437,1.556],[\"Algeria\",\"DZA\",5.181,1.219,0.294,3.673],[\"Andorra\",\"AND\",1.299,0.649,0.0,6.068],[\"Angola\",\"AGO\",6.245,1.789,0.728,1.089],[\"Anguilla\",\"AIA\",null,null,null,10.661],[\"Antarctica\",\"ATA\",null,null,null,null],[\"Antigua and Barbuda\",\"ATG\",14.526,2.105,0.211,5.194],[\"Argentina\",\"ARG\",11.08,2.794,1.111,4.389],[\"Armenia\",\"ARM\",3.222,0.875,0.552,1.772],[\"Aruba\",\"ABW\",null,null,null,8.421],[\"Australia\",\"AUS\",21.394,5.033,2.357,17.143],[\"Austria\",\"AUT\",8.214,0.776,0.423,7.684],[\"Azerbaijan\",\"AZE\",7.599,4.604,0.37,3.806],[\"Bahamas\",\"BHS\",10.503,0.899,0.317,5.235],[\"Bahrain\",\"BHR\",33.008,9.986,0.049,22.004],[\"Bangladesh\",\"BGD\",1.327,0.509,0.173,0.484],[\"Barbados\",\"BRB\",15.21,8.147,0.175,4.49],[\"Belarus\",\"BLR\",8.543,1.756,1.25,6.336],[\"Belgium\",\"BEL\",9.455,0.744,0.395,8.796],[\"Belize\",\"BLZ\",13.207,2.772,0.897,1.691],[\"Benin\",\"BEN\",2.44,0.532,0.275,0.607],[\"Bermuda\",\"BMU\",null,null,null,9.773],[\"Bhutan\",\"BTN\",-2.469,1.208,0.258,1.57],[\"Bolivia\",\"BOL\",13.682,2.994,1.073,2.066],[\"Bonaire Sint Eustatius and Saba\",\"BES\",null,null,null,13.474],[\"Bosnia and Herzegovina\",\"BIH\",8.048,1.025,0.357,6.418],[\"Botswana\",\"BWA\",32.403,7.037,1.87,2.932],[\"Brazil\",\"BRA\",6.691,2.159,0.887,2.39],[\"British Virgin Islands\",\"VGB\",null,null,null,7.239],[\"Brunei\",\"BRN\",40.0,22.119,0.381,17.971],[\"Bulgaria\",\"BGR\",6.162,0.993,0.561,6.362],[\"Burkina Faso\",\"BFA\",2.072,0.829,0.531,0.181],[\"Burundi\",\"BDI\",0.738,0.187,0.176,0.045],[\"Cambodia\",\"KHM\",4.15,1.621,0.424,0.668],[\"Cameroon\",\"CMR\",8.709,0.763,2.662,0.327],[\"Canada\",\"CAN\",21.419,2.903,1.219,15.38],[\"Cape Verde\",\"CPV\",1.751,0.245,0.151,1.014],[\"Central African Republic\",\"CAF\",16.688,5.93,7.62,0.044],[\"Chad\",\"TCD\",7.002,3.539,1.682,0.07],[\"Chile\",\"CHL\",0.205,0.727,0.359,4.635],[\"China\",\"CHN\",8.187,0.895,0.394,6.874],[\"Christmas Island\",\"CXR\",null,null,null,null],[\"Colombia\",\"COL\",4.816,1.641,0.443,1.936],[\"Comoros\",\"COM\",0.754,0.352,0.063,0.272],[\"Congo\",\"COG\",9.992,2.594,0.803,0.743],[\"Cook Islands\",\"COK\",6.111,0.556,0.0,3.973],[\"Costa Rica\",\"CRI\",0.945,1.025,0.412,1.617],[\"Cote d'Ivoire\",\"CIV\",1.308,0.317,0.162,0.495],[\"Croatia\",\"HRV\",4.5,0.889,0.387,4.297],[\"Cuba\",\"CUB\",2.403,1.151,0.332,2.486],[\"Curacao\",\"CUW\",null,null,null,36.013],[\"Cyprus\",\"CYP\",7.06,0.615,0.308,6.301],[\"Czechia\",\"CZE\",10.525,1.171,0.527,10.047],[\"Democratic Republic of Congo\",\"COD\",2.854,0.676,0.272,0.026],[\"Denmark\",\"DNK\",8.17,1.255,0.89,6.48],[\"Djibouti\",\"DJI\",2.239,0.732,0.291,0.43],[\"Dominica\",\"DMA\",5.352,0.704,0.282,2.518],[\"Dominican Republic\",\"DOM\",2.779,0.877,0.299,2.37],[\"Ecuador\",\"ECU\",5.978,1.247,0.291,2.396],[\"Egypt\",\"EGY\",3.287,0.596,0.24,2.479],[\"El Salvador\",\"SLV\",2.121,0.634,0.194,1.046],[\"Equatorial Guinea\",\"GNQ\",19.111,10.897,0.033,9.371],[\"Eritrea\",\"ERI\",2.357,1.09,0.841,0.191],[\"Estonia\",\"EST\",15.475,0.835,1.017,13.344],[\"Eswatini\",\"SWZ\",2.908,1.338,0.395,0.947],[\"Ethiopia\",\"ETH\",1.821,1.021,0.489,0.138],[\"Faeroe Islands\",\"FRO\",null,null,null,13.082],[\"Fiji\",\"FJI\",1.101,1.25,0.413,1.444],[\"Finland\",\"FIN\",11.488,0.817,0.844,8.591],[\"France\",\"FRA\",5.097,0.926,0.581,5.158],[\"French Guiana\",\"GUF\",null,null,null,2.682],[\"French Polynesia\",\"PYF\",null,null,null,2.762],[\"Gabon\",\"GAB\",-42.311,0.727,0.274,2.71],[\"Gambia\",\"GMB\",1.117,0.768,0.186,0.247],[\"Georgia\",\"GEO\",4.291,1.342,0.553,2.507],[\"Germany\",\"DEU\",9.839,0.675,0.433,9.742],[\"Ghana\",\"GHA\",1.792,0.751,0.229,0.581],[\"Greece\",\"GRC\",8.136,0.896,0.426,6.724],[\"Greenland\",\"GRL\",null,null,null,9.306],[\"Grenada\",\"GRD\",21.091,18.273,0.091,2.426],[\"Guadeloupe\",\"GLP\",null,null,null,6.32],[\"Guatemala\",\"GTM\",2.641,0.777,0.325,1.02],[\"Guinea\",\"GIN\",3.885,1.582,0.639,0.234],[\"Guinea-Bissau\",\"GNB\",2.363,0.802,0.438,0.171],[\"Guyana\",\"GUY\",48.534,7.289,1.855,3.04],[\"Haiti\",\"HTI\",0.926,0.43,0.148,0.275],[\"Honduras\",\"HND\",5.553,1.002,0.375,1.002],[\"Hong Kong\",\"HKG\",null,null,null,5.99],[\"Hungary\",\"HUN\",6.283,0.738,0.568,4.826],[\"Iceland\",\"ISL\",9.608,1.657,1.205,10.498],[\"India\",\"IND\",2.443,0.501,0.187,1.799],[\"Indonesia\",\"IDN\",8.522,1.118,0.354,2.144],[\"Iran\",\"IRN\",10.909,1.799,0.468,8.011],[\"Iraq\",\"IRQ\",5.228,0.435,0.132,5.309],[\"Ireland\",\"IRL\",13.965,3.511,2.006,8.551],[\"Israel\",\"ISR\",11.109,1.447,0.28,7.55],[\"Italy\",\"ITA\",6.093,0.738,0.298,5.902],[\"Jamaica\",\"JAM\",3.304,0.282,0.141,2.809],[\"Japan\",\"JPN\",9.892,0.168,0.142,9.422],[\"Jordan\",\"JOR\",3.739,0.633,0.136,2.548],[\"Kazakhstan\",\"KAZ\",16.209,2.249,0.566,16.19],[\"Kenya\",\"KEN\",0.974,0.828,0.383,0.35],[\"Kiribati\",\"KIR\",0.708,0.177,0.088,0.488],[\"Kosovo\",\"OWID_KOS\",null,null,null,null],[\"Kuwait\",\"KWT\",28.302,1.483,0.177,25.49],[\"Kyrgyzstan\",\"KGZ\",2.634,0.79,0.326,1.588],[\"Laos\",\"LAO\",6.906,2.226,0.789,2.163],[\"Latvia\",\"LVA\",-1.18,1.008,0.983,3.652],[\"Lebanon\",\"LBN\",4.675,0.462,0.109,3.947],[\"Lesotho\",\"LSO\",1.769,1.084,0.381,1.066],[\"Liberia\",\"LBR\",2.298,1.365,0.31,0.296],[\"Libya\",\"LBY\",13.47,4.596,0.294,8.238],[\"Liechtenstein\",\"LIE\",1.053,0.526,0.263,3.972],[\"Lithuania\",\"LTU\",6.128,1.149,1.263,4.62],[\"Luxembourg\",\"LUX\",16.874,0.95,0.518,15.697],[\"Madagascar\",\"MDG\",2.364,0.828,0.408,0.131],[\"Malawi\",\"MWI\",1.232,0.643,0.244,0.076],[\"Malaysia\",\"MYS\",5.248,1.588,0.344,8.166],[\"Maldives\",\"MDV\",4.244,0.252,0.063,3.021],[\"Mali\",\"MLI\",2.642,1.245,0.799,0.185],[\"Malta\",\"MLT\",4.404,0.505,0.115,3.223],[\"Marshall Islands\",\"MHL\",0.69,0.517,0.0,2.476],[\"Martinique\",\"MTQ\",null,null,null,6.147],[\"Mauritania\",\"MRT\",2.738,1.669,0.797,0.609],[\"Mauritius\",\"MUS\",5.135,1.49,0.19,3.444],[\"Mayotte\",\"MYT\",null,null,null,1.223],[\"Mexico\",\"MEX\",5.581,1.175,0.354,3.915],[\"Moldova\",\"MDA\",2.912,0.829,0.325,1.206],[\"Mongolia\",\"MNG\",22.12,5.602,4.169,8.287],[\"Montenegro\",\"MNE\",5.455,1.324,0.287,3.213],[\"Montserrat\",\"MSR\",null,null,null,5.888],[\"Morocco\",\"MAR\",2.507,0.49,0.25,1.664],[\"Mozambique\",\"MOZ\",2.735,0.666,0.418,0.293],[\"Myanmar\",\"MMR\",4.139,1.466,0.455,0.48],[\"Namibia\",\"NAM\",8.656,1.985,1.293,1.718],[\"Nauru\",\"NRU\",8.0,0.0,0.0,4.898],[\"Nepal\",\"NPL\",2.247,1.307,0.358,0.358],[\"Netherlands\",\"NLD\",11.011,1.109,0.502,9.712],[\"New Caledonia\",\"NCL\",null,null,null,19.385],[\"New Zealand\",\"NZL\",13.55,7.042,3.215,7.363],[\"Nicaragua\",\"NIC\",3.274,1.688,0.598,0.854],[\"Niger\",\"NER\",2.054,1.328,0.537,0.099],[\"Nigeria\",\"NGA\",2.587,0.72,0.201,0.623],[\"Niue\",\"NIU\",30.0,0.0,0.0,4.549],[\"North Korea\",\"PRK\",2.59,0.731,0.096,1.162],[\"North Macedonia\",\"MKD\",4.993,1.197,0.284,3.358],[\"Norway\",\"NOR\",4.534,0.95,0.613,8.532],[\"Oman\",\"OMN\",16.964,1.192,0.167,13.464],[\"Pakistan\",\"PAK\",1.982,0.703,0.284,1.017],[\"Palau\",\"PLW\",1.667,1.111,0.0,11.994],[\"Palestine\",\"PSE\",null,null,null,0.697],[\"Panama\",\"PAN\",6.673,1.33,0.332,2.615],[\"Papua New Guinea\",\"PNG\",7.719,1.674,0.5,0.802],[\"Paraguay\",\"PRY\",28.709,4.916,1.679,1.06],[\"Peru\",\"PER\",5.46,1.015,0.313,1.705],[\"Philippines\",\"PHL\",1.441,0.632,0.13,1.179],[\"Poland\",\"POL\",9.207,1.232,0.569,8.538],[\"Portugal\",\"PRT\",6.72,1.129,0.322,4.887],[\"Puerto Rico\",\"PRI\",null,null,null,null],[\"Qatar\",\"QAT\",34.763,2.894,0.531,33.494],[\"Romania\",\"ROU\",-2.962,1.237,0.418,3.746],[\"Russia\",\"RUS\",16.461,6.206,0.513,11.142],[\"Rwanda\",\"RWA\",0.65,0.279,0.176,0.089],[\"Saint Helena\",\"SHN\",null,null,null,2.46],[\"Saint Kitts and Nevis\",\"KNA\",7.115,1.538,0.385,4.613],[\"Saint Lucia\",\"LCA\",4.5,1.5,0.167,2.707],[\"Saint Pierre and Miquelon\",\"SPM\",null,null,null,11.116],[\"Saint Vincent and the Grenadines\",\"VCT\",3.028,0.642,0.092,2.209],[\"Samoa\",\"WSM\",3.59,1.538,0.308,1.224],[\"Sao Tome and Principe\",\"STP\",0.985,0.148,0.099,0.613],[\"Saudi Arabia\",\"SAU\",20.454,1.312,0.181,19.698],[\"Senegal\",\"SEN\",2.334,0.74,0.548,0.668],[\"Serbia\",\"SRB\",7.1,1.4,0.56,5.086],[\"Seychelles\",\"SYC\",13.542,0.937,0.0,5.589],[\"Sierra Leone\",\"SLE\",1.854,0.703,0.224,0.124],[\"Singapore\",\"SGP\",11.187,0.697,1.595,7.124],[\"Sint Maarten (Dutch part)\",\"SXM\",null,null,null,18.674],[\"Slovakia\",\"SVK\",6.161,0.805,0.369,6.405],[\"Slovenia\",\"SVN\",5.299,0.969,0.386,6.955],[\"Solomon Islands\",\"SLB\",4.41,0.646,0.048,0.467],[\"Somalia\",\"SOM\",2.837,1.365,0.465,0.045],[\"South Africa\",\"ZAF\",8.849,0.796,0.322,8.269],[\"South Korea\",\"KOR\",12.894,0.505,0.208,12.539],[\"South Sudan\",\"SSD\",null,null,null,0.157],[\"Spain\",\"ESP\",6.086,0.843,0.427,5.592],[\"Sri Lanka\",\"LKA\",1.775,0.446,0.116,1.095],[\"Sudan\",\"SDN\",3.807,1.403,0.714,0.485],[\"Suriname\",\"SUR\",12.991,2.938,0.531,4.029],[\"Sweden\",\"SWE\",4.7,0.485,0.502,4.398],[\"Switzerland\",\"CHE\",5.575,0.58,0.261,4.677],[\"Syria\",\"SYR\",2.598,0.744,0.199,1.665],[\"Taiwan\",\"TWN\",null,null,null,11.843],[\"Tajikistan\",\"TJK\",1.537,0.623,0.256,0.743],[\"Tanzania\",\"TZA\",6.022,1.42,0.622,0.205],[\"Thailand\",\"THA\",6.049,1.219,0.303,4.11],[\"Timor\",\"TLS\",null,null,null,0.406],[\"Togo\",\"TGO\",2.047,0.459,0.246,0.307],[\"Tonga\",\"TON\",2.871,0.99,0.495,1.268],[\"Trinidad and Tobago\",\"TTO\",18.817,0.922,0.283,29.075],[\"Tunisia\",\"TUN\",3.486,0.556,0.278,2.566],[\"Turkey\",\"TUR\",4.96,0.558,0.441,5.026],[\"Turkmenistan\",\"TKM\",22.284,8.914,0.652,12.391],[\"Turks and Caicos Islands\",\"TCA\",null,null,null,5.913],[\"Tuvalu\",\"TUV\",0.909,0.909,0.0,0.652],[\"Uganda\",\"UGA\",2.045,0.844,0.397,0.121],[\"Ukraine\",\"UKR\",6.345,1.441,0.537,5.233],[\"United Arab Emirates\",\"ARE\",27.691,5.414,0.736,22.932],[\"United Kingdom\",\"GBR\",6.962,0.788,0.428,6.023],[\"United States\",\"USA\",18.059,1.948,0.779,16.247],[\"Uruguay\",\"URY\",7.763,6.341,2.328,1.904],[\"Uzbekistan\",\"UZB\",6.191,3.361,0.496,3.44],[\"Vanuatu\",\"VUT\",2.986,1.763,0.647,0.527],[\"Venezuela\",\"VEN\",11.729,2.774,0.498,5.677],[\"Vietnam\",\"VNM\",3.356,0.972,0.259,2.059],[\"World\",\"OWID_WRL\",6.613,1.146,0.409,4.75],[\"Yemen\",\"YEM\",0.868,0.3,0.124,0.384],[\"Zambia\",\"ZMB\",30.189,7.293,1.743,0.346],[\"Zimbabwe\",\"ZWE\",4.703,0.85,0.467,0.765]],\"hovertemplate\":\"%{customdata[0]} (%{customdata[1]})<br>Greenhouse Gas Emissions per Capita: %{customdata[2]}<br>Methane Emissions per Capita: %{customdata[3]}<br>Nitrous Oxide Emissions per Capita: %{customdata[4]}<br>CO<sub>2</sub> Emissions per Capita: %{customdata[5]}<br><extra></extra>\",\"locations\":[\"AFG\",\"ALB\",\"DZA\",\"AND\",\"AGO\",\"AIA\",\"ATA\",\"ATG\",\"ARG\",\"ARM\",\"ABW\",\"AUS\",\"AUT\",\"AZE\",\"BHS\",\"BHR\",\"BGD\",\"BRB\",\"BLR\",\"BEL\",\"BLZ\",\"BEN\",\"BMU\",\"BTN\",\"BOL\",\"BES\",\"BIH\",\"BWA\",\"BRA\",\"VGB\",\"BRN\",\"BGR\",\"BFA\",\"BDI\",\"KHM\",\"CMR\",\"CAN\",\"CPV\",\"CAF\",\"TCD\",\"CHL\",\"CHN\",\"CXR\",\"COL\",\"COM\",\"COG\",\"COK\",\"CRI\",\"CIV\",\"HRV\",\"CUB\",\"CUW\",\"CYP\",\"CZE\",\"COD\",\"DNK\",\"DJI\",\"DMA\",\"DOM\",\"ECU\",\"EGY\",\"SLV\",\"GNQ\",\"ERI\",\"EST\",\"SWZ\",\"ETH\",\"FRO\",\"FJI\",\"FIN\",\"FRA\",\"GUF\",\"PYF\",\"GAB\",\"GMB\",\"GEO\",\"DEU\",\"GHA\",\"GRC\",\"GRL\",\"GRD\",\"GLP\",\"GTM\",\"GIN\",\"GNB\",\"GUY\",\"HTI\",\"HND\",\"HKG\",\"HUN\",\"ISL\",\"IND\",\"IDN\",\"IRN\",\"IRQ\",\"IRL\",\"ISR\",\"ITA\",\"JAM\",\"JPN\",\"JOR\",\"KAZ\",\"KEN\",\"KIR\",\"OWID_KOS\",\"KWT\",\"KGZ\",\"LAO\",\"LVA\",\"LBN\",\"LSO\",\"LBR\",\"LBY\",\"LIE\",\"LTU\",\"LUX\",\"MDG\",\"MWI\",\"MYS\",\"MDV\",\"MLI\",\"MLT\",\"MHL\",\"MTQ\",\"MRT\",\"MUS\",\"MYT\",\"MEX\",\"MDA\",\"MNG\",\"MNE\",\"MSR\",\"MAR\",\"MOZ\",\"MMR\",\"NAM\",\"NRU\",\"NPL\",\"NLD\",\"NCL\",\"NZL\",\"NIC\",\"NER\",\"NGA\",\"NIU\",\"PRK\",\"MKD\",\"NOR\",\"OMN\",\"PAK\",\"PLW\",\"PSE\",\"PAN\",\"PNG\",\"PRY\",\"PER\",\"PHL\",\"POL\",\"PRT\",\"PRI\",\"QAT\",\"ROU\",\"RUS\",\"RWA\",\"SHN\",\"KNA\",\"LCA\",\"SPM\",\"VCT\",\"WSM\",\"STP\",\"SAU\",\"SEN\",\"SRB\",\"SYC\",\"SLE\",\"SGP\",\"SXM\",\"SVK\",\"SVN\",\"SLB\",\"SOM\",\"ZAF\",\"KOR\",\"SSD\",\"ESP\",\"LKA\",\"SDN\",\"SUR\",\"SWE\",\"CHE\",\"SYR\",\"TWN\",\"TJK\",\"TZA\",\"THA\",\"TLS\",\"TGO\",\"TON\",\"TTO\",\"TUN\",\"TUR\",\"TKM\",\"TCA\",\"TUV\",\"UGA\",\"UKR\",\"ARE\",\"GBR\",\"USA\",\"URY\",\"UZB\",\"VUT\",\"VEN\",\"VNM\",\"OWID_WRL\",\"YEM\",\"ZMB\",\"ZWE\"],\"marker\":{\"line\":{\"width\":0.1}},\"reversescale\":true,\"visible\":true,\"z\":[2.73,3.184,5.181,1.299,6.245,null,null,14.526,11.08,3.222,null,21.394,8.214,7.599,10.503,33.008,1.327,15.21,8.543,9.455,13.207,2.44,null,-2.469,13.682,null,8.048,32.403,6.691,null,40.0,6.162,2.072,0.738,4.15,8.709,21.419,1.751,16.688,7.002,0.205,8.187,null,4.816,0.754,9.992,6.111,0.945,1.308,4.5,2.403,null,7.06,10.525,2.854,8.17,2.239,5.352,2.779,5.978,3.287,2.121,19.111,2.357,15.475,2.908,1.821,null,1.101,11.488,5.097,null,null,-42.311,1.117,4.291,9.839,1.792,8.136,null,21.091,null,2.641,3.885,2.363,48.534,0.926,5.553,null,6.283,9.608,2.443,8.522,10.909,5.228,13.965,11.109,6.093,3.304,9.892,3.739,16.209,0.974,0.708,null,28.302,2.634,6.906,-1.18,4.675,1.769,2.298,13.47,1.053,6.128,16.874,2.364,1.232,5.248,4.244,2.642,4.404,0.69,null,2.738,5.135,null,5.581,2.912,22.12,5.455,null,2.507,2.735,4.139,8.656,8.0,2.247,11.011,null,13.55,3.274,2.054,2.587,30.0,2.59,4.993,4.534,16.964,1.982,1.667,null,6.673,7.719,28.709,5.46,1.441,9.207,6.72,null,34.763,-2.962,16.461,0.65,null,7.115,4.5,null,3.028,3.59,0.985,20.454,2.334,7.1,13.542,1.854,11.187,null,6.161,5.299,4.41,2.837,8.849,12.894,null,6.086,1.775,3.807,12.991,4.7,5.575,2.598,null,1.537,6.022,6.049,null,2.047,2.871,18.817,3.486,4.96,22.284,null,0.909,2.045,6.345,27.691,6.962,18.059,7.763,6.191,2.986,11.729,3.356,6.613,0.868,30.189,4.703],\"zmax\":16.964,\"zmin\":1.232,\"type\":\"choropleth\"},{\"colorbar\":{\"title\":{\"text\":\"Methane<br>Emissions<br>per Capita\"}},\"colorscale\":[[0.0,\"rgb(165,0,38)\"],[0.1,\"rgb(215,48,39)\"],[0.2,\"rgb(244,109,67)\"],[0.3,\"rgb(253,174,97)\"],[0.4,\"rgb(254,224,139)\"],[0.5,\"rgb(255,255,191)\"],[0.6,\"rgb(217,239,139)\"],[0.7,\"rgb(166,217,106)\"],[0.8,\"rgb(102,189,99)\"],[0.9,\"rgb(26,152,80)\"],[1.0,\"rgb(0,104,55)\"]],\"customdata\":[[\"Afghanistan\",\"AFG\",2.73,2.209,0.258,0.191],[\"Albania\",\"ALB\",3.184,1.126,0.437,1.556],[\"Algeria\",\"DZA\",5.181,1.219,0.294,3.673],[\"Andorra\",\"AND\",1.299,0.649,0.0,6.068],[\"Angola\",\"AGO\",6.245,1.789,0.728,1.089],[\"Anguilla\",\"AIA\",null,null,null,10.661],[\"Antarctica\",\"ATA\",null,null,null,null],[\"Antigua and Barbuda\",\"ATG\",14.526,2.105,0.211,5.194],[\"Argentina\",\"ARG\",11.08,2.794,1.111,4.389],[\"Armenia\",\"ARM\",3.222,0.875,0.552,1.772],[\"Aruba\",\"ABW\",null,null,null,8.421],[\"Australia\",\"AUS\",21.394,5.033,2.357,17.143],[\"Austria\",\"AUT\",8.214,0.776,0.423,7.684],[\"Azerbaijan\",\"AZE\",7.599,4.604,0.37,3.806],[\"Bahamas\",\"BHS\",10.503,0.899,0.317,5.235],[\"Bahrain\",\"BHR\",33.008,9.986,0.049,22.004],[\"Bangladesh\",\"BGD\",1.327,0.509,0.173,0.484],[\"Barbados\",\"BRB\",15.21,8.147,0.175,4.49],[\"Belarus\",\"BLR\",8.543,1.756,1.25,6.336],[\"Belgium\",\"BEL\",9.455,0.744,0.395,8.796],[\"Belize\",\"BLZ\",13.207,2.772,0.897,1.691],[\"Benin\",\"BEN\",2.44,0.532,0.275,0.607],[\"Bermuda\",\"BMU\",null,null,null,9.773],[\"Bhutan\",\"BTN\",-2.469,1.208,0.258,1.57],[\"Bolivia\",\"BOL\",13.682,2.994,1.073,2.066],[\"Bonaire Sint Eustatius and Saba\",\"BES\",null,null,null,13.474],[\"Bosnia and Herzegovina\",\"BIH\",8.048,1.025,0.357,6.418],[\"Botswana\",\"BWA\",32.403,7.037,1.87,2.932],[\"Brazil\",\"BRA\",6.691,2.159,0.887,2.39],[\"British Virgin Islands\",\"VGB\",null,null,null,7.239],[\"Brunei\",\"BRN\",40.0,22.119,0.381,17.971],[\"Bulgaria\",\"BGR\",6.162,0.993,0.561,6.362],[\"Burkina Faso\",\"BFA\",2.072,0.829,0.531,0.181],[\"Burundi\",\"BDI\",0.738,0.187,0.176,0.045],[\"Cambodia\",\"KHM\",4.15,1.621,0.424,0.668],[\"Cameroon\",\"CMR\",8.709,0.763,2.662,0.327],[\"Canada\",\"CAN\",21.419,2.903,1.219,15.38],[\"Cape Verde\",\"CPV\",1.751,0.245,0.151,1.014],[\"Central African Republic\",\"CAF\",16.688,5.93,7.62,0.044],[\"Chad\",\"TCD\",7.002,3.539,1.682,0.07],[\"Chile\",\"CHL\",0.205,0.727,0.359,4.635],[\"China\",\"CHN\",8.187,0.895,0.394,6.874],[\"Christmas Island\",\"CXR\",null,null,null,null],[\"Colombia\",\"COL\",4.816,1.641,0.443,1.936],[\"Comoros\",\"COM\",0.754,0.352,0.063,0.272],[\"Congo\",\"COG\",9.992,2.594,0.803,0.743],[\"Cook Islands\",\"COK\",6.111,0.556,0.0,3.973],[\"Costa Rica\",\"CRI\",0.945,1.025,0.412,1.617],[\"Cote d'Ivoire\",\"CIV\",1.308,0.317,0.162,0.495],[\"Croatia\",\"HRV\",4.5,0.889,0.387,4.297],[\"Cuba\",\"CUB\",2.403,1.151,0.332,2.486],[\"Curacao\",\"CUW\",null,null,null,36.013],[\"Cyprus\",\"CYP\",7.06,0.615,0.308,6.301],[\"Czechia\",\"CZE\",10.525,1.171,0.527,10.047],[\"Democratic Republic of Congo\",\"COD\",2.854,0.676,0.272,0.026],[\"Denmark\",\"DNK\",8.17,1.255,0.89,6.48],[\"Djibouti\",\"DJI\",2.239,0.732,0.291,0.43],[\"Dominica\",\"DMA\",5.352,0.704,0.282,2.518],[\"Dominican Republic\",\"DOM\",2.779,0.877,0.299,2.37],[\"Ecuador\",\"ECU\",5.978,1.247,0.291,2.396],[\"Egypt\",\"EGY\",3.287,0.596,0.24,2.479],[\"El Salvador\",\"SLV\",2.121,0.634,0.194,1.046],[\"Equatorial Guinea\",\"GNQ\",19.111,10.897,0.033,9.371],[\"Eritrea\",\"ERI\",2.357,1.09,0.841,0.191],[\"Estonia\",\"EST\",15.475,0.835,1.017,13.344],[\"Eswatini\",\"SWZ\",2.908,1.338,0.395,0.947],[\"Ethiopia\",\"ETH\",1.821,1.021,0.489,0.138],[\"Faeroe Islands\",\"FRO\",null,null,null,13.082],[\"Fiji\",\"FJI\",1.101,1.25,0.413,1.444],[\"Finland\",\"FIN\",11.488,0.817,0.844,8.591],[\"France\",\"FRA\",5.097,0.926,0.581,5.158],[\"French Guiana\",\"GUF\",null,null,null,2.682],[\"French Polynesia\",\"PYF\",null,null,null,2.762],[\"Gabon\",\"GAB\",-42.311,0.727,0.274,2.71],[\"Gambia\",\"GMB\",1.117,0.768,0.186,0.247],[\"Georgia\",\"GEO\",4.291,1.342,0.553,2.507],[\"Germany\",\"DEU\",9.839,0.675,0.433,9.742],[\"Ghana\",\"GHA\",1.792,0.751,0.229,0.581],[\"Greece\",\"GRC\",8.136,0.896,0.426,6.724],[\"Greenland\",\"GRL\",null,null,null,9.306],[\"Grenada\",\"GRD\",21.091,18.273,0.091,2.426],[\"Guadeloupe\",\"GLP\",null,null,null,6.32],[\"Guatemala\",\"GTM\",2.641,0.777,0.325,1.02],[\"Guinea\",\"GIN\",3.885,1.582,0.639,0.234],[\"Guinea-Bissau\",\"GNB\",2.363,0.802,0.438,0.171],[\"Guyana\",\"GUY\",48.534,7.289,1.855,3.04],[\"Haiti\",\"HTI\",0.926,0.43,0.148,0.275],[\"Honduras\",\"HND\",5.553,1.002,0.375,1.002],[\"Hong Kong\",\"HKG\",null,null,null,5.99],[\"Hungary\",\"HUN\",6.283,0.738,0.568,4.826],[\"Iceland\",\"ISL\",9.608,1.657,1.205,10.498],[\"India\",\"IND\",2.443,0.501,0.187,1.799],[\"Indonesia\",\"IDN\",8.522,1.118,0.354,2.144],[\"Iran\",\"IRN\",10.909,1.799,0.468,8.011],[\"Iraq\",\"IRQ\",5.228,0.435,0.132,5.309],[\"Ireland\",\"IRL\",13.965,3.511,2.006,8.551],[\"Israel\",\"ISR\",11.109,1.447,0.28,7.55],[\"Italy\",\"ITA\",6.093,0.738,0.298,5.902],[\"Jamaica\",\"JAM\",3.304,0.282,0.141,2.809],[\"Japan\",\"JPN\",9.892,0.168,0.142,9.422],[\"Jordan\",\"JOR\",3.739,0.633,0.136,2.548],[\"Kazakhstan\",\"KAZ\",16.209,2.249,0.566,16.19],[\"Kenya\",\"KEN\",0.974,0.828,0.383,0.35],[\"Kiribati\",\"KIR\",0.708,0.177,0.088,0.488],[\"Kosovo\",\"OWID_KOS\",null,null,null,null],[\"Kuwait\",\"KWT\",28.302,1.483,0.177,25.49],[\"Kyrgyzstan\",\"KGZ\",2.634,0.79,0.326,1.588],[\"Laos\",\"LAO\",6.906,2.226,0.789,2.163],[\"Latvia\",\"LVA\",-1.18,1.008,0.983,3.652],[\"Lebanon\",\"LBN\",4.675,0.462,0.109,3.947],[\"Lesotho\",\"LSO\",1.769,1.084,0.381,1.066],[\"Liberia\",\"LBR\",2.298,1.365,0.31,0.296],[\"Libya\",\"LBY\",13.47,4.596,0.294,8.238],[\"Liechtenstein\",\"LIE\",1.053,0.526,0.263,3.972],[\"Lithuania\",\"LTU\",6.128,1.149,1.263,4.62],[\"Luxembourg\",\"LUX\",16.874,0.95,0.518,15.697],[\"Madagascar\",\"MDG\",2.364,0.828,0.408,0.131],[\"Malawi\",\"MWI\",1.232,0.643,0.244,0.076],[\"Malaysia\",\"MYS\",5.248,1.588,0.344,8.166],[\"Maldives\",\"MDV\",4.244,0.252,0.063,3.021],[\"Mali\",\"MLI\",2.642,1.245,0.799,0.185],[\"Malta\",\"MLT\",4.404,0.505,0.115,3.223],[\"Marshall Islands\",\"MHL\",0.69,0.517,0.0,2.476],[\"Martinique\",\"MTQ\",null,null,null,6.147],[\"Mauritania\",\"MRT\",2.738,1.669,0.797,0.609],[\"Mauritius\",\"MUS\",5.135,1.49,0.19,3.444],[\"Mayotte\",\"MYT\",null,null,null,1.223],[\"Mexico\",\"MEX\",5.581,1.175,0.354,3.915],[\"Moldova\",\"MDA\",2.912,0.829,0.325,1.206],[\"Mongolia\",\"MNG\",22.12,5.602,4.169,8.287],[\"Montenegro\",\"MNE\",5.455,1.324,0.287,3.213],[\"Montserrat\",\"MSR\",null,null,null,5.888],[\"Morocco\",\"MAR\",2.507,0.49,0.25,1.664],[\"Mozambique\",\"MOZ\",2.735,0.666,0.418,0.293],[\"Myanmar\",\"MMR\",4.139,1.466,0.455,0.48],[\"Namibia\",\"NAM\",8.656,1.985,1.293,1.718],[\"Nauru\",\"NRU\",8.0,0.0,0.0,4.898],[\"Nepal\",\"NPL\",2.247,1.307,0.358,0.358],[\"Netherlands\",\"NLD\",11.011,1.109,0.502,9.712],[\"New Caledonia\",\"NCL\",null,null,null,19.385],[\"New Zealand\",\"NZL\",13.55,7.042,3.215,7.363],[\"Nicaragua\",\"NIC\",3.274,1.688,0.598,0.854],[\"Niger\",\"NER\",2.054,1.328,0.537,0.099],[\"Nigeria\",\"NGA\",2.587,0.72,0.201,0.623],[\"Niue\",\"NIU\",30.0,0.0,0.0,4.549],[\"North Korea\",\"PRK\",2.59,0.731,0.096,1.162],[\"North Macedonia\",\"MKD\",4.993,1.197,0.284,3.358],[\"Norway\",\"NOR\",4.534,0.95,0.613,8.532],[\"Oman\",\"OMN\",16.964,1.192,0.167,13.464],[\"Pakistan\",\"PAK\",1.982,0.703,0.284,1.017],[\"Palau\",\"PLW\",1.667,1.111,0.0,11.994],[\"Palestine\",\"PSE\",null,null,null,0.697],[\"Panama\",\"PAN\",6.673,1.33,0.332,2.615],[\"Papua New Guinea\",\"PNG\",7.719,1.674,0.5,0.802],[\"Paraguay\",\"PRY\",28.709,4.916,1.679,1.06],[\"Peru\",\"PER\",5.46,1.015,0.313,1.705],[\"Philippines\",\"PHL\",1.441,0.632,0.13,1.179],[\"Poland\",\"POL\",9.207,1.232,0.569,8.538],[\"Portugal\",\"PRT\",6.72,1.129,0.322,4.887],[\"Puerto Rico\",\"PRI\",null,null,null,null],[\"Qatar\",\"QAT\",34.763,2.894,0.531,33.494],[\"Romania\",\"ROU\",-2.962,1.237,0.418,3.746],[\"Russia\",\"RUS\",16.461,6.206,0.513,11.142],[\"Rwanda\",\"RWA\",0.65,0.279,0.176,0.089],[\"Saint Helena\",\"SHN\",null,null,null,2.46],[\"Saint Kitts and Nevis\",\"KNA\",7.115,1.538,0.385,4.613],[\"Saint Lucia\",\"LCA\",4.5,1.5,0.167,2.707],[\"Saint Pierre and Miquelon\",\"SPM\",null,null,null,11.116],[\"Saint Vincent and the Grenadines\",\"VCT\",3.028,0.642,0.092,2.209],[\"Samoa\",\"WSM\",3.59,1.538,0.308,1.224],[\"Sao Tome and Principe\",\"STP\",0.985,0.148,0.099,0.613],[\"Saudi Arabia\",\"SAU\",20.454,1.312,0.181,19.698],[\"Senegal\",\"SEN\",2.334,0.74,0.548,0.668],[\"Serbia\",\"SRB\",7.1,1.4,0.56,5.086],[\"Seychelles\",\"SYC\",13.542,0.937,0.0,5.589],[\"Sierra Leone\",\"SLE\",1.854,0.703,0.224,0.124],[\"Singapore\",\"SGP\",11.187,0.697,1.595,7.124],[\"Sint Maarten (Dutch part)\",\"SXM\",null,null,null,18.674],[\"Slovakia\",\"SVK\",6.161,0.805,0.369,6.405],[\"Slovenia\",\"SVN\",5.299,0.969,0.386,6.955],[\"Solomon Islands\",\"SLB\",4.41,0.646,0.048,0.467],[\"Somalia\",\"SOM\",2.837,1.365,0.465,0.045],[\"South Africa\",\"ZAF\",8.849,0.796,0.322,8.269],[\"South Korea\",\"KOR\",12.894,0.505,0.208,12.539],[\"South Sudan\",\"SSD\",null,null,null,0.157],[\"Spain\",\"ESP\",6.086,0.843,0.427,5.592],[\"Sri Lanka\",\"LKA\",1.775,0.446,0.116,1.095],[\"Sudan\",\"SDN\",3.807,1.403,0.714,0.485],[\"Suriname\",\"SUR\",12.991,2.938,0.531,4.029],[\"Sweden\",\"SWE\",4.7,0.485,0.502,4.398],[\"Switzerland\",\"CHE\",5.575,0.58,0.261,4.677],[\"Syria\",\"SYR\",2.598,0.744,0.199,1.665],[\"Taiwan\",\"TWN\",null,null,null,11.843],[\"Tajikistan\",\"TJK\",1.537,0.623,0.256,0.743],[\"Tanzania\",\"TZA\",6.022,1.42,0.622,0.205],[\"Thailand\",\"THA\",6.049,1.219,0.303,4.11],[\"Timor\",\"TLS\",null,null,null,0.406],[\"Togo\",\"TGO\",2.047,0.459,0.246,0.307],[\"Tonga\",\"TON\",2.871,0.99,0.495,1.268],[\"Trinidad and Tobago\",\"TTO\",18.817,0.922,0.283,29.075],[\"Tunisia\",\"TUN\",3.486,0.556,0.278,2.566],[\"Turkey\",\"TUR\",4.96,0.558,0.441,5.026],[\"Turkmenistan\",\"TKM\",22.284,8.914,0.652,12.391],[\"Turks and Caicos Islands\",\"TCA\",null,null,null,5.913],[\"Tuvalu\",\"TUV\",0.909,0.909,0.0,0.652],[\"Uganda\",\"UGA\",2.045,0.844,0.397,0.121],[\"Ukraine\",\"UKR\",6.345,1.441,0.537,5.233],[\"United Arab Emirates\",\"ARE\",27.691,5.414,0.736,22.932],[\"United Kingdom\",\"GBR\",6.962,0.788,0.428,6.023],[\"United States\",\"USA\",18.059,1.948,0.779,16.247],[\"Uruguay\",\"URY\",7.763,6.341,2.328,1.904],[\"Uzbekistan\",\"UZB\",6.191,3.361,0.496,3.44],[\"Vanuatu\",\"VUT\",2.986,1.763,0.647,0.527],[\"Venezuela\",\"VEN\",11.729,2.774,0.498,5.677],[\"Vietnam\",\"VNM\",3.356,0.972,0.259,2.059],[\"World\",\"OWID_WRL\",6.613,1.146,0.409,4.75],[\"Yemen\",\"YEM\",0.868,0.3,0.124,0.384],[\"Zambia\",\"ZMB\",30.189,7.293,1.743,0.346],[\"Zimbabwe\",\"ZWE\",4.703,0.85,0.467,0.765]],\"hovertemplate\":\"%{customdata[0]} (%{customdata[1]})<br>Greenhouse Gas Emissions per Capita: %{customdata[2]}<br>Methane Emissions per Capita: %{customdata[3]}<br>Nitrous Oxide Emissions per Capita: %{customdata[4]}<br>CO<sub>2</sub> Emissions per Capita: %{customdata[5]}<br><extra></extra>\",\"locations\":[\"AFG\",\"ALB\",\"DZA\",\"AND\",\"AGO\",\"AIA\",\"ATA\",\"ATG\",\"ARG\",\"ARM\",\"ABW\",\"AUS\",\"AUT\",\"AZE\",\"BHS\",\"BHR\",\"BGD\",\"BRB\",\"BLR\",\"BEL\",\"BLZ\",\"BEN\",\"BMU\",\"BTN\",\"BOL\",\"BES\",\"BIH\",\"BWA\",\"BRA\",\"VGB\",\"BRN\",\"BGR\",\"BFA\",\"BDI\",\"KHM\",\"CMR\",\"CAN\",\"CPV\",\"CAF\",\"TCD\",\"CHL\",\"CHN\",\"CXR\",\"COL\",\"COM\",\"COG\",\"COK\",\"CRI\",\"CIV\",\"HRV\",\"CUB\",\"CUW\",\"CYP\",\"CZE\",\"COD\",\"DNK\",\"DJI\",\"DMA\",\"DOM\",\"ECU\",\"EGY\",\"SLV\",\"GNQ\",\"ERI\",\"EST\",\"SWZ\",\"ETH\",\"FRO\",\"FJI\",\"FIN\",\"FRA\",\"GUF\",\"PYF\",\"GAB\",\"GMB\",\"GEO\",\"DEU\",\"GHA\",\"GRC\",\"GRL\",\"GRD\",\"GLP\",\"GTM\",\"GIN\",\"GNB\",\"GUY\",\"HTI\",\"HND\",\"HKG\",\"HUN\",\"ISL\",\"IND\",\"IDN\",\"IRN\",\"IRQ\",\"IRL\",\"ISR\",\"ITA\",\"JAM\",\"JPN\",\"JOR\",\"KAZ\",\"KEN\",\"KIR\",\"OWID_KOS\",\"KWT\",\"KGZ\",\"LAO\",\"LVA\",\"LBN\",\"LSO\",\"LBR\",\"LBY\",\"LIE\",\"LTU\",\"LUX\",\"MDG\",\"MWI\",\"MYS\",\"MDV\",\"MLI\",\"MLT\",\"MHL\",\"MTQ\",\"MRT\",\"MUS\",\"MYT\",\"MEX\",\"MDA\",\"MNG\",\"MNE\",\"MSR\",\"MAR\",\"MOZ\",\"MMR\",\"NAM\",\"NRU\",\"NPL\",\"NLD\",\"NCL\",\"NZL\",\"NIC\",\"NER\",\"NGA\",\"NIU\",\"PRK\",\"MKD\",\"NOR\",\"OMN\",\"PAK\",\"PLW\",\"PSE\",\"PAN\",\"PNG\",\"PRY\",\"PER\",\"PHL\",\"POL\",\"PRT\",\"PRI\",\"QAT\",\"ROU\",\"RUS\",\"RWA\",\"SHN\",\"KNA\",\"LCA\",\"SPM\",\"VCT\",\"WSM\",\"STP\",\"SAU\",\"SEN\",\"SRB\",\"SYC\",\"SLE\",\"SGP\",\"SXM\",\"SVK\",\"SVN\",\"SLB\",\"SOM\",\"ZAF\",\"KOR\",\"SSD\",\"ESP\",\"LKA\",\"SDN\",\"SUR\",\"SWE\",\"CHE\",\"SYR\",\"TWN\",\"TJK\",\"TZA\",\"THA\",\"TLS\",\"TGO\",\"TON\",\"TTO\",\"TUN\",\"TUR\",\"TKM\",\"TCA\",\"TUV\",\"UGA\",\"UKR\",\"ARE\",\"GBR\",\"USA\",\"URY\",\"UZB\",\"VUT\",\"VEN\",\"VNM\",\"OWID_WRL\",\"YEM\",\"ZMB\",\"ZWE\"],\"marker\":{\"line\":{\"width\":0.1}},\"reversescale\":true,\"visible\":false,\"z\":[2.209,1.126,1.219,0.649,1.789,null,null,2.105,2.794,0.875,null,5.033,0.776,4.604,0.899,9.986,0.509,8.147,1.756,0.744,2.772,0.532,null,1.208,2.994,null,1.025,7.037,2.159,null,22.119,0.993,0.829,0.187,1.621,0.763,2.903,0.245,5.93,3.539,0.727,0.895,null,1.641,0.352,2.594,0.556,1.025,0.317,0.889,1.151,null,0.615,1.171,0.676,1.255,0.732,0.704,0.877,1.247,0.596,0.634,10.897,1.09,0.835,1.338,1.021,null,1.25,0.817,0.926,null,null,0.727,0.768,1.342,0.675,0.751,0.896,null,18.273,null,0.777,1.582,0.802,7.289,0.43,1.002,null,0.738,1.657,0.501,1.118,1.799,0.435,3.511,1.447,0.738,0.282,0.168,0.633,2.249,0.828,0.177,null,1.483,0.79,2.226,1.008,0.462,1.084,1.365,4.596,0.526,1.149,0.95,0.828,0.643,1.588,0.252,1.245,0.505,0.517,null,1.669,1.49,null,1.175,0.829,5.602,1.324,null,0.49,0.666,1.466,1.985,0.0,1.307,1.109,null,7.042,1.688,1.328,0.72,0.0,0.731,1.197,0.95,1.192,0.703,1.111,null,1.33,1.674,4.916,1.015,0.632,1.232,1.129,null,2.894,1.237,6.206,0.279,null,1.538,1.5,null,0.642,1.538,0.148,1.312,0.74,1.4,0.937,0.703,0.697,null,0.805,0.969,0.646,1.365,0.796,0.505,null,0.843,0.446,1.403,2.938,0.485,0.58,0.744,null,0.623,1.42,1.219,null,0.459,0.99,0.922,0.556,0.558,8.914,null,0.909,0.844,1.441,5.414,0.788,1.948,6.341,3.361,1.763,2.774,0.972,1.146,0.3,7.293,0.85],\"zmax\":3.539,\"zmin\":0.49,\"type\":\"choropleth\"},{\"colorbar\":{\"title\":{\"text\":\"Nitrous Oxide<br>Emissions<br>per Capita\"}},\"colorscale\":[[0.0,\"rgb(165,0,38)\"],[0.1,\"rgb(215,48,39)\"],[0.2,\"rgb(244,109,67)\"],[0.3,\"rgb(253,174,97)\"],[0.4,\"rgb(254,224,139)\"],[0.5,\"rgb(255,255,191)\"],[0.6,\"rgb(217,239,139)\"],[0.7,\"rgb(166,217,106)\"],[0.8,\"rgb(102,189,99)\"],[0.9,\"rgb(26,152,80)\"],[1.0,\"rgb(0,104,55)\"]],\"customdata\":[[\"Afghanistan\",\"AFG\",2.73,2.209,0.258,0.191],[\"Albania\",\"ALB\",3.184,1.126,0.437,1.556],[\"Algeria\",\"DZA\",5.181,1.219,0.294,3.673],[\"Andorra\",\"AND\",1.299,0.649,0.0,6.068],[\"Angola\",\"AGO\",6.245,1.789,0.728,1.089],[\"Anguilla\",\"AIA\",null,null,null,10.661],[\"Antarctica\",\"ATA\",null,null,null,null],[\"Antigua and Barbuda\",\"ATG\",14.526,2.105,0.211,5.194],[\"Argentina\",\"ARG\",11.08,2.794,1.111,4.389],[\"Armenia\",\"ARM\",3.222,0.875,0.552,1.772],[\"Aruba\",\"ABW\",null,null,null,8.421],[\"Australia\",\"AUS\",21.394,5.033,2.357,17.143],[\"Austria\",\"AUT\",8.214,0.776,0.423,7.684],[\"Azerbaijan\",\"AZE\",7.599,4.604,0.37,3.806],[\"Bahamas\",\"BHS\",10.503,0.899,0.317,5.235],[\"Bahrain\",\"BHR\",33.008,9.986,0.049,22.004],[\"Bangladesh\",\"BGD\",1.327,0.509,0.173,0.484],[\"Barbados\",\"BRB\",15.21,8.147,0.175,4.49],[\"Belarus\",\"BLR\",8.543,1.756,1.25,6.336],[\"Belgium\",\"BEL\",9.455,0.744,0.395,8.796],[\"Belize\",\"BLZ\",13.207,2.772,0.897,1.691],[\"Benin\",\"BEN\",2.44,0.532,0.275,0.607],[\"Bermuda\",\"BMU\",null,null,null,9.773],[\"Bhutan\",\"BTN\",-2.469,1.208,0.258,1.57],[\"Bolivia\",\"BOL\",13.682,2.994,1.073,2.066],[\"Bonaire Sint Eustatius and Saba\",\"BES\",null,null,null,13.474],[\"Bosnia and Herzegovina\",\"BIH\",8.048,1.025,0.357,6.418],[\"Botswana\",\"BWA\",32.403,7.037,1.87,2.932],[\"Brazil\",\"BRA\",6.691,2.159,0.887,2.39],[\"British Virgin Islands\",\"VGB\",null,null,null,7.239],[\"Brunei\",\"BRN\",40.0,22.119,0.381,17.971],[\"Bulgaria\",\"BGR\",6.162,0.993,0.561,6.362],[\"Burkina Faso\",\"BFA\",2.072,0.829,0.531,0.181],[\"Burundi\",\"BDI\",0.738,0.187,0.176,0.045],[\"Cambodia\",\"KHM\",4.15,1.621,0.424,0.668],[\"Cameroon\",\"CMR\",8.709,0.763,2.662,0.327],[\"Canada\",\"CAN\",21.419,2.903,1.219,15.38],[\"Cape Verde\",\"CPV\",1.751,0.245,0.151,1.014],[\"Central African Republic\",\"CAF\",16.688,5.93,7.62,0.044],[\"Chad\",\"TCD\",7.002,3.539,1.682,0.07],[\"Chile\",\"CHL\",0.205,0.727,0.359,4.635],[\"China\",\"CHN\",8.187,0.895,0.394,6.874],[\"Christmas Island\",\"CXR\",null,null,null,null],[\"Colombia\",\"COL\",4.816,1.641,0.443,1.936],[\"Comoros\",\"COM\",0.754,0.352,0.063,0.272],[\"Congo\",\"COG\",9.992,2.594,0.803,0.743],[\"Cook Islands\",\"COK\",6.111,0.556,0.0,3.973],[\"Costa Rica\",\"CRI\",0.945,1.025,0.412,1.617],[\"Cote d'Ivoire\",\"CIV\",1.308,0.317,0.162,0.495],[\"Croatia\",\"HRV\",4.5,0.889,0.387,4.297],[\"Cuba\",\"CUB\",2.403,1.151,0.332,2.486],[\"Curacao\",\"CUW\",null,null,null,36.013],[\"Cyprus\",\"CYP\",7.06,0.615,0.308,6.301],[\"Czechia\",\"CZE\",10.525,1.171,0.527,10.047],[\"Democratic Republic of Congo\",\"COD\",2.854,0.676,0.272,0.026],[\"Denmark\",\"DNK\",8.17,1.255,0.89,6.48],[\"Djibouti\",\"DJI\",2.239,0.732,0.291,0.43],[\"Dominica\",\"DMA\",5.352,0.704,0.282,2.518],[\"Dominican Republic\",\"DOM\",2.779,0.877,0.299,2.37],[\"Ecuador\",\"ECU\",5.978,1.247,0.291,2.396],[\"Egypt\",\"EGY\",3.287,0.596,0.24,2.479],[\"El Salvador\",\"SLV\",2.121,0.634,0.194,1.046],[\"Equatorial Guinea\",\"GNQ\",19.111,10.897,0.033,9.371],[\"Eritrea\",\"ERI\",2.357,1.09,0.841,0.191],[\"Estonia\",\"EST\",15.475,0.835,1.017,13.344],[\"Eswatini\",\"SWZ\",2.908,1.338,0.395,0.947],[\"Ethiopia\",\"ETH\",1.821,1.021,0.489,0.138],[\"Faeroe Islands\",\"FRO\",null,null,null,13.082],[\"Fiji\",\"FJI\",1.101,1.25,0.413,1.444],[\"Finland\",\"FIN\",11.488,0.817,0.844,8.591],[\"France\",\"FRA\",5.097,0.926,0.581,5.158],[\"French Guiana\",\"GUF\",null,null,null,2.682],[\"French Polynesia\",\"PYF\",null,null,null,2.762],[\"Gabon\",\"GAB\",-42.311,0.727,0.274,2.71],[\"Gambia\",\"GMB\",1.117,0.768,0.186,0.247],[\"Georgia\",\"GEO\",4.291,1.342,0.553,2.507],[\"Germany\",\"DEU\",9.839,0.675,0.433,9.742],[\"Ghana\",\"GHA\",1.792,0.751,0.229,0.581],[\"Greece\",\"GRC\",8.136,0.896,0.426,6.724],[\"Greenland\",\"GRL\",null,null,null,9.306],[\"Grenada\",\"GRD\",21.091,18.273,0.091,2.426],[\"Guadeloupe\",\"GLP\",null,null,null,6.32],[\"Guatemala\",\"GTM\",2.641,0.777,0.325,1.02],[\"Guinea\",\"GIN\",3.885,1.582,0.639,0.234],[\"Guinea-Bissau\",\"GNB\",2.363,0.802,0.438,0.171],[\"Guyana\",\"GUY\",48.534,7.289,1.855,3.04],[\"Haiti\",\"HTI\",0.926,0.43,0.148,0.275],[\"Honduras\",\"HND\",5.553,1.002,0.375,1.002],[\"Hong Kong\",\"HKG\",null,null,null,5.99],[\"Hungary\",\"HUN\",6.283,0.738,0.568,4.826],[\"Iceland\",\"ISL\",9.608,1.657,1.205,10.498],[\"India\",\"IND\",2.443,0.501,0.187,1.799],[\"Indonesia\",\"IDN\",8.522,1.118,0.354,2.144],[\"Iran\",\"IRN\",10.909,1.799,0.468,8.011],[\"Iraq\",\"IRQ\",5.228,0.435,0.132,5.309],[\"Ireland\",\"IRL\",13.965,3.511,2.006,8.551],[\"Israel\",\"ISR\",11.109,1.447,0.28,7.55],[\"Italy\",\"ITA\",6.093,0.738,0.298,5.902],[\"Jamaica\",\"JAM\",3.304,0.282,0.141,2.809],[\"Japan\",\"JPN\",9.892,0.168,0.142,9.422],[\"Jordan\",\"JOR\",3.739,0.633,0.136,2.548],[\"Kazakhstan\",\"KAZ\",16.209,2.249,0.566,16.19],[\"Kenya\",\"KEN\",0.974,0.828,0.383,0.35],[\"Kiribati\",\"KIR\",0.708,0.177,0.088,0.488],[\"Kosovo\",\"OWID_KOS\",null,null,null,null],[\"Kuwait\",\"KWT\",28.302,1.483,0.177,25.49],[\"Kyrgyzstan\",\"KGZ\",2.634,0.79,0.326,1.588],[\"Laos\",\"LAO\",6.906,2.226,0.789,2.163],[\"Latvia\",\"LVA\",-1.18,1.008,0.983,3.652],[\"Lebanon\",\"LBN\",4.675,0.462,0.109,3.947],[\"Lesotho\",\"LSO\",1.769,1.084,0.381,1.066],[\"Liberia\",\"LBR\",2.298,1.365,0.31,0.296],[\"Libya\",\"LBY\",13.47,4.596,0.294,8.238],[\"Liechtenstein\",\"LIE\",1.053,0.526,0.263,3.972],[\"Lithuania\",\"LTU\",6.128,1.149,1.263,4.62],[\"Luxembourg\",\"LUX\",16.874,0.95,0.518,15.697],[\"Madagascar\",\"MDG\",2.364,0.828,0.408,0.131],[\"Malawi\",\"MWI\",1.232,0.643,0.244,0.076],[\"Malaysia\",\"MYS\",5.248,1.588,0.344,8.166],[\"Maldives\",\"MDV\",4.244,0.252,0.063,3.021],[\"Mali\",\"MLI\",2.642,1.245,0.799,0.185],[\"Malta\",\"MLT\",4.404,0.505,0.115,3.223],[\"Marshall Islands\",\"MHL\",0.69,0.517,0.0,2.476],[\"Martinique\",\"MTQ\",null,null,null,6.147],[\"Mauritania\",\"MRT\",2.738,1.669,0.797,0.609],[\"Mauritius\",\"MUS\",5.135,1.49,0.19,3.444],[\"Mayotte\",\"MYT\",null,null,null,1.223],[\"Mexico\",\"MEX\",5.581,1.175,0.354,3.915],[\"Moldova\",\"MDA\",2.912,0.829,0.325,1.206],[\"Mongolia\",\"MNG\",22.12,5.602,4.169,8.287],[\"Montenegro\",\"MNE\",5.455,1.324,0.287,3.213],[\"Montserrat\",\"MSR\",null,null,null,5.888],[\"Morocco\",\"MAR\",2.507,0.49,0.25,1.664],[\"Mozambique\",\"MOZ\",2.735,0.666,0.418,0.293],[\"Myanmar\",\"MMR\",4.139,1.466,0.455,0.48],[\"Namibia\",\"NAM\",8.656,1.985,1.293,1.718],[\"Nauru\",\"NRU\",8.0,0.0,0.0,4.898],[\"Nepal\",\"NPL\",2.247,1.307,0.358,0.358],[\"Netherlands\",\"NLD\",11.011,1.109,0.502,9.712],[\"New Caledonia\",\"NCL\",null,null,null,19.385],[\"New Zealand\",\"NZL\",13.55,7.042,3.215,7.363],[\"Nicaragua\",\"NIC\",3.274,1.688,0.598,0.854],[\"Niger\",\"NER\",2.054,1.328,0.537,0.099],[\"Nigeria\",\"NGA\",2.587,0.72,0.201,0.623],[\"Niue\",\"NIU\",30.0,0.0,0.0,4.549],[\"North Korea\",\"PRK\",2.59,0.731,0.096,1.162],[\"North Macedonia\",\"MKD\",4.993,1.197,0.284,3.358],[\"Norway\",\"NOR\",4.534,0.95,0.613,8.532],[\"Oman\",\"OMN\",16.964,1.192,0.167,13.464],[\"Pakistan\",\"PAK\",1.982,0.703,0.284,1.017],[\"Palau\",\"PLW\",1.667,1.111,0.0,11.994],[\"Palestine\",\"PSE\",null,null,null,0.697],[\"Panama\",\"PAN\",6.673,1.33,0.332,2.615],[\"Papua New Guinea\",\"PNG\",7.719,1.674,0.5,0.802],[\"Paraguay\",\"PRY\",28.709,4.916,1.679,1.06],[\"Peru\",\"PER\",5.46,1.015,0.313,1.705],[\"Philippines\",\"PHL\",1.441,0.632,0.13,1.179],[\"Poland\",\"POL\",9.207,1.232,0.569,8.538],[\"Portugal\",\"PRT\",6.72,1.129,0.322,4.887],[\"Puerto Rico\",\"PRI\",null,null,null,null],[\"Qatar\",\"QAT\",34.763,2.894,0.531,33.494],[\"Romania\",\"ROU\",-2.962,1.237,0.418,3.746],[\"Russia\",\"RUS\",16.461,6.206,0.513,11.142],[\"Rwanda\",\"RWA\",0.65,0.279,0.176,0.089],[\"Saint Helena\",\"SHN\",null,null,null,2.46],[\"Saint Kitts and Nevis\",\"KNA\",7.115,1.538,0.385,4.613],[\"Saint Lucia\",\"LCA\",4.5,1.5,0.167,2.707],[\"Saint Pierre and Miquelon\",\"SPM\",null,null,null,11.116],[\"Saint Vincent and the Grenadines\",\"VCT\",3.028,0.642,0.092,2.209],[\"Samoa\",\"WSM\",3.59,1.538,0.308,1.224],[\"Sao Tome and Principe\",\"STP\",0.985,0.148,0.099,0.613],[\"Saudi Arabia\",\"SAU\",20.454,1.312,0.181,19.698],[\"Senegal\",\"SEN\",2.334,0.74,0.548,0.668],[\"Serbia\",\"SRB\",7.1,1.4,0.56,5.086],[\"Seychelles\",\"SYC\",13.542,0.937,0.0,5.589],[\"Sierra Leone\",\"SLE\",1.854,0.703,0.224,0.124],[\"Singapore\",\"SGP\",11.187,0.697,1.595,7.124],[\"Sint Maarten (Dutch part)\",\"SXM\",null,null,null,18.674],[\"Slovakia\",\"SVK\",6.161,0.805,0.369,6.405],[\"Slovenia\",\"SVN\",5.299,0.969,0.386,6.955],[\"Solomon Islands\",\"SLB\",4.41,0.646,0.048,0.467],[\"Somalia\",\"SOM\",2.837,1.365,0.465,0.045],[\"South Africa\",\"ZAF\",8.849,0.796,0.322,8.269],[\"South Korea\",\"KOR\",12.894,0.505,0.208,12.539],[\"South Sudan\",\"SSD\",null,null,null,0.157],[\"Spain\",\"ESP\",6.086,0.843,0.427,5.592],[\"Sri Lanka\",\"LKA\",1.775,0.446,0.116,1.095],[\"Sudan\",\"SDN\",3.807,1.403,0.714,0.485],[\"Suriname\",\"SUR\",12.991,2.938,0.531,4.029],[\"Sweden\",\"SWE\",4.7,0.485,0.502,4.398],[\"Switzerland\",\"CHE\",5.575,0.58,0.261,4.677],[\"Syria\",\"SYR\",2.598,0.744,0.199,1.665],[\"Taiwan\",\"TWN\",null,null,null,11.843],[\"Tajikistan\",\"TJK\",1.537,0.623,0.256,0.743],[\"Tanzania\",\"TZA\",6.022,1.42,0.622,0.205],[\"Thailand\",\"THA\",6.049,1.219,0.303,4.11],[\"Timor\",\"TLS\",null,null,null,0.406],[\"Togo\",\"TGO\",2.047,0.459,0.246,0.307],[\"Tonga\",\"TON\",2.871,0.99,0.495,1.268],[\"Trinidad and Tobago\",\"TTO\",18.817,0.922,0.283,29.075],[\"Tunisia\",\"TUN\",3.486,0.556,0.278,2.566],[\"Turkey\",\"TUR\",4.96,0.558,0.441,5.026],[\"Turkmenistan\",\"TKM\",22.284,8.914,0.652,12.391],[\"Turks and Caicos Islands\",\"TCA\",null,null,null,5.913],[\"Tuvalu\",\"TUV\",0.909,0.909,0.0,0.652],[\"Uganda\",\"UGA\",2.045,0.844,0.397,0.121],[\"Ukraine\",\"UKR\",6.345,1.441,0.537,5.233],[\"United Arab Emirates\",\"ARE\",27.691,5.414,0.736,22.932],[\"United Kingdom\",\"GBR\",6.962,0.788,0.428,6.023],[\"United States\",\"USA\",18.059,1.948,0.779,16.247],[\"Uruguay\",\"URY\",7.763,6.341,2.328,1.904],[\"Uzbekistan\",\"UZB\",6.191,3.361,0.496,3.44],[\"Vanuatu\",\"VUT\",2.986,1.763,0.647,0.527],[\"Venezuela\",\"VEN\",11.729,2.774,0.498,5.677],[\"Vietnam\",\"VNM\",3.356,0.972,0.259,2.059],[\"World\",\"OWID_WRL\",6.613,1.146,0.409,4.75],[\"Yemen\",\"YEM\",0.868,0.3,0.124,0.384],[\"Zambia\",\"ZMB\",30.189,7.293,1.743,0.346],[\"Zimbabwe\",\"ZWE\",4.703,0.85,0.467,0.765]],\"hovertemplate\":\"%{customdata[0]} (%{customdata[1]})<br>Greenhouse Gas Emissions per Capita: %{customdata[2]}<br>Methane Emissions per Capita: %{customdata[3]}<br>Nitrous Oxide Emissions per Capita: %{customdata[4]}<br>CO<sub>2</sub> Emissions per Capita: %{customdata[5]}<br><extra></extra>\",\"locations\":[\"AFG\",\"ALB\",\"DZA\",\"AND\",\"AGO\",\"AIA\",\"ATA\",\"ATG\",\"ARG\",\"ARM\",\"ABW\",\"AUS\",\"AUT\",\"AZE\",\"BHS\",\"BHR\",\"BGD\",\"BRB\",\"BLR\",\"BEL\",\"BLZ\",\"BEN\",\"BMU\",\"BTN\",\"BOL\",\"BES\",\"BIH\",\"BWA\",\"BRA\",\"VGB\",\"BRN\",\"BGR\",\"BFA\",\"BDI\",\"KHM\",\"CMR\",\"CAN\",\"CPV\",\"CAF\",\"TCD\",\"CHL\",\"CHN\",\"CXR\",\"COL\",\"COM\",\"COG\",\"COK\",\"CRI\",\"CIV\",\"HRV\",\"CUB\",\"CUW\",\"CYP\",\"CZE\",\"COD\",\"DNK\",\"DJI\",\"DMA\",\"DOM\",\"ECU\",\"EGY\",\"SLV\",\"GNQ\",\"ERI\",\"EST\",\"SWZ\",\"ETH\",\"FRO\",\"FJI\",\"FIN\",\"FRA\",\"GUF\",\"PYF\",\"GAB\",\"GMB\",\"GEO\",\"DEU\",\"GHA\",\"GRC\",\"GRL\",\"GRD\",\"GLP\",\"GTM\",\"GIN\",\"GNB\",\"GUY\",\"HTI\",\"HND\",\"HKG\",\"HUN\",\"ISL\",\"IND\",\"IDN\",\"IRN\",\"IRQ\",\"IRL\",\"ISR\",\"ITA\",\"JAM\",\"JPN\",\"JOR\",\"KAZ\",\"KEN\",\"KIR\",\"OWID_KOS\",\"KWT\",\"KGZ\",\"LAO\",\"LVA\",\"LBN\",\"LSO\",\"LBR\",\"LBY\",\"LIE\",\"LTU\",\"LUX\",\"MDG\",\"MWI\",\"MYS\",\"MDV\",\"MLI\",\"MLT\",\"MHL\",\"MTQ\",\"MRT\",\"MUS\",\"MYT\",\"MEX\",\"MDA\",\"MNG\",\"MNE\",\"MSR\",\"MAR\",\"MOZ\",\"MMR\",\"NAM\",\"NRU\",\"NPL\",\"NLD\",\"NCL\",\"NZL\",\"NIC\",\"NER\",\"NGA\",\"NIU\",\"PRK\",\"MKD\",\"NOR\",\"OMN\",\"PAK\",\"PLW\",\"PSE\",\"PAN\",\"PNG\",\"PRY\",\"PER\",\"PHL\",\"POL\",\"PRT\",\"PRI\",\"QAT\",\"ROU\",\"RUS\",\"RWA\",\"SHN\",\"KNA\",\"LCA\",\"SPM\",\"VCT\",\"WSM\",\"STP\",\"SAU\",\"SEN\",\"SRB\",\"SYC\",\"SLE\",\"SGP\",\"SXM\",\"SVK\",\"SVN\",\"SLB\",\"SOM\",\"ZAF\",\"KOR\",\"SSD\",\"ESP\",\"LKA\",\"SDN\",\"SUR\",\"SWE\",\"CHE\",\"SYR\",\"TWN\",\"TJK\",\"TZA\",\"THA\",\"TLS\",\"TGO\",\"TON\",\"TTO\",\"TUN\",\"TUR\",\"TKM\",\"TCA\",\"TUV\",\"UGA\",\"UKR\",\"ARE\",\"GBR\",\"USA\",\"URY\",\"UZB\",\"VUT\",\"VEN\",\"VNM\",\"OWID_WRL\",\"YEM\",\"ZMB\",\"ZWE\"],\"marker\":{\"line\":{\"width\":0.1}},\"reversescale\":true,\"visible\":false,\"z\":[0.258,0.437,0.294,0.0,0.728,null,null,0.211,1.111,0.552,null,2.357,0.423,0.37,0.317,0.049,0.173,0.175,1.25,0.395,0.897,0.275,null,0.258,1.073,null,0.357,1.87,0.887,null,0.381,0.561,0.531,0.176,0.424,2.662,1.219,0.151,7.62,1.682,0.359,0.394,null,0.443,0.063,0.803,0.0,0.412,0.162,0.387,0.332,null,0.308,0.527,0.272,0.89,0.291,0.282,0.299,0.291,0.24,0.194,0.033,0.841,1.017,0.395,0.489,null,0.413,0.844,0.581,null,null,0.274,0.186,0.553,0.433,0.229,0.426,null,0.091,null,0.325,0.639,0.438,1.855,0.148,0.375,null,0.568,1.205,0.187,0.354,0.468,0.132,2.006,0.28,0.298,0.141,0.142,0.136,0.566,0.383,0.088,null,0.177,0.326,0.789,0.983,0.109,0.381,0.31,0.294,0.263,1.263,0.518,0.408,0.244,0.344,0.063,0.799,0.115,0.0,null,0.797,0.19,null,0.354,0.325,4.169,0.287,null,0.25,0.418,0.455,1.293,0.0,0.358,0.502,null,3.215,0.598,0.537,0.201,0.0,0.096,0.284,0.613,0.167,0.284,0.0,null,0.332,0.5,1.679,0.313,0.13,0.569,0.322,null,0.531,0.418,0.513,0.176,null,0.385,0.167,null,0.092,0.308,0.099,0.181,0.548,0.56,0.0,0.224,1.595,null,0.369,0.386,0.048,0.465,0.322,0.208,null,0.427,0.116,0.714,0.531,0.502,0.261,0.199,null,0.256,0.622,0.303,null,0.246,0.495,0.283,0.278,0.441,0.652,null,0.0,0.397,0.537,0.736,0.428,0.779,2.328,0.496,0.647,0.498,0.259,0.409,0.124,1.743,0.467],\"zmax\":1.073,\"zmin\":0.115,\"type\":\"choropleth\"},{\"colorbar\":{\"title\":{\"text\":\"CO<sub>2</sub><br>Emissions<br>per Capita\"}},\"colorscale\":[[0.0,\"rgb(165,0,38)\"],[0.1,\"rgb(215,48,39)\"],[0.2,\"rgb(244,109,67)\"],[0.3,\"rgb(253,174,97)\"],[0.4,\"rgb(254,224,139)\"],[0.5,\"rgb(255,255,191)\"],[0.6,\"rgb(217,239,139)\"],[0.7,\"rgb(166,217,106)\"],[0.8,\"rgb(102,189,99)\"],[0.9,\"rgb(26,152,80)\"],[1.0,\"rgb(0,104,55)\"]],\"customdata\":[[\"Afghanistan\",\"AFG\",2.73,2.209,0.258,0.191],[\"Albania\",\"ALB\",3.184,1.126,0.437,1.556],[\"Algeria\",\"DZA\",5.181,1.219,0.294,3.673],[\"Andorra\",\"AND\",1.299,0.649,0.0,6.068],[\"Angola\",\"AGO\",6.245,1.789,0.728,1.089],[\"Anguilla\",\"AIA\",null,null,null,10.661],[\"Antarctica\",\"ATA\",null,null,null,null],[\"Antigua and Barbuda\",\"ATG\",14.526,2.105,0.211,5.194],[\"Argentina\",\"ARG\",11.08,2.794,1.111,4.389],[\"Armenia\",\"ARM\",3.222,0.875,0.552,1.772],[\"Aruba\",\"ABW\",null,null,null,8.421],[\"Australia\",\"AUS\",21.394,5.033,2.357,17.143],[\"Austria\",\"AUT\",8.214,0.776,0.423,7.684],[\"Azerbaijan\",\"AZE\",7.599,4.604,0.37,3.806],[\"Bahamas\",\"BHS\",10.503,0.899,0.317,5.235],[\"Bahrain\",\"BHR\",33.008,9.986,0.049,22.004],[\"Bangladesh\",\"BGD\",1.327,0.509,0.173,0.484],[\"Barbados\",\"BRB\",15.21,8.147,0.175,4.49],[\"Belarus\",\"BLR\",8.543,1.756,1.25,6.336],[\"Belgium\",\"BEL\",9.455,0.744,0.395,8.796],[\"Belize\",\"BLZ\",13.207,2.772,0.897,1.691],[\"Benin\",\"BEN\",2.44,0.532,0.275,0.607],[\"Bermuda\",\"BMU\",null,null,null,9.773],[\"Bhutan\",\"BTN\",-2.469,1.208,0.258,1.57],[\"Bolivia\",\"BOL\",13.682,2.994,1.073,2.066],[\"Bonaire Sint Eustatius and Saba\",\"BES\",null,null,null,13.474],[\"Bosnia and Herzegovina\",\"BIH\",8.048,1.025,0.357,6.418],[\"Botswana\",\"BWA\",32.403,7.037,1.87,2.932],[\"Brazil\",\"BRA\",6.691,2.159,0.887,2.39],[\"British Virgin Islands\",\"VGB\",null,null,null,7.239],[\"Brunei\",\"BRN\",40.0,22.119,0.381,17.971],[\"Bulgaria\",\"BGR\",6.162,0.993,0.561,6.362],[\"Burkina Faso\",\"BFA\",2.072,0.829,0.531,0.181],[\"Burundi\",\"BDI\",0.738,0.187,0.176,0.045],[\"Cambodia\",\"KHM\",4.15,1.621,0.424,0.668],[\"Cameroon\",\"CMR\",8.709,0.763,2.662,0.327],[\"Canada\",\"CAN\",21.419,2.903,1.219,15.38],[\"Cape Verde\",\"CPV\",1.751,0.245,0.151,1.014],[\"Central African Republic\",\"CAF\",16.688,5.93,7.62,0.044],[\"Chad\",\"TCD\",7.002,3.539,1.682,0.07],[\"Chile\",\"CHL\",0.205,0.727,0.359,4.635],[\"China\",\"CHN\",8.187,0.895,0.394,6.874],[\"Christmas Island\",\"CXR\",null,null,null,null],[\"Colombia\",\"COL\",4.816,1.641,0.443,1.936],[\"Comoros\",\"COM\",0.754,0.352,0.063,0.272],[\"Congo\",\"COG\",9.992,2.594,0.803,0.743],[\"Cook Islands\",\"COK\",6.111,0.556,0.0,3.973],[\"Costa Rica\",\"CRI\",0.945,1.025,0.412,1.617],[\"Cote d'Ivoire\",\"CIV\",1.308,0.317,0.162,0.495],[\"Croatia\",\"HRV\",4.5,0.889,0.387,4.297],[\"Cuba\",\"CUB\",2.403,1.151,0.332,2.486],[\"Curacao\",\"CUW\",null,null,null,36.013],[\"Cyprus\",\"CYP\",7.06,0.615,0.308,6.301],[\"Czechia\",\"CZE\",10.525,1.171,0.527,10.047],[\"Democratic Republic of Congo\",\"COD\",2.854,0.676,0.272,0.026],[\"Denmark\",\"DNK\",8.17,1.255,0.89,6.48],[\"Djibouti\",\"DJI\",2.239,0.732,0.291,0.43],[\"Dominica\",\"DMA\",5.352,0.704,0.282,2.518],[\"Dominican Republic\",\"DOM\",2.779,0.877,0.299,2.37],[\"Ecuador\",\"ECU\",5.978,1.247,0.291,2.396],[\"Egypt\",\"EGY\",3.287,0.596,0.24,2.479],[\"El Salvador\",\"SLV\",2.121,0.634,0.194,1.046],[\"Equatorial Guinea\",\"GNQ\",19.111,10.897,0.033,9.371],[\"Eritrea\",\"ERI\",2.357,1.09,0.841,0.191],[\"Estonia\",\"EST\",15.475,0.835,1.017,13.344],[\"Eswatini\",\"SWZ\",2.908,1.338,0.395,0.947],[\"Ethiopia\",\"ETH\",1.821,1.021,0.489,0.138],[\"Faeroe Islands\",\"FRO\",null,null,null,13.082],[\"Fiji\",\"FJI\",1.101,1.25,0.413,1.444],[\"Finland\",\"FIN\",11.488,0.817,0.844,8.591],[\"France\",\"FRA\",5.097,0.926,0.581,5.158],[\"French Guiana\",\"GUF\",null,null,null,2.682],[\"French Polynesia\",\"PYF\",null,null,null,2.762],[\"Gabon\",\"GAB\",-42.311,0.727,0.274,2.71],[\"Gambia\",\"GMB\",1.117,0.768,0.186,0.247],[\"Georgia\",\"GEO\",4.291,1.342,0.553,2.507],[\"Germany\",\"DEU\",9.839,0.675,0.433,9.742],[\"Ghana\",\"GHA\",1.792,0.751,0.229,0.581],[\"Greece\",\"GRC\",8.136,0.896,0.426,6.724],[\"Greenland\",\"GRL\",null,null,null,9.306],[\"Grenada\",\"GRD\",21.091,18.273,0.091,2.426],[\"Guadeloupe\",\"GLP\",null,null,null,6.32],[\"Guatemala\",\"GTM\",2.641,0.777,0.325,1.02],[\"Guinea\",\"GIN\",3.885,1.582,0.639,0.234],[\"Guinea-Bissau\",\"GNB\",2.363,0.802,0.438,0.171],[\"Guyana\",\"GUY\",48.534,7.289,1.855,3.04],[\"Haiti\",\"HTI\",0.926,0.43,0.148,0.275],[\"Honduras\",\"HND\",5.553,1.002,0.375,1.002],[\"Hong Kong\",\"HKG\",null,null,null,5.99],[\"Hungary\",\"HUN\",6.283,0.738,0.568,4.826],[\"Iceland\",\"ISL\",9.608,1.657,1.205,10.498],[\"India\",\"IND\",2.443,0.501,0.187,1.799],[\"Indonesia\",\"IDN\",8.522,1.118,0.354,2.144],[\"Iran\",\"IRN\",10.909,1.799,0.468,8.011],[\"Iraq\",\"IRQ\",5.228,0.435,0.132,5.309],[\"Ireland\",\"IRL\",13.965,3.511,2.006,8.551],[\"Israel\",\"ISR\",11.109,1.447,0.28,7.55],[\"Italy\",\"ITA\",6.093,0.738,0.298,5.902],[\"Jamaica\",\"JAM\",3.304,0.282,0.141,2.809],[\"Japan\",\"JPN\",9.892,0.168,0.142,9.422],[\"Jordan\",\"JOR\",3.739,0.633,0.136,2.548],[\"Kazakhstan\",\"KAZ\",16.209,2.249,0.566,16.19],[\"Kenya\",\"KEN\",0.974,0.828,0.383,0.35],[\"Kiribati\",\"KIR\",0.708,0.177,0.088,0.488],[\"Kosovo\",\"OWID_KOS\",null,null,null,null],[\"Kuwait\",\"KWT\",28.302,1.483,0.177,25.49],[\"Kyrgyzstan\",\"KGZ\",2.634,0.79,0.326,1.588],[\"Laos\",\"LAO\",6.906,2.226,0.789,2.163],[\"Latvia\",\"LVA\",-1.18,1.008,0.983,3.652],[\"Lebanon\",\"LBN\",4.675,0.462,0.109,3.947],[\"Lesotho\",\"LSO\",1.769,1.084,0.381,1.066],[\"Liberia\",\"LBR\",2.298,1.365,0.31,0.296],[\"Libya\",\"LBY\",13.47,4.596,0.294,8.238],[\"Liechtenstein\",\"LIE\",1.053,0.526,0.263,3.972],[\"Lithuania\",\"LTU\",6.128,1.149,1.263,4.62],[\"Luxembourg\",\"LUX\",16.874,0.95,0.518,15.697],[\"Madagascar\",\"MDG\",2.364,0.828,0.408,0.131],[\"Malawi\",\"MWI\",1.232,0.643,0.244,0.076],[\"Malaysia\",\"MYS\",5.248,1.588,0.344,8.166],[\"Maldives\",\"MDV\",4.244,0.252,0.063,3.021],[\"Mali\",\"MLI\",2.642,1.245,0.799,0.185],[\"Malta\",\"MLT\",4.404,0.505,0.115,3.223],[\"Marshall Islands\",\"MHL\",0.69,0.517,0.0,2.476],[\"Martinique\",\"MTQ\",null,null,null,6.147],[\"Mauritania\",\"MRT\",2.738,1.669,0.797,0.609],[\"Mauritius\",\"MUS\",5.135,1.49,0.19,3.444],[\"Mayotte\",\"MYT\",null,null,null,1.223],[\"Mexico\",\"MEX\",5.581,1.175,0.354,3.915],[\"Moldova\",\"MDA\",2.912,0.829,0.325,1.206],[\"Mongolia\",\"MNG\",22.12,5.602,4.169,8.287],[\"Montenegro\",\"MNE\",5.455,1.324,0.287,3.213],[\"Montserrat\",\"MSR\",null,null,null,5.888],[\"Morocco\",\"MAR\",2.507,0.49,0.25,1.664],[\"Mozambique\",\"MOZ\",2.735,0.666,0.418,0.293],[\"Myanmar\",\"MMR\",4.139,1.466,0.455,0.48],[\"Namibia\",\"NAM\",8.656,1.985,1.293,1.718],[\"Nauru\",\"NRU\",8.0,0.0,0.0,4.898],[\"Nepal\",\"NPL\",2.247,1.307,0.358,0.358],[\"Netherlands\",\"NLD\",11.011,1.109,0.502,9.712],[\"New Caledonia\",\"NCL\",null,null,null,19.385],[\"New Zealand\",\"NZL\",13.55,7.042,3.215,7.363],[\"Nicaragua\",\"NIC\",3.274,1.688,0.598,0.854],[\"Niger\",\"NER\",2.054,1.328,0.537,0.099],[\"Nigeria\",\"NGA\",2.587,0.72,0.201,0.623],[\"Niue\",\"NIU\",30.0,0.0,0.0,4.549],[\"North Korea\",\"PRK\",2.59,0.731,0.096,1.162],[\"North Macedonia\",\"MKD\",4.993,1.197,0.284,3.358],[\"Norway\",\"NOR\",4.534,0.95,0.613,8.532],[\"Oman\",\"OMN\",16.964,1.192,0.167,13.464],[\"Pakistan\",\"PAK\",1.982,0.703,0.284,1.017],[\"Palau\",\"PLW\",1.667,1.111,0.0,11.994],[\"Palestine\",\"PSE\",null,null,null,0.697],[\"Panama\",\"PAN\",6.673,1.33,0.332,2.615],[\"Papua New Guinea\",\"PNG\",7.719,1.674,0.5,0.802],[\"Paraguay\",\"PRY\",28.709,4.916,1.679,1.06],[\"Peru\",\"PER\",5.46,1.015,0.313,1.705],[\"Philippines\",\"PHL\",1.441,0.632,0.13,1.179],[\"Poland\",\"POL\",9.207,1.232,0.569,8.538],[\"Portugal\",\"PRT\",6.72,1.129,0.322,4.887],[\"Puerto Rico\",\"PRI\",null,null,null,null],[\"Qatar\",\"QAT\",34.763,2.894,0.531,33.494],[\"Romania\",\"ROU\",-2.962,1.237,0.418,3.746],[\"Russia\",\"RUS\",16.461,6.206,0.513,11.142],[\"Rwanda\",\"RWA\",0.65,0.279,0.176,0.089],[\"Saint Helena\",\"SHN\",null,null,null,2.46],[\"Saint Kitts and Nevis\",\"KNA\",7.115,1.538,0.385,4.613],[\"Saint Lucia\",\"LCA\",4.5,1.5,0.167,2.707],[\"Saint Pierre and Miquelon\",\"SPM\",null,null,null,11.116],[\"Saint Vincent and the Grenadines\",\"VCT\",3.028,0.642,0.092,2.209],[\"Samoa\",\"WSM\",3.59,1.538,0.308,1.224],[\"Sao Tome and Principe\",\"STP\",0.985,0.148,0.099,0.613],[\"Saudi Arabia\",\"SAU\",20.454,1.312,0.181,19.698],[\"Senegal\",\"SEN\",2.334,0.74,0.548,0.668],[\"Serbia\",\"SRB\",7.1,1.4,0.56,5.086],[\"Seychelles\",\"SYC\",13.542,0.937,0.0,5.589],[\"Sierra Leone\",\"SLE\",1.854,0.703,0.224,0.124],[\"Singapore\",\"SGP\",11.187,0.697,1.595,7.124],[\"Sint Maarten (Dutch part)\",\"SXM\",null,null,null,18.674],[\"Slovakia\",\"SVK\",6.161,0.805,0.369,6.405],[\"Slovenia\",\"SVN\",5.299,0.969,0.386,6.955],[\"Solomon Islands\",\"SLB\",4.41,0.646,0.048,0.467],[\"Somalia\",\"SOM\",2.837,1.365,0.465,0.045],[\"South Africa\",\"ZAF\",8.849,0.796,0.322,8.269],[\"South Korea\",\"KOR\",12.894,0.505,0.208,12.539],[\"South Sudan\",\"SSD\",null,null,null,0.157],[\"Spain\",\"ESP\",6.086,0.843,0.427,5.592],[\"Sri Lanka\",\"LKA\",1.775,0.446,0.116,1.095],[\"Sudan\",\"SDN\",3.807,1.403,0.714,0.485],[\"Suriname\",\"SUR\",12.991,2.938,0.531,4.029],[\"Sweden\",\"SWE\",4.7,0.485,0.502,4.398],[\"Switzerland\",\"CHE\",5.575,0.58,0.261,4.677],[\"Syria\",\"SYR\",2.598,0.744,0.199,1.665],[\"Taiwan\",\"TWN\",null,null,null,11.843],[\"Tajikistan\",\"TJK\",1.537,0.623,0.256,0.743],[\"Tanzania\",\"TZA\",6.022,1.42,0.622,0.205],[\"Thailand\",\"THA\",6.049,1.219,0.303,4.11],[\"Timor\",\"TLS\",null,null,null,0.406],[\"Togo\",\"TGO\",2.047,0.459,0.246,0.307],[\"Tonga\",\"TON\",2.871,0.99,0.495,1.268],[\"Trinidad and Tobago\",\"TTO\",18.817,0.922,0.283,29.075],[\"Tunisia\",\"TUN\",3.486,0.556,0.278,2.566],[\"Turkey\",\"TUR\",4.96,0.558,0.441,5.026],[\"Turkmenistan\",\"TKM\",22.284,8.914,0.652,12.391],[\"Turks and Caicos Islands\",\"TCA\",null,null,null,5.913],[\"Tuvalu\",\"TUV\",0.909,0.909,0.0,0.652],[\"Uganda\",\"UGA\",2.045,0.844,0.397,0.121],[\"Ukraine\",\"UKR\",6.345,1.441,0.537,5.233],[\"United Arab Emirates\",\"ARE\",27.691,5.414,0.736,22.932],[\"United Kingdom\",\"GBR\",6.962,0.788,0.428,6.023],[\"United States\",\"USA\",18.059,1.948,0.779,16.247],[\"Uruguay\",\"URY\",7.763,6.341,2.328,1.904],[\"Uzbekistan\",\"UZB\",6.191,3.361,0.496,3.44],[\"Vanuatu\",\"VUT\",2.986,1.763,0.647,0.527],[\"Venezuela\",\"VEN\",11.729,2.774,0.498,5.677],[\"Vietnam\",\"VNM\",3.356,0.972,0.259,2.059],[\"World\",\"OWID_WRL\",6.613,1.146,0.409,4.75],[\"Yemen\",\"YEM\",0.868,0.3,0.124,0.384],[\"Zambia\",\"ZMB\",30.189,7.293,1.743,0.346],[\"Zimbabwe\",\"ZWE\",4.703,0.85,0.467,0.765]],\"hovertemplate\":\"%{customdata[0]} (%{customdata[1]})<br>Greenhouse Gas Emissions per Capita: %{customdata[2]}<br>Methane Emissions per Capita: %{customdata[3]}<br>Nitrous Oxide Emissions per Capita: %{customdata[4]}<br>CO<sub>2</sub> Emissions per Capita: %{customdata[5]}<br><extra></extra>\",\"locations\":[\"AFG\",\"ALB\",\"DZA\",\"AND\",\"AGO\",\"AIA\",\"ATA\",\"ATG\",\"ARG\",\"ARM\",\"ABW\",\"AUS\",\"AUT\",\"AZE\",\"BHS\",\"BHR\",\"BGD\",\"BRB\",\"BLR\",\"BEL\",\"BLZ\",\"BEN\",\"BMU\",\"BTN\",\"BOL\",\"BES\",\"BIH\",\"BWA\",\"BRA\",\"VGB\",\"BRN\",\"BGR\",\"BFA\",\"BDI\",\"KHM\",\"CMR\",\"CAN\",\"CPV\",\"CAF\",\"TCD\",\"CHL\",\"CHN\",\"CXR\",\"COL\",\"COM\",\"COG\",\"COK\",\"CRI\",\"CIV\",\"HRV\",\"CUB\",\"CUW\",\"CYP\",\"CZE\",\"COD\",\"DNK\",\"DJI\",\"DMA\",\"DOM\",\"ECU\",\"EGY\",\"SLV\",\"GNQ\",\"ERI\",\"EST\",\"SWZ\",\"ETH\",\"FRO\",\"FJI\",\"FIN\",\"FRA\",\"GUF\",\"PYF\",\"GAB\",\"GMB\",\"GEO\",\"DEU\",\"GHA\",\"GRC\",\"GRL\",\"GRD\",\"GLP\",\"GTM\",\"GIN\",\"GNB\",\"GUY\",\"HTI\",\"HND\",\"HKG\",\"HUN\",\"ISL\",\"IND\",\"IDN\",\"IRN\",\"IRQ\",\"IRL\",\"ISR\",\"ITA\",\"JAM\",\"JPN\",\"JOR\",\"KAZ\",\"KEN\",\"KIR\",\"OWID_KOS\",\"KWT\",\"KGZ\",\"LAO\",\"LVA\",\"LBN\",\"LSO\",\"LBR\",\"LBY\",\"LIE\",\"LTU\",\"LUX\",\"MDG\",\"MWI\",\"MYS\",\"MDV\",\"MLI\",\"MLT\",\"MHL\",\"MTQ\",\"MRT\",\"MUS\",\"MYT\",\"MEX\",\"MDA\",\"MNG\",\"MNE\",\"MSR\",\"MAR\",\"MOZ\",\"MMR\",\"NAM\",\"NRU\",\"NPL\",\"NLD\",\"NCL\",\"NZL\",\"NIC\",\"NER\",\"NGA\",\"NIU\",\"PRK\",\"MKD\",\"NOR\",\"OMN\",\"PAK\",\"PLW\",\"PSE\",\"PAN\",\"PNG\",\"PRY\",\"PER\",\"PHL\",\"POL\",\"PRT\",\"PRI\",\"QAT\",\"ROU\",\"RUS\",\"RWA\",\"SHN\",\"KNA\",\"LCA\",\"SPM\",\"VCT\",\"WSM\",\"STP\",\"SAU\",\"SEN\",\"SRB\",\"SYC\",\"SLE\",\"SGP\",\"SXM\",\"SVK\",\"SVN\",\"SLB\",\"SOM\",\"ZAF\",\"KOR\",\"SSD\",\"ESP\",\"LKA\",\"SDN\",\"SUR\",\"SWE\",\"CHE\",\"SYR\",\"TWN\",\"TJK\",\"TZA\",\"THA\",\"TLS\",\"TGO\",\"TON\",\"TTO\",\"TUN\",\"TUR\",\"TKM\",\"TCA\",\"TUV\",\"UGA\",\"UKR\",\"ARE\",\"GBR\",\"USA\",\"URY\",\"UZB\",\"VUT\",\"VEN\",\"VNM\",\"OWID_WRL\",\"YEM\",\"ZMB\",\"ZWE\"],\"marker\":{\"line\":{\"width\":0.1}},\"reversescale\":true,\"visible\":false,\"z\":[0.191,1.556,3.673,6.068,1.089,10.661,null,5.194,4.389,1.772,8.421,17.143,7.684,3.806,5.235,22.004,0.484,4.49,6.336,8.796,1.691,0.607,9.773,1.57,2.066,13.474,6.418,2.932,2.39,7.239,17.971,6.362,0.181,0.045,0.668,0.327,15.38,1.014,0.044,0.07,4.635,6.874,null,1.936,0.272,0.743,3.973,1.617,0.495,4.297,2.486,36.013,6.301,10.047,0.026,6.48,0.43,2.518,2.37,2.396,2.479,1.046,9.371,0.191,13.344,0.947,0.138,13.082,1.444,8.591,5.158,2.682,2.762,2.71,0.247,2.507,9.742,0.581,6.724,9.306,2.426,6.32,1.02,0.234,0.171,3.04,0.275,1.002,5.99,4.826,10.498,1.799,2.144,8.011,5.309,8.551,7.55,5.902,2.809,9.422,2.548,16.19,0.35,0.488,null,25.49,1.588,2.163,3.652,3.947,1.066,0.296,8.238,3.972,4.62,15.697,0.131,0.076,8.166,3.021,0.185,3.223,2.476,6.147,0.609,3.444,1.223,3.915,1.206,8.287,3.213,5.888,1.664,0.293,0.48,1.718,4.898,0.358,9.712,19.385,7.363,0.854,0.099,0.623,4.549,1.162,3.358,8.532,13.464,1.017,11.994,0.697,2.615,0.802,1.06,1.705,1.179,8.538,4.887,null,33.494,3.746,11.142,0.089,2.46,4.613,2.707,11.116,2.209,1.224,0.613,19.698,0.668,5.086,5.589,0.124,7.124,18.674,6.405,6.955,0.467,0.045,8.269,12.539,0.157,5.592,1.095,0.485,4.029,4.398,4.677,1.665,11.843,0.743,0.205,4.11,0.406,0.307,1.268,29.075,2.566,5.026,12.391,5.913,0.652,0.121,5.233,22.932,6.023,16.247,1.904,3.44,0.527,5.677,2.059,4.75,0.384,0.346,0.765],\"zmax\":11.933599999999998,\"zmin\":0.27320000000000005,\"type\":\"choropleth\"}],                        {\"geo\":{\"projection\":{\"type\":\"natural earth\"},\"showcoastlines\":false},\"margin\":{\"b\":0,\"l\":0,\"r\":0,\"t\":50},\"title\":{\"text\":\"Greenhouse Gas (GHG) Emissions\"},\"updatemenus\":[{\"buttons\":[{\"args\":[{\"visible\":[true,false,false,false]}],\"label\":\"Greenhouse Gas Emissions per Capita\",\"method\":\"update\"},{\"args\":[{\"visible\":[false,true,false,false]}],\"label\":\"Methane Emissions per Capita\",\"method\":\"update\"},{\"args\":[{\"visible\":[false,false,true,false]}],\"label\":\"Nitrous Oxide Emissions per Capita\",\"method\":\"update\"},{\"args\":[{\"visible\":[false,false,false,true]}],\"label\":\"CO<sub>2</sub> Emissions per Capita\",\"method\":\"update\"}],\"direction\":\"down\",\"pad\":{\"r\":10,\"t\":0},\"x\":0.4,\"xanchor\":\"left\",\"y\":1.1,\"yanchor\":\"top\"}],\"template\":{\"data\":{\"bar\":[{\"error_x\":{\"color\":\"#2a3f5f\"},\"error_y\":{\"color\":\"#2a3f5f\"},\"marker\":{\"line\":{\"color\":\"#E5ECF6\",\"width\":0.5},\"pattern\":{\"fillmode\":\"overlay\",\"size\":10,\"solidity\":0.2}},\"type\":\"bar\"}],\"barpolar\":[{\"marker\":{\"line\":{\"color\":\"#E5ECF6\",\"width\":0.5},\"pattern\":{\"fillmode\":\"overlay\",\"size\":10,\"solidity\":0.2}},\"type\":\"barpolar\"}],\"carpet\":[{\"aaxis\":{\"endlinecolor\":\"#2a3f5f\",\"gridcolor\":\"white\",\"linecolor\":\"white\",\"minorgridcolor\":\"white\",\"startlinecolor\":\"#2a3f5f\"},\"baxis\":{\"endlinecolor\":\"#2a3f5f\",\"gridcolor\":\"white\",\"linecolor\":\"white\",\"minorgridcolor\":\"white\",\"startlinecolor\":\"#2a3f5f\"},\"type\":\"carpet\"}],\"choropleth\":[{\"colorbar\":{\"outlinewidth\":0,\"ticks\":\"\"},\"type\":\"choropleth\"}],\"contour\":[{\"colorbar\":{\"outlinewidth\":0,\"ticks\":\"\"},\"colorscale\":[[0.0,\"#0d0887\"],[0.1111111111111111,\"#46039f\"],[0.2222222222222222,\"#7201a8\"],[0.3333333333333333,\"#9c179e\"],[0.4444444444444444,\"#bd3786\"],[0.5555555555555556,\"#d8576b\"],[0.6666666666666666,\"#ed7953\"],[0.7777777777777778,\"#fb9f3a\"],[0.8888888888888888,\"#fdca26\"],[1.0,\"#f0f921\"]],\"type\":\"contour\"}],\"contourcarpet\":[{\"colorbar\":{\"outlinewidth\":0,\"ticks\":\"\"},\"type\":\"contourcarpet\"}],\"heatmap\":[{\"colorbar\":{\"outlinewidth\":0,\"ticks\":\"\"},\"colorscale\":[[0.0,\"#0d0887\"],[0.1111111111111111,\"#46039f\"],[0.2222222222222222,\"#7201a8\"],[0.3333333333333333,\"#9c179e\"],[0.4444444444444444,\"#bd3786\"],[0.5555555555555556,\"#d8576b\"],[0.6666666666666666,\"#ed7953\"],[0.7777777777777778,\"#fb9f3a\"],[0.8888888888888888,\"#fdca26\"],[1.0,\"#f0f921\"]],\"type\":\"heatmap\"}],\"heatmapgl\":[{\"colorbar\":{\"outlinewidth\":0,\"ticks\":\"\"},\"colorscale\":[[0.0,\"#0d0887\"],[0.1111111111111111,\"#46039f\"],[0.2222222222222222,\"#7201a8\"],[0.3333333333333333,\"#9c179e\"],[0.4444444444444444,\"#bd3786\"],[0.5555555555555556,\"#d8576b\"],[0.6666666666666666,\"#ed7953\"],[0.7777777777777778,\"#fb9f3a\"],[0.8888888888888888,\"#fdca26\"],[1.0,\"#f0f921\"]],\"type\":\"heatmapgl\"}],\"histogram\":[{\"marker\":{\"pattern\":{\"fillmode\":\"overlay\",\"size\":10,\"solidity\":0.2}},\"type\":\"histogram\"}],\"histogram2d\":[{\"colorbar\":{\"outlinewidth\":0,\"ticks\":\"\"},\"colorscale\":[[0.0,\"#0d0887\"],[0.1111111111111111,\"#46039f\"],[0.2222222222222222,\"#7201a8\"],[0.3333333333333333,\"#9c179e\"],[0.4444444444444444,\"#bd3786\"],[0.5555555555555556,\"#d8576b\"],[0.6666666666666666,\"#ed7953\"],[0.7777777777777778,\"#fb9f3a\"],[0.8888888888888888,\"#fdca26\"],[1.0,\"#f0f921\"]],\"type\":\"histogram2d\"}],\"histogram2dcontour\":[{\"colorbar\":{\"outlinewidth\":0,\"ticks\":\"\"},\"colorscale\":[[0.0,\"#0d0887\"],[0.1111111111111111,\"#46039f\"],[0.2222222222222222,\"#7201a8\"],[0.3333333333333333,\"#9c179e\"],[0.4444444444444444,\"#bd3786\"],[0.5555555555555556,\"#d8576b\"],[0.6666666666666666,\"#ed7953\"],[0.7777777777777778,\"#fb9f3a\"],[0.8888888888888888,\"#fdca26\"],[1.0,\"#f0f921\"]],\"type\":\"histogram2dcontour\"}],\"mesh3d\":[{\"colorbar\":{\"outlinewidth\":0,\"ticks\":\"\"},\"type\":\"mesh3d\"}],\"parcoords\":[{\"line\":{\"colorbar\":{\"outlinewidth\":0,\"ticks\":\"\"}},\"type\":\"parcoords\"}],\"pie\":[{\"automargin\":true,\"type\":\"pie\"}],\"scatter\":[{\"marker\":{\"colorbar\":{\"outlinewidth\":0,\"ticks\":\"\"}},\"type\":\"scatter\"}],\"scatter3d\":[{\"line\":{\"colorbar\":{\"outlinewidth\":0,\"ticks\":\"\"}},\"marker\":{\"colorbar\":{\"outlinewidth\":0,\"ticks\":\"\"}},\"type\":\"scatter3d\"}],\"scattercarpet\":[{\"marker\":{\"colorbar\":{\"outlinewidth\":0,\"ticks\":\"\"}},\"type\":\"scattercarpet\"}],\"scattergeo\":[{\"marker\":{\"colorbar\":{\"outlinewidth\":0,\"ticks\":\"\"}},\"type\":\"scattergeo\"}],\"scattergl\":[{\"marker\":{\"colorbar\":{\"outlinewidth\":0,\"ticks\":\"\"}},\"type\":\"scattergl\"}],\"scattermapbox\":[{\"marker\":{\"colorbar\":{\"outlinewidth\":0,\"ticks\":\"\"}},\"type\":\"scattermapbox\"}],\"scatterpolar\":[{\"marker\":{\"colorbar\":{\"outlinewidth\":0,\"ticks\":\"\"}},\"type\":\"scatterpolar\"}],\"scatterpolargl\":[{\"marker\":{\"colorbar\":{\"outlinewidth\":0,\"ticks\":\"\"}},\"type\":\"scatterpolargl\"}],\"scatterternary\":[{\"marker\":{\"colorbar\":{\"outlinewidth\":0,\"ticks\":\"\"}},\"type\":\"scatterternary\"}],\"surface\":[{\"colorbar\":{\"outlinewidth\":0,\"ticks\":\"\"},\"colorscale\":[[0.0,\"#0d0887\"],[0.1111111111111111,\"#46039f\"],[0.2222222222222222,\"#7201a8\"],[0.3333333333333333,\"#9c179e\"],[0.4444444444444444,\"#bd3786\"],[0.5555555555555556,\"#d8576b\"],[0.6666666666666666,\"#ed7953\"],[0.7777777777777778,\"#fb9f3a\"],[0.8888888888888888,\"#fdca26\"],[1.0,\"#f0f921\"]],\"type\":\"surface\"}],\"table\":[{\"cells\":{\"fill\":{\"color\":\"#EBF0F8\"},\"line\":{\"color\":\"white\"}},\"header\":{\"fill\":{\"color\":\"#C8D4E3\"},\"line\":{\"color\":\"white\"}},\"type\":\"table\"}]},\"layout\":{\"annotationdefaults\":{\"arrowcolor\":\"#2a3f5f\",\"arrowhead\":0,\"arrowwidth\":1},\"autotypenumbers\":\"strict\",\"coloraxis\":{\"colorbar\":{\"outlinewidth\":0,\"ticks\":\"\"}},\"colorscale\":{\"diverging\":[[0,\"#8e0152\"],[0.1,\"#c51b7d\"],[0.2,\"#de77ae\"],[0.3,\"#f1b6da\"],[0.4,\"#fde0ef\"],[0.5,\"#f7f7f7\"],[0.6,\"#e6f5d0\"],[0.7,\"#b8e186\"],[0.8,\"#7fbc41\"],[0.9,\"#4d9221\"],[1,\"#276419\"]],\"sequential\":[[0.0,\"#0d0887\"],[0.1111111111111111,\"#46039f\"],[0.2222222222222222,\"#7201a8\"],[0.3333333333333333,\"#9c179e\"],[0.4444444444444444,\"#bd3786\"],[0.5555555555555556,\"#d8576b\"],[0.6666666666666666,\"#ed7953\"],[0.7777777777777778,\"#fb9f3a\"],[0.8888888888888888,\"#fdca26\"],[1.0,\"#f0f921\"]],\"sequentialminus\":[[0.0,\"#0d0887\"],[0.1111111111111111,\"#46039f\"],[0.2222222222222222,\"#7201a8\"],[0.3333333333333333,\"#9c179e\"],[0.4444444444444444,\"#bd3786\"],[0.5555555555555556,\"#d8576b\"],[0.6666666666666666,\"#ed7953\"],[0.7777777777777778,\"#fb9f3a\"],[0.8888888888888888,\"#fdca26\"],[1.0,\"#f0f921\"]]},\"colorway\":[\"#636efa\",\"#EF553B\",\"#00cc96\",\"#ab63fa\",\"#FFA15A\",\"#19d3f3\",\"#FF6692\",\"#B6E880\",\"#FF97FF\",\"#FECB52\"],\"font\":{\"color\":\"#2a3f5f\"},\"geo\":{\"bgcolor\":\"white\",\"lakecolor\":\"white\",\"landcolor\":\"#E5ECF6\",\"showlakes\":true,\"showland\":true,\"subunitcolor\":\"white\"},\"hoverlabel\":{\"align\":\"left\"},\"hovermode\":\"closest\",\"mapbox\":{\"style\":\"light\"},\"paper_bgcolor\":\"white\",\"plot_bgcolor\":\"#E5ECF6\",\"polar\":{\"angularaxis\":{\"gridcolor\":\"white\",\"linecolor\":\"white\",\"ticks\":\"\"},\"bgcolor\":\"#E5ECF6\",\"radialaxis\":{\"gridcolor\":\"white\",\"linecolor\":\"white\",\"ticks\":\"\"}},\"scene\":{\"xaxis\":{\"backgroundcolor\":\"#E5ECF6\",\"gridcolor\":\"white\",\"gridwidth\":2,\"linecolor\":\"white\",\"showbackground\":true,\"ticks\":\"\",\"zerolinecolor\":\"white\"},\"yaxis\":{\"backgroundcolor\":\"#E5ECF6\",\"gridcolor\":\"white\",\"gridwidth\":2,\"linecolor\":\"white\",\"showbackground\":true,\"ticks\":\"\",\"zerolinecolor\":\"white\"},\"zaxis\":{\"backgroundcolor\":\"#E5ECF6\",\"gridcolor\":\"white\",\"gridwidth\":2,\"linecolor\":\"white\",\"showbackground\":true,\"ticks\":\"\",\"zerolinecolor\":\"white\"}},\"shapedefaults\":{\"line\":{\"color\":\"#2a3f5f\"}},\"ternary\":{\"aaxis\":{\"gridcolor\":\"white\",\"linecolor\":\"white\",\"ticks\":\"\"},\"baxis\":{\"gridcolor\":\"white\",\"linecolor\":\"white\",\"ticks\":\"\"},\"bgcolor\":\"#E5ECF6\",\"caxis\":{\"gridcolor\":\"white\",\"linecolor\":\"white\",\"ticks\":\"\"}},\"title\":{\"x\":0.05},\"xaxis\":{\"automargin\":true,\"gridcolor\":\"white\",\"linecolor\":\"white\",\"ticks\":\"\",\"title\":{\"standoff\":15},\"zerolinecolor\":\"white\",\"zerolinewidth\":2},\"yaxis\":{\"automargin\":true,\"gridcolor\":\"white\",\"linecolor\":\"white\",\"ticks\":\"\",\"title\":{\"standoff\":15},\"zerolinecolor\":\"white\",\"zerolinewidth\":2}}}},                        {\"responsive\": true}                    ).then(function(){\n",
       "                            \n",
       "var gd = document.getElementById('2c3abe05-edf8-4bf0-a443-dd57b84334c5');\n",
       "var x = new MutationObserver(function (mutations, observer) {{\n",
       "        var display = window.getComputedStyle(gd).display;\n",
       "        if (!display || display === 'none') {{\n",
       "            console.log([gd, 'removed!']);\n",
       "            Plotly.purge(gd);\n",
       "            observer.disconnect();\n",
       "        }}\n",
       "}});\n",
       "\n",
       "// Listen for the removal of the full notebook cells\n",
       "var notebookContainer = gd.closest('#notebook-container');\n",
       "if (notebookContainer) {{\n",
       "    x.observe(notebookContainer, {childList: true});\n",
       "}}\n",
       "\n",
       "// Listen for the clearing of the current output cell\n",
       "var outputEl = gd.closest('.output');\n",
       "if (outputEl) {{\n",
       "    x.observe(outputEl, {childList: true});\n",
       "}}\n",
       "\n",
       "                        })                };                });            </script>        </div>"
      ]
     },
     "metadata": {},
     "output_type": "display_data"
    }
   ],
   "source": [
    "ghg_fig = go.Figure(\n",
    "    data=[\n",
    "        # Need a new trace for each of the different data sets so that view can be properly updated\n",
    "        go.Choropleth( \n",
    "            locations=locations_ghg, \n",
    "            z=emissions_ghg[\"ghg_per_capita\"],\n",
    "            zmin=get_min_bp(emissions_ghg, \"ghg_per_capita\"),\n",
    "            zmax=get_max_bp(emissions_ghg, \"ghg_per_capita\"),\n",
    "            hovertemplate=hovertemplate_ghg,\n",
    "            colorscale=\"RdYlGn\",\n",
    "            reversescale=True,\n",
    "            colorbar_title=\"GHG<br>Emissions<br>per Capita\",\n",
    "            marker_line_width=0.1,\n",
    "            customdata=customdata_ghg,\n",
    "            visible=True\n",
    "        ),\n",
    "        go.Choropleth( \n",
    "            locations=locations_ghg, \n",
    "            z=emissions_ghg[\"methane_per_capita\"],\n",
    "            zmin=get_min_bp(emissions_ghg, \"methane_per_capita\"),\n",
    "            zmax=get_max_bp(emissions_ghg, \"methane_per_capita\"),\n",
    "            hovertemplate=hovertemplate_ghg,\n",
    "            colorscale=\"RdYlGn\",\n",
    "            reversescale=True,\n",
    "            colorbar_title=\"Methane<br>Emissions<br>per Capita\",\n",
    "            marker_line_width=0.1,\n",
    "            customdata=customdata_ghg,\n",
    "            visible=False\n",
    "        ),\n",
    "        go.Choropleth( \n",
    "            locations=locations_ghg, \n",
    "            z=emissions_ghg[\"nitrous_oxide_per_capita\"],\n",
    "            zmin=get_min_bp(emissions_ghg, \"nitrous_oxide_per_capita\"),\n",
    "            zmax=get_max_bp(emissions_ghg, \"nitrous_oxide_per_capita\"),\n",
    "            hovertemplate=hovertemplate_ghg,\n",
    "            colorscale=\"RdYlGn\",\n",
    "            reversescale=True,\n",
    "            colorbar_title=\"Nitrous Oxide<br>Emissions<br>per Capita\",\n",
    "            marker_line_width=0.1,\n",
    "            customdata=customdata_ghg,\n",
    "            visible=False\n",
    "        ),\n",
    "        go.Choropleth( \n",
    "            locations=locations_ghg, \n",
    "            z=emissions_ghg[\"co2_per_capita\"],\n",
    "            zmin=get_min_bp(emissions_ghg, \"co2_per_capita\"),\n",
    "            zmax=get_max_bp(emissions_ghg, \"co2_per_capita\"),\n",
    "            hovertemplate=hovertemplate_ghg,\n",
    "            colorscale=\"RdYlGn\",\n",
    "            reversescale=True,\n",
    "            colorbar_title=\"CO<sub>2</sub><br>Emissions<br>per Capita\",\n",
    "            marker_line_width=0.1,\n",
    "            customdata=customdata_ghg,\n",
    "            visible=False\n",
    "        )\n",
    "    ],\n",
    "    layout=go.Layout(\n",
    "        title_text=\"Greenhouse Gas (GHG) Emissions\",\n",
    "        margin={\"r\":0,\"t\":50,\"l\":0,\"b\":0},\n",
    "        geo={\n",
    "            \"projection_type\": \"natural earth\",\n",
    "            \"showcoastlines\": False,\n",
    "        },\n",
    "        updatemenus=[\n",
    "            # Add dropdown menu that will allow for selection of data\n",
    "            dict(\n",
    "                buttons=[\n",
    "                    dict(\n",
    "                        args=[{\"visible\":(True, False, False, False)}],\n",
    "                        label=\"Greenhouse Gas Emissions per Capita\",\n",
    "                        method=\"update\"\n",
    "                    ),\n",
    "                    dict(\n",
    "                        args=[{\"visible\":(False, True, False, False)}],\n",
    "                        label=\"Methane Emissions per Capita\",\n",
    "                        method=\"update\"\n",
    "                    ),\n",
    "                    dict(\n",
    "                        args=[{\"visible\":(False, False, True, False)}],\n",
    "                        label=\"Nitrous Oxide Emissions per Capita\",\n",
    "                        method=\"update\"\n",
    "                    ),\n",
    "                    dict(\n",
    "                        args=[{\"visible\":(False, False, False, True)}],\n",
    "                        label=\"CO<sub>2</sub> Emissions per Capita\",\n",
    "                        method=\"update\"\n",
    "                    )\n",
    "                ],\n",
    "                direction=\"down\",\n",
    "                pad={\"r\":10, \"t\":0},\n",
    "                x=0.4,\n",
    "                xanchor=\"left\",\n",
    "                y=1.1,\n",
    "                yanchor=\"top\"\n",
    "            )\n",
    "        ]\n",
    "    )\n",
    ")\n",
    "\n",
    "ghg_fig.show()"
   ]
  },
  {
   "cell_type": "markdown",
   "id": "8ba9d46c",
   "metadata": {},
   "source": [
    "## Energy"
   ]
  },
  {
   "cell_type": "code",
   "execution_count": null,
   "id": "f7526c98",
   "metadata": {},
   "outputs": [],
   "source": []
  }
 ],
 "metadata": {
  "kernelspec": {
   "display_name": "Python 3",
   "language": "python",
   "name": "python3"
  },
  "language_info": {
   "codemirror_mode": {
    "name": "ipython",
    "version": 3
   },
   "file_extension": ".py",
   "mimetype": "text/x-python",
   "name": "python",
   "nbconvert_exporter": "python",
   "pygments_lexer": "ipython3",
   "version": "3.8.13"
  }
 },
 "nbformat": 4,
 "nbformat_minor": 5
}

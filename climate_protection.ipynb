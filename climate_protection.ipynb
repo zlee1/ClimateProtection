{
 "cells": [
  {
   "cell_type": "markdown",
   "id": "5d83ec93",
   "metadata": {},
   "source": [
    "# Climate Protection Actions Around the World\n",
    "\n",
    "Looking at climate change performance index via https://en.wikipedia.org/wiki/Climate_Change_Performance_Index#2022_results\n",
    "\n",
    "Goal: Produce interactive map that allows for comparison of climate change index across countries as well as more information about what specifically is contributing to to climate change and what needs to be altered."
   ]
  },
  {
   "cell_type": "code",
   "execution_count": 1,
   "id": "a8ae50e4",
   "metadata": {},
   "outputs": [],
   "source": [
    "import pandas as pd\n",
    "import plotly.express as px"
   ]
  },
  {
   "cell_type": "markdown",
   "id": "715fe834",
   "metadata": {},
   "source": [
    "## Data Importing, Cleaning, and Preparation"
   ]
  },
  {
   "cell_type": "markdown",
   "id": "fe1afa2a",
   "metadata": {},
   "source": [
    "### Loading Base Data\n",
    "\n",
    "Base data contains the 2022 Climate Change Performance Index results from  https://en.wikipedia.org/wiki/Climate_Change_Performance_Index#2022_results"
   ]
  },
  {
   "cell_type": "code",
   "execution_count": 2,
   "id": "720a1502",
   "metadata": {},
   "outputs": [
    {
     "data": {
      "text/html": [
       "<div>\n",
       "<style scoped>\n",
       "    .dataframe tbody tr th:only-of-type {\n",
       "        vertical-align: middle;\n",
       "    }\n",
       "\n",
       "    .dataframe tbody tr th {\n",
       "        vertical-align: top;\n",
       "    }\n",
       "\n",
       "    .dataframe thead th {\n",
       "        text-align: right;\n",
       "    }\n",
       "</style>\n",
       "<table border=\"1\" class=\"dataframe\">\n",
       "  <thead>\n",
       "    <tr style=\"text-align: right;\">\n",
       "      <th></th>\n",
       "      <th>rank</th>\n",
       "      <th>country</th>\n",
       "      <th>iso</th>\n",
       "      <th>score</th>\n",
       "    </tr>\n",
       "  </thead>\n",
       "  <tbody>\n",
       "    <tr>\n",
       "      <th>0</th>\n",
       "      <td>1</td>\n",
       "      <td>Denmark</td>\n",
       "      <td>DNK</td>\n",
       "      <td>76.67</td>\n",
       "    </tr>\n",
       "    <tr>\n",
       "      <th>1</th>\n",
       "      <td>2</td>\n",
       "      <td>Sweden</td>\n",
       "      <td>SWE</td>\n",
       "      <td>74.22</td>\n",
       "    </tr>\n",
       "    <tr>\n",
       "      <th>2</th>\n",
       "      <td>3</td>\n",
       "      <td>Norway</td>\n",
       "      <td>NOR</td>\n",
       "      <td>73.29</td>\n",
       "    </tr>\n",
       "    <tr>\n",
       "      <th>3</th>\n",
       "      <td>4</td>\n",
       "      <td>United Kingdom</td>\n",
       "      <td>GBR</td>\n",
       "      <td>73.09</td>\n",
       "    </tr>\n",
       "    <tr>\n",
       "      <th>4</th>\n",
       "      <td>5</td>\n",
       "      <td>Morocco</td>\n",
       "      <td>MAR</td>\n",
       "      <td>71.60</td>\n",
       "    </tr>\n",
       "  </tbody>\n",
       "</table>\n",
       "</div>"
      ],
      "text/plain": [
       "   rank         country  iso  score\n",
       "0     1         Denmark  DNK  76.67\n",
       "1     2          Sweden  SWE  74.22\n",
       "2     3          Norway  NOR  73.29\n",
       "3     4  United Kingdom  GBR  73.09\n",
       "4     5         Morocco  MAR  71.60"
      ]
     },
     "execution_count": 2,
     "metadata": {},
     "output_type": "execute_result"
    }
   ],
   "source": [
    "# Remove all rows with NaN values because all information is necessary\n",
    "ccpi = pd.read_csv(\"data/ccpi.csv\").dropna()\n",
    "ccpi.head()"
   ]
  },
  {
   "cell_type": "markdown",
   "id": "dd068b31",
   "metadata": {},
   "source": [
    "### Importing Emissions Data\n",
    "\n",
    "Emissions data contains information about different gasseous emissions ranging from 1750 to 2020 and is from https://www.kaggle.com/datasets/danielrpdias/co2-and-greenhouse-gas-emissions"
   ]
  },
  {
   "cell_type": "code",
   "execution_count": 18,
   "id": "7f4a08e8",
   "metadata": {},
   "outputs": [
    {
     "data": {
      "text/html": [
       "<div>\n",
       "<style scoped>\n",
       "    .dataframe tbody tr th:only-of-type {\n",
       "        vertical-align: middle;\n",
       "    }\n",
       "\n",
       "    .dataframe tbody tr th {\n",
       "        vertical-align: top;\n",
       "    }\n",
       "\n",
       "    .dataframe thead th {\n",
       "        text-align: right;\n",
       "    }\n",
       "</style>\n",
       "<table border=\"1\" class=\"dataframe\">\n",
       "  <thead>\n",
       "    <tr style=\"text-align: right;\">\n",
       "      <th></th>\n",
       "      <th>iso_code</th>\n",
       "      <th>country</th>\n",
       "      <th>year</th>\n",
       "      <th>co2</th>\n",
       "      <th>consumption_co2</th>\n",
       "      <th>co2_growth_prct</th>\n",
       "      <th>co2_growth_abs</th>\n",
       "      <th>trade_co2</th>\n",
       "      <th>co2_per_capita</th>\n",
       "      <th>consumption_co2_per_capita</th>\n",
       "      <th>...</th>\n",
       "      <th>ghg_per_capita</th>\n",
       "      <th>methane</th>\n",
       "      <th>methane_per_capita</th>\n",
       "      <th>nitrous_oxide</th>\n",
       "      <th>nitrous_oxide_per_capita</th>\n",
       "      <th>population</th>\n",
       "      <th>gdp</th>\n",
       "      <th>primary_energy_consumption</th>\n",
       "      <th>energy_per_capita</th>\n",
       "      <th>energy_per_gdp</th>\n",
       "    </tr>\n",
       "  </thead>\n",
       "  <tbody>\n",
       "    <tr>\n",
       "      <th>0</th>\n",
       "      <td>AFG</td>\n",
       "      <td>Afghanistan</td>\n",
       "      <td>1949</td>\n",
       "      <td>0.015</td>\n",
       "      <td>NaN</td>\n",
       "      <td>NaN</td>\n",
       "      <td>NaN</td>\n",
       "      <td>NaN</td>\n",
       "      <td>0.002</td>\n",
       "      <td>NaN</td>\n",
       "      <td>...</td>\n",
       "      <td>NaN</td>\n",
       "      <td>NaN</td>\n",
       "      <td>NaN</td>\n",
       "      <td>NaN</td>\n",
       "      <td>NaN</td>\n",
       "      <td>7624058.0</td>\n",
       "      <td>NaN</td>\n",
       "      <td>NaN</td>\n",
       "      <td>NaN</td>\n",
       "      <td>NaN</td>\n",
       "    </tr>\n",
       "    <tr>\n",
       "      <th>1</th>\n",
       "      <td>AFG</td>\n",
       "      <td>Afghanistan</td>\n",
       "      <td>1950</td>\n",
       "      <td>0.084</td>\n",
       "      <td>NaN</td>\n",
       "      <td>475.0</td>\n",
       "      <td>0.070</td>\n",
       "      <td>NaN</td>\n",
       "      <td>0.011</td>\n",
       "      <td>NaN</td>\n",
       "      <td>...</td>\n",
       "      <td>NaN</td>\n",
       "      <td>NaN</td>\n",
       "      <td>NaN</td>\n",
       "      <td>NaN</td>\n",
       "      <td>NaN</td>\n",
       "      <td>7752117.0</td>\n",
       "      <td>9.421400e+09</td>\n",
       "      <td>NaN</td>\n",
       "      <td>NaN</td>\n",
       "      <td>NaN</td>\n",
       "    </tr>\n",
       "    <tr>\n",
       "      <th>2</th>\n",
       "      <td>AFG</td>\n",
       "      <td>Afghanistan</td>\n",
       "      <td>1951</td>\n",
       "      <td>0.092</td>\n",
       "      <td>NaN</td>\n",
       "      <td>8.7</td>\n",
       "      <td>0.007</td>\n",
       "      <td>NaN</td>\n",
       "      <td>0.012</td>\n",
       "      <td>NaN</td>\n",
       "      <td>...</td>\n",
       "      <td>NaN</td>\n",
       "      <td>NaN</td>\n",
       "      <td>NaN</td>\n",
       "      <td>NaN</td>\n",
       "      <td>NaN</td>\n",
       "      <td>7840151.0</td>\n",
       "      <td>9.692280e+09</td>\n",
       "      <td>NaN</td>\n",
       "      <td>NaN</td>\n",
       "      <td>NaN</td>\n",
       "    </tr>\n",
       "    <tr>\n",
       "      <th>3</th>\n",
       "      <td>AFG</td>\n",
       "      <td>Afghanistan</td>\n",
       "      <td>1952</td>\n",
       "      <td>0.092</td>\n",
       "      <td>NaN</td>\n",
       "      <td>0.0</td>\n",
       "      <td>0.000</td>\n",
       "      <td>NaN</td>\n",
       "      <td>0.012</td>\n",
       "      <td>NaN</td>\n",
       "      <td>...</td>\n",
       "      <td>NaN</td>\n",
       "      <td>NaN</td>\n",
       "      <td>NaN</td>\n",
       "      <td>NaN</td>\n",
       "      <td>NaN</td>\n",
       "      <td>7935996.0</td>\n",
       "      <td>1.001732e+10</td>\n",
       "      <td>NaN</td>\n",
       "      <td>NaN</td>\n",
       "      <td>NaN</td>\n",
       "    </tr>\n",
       "    <tr>\n",
       "      <th>4</th>\n",
       "      <td>AFG</td>\n",
       "      <td>Afghanistan</td>\n",
       "      <td>1953</td>\n",
       "      <td>0.106</td>\n",
       "      <td>NaN</td>\n",
       "      <td>16.0</td>\n",
       "      <td>0.015</td>\n",
       "      <td>NaN</td>\n",
       "      <td>0.013</td>\n",
       "      <td>NaN</td>\n",
       "      <td>...</td>\n",
       "      <td>NaN</td>\n",
       "      <td>NaN</td>\n",
       "      <td>NaN</td>\n",
       "      <td>NaN</td>\n",
       "      <td>NaN</td>\n",
       "      <td>8039684.0</td>\n",
       "      <td>1.063052e+10</td>\n",
       "      <td>NaN</td>\n",
       "      <td>NaN</td>\n",
       "      <td>NaN</td>\n",
       "    </tr>\n",
       "  </tbody>\n",
       "</table>\n",
       "<p>5 rows × 58 columns</p>\n",
       "</div>"
      ],
      "text/plain": [
       "  iso_code      country  year    co2  consumption_co2  co2_growth_prct  \\\n",
       "0      AFG  Afghanistan  1949  0.015              NaN              NaN   \n",
       "1      AFG  Afghanistan  1950  0.084              NaN            475.0   \n",
       "2      AFG  Afghanistan  1951  0.092              NaN              8.7   \n",
       "3      AFG  Afghanistan  1952  0.092              NaN              0.0   \n",
       "4      AFG  Afghanistan  1953  0.106              NaN             16.0   \n",
       "\n",
       "   co2_growth_abs  trade_co2  co2_per_capita  consumption_co2_per_capita  ...  \\\n",
       "0             NaN        NaN           0.002                         NaN  ...   \n",
       "1           0.070        NaN           0.011                         NaN  ...   \n",
       "2           0.007        NaN           0.012                         NaN  ...   \n",
       "3           0.000        NaN           0.012                         NaN  ...   \n",
       "4           0.015        NaN           0.013                         NaN  ...   \n",
       "\n",
       "   ghg_per_capita  methane  methane_per_capita  nitrous_oxide  \\\n",
       "0             NaN      NaN                 NaN            NaN   \n",
       "1             NaN      NaN                 NaN            NaN   \n",
       "2             NaN      NaN                 NaN            NaN   \n",
       "3             NaN      NaN                 NaN            NaN   \n",
       "4             NaN      NaN                 NaN            NaN   \n",
       "\n",
       "   nitrous_oxide_per_capita  population           gdp  \\\n",
       "0                       NaN   7624058.0           NaN   \n",
       "1                       NaN   7752117.0  9.421400e+09   \n",
       "2                       NaN   7840151.0  9.692280e+09   \n",
       "3                       NaN   7935996.0  1.001732e+10   \n",
       "4                       NaN   8039684.0  1.063052e+10   \n",
       "\n",
       "   primary_energy_consumption  energy_per_capita  energy_per_gdp  \n",
       "0                         NaN                NaN             NaN  \n",
       "1                         NaN                NaN             NaN  \n",
       "2                         NaN                NaN             NaN  \n",
       "3                         NaN                NaN             NaN  \n",
       "4                         NaN                NaN             NaN  \n",
       "\n",
       "[5 rows x 58 columns]"
      ]
     },
     "execution_count": 18,
     "metadata": {},
     "output_type": "execute_result"
    }
   ],
   "source": [
    "# Drop rows where an ISO Code is not provided as they cannot be used on visualization\n",
    "emissions = pd.read_csv(\"data/emissions.csv\").dropna(subset=[\"iso_code\"])\n",
    "emissions.head()"
   ]
  },
  {
   "cell_type": "code",
   "execution_count": null,
   "id": "56feedc4",
   "metadata": {},
   "outputs": [],
   "source": [
    "# Query only most recent available year of emissions\n",
    "# Reset index and drop columns where all values are NaN\n",
    "emissions_last = emissions[emissions[\"year\"] == max(emissions[\"year\"])].reset_index(drop=True).dropna(axis=\"columns\", how=\"all\")\n",
    "emissions_last.head()"
   ]
  },
  {
   "cell_type": "code",
   "execution_count": 19,
   "id": "3b5fcaea",
   "metadata": {},
   "outputs": [
    {
     "data": {
      "text/plain": [
       "['iso_code',\n",
       " 'country',\n",
       " 'year',\n",
       " 'co2',\n",
       " 'consumption_co2',\n",
       " 'co2_growth_prct',\n",
       " 'co2_growth_abs',\n",
       " 'trade_co2',\n",
       " 'co2_per_capita',\n",
       " 'consumption_co2_per_capita',\n",
       " 'share_global_co2',\n",
       " 'cumulative_co2',\n",
       " 'share_global_cumulative_co2',\n",
       " 'coal_co2',\n",
       " 'cement_co2',\n",
       " 'flaring_co2',\n",
       " 'gas_co2',\n",
       " 'oil_co2',\n",
       " 'other_industry_co2',\n",
       " 'cement_co2_per_capita',\n",
       " 'coal_co2_per_capita',\n",
       " 'flaring_co2_per_capita',\n",
       " 'gas_co2_per_capita',\n",
       " 'oil_co2_per_capita',\n",
       " 'other_co2_per_capita',\n",
       " 'trade_co2_share',\n",
       " 'share_global_cement_co2',\n",
       " 'share_global_coal_co2',\n",
       " 'share_global_flaring_co2',\n",
       " 'share_global_gas_co2',\n",
       " 'share_global_oil_co2',\n",
       " 'share_global_other_co2',\n",
       " 'cumulative_cement_co2',\n",
       " 'cumulative_coal_co2',\n",
       " 'cumulative_flaring_co2',\n",
       " 'cumulative_gas_co2',\n",
       " 'cumulative_oil_co2',\n",
       " 'cumulative_other_co2',\n",
       " 'share_global_cumulative_cement_co2',\n",
       " 'share_global_cumulative_coal_co2',\n",
       " 'share_global_cumulative_flaring_co2',\n",
       " 'share_global_cumulative_gas_co2',\n",
       " 'share_global_cumulative_oil_co2',\n",
       " 'share_global_cumulative_other_co2',\n",
       " 'population']"
      ]
     },
     "execution_count": 19,
     "metadata": {},
     "output_type": "execute_result"
    }
   ],
   "source": [
    "list(emissions_last.columns)"
   ]
  },
  {
   "cell_type": "markdown",
   "id": "82e0e3fb",
   "metadata": {},
   "source": [
    "### Joining Data Sources"
   ]
  },
  {
   "cell_type": "code",
   "execution_count": 17,
   "id": "211b8c7d",
   "metadata": {},
   "outputs": [
    {
     "data": {
      "text/html": [
       "<div>\n",
       "<style scoped>\n",
       "    .dataframe tbody tr th:only-of-type {\n",
       "        vertical-align: middle;\n",
       "    }\n",
       "\n",
       "    .dataframe tbody tr th {\n",
       "        vertical-align: top;\n",
       "    }\n",
       "\n",
       "    .dataframe thead th {\n",
       "        text-align: right;\n",
       "    }\n",
       "</style>\n",
       "<table border=\"1\" class=\"dataframe\">\n",
       "  <thead>\n",
       "    <tr style=\"text-align: right;\">\n",
       "      <th></th>\n",
       "      <th>rank</th>\n",
       "      <th>country</th>\n",
       "      <th>iso</th>\n",
       "      <th>score</th>\n",
       "      <th>year</th>\n",
       "      <th>co2</th>\n",
       "      <th>co2_growth_prct</th>\n",
       "      <th>co2_growth_abs</th>\n",
       "      <th>co2_per_capita</th>\n",
       "      <th>share_global_co2</th>\n",
       "      <th>...</th>\n",
       "      <th>cumulative_gas_co2</th>\n",
       "      <th>cumulative_oil_co2</th>\n",
       "      <th>cumulative_other_co2</th>\n",
       "      <th>share_global_cumulative_cement_co2</th>\n",
       "      <th>share_global_cumulative_coal_co2</th>\n",
       "      <th>share_global_cumulative_flaring_co2</th>\n",
       "      <th>share_global_cumulative_gas_co2</th>\n",
       "      <th>share_global_cumulative_oil_co2</th>\n",
       "      <th>share_global_cumulative_other_co2</th>\n",
       "      <th>population</th>\n",
       "    </tr>\n",
       "  </thead>\n",
       "  <tbody>\n",
       "    <tr>\n",
       "      <th>0</th>\n",
       "      <td>1</td>\n",
       "      <td>Denmark</td>\n",
       "      <td>DNK</td>\n",
       "      <td>76.67</td>\n",
       "      <td>2020</td>\n",
       "      <td>26.195</td>\n",
       "      <td>-15.22</td>\n",
       "      <td>-4.702</td>\n",
       "      <td>4.522</td>\n",
       "      <td>0.08</td>\n",
       "      <td>...</td>\n",
       "      <td>273.120</td>\n",
       "      <td>1853.778</td>\n",
       "      <td>14.953</td>\n",
       "      <td>0.19</td>\n",
       "      <td>0.23</td>\n",
       "      <td>0.10</td>\n",
       "      <td>0.11</td>\n",
       "      <td>0.31</td>\n",
       "      <td>0.16</td>\n",
       "      <td>5792203.0</td>\n",
       "    </tr>\n",
       "    <tr>\n",
       "      <th>1</th>\n",
       "      <td>2</td>\n",
       "      <td>Sweden</td>\n",
       "      <td>SWE</td>\n",
       "      <td>74.22</td>\n",
       "      <td>2020</td>\n",
       "      <td>38.635</td>\n",
       "      <td>-5.62</td>\n",
       "      <td>-2.302</td>\n",
       "      <td>3.826</td>\n",
       "      <td>0.11</td>\n",
       "      <td>...</td>\n",
       "      <td>70.227</td>\n",
       "      <td>3267.419</td>\n",
       "      <td>19.158</td>\n",
       "      <td>0.26</td>\n",
       "      <td>0.19</td>\n",
       "      <td>0.10</td>\n",
       "      <td>0.03</td>\n",
       "      <td>0.55</td>\n",
       "      <td>0.20</td>\n",
       "      <td>10099270.0</td>\n",
       "    </tr>\n",
       "    <tr>\n",
       "      <th>2</th>\n",
       "      <td>3</td>\n",
       "      <td>Norway</td>\n",
       "      <td>NOR</td>\n",
       "      <td>73.29</td>\n",
       "      <td>2020</td>\n",
       "      <td>41.283</td>\n",
       "      <td>-3.69</td>\n",
       "      <td>-1.582</td>\n",
       "      <td>7.615</td>\n",
       "      <td>0.12</td>\n",
       "      <td>...</td>\n",
       "      <td>412.919</td>\n",
       "      <td>1405.108</td>\n",
       "      <td>10.503</td>\n",
       "      <td>0.14</td>\n",
       "      <td>0.08</td>\n",
       "      <td>0.61</td>\n",
       "      <td>0.17</td>\n",
       "      <td>0.24</td>\n",
       "      <td>0.11</td>\n",
       "      <td>5421242.0</td>\n",
       "    </tr>\n",
       "    <tr>\n",
       "      <th>3</th>\n",
       "      <td>4</td>\n",
       "      <td>United Kingdom</td>\n",
       "      <td>GBR</td>\n",
       "      <td>73.09</td>\n",
       "      <td>2020</td>\n",
       "      <td>329.579</td>\n",
       "      <td>-10.69</td>\n",
       "      <td>-39.431</td>\n",
       "      <td>4.855</td>\n",
       "      <td>0.95</td>\n",
       "      <td>...</td>\n",
       "      <td>7002.510</td>\n",
       "      <td>13418.030</td>\n",
       "      <td>108.013</td>\n",
       "      <td>1.21</td>\n",
       "      <td>7.21</td>\n",
       "      <td>1.64</td>\n",
       "      <td>2.86</td>\n",
       "      <td>2.26</td>\n",
       "      <td>1.15</td>\n",
       "      <td>67886004.0</td>\n",
       "    </tr>\n",
       "    <tr>\n",
       "      <th>4</th>\n",
       "      <td>5</td>\n",
       "      <td>Morocco</td>\n",
       "      <td>MAR</td>\n",
       "      <td>71.60</td>\n",
       "      <td>2020</td>\n",
       "      <td>64.536</td>\n",
       "      <td>-5.40</td>\n",
       "      <td>-3.680</td>\n",
       "      <td>1.748</td>\n",
       "      <td>0.19</td>\n",
       "      <td>...</td>\n",
       "      <td>32.371</td>\n",
       "      <td>1089.605</td>\n",
       "      <td>NaN</td>\n",
       "      <td>0.39</td>\n",
       "      <td>0.06</td>\n",
       "      <td>NaN</td>\n",
       "      <td>0.01</td>\n",
       "      <td>0.18</td>\n",
       "      <td>NaN</td>\n",
       "      <td>36910558.0</td>\n",
       "    </tr>\n",
       "  </tbody>\n",
       "</table>\n",
       "<p>5 rows × 43 columns</p>\n",
       "</div>"
      ],
      "text/plain": [
       "   rank         country  iso  score  year      co2  co2_growth_prct  \\\n",
       "0     1         Denmark  DNK  76.67  2020   26.195           -15.22   \n",
       "1     2          Sweden  SWE  74.22  2020   38.635            -5.62   \n",
       "2     3          Norway  NOR  73.29  2020   41.283            -3.69   \n",
       "3     4  United Kingdom  GBR  73.09  2020  329.579           -10.69   \n",
       "4     5         Morocco  MAR  71.60  2020   64.536            -5.40   \n",
       "\n",
       "   co2_growth_abs  co2_per_capita  share_global_co2  ...  cumulative_gas_co2  \\\n",
       "0          -4.702           4.522              0.08  ...             273.120   \n",
       "1          -2.302           3.826              0.11  ...              70.227   \n",
       "2          -1.582           7.615              0.12  ...             412.919   \n",
       "3         -39.431           4.855              0.95  ...            7002.510   \n",
       "4          -3.680           1.748              0.19  ...              32.371   \n",
       "\n",
       "   cumulative_oil_co2  cumulative_other_co2  \\\n",
       "0            1853.778                14.953   \n",
       "1            3267.419                19.158   \n",
       "2            1405.108                10.503   \n",
       "3           13418.030               108.013   \n",
       "4            1089.605                   NaN   \n",
       "\n",
       "   share_global_cumulative_cement_co2  share_global_cumulative_coal_co2  \\\n",
       "0                                0.19                              0.23   \n",
       "1                                0.26                              0.19   \n",
       "2                                0.14                              0.08   \n",
       "3                                1.21                              7.21   \n",
       "4                                0.39                              0.06   \n",
       "\n",
       "   share_global_cumulative_flaring_co2  share_global_cumulative_gas_co2  \\\n",
       "0                                 0.10                             0.11   \n",
       "1                                 0.10                             0.03   \n",
       "2                                 0.61                             0.17   \n",
       "3                                 1.64                             2.86   \n",
       "4                                  NaN                             0.01   \n",
       "\n",
       "   share_global_cumulative_oil_co2  share_global_cumulative_other_co2  \\\n",
       "0                             0.31                               0.16   \n",
       "1                             0.55                               0.20   \n",
       "2                             0.24                               0.11   \n",
       "3                             2.26                               1.15   \n",
       "4                             0.18                                NaN   \n",
       "\n",
       "   population  \n",
       "0   5792203.0  \n",
       "1  10099270.0  \n",
       "2   5421242.0  \n",
       "3  67886004.0  \n",
       "4  36910558.0  \n",
       "\n",
       "[5 rows x 43 columns]"
      ]
     },
     "execution_count": 17,
     "metadata": {},
     "output_type": "execute_result"
    }
   ],
   "source": [
    "ccpi_emissions = ccpi.merge(right=emissions_last.loc[:, emissions_last.columns != \"country\"], how=\"inner\", left_on=\"iso\", right_on=\"iso_code\").drop(\"iso_code\", axis=1)\n",
    "ccpi_emissions.dropna(axis=\"columns\", how=\"all\", inplace=True)\n",
    "ccpi_emissions.head()"
   ]
  },
  {
   "cell_type": "markdown",
   "id": "11628d54",
   "metadata": {},
   "source": [
    "## Plotting Data"
   ]
  },
  {
   "cell_type": "code",
   "execution_count": 21,
   "id": "71351841",
   "metadata": {},
   "outputs": [
    {
     "data": {
      "application/vnd.plotly.v1+json": {
       "config": {
        "plotlyServerURL": "https://plot.ly"
       },
       "data": [
        {
         "coloraxis": "coloraxis",
         "customdata": [
          [
           "DNK",
           1,
           76.67,
           4.522
          ],
          [
           "SWE",
           2,
           74.22,
           3.826
          ],
          [
           "NOR",
           3,
           73.29,
           7.615
          ],
          [
           "GBR",
           4,
           73.09,
           4.855
          ],
          [
           "MAR",
           5,
           71.6,
           1.748
          ],
          [
           "IND",
           7,
           69.2,
           1.769
          ],
          [
           "LTU",
           8,
           64.89,
           5.069
          ],
          [
           "MLT",
           9,
           64.18,
           3.612
          ],
          [
           "DEU",
           10,
           63.53,
           7.69
          ],
          [
           "FIN",
           11,
           62.41,
           7.091
          ],
          [
           "CHE",
           12,
           61.7,
           3.732
          ],
          [
           "PRT",
           13,
           61.11,
           3.961
          ],
          [
           "FRA",
           14,
           61.01,
           4.238
          ],
          [
           "LUX",
           15,
           60.8,
           13.059
          ],
          [
           "NLD",
           16,
           60.44,
           8.06
          ],
          [
           "UKR",
           17,
           60.4,
           4.891
          ],
          [
           "EGY",
           18,
           59.74,
           2.086
          ],
          [
           "PHL",
           20,
           58.98,
           1.241
          ],
          [
           "GRC",
           21,
           58.22,
           5.012
          ],
          [
           "COL",
           22,
           57.87,
           1.751
          ],
          [
           "LVA",
           23,
           57.73,
           3.591
          ],
          [
           "IDN",
           24,
           57.17,
           2.155
          ],
          [
           "MEX",
           25,
           56.05,
           2.769
          ],
          [
           "HRV",
           26,
           55.96,
           4.137
          ],
          [
           "ITA",
           27,
           55.39,
           5.025
          ],
          [
           "THA",
           28,
           55.01,
           3.693
          ],
          [
           "EST",
           29,
           54.98,
           7.88
          ],
          [
           "BRA",
           30,
           54.86,
           2.199
          ],
          [
           "ESP",
           31,
           54.35,
           4.468
          ],
          [
           "NZL",
           32,
           54.03,
           6.942
          ],
          [
           "ROU",
           33,
           52.43,
           3.715
          ],
          [
           "AUT",
           34,
           52.35,
           6.732
          ],
          [
           "CHN",
           35,
           52.2,
           7.412
          ],
          [
           "ZAF",
           36,
           51.13,
           7.62
          ],
          [
           "SVK",
           37,
           50.67,
           5.629
          ],
          [
           "TUR",
           38,
           50.53,
           4.657
          ],
          [
           "CYP",
           39,
           50.52,
           5.38
          ],
          [
           "VNM",
           40,
           49.21,
           2.613
          ],
          [
           "BGR",
           41,
           48.71,
           5.389
          ],
          [
           "JPN",
           42,
           48.53,
           8.15
          ],
          [
           "IRL",
           43,
           47.86,
           6.754
          ],
          [
           "ARG",
           44,
           47.08,
           3.473
          ],
          [
           "BLR",
           45,
           46.66,
           6.079
          ],
          [
           "BEL",
           46,
           45.9,
           7.226
          ],
          [
           "SVN",
           47,
           43.28,
           6.043
          ],
          [
           "CZE",
           48,
           42.15,
           8.215
          ],
          [
           "POL",
           49,
           40.63,
           7.916
          ],
          [
           "HUN",
           50,
           40.41,
           4.997
          ],
          [
           "DZA",
           51,
           39.91,
           3.535
          ],
          [
           "USA",
           52,
           37.39,
           14.238
          ],
          [
           "RUS",
           53,
           34.73,
           10.807
          ],
          [
           "MYS",
           54,
           33.74,
           8.423
          ],
          [
           "AUS",
           56,
           30.06,
           15.368
          ],
          [
           "KOR",
           57,
           26.74,
           11.656
          ],
          [
           "CAN",
           58,
           26.03,
           14.197
          ],
          [
           "IRN",
           59,
           25.66,
           8.87
          ],
          [
           "SAU",
           60,
           24.25,
           17.967
          ],
          [
           "KAZ",
           61,
           19.23,
           15.516
          ]
         ],
         "geo": "geo",
         "hovertemplate": "<b>%{hovertext}</b><br><br>iso=%{customdata[0]}<br>rank=%{customdata[1]}<br>score=%{customdata[2]}<br>co2_per_capita=%{z}<extra></extra>",
         "hovertext": [
          "Denmark",
          "Sweden",
          "Norway",
          "United Kingdom",
          "Morocco",
          "India",
          "Lithuania",
          "Malta",
          "Germany",
          "Finland",
          "Switzerland",
          "Portugal",
          "France",
          "Luxembourg",
          "Netherlands",
          "Ukraine",
          "Egypt",
          "Philippines",
          "Greece",
          "Colombia",
          "Latvia",
          "Indonesia",
          "Mexico",
          "Croatia",
          "Italy",
          "Thailand",
          "Estonia",
          "Brazil",
          "Spain",
          "New Zealand",
          "Romania",
          "Austria",
          "China",
          "South Africa",
          "Slovak Republic",
          "Turkey",
          "Cyprus",
          "Viet Nam",
          "Bulgaria",
          "Japan",
          "Ireland",
          "Argentina",
          "Belarus",
          "Belgium",
          "Slovenia",
          "Czech Republic",
          "Poland",
          "Hungary",
          "Algeria",
          "United States",
          "Russian Federation",
          "Malaysia",
          "Australia",
          "Korea",
          "Canada",
          "Islamic Republic of Iran",
          "Saudi Arabia",
          "Kazakhstan"
         ],
         "locations": [
          "DNK",
          "SWE",
          "NOR",
          "GBR",
          "MAR",
          "IND",
          "LTU",
          "MLT",
          "DEU",
          "FIN",
          "CHE",
          "PRT",
          "FRA",
          "LUX",
          "NLD",
          "UKR",
          "EGY",
          "PHL",
          "GRC",
          "COL",
          "LVA",
          "IDN",
          "MEX",
          "HRV",
          "ITA",
          "THA",
          "EST",
          "BRA",
          "ESP",
          "NZL",
          "ROU",
          "AUT",
          "CHN",
          "ZAF",
          "SVK",
          "TUR",
          "CYP",
          "VNM",
          "BGR",
          "JPN",
          "IRL",
          "ARG",
          "BLR",
          "BEL",
          "SVN",
          "CZE",
          "POL",
          "HUN",
          "DZA",
          "USA",
          "RUS",
          "MYS",
          "AUS",
          "KOR",
          "CAN",
          "IRN",
          "SAU",
          "KAZ"
         ],
         "name": "",
         "type": "choropleth",
         "z": [
          4.522,
          3.826,
          7.615,
          4.855,
          1.748,
          1.769,
          5.069,
          3.612,
          7.69,
          7.091,
          3.732,
          3.961,
          4.238,
          13.059,
          8.06,
          4.891,
          2.086,
          1.241,
          5.012,
          1.751,
          3.591,
          2.155,
          2.769,
          4.137,
          5.025,
          3.693,
          7.88,
          2.199,
          4.468,
          6.942,
          3.715,
          6.732,
          7.412,
          7.62,
          5.629,
          4.657,
          5.38,
          2.613,
          5.389,
          8.15,
          6.754,
          3.473,
          6.079,
          7.226,
          6.043,
          8.215,
          7.916,
          4.997,
          3.535,
          14.238,
          10.807,
          8.423,
          15.368,
          11.656,
          14.197,
          8.87,
          17.967,
          15.516
         ]
        }
       ],
       "layout": {
        "coloraxis": {
         "colorbar": {
          "title": {
           "text": "co2_per_capita"
          }
         },
         "colorscale": [
          [
           0,
           "rgb(255,255,255)"
          ],
          [
           0.3333333333333333,
           "rgb(255,210,0)"
          ],
          [
           0.6666666666666666,
           "rgb(230,0,0)"
          ],
          [
           1,
           "rgb(0,0,0)"
          ]
         ]
        },
        "geo": {
         "center": {},
         "domain": {
          "x": [
           0,
           1
          ],
          "y": [
           0,
           1
          ]
         },
         "projection": {
          "type": "natural earth"
         }
        },
        "legend": {
         "tracegroupgap": 0
        },
        "margin": {
         "b": 0,
         "l": 0,
         "r": 0,
         "t": 0
        },
        "template": {
         "data": {
          "bar": [
           {
            "error_x": {
             "color": "#2a3f5f"
            },
            "error_y": {
             "color": "#2a3f5f"
            },
            "marker": {
             "line": {
              "color": "#E5ECF6",
              "width": 0.5
             },
             "pattern": {
              "fillmode": "overlay",
              "size": 10,
              "solidity": 0.2
             }
            },
            "type": "bar"
           }
          ],
          "barpolar": [
           {
            "marker": {
             "line": {
              "color": "#E5ECF6",
              "width": 0.5
             },
             "pattern": {
              "fillmode": "overlay",
              "size": 10,
              "solidity": 0.2
             }
            },
            "type": "barpolar"
           }
          ],
          "carpet": [
           {
            "aaxis": {
             "endlinecolor": "#2a3f5f",
             "gridcolor": "white",
             "linecolor": "white",
             "minorgridcolor": "white",
             "startlinecolor": "#2a3f5f"
            },
            "baxis": {
             "endlinecolor": "#2a3f5f",
             "gridcolor": "white",
             "linecolor": "white",
             "minorgridcolor": "white",
             "startlinecolor": "#2a3f5f"
            },
            "type": "carpet"
           }
          ],
          "choropleth": [
           {
            "colorbar": {
             "outlinewidth": 0,
             "ticks": ""
            },
            "type": "choropleth"
           }
          ],
          "contour": [
           {
            "colorbar": {
             "outlinewidth": 0,
             "ticks": ""
            },
            "colorscale": [
             [
              0,
              "#0d0887"
             ],
             [
              0.1111111111111111,
              "#46039f"
             ],
             [
              0.2222222222222222,
              "#7201a8"
             ],
             [
              0.3333333333333333,
              "#9c179e"
             ],
             [
              0.4444444444444444,
              "#bd3786"
             ],
             [
              0.5555555555555556,
              "#d8576b"
             ],
             [
              0.6666666666666666,
              "#ed7953"
             ],
             [
              0.7777777777777778,
              "#fb9f3a"
             ],
             [
              0.8888888888888888,
              "#fdca26"
             ],
             [
              1,
              "#f0f921"
             ]
            ],
            "type": "contour"
           }
          ],
          "contourcarpet": [
           {
            "colorbar": {
             "outlinewidth": 0,
             "ticks": ""
            },
            "type": "contourcarpet"
           }
          ],
          "heatmap": [
           {
            "colorbar": {
             "outlinewidth": 0,
             "ticks": ""
            },
            "colorscale": [
             [
              0,
              "#0d0887"
             ],
             [
              0.1111111111111111,
              "#46039f"
             ],
             [
              0.2222222222222222,
              "#7201a8"
             ],
             [
              0.3333333333333333,
              "#9c179e"
             ],
             [
              0.4444444444444444,
              "#bd3786"
             ],
             [
              0.5555555555555556,
              "#d8576b"
             ],
             [
              0.6666666666666666,
              "#ed7953"
             ],
             [
              0.7777777777777778,
              "#fb9f3a"
             ],
             [
              0.8888888888888888,
              "#fdca26"
             ],
             [
              1,
              "#f0f921"
             ]
            ],
            "type": "heatmap"
           }
          ],
          "heatmapgl": [
           {
            "colorbar": {
             "outlinewidth": 0,
             "ticks": ""
            },
            "colorscale": [
             [
              0,
              "#0d0887"
             ],
             [
              0.1111111111111111,
              "#46039f"
             ],
             [
              0.2222222222222222,
              "#7201a8"
             ],
             [
              0.3333333333333333,
              "#9c179e"
             ],
             [
              0.4444444444444444,
              "#bd3786"
             ],
             [
              0.5555555555555556,
              "#d8576b"
             ],
             [
              0.6666666666666666,
              "#ed7953"
             ],
             [
              0.7777777777777778,
              "#fb9f3a"
             ],
             [
              0.8888888888888888,
              "#fdca26"
             ],
             [
              1,
              "#f0f921"
             ]
            ],
            "type": "heatmapgl"
           }
          ],
          "histogram": [
           {
            "marker": {
             "pattern": {
              "fillmode": "overlay",
              "size": 10,
              "solidity": 0.2
             }
            },
            "type": "histogram"
           }
          ],
          "histogram2d": [
           {
            "colorbar": {
             "outlinewidth": 0,
             "ticks": ""
            },
            "colorscale": [
             [
              0,
              "#0d0887"
             ],
             [
              0.1111111111111111,
              "#46039f"
             ],
             [
              0.2222222222222222,
              "#7201a8"
             ],
             [
              0.3333333333333333,
              "#9c179e"
             ],
             [
              0.4444444444444444,
              "#bd3786"
             ],
             [
              0.5555555555555556,
              "#d8576b"
             ],
             [
              0.6666666666666666,
              "#ed7953"
             ],
             [
              0.7777777777777778,
              "#fb9f3a"
             ],
             [
              0.8888888888888888,
              "#fdca26"
             ],
             [
              1,
              "#f0f921"
             ]
            ],
            "type": "histogram2d"
           }
          ],
          "histogram2dcontour": [
           {
            "colorbar": {
             "outlinewidth": 0,
             "ticks": ""
            },
            "colorscale": [
             [
              0,
              "#0d0887"
             ],
             [
              0.1111111111111111,
              "#46039f"
             ],
             [
              0.2222222222222222,
              "#7201a8"
             ],
             [
              0.3333333333333333,
              "#9c179e"
             ],
             [
              0.4444444444444444,
              "#bd3786"
             ],
             [
              0.5555555555555556,
              "#d8576b"
             ],
             [
              0.6666666666666666,
              "#ed7953"
             ],
             [
              0.7777777777777778,
              "#fb9f3a"
             ],
             [
              0.8888888888888888,
              "#fdca26"
             ],
             [
              1,
              "#f0f921"
             ]
            ],
            "type": "histogram2dcontour"
           }
          ],
          "mesh3d": [
           {
            "colorbar": {
             "outlinewidth": 0,
             "ticks": ""
            },
            "type": "mesh3d"
           }
          ],
          "parcoords": [
           {
            "line": {
             "colorbar": {
              "outlinewidth": 0,
              "ticks": ""
             }
            },
            "type": "parcoords"
           }
          ],
          "pie": [
           {
            "automargin": true,
            "type": "pie"
           }
          ],
          "scatter": [
           {
            "marker": {
             "colorbar": {
              "outlinewidth": 0,
              "ticks": ""
             }
            },
            "type": "scatter"
           }
          ],
          "scatter3d": [
           {
            "line": {
             "colorbar": {
              "outlinewidth": 0,
              "ticks": ""
             }
            },
            "marker": {
             "colorbar": {
              "outlinewidth": 0,
              "ticks": ""
             }
            },
            "type": "scatter3d"
           }
          ],
          "scattercarpet": [
           {
            "marker": {
             "colorbar": {
              "outlinewidth": 0,
              "ticks": ""
             }
            },
            "type": "scattercarpet"
           }
          ],
          "scattergeo": [
           {
            "marker": {
             "colorbar": {
              "outlinewidth": 0,
              "ticks": ""
             }
            },
            "type": "scattergeo"
           }
          ],
          "scattergl": [
           {
            "marker": {
             "colorbar": {
              "outlinewidth": 0,
              "ticks": ""
             }
            },
            "type": "scattergl"
           }
          ],
          "scattermapbox": [
           {
            "marker": {
             "colorbar": {
              "outlinewidth": 0,
              "ticks": ""
             }
            },
            "type": "scattermapbox"
           }
          ],
          "scatterpolar": [
           {
            "marker": {
             "colorbar": {
              "outlinewidth": 0,
              "ticks": ""
             }
            },
            "type": "scatterpolar"
           }
          ],
          "scatterpolargl": [
           {
            "marker": {
             "colorbar": {
              "outlinewidth": 0,
              "ticks": ""
             }
            },
            "type": "scatterpolargl"
           }
          ],
          "scatterternary": [
           {
            "marker": {
             "colorbar": {
              "outlinewidth": 0,
              "ticks": ""
             }
            },
            "type": "scatterternary"
           }
          ],
          "surface": [
           {
            "colorbar": {
             "outlinewidth": 0,
             "ticks": ""
            },
            "colorscale": [
             [
              0,
              "#0d0887"
             ],
             [
              0.1111111111111111,
              "#46039f"
             ],
             [
              0.2222222222222222,
              "#7201a8"
             ],
             [
              0.3333333333333333,
              "#9c179e"
             ],
             [
              0.4444444444444444,
              "#bd3786"
             ],
             [
              0.5555555555555556,
              "#d8576b"
             ],
             [
              0.6666666666666666,
              "#ed7953"
             ],
             [
              0.7777777777777778,
              "#fb9f3a"
             ],
             [
              0.8888888888888888,
              "#fdca26"
             ],
             [
              1,
              "#f0f921"
             ]
            ],
            "type": "surface"
           }
          ],
          "table": [
           {
            "cells": {
             "fill": {
              "color": "#EBF0F8"
             },
             "line": {
              "color": "white"
             }
            },
            "header": {
             "fill": {
              "color": "#C8D4E3"
             },
             "line": {
              "color": "white"
             }
            },
            "type": "table"
           }
          ]
         },
         "layout": {
          "annotationdefaults": {
           "arrowcolor": "#2a3f5f",
           "arrowhead": 0,
           "arrowwidth": 1
          },
          "autotypenumbers": "strict",
          "coloraxis": {
           "colorbar": {
            "outlinewidth": 0,
            "ticks": ""
           }
          },
          "colorscale": {
           "diverging": [
            [
             0,
             "#8e0152"
            ],
            [
             0.1,
             "#c51b7d"
            ],
            [
             0.2,
             "#de77ae"
            ],
            [
             0.3,
             "#f1b6da"
            ],
            [
             0.4,
             "#fde0ef"
            ],
            [
             0.5,
             "#f7f7f7"
            ],
            [
             0.6,
             "#e6f5d0"
            ],
            [
             0.7,
             "#b8e186"
            ],
            [
             0.8,
             "#7fbc41"
            ],
            [
             0.9,
             "#4d9221"
            ],
            [
             1,
             "#276419"
            ]
           ],
           "sequential": [
            [
             0,
             "#0d0887"
            ],
            [
             0.1111111111111111,
             "#46039f"
            ],
            [
             0.2222222222222222,
             "#7201a8"
            ],
            [
             0.3333333333333333,
             "#9c179e"
            ],
            [
             0.4444444444444444,
             "#bd3786"
            ],
            [
             0.5555555555555556,
             "#d8576b"
            ],
            [
             0.6666666666666666,
             "#ed7953"
            ],
            [
             0.7777777777777778,
             "#fb9f3a"
            ],
            [
             0.8888888888888888,
             "#fdca26"
            ],
            [
             1,
             "#f0f921"
            ]
           ],
           "sequentialminus": [
            [
             0,
             "#0d0887"
            ],
            [
             0.1111111111111111,
             "#46039f"
            ],
            [
             0.2222222222222222,
             "#7201a8"
            ],
            [
             0.3333333333333333,
             "#9c179e"
            ],
            [
             0.4444444444444444,
             "#bd3786"
            ],
            [
             0.5555555555555556,
             "#d8576b"
            ],
            [
             0.6666666666666666,
             "#ed7953"
            ],
            [
             0.7777777777777778,
             "#fb9f3a"
            ],
            [
             0.8888888888888888,
             "#fdca26"
            ],
            [
             1,
             "#f0f921"
            ]
           ]
          },
          "colorway": [
           "#636efa",
           "#EF553B",
           "#00cc96",
           "#ab63fa",
           "#FFA15A",
           "#19d3f3",
           "#FF6692",
           "#B6E880",
           "#FF97FF",
           "#FECB52"
          ],
          "font": {
           "color": "#2a3f5f"
          },
          "geo": {
           "bgcolor": "white",
           "lakecolor": "white",
           "landcolor": "#E5ECF6",
           "showlakes": true,
           "showland": true,
           "subunitcolor": "white"
          },
          "hoverlabel": {
           "align": "left"
          },
          "hovermode": "closest",
          "mapbox": {
           "style": "light"
          },
          "paper_bgcolor": "white",
          "plot_bgcolor": "#E5ECF6",
          "polar": {
           "angularaxis": {
            "gridcolor": "white",
            "linecolor": "white",
            "ticks": ""
           },
           "bgcolor": "#E5ECF6",
           "radialaxis": {
            "gridcolor": "white",
            "linecolor": "white",
            "ticks": ""
           }
          },
          "scene": {
           "xaxis": {
            "backgroundcolor": "#E5ECF6",
            "gridcolor": "white",
            "gridwidth": 2,
            "linecolor": "white",
            "showbackground": true,
            "ticks": "",
            "zerolinecolor": "white"
           },
           "yaxis": {
            "backgroundcolor": "#E5ECF6",
            "gridcolor": "white",
            "gridwidth": 2,
            "linecolor": "white",
            "showbackground": true,
            "ticks": "",
            "zerolinecolor": "white"
           },
           "zaxis": {
            "backgroundcolor": "#E5ECF6",
            "gridcolor": "white",
            "gridwidth": 2,
            "linecolor": "white",
            "showbackground": true,
            "ticks": "",
            "zerolinecolor": "white"
           }
          },
          "shapedefaults": {
           "line": {
            "color": "#2a3f5f"
           }
          },
          "ternary": {
           "aaxis": {
            "gridcolor": "white",
            "linecolor": "white",
            "ticks": ""
           },
           "baxis": {
            "gridcolor": "white",
            "linecolor": "white",
            "ticks": ""
           },
           "bgcolor": "#E5ECF6",
           "caxis": {
            "gridcolor": "white",
            "linecolor": "white",
            "ticks": ""
           }
          },
          "title": {
           "x": 0.05
          },
          "xaxis": {
           "automargin": true,
           "gridcolor": "white",
           "linecolor": "white",
           "ticks": "",
           "title": {
            "standoff": 15
           },
           "zerolinecolor": "white",
           "zerolinewidth": 2
          },
          "yaxis": {
           "automargin": true,
           "gridcolor": "white",
           "linecolor": "white",
           "ticks": "",
           "title": {
            "standoff": 15
           },
           "zerolinecolor": "white",
           "zerolinewidth": 2
          }
         }
        }
       }
      },
      "text/html": [
       "<div>                            <div id=\"ab57d478-fa3d-4e76-9bd7-910844dcba5b\" class=\"plotly-graph-div\" style=\"height:525px; width:100%;\"></div>            <script type=\"text/javascript\">                require([\"plotly\"], function(Plotly) {                    window.PLOTLYENV=window.PLOTLYENV || {};                                    if (document.getElementById(\"ab57d478-fa3d-4e76-9bd7-910844dcba5b\")) {                    Plotly.newPlot(                        \"ab57d478-fa3d-4e76-9bd7-910844dcba5b\",                        [{\"coloraxis\":\"coloraxis\",\"customdata\":[[\"DNK\",1,76.67,4.522],[\"SWE\",2,74.22,3.826],[\"NOR\",3,73.29,7.615],[\"GBR\",4,73.09,4.855],[\"MAR\",5,71.6,1.748],[\"IND\",7,69.2,1.769],[\"LTU\",8,64.89,5.069],[\"MLT\",9,64.18,3.612],[\"DEU\",10,63.53,7.69],[\"FIN\",11,62.41,7.091],[\"CHE\",12,61.7,3.732],[\"PRT\",13,61.11,3.961],[\"FRA\",14,61.01,4.238],[\"LUX\",15,60.8,13.059],[\"NLD\",16,60.44,8.06],[\"UKR\",17,60.4,4.891],[\"EGY\",18,59.74,2.086],[\"PHL\",20,58.98,1.241],[\"GRC\",21,58.22,5.012],[\"COL\",22,57.87,1.751],[\"LVA\",23,57.73,3.591],[\"IDN\",24,57.17,2.155],[\"MEX\",25,56.05,2.769],[\"HRV\",26,55.96,4.137],[\"ITA\",27,55.39,5.025],[\"THA\",28,55.01,3.693],[\"EST\",29,54.98,7.88],[\"BRA\",30,54.86,2.199],[\"ESP\",31,54.35,4.468],[\"NZL\",32,54.03,6.942],[\"ROU\",33,52.43,3.715],[\"AUT\",34,52.35,6.732],[\"CHN\",35,52.2,7.412],[\"ZAF\",36,51.13,7.62],[\"SVK\",37,50.67,5.629],[\"TUR\",38,50.53,4.657],[\"CYP\",39,50.52,5.38],[\"VNM\",40,49.21,2.613],[\"BGR\",41,48.71,5.389],[\"JPN\",42,48.53,8.15],[\"IRL\",43,47.86,6.754],[\"ARG\",44,47.08,3.473],[\"BLR\",45,46.66,6.079],[\"BEL\",46,45.9,7.226],[\"SVN\",47,43.28,6.043],[\"CZE\",48,42.15,8.215],[\"POL\",49,40.63,7.916],[\"HUN\",50,40.41,4.997],[\"DZA\",51,39.91,3.535],[\"USA\",52,37.39,14.238],[\"RUS\",53,34.73,10.807],[\"MYS\",54,33.74,8.423],[\"AUS\",56,30.06,15.368],[\"KOR\",57,26.74,11.656],[\"CAN\",58,26.03,14.197],[\"IRN\",59,25.66,8.87],[\"SAU\",60,24.25,17.967],[\"KAZ\",61,19.23,15.516]],\"geo\":\"geo\",\"hovertemplate\":\"<b>%{hovertext}</b><br><br>iso=%{customdata[0]}<br>rank=%{customdata[1]}<br>score=%{customdata[2]}<br>co2_per_capita=%{z}<extra></extra>\",\"hovertext\":[\"Denmark\",\"Sweden\",\"Norway\",\"United Kingdom\",\"Morocco\",\"India\",\"Lithuania\",\"Malta\",\"Germany\",\"Finland\",\"Switzerland\",\"Portugal\",\"France\",\"Luxembourg\",\"Netherlands\",\"Ukraine\",\"Egypt\",\"Philippines\",\"Greece\",\"Colombia\",\"Latvia\",\"Indonesia\",\"Mexico\",\"Croatia\",\"Italy\",\"Thailand\",\"Estonia\",\"Brazil\",\"Spain\",\"New Zealand\",\"Romania\",\"Austria\",\"China\",\"South Africa\",\"Slovak Republic\",\"Turkey\",\"Cyprus\",\"Viet Nam\",\"Bulgaria\",\"Japan\",\"Ireland\",\"Argentina\",\"Belarus\",\"Belgium\",\"Slovenia\",\"Czech Republic\",\"Poland\",\"Hungary\",\"Algeria\",\"United States\",\"Russian Federation\",\"Malaysia\",\"Australia\",\"Korea\",\"Canada\",\"Islamic Republic of Iran\",\"Saudi Arabia\",\"Kazakhstan\"],\"locations\":[\"DNK\",\"SWE\",\"NOR\",\"GBR\",\"MAR\",\"IND\",\"LTU\",\"MLT\",\"DEU\",\"FIN\",\"CHE\",\"PRT\",\"FRA\",\"LUX\",\"NLD\",\"UKR\",\"EGY\",\"PHL\",\"GRC\",\"COL\",\"LVA\",\"IDN\",\"MEX\",\"HRV\",\"ITA\",\"THA\",\"EST\",\"BRA\",\"ESP\",\"NZL\",\"ROU\",\"AUT\",\"CHN\",\"ZAF\",\"SVK\",\"TUR\",\"CYP\",\"VNM\",\"BGR\",\"JPN\",\"IRL\",\"ARG\",\"BLR\",\"BEL\",\"SVN\",\"CZE\",\"POL\",\"HUN\",\"DZA\",\"USA\",\"RUS\",\"MYS\",\"AUS\",\"KOR\",\"CAN\",\"IRN\",\"SAU\",\"KAZ\"],\"name\":\"\",\"z\":[4.522,3.826,7.615,4.855,1.748,1.769,5.069,3.612,7.69,7.091,3.732,3.961,4.238,13.059,8.06,4.891,2.086,1.241,5.012,1.751,3.591,2.155,2.769,4.137,5.025,3.693,7.88,2.199,4.468,6.942,3.715,6.732,7.412,7.62,5.629,4.657,5.38,2.613,5.389,8.15,6.754,3.473,6.079,7.226,6.043,8.215,7.916,4.997,3.535,14.238,10.807,8.423,15.368,11.656,14.197,8.87,17.967,15.516],\"type\":\"choropleth\"}],                        {\"template\":{\"data\":{\"bar\":[{\"error_x\":{\"color\":\"#2a3f5f\"},\"error_y\":{\"color\":\"#2a3f5f\"},\"marker\":{\"line\":{\"color\":\"#E5ECF6\",\"width\":0.5},\"pattern\":{\"fillmode\":\"overlay\",\"size\":10,\"solidity\":0.2}},\"type\":\"bar\"}],\"barpolar\":[{\"marker\":{\"line\":{\"color\":\"#E5ECF6\",\"width\":0.5},\"pattern\":{\"fillmode\":\"overlay\",\"size\":10,\"solidity\":0.2}},\"type\":\"barpolar\"}],\"carpet\":[{\"aaxis\":{\"endlinecolor\":\"#2a3f5f\",\"gridcolor\":\"white\",\"linecolor\":\"white\",\"minorgridcolor\":\"white\",\"startlinecolor\":\"#2a3f5f\"},\"baxis\":{\"endlinecolor\":\"#2a3f5f\",\"gridcolor\":\"white\",\"linecolor\":\"white\",\"minorgridcolor\":\"white\",\"startlinecolor\":\"#2a3f5f\"},\"type\":\"carpet\"}],\"choropleth\":[{\"colorbar\":{\"outlinewidth\":0,\"ticks\":\"\"},\"type\":\"choropleth\"}],\"contour\":[{\"colorbar\":{\"outlinewidth\":0,\"ticks\":\"\"},\"colorscale\":[[0.0,\"#0d0887\"],[0.1111111111111111,\"#46039f\"],[0.2222222222222222,\"#7201a8\"],[0.3333333333333333,\"#9c179e\"],[0.4444444444444444,\"#bd3786\"],[0.5555555555555556,\"#d8576b\"],[0.6666666666666666,\"#ed7953\"],[0.7777777777777778,\"#fb9f3a\"],[0.8888888888888888,\"#fdca26\"],[1.0,\"#f0f921\"]],\"type\":\"contour\"}],\"contourcarpet\":[{\"colorbar\":{\"outlinewidth\":0,\"ticks\":\"\"},\"type\":\"contourcarpet\"}],\"heatmap\":[{\"colorbar\":{\"outlinewidth\":0,\"ticks\":\"\"},\"colorscale\":[[0.0,\"#0d0887\"],[0.1111111111111111,\"#46039f\"],[0.2222222222222222,\"#7201a8\"],[0.3333333333333333,\"#9c179e\"],[0.4444444444444444,\"#bd3786\"],[0.5555555555555556,\"#d8576b\"],[0.6666666666666666,\"#ed7953\"],[0.7777777777777778,\"#fb9f3a\"],[0.8888888888888888,\"#fdca26\"],[1.0,\"#f0f921\"]],\"type\":\"heatmap\"}],\"heatmapgl\":[{\"colorbar\":{\"outlinewidth\":0,\"ticks\":\"\"},\"colorscale\":[[0.0,\"#0d0887\"],[0.1111111111111111,\"#46039f\"],[0.2222222222222222,\"#7201a8\"],[0.3333333333333333,\"#9c179e\"],[0.4444444444444444,\"#bd3786\"],[0.5555555555555556,\"#d8576b\"],[0.6666666666666666,\"#ed7953\"],[0.7777777777777778,\"#fb9f3a\"],[0.8888888888888888,\"#fdca26\"],[1.0,\"#f0f921\"]],\"type\":\"heatmapgl\"}],\"histogram\":[{\"marker\":{\"pattern\":{\"fillmode\":\"overlay\",\"size\":10,\"solidity\":0.2}},\"type\":\"histogram\"}],\"histogram2d\":[{\"colorbar\":{\"outlinewidth\":0,\"ticks\":\"\"},\"colorscale\":[[0.0,\"#0d0887\"],[0.1111111111111111,\"#46039f\"],[0.2222222222222222,\"#7201a8\"],[0.3333333333333333,\"#9c179e\"],[0.4444444444444444,\"#bd3786\"],[0.5555555555555556,\"#d8576b\"],[0.6666666666666666,\"#ed7953\"],[0.7777777777777778,\"#fb9f3a\"],[0.8888888888888888,\"#fdca26\"],[1.0,\"#f0f921\"]],\"type\":\"histogram2d\"}],\"histogram2dcontour\":[{\"colorbar\":{\"outlinewidth\":0,\"ticks\":\"\"},\"colorscale\":[[0.0,\"#0d0887\"],[0.1111111111111111,\"#46039f\"],[0.2222222222222222,\"#7201a8\"],[0.3333333333333333,\"#9c179e\"],[0.4444444444444444,\"#bd3786\"],[0.5555555555555556,\"#d8576b\"],[0.6666666666666666,\"#ed7953\"],[0.7777777777777778,\"#fb9f3a\"],[0.8888888888888888,\"#fdca26\"],[1.0,\"#f0f921\"]],\"type\":\"histogram2dcontour\"}],\"mesh3d\":[{\"colorbar\":{\"outlinewidth\":0,\"ticks\":\"\"},\"type\":\"mesh3d\"}],\"parcoords\":[{\"line\":{\"colorbar\":{\"outlinewidth\":0,\"ticks\":\"\"}},\"type\":\"parcoords\"}],\"pie\":[{\"automargin\":true,\"type\":\"pie\"}],\"scatter\":[{\"marker\":{\"colorbar\":{\"outlinewidth\":0,\"ticks\":\"\"}},\"type\":\"scatter\"}],\"scatter3d\":[{\"line\":{\"colorbar\":{\"outlinewidth\":0,\"ticks\":\"\"}},\"marker\":{\"colorbar\":{\"outlinewidth\":0,\"ticks\":\"\"}},\"type\":\"scatter3d\"}],\"scattercarpet\":[{\"marker\":{\"colorbar\":{\"outlinewidth\":0,\"ticks\":\"\"}},\"type\":\"scattercarpet\"}],\"scattergeo\":[{\"marker\":{\"colorbar\":{\"outlinewidth\":0,\"ticks\":\"\"}},\"type\":\"scattergeo\"}],\"scattergl\":[{\"marker\":{\"colorbar\":{\"outlinewidth\":0,\"ticks\":\"\"}},\"type\":\"scattergl\"}],\"scattermapbox\":[{\"marker\":{\"colorbar\":{\"outlinewidth\":0,\"ticks\":\"\"}},\"type\":\"scattermapbox\"}],\"scatterpolar\":[{\"marker\":{\"colorbar\":{\"outlinewidth\":0,\"ticks\":\"\"}},\"type\":\"scatterpolar\"}],\"scatterpolargl\":[{\"marker\":{\"colorbar\":{\"outlinewidth\":0,\"ticks\":\"\"}},\"type\":\"scatterpolargl\"}],\"scatterternary\":[{\"marker\":{\"colorbar\":{\"outlinewidth\":0,\"ticks\":\"\"}},\"type\":\"scatterternary\"}],\"surface\":[{\"colorbar\":{\"outlinewidth\":0,\"ticks\":\"\"},\"colorscale\":[[0.0,\"#0d0887\"],[0.1111111111111111,\"#46039f\"],[0.2222222222222222,\"#7201a8\"],[0.3333333333333333,\"#9c179e\"],[0.4444444444444444,\"#bd3786\"],[0.5555555555555556,\"#d8576b\"],[0.6666666666666666,\"#ed7953\"],[0.7777777777777778,\"#fb9f3a\"],[0.8888888888888888,\"#fdca26\"],[1.0,\"#f0f921\"]],\"type\":\"surface\"}],\"table\":[{\"cells\":{\"fill\":{\"color\":\"#EBF0F8\"},\"line\":{\"color\":\"white\"}},\"header\":{\"fill\":{\"color\":\"#C8D4E3\"},\"line\":{\"color\":\"white\"}},\"type\":\"table\"}]},\"layout\":{\"annotationdefaults\":{\"arrowcolor\":\"#2a3f5f\",\"arrowhead\":0,\"arrowwidth\":1},\"autotypenumbers\":\"strict\",\"coloraxis\":{\"colorbar\":{\"outlinewidth\":0,\"ticks\":\"\"}},\"colorscale\":{\"diverging\":[[0,\"#8e0152\"],[0.1,\"#c51b7d\"],[0.2,\"#de77ae\"],[0.3,\"#f1b6da\"],[0.4,\"#fde0ef\"],[0.5,\"#f7f7f7\"],[0.6,\"#e6f5d0\"],[0.7,\"#b8e186\"],[0.8,\"#7fbc41\"],[0.9,\"#4d9221\"],[1,\"#276419\"]],\"sequential\":[[0.0,\"#0d0887\"],[0.1111111111111111,\"#46039f\"],[0.2222222222222222,\"#7201a8\"],[0.3333333333333333,\"#9c179e\"],[0.4444444444444444,\"#bd3786\"],[0.5555555555555556,\"#d8576b\"],[0.6666666666666666,\"#ed7953\"],[0.7777777777777778,\"#fb9f3a\"],[0.8888888888888888,\"#fdca26\"],[1.0,\"#f0f921\"]],\"sequentialminus\":[[0.0,\"#0d0887\"],[0.1111111111111111,\"#46039f\"],[0.2222222222222222,\"#7201a8\"],[0.3333333333333333,\"#9c179e\"],[0.4444444444444444,\"#bd3786\"],[0.5555555555555556,\"#d8576b\"],[0.6666666666666666,\"#ed7953\"],[0.7777777777777778,\"#fb9f3a\"],[0.8888888888888888,\"#fdca26\"],[1.0,\"#f0f921\"]]},\"colorway\":[\"#636efa\",\"#EF553B\",\"#00cc96\",\"#ab63fa\",\"#FFA15A\",\"#19d3f3\",\"#FF6692\",\"#B6E880\",\"#FF97FF\",\"#FECB52\"],\"font\":{\"color\":\"#2a3f5f\"},\"geo\":{\"bgcolor\":\"white\",\"lakecolor\":\"white\",\"landcolor\":\"#E5ECF6\",\"showlakes\":true,\"showland\":true,\"subunitcolor\":\"white\"},\"hoverlabel\":{\"align\":\"left\"},\"hovermode\":\"closest\",\"mapbox\":{\"style\":\"light\"},\"paper_bgcolor\":\"white\",\"plot_bgcolor\":\"#E5ECF6\",\"polar\":{\"angularaxis\":{\"gridcolor\":\"white\",\"linecolor\":\"white\",\"ticks\":\"\"},\"bgcolor\":\"#E5ECF6\",\"radialaxis\":{\"gridcolor\":\"white\",\"linecolor\":\"white\",\"ticks\":\"\"}},\"scene\":{\"xaxis\":{\"backgroundcolor\":\"#E5ECF6\",\"gridcolor\":\"white\",\"gridwidth\":2,\"linecolor\":\"white\",\"showbackground\":true,\"ticks\":\"\",\"zerolinecolor\":\"white\"},\"yaxis\":{\"backgroundcolor\":\"#E5ECF6\",\"gridcolor\":\"white\",\"gridwidth\":2,\"linecolor\":\"white\",\"showbackground\":true,\"ticks\":\"\",\"zerolinecolor\":\"white\"},\"zaxis\":{\"backgroundcolor\":\"#E5ECF6\",\"gridcolor\":\"white\",\"gridwidth\":2,\"linecolor\":\"white\",\"showbackground\":true,\"ticks\":\"\",\"zerolinecolor\":\"white\"}},\"shapedefaults\":{\"line\":{\"color\":\"#2a3f5f\"}},\"ternary\":{\"aaxis\":{\"gridcolor\":\"white\",\"linecolor\":\"white\",\"ticks\":\"\"},\"baxis\":{\"gridcolor\":\"white\",\"linecolor\":\"white\",\"ticks\":\"\"},\"bgcolor\":\"#E5ECF6\",\"caxis\":{\"gridcolor\":\"white\",\"linecolor\":\"white\",\"ticks\":\"\"}},\"title\":{\"x\":0.05},\"xaxis\":{\"automargin\":true,\"gridcolor\":\"white\",\"linecolor\":\"white\",\"ticks\":\"\",\"title\":{\"standoff\":15},\"zerolinecolor\":\"white\",\"zerolinewidth\":2},\"yaxis\":{\"automargin\":true,\"gridcolor\":\"white\",\"linecolor\":\"white\",\"ticks\":\"\",\"title\":{\"standoff\":15},\"zerolinecolor\":\"white\",\"zerolinewidth\":2}}},\"geo\":{\"domain\":{\"x\":[0.0,1.0],\"y\":[0.0,1.0]},\"projection\":{\"type\":\"natural earth\"},\"center\":{}},\"coloraxis\":{\"colorbar\":{\"title\":{\"text\":\"co2_per_capita\"}},\"colorscale\":[[0.0,\"rgb(255,255,255)\"],[0.3333333333333333,\"rgb(255,210,0)\"],[0.6666666666666666,\"rgb(230,0,0)\"],[1.0,\"rgb(0,0,0)\"]]},\"legend\":{\"tracegroupgap\":0},\"margin\":{\"t\":0,\"r\":0,\"l\":0,\"b\":0}},                        {\"responsive\": true}                    ).then(function(){\n",
       "                            \n",
       "var gd = document.getElementById('ab57d478-fa3d-4e76-9bd7-910844dcba5b');\n",
       "var x = new MutationObserver(function (mutations, observer) {{\n",
       "        var display = window.getComputedStyle(gd).display;\n",
       "        if (!display || display === 'none') {{\n",
       "            console.log([gd, 'removed!']);\n",
       "            Plotly.purge(gd);\n",
       "            observer.disconnect();\n",
       "        }}\n",
       "}});\n",
       "\n",
       "// Listen for the removal of the full notebook cells\n",
       "var notebookContainer = gd.closest('#notebook-container');\n",
       "if (notebookContainer) {{\n",
       "    x.observe(notebookContainer, {childList: true});\n",
       "}}\n",
       "\n",
       "// Listen for the clearing of the current output cell\n",
       "var outputEl = gd.closest('.output');\n",
       "if (outputEl) {{\n",
       "    x.observe(outputEl, {childList: true});\n",
       "}}\n",
       "\n",
       "                        })                };                });            </script>        </div>"
      ]
     },
     "metadata": {},
     "output_type": "display_data"
    }
   ],
   "source": [
    "fig = px.choropleth(\n",
    "    ccpi_emissions, \n",
    "    locations=\"iso\", \n",
    "    color=\"co2_per_capita\", \n",
    "    hover_name=\"country\", \n",
    "    hover_data=[\"iso\", \"rank\", \"score\", \"co2_per_capita\"],\n",
    "    color_continuous_scale=px.colors.sequential.Hot[::-1],\n",
    "    projection='natural earth')\n",
    "\n",
    "fig.update_layout(margin={\"r\":0,\"t\":0,\"l\":0,\"b\":0})\n",
    "fig.show()"
   ]
  }
 ],
 "metadata": {
  "kernelspec": {
   "display_name": "Python 3",
   "language": "python",
   "name": "python3"
  },
  "language_info": {
   "codemirror_mode": {
    "name": "ipython",
    "version": 3
   },
   "file_extension": ".py",
   "mimetype": "text/x-python",
   "name": "python",
   "nbconvert_exporter": "python",
   "pygments_lexer": "ipython3",
   "version": "3.8.13"
  }
 },
 "nbformat": 4,
 "nbformat_minor": 5
}

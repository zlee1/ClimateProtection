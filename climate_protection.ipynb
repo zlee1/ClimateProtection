{
 "cells": [
  {
   "cell_type": "markdown",
   "id": "5d83ec93",
   "metadata": {},
   "source": [
    "# Climate Protection Actions Around the World\n",
    "\n",
    "Looking at climate change performance index via https://en.wikipedia.org/wiki/Climate_Change_Performance_Index#2022_results\n",
    "\n",
    "Goal: Produce interactive map that allows for comparison of climate change index across countries as well as more information about what specifically is contributing to to climate change and what needs to be altered."
   ]
  },
  {
   "cell_type": "code",
   "execution_count": 1,
   "id": "a8ae50e4",
   "metadata": {},
   "outputs": [],
   "source": [
    "import pandas as pd\n",
    "import plotly.express as px\n",
    "import plotly.graph_objects as go"
   ]
  },
  {
   "cell_type": "markdown",
   "id": "715fe834",
   "metadata": {},
   "source": [
    "## Data Importing, Cleaning, and Preparation"
   ]
  },
  {
   "cell_type": "markdown",
   "id": "fe1afa2a",
   "metadata": {},
   "source": [
    "### Loading Base Data\n",
    "\n",
    "Base data contains the 2022 Climate Change Performance Index results from  https://en.wikipedia.org/wiki/Climate_Change_Performance_Index#2022_results"
   ]
  },
  {
   "cell_type": "code",
   "execution_count": 2,
   "id": "720a1502",
   "metadata": {},
   "outputs": [
    {
     "data": {
      "text/html": [
       "<div>\n",
       "<style scoped>\n",
       "    .dataframe tbody tr th:only-of-type {\n",
       "        vertical-align: middle;\n",
       "    }\n",
       "\n",
       "    .dataframe tbody tr th {\n",
       "        vertical-align: top;\n",
       "    }\n",
       "\n",
       "    .dataframe thead th {\n",
       "        text-align: right;\n",
       "    }\n",
       "</style>\n",
       "<table border=\"1\" class=\"dataframe\">\n",
       "  <thead>\n",
       "    <tr style=\"text-align: right;\">\n",
       "      <th></th>\n",
       "      <th>rank</th>\n",
       "      <th>country</th>\n",
       "      <th>iso</th>\n",
       "      <th>score</th>\n",
       "    </tr>\n",
       "  </thead>\n",
       "  <tbody>\n",
       "    <tr>\n",
       "      <th>0</th>\n",
       "      <td>1</td>\n",
       "      <td>Denmark</td>\n",
       "      <td>DNK</td>\n",
       "      <td>76.67</td>\n",
       "    </tr>\n",
       "    <tr>\n",
       "      <th>1</th>\n",
       "      <td>2</td>\n",
       "      <td>Sweden</td>\n",
       "      <td>SWE</td>\n",
       "      <td>74.22</td>\n",
       "    </tr>\n",
       "    <tr>\n",
       "      <th>2</th>\n",
       "      <td>3</td>\n",
       "      <td>Norway</td>\n",
       "      <td>NOR</td>\n",
       "      <td>73.29</td>\n",
       "    </tr>\n",
       "    <tr>\n",
       "      <th>3</th>\n",
       "      <td>4</td>\n",
       "      <td>United Kingdom</td>\n",
       "      <td>GBR</td>\n",
       "      <td>73.09</td>\n",
       "    </tr>\n",
       "    <tr>\n",
       "      <th>4</th>\n",
       "      <td>5</td>\n",
       "      <td>Morocco</td>\n",
       "      <td>MAR</td>\n",
       "      <td>71.60</td>\n",
       "    </tr>\n",
       "  </tbody>\n",
       "</table>\n",
       "</div>"
      ],
      "text/plain": [
       "   rank         country  iso  score\n",
       "0     1         Denmark  DNK  76.67\n",
       "1     2          Sweden  SWE  74.22\n",
       "2     3          Norway  NOR  73.29\n",
       "3     4  United Kingdom  GBR  73.09\n",
       "4     5         Morocco  MAR  71.60"
      ]
     },
     "execution_count": 2,
     "metadata": {},
     "output_type": "execute_result"
    }
   ],
   "source": [
    "# Remove all rows with NaN values because all information is necessary\n",
    "ccpi = pd.read_csv(\"data/ccpi.csv\").dropna()\n",
    "ccpi.head()"
   ]
  },
  {
   "cell_type": "markdown",
   "id": "dd068b31",
   "metadata": {},
   "source": [
    "### Importing Emissions Data\n",
    "\n",
    "Emissions data contains information about different gasseous emissions ranging from 1750 to 2020 and is from https://www.kaggle.com/datasets/danielrpdias/co2-and-greenhouse-gas-emissions"
   ]
  },
  {
   "cell_type": "code",
   "execution_count": 3,
   "id": "7f4a08e8",
   "metadata": {},
   "outputs": [
    {
     "data": {
      "text/html": [
       "<div>\n",
       "<style scoped>\n",
       "    .dataframe tbody tr th:only-of-type {\n",
       "        vertical-align: middle;\n",
       "    }\n",
       "\n",
       "    .dataframe tbody tr th {\n",
       "        vertical-align: top;\n",
       "    }\n",
       "\n",
       "    .dataframe thead th {\n",
       "        text-align: right;\n",
       "    }\n",
       "</style>\n",
       "<table border=\"1\" class=\"dataframe\">\n",
       "  <thead>\n",
       "    <tr style=\"text-align: right;\">\n",
       "      <th></th>\n",
       "      <th>iso_code</th>\n",
       "      <th>country</th>\n",
       "      <th>year</th>\n",
       "      <th>co2</th>\n",
       "      <th>consumption_co2</th>\n",
       "      <th>co2_growth_prct</th>\n",
       "      <th>co2_growth_abs</th>\n",
       "      <th>trade_co2</th>\n",
       "      <th>co2_per_capita</th>\n",
       "      <th>consumption_co2_per_capita</th>\n",
       "      <th>...</th>\n",
       "      <th>ghg_per_capita</th>\n",
       "      <th>methane</th>\n",
       "      <th>methane_per_capita</th>\n",
       "      <th>nitrous_oxide</th>\n",
       "      <th>nitrous_oxide_per_capita</th>\n",
       "      <th>population</th>\n",
       "      <th>gdp</th>\n",
       "      <th>primary_energy_consumption</th>\n",
       "      <th>energy_per_capita</th>\n",
       "      <th>energy_per_gdp</th>\n",
       "    </tr>\n",
       "  </thead>\n",
       "  <tbody>\n",
       "    <tr>\n",
       "      <th>0</th>\n",
       "      <td>AFG</td>\n",
       "      <td>Afghanistan</td>\n",
       "      <td>1949</td>\n",
       "      <td>0.015</td>\n",
       "      <td>NaN</td>\n",
       "      <td>NaN</td>\n",
       "      <td>NaN</td>\n",
       "      <td>NaN</td>\n",
       "      <td>0.002</td>\n",
       "      <td>NaN</td>\n",
       "      <td>...</td>\n",
       "      <td>NaN</td>\n",
       "      <td>NaN</td>\n",
       "      <td>NaN</td>\n",
       "      <td>NaN</td>\n",
       "      <td>NaN</td>\n",
       "      <td>7624058.0</td>\n",
       "      <td>NaN</td>\n",
       "      <td>NaN</td>\n",
       "      <td>NaN</td>\n",
       "      <td>NaN</td>\n",
       "    </tr>\n",
       "    <tr>\n",
       "      <th>1</th>\n",
       "      <td>AFG</td>\n",
       "      <td>Afghanistan</td>\n",
       "      <td>1950</td>\n",
       "      <td>0.084</td>\n",
       "      <td>NaN</td>\n",
       "      <td>475.0</td>\n",
       "      <td>0.070</td>\n",
       "      <td>NaN</td>\n",
       "      <td>0.011</td>\n",
       "      <td>NaN</td>\n",
       "      <td>...</td>\n",
       "      <td>NaN</td>\n",
       "      <td>NaN</td>\n",
       "      <td>NaN</td>\n",
       "      <td>NaN</td>\n",
       "      <td>NaN</td>\n",
       "      <td>7752117.0</td>\n",
       "      <td>9.421400e+09</td>\n",
       "      <td>NaN</td>\n",
       "      <td>NaN</td>\n",
       "      <td>NaN</td>\n",
       "    </tr>\n",
       "    <tr>\n",
       "      <th>2</th>\n",
       "      <td>AFG</td>\n",
       "      <td>Afghanistan</td>\n",
       "      <td>1951</td>\n",
       "      <td>0.092</td>\n",
       "      <td>NaN</td>\n",
       "      <td>8.7</td>\n",
       "      <td>0.007</td>\n",
       "      <td>NaN</td>\n",
       "      <td>0.012</td>\n",
       "      <td>NaN</td>\n",
       "      <td>...</td>\n",
       "      <td>NaN</td>\n",
       "      <td>NaN</td>\n",
       "      <td>NaN</td>\n",
       "      <td>NaN</td>\n",
       "      <td>NaN</td>\n",
       "      <td>7840151.0</td>\n",
       "      <td>9.692280e+09</td>\n",
       "      <td>NaN</td>\n",
       "      <td>NaN</td>\n",
       "      <td>NaN</td>\n",
       "    </tr>\n",
       "    <tr>\n",
       "      <th>3</th>\n",
       "      <td>AFG</td>\n",
       "      <td>Afghanistan</td>\n",
       "      <td>1952</td>\n",
       "      <td>0.092</td>\n",
       "      <td>NaN</td>\n",
       "      <td>0.0</td>\n",
       "      <td>0.000</td>\n",
       "      <td>NaN</td>\n",
       "      <td>0.012</td>\n",
       "      <td>NaN</td>\n",
       "      <td>...</td>\n",
       "      <td>NaN</td>\n",
       "      <td>NaN</td>\n",
       "      <td>NaN</td>\n",
       "      <td>NaN</td>\n",
       "      <td>NaN</td>\n",
       "      <td>7935996.0</td>\n",
       "      <td>1.001732e+10</td>\n",
       "      <td>NaN</td>\n",
       "      <td>NaN</td>\n",
       "      <td>NaN</td>\n",
       "    </tr>\n",
       "    <tr>\n",
       "      <th>4</th>\n",
       "      <td>AFG</td>\n",
       "      <td>Afghanistan</td>\n",
       "      <td>1953</td>\n",
       "      <td>0.106</td>\n",
       "      <td>NaN</td>\n",
       "      <td>16.0</td>\n",
       "      <td>0.015</td>\n",
       "      <td>NaN</td>\n",
       "      <td>0.013</td>\n",
       "      <td>NaN</td>\n",
       "      <td>...</td>\n",
       "      <td>NaN</td>\n",
       "      <td>NaN</td>\n",
       "      <td>NaN</td>\n",
       "      <td>NaN</td>\n",
       "      <td>NaN</td>\n",
       "      <td>8039684.0</td>\n",
       "      <td>1.063052e+10</td>\n",
       "      <td>NaN</td>\n",
       "      <td>NaN</td>\n",
       "      <td>NaN</td>\n",
       "    </tr>\n",
       "  </tbody>\n",
       "</table>\n",
       "<p>5 rows × 58 columns</p>\n",
       "</div>"
      ],
      "text/plain": [
       "  iso_code      country  year    co2  consumption_co2  co2_growth_prct  \\\n",
       "0      AFG  Afghanistan  1949  0.015              NaN              NaN   \n",
       "1      AFG  Afghanistan  1950  0.084              NaN            475.0   \n",
       "2      AFG  Afghanistan  1951  0.092              NaN              8.7   \n",
       "3      AFG  Afghanistan  1952  0.092              NaN              0.0   \n",
       "4      AFG  Afghanistan  1953  0.106              NaN             16.0   \n",
       "\n",
       "   co2_growth_abs  trade_co2  co2_per_capita  consumption_co2_per_capita  ...  \\\n",
       "0             NaN        NaN           0.002                         NaN  ...   \n",
       "1           0.070        NaN           0.011                         NaN  ...   \n",
       "2           0.007        NaN           0.012                         NaN  ...   \n",
       "3           0.000        NaN           0.012                         NaN  ...   \n",
       "4           0.015        NaN           0.013                         NaN  ...   \n",
       "\n",
       "   ghg_per_capita  methane  methane_per_capita  nitrous_oxide  \\\n",
       "0             NaN      NaN                 NaN            NaN   \n",
       "1             NaN      NaN                 NaN            NaN   \n",
       "2             NaN      NaN                 NaN            NaN   \n",
       "3             NaN      NaN                 NaN            NaN   \n",
       "4             NaN      NaN                 NaN            NaN   \n",
       "\n",
       "   nitrous_oxide_per_capita  population           gdp  \\\n",
       "0                       NaN   7624058.0           NaN   \n",
       "1                       NaN   7752117.0  9.421400e+09   \n",
       "2                       NaN   7840151.0  9.692280e+09   \n",
       "3                       NaN   7935996.0  1.001732e+10   \n",
       "4                       NaN   8039684.0  1.063052e+10   \n",
       "\n",
       "   primary_energy_consumption  energy_per_capita  energy_per_gdp  \n",
       "0                         NaN                NaN             NaN  \n",
       "1                         NaN                NaN             NaN  \n",
       "2                         NaN                NaN             NaN  \n",
       "3                         NaN                NaN             NaN  \n",
       "4                         NaN                NaN             NaN  \n",
       "\n",
       "[5 rows x 58 columns]"
      ]
     },
     "execution_count": 3,
     "metadata": {},
     "output_type": "execute_result"
    }
   ],
   "source": [
    "# Drop rows where an ISO Code is not provided as they cannot be used on visualization\n",
    "emissions = pd.read_csv(\"data/emissions.csv\").dropna(subset=[\"iso_code\"])\n",
    "emissions.head()"
   ]
  },
  {
   "cell_type": "code",
   "execution_count": 4,
   "id": "b01b47a9",
   "metadata": {},
   "outputs": [
    {
     "data": {
      "text/html": [
       "<div>\n",
       "<style scoped>\n",
       "    .dataframe tbody tr th:only-of-type {\n",
       "        vertical-align: middle;\n",
       "    }\n",
       "\n",
       "    .dataframe tbody tr th {\n",
       "        vertical-align: top;\n",
       "    }\n",
       "\n",
       "    .dataframe thead th {\n",
       "        text-align: right;\n",
       "    }\n",
       "</style>\n",
       "<table border=\"1\" class=\"dataframe\">\n",
       "  <thead>\n",
       "    <tr style=\"text-align: right;\">\n",
       "      <th></th>\n",
       "      <th>iso_code</th>\n",
       "      <th>country</th>\n",
       "      <th>year</th>\n",
       "      <th>co2</th>\n",
       "      <th>consumption_co2</th>\n",
       "      <th>co2_growth_prct</th>\n",
       "      <th>co2_growth_abs</th>\n",
       "      <th>trade_co2</th>\n",
       "      <th>co2_per_capita</th>\n",
       "      <th>consumption_co2_per_capita</th>\n",
       "      <th>...</th>\n",
       "      <th>cumulative_gas_co2</th>\n",
       "      <th>cumulative_oil_co2</th>\n",
       "      <th>cumulative_other_co2</th>\n",
       "      <th>share_global_cumulative_cement_co2</th>\n",
       "      <th>share_global_cumulative_coal_co2</th>\n",
       "      <th>share_global_cumulative_flaring_co2</th>\n",
       "      <th>share_global_cumulative_gas_co2</th>\n",
       "      <th>share_global_cumulative_oil_co2</th>\n",
       "      <th>share_global_cumulative_other_co2</th>\n",
       "      <th>population</th>\n",
       "    </tr>\n",
       "  </thead>\n",
       "  <tbody>\n",
       "    <tr>\n",
       "      <th>0</th>\n",
       "      <td>AFG</td>\n",
       "      <td>Afghanistan</td>\n",
       "      <td>2020</td>\n",
       "      <td>12.160</td>\n",
       "      <td>NaN</td>\n",
       "      <td>0.11</td>\n",
       "      <td>0.014</td>\n",
       "      <td>NaN</td>\n",
       "      <td>0.312</td>\n",
       "      <td>NaN</td>\n",
       "      <td>...</td>\n",
       "      <td>20.150</td>\n",
       "      <td>103.833</td>\n",
       "      <td>NaN</td>\n",
       "      <td>0.01</td>\n",
       "      <td>0.01</td>\n",
       "      <td>NaN</td>\n",
       "      <td>0.01</td>\n",
       "      <td>0.02</td>\n",
       "      <td>NaN</td>\n",
       "      <td>38928341.0</td>\n",
       "    </tr>\n",
       "    <tr>\n",
       "      <th>1</th>\n",
       "      <td>ALB</td>\n",
       "      <td>Albania</td>\n",
       "      <td>2020</td>\n",
       "      <td>4.535</td>\n",
       "      <td>NaN</td>\n",
       "      <td>-6.76</td>\n",
       "      <td>-0.329</td>\n",
       "      <td>NaN</td>\n",
       "      <td>1.576</td>\n",
       "      <td>NaN</td>\n",
       "      <td>...</td>\n",
       "      <td>16.602</td>\n",
       "      <td>182.453</td>\n",
       "      <td>NaN</td>\n",
       "      <td>0.05</td>\n",
       "      <td>0.01</td>\n",
       "      <td>NaN</td>\n",
       "      <td>0.01</td>\n",
       "      <td>0.03</td>\n",
       "      <td>NaN</td>\n",
       "      <td>2877800.0</td>\n",
       "    </tr>\n",
       "    <tr>\n",
       "      <th>2</th>\n",
       "      <td>DZA</td>\n",
       "      <td>Algeria</td>\n",
       "      <td>2020</td>\n",
       "      <td>154.995</td>\n",
       "      <td>NaN</td>\n",
       "      <td>-6.99</td>\n",
       "      <td>-11.646</td>\n",
       "      <td>NaN</td>\n",
       "      <td>3.535</td>\n",
       "      <td>NaN</td>\n",
       "      <td>...</td>\n",
       "      <td>2062.656</td>\n",
       "      <td>1590.074</td>\n",
       "      <td>NaN</td>\n",
       "      <td>0.53</td>\n",
       "      <td>0.01</td>\n",
       "      <td>3.31</td>\n",
       "      <td>0.84</td>\n",
       "      <td>0.27</td>\n",
       "      <td>NaN</td>\n",
       "      <td>43851043.0</td>\n",
       "    </tr>\n",
       "    <tr>\n",
       "      <th>3</th>\n",
       "      <td>AND</td>\n",
       "      <td>Andorra</td>\n",
       "      <td>2020</td>\n",
       "      <td>0.466</td>\n",
       "      <td>NaN</td>\n",
       "      <td>-7.08</td>\n",
       "      <td>-0.036</td>\n",
       "      <td>NaN</td>\n",
       "      <td>6.035</td>\n",
       "      <td>NaN</td>\n",
       "      <td>...</td>\n",
       "      <td>NaN</td>\n",
       "      <td>15.071</td>\n",
       "      <td>NaN</td>\n",
       "      <td>NaN</td>\n",
       "      <td>NaN</td>\n",
       "      <td>NaN</td>\n",
       "      <td>NaN</td>\n",
       "      <td>0.00</td>\n",
       "      <td>NaN</td>\n",
       "      <td>77265.0</td>\n",
       "    </tr>\n",
       "    <tr>\n",
       "      <th>4</th>\n",
       "      <td>AGO</td>\n",
       "      <td>Angola</td>\n",
       "      <td>2020</td>\n",
       "      <td>22.198</td>\n",
       "      <td>NaN</td>\n",
       "      <td>-5.49</td>\n",
       "      <td>-1.289</td>\n",
       "      <td>NaN</td>\n",
       "      <td>0.675</td>\n",
       "      <td>NaN</td>\n",
       "      <td>...</td>\n",
       "      <td>40.780</td>\n",
       "      <td>324.439</td>\n",
       "      <td>NaN</td>\n",
       "      <td>0.06</td>\n",
       "      <td>NaN</td>\n",
       "      <td>1.62</td>\n",
       "      <td>0.02</td>\n",
       "      <td>0.05</td>\n",
       "      <td>NaN</td>\n",
       "      <td>32866267.0</td>\n",
       "    </tr>\n",
       "  </tbody>\n",
       "</table>\n",
       "<p>5 rows × 45 columns</p>\n",
       "</div>"
      ],
      "text/plain": [
       "  iso_code      country  year      co2  consumption_co2  co2_growth_prct  \\\n",
       "0      AFG  Afghanistan  2020   12.160              NaN             0.11   \n",
       "1      ALB      Albania  2020    4.535              NaN            -6.76   \n",
       "2      DZA      Algeria  2020  154.995              NaN            -6.99   \n",
       "3      AND      Andorra  2020    0.466              NaN            -7.08   \n",
       "4      AGO       Angola  2020   22.198              NaN            -5.49   \n",
       "\n",
       "   co2_growth_abs  trade_co2  co2_per_capita  consumption_co2_per_capita  ...  \\\n",
       "0           0.014        NaN           0.312                         NaN  ...   \n",
       "1          -0.329        NaN           1.576                         NaN  ...   \n",
       "2         -11.646        NaN           3.535                         NaN  ...   \n",
       "3          -0.036        NaN           6.035                         NaN  ...   \n",
       "4          -1.289        NaN           0.675                         NaN  ...   \n",
       "\n",
       "   cumulative_gas_co2  cumulative_oil_co2  cumulative_other_co2  \\\n",
       "0              20.150             103.833                   NaN   \n",
       "1              16.602             182.453                   NaN   \n",
       "2            2062.656            1590.074                   NaN   \n",
       "3                 NaN              15.071                   NaN   \n",
       "4              40.780             324.439                   NaN   \n",
       "\n",
       "   share_global_cumulative_cement_co2  share_global_cumulative_coal_co2  \\\n",
       "0                                0.01                              0.01   \n",
       "1                                0.05                              0.01   \n",
       "2                                0.53                              0.01   \n",
       "3                                 NaN                               NaN   \n",
       "4                                0.06                               NaN   \n",
       "\n",
       "   share_global_cumulative_flaring_co2  share_global_cumulative_gas_co2  \\\n",
       "0                                  NaN                             0.01   \n",
       "1                                  NaN                             0.01   \n",
       "2                                 3.31                             0.84   \n",
       "3                                  NaN                              NaN   \n",
       "4                                 1.62                             0.02   \n",
       "\n",
       "   share_global_cumulative_oil_co2  share_global_cumulative_other_co2  \\\n",
       "0                             0.02                                NaN   \n",
       "1                             0.03                                NaN   \n",
       "2                             0.27                                NaN   \n",
       "3                             0.00                                NaN   \n",
       "4                             0.05                                NaN   \n",
       "\n",
       "   population  \n",
       "0  38928341.0  \n",
       "1   2877800.0  \n",
       "2  43851043.0  \n",
       "3     77265.0  \n",
       "4  32866267.0  \n",
       "\n",
       "[5 rows x 45 columns]"
      ]
     },
     "execution_count": 4,
     "metadata": {},
     "output_type": "execute_result"
    }
   ],
   "source": [
    "# Query only most recent available year of emissions\n",
    "# Reset index and drop columns where all values are NaN\n",
    "emissions_last = emissions[emissions[\"year\"] == max(emissions[\"year\"])].reset_index(drop=True).dropna(axis=\"columns\", how=\"all\")\n",
    "emissions_last.head()"
   ]
  },
  {
   "cell_type": "code",
   "execution_count": 5,
   "id": "3b5fcaea",
   "metadata": {},
   "outputs": [
    {
     "data": {
      "text/plain": [
       "['iso_code',\n",
       " 'country',\n",
       " 'year',\n",
       " 'co2',\n",
       " 'consumption_co2',\n",
       " 'co2_growth_prct',\n",
       " 'co2_growth_abs',\n",
       " 'trade_co2',\n",
       " 'co2_per_capita',\n",
       " 'consumption_co2_per_capita',\n",
       " 'share_global_co2',\n",
       " 'cumulative_co2',\n",
       " 'share_global_cumulative_co2',\n",
       " 'coal_co2',\n",
       " 'cement_co2',\n",
       " 'flaring_co2',\n",
       " 'gas_co2',\n",
       " 'oil_co2',\n",
       " 'other_industry_co2',\n",
       " 'cement_co2_per_capita',\n",
       " 'coal_co2_per_capita',\n",
       " 'flaring_co2_per_capita',\n",
       " 'gas_co2_per_capita',\n",
       " 'oil_co2_per_capita',\n",
       " 'other_co2_per_capita',\n",
       " 'trade_co2_share',\n",
       " 'share_global_cement_co2',\n",
       " 'share_global_coal_co2',\n",
       " 'share_global_flaring_co2',\n",
       " 'share_global_gas_co2',\n",
       " 'share_global_oil_co2',\n",
       " 'share_global_other_co2',\n",
       " 'cumulative_cement_co2',\n",
       " 'cumulative_coal_co2',\n",
       " 'cumulative_flaring_co2',\n",
       " 'cumulative_gas_co2',\n",
       " 'cumulative_oil_co2',\n",
       " 'cumulative_other_co2',\n",
       " 'share_global_cumulative_cement_co2',\n",
       " 'share_global_cumulative_coal_co2',\n",
       " 'share_global_cumulative_flaring_co2',\n",
       " 'share_global_cumulative_gas_co2',\n",
       " 'share_global_cumulative_oil_co2',\n",
       " 'share_global_cumulative_other_co2',\n",
       " 'population']"
      ]
     },
     "execution_count": 5,
     "metadata": {},
     "output_type": "execute_result"
    }
   ],
   "source": [
    "list(emissions_last.columns)"
   ]
  },
  {
   "cell_type": "markdown",
   "id": "82e0e3fb",
   "metadata": {},
   "source": [
    "### Joining Data Sources"
   ]
  },
  {
   "cell_type": "code",
   "execution_count": 6,
   "id": "211b8c7d",
   "metadata": {},
   "outputs": [
    {
     "data": {
      "text/html": [
       "<div>\n",
       "<style scoped>\n",
       "    .dataframe tbody tr th:only-of-type {\n",
       "        vertical-align: middle;\n",
       "    }\n",
       "\n",
       "    .dataframe tbody tr th {\n",
       "        vertical-align: top;\n",
       "    }\n",
       "\n",
       "    .dataframe thead th {\n",
       "        text-align: right;\n",
       "    }\n",
       "</style>\n",
       "<table border=\"1\" class=\"dataframe\">\n",
       "  <thead>\n",
       "    <tr style=\"text-align: right;\">\n",
       "      <th></th>\n",
       "      <th>rank</th>\n",
       "      <th>country</th>\n",
       "      <th>iso</th>\n",
       "      <th>score</th>\n",
       "      <th>year</th>\n",
       "      <th>co2</th>\n",
       "      <th>co2_growth_prct</th>\n",
       "      <th>co2_growth_abs</th>\n",
       "      <th>co2_per_capita</th>\n",
       "      <th>share_global_co2</th>\n",
       "      <th>...</th>\n",
       "      <th>cumulative_gas_co2</th>\n",
       "      <th>cumulative_oil_co2</th>\n",
       "      <th>cumulative_other_co2</th>\n",
       "      <th>share_global_cumulative_cement_co2</th>\n",
       "      <th>share_global_cumulative_coal_co2</th>\n",
       "      <th>share_global_cumulative_flaring_co2</th>\n",
       "      <th>share_global_cumulative_gas_co2</th>\n",
       "      <th>share_global_cumulative_oil_co2</th>\n",
       "      <th>share_global_cumulative_other_co2</th>\n",
       "      <th>population</th>\n",
       "    </tr>\n",
       "  </thead>\n",
       "  <tbody>\n",
       "    <tr>\n",
       "      <th>0</th>\n",
       "      <td>1</td>\n",
       "      <td>Denmark</td>\n",
       "      <td>DNK</td>\n",
       "      <td>76.67</td>\n",
       "      <td>2020</td>\n",
       "      <td>26.195</td>\n",
       "      <td>-15.22</td>\n",
       "      <td>-4.702</td>\n",
       "      <td>4.522</td>\n",
       "      <td>0.08</td>\n",
       "      <td>...</td>\n",
       "      <td>273.120</td>\n",
       "      <td>1853.778</td>\n",
       "      <td>14.953</td>\n",
       "      <td>0.19</td>\n",
       "      <td>0.23</td>\n",
       "      <td>0.10</td>\n",
       "      <td>0.11</td>\n",
       "      <td>0.31</td>\n",
       "      <td>0.16</td>\n",
       "      <td>5792203.0</td>\n",
       "    </tr>\n",
       "    <tr>\n",
       "      <th>1</th>\n",
       "      <td>2</td>\n",
       "      <td>Sweden</td>\n",
       "      <td>SWE</td>\n",
       "      <td>74.22</td>\n",
       "      <td>2020</td>\n",
       "      <td>38.635</td>\n",
       "      <td>-5.62</td>\n",
       "      <td>-2.302</td>\n",
       "      <td>3.826</td>\n",
       "      <td>0.11</td>\n",
       "      <td>...</td>\n",
       "      <td>70.227</td>\n",
       "      <td>3267.419</td>\n",
       "      <td>19.158</td>\n",
       "      <td>0.26</td>\n",
       "      <td>0.19</td>\n",
       "      <td>0.10</td>\n",
       "      <td>0.03</td>\n",
       "      <td>0.55</td>\n",
       "      <td>0.20</td>\n",
       "      <td>10099270.0</td>\n",
       "    </tr>\n",
       "    <tr>\n",
       "      <th>2</th>\n",
       "      <td>3</td>\n",
       "      <td>Norway</td>\n",
       "      <td>NOR</td>\n",
       "      <td>73.29</td>\n",
       "      <td>2020</td>\n",
       "      <td>41.283</td>\n",
       "      <td>-3.69</td>\n",
       "      <td>-1.582</td>\n",
       "      <td>7.615</td>\n",
       "      <td>0.12</td>\n",
       "      <td>...</td>\n",
       "      <td>412.919</td>\n",
       "      <td>1405.108</td>\n",
       "      <td>10.503</td>\n",
       "      <td>0.14</td>\n",
       "      <td>0.08</td>\n",
       "      <td>0.61</td>\n",
       "      <td>0.17</td>\n",
       "      <td>0.24</td>\n",
       "      <td>0.11</td>\n",
       "      <td>5421242.0</td>\n",
       "    </tr>\n",
       "    <tr>\n",
       "      <th>3</th>\n",
       "      <td>4</td>\n",
       "      <td>United Kingdom</td>\n",
       "      <td>GBR</td>\n",
       "      <td>73.09</td>\n",
       "      <td>2020</td>\n",
       "      <td>329.579</td>\n",
       "      <td>-10.69</td>\n",
       "      <td>-39.431</td>\n",
       "      <td>4.855</td>\n",
       "      <td>0.95</td>\n",
       "      <td>...</td>\n",
       "      <td>7002.510</td>\n",
       "      <td>13418.030</td>\n",
       "      <td>108.013</td>\n",
       "      <td>1.21</td>\n",
       "      <td>7.21</td>\n",
       "      <td>1.64</td>\n",
       "      <td>2.86</td>\n",
       "      <td>2.26</td>\n",
       "      <td>1.15</td>\n",
       "      <td>67886004.0</td>\n",
       "    </tr>\n",
       "    <tr>\n",
       "      <th>4</th>\n",
       "      <td>5</td>\n",
       "      <td>Morocco</td>\n",
       "      <td>MAR</td>\n",
       "      <td>71.60</td>\n",
       "      <td>2020</td>\n",
       "      <td>64.536</td>\n",
       "      <td>-5.40</td>\n",
       "      <td>-3.680</td>\n",
       "      <td>1.748</td>\n",
       "      <td>0.19</td>\n",
       "      <td>...</td>\n",
       "      <td>32.371</td>\n",
       "      <td>1089.605</td>\n",
       "      <td>NaN</td>\n",
       "      <td>0.39</td>\n",
       "      <td>0.06</td>\n",
       "      <td>NaN</td>\n",
       "      <td>0.01</td>\n",
       "      <td>0.18</td>\n",
       "      <td>NaN</td>\n",
       "      <td>36910558.0</td>\n",
       "    </tr>\n",
       "  </tbody>\n",
       "</table>\n",
       "<p>5 rows × 43 columns</p>\n",
       "</div>"
      ],
      "text/plain": [
       "   rank         country  iso  score  year      co2  co2_growth_prct  \\\n",
       "0     1         Denmark  DNK  76.67  2020   26.195           -15.22   \n",
       "1     2          Sweden  SWE  74.22  2020   38.635            -5.62   \n",
       "2     3          Norway  NOR  73.29  2020   41.283            -3.69   \n",
       "3     4  United Kingdom  GBR  73.09  2020  329.579           -10.69   \n",
       "4     5         Morocco  MAR  71.60  2020   64.536            -5.40   \n",
       "\n",
       "   co2_growth_abs  co2_per_capita  share_global_co2  ...  cumulative_gas_co2  \\\n",
       "0          -4.702           4.522              0.08  ...             273.120   \n",
       "1          -2.302           3.826              0.11  ...              70.227   \n",
       "2          -1.582           7.615              0.12  ...             412.919   \n",
       "3         -39.431           4.855              0.95  ...            7002.510   \n",
       "4          -3.680           1.748              0.19  ...              32.371   \n",
       "\n",
       "   cumulative_oil_co2  cumulative_other_co2  \\\n",
       "0            1853.778                14.953   \n",
       "1            3267.419                19.158   \n",
       "2            1405.108                10.503   \n",
       "3           13418.030               108.013   \n",
       "4            1089.605                   NaN   \n",
       "\n",
       "   share_global_cumulative_cement_co2  share_global_cumulative_coal_co2  \\\n",
       "0                                0.19                              0.23   \n",
       "1                                0.26                              0.19   \n",
       "2                                0.14                              0.08   \n",
       "3                                1.21                              7.21   \n",
       "4                                0.39                              0.06   \n",
       "\n",
       "   share_global_cumulative_flaring_co2  share_global_cumulative_gas_co2  \\\n",
       "0                                 0.10                             0.11   \n",
       "1                                 0.10                             0.03   \n",
       "2                                 0.61                             0.17   \n",
       "3                                 1.64                             2.86   \n",
       "4                                  NaN                             0.01   \n",
       "\n",
       "   share_global_cumulative_oil_co2  share_global_cumulative_other_co2  \\\n",
       "0                             0.31                               0.16   \n",
       "1                             0.55                               0.20   \n",
       "2                             0.24                               0.11   \n",
       "3                             2.26                               1.15   \n",
       "4                             0.18                                NaN   \n",
       "\n",
       "   population  \n",
       "0   5792203.0  \n",
       "1  10099270.0  \n",
       "2   5421242.0  \n",
       "3  67886004.0  \n",
       "4  36910558.0  \n",
       "\n",
       "[5 rows x 43 columns]"
      ]
     },
     "execution_count": 6,
     "metadata": {},
     "output_type": "execute_result"
    }
   ],
   "source": [
    "ccpi_emissions = ccpi.merge(right=emissions_last.loc[:, emissions_last.columns != \"country\"], how=\"inner\", left_on=\"iso\", right_on=\"iso_code\").drop(\"iso_code\", axis=1)\n",
    "ccpi_emissions.dropna(axis=\"columns\", how=\"all\", inplace=True)\n",
    "ccpi_emissions.head()"
   ]
  },
  {
   "cell_type": "markdown",
   "id": "11628d54",
   "metadata": {},
   "source": [
    "## Plotting Data"
   ]
  },
  {
   "cell_type": "code",
   "execution_count": 47,
   "id": "71351841",
   "metadata": {},
   "outputs": [
    {
     "data": {
      "application/vnd.plotly.v1+json": {
       "config": {
        "plotlyServerURL": "https://plot.ly"
       },
       "data": [
        {
         "colorbar": {
          "title": {
           "text": "Climate<br>Protection<br>Score"
          }
         },
         "colorscale": [
          [
           0,
           "rgb(0,0,0)"
          ],
          [
           0.3333333333333333,
           "rgb(230,0,0)"
          ],
          [
           0.6666666666666666,
           "rgb(255,210,0)"
          ],
          [
           1,
           "rgb(255,255,255)"
          ]
         ],
         "customdata": [
          [
           "Denmark",
           76.67,
           1,
           4.522
          ],
          [
           "Sweden",
           74.22,
           2,
           3.826
          ],
          [
           "Norway",
           73.29,
           3,
           7.615
          ],
          [
           "United Kingdom",
           73.09,
           4,
           4.855
          ],
          [
           "Morocco",
           71.6,
           5,
           1.748
          ],
          [
           "India",
           69.2,
           7,
           1.769
          ],
          [
           "Lithuania",
           64.89,
           8,
           5.069
          ],
          [
           "Malta",
           64.18,
           9,
           3.612
          ],
          [
           "Germany",
           63.53,
           10,
           7.69
          ],
          [
           "Finland",
           62.41,
           11,
           7.091
          ],
          [
           "Switzerland",
           61.7,
           12,
           3.732
          ],
          [
           "Portugal",
           61.11,
           13,
           3.961
          ],
          [
           "France",
           61.01,
           14,
           4.238
          ],
          [
           "Luxembourg",
           60.8,
           15,
           13.059
          ],
          [
           "Netherlands",
           60.44,
           16,
           8.06
          ],
          [
           "Ukraine",
           60.4,
           17,
           4.891
          ],
          [
           "Egypt",
           59.74,
           18,
           2.086
          ],
          [
           "Philippines",
           58.98,
           20,
           1.241
          ],
          [
           "Greece",
           58.22,
           21,
           5.012
          ],
          [
           "Colombia",
           57.87,
           22,
           1.751
          ],
          [
           "Latvia",
           57.73,
           23,
           3.591
          ],
          [
           "Indonesia",
           57.17,
           24,
           2.155
          ],
          [
           "Mexico",
           56.05,
           25,
           2.769
          ],
          [
           "Croatia",
           55.96,
           26,
           4.137
          ],
          [
           "Italy",
           55.39,
           27,
           5.025
          ],
          [
           "Thailand",
           55.01,
           28,
           3.693
          ],
          [
           "Estonia",
           54.98,
           29,
           7.88
          ],
          [
           "Brazil",
           54.86,
           30,
           2.199
          ],
          [
           "Spain",
           54.35,
           31,
           4.468
          ],
          [
           "New Zealand",
           54.03,
           32,
           6.942
          ],
          [
           "Romania",
           52.43,
           33,
           3.715
          ],
          [
           "Austria",
           52.35,
           34,
           6.732
          ],
          [
           "China",
           52.2,
           35,
           7.412
          ],
          [
           "South Africa",
           51.13,
           36,
           7.62
          ],
          [
           "Slovak Republic",
           50.67,
           37,
           5.629
          ],
          [
           "Turkey",
           50.53,
           38,
           4.657
          ],
          [
           "Cyprus",
           50.52,
           39,
           5.38
          ],
          [
           "Viet Nam",
           49.21,
           40,
           2.613
          ],
          [
           "Bulgaria",
           48.71,
           41,
           5.389
          ],
          [
           "Japan",
           48.53,
           42,
           8.15
          ],
          [
           "Ireland",
           47.86,
           43,
           6.754
          ],
          [
           "Argentina",
           47.08,
           44,
           3.473
          ],
          [
           "Belarus",
           46.66,
           45,
           6.079
          ],
          [
           "Belgium",
           45.9,
           46,
           7.226
          ],
          [
           "Slovenia",
           43.28,
           47,
           6.043
          ],
          [
           "Czech Republic",
           42.15,
           48,
           8.215
          ],
          [
           "Poland",
           40.63,
           49,
           7.916
          ],
          [
           "Hungary",
           40.41,
           50,
           4.997
          ],
          [
           "Algeria",
           39.91,
           51,
           3.535
          ],
          [
           "United States",
           37.39,
           52,
           14.238
          ],
          [
           "Russian Federation",
           34.73,
           53,
           10.807
          ],
          [
           "Malaysia",
           33.74,
           54,
           8.423
          ],
          [
           "Australia",
           30.06,
           56,
           15.368
          ],
          [
           "Korea",
           26.74,
           57,
           11.656
          ],
          [
           "Canada",
           26.03,
           58,
           14.197
          ],
          [
           "Islamic Republic of Iran",
           25.66,
           59,
           8.87
          ],
          [
           "Saudi Arabia",
           24.25,
           60,
           17.967
          ],
          [
           "Kazakhstan",
           19.23,
           61,
           15.516
          ]
         ],
         "hovertemplate": "%{customdata[0]} (%{locations})<br>CCPI Score: %{customdata[1]}<br>CCPI Rank: %{customdata[2]}<br>CO2 Emissions Per Capita: %{customdata[3]}",
         "locations": [
          "DNK",
          "SWE",
          "NOR",
          "GBR",
          "MAR",
          "IND",
          "LTU",
          "MLT",
          "DEU",
          "FIN",
          "CHE",
          "PRT",
          "FRA",
          "LUX",
          "NLD",
          "UKR",
          "EGY",
          "PHL",
          "GRC",
          "COL",
          "LVA",
          "IDN",
          "MEX",
          "HRV",
          "ITA",
          "THA",
          "EST",
          "BRA",
          "ESP",
          "NZL",
          "ROU",
          "AUT",
          "CHN",
          "ZAF",
          "SVK",
          "TUR",
          "CYP",
          "VNM",
          "BGR",
          "JPN",
          "IRL",
          "ARG",
          "BLR",
          "BEL",
          "SVN",
          "CZE",
          "POL",
          "HUN",
          "DZA",
          "USA",
          "RUS",
          "MYS",
          "AUS",
          "KOR",
          "CAN",
          "IRN",
          "SAU",
          "KAZ"
         ],
         "marker": {
          "line": {
           "width": 0.1
          }
         },
         "type": "choropleth",
         "z": [
          76.67,
          74.22,
          73.29,
          73.09,
          71.6,
          69.2,
          64.89,
          64.18,
          63.53,
          62.41,
          61.7,
          61.11,
          61.01,
          60.8,
          60.44,
          60.4,
          59.74,
          58.98,
          58.22,
          57.87,
          57.73,
          57.17,
          56.05,
          55.96,
          55.39,
          55.01,
          54.98,
          54.86,
          54.35,
          54.03,
          52.43,
          52.35,
          52.2,
          51.13,
          50.67,
          50.53,
          50.52,
          49.21,
          48.71,
          48.53,
          47.86,
          47.08,
          46.66,
          45.9,
          43.28,
          42.15,
          40.63,
          40.41,
          39.91,
          37.39,
          34.73,
          33.74,
          30.06,
          26.74,
          26.03,
          25.66,
          24.25,
          19.23
         ]
        }
       ],
       "layout": {
        "geo": {
         "projection": {
          "type": "natural earth"
         },
         "showcoastlines": false
        },
        "margin": {
         "b": 0,
         "l": 0,
         "r": 0,
         "t": 0
        },
        "template": {
         "data": {
          "bar": [
           {
            "error_x": {
             "color": "#2a3f5f"
            },
            "error_y": {
             "color": "#2a3f5f"
            },
            "marker": {
             "line": {
              "color": "#E5ECF6",
              "width": 0.5
             },
             "pattern": {
              "fillmode": "overlay",
              "size": 10,
              "solidity": 0.2
             }
            },
            "type": "bar"
           }
          ],
          "barpolar": [
           {
            "marker": {
             "line": {
              "color": "#E5ECF6",
              "width": 0.5
             },
             "pattern": {
              "fillmode": "overlay",
              "size": 10,
              "solidity": 0.2
             }
            },
            "type": "barpolar"
           }
          ],
          "carpet": [
           {
            "aaxis": {
             "endlinecolor": "#2a3f5f",
             "gridcolor": "white",
             "linecolor": "white",
             "minorgridcolor": "white",
             "startlinecolor": "#2a3f5f"
            },
            "baxis": {
             "endlinecolor": "#2a3f5f",
             "gridcolor": "white",
             "linecolor": "white",
             "minorgridcolor": "white",
             "startlinecolor": "#2a3f5f"
            },
            "type": "carpet"
           }
          ],
          "choropleth": [
           {
            "colorbar": {
             "outlinewidth": 0,
             "ticks": ""
            },
            "type": "choropleth"
           }
          ],
          "contour": [
           {
            "colorbar": {
             "outlinewidth": 0,
             "ticks": ""
            },
            "colorscale": [
             [
              0,
              "#0d0887"
             ],
             [
              0.1111111111111111,
              "#46039f"
             ],
             [
              0.2222222222222222,
              "#7201a8"
             ],
             [
              0.3333333333333333,
              "#9c179e"
             ],
             [
              0.4444444444444444,
              "#bd3786"
             ],
             [
              0.5555555555555556,
              "#d8576b"
             ],
             [
              0.6666666666666666,
              "#ed7953"
             ],
             [
              0.7777777777777778,
              "#fb9f3a"
             ],
             [
              0.8888888888888888,
              "#fdca26"
             ],
             [
              1,
              "#f0f921"
             ]
            ],
            "type": "contour"
           }
          ],
          "contourcarpet": [
           {
            "colorbar": {
             "outlinewidth": 0,
             "ticks": ""
            },
            "type": "contourcarpet"
           }
          ],
          "heatmap": [
           {
            "colorbar": {
             "outlinewidth": 0,
             "ticks": ""
            },
            "colorscale": [
             [
              0,
              "#0d0887"
             ],
             [
              0.1111111111111111,
              "#46039f"
             ],
             [
              0.2222222222222222,
              "#7201a8"
             ],
             [
              0.3333333333333333,
              "#9c179e"
             ],
             [
              0.4444444444444444,
              "#bd3786"
             ],
             [
              0.5555555555555556,
              "#d8576b"
             ],
             [
              0.6666666666666666,
              "#ed7953"
             ],
             [
              0.7777777777777778,
              "#fb9f3a"
             ],
             [
              0.8888888888888888,
              "#fdca26"
             ],
             [
              1,
              "#f0f921"
             ]
            ],
            "type": "heatmap"
           }
          ],
          "heatmapgl": [
           {
            "colorbar": {
             "outlinewidth": 0,
             "ticks": ""
            },
            "colorscale": [
             [
              0,
              "#0d0887"
             ],
             [
              0.1111111111111111,
              "#46039f"
             ],
             [
              0.2222222222222222,
              "#7201a8"
             ],
             [
              0.3333333333333333,
              "#9c179e"
             ],
             [
              0.4444444444444444,
              "#bd3786"
             ],
             [
              0.5555555555555556,
              "#d8576b"
             ],
             [
              0.6666666666666666,
              "#ed7953"
             ],
             [
              0.7777777777777778,
              "#fb9f3a"
             ],
             [
              0.8888888888888888,
              "#fdca26"
             ],
             [
              1,
              "#f0f921"
             ]
            ],
            "type": "heatmapgl"
           }
          ],
          "histogram": [
           {
            "marker": {
             "pattern": {
              "fillmode": "overlay",
              "size": 10,
              "solidity": 0.2
             }
            },
            "type": "histogram"
           }
          ],
          "histogram2d": [
           {
            "colorbar": {
             "outlinewidth": 0,
             "ticks": ""
            },
            "colorscale": [
             [
              0,
              "#0d0887"
             ],
             [
              0.1111111111111111,
              "#46039f"
             ],
             [
              0.2222222222222222,
              "#7201a8"
             ],
             [
              0.3333333333333333,
              "#9c179e"
             ],
             [
              0.4444444444444444,
              "#bd3786"
             ],
             [
              0.5555555555555556,
              "#d8576b"
             ],
             [
              0.6666666666666666,
              "#ed7953"
             ],
             [
              0.7777777777777778,
              "#fb9f3a"
             ],
             [
              0.8888888888888888,
              "#fdca26"
             ],
             [
              1,
              "#f0f921"
             ]
            ],
            "type": "histogram2d"
           }
          ],
          "histogram2dcontour": [
           {
            "colorbar": {
             "outlinewidth": 0,
             "ticks": ""
            },
            "colorscale": [
             [
              0,
              "#0d0887"
             ],
             [
              0.1111111111111111,
              "#46039f"
             ],
             [
              0.2222222222222222,
              "#7201a8"
             ],
             [
              0.3333333333333333,
              "#9c179e"
             ],
             [
              0.4444444444444444,
              "#bd3786"
             ],
             [
              0.5555555555555556,
              "#d8576b"
             ],
             [
              0.6666666666666666,
              "#ed7953"
             ],
             [
              0.7777777777777778,
              "#fb9f3a"
             ],
             [
              0.8888888888888888,
              "#fdca26"
             ],
             [
              1,
              "#f0f921"
             ]
            ],
            "type": "histogram2dcontour"
           }
          ],
          "mesh3d": [
           {
            "colorbar": {
             "outlinewidth": 0,
             "ticks": ""
            },
            "type": "mesh3d"
           }
          ],
          "parcoords": [
           {
            "line": {
             "colorbar": {
              "outlinewidth": 0,
              "ticks": ""
             }
            },
            "type": "parcoords"
           }
          ],
          "pie": [
           {
            "automargin": true,
            "type": "pie"
           }
          ],
          "scatter": [
           {
            "marker": {
             "colorbar": {
              "outlinewidth": 0,
              "ticks": ""
             }
            },
            "type": "scatter"
           }
          ],
          "scatter3d": [
           {
            "line": {
             "colorbar": {
              "outlinewidth": 0,
              "ticks": ""
             }
            },
            "marker": {
             "colorbar": {
              "outlinewidth": 0,
              "ticks": ""
             }
            },
            "type": "scatter3d"
           }
          ],
          "scattercarpet": [
           {
            "marker": {
             "colorbar": {
              "outlinewidth": 0,
              "ticks": ""
             }
            },
            "type": "scattercarpet"
           }
          ],
          "scattergeo": [
           {
            "marker": {
             "colorbar": {
              "outlinewidth": 0,
              "ticks": ""
             }
            },
            "type": "scattergeo"
           }
          ],
          "scattergl": [
           {
            "marker": {
             "colorbar": {
              "outlinewidth": 0,
              "ticks": ""
             }
            },
            "type": "scattergl"
           }
          ],
          "scattermapbox": [
           {
            "marker": {
             "colorbar": {
              "outlinewidth": 0,
              "ticks": ""
             }
            },
            "type": "scattermapbox"
           }
          ],
          "scatterpolar": [
           {
            "marker": {
             "colorbar": {
              "outlinewidth": 0,
              "ticks": ""
             }
            },
            "type": "scatterpolar"
           }
          ],
          "scatterpolargl": [
           {
            "marker": {
             "colorbar": {
              "outlinewidth": 0,
              "ticks": ""
             }
            },
            "type": "scatterpolargl"
           }
          ],
          "scatterternary": [
           {
            "marker": {
             "colorbar": {
              "outlinewidth": 0,
              "ticks": ""
             }
            },
            "type": "scatterternary"
           }
          ],
          "surface": [
           {
            "colorbar": {
             "outlinewidth": 0,
             "ticks": ""
            },
            "colorscale": [
             [
              0,
              "#0d0887"
             ],
             [
              0.1111111111111111,
              "#46039f"
             ],
             [
              0.2222222222222222,
              "#7201a8"
             ],
             [
              0.3333333333333333,
              "#9c179e"
             ],
             [
              0.4444444444444444,
              "#bd3786"
             ],
             [
              0.5555555555555556,
              "#d8576b"
             ],
             [
              0.6666666666666666,
              "#ed7953"
             ],
             [
              0.7777777777777778,
              "#fb9f3a"
             ],
             [
              0.8888888888888888,
              "#fdca26"
             ],
             [
              1,
              "#f0f921"
             ]
            ],
            "type": "surface"
           }
          ],
          "table": [
           {
            "cells": {
             "fill": {
              "color": "#EBF0F8"
             },
             "line": {
              "color": "white"
             }
            },
            "header": {
             "fill": {
              "color": "#C8D4E3"
             },
             "line": {
              "color": "white"
             }
            },
            "type": "table"
           }
          ]
         },
         "layout": {
          "annotationdefaults": {
           "arrowcolor": "#2a3f5f",
           "arrowhead": 0,
           "arrowwidth": 1
          },
          "autotypenumbers": "strict",
          "coloraxis": {
           "colorbar": {
            "outlinewidth": 0,
            "ticks": ""
           }
          },
          "colorscale": {
           "diverging": [
            [
             0,
             "#8e0152"
            ],
            [
             0.1,
             "#c51b7d"
            ],
            [
             0.2,
             "#de77ae"
            ],
            [
             0.3,
             "#f1b6da"
            ],
            [
             0.4,
             "#fde0ef"
            ],
            [
             0.5,
             "#f7f7f7"
            ],
            [
             0.6,
             "#e6f5d0"
            ],
            [
             0.7,
             "#b8e186"
            ],
            [
             0.8,
             "#7fbc41"
            ],
            [
             0.9,
             "#4d9221"
            ],
            [
             1,
             "#276419"
            ]
           ],
           "sequential": [
            [
             0,
             "#0d0887"
            ],
            [
             0.1111111111111111,
             "#46039f"
            ],
            [
             0.2222222222222222,
             "#7201a8"
            ],
            [
             0.3333333333333333,
             "#9c179e"
            ],
            [
             0.4444444444444444,
             "#bd3786"
            ],
            [
             0.5555555555555556,
             "#d8576b"
            ],
            [
             0.6666666666666666,
             "#ed7953"
            ],
            [
             0.7777777777777778,
             "#fb9f3a"
            ],
            [
             0.8888888888888888,
             "#fdca26"
            ],
            [
             1,
             "#f0f921"
            ]
           ],
           "sequentialminus": [
            [
             0,
             "#0d0887"
            ],
            [
             0.1111111111111111,
             "#46039f"
            ],
            [
             0.2222222222222222,
             "#7201a8"
            ],
            [
             0.3333333333333333,
             "#9c179e"
            ],
            [
             0.4444444444444444,
             "#bd3786"
            ],
            [
             0.5555555555555556,
             "#d8576b"
            ],
            [
             0.6666666666666666,
             "#ed7953"
            ],
            [
             0.7777777777777778,
             "#fb9f3a"
            ],
            [
             0.8888888888888888,
             "#fdca26"
            ],
            [
             1,
             "#f0f921"
            ]
           ]
          },
          "colorway": [
           "#636efa",
           "#EF553B",
           "#00cc96",
           "#ab63fa",
           "#FFA15A",
           "#19d3f3",
           "#FF6692",
           "#B6E880",
           "#FF97FF",
           "#FECB52"
          ],
          "font": {
           "color": "#2a3f5f"
          },
          "geo": {
           "bgcolor": "white",
           "lakecolor": "white",
           "landcolor": "#E5ECF6",
           "showlakes": true,
           "showland": true,
           "subunitcolor": "white"
          },
          "hoverlabel": {
           "align": "left"
          },
          "hovermode": "closest",
          "mapbox": {
           "style": "light"
          },
          "paper_bgcolor": "white",
          "plot_bgcolor": "#E5ECF6",
          "polar": {
           "angularaxis": {
            "gridcolor": "white",
            "linecolor": "white",
            "ticks": ""
           },
           "bgcolor": "#E5ECF6",
           "radialaxis": {
            "gridcolor": "white",
            "linecolor": "white",
            "ticks": ""
           }
          },
          "scene": {
           "xaxis": {
            "backgroundcolor": "#E5ECF6",
            "gridcolor": "white",
            "gridwidth": 2,
            "linecolor": "white",
            "showbackground": true,
            "ticks": "",
            "zerolinecolor": "white"
           },
           "yaxis": {
            "backgroundcolor": "#E5ECF6",
            "gridcolor": "white",
            "gridwidth": 2,
            "linecolor": "white",
            "showbackground": true,
            "ticks": "",
            "zerolinecolor": "white"
           },
           "zaxis": {
            "backgroundcolor": "#E5ECF6",
            "gridcolor": "white",
            "gridwidth": 2,
            "linecolor": "white",
            "showbackground": true,
            "ticks": "",
            "zerolinecolor": "white"
           }
          },
          "shapedefaults": {
           "line": {
            "color": "#2a3f5f"
           }
          },
          "ternary": {
           "aaxis": {
            "gridcolor": "white",
            "linecolor": "white",
            "ticks": ""
           },
           "baxis": {
            "gridcolor": "white",
            "linecolor": "white",
            "ticks": ""
           },
           "bgcolor": "#E5ECF6",
           "caxis": {
            "gridcolor": "white",
            "linecolor": "white",
            "ticks": ""
           }
          },
          "title": {
           "x": 0.05
          },
          "xaxis": {
           "automargin": true,
           "gridcolor": "white",
           "linecolor": "white",
           "ticks": "",
           "title": {
            "standoff": 15
           },
           "zerolinecolor": "white",
           "zerolinewidth": 2
          },
          "yaxis": {
           "automargin": true,
           "gridcolor": "white",
           "linecolor": "white",
           "ticks": "",
           "title": {
            "standoff": 15
           },
           "zerolinecolor": "white",
           "zerolinewidth": 2
          }
         }
        }
       }
      },
      "text/html": [
       "<div>                            <div id=\"94d4b0b5-37a6-4dba-9c74-1f18135649dd\" class=\"plotly-graph-div\" style=\"height:525px; width:100%;\"></div>            <script type=\"text/javascript\">                require([\"plotly\"], function(Plotly) {                    window.PLOTLYENV=window.PLOTLYENV || {};                                    if (document.getElementById(\"94d4b0b5-37a6-4dba-9c74-1f18135649dd\")) {                    Plotly.newPlot(                        \"94d4b0b5-37a6-4dba-9c74-1f18135649dd\",                        [{\"colorbar\":{\"title\":{\"text\":\"Climate<br>Protection<br>Score\"}},\"colorscale\":[[0.0,\"rgb(0,0,0)\"],[0.3333333333333333,\"rgb(230,0,0)\"],[0.6666666666666666,\"rgb(255,210,0)\"],[1.0,\"rgb(255,255,255)\"]],\"customdata\":[[\"Denmark\",76.67,1,4.522],[\"Sweden\",74.22,2,3.826],[\"Norway\",73.29,3,7.615],[\"United Kingdom\",73.09,4,4.855],[\"Morocco\",71.6,5,1.748],[\"India\",69.2,7,1.769],[\"Lithuania\",64.89,8,5.069],[\"Malta\",64.18,9,3.612],[\"Germany\",63.53,10,7.69],[\"Finland\",62.41,11,7.091],[\"Switzerland\",61.7,12,3.732],[\"Portugal\",61.11,13,3.961],[\"France\",61.01,14,4.238],[\"Luxembourg\",60.8,15,13.059],[\"Netherlands\",60.44,16,8.06],[\"Ukraine\",60.4,17,4.891],[\"Egypt\",59.74,18,2.086],[\"Philippines\",58.98,20,1.241],[\"Greece\",58.22,21,5.012],[\"Colombia\",57.87,22,1.751],[\"Latvia\",57.73,23,3.591],[\"Indonesia\",57.17,24,2.155],[\"Mexico\",56.05,25,2.769],[\"Croatia\",55.96,26,4.137],[\"Italy\",55.39,27,5.025],[\"Thailand\",55.01,28,3.693],[\"Estonia\",54.98,29,7.88],[\"Brazil\",54.86,30,2.199],[\"Spain\",54.35,31,4.468],[\"New Zealand\",54.03,32,6.942],[\"Romania\",52.43,33,3.715],[\"Austria\",52.35,34,6.732],[\"China\",52.2,35,7.412],[\"South Africa\",51.13,36,7.62],[\"Slovak Republic\",50.67,37,5.629],[\"Turkey\",50.53,38,4.657],[\"Cyprus\",50.52,39,5.38],[\"Viet Nam\",49.21,40,2.613],[\"Bulgaria\",48.71,41,5.389],[\"Japan\",48.53,42,8.15],[\"Ireland\",47.86,43,6.754],[\"Argentina\",47.08,44,3.473],[\"Belarus\",46.66,45,6.079],[\"Belgium\",45.9,46,7.226],[\"Slovenia\",43.28,47,6.043],[\"Czech Republic\",42.15,48,8.215],[\"Poland\",40.63,49,7.916],[\"Hungary\",40.41,50,4.997],[\"Algeria\",39.91,51,3.535],[\"United States\",37.39,52,14.238],[\"Russian Federation\",34.73,53,10.807],[\"Malaysia\",33.74,54,8.423],[\"Australia\",30.06,56,15.368],[\"Korea\",26.74,57,11.656],[\"Canada\",26.03,58,14.197],[\"Islamic Republic of Iran\",25.66,59,8.87],[\"Saudi Arabia\",24.25,60,17.967],[\"Kazakhstan\",19.23,61,15.516]],\"hovertemplate\":\"%{customdata[0]} (%{locations})<br>CCPI Score: %{customdata[1]}<br>CCPI Rank: %{customdata[2]}<br>CO2 Emissions Per Capita: %{customdata[3]}\",\"locations\":[\"DNK\",\"SWE\",\"NOR\",\"GBR\",\"MAR\",\"IND\",\"LTU\",\"MLT\",\"DEU\",\"FIN\",\"CHE\",\"PRT\",\"FRA\",\"LUX\",\"NLD\",\"UKR\",\"EGY\",\"PHL\",\"GRC\",\"COL\",\"LVA\",\"IDN\",\"MEX\",\"HRV\",\"ITA\",\"THA\",\"EST\",\"BRA\",\"ESP\",\"NZL\",\"ROU\",\"AUT\",\"CHN\",\"ZAF\",\"SVK\",\"TUR\",\"CYP\",\"VNM\",\"BGR\",\"JPN\",\"IRL\",\"ARG\",\"BLR\",\"BEL\",\"SVN\",\"CZE\",\"POL\",\"HUN\",\"DZA\",\"USA\",\"RUS\",\"MYS\",\"AUS\",\"KOR\",\"CAN\",\"IRN\",\"SAU\",\"KAZ\"],\"marker\":{\"line\":{\"width\":0.1}},\"z\":[76.67,74.22,73.29,73.09,71.6,69.2,64.89,64.18,63.53,62.41,61.7,61.11,61.01,60.8,60.44,60.4,59.74,58.98,58.22,57.87,57.73,57.17,56.05,55.96,55.39,55.01,54.98,54.86,54.35,54.03,52.43,52.35,52.2,51.13,50.67,50.53,50.52,49.21,48.71,48.53,47.86,47.08,46.66,45.9,43.28,42.15,40.63,40.41,39.91,37.39,34.73,33.74,30.06,26.74,26.03,25.66,24.25,19.23],\"type\":\"choropleth\"}],                        {\"geo\":{\"projection\":{\"type\":\"natural earth\"},\"showcoastlines\":false},\"margin\":{\"b\":0,\"l\":0,\"r\":0,\"t\":0},\"template\":{\"data\":{\"bar\":[{\"error_x\":{\"color\":\"#2a3f5f\"},\"error_y\":{\"color\":\"#2a3f5f\"},\"marker\":{\"line\":{\"color\":\"#E5ECF6\",\"width\":0.5},\"pattern\":{\"fillmode\":\"overlay\",\"size\":10,\"solidity\":0.2}},\"type\":\"bar\"}],\"barpolar\":[{\"marker\":{\"line\":{\"color\":\"#E5ECF6\",\"width\":0.5},\"pattern\":{\"fillmode\":\"overlay\",\"size\":10,\"solidity\":0.2}},\"type\":\"barpolar\"}],\"carpet\":[{\"aaxis\":{\"endlinecolor\":\"#2a3f5f\",\"gridcolor\":\"white\",\"linecolor\":\"white\",\"minorgridcolor\":\"white\",\"startlinecolor\":\"#2a3f5f\"},\"baxis\":{\"endlinecolor\":\"#2a3f5f\",\"gridcolor\":\"white\",\"linecolor\":\"white\",\"minorgridcolor\":\"white\",\"startlinecolor\":\"#2a3f5f\"},\"type\":\"carpet\"}],\"choropleth\":[{\"colorbar\":{\"outlinewidth\":0,\"ticks\":\"\"},\"type\":\"choropleth\"}],\"contour\":[{\"colorbar\":{\"outlinewidth\":0,\"ticks\":\"\"},\"colorscale\":[[0.0,\"#0d0887\"],[0.1111111111111111,\"#46039f\"],[0.2222222222222222,\"#7201a8\"],[0.3333333333333333,\"#9c179e\"],[0.4444444444444444,\"#bd3786\"],[0.5555555555555556,\"#d8576b\"],[0.6666666666666666,\"#ed7953\"],[0.7777777777777778,\"#fb9f3a\"],[0.8888888888888888,\"#fdca26\"],[1.0,\"#f0f921\"]],\"type\":\"contour\"}],\"contourcarpet\":[{\"colorbar\":{\"outlinewidth\":0,\"ticks\":\"\"},\"type\":\"contourcarpet\"}],\"heatmap\":[{\"colorbar\":{\"outlinewidth\":0,\"ticks\":\"\"},\"colorscale\":[[0.0,\"#0d0887\"],[0.1111111111111111,\"#46039f\"],[0.2222222222222222,\"#7201a8\"],[0.3333333333333333,\"#9c179e\"],[0.4444444444444444,\"#bd3786\"],[0.5555555555555556,\"#d8576b\"],[0.6666666666666666,\"#ed7953\"],[0.7777777777777778,\"#fb9f3a\"],[0.8888888888888888,\"#fdca26\"],[1.0,\"#f0f921\"]],\"type\":\"heatmap\"}],\"heatmapgl\":[{\"colorbar\":{\"outlinewidth\":0,\"ticks\":\"\"},\"colorscale\":[[0.0,\"#0d0887\"],[0.1111111111111111,\"#46039f\"],[0.2222222222222222,\"#7201a8\"],[0.3333333333333333,\"#9c179e\"],[0.4444444444444444,\"#bd3786\"],[0.5555555555555556,\"#d8576b\"],[0.6666666666666666,\"#ed7953\"],[0.7777777777777778,\"#fb9f3a\"],[0.8888888888888888,\"#fdca26\"],[1.0,\"#f0f921\"]],\"type\":\"heatmapgl\"}],\"histogram\":[{\"marker\":{\"pattern\":{\"fillmode\":\"overlay\",\"size\":10,\"solidity\":0.2}},\"type\":\"histogram\"}],\"histogram2d\":[{\"colorbar\":{\"outlinewidth\":0,\"ticks\":\"\"},\"colorscale\":[[0.0,\"#0d0887\"],[0.1111111111111111,\"#46039f\"],[0.2222222222222222,\"#7201a8\"],[0.3333333333333333,\"#9c179e\"],[0.4444444444444444,\"#bd3786\"],[0.5555555555555556,\"#d8576b\"],[0.6666666666666666,\"#ed7953\"],[0.7777777777777778,\"#fb9f3a\"],[0.8888888888888888,\"#fdca26\"],[1.0,\"#f0f921\"]],\"type\":\"histogram2d\"}],\"histogram2dcontour\":[{\"colorbar\":{\"outlinewidth\":0,\"ticks\":\"\"},\"colorscale\":[[0.0,\"#0d0887\"],[0.1111111111111111,\"#46039f\"],[0.2222222222222222,\"#7201a8\"],[0.3333333333333333,\"#9c179e\"],[0.4444444444444444,\"#bd3786\"],[0.5555555555555556,\"#d8576b\"],[0.6666666666666666,\"#ed7953\"],[0.7777777777777778,\"#fb9f3a\"],[0.8888888888888888,\"#fdca26\"],[1.0,\"#f0f921\"]],\"type\":\"histogram2dcontour\"}],\"mesh3d\":[{\"colorbar\":{\"outlinewidth\":0,\"ticks\":\"\"},\"type\":\"mesh3d\"}],\"parcoords\":[{\"line\":{\"colorbar\":{\"outlinewidth\":0,\"ticks\":\"\"}},\"type\":\"parcoords\"}],\"pie\":[{\"automargin\":true,\"type\":\"pie\"}],\"scatter\":[{\"marker\":{\"colorbar\":{\"outlinewidth\":0,\"ticks\":\"\"}},\"type\":\"scatter\"}],\"scatter3d\":[{\"line\":{\"colorbar\":{\"outlinewidth\":0,\"ticks\":\"\"}},\"marker\":{\"colorbar\":{\"outlinewidth\":0,\"ticks\":\"\"}},\"type\":\"scatter3d\"}],\"scattercarpet\":[{\"marker\":{\"colorbar\":{\"outlinewidth\":0,\"ticks\":\"\"}},\"type\":\"scattercarpet\"}],\"scattergeo\":[{\"marker\":{\"colorbar\":{\"outlinewidth\":0,\"ticks\":\"\"}},\"type\":\"scattergeo\"}],\"scattergl\":[{\"marker\":{\"colorbar\":{\"outlinewidth\":0,\"ticks\":\"\"}},\"type\":\"scattergl\"}],\"scattermapbox\":[{\"marker\":{\"colorbar\":{\"outlinewidth\":0,\"ticks\":\"\"}},\"type\":\"scattermapbox\"}],\"scatterpolar\":[{\"marker\":{\"colorbar\":{\"outlinewidth\":0,\"ticks\":\"\"}},\"type\":\"scatterpolar\"}],\"scatterpolargl\":[{\"marker\":{\"colorbar\":{\"outlinewidth\":0,\"ticks\":\"\"}},\"type\":\"scatterpolargl\"}],\"scatterternary\":[{\"marker\":{\"colorbar\":{\"outlinewidth\":0,\"ticks\":\"\"}},\"type\":\"scatterternary\"}],\"surface\":[{\"colorbar\":{\"outlinewidth\":0,\"ticks\":\"\"},\"colorscale\":[[0.0,\"#0d0887\"],[0.1111111111111111,\"#46039f\"],[0.2222222222222222,\"#7201a8\"],[0.3333333333333333,\"#9c179e\"],[0.4444444444444444,\"#bd3786\"],[0.5555555555555556,\"#d8576b\"],[0.6666666666666666,\"#ed7953\"],[0.7777777777777778,\"#fb9f3a\"],[0.8888888888888888,\"#fdca26\"],[1.0,\"#f0f921\"]],\"type\":\"surface\"}],\"table\":[{\"cells\":{\"fill\":{\"color\":\"#EBF0F8\"},\"line\":{\"color\":\"white\"}},\"header\":{\"fill\":{\"color\":\"#C8D4E3\"},\"line\":{\"color\":\"white\"}},\"type\":\"table\"}]},\"layout\":{\"annotationdefaults\":{\"arrowcolor\":\"#2a3f5f\",\"arrowhead\":0,\"arrowwidth\":1},\"autotypenumbers\":\"strict\",\"coloraxis\":{\"colorbar\":{\"outlinewidth\":0,\"ticks\":\"\"}},\"colorscale\":{\"diverging\":[[0,\"#8e0152\"],[0.1,\"#c51b7d\"],[0.2,\"#de77ae\"],[0.3,\"#f1b6da\"],[0.4,\"#fde0ef\"],[0.5,\"#f7f7f7\"],[0.6,\"#e6f5d0\"],[0.7,\"#b8e186\"],[0.8,\"#7fbc41\"],[0.9,\"#4d9221\"],[1,\"#276419\"]],\"sequential\":[[0.0,\"#0d0887\"],[0.1111111111111111,\"#46039f\"],[0.2222222222222222,\"#7201a8\"],[0.3333333333333333,\"#9c179e\"],[0.4444444444444444,\"#bd3786\"],[0.5555555555555556,\"#d8576b\"],[0.6666666666666666,\"#ed7953\"],[0.7777777777777778,\"#fb9f3a\"],[0.8888888888888888,\"#fdca26\"],[1.0,\"#f0f921\"]],\"sequentialminus\":[[0.0,\"#0d0887\"],[0.1111111111111111,\"#46039f\"],[0.2222222222222222,\"#7201a8\"],[0.3333333333333333,\"#9c179e\"],[0.4444444444444444,\"#bd3786\"],[0.5555555555555556,\"#d8576b\"],[0.6666666666666666,\"#ed7953\"],[0.7777777777777778,\"#fb9f3a\"],[0.8888888888888888,\"#fdca26\"],[1.0,\"#f0f921\"]]},\"colorway\":[\"#636efa\",\"#EF553B\",\"#00cc96\",\"#ab63fa\",\"#FFA15A\",\"#19d3f3\",\"#FF6692\",\"#B6E880\",\"#FF97FF\",\"#FECB52\"],\"font\":{\"color\":\"#2a3f5f\"},\"geo\":{\"bgcolor\":\"white\",\"lakecolor\":\"white\",\"landcolor\":\"#E5ECF6\",\"showlakes\":true,\"showland\":true,\"subunitcolor\":\"white\"},\"hoverlabel\":{\"align\":\"left\"},\"hovermode\":\"closest\",\"mapbox\":{\"style\":\"light\"},\"paper_bgcolor\":\"white\",\"plot_bgcolor\":\"#E5ECF6\",\"polar\":{\"angularaxis\":{\"gridcolor\":\"white\",\"linecolor\":\"white\",\"ticks\":\"\"},\"bgcolor\":\"#E5ECF6\",\"radialaxis\":{\"gridcolor\":\"white\",\"linecolor\":\"white\",\"ticks\":\"\"}},\"scene\":{\"xaxis\":{\"backgroundcolor\":\"#E5ECF6\",\"gridcolor\":\"white\",\"gridwidth\":2,\"linecolor\":\"white\",\"showbackground\":true,\"ticks\":\"\",\"zerolinecolor\":\"white\"},\"yaxis\":{\"backgroundcolor\":\"#E5ECF6\",\"gridcolor\":\"white\",\"gridwidth\":2,\"linecolor\":\"white\",\"showbackground\":true,\"ticks\":\"\",\"zerolinecolor\":\"white\"},\"zaxis\":{\"backgroundcolor\":\"#E5ECF6\",\"gridcolor\":\"white\",\"gridwidth\":2,\"linecolor\":\"white\",\"showbackground\":true,\"ticks\":\"\",\"zerolinecolor\":\"white\"}},\"shapedefaults\":{\"line\":{\"color\":\"#2a3f5f\"}},\"ternary\":{\"aaxis\":{\"gridcolor\":\"white\",\"linecolor\":\"white\",\"ticks\":\"\"},\"baxis\":{\"gridcolor\":\"white\",\"linecolor\":\"white\",\"ticks\":\"\"},\"bgcolor\":\"#E5ECF6\",\"caxis\":{\"gridcolor\":\"white\",\"linecolor\":\"white\",\"ticks\":\"\"}},\"title\":{\"x\":0.05},\"xaxis\":{\"automargin\":true,\"gridcolor\":\"white\",\"linecolor\":\"white\",\"ticks\":\"\",\"title\":{\"standoff\":15},\"zerolinecolor\":\"white\",\"zerolinewidth\":2},\"yaxis\":{\"automargin\":true,\"gridcolor\":\"white\",\"linecolor\":\"white\",\"ticks\":\"\",\"title\":{\"standoff\":15},\"zerolinecolor\":\"white\",\"zerolinewidth\":2}}}},                        {\"responsive\": true}                    ).then(function(){\n",
       "                            \n",
       "var gd = document.getElementById('94d4b0b5-37a6-4dba-9c74-1f18135649dd');\n",
       "var x = new MutationObserver(function (mutations, observer) {{\n",
       "        var display = window.getComputedStyle(gd).display;\n",
       "        if (!display || display === 'none') {{\n",
       "            console.log([gd, 'removed!']);\n",
       "            Plotly.purge(gd);\n",
       "            observer.disconnect();\n",
       "        }}\n",
       "}});\n",
       "\n",
       "// Listen for the removal of the full notebook cells\n",
       "var notebookContainer = gd.closest('#notebook-container');\n",
       "if (notebookContainer) {{\n",
       "    x.observe(notebookContainer, {childList: true});\n",
       "}}\n",
       "\n",
       "// Listen for the clearing of the current output cell\n",
       "var outputEl = gd.closest('.output');\n",
       "if (outputEl) {{\n",
       "    x.observe(outputEl, {childList: true});\n",
       "}}\n",
       "\n",
       "                        })                };                });            </script>        </div>"
      ]
     },
     "metadata": {},
     "output_type": "display_data"
    }
   ],
   "source": [
    "fig = go.Figure(\n",
    "    data=[go.Choropleth( \n",
    "        locations=ccpi_emissions[\"iso\"], \n",
    "        z=ccpi_emissions[\"score\"],  # Color values\n",
    "        # Setting template for custom data in hover text\n",
    "        hovertemplate=\"<br>\".join([\n",
    "            \"%{customdata[0]} (%{locations})\", \n",
    "            \"CCPI Score: %{customdata[1]}\",\n",
    "            \"CCPI Rank: %{customdata[2]}\",\n",
    "            \"CO2 Emissions Per Capita: %{customdata[3]}\"\n",
    "        ]),\n",
    "        colorscale=\"Hot\",\n",
    "        colorbar_title=\"Climate<br>Protection<br>Score\",\n",
    "        marker_line_width=0.1,\n",
    "        # Custom data that will be included in hover text\n",
    "        customdata=ccpi_emissions[[\"country\", \"score\", \"rank\", \"co2_per_capita\"]]\n",
    "    )\n",
    "    ],\n",
    "    layout=go.Layout(\n",
    "        margin={\"r\":0,\"t\":0,\"l\":0,\"b\":0},\n",
    "        geo={\n",
    "            \"projection_type\": \"natural earth\",\n",
    "            \"showcoastlines\": False,\n",
    "            \n",
    "        }\n",
    "    )\n",
    ")\n",
    "\n",
    "fig.show()"
   ]
  }
 ],
 "metadata": {
  "kernelspec": {
   "display_name": "Python 3",
   "language": "python",
   "name": "python3"
  },
  "language_info": {
   "codemirror_mode": {
    "name": "ipython",
    "version": 3
   },
   "file_extension": ".py",
   "mimetype": "text/x-python",
   "name": "python",
   "nbconvert_exporter": "python",
   "pygments_lexer": "ipython3",
   "version": "3.8.13"
  }
 },
 "nbformat": 4,
 "nbformat_minor": 5
}

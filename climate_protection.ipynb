{
 "cells": [
  {
   "cell_type": "markdown",
   "id": "5d83ec93",
   "metadata": {},
   "source": [
    "# Climate Protection Actions Around the World\n",
    "\n",
    "Looking at climate change performance index via https://en.wikipedia.org/wiki/Climate_Change_Performance_Index#2022_results\n",
    "\n",
    "Goal: Produce interactive map that allows for comparison of climate change index across countries as well as more information about what specifically is contributing to to climate change and what needs to be altered."
   ]
  },
  {
   "cell_type": "code",
   "execution_count": 1,
   "id": "a8ae50e4",
   "metadata": {},
   "outputs": [],
   "source": [
    "import pandas as pd\n",
    "import plotly.express as px\n",
    "import plotly.graph_objects as go"
   ]
  },
  {
   "cell_type": "markdown",
   "id": "715fe834",
   "metadata": {},
   "source": [
    "## Data Importing, Cleaning, and Preparation"
   ]
  },
  {
   "cell_type": "markdown",
   "id": "fe1afa2a",
   "metadata": {},
   "source": [
    "### Loading Base Data\n",
    "\n",
    "Base data contains the 2022 Climate Change Performance Index results from  https://en.wikipedia.org/wiki/Climate_Change_Performance_Index#2022_results"
   ]
  },
  {
   "cell_type": "code",
   "execution_count": 2,
   "id": "720a1502",
   "metadata": {},
   "outputs": [
    {
     "data": {
      "text/html": [
       "<div>\n",
       "<style scoped>\n",
       "    .dataframe tbody tr th:only-of-type {\n",
       "        vertical-align: middle;\n",
       "    }\n",
       "\n",
       "    .dataframe tbody tr th {\n",
       "        vertical-align: top;\n",
       "    }\n",
       "\n",
       "    .dataframe thead th {\n",
       "        text-align: right;\n",
       "    }\n",
       "</style>\n",
       "<table border=\"1\" class=\"dataframe\">\n",
       "  <thead>\n",
       "    <tr style=\"text-align: right;\">\n",
       "      <th></th>\n",
       "      <th>rank</th>\n",
       "      <th>country</th>\n",
       "      <th>iso</th>\n",
       "      <th>score</th>\n",
       "    </tr>\n",
       "  </thead>\n",
       "  <tbody>\n",
       "    <tr>\n",
       "      <th>0</th>\n",
       "      <td>1</td>\n",
       "      <td>Denmark</td>\n",
       "      <td>DNK</td>\n",
       "      <td>76.67</td>\n",
       "    </tr>\n",
       "    <tr>\n",
       "      <th>1</th>\n",
       "      <td>2</td>\n",
       "      <td>Sweden</td>\n",
       "      <td>SWE</td>\n",
       "      <td>74.22</td>\n",
       "    </tr>\n",
       "    <tr>\n",
       "      <th>2</th>\n",
       "      <td>3</td>\n",
       "      <td>Norway</td>\n",
       "      <td>NOR</td>\n",
       "      <td>73.29</td>\n",
       "    </tr>\n",
       "    <tr>\n",
       "      <th>3</th>\n",
       "      <td>4</td>\n",
       "      <td>United Kingdom</td>\n",
       "      <td>GBR</td>\n",
       "      <td>73.09</td>\n",
       "    </tr>\n",
       "    <tr>\n",
       "      <th>4</th>\n",
       "      <td>5</td>\n",
       "      <td>Morocco</td>\n",
       "      <td>MAR</td>\n",
       "      <td>71.60</td>\n",
       "    </tr>\n",
       "  </tbody>\n",
       "</table>\n",
       "</div>"
      ],
      "text/plain": [
       "   rank         country  iso  score\n",
       "0     1         Denmark  DNK  76.67\n",
       "1     2          Sweden  SWE  74.22\n",
       "2     3          Norway  NOR  73.29\n",
       "3     4  United Kingdom  GBR  73.09\n",
       "4     5         Morocco  MAR  71.60"
      ]
     },
     "execution_count": 2,
     "metadata": {},
     "output_type": "execute_result"
    }
   ],
   "source": [
    "# Remove all rows with NaN values because all information is necessary\n",
    "ccpi = pd.read_csv(\"data/ccpi.csv\").dropna()\n",
    "ccpi.head()"
   ]
  },
  {
   "cell_type": "markdown",
   "id": "dd068b31",
   "metadata": {},
   "source": [
    "### Importing Emissions Data\n",
    "\n",
    "Emissions data contains information about different gasseous emissions ranging from 1750 to 2020 and is from https://www.kaggle.com/datasets/danielrpdias/co2-and-greenhouse-gas-emissions"
   ]
  },
  {
   "cell_type": "code",
   "execution_count": 3,
   "id": "7f4a08e8",
   "metadata": {},
   "outputs": [
    {
     "data": {
      "text/html": [
       "<div>\n",
       "<style scoped>\n",
       "    .dataframe tbody tr th:only-of-type {\n",
       "        vertical-align: middle;\n",
       "    }\n",
       "\n",
       "    .dataframe tbody tr th {\n",
       "        vertical-align: top;\n",
       "    }\n",
       "\n",
       "    .dataframe thead th {\n",
       "        text-align: right;\n",
       "    }\n",
       "</style>\n",
       "<table border=\"1\" class=\"dataframe\">\n",
       "  <thead>\n",
       "    <tr style=\"text-align: right;\">\n",
       "      <th></th>\n",
       "      <th>iso_code</th>\n",
       "      <th>country</th>\n",
       "      <th>year</th>\n",
       "      <th>co2</th>\n",
       "      <th>consumption_co2</th>\n",
       "      <th>co2_growth_prct</th>\n",
       "      <th>co2_growth_abs</th>\n",
       "      <th>trade_co2</th>\n",
       "      <th>co2_per_capita</th>\n",
       "      <th>consumption_co2_per_capita</th>\n",
       "      <th>...</th>\n",
       "      <th>ghg_per_capita</th>\n",
       "      <th>methane</th>\n",
       "      <th>methane_per_capita</th>\n",
       "      <th>nitrous_oxide</th>\n",
       "      <th>nitrous_oxide_per_capita</th>\n",
       "      <th>population</th>\n",
       "      <th>gdp</th>\n",
       "      <th>primary_energy_consumption</th>\n",
       "      <th>energy_per_capita</th>\n",
       "      <th>energy_per_gdp</th>\n",
       "    </tr>\n",
       "  </thead>\n",
       "  <tbody>\n",
       "    <tr>\n",
       "      <th>0</th>\n",
       "      <td>AFG</td>\n",
       "      <td>Afghanistan</td>\n",
       "      <td>1949</td>\n",
       "      <td>0.015</td>\n",
       "      <td>NaN</td>\n",
       "      <td>NaN</td>\n",
       "      <td>NaN</td>\n",
       "      <td>NaN</td>\n",
       "      <td>0.002</td>\n",
       "      <td>NaN</td>\n",
       "      <td>...</td>\n",
       "      <td>NaN</td>\n",
       "      <td>NaN</td>\n",
       "      <td>NaN</td>\n",
       "      <td>NaN</td>\n",
       "      <td>NaN</td>\n",
       "      <td>7624058.0</td>\n",
       "      <td>NaN</td>\n",
       "      <td>NaN</td>\n",
       "      <td>NaN</td>\n",
       "      <td>NaN</td>\n",
       "    </tr>\n",
       "    <tr>\n",
       "      <th>1</th>\n",
       "      <td>AFG</td>\n",
       "      <td>Afghanistan</td>\n",
       "      <td>1950</td>\n",
       "      <td>0.084</td>\n",
       "      <td>NaN</td>\n",
       "      <td>475.0</td>\n",
       "      <td>0.070</td>\n",
       "      <td>NaN</td>\n",
       "      <td>0.011</td>\n",
       "      <td>NaN</td>\n",
       "      <td>...</td>\n",
       "      <td>NaN</td>\n",
       "      <td>NaN</td>\n",
       "      <td>NaN</td>\n",
       "      <td>NaN</td>\n",
       "      <td>NaN</td>\n",
       "      <td>7752117.0</td>\n",
       "      <td>9.421400e+09</td>\n",
       "      <td>NaN</td>\n",
       "      <td>NaN</td>\n",
       "      <td>NaN</td>\n",
       "    </tr>\n",
       "    <tr>\n",
       "      <th>2</th>\n",
       "      <td>AFG</td>\n",
       "      <td>Afghanistan</td>\n",
       "      <td>1951</td>\n",
       "      <td>0.092</td>\n",
       "      <td>NaN</td>\n",
       "      <td>8.7</td>\n",
       "      <td>0.007</td>\n",
       "      <td>NaN</td>\n",
       "      <td>0.012</td>\n",
       "      <td>NaN</td>\n",
       "      <td>...</td>\n",
       "      <td>NaN</td>\n",
       "      <td>NaN</td>\n",
       "      <td>NaN</td>\n",
       "      <td>NaN</td>\n",
       "      <td>NaN</td>\n",
       "      <td>7840151.0</td>\n",
       "      <td>9.692280e+09</td>\n",
       "      <td>NaN</td>\n",
       "      <td>NaN</td>\n",
       "      <td>NaN</td>\n",
       "    </tr>\n",
       "    <tr>\n",
       "      <th>3</th>\n",
       "      <td>AFG</td>\n",
       "      <td>Afghanistan</td>\n",
       "      <td>1952</td>\n",
       "      <td>0.092</td>\n",
       "      <td>NaN</td>\n",
       "      <td>0.0</td>\n",
       "      <td>0.000</td>\n",
       "      <td>NaN</td>\n",
       "      <td>0.012</td>\n",
       "      <td>NaN</td>\n",
       "      <td>...</td>\n",
       "      <td>NaN</td>\n",
       "      <td>NaN</td>\n",
       "      <td>NaN</td>\n",
       "      <td>NaN</td>\n",
       "      <td>NaN</td>\n",
       "      <td>7935996.0</td>\n",
       "      <td>1.001732e+10</td>\n",
       "      <td>NaN</td>\n",
       "      <td>NaN</td>\n",
       "      <td>NaN</td>\n",
       "    </tr>\n",
       "    <tr>\n",
       "      <th>4</th>\n",
       "      <td>AFG</td>\n",
       "      <td>Afghanistan</td>\n",
       "      <td>1953</td>\n",
       "      <td>0.106</td>\n",
       "      <td>NaN</td>\n",
       "      <td>16.0</td>\n",
       "      <td>0.015</td>\n",
       "      <td>NaN</td>\n",
       "      <td>0.013</td>\n",
       "      <td>NaN</td>\n",
       "      <td>...</td>\n",
       "      <td>NaN</td>\n",
       "      <td>NaN</td>\n",
       "      <td>NaN</td>\n",
       "      <td>NaN</td>\n",
       "      <td>NaN</td>\n",
       "      <td>8039684.0</td>\n",
       "      <td>1.063052e+10</td>\n",
       "      <td>NaN</td>\n",
       "      <td>NaN</td>\n",
       "      <td>NaN</td>\n",
       "    </tr>\n",
       "  </tbody>\n",
       "</table>\n",
       "<p>5 rows × 58 columns</p>\n",
       "</div>"
      ],
      "text/plain": [
       "  iso_code      country  year    co2  consumption_co2  co2_growth_prct  \\\n",
       "0      AFG  Afghanistan  1949  0.015              NaN              NaN   \n",
       "1      AFG  Afghanistan  1950  0.084              NaN            475.0   \n",
       "2      AFG  Afghanistan  1951  0.092              NaN              8.7   \n",
       "3      AFG  Afghanistan  1952  0.092              NaN              0.0   \n",
       "4      AFG  Afghanistan  1953  0.106              NaN             16.0   \n",
       "\n",
       "   co2_growth_abs  trade_co2  co2_per_capita  consumption_co2_per_capita  ...  \\\n",
       "0             NaN        NaN           0.002                         NaN  ...   \n",
       "1           0.070        NaN           0.011                         NaN  ...   \n",
       "2           0.007        NaN           0.012                         NaN  ...   \n",
       "3           0.000        NaN           0.012                         NaN  ...   \n",
       "4           0.015        NaN           0.013                         NaN  ...   \n",
       "\n",
       "   ghg_per_capita  methane  methane_per_capita  nitrous_oxide  \\\n",
       "0             NaN      NaN                 NaN            NaN   \n",
       "1             NaN      NaN                 NaN            NaN   \n",
       "2             NaN      NaN                 NaN            NaN   \n",
       "3             NaN      NaN                 NaN            NaN   \n",
       "4             NaN      NaN                 NaN            NaN   \n",
       "\n",
       "   nitrous_oxide_per_capita  population           gdp  \\\n",
       "0                       NaN   7624058.0           NaN   \n",
       "1                       NaN   7752117.0  9.421400e+09   \n",
       "2                       NaN   7840151.0  9.692280e+09   \n",
       "3                       NaN   7935996.0  1.001732e+10   \n",
       "4                       NaN   8039684.0  1.063052e+10   \n",
       "\n",
       "   primary_energy_consumption  energy_per_capita  energy_per_gdp  \n",
       "0                         NaN                NaN             NaN  \n",
       "1                         NaN                NaN             NaN  \n",
       "2                         NaN                NaN             NaN  \n",
       "3                         NaN                NaN             NaN  \n",
       "4                         NaN                NaN             NaN  \n",
       "\n",
       "[5 rows x 58 columns]"
      ]
     },
     "execution_count": 3,
     "metadata": {},
     "output_type": "execute_result"
    }
   ],
   "source": [
    "# Drop rows where an ISO Code is not provided as they cannot be used on visualization\n",
    "emissions = pd.read_csv(\"data/emissions.csv\").dropna(subset=[\"iso_code\"])\n",
    "emissions.head()"
   ]
  },
  {
   "cell_type": "code",
   "execution_count": 4,
   "id": "9840ddd0",
   "metadata": {},
   "outputs": [
    {
     "data": {
      "text/html": [
       "<div>\n",
       "<style scoped>\n",
       "    .dataframe tbody tr th:only-of-type {\n",
       "        vertical-align: middle;\n",
       "    }\n",
       "\n",
       "    .dataframe tbody tr th {\n",
       "        vertical-align: top;\n",
       "    }\n",
       "\n",
       "    .dataframe thead th {\n",
       "        text-align: right;\n",
       "    }\n",
       "</style>\n",
       "<table border=\"1\" class=\"dataframe\">\n",
       "  <thead>\n",
       "    <tr style=\"text-align: right;\">\n",
       "      <th></th>\n",
       "      <th>iso_code</th>\n",
       "      <th>country</th>\n",
       "      <th>year</th>\n",
       "      <th>co2</th>\n",
       "      <th>consumption_co2</th>\n",
       "      <th>co2_growth_prct</th>\n",
       "      <th>co2_growth_abs</th>\n",
       "      <th>trade_co2</th>\n",
       "      <th>co2_per_capita</th>\n",
       "      <th>consumption_co2_per_capita</th>\n",
       "      <th>...</th>\n",
       "      <th>cumulative_gas_co2</th>\n",
       "      <th>cumulative_oil_co2</th>\n",
       "      <th>cumulative_other_co2</th>\n",
       "      <th>share_global_cumulative_cement_co2</th>\n",
       "      <th>share_global_cumulative_coal_co2</th>\n",
       "      <th>share_global_cumulative_flaring_co2</th>\n",
       "      <th>share_global_cumulative_gas_co2</th>\n",
       "      <th>share_global_cumulative_oil_co2</th>\n",
       "      <th>share_global_cumulative_other_co2</th>\n",
       "      <th>population</th>\n",
       "    </tr>\n",
       "  </thead>\n",
       "  <tbody>\n",
       "    <tr>\n",
       "      <th>0</th>\n",
       "      <td>AFG</td>\n",
       "      <td>Afghanistan</td>\n",
       "      <td>2020</td>\n",
       "      <td>12.160</td>\n",
       "      <td>NaN</td>\n",
       "      <td>0.11</td>\n",
       "      <td>0.014</td>\n",
       "      <td>NaN</td>\n",
       "      <td>0.312</td>\n",
       "      <td>NaN</td>\n",
       "      <td>...</td>\n",
       "      <td>20.150</td>\n",
       "      <td>103.833</td>\n",
       "      <td>NaN</td>\n",
       "      <td>0.01</td>\n",
       "      <td>0.01</td>\n",
       "      <td>NaN</td>\n",
       "      <td>0.01</td>\n",
       "      <td>0.02</td>\n",
       "      <td>NaN</td>\n",
       "      <td>38928341.0</td>\n",
       "    </tr>\n",
       "    <tr>\n",
       "      <th>1</th>\n",
       "      <td>ALB</td>\n",
       "      <td>Albania</td>\n",
       "      <td>2020</td>\n",
       "      <td>4.535</td>\n",
       "      <td>NaN</td>\n",
       "      <td>-6.76</td>\n",
       "      <td>-0.329</td>\n",
       "      <td>NaN</td>\n",
       "      <td>1.576</td>\n",
       "      <td>NaN</td>\n",
       "      <td>...</td>\n",
       "      <td>16.602</td>\n",
       "      <td>182.453</td>\n",
       "      <td>NaN</td>\n",
       "      <td>0.05</td>\n",
       "      <td>0.01</td>\n",
       "      <td>NaN</td>\n",
       "      <td>0.01</td>\n",
       "      <td>0.03</td>\n",
       "      <td>NaN</td>\n",
       "      <td>2877800.0</td>\n",
       "    </tr>\n",
       "    <tr>\n",
       "      <th>2</th>\n",
       "      <td>DZA</td>\n",
       "      <td>Algeria</td>\n",
       "      <td>2020</td>\n",
       "      <td>154.995</td>\n",
       "      <td>NaN</td>\n",
       "      <td>-6.99</td>\n",
       "      <td>-11.646</td>\n",
       "      <td>NaN</td>\n",
       "      <td>3.535</td>\n",
       "      <td>NaN</td>\n",
       "      <td>...</td>\n",
       "      <td>2062.656</td>\n",
       "      <td>1590.074</td>\n",
       "      <td>NaN</td>\n",
       "      <td>0.53</td>\n",
       "      <td>0.01</td>\n",
       "      <td>3.31</td>\n",
       "      <td>0.84</td>\n",
       "      <td>0.27</td>\n",
       "      <td>NaN</td>\n",
       "      <td>43851043.0</td>\n",
       "    </tr>\n",
       "    <tr>\n",
       "      <th>3</th>\n",
       "      <td>AND</td>\n",
       "      <td>Andorra</td>\n",
       "      <td>2020</td>\n",
       "      <td>0.466</td>\n",
       "      <td>NaN</td>\n",
       "      <td>-7.08</td>\n",
       "      <td>-0.036</td>\n",
       "      <td>NaN</td>\n",
       "      <td>6.035</td>\n",
       "      <td>NaN</td>\n",
       "      <td>...</td>\n",
       "      <td>NaN</td>\n",
       "      <td>15.071</td>\n",
       "      <td>NaN</td>\n",
       "      <td>NaN</td>\n",
       "      <td>NaN</td>\n",
       "      <td>NaN</td>\n",
       "      <td>NaN</td>\n",
       "      <td>0.00</td>\n",
       "      <td>NaN</td>\n",
       "      <td>77265.0</td>\n",
       "    </tr>\n",
       "    <tr>\n",
       "      <th>4</th>\n",
       "      <td>AGO</td>\n",
       "      <td>Angola</td>\n",
       "      <td>2020</td>\n",
       "      <td>22.198</td>\n",
       "      <td>NaN</td>\n",
       "      <td>-5.49</td>\n",
       "      <td>-1.289</td>\n",
       "      <td>NaN</td>\n",
       "      <td>0.675</td>\n",
       "      <td>NaN</td>\n",
       "      <td>...</td>\n",
       "      <td>40.780</td>\n",
       "      <td>324.439</td>\n",
       "      <td>NaN</td>\n",
       "      <td>0.06</td>\n",
       "      <td>NaN</td>\n",
       "      <td>1.62</td>\n",
       "      <td>0.02</td>\n",
       "      <td>0.05</td>\n",
       "      <td>NaN</td>\n",
       "      <td>32866267.0</td>\n",
       "    </tr>\n",
       "  </tbody>\n",
       "</table>\n",
       "<p>5 rows × 45 columns</p>\n",
       "</div>"
      ],
      "text/plain": [
       "  iso_code      country  year      co2  consumption_co2  co2_growth_prct  \\\n",
       "0      AFG  Afghanistan  2020   12.160              NaN             0.11   \n",
       "1      ALB      Albania  2020    4.535              NaN            -6.76   \n",
       "2      DZA      Algeria  2020  154.995              NaN            -6.99   \n",
       "3      AND      Andorra  2020    0.466              NaN            -7.08   \n",
       "4      AGO       Angola  2020   22.198              NaN            -5.49   \n",
       "\n",
       "   co2_growth_abs  trade_co2  co2_per_capita  consumption_co2_per_capita  ...  \\\n",
       "0           0.014        NaN           0.312                         NaN  ...   \n",
       "1          -0.329        NaN           1.576                         NaN  ...   \n",
       "2         -11.646        NaN           3.535                         NaN  ...   \n",
       "3          -0.036        NaN           6.035                         NaN  ...   \n",
       "4          -1.289        NaN           0.675                         NaN  ...   \n",
       "\n",
       "   cumulative_gas_co2  cumulative_oil_co2  cumulative_other_co2  \\\n",
       "0              20.150             103.833                   NaN   \n",
       "1              16.602             182.453                   NaN   \n",
       "2            2062.656            1590.074                   NaN   \n",
       "3                 NaN              15.071                   NaN   \n",
       "4              40.780             324.439                   NaN   \n",
       "\n",
       "   share_global_cumulative_cement_co2  share_global_cumulative_coal_co2  \\\n",
       "0                                0.01                              0.01   \n",
       "1                                0.05                              0.01   \n",
       "2                                0.53                              0.01   \n",
       "3                                 NaN                               NaN   \n",
       "4                                0.06                               NaN   \n",
       "\n",
       "   share_global_cumulative_flaring_co2  share_global_cumulative_gas_co2  \\\n",
       "0                                  NaN                             0.01   \n",
       "1                                  NaN                             0.01   \n",
       "2                                 3.31                             0.84   \n",
       "3                                  NaN                              NaN   \n",
       "4                                 1.62                             0.02   \n",
       "\n",
       "   share_global_cumulative_oil_co2  share_global_cumulative_other_co2  \\\n",
       "0                             0.02                                NaN   \n",
       "1                             0.03                                NaN   \n",
       "2                             0.27                                NaN   \n",
       "3                             0.00                                NaN   \n",
       "4                             0.05                                NaN   \n",
       "\n",
       "   population  \n",
       "0  38928341.0  \n",
       "1   2877800.0  \n",
       "2  43851043.0  \n",
       "3     77265.0  \n",
       "4  32866267.0  \n",
       "\n",
       "[5 rows x 45 columns]"
      ]
     },
     "execution_count": 4,
     "metadata": {},
     "output_type": "execute_result"
    }
   ],
   "source": [
    "# Query only most recent available year of emissions\n",
    "# Reset index and drop columns where all values are NaN\n",
    "emissions_last = emissions[emissions[\"year\"] == max(emissions[\"year\"])].reset_index(drop=True).dropna(axis=\"columns\", how=\"all\")\n",
    "emissions_last.head()"
   ]
  },
  {
   "cell_type": "code",
   "execution_count": 5,
   "id": "3b5fcaea",
   "metadata": {},
   "outputs": [
    {
     "data": {
      "text/plain": [
       "['iso_code',\n",
       " 'country',\n",
       " 'year',\n",
       " 'co2',\n",
       " 'consumption_co2',\n",
       " 'co2_growth_prct',\n",
       " 'co2_growth_abs',\n",
       " 'trade_co2',\n",
       " 'co2_per_capita',\n",
       " 'consumption_co2_per_capita',\n",
       " 'share_global_co2',\n",
       " 'cumulative_co2',\n",
       " 'share_global_cumulative_co2',\n",
       " 'coal_co2',\n",
       " 'cement_co2',\n",
       " 'flaring_co2',\n",
       " 'gas_co2',\n",
       " 'oil_co2',\n",
       " 'other_industry_co2',\n",
       " 'cement_co2_per_capita',\n",
       " 'coal_co2_per_capita',\n",
       " 'flaring_co2_per_capita',\n",
       " 'gas_co2_per_capita',\n",
       " 'oil_co2_per_capita',\n",
       " 'other_co2_per_capita',\n",
       " 'trade_co2_share',\n",
       " 'share_global_cement_co2',\n",
       " 'share_global_coal_co2',\n",
       " 'share_global_flaring_co2',\n",
       " 'share_global_gas_co2',\n",
       " 'share_global_oil_co2',\n",
       " 'share_global_other_co2',\n",
       " 'cumulative_cement_co2',\n",
       " 'cumulative_coal_co2',\n",
       " 'cumulative_flaring_co2',\n",
       " 'cumulative_gas_co2',\n",
       " 'cumulative_oil_co2',\n",
       " 'cumulative_other_co2',\n",
       " 'share_global_cumulative_cement_co2',\n",
       " 'share_global_cumulative_coal_co2',\n",
       " 'share_global_cumulative_flaring_co2',\n",
       " 'share_global_cumulative_gas_co2',\n",
       " 'share_global_cumulative_oil_co2',\n",
       " 'share_global_cumulative_other_co2',\n",
       " 'population']"
      ]
     },
     "execution_count": 5,
     "metadata": {},
     "output_type": "execute_result"
    }
   ],
   "source": [
    "list(emissions_last.columns)"
   ]
  },
  {
   "cell_type": "markdown",
   "id": "0f6a8403",
   "metadata": {},
   "source": [
    "### Feature Engineering"
   ]
  },
  {
   "cell_type": "code",
   "execution_count": 39,
   "id": "e89a7e4b",
   "metadata": {},
   "outputs": [],
   "source": [
    "# Generate primary emissions source column\n",
    "primary_source = []\n",
    "primary_source_num = [] # Must include numeric representation because go.Choropleth does not allow for discrete/categorical color scales\n",
    "\n",
    "for index, row in emissions_last.iterrows():\n",
    "    sources = [\"coal_co2\", \"gas_co2\", \"flaring_co2\", \"oil_co2\", \"cement_co2\", \"other_industry_co2\"]\n",
    "    \n",
    "    # Generate dictionaries of values enumerations\n",
    "    values = {key: row[key] for key in sources}\n",
    "    nums = {key: i for i, key in enumerate(sources)}\n",
    "    \n",
    "    # Append data\n",
    "    primary_source.append(max(values, key = values.get)[:-4].title())\n",
    "    primary_source_num.append(nums.get(primary_source[-1].lower() + \"_co2\"))\n",
    "    \n",
    "emissions_last[\"primary_co2_source\"] = primary_source\n",
    "emissions_last[\"primary_co2_source_num\"] = primary_source_num"
   ]
  },
  {
   "cell_type": "markdown",
   "id": "82e0e3fb",
   "metadata": {},
   "source": [
    "### Joining Data Sources"
   ]
  },
  {
   "cell_type": "code",
   "execution_count": 58,
   "id": "211b8c7d",
   "metadata": {
    "scrolled": true
   },
   "outputs": [
    {
     "data": {
      "text/html": [
       "<div>\n",
       "<style scoped>\n",
       "    .dataframe tbody tr th:only-of-type {\n",
       "        vertical-align: middle;\n",
       "    }\n",
       "\n",
       "    .dataframe tbody tr th {\n",
       "        vertical-align: top;\n",
       "    }\n",
       "\n",
       "    .dataframe thead th {\n",
       "        text-align: right;\n",
       "    }\n",
       "</style>\n",
       "<table border=\"1\" class=\"dataframe\">\n",
       "  <thead>\n",
       "    <tr style=\"text-align: right;\">\n",
       "      <th></th>\n",
       "      <th>rank</th>\n",
       "      <th>score</th>\n",
       "      <th>iso_code</th>\n",
       "      <th>country</th>\n",
       "      <th>year</th>\n",
       "      <th>co2</th>\n",
       "      <th>consumption_co2</th>\n",
       "      <th>co2_growth_prct</th>\n",
       "      <th>co2_growth_abs</th>\n",
       "      <th>trade_co2</th>\n",
       "      <th>...</th>\n",
       "      <th>cumulative_other_co2</th>\n",
       "      <th>share_global_cumulative_cement_co2</th>\n",
       "      <th>share_global_cumulative_coal_co2</th>\n",
       "      <th>share_global_cumulative_flaring_co2</th>\n",
       "      <th>share_global_cumulative_gas_co2</th>\n",
       "      <th>share_global_cumulative_oil_co2</th>\n",
       "      <th>share_global_cumulative_other_co2</th>\n",
       "      <th>population</th>\n",
       "      <th>primary_co2_source</th>\n",
       "      <th>primary_co2_source_num</th>\n",
       "    </tr>\n",
       "  </thead>\n",
       "  <tbody>\n",
       "    <tr>\n",
       "      <th>0</th>\n",
       "      <td>No Data</td>\n",
       "      <td>No Data</td>\n",
       "      <td>AFG</td>\n",
       "      <td>Afghanistan</td>\n",
       "      <td>2020</td>\n",
       "      <td>12.16</td>\n",
       "      <td>No Data</td>\n",
       "      <td>0.11</td>\n",
       "      <td>0.014</td>\n",
       "      <td>No Data</td>\n",
       "      <td>...</td>\n",
       "      <td>No Data</td>\n",
       "      <td>0.01</td>\n",
       "      <td>0.01</td>\n",
       "      <td>No Data</td>\n",
       "      <td>0.01</td>\n",
       "      <td>0.02</td>\n",
       "      <td>No Data</td>\n",
       "      <td>38928341.0</td>\n",
       "      <td>Coal</td>\n",
       "      <td>0</td>\n",
       "    </tr>\n",
       "    <tr>\n",
       "      <th>1</th>\n",
       "      <td>No Data</td>\n",
       "      <td>No Data</td>\n",
       "      <td>ALB</td>\n",
       "      <td>Albania</td>\n",
       "      <td>2020</td>\n",
       "      <td>4.535</td>\n",
       "      <td>No Data</td>\n",
       "      <td>-6.76</td>\n",
       "      <td>-0.329</td>\n",
       "      <td>No Data</td>\n",
       "      <td>...</td>\n",
       "      <td>No Data</td>\n",
       "      <td>0.05</td>\n",
       "      <td>0.01</td>\n",
       "      <td>No Data</td>\n",
       "      <td>0.01</td>\n",
       "      <td>0.03</td>\n",
       "      <td>No Data</td>\n",
       "      <td>2877800.0</td>\n",
       "      <td>Oil</td>\n",
       "      <td>3</td>\n",
       "    </tr>\n",
       "    <tr>\n",
       "      <th>2</th>\n",
       "      <td>51.0</td>\n",
       "      <td>39.91</td>\n",
       "      <td>DZA</td>\n",
       "      <td>Algeria</td>\n",
       "      <td>2020</td>\n",
       "      <td>154.995</td>\n",
       "      <td>No Data</td>\n",
       "      <td>-6.99</td>\n",
       "      <td>-11.646</td>\n",
       "      <td>No Data</td>\n",
       "      <td>...</td>\n",
       "      <td>No Data</td>\n",
       "      <td>0.53</td>\n",
       "      <td>0.01</td>\n",
       "      <td>3.31</td>\n",
       "      <td>0.84</td>\n",
       "      <td>0.27</td>\n",
       "      <td>No Data</td>\n",
       "      <td>43851043.0</td>\n",
       "      <td>Gas</td>\n",
       "      <td>1</td>\n",
       "    </tr>\n",
       "    <tr>\n",
       "      <th>3</th>\n",
       "      <td>No Data</td>\n",
       "      <td>No Data</td>\n",
       "      <td>AND</td>\n",
       "      <td>Andorra</td>\n",
       "      <td>2020</td>\n",
       "      <td>0.466</td>\n",
       "      <td>No Data</td>\n",
       "      <td>-7.08</td>\n",
       "      <td>-0.036</td>\n",
       "      <td>No Data</td>\n",
       "      <td>...</td>\n",
       "      <td>No Data</td>\n",
       "      <td>No Data</td>\n",
       "      <td>No Data</td>\n",
       "      <td>No Data</td>\n",
       "      <td>No Data</td>\n",
       "      <td>0.0</td>\n",
       "      <td>No Data</td>\n",
       "      <td>77265.0</td>\n",
       "      <td>Coal</td>\n",
       "      <td>0</td>\n",
       "    </tr>\n",
       "    <tr>\n",
       "      <th>4</th>\n",
       "      <td>No Data</td>\n",
       "      <td>No Data</td>\n",
       "      <td>AGO</td>\n",
       "      <td>Angola</td>\n",
       "      <td>2020</td>\n",
       "      <td>22.198</td>\n",
       "      <td>No Data</td>\n",
       "      <td>-5.49</td>\n",
       "      <td>-1.289</td>\n",
       "      <td>No Data</td>\n",
       "      <td>...</td>\n",
       "      <td>No Data</td>\n",
       "      <td>0.06</td>\n",
       "      <td>No Data</td>\n",
       "      <td>1.62</td>\n",
       "      <td>0.02</td>\n",
       "      <td>0.05</td>\n",
       "      <td>No Data</td>\n",
       "      <td>32866267.0</td>\n",
       "      <td>Coal</td>\n",
       "      <td>0</td>\n",
       "    </tr>\n",
       "  </tbody>\n",
       "</table>\n",
       "<p>5 rows × 49 columns</p>\n",
       "</div>"
      ],
      "text/plain": [
       "      rank    score iso_code      country  year      co2 consumption_co2  \\\n",
       "0  No Data  No Data      AFG  Afghanistan  2020    12.16         No Data   \n",
       "1  No Data  No Data      ALB      Albania  2020    4.535         No Data   \n",
       "2     51.0    39.91      DZA      Algeria  2020  154.995         No Data   \n",
       "3  No Data  No Data      AND      Andorra  2020    0.466         No Data   \n",
       "4  No Data  No Data      AGO       Angola  2020   22.198         No Data   \n",
       "\n",
       "   co2_growth_prct co2_growth_abs trade_co2  ... cumulative_other_co2  \\\n",
       "0             0.11          0.014   No Data  ...              No Data   \n",
       "1            -6.76         -0.329   No Data  ...              No Data   \n",
       "2            -6.99        -11.646   No Data  ...              No Data   \n",
       "3            -7.08         -0.036   No Data  ...              No Data   \n",
       "4            -5.49         -1.289   No Data  ...              No Data   \n",
       "\n",
       "  share_global_cumulative_cement_co2 share_global_cumulative_coal_co2  \\\n",
       "0                               0.01                             0.01   \n",
       "1                               0.05                             0.01   \n",
       "2                               0.53                             0.01   \n",
       "3                            No Data                          No Data   \n",
       "4                               0.06                          No Data   \n",
       "\n",
       "  share_global_cumulative_flaring_co2 share_global_cumulative_gas_co2  \\\n",
       "0                             No Data                            0.01   \n",
       "1                             No Data                            0.01   \n",
       "2                                3.31                            0.84   \n",
       "3                             No Data                         No Data   \n",
       "4                                1.62                            0.02   \n",
       "\n",
       "  share_global_cumulative_oil_co2 share_global_cumulative_other_co2  \\\n",
       "0                            0.02                           No Data   \n",
       "1                            0.03                           No Data   \n",
       "2                            0.27                           No Data   \n",
       "3                             0.0                           No Data   \n",
       "4                            0.05                           No Data   \n",
       "\n",
       "   population primary_co2_source primary_co2_source_num  \n",
       "0  38928341.0               Coal                      0  \n",
       "1   2877800.0                Oil                      3  \n",
       "2  43851043.0                Gas                      1  \n",
       "3     77265.0               Coal                      0  \n",
       "4  32866267.0               Coal                      0  \n",
       "\n",
       "[5 rows x 49 columns]"
      ]
     },
     "execution_count": 58,
     "metadata": {},
     "output_type": "execute_result"
    }
   ],
   "source": [
    "ccpi_emissions = ccpi.loc[:, ccpi.columns != \"country\"].merge(right=emissions_last, how=\"right\", left_on=\"iso\", right_on=\"iso_code\").drop(\"iso\", axis=1)\n",
    "ccpi_emissions.dropna(axis=\"columns\", how=\"all\", inplace=True)\n",
    "# Remove full world from dataset to avoid scaling issues\n",
    "ccpi_emissions = ccpi_emissions[(ccpi_emissions[\"country\"] != \"World\")]\n",
    "# Replace NaN values with \"No Data\" so that they can still be displayed in different hover texts\n",
    "ccpi_emissions = ccpi_emissions.fillna(\"No Data\")\n",
    "ccpi_emissions.head()"
   ]
  },
  {
   "cell_type": "markdown",
   "id": "11628d54",
   "metadata": {},
   "source": [
    "## Plotting Data"
   ]
  },
  {
   "cell_type": "markdown",
   "id": "e8a519ef",
   "metadata": {},
   "source": [
    "### Setting up Plotting Variables"
   ]
  },
  {
   "cell_type": "code",
   "execution_count": 59,
   "id": "eef642cc",
   "metadata": {},
   "outputs": [],
   "source": [
    "locations = ccpi_emissions[\"iso_code\"]\n",
    "\n",
    "hovertemplate = \"<br>\".join([\n",
    "    \"%{customdata[0]} (%{customdata[1]})\", \n",
    "    \"CCPI Score: %{customdata[2]}\",\n",
    "    \"CCPI Rank: %{customdata[3]}\",\n",
    "    \"CO2 Emissions per Capita: %{customdata[4]}\", \n",
    "    \"Global Share of CO2 Emissions: %{customdata[5]}\",\n",
    "    \"Primary CO2 Emissions Source: %{customdata[6]}\",\n",
    "    \"<extra></extra>\"\n",
    "])\n",
    "\n",
    "customdata = ccpi_emissions[[\n",
    "    \"country\", \n",
    "    \"iso_code\", \n",
    "    \"score\", \n",
    "    \"rank\", \n",
    "    \"co2_per_capita\", \n",
    "    \"share_global_co2\", \n",
    "    \"primary_co2_source\"\n",
    "]]"
   ]
  },
  {
   "cell_type": "markdown",
   "id": "308408de",
   "metadata": {},
   "source": [
    "### Generating Plot"
   ]
  },
  {
   "cell_type": "code",
   "execution_count": 60,
   "id": "71351841",
   "metadata": {},
   "outputs": [
    {
     "data": {
      "application/vnd.plotly.v1+json": {
       "config": {
        "plotlyServerURL": "https://plot.ly"
       },
       "data": [
        {
         "colorbar": {
          "title": {
           "text": "Climate<br>Protection<br>Score"
          }
         },
         "colorscale": [
          [
           0,
           "rgb(0,0,0)"
          ],
          [
           0.3333333333333333,
           "rgb(230,0,0)"
          ],
          [
           0.6666666666666666,
           "rgb(255,210,0)"
          ],
          [
           1,
           "rgb(255,255,255)"
          ]
         ],
         "customdata": [
          [
           "Afghanistan",
           "AFG",
           "No Data",
           "No Data",
           0.312,
           0.03,
           "Coal"
          ],
          [
           "Albania",
           "ALB",
           "No Data",
           "No Data",
           1.576,
           0.01,
           "Oil"
          ],
          [
           "Algeria",
           "DZA",
           39.91,
           51,
           3.535,
           0.45,
           "Gas"
          ],
          [
           "Andorra",
           "AND",
           "No Data",
           "No Data",
           6.035,
           0,
           "Coal"
          ],
          [
           "Angola",
           "AGO",
           "No Data",
           "No Data",
           0.675,
           0.06,
           "Coal"
          ],
          [
           "Anguilla",
           "AIA",
           "No Data",
           "No Data",
           8.227,
           0,
           "Coal"
          ],
          [
           "Antarctica",
           "ATA",
           "No Data",
           "No Data",
           "No Data",
           "No Data",
           "Coal"
          ],
          [
           "Antigua and Barbuda",
           "ATG",
           "No Data",
           "No Data",
           4.395,
           0,
           "Coal"
          ],
          [
           "Argentina",
           "ARG",
           47.08,
           44,
           3.473,
           0.45,
           "Gas"
          ],
          [
           "Armenia",
           "ARM",
           "No Data",
           "No Data",
           1.988,
           0.02,
           "Gas"
          ],
          [
           "Aruba",
           "ABW",
           "No Data",
           "No Data",
           7.055,
           0,
           "Coal"
          ],
          [
           "Australia",
           "AUS",
           30.06,
           56,
           15.368,
           1.13,
           "Coal"
          ],
          [
           "Austria",
           "AUT",
           52.35,
           34,
           6.732,
           0.17,
           "Oil"
          ],
          [
           "Azerbaijan",
           "AZE",
           "No Data",
           "No Data",
           3.72,
           0.11,
           "Gas"
          ],
          [
           "Bahamas",
           "BHS",
           "No Data",
           "No Data",
           5.945,
           0.01,
           "Oil"
          ],
          [
           "Bahrain",
           "BHR",
           "No Data",
           "No Data",
           20.546,
           0.1,
           "Coal"
          ],
          [
           "Bangladesh",
           "BGD",
           "No Data",
           "No Data",
           0.564,
           0.27,
           "Gas"
          ],
          [
           "Barbados",
           "BRB",
           "No Data",
           "No Data",
           3.782,
           0,
           "Coal"
          ],
          [
           "Belarus",
           "BLR",
           46.66,
           45,
           6.079,
           0.17,
           "Gas"
          ],
          [
           "Belgium",
           "BEL",
           45.9,
           46,
           7.226,
           0.24,
           "Gas"
          ],
          [
           "Belize",
           "BLZ",
           "No Data",
           "No Data",
           1.466,
           0,
           "Coal"
          ],
          [
           "Benin",
           "BEN",
           "No Data",
           "No Data",
           0.553,
           0.02,
           "Coal"
          ],
          [
           "Bermuda",
           "BMU",
           "No Data",
           "No Data",
           10.028,
           0,
           "Oil"
          ],
          [
           "Bhutan",
           "BTN",
           "No Data",
           "No Data",
           2.495,
           0.01,
           "Coal"
          ],
          [
           "Bolivia",
           "BOL",
           "No Data",
           "No Data",
           1.773,
           0.06,
           "Oil"
          ],
          [
           "Bonaire Sint Eustatius and Saba",
           "BES",
           "No Data",
           "No Data",
           11.466,
           0,
           "Coal"
          ],
          [
           "Bosnia and Herzegovina",
           "BIH",
           "No Data",
           "No Data",
           6.528,
           0.06,
           "Coal"
          ],
          [
           "Botswana",
           "BWA",
           "No Data",
           "No Data",
           2.772,
           0.02,
           "Coal"
          ],
          [
           "Brazil",
           "BRA",
           54.86,
           30,
           2.199,
           1.34,
           "Oil"
          ],
          [
           "British Virgin Islands",
           "VGB",
           "No Data",
           "No Data",
           4.605,
           0,
           "Coal"
          ],
          [
           "Brunei",
           "BRN",
           "No Data",
           "No Data",
           23.22,
           0.03,
           "Coal"
          ],
          [
           "Bulgaria",
           "BGR",
           48.71,
           41,
           5.389,
           0.11,
           "Coal"
          ],
          [
           "Burkina Faso",
           "BFA",
           "No Data",
           "No Data",
           0.19,
           0.01,
           "Coal"
          ],
          [
           "Burundi",
           "BDI",
           "No Data",
           "No Data",
           0.051,
           0,
           "Oil"
          ],
          [
           "Cambodia",
           "KHM",
           "No Data",
           "No Data",
           0.917,
           0.04,
           "Oil"
          ],
          [
           "Cameroon",
           "CMR",
           "No Data",
           "No Data",
           0.26,
           0.02,
           "Coal"
          ],
          [
           "Canada",
           "CAN",
           26.03,
           58,
           14.197,
           1.54,
           "Oil"
          ],
          [
           "Cape Verde",
           "CPV",
           "No Data",
           "No Data",
           0.989,
           0,
           "Coal"
          ],
          [
           "Central African Republic",
           "CAF",
           "No Data",
           "No Data",
           0.039,
           0,
           "Coal"
          ],
          [
           "Chad",
           "TCD",
           "No Data",
           "No Data",
           0.056,
           0,
           "Coal"
          ],
          [
           "Chile",
           "CHL",
           "No Data",
           "No Data",
           4.246,
           0.23,
           "Oil"
          ],
          [
           "China",
           "CHN",
           52.2,
           35,
           7.412,
           30.65,
           "Coal"
          ],
          [
           "Christmas Island",
           "CXR",
           "No Data",
           "No Data",
           "No Data",
           "No Data",
           "Coal"
          ],
          [
           "Colombia",
           "COL",
           57.87,
           22,
           1.751,
           0.26,
           "Oil"
          ],
          [
           "Comoros",
           "COM",
           "No Data",
           "No Data",
           0.297,
           0,
           "Coal"
          ],
          [
           "Congo",
           "COG",
           "No Data",
           "No Data",
           0.565,
           0.01,
           "Coal"
          ],
          [
           "Cook Islands",
           "COK",
           "No Data",
           "No Data",
           4.522,
           0,
           "Coal"
          ],
          [
           "Costa Rica",
           "CRI",
           "No Data",
           "No Data",
           1.552,
           0.02,
           "Coal"
          ],
          [
           "Cote d'Ivoire",
           "CIV",
           "No Data",
           "No Data",
           0.382,
           0.03,
           "Coal"
          ],
          [
           "Croatia",
           "HRV",
           55.96,
           26,
           4.137,
           0.05,
           "Oil"
          ],
          [
           "Cuba",
           "CUB",
           "No Data",
           "No Data",
           1.779,
           0.06,
           "Oil"
          ],
          [
           "Curacao",
           "CUW",
           "No Data",
           "No Data",
           20.323,
           0.01,
           "Coal"
          ],
          [
           "Cyprus",
           "CYP",
           50.52,
           39,
           5.38,
           0.02,
           "Oil"
          ],
          [
           "Czechia",
           "CZE",
           42.15,
           48,
           8.215,
           0.25,
           "Coal"
          ],
          [
           "Democratic Republic of Congo",
           "COD",
           "No Data",
           "No Data",
           0.028,
           0.01,
           "Coal"
          ],
          [
           "Denmark",
           "DNK",
           76.67,
           1,
           4.522,
           0.08,
           "Oil"
          ],
          [
           "Djibouti",
           "DJI",
           "No Data",
           "No Data",
           0.356,
           0,
           "Coal"
          ],
          [
           "Dominica",
           "DMA",
           "No Data",
           "No Data",
           1.934,
           0,
           "Coal"
          ],
          [
           "Dominican Republic",
           "DOM",
           "No Data",
           "No Data",
           2.56,
           0.08,
           "Oil"
          ],
          [
           "Ecuador",
           "ECU",
           "No Data",
           "No Data",
           1.753,
           0.09,
           "Coal"
          ],
          [
           "Egypt",
           "EGY",
           59.74,
           18,
           2.086,
           0.61,
           "Gas"
          ],
          [
           "El Salvador",
           "SLV",
           "No Data",
           "No Data",
           0.944,
           0.02,
           "Oil"
          ],
          [
           "Equatorial Guinea",
           "GNQ",
           "No Data",
           "No Data",
           7.317,
           0.03,
           "Coal"
          ],
          [
           "Eritrea",
           "ERI",
           "No Data",
           "No Data",
           0.204,
           0,
           "Coal"
          ],
          [
           "Estonia",
           "EST",
           54.98,
           29,
           7.88,
           0.03,
           "Coal"
          ],
          [
           "Eswatini",
           "SWZ",
           "No Data",
           "No Data",
           0.824,
           0,
           "Oil"
          ],
          [
           "Ethiopia",
           "ETH",
           "No Data",
           "No Data",
           0.128,
           0.04,
           "Oil"
          ],
          [
           "Faeroe Islands",
           "FRO",
           "No Data",
           "No Data",
           13.996,
           0,
           "Coal"
          ],
          [
           "Fiji",
           "FJI",
           "No Data",
           "No Data",
           1.554,
           0,
           "Coal"
          ],
          [
           "Finland",
           "FIN",
           62.41,
           11,
           7.091,
           0.11,
           "Oil"
          ],
          [
           "France",
           "FRA",
           61.01,
           14,
           4.238,
           0.79,
           "Oil"
          ],
          [
           "French Guiana",
           "GUF",
           "No Data",
           "No Data",
           2.439,
           0,
           "Coal"
          ],
          [
           "French Polynesia",
           "PYF",
           "No Data",
           "No Data",
           2.949,
           0,
           "Coal"
          ],
          [
           "Gabon",
           "GAB",
           "No Data",
           "No Data",
           1.931,
           0.01,
           "Coal"
          ],
          [
           "Gambia",
           "GMB",
           "No Data",
           "No Data",
           0.207,
           0,
           "Coal"
          ],
          [
           "Georgia",
           "GEO",
           "No Data",
           "No Data",
           2.499,
           0.03,
           "Gas"
          ],
          [
           "Germany",
           "DEU",
           63.53,
           10,
           7.69,
           1.85,
           "Oil"
          ],
          [
           "Ghana",
           "GHA",
           "No Data",
           "No Data",
           0.515,
           0.05,
           "Coal"
          ],
          [
           "Greece",
           "GRC",
           58.22,
           21,
           5.012,
           0.15,
           "Oil"
          ],
          [
           "Greenland",
           "GRL",
           "No Data",
           "No Data",
           9.061,
           0,
           "Coal"
          ],
          [
           "Grenada",
           "GRD",
           "No Data",
           "No Data",
           2.62,
           0,
           "Coal"
          ],
          [
           "Guadeloupe",
           "GLP",
           "No Data",
           "No Data",
           6.403,
           0.01,
           "Oil"
          ],
          [
           "Guatemala",
           "GTM",
           "No Data",
           "No Data",
           1.057,
           0.05,
           "Oil"
          ],
          [
           "Guinea",
           "GIN",
           "No Data",
           "No Data",
           0.258,
           0.01,
           "Coal"
          ],
          [
           "Guinea-Bissau",
           "GNB",
           "No Data",
           "No Data",
           0.146,
           0,
           "Coal"
          ],
          [
           "Guyana",
           "GUY",
           "No Data",
           "No Data",
           2.813,
           0.01,
           "Coal"
          ],
          [
           "Haiti",
           "HTI",
           "No Data",
           "No Data",
           0.256,
           0.01,
           "Coal"
          ],
          [
           "Honduras",
           "HND",
           "No Data",
           "No Data",
           0.975,
           0.03,
           "Coal"
          ],
          [
           "Hong Kong",
           "HKG",
           "No Data",
           "No Data",
           4.167,
           0.09,
           "Coal"
          ],
          [
           "Hungary",
           "HUN",
           40.41,
           50,
           4.997,
           0.14,
           "Gas"
          ],
          [
           "Iceland",
           "ISL",
           "No Data",
           "No Data",
           8.604,
           0.01,
           "Oil"
          ],
          [
           "India",
           "IND",
           69.2,
           7,
           1.769,
           7.02,
           "Coal"
          ],
          [
           "Indonesia",
           "IDN",
           57.17,
           24,
           2.155,
           1.69,
           "Coal"
          ],
          [
           "Iran",
           "IRN",
           25.66,
           59,
           8.87,
           2.14,
           "Gas"
          ],
          [
           "Iraq",
           "IRQ",
           "No Data",
           "No Data",
           5.242,
           0.61,
           "Coal"
          ],
          [
           "Ireland",
           "IRL",
           47.86,
           43,
           6.754,
           0.1,
           "Oil"
          ],
          [
           "Israel",
           "ISR",
           "No Data",
           "No Data",
           6.51,
           0.16,
           "Oil"
          ],
          [
           "Italy",
           "ITA",
           55.39,
           27,
           5.025,
           0.87,
           "Gas"
          ],
          [
           "Jamaica",
           "JAM",
           "No Data",
           "No Data",
           2.509,
           0.02,
           "Oil"
          ],
          [
           "Japan",
           "JPN",
           48.53,
           42,
           8.15,
           2.96,
           "Coal"
          ],
          [
           "Jordan",
           "JOR",
           "No Data",
           "No Data",
           2.498,
           0.07,
           "Oil"
          ],
          [
           "Kazakhstan",
           "KAZ",
           19.23,
           61,
           15.516,
           0.84,
           "Coal"
          ],
          [
           "Kenya",
           "KEN",
           "No Data",
           "No Data",
           0.3,
           0.05,
           "Oil"
          ],
          [
           "Kiribati",
           "KIR",
           "No Data",
           "No Data",
           0.57,
           0,
           "Coal"
          ],
          [
           "Kosovo",
           "OWID_KOS",
           "No Data",
           "No Data",
           "No Data",
           0.02,
           "Coal"
          ],
          [
           "Kuwait",
           "KWT",
           "No Data",
           "No Data",
           20.825,
           0.26,
           "Coal"
          ],
          [
           "Kyrgyzstan",
           "KGZ",
           "No Data",
           "No Data",
           1.764,
           0.03,
           "Oil"
          ],
          [
           "Laos",
           "LAO",
           "No Data",
           "No Data",
           4.652,
           0.1,
           "Coal"
          ],
          [
           "Latvia",
           "LVA",
           57.73,
           23,
           3.591,
           0.02,
           "Oil"
          ],
          [
           "Lebanon",
           "LBN",
           "No Data",
           "No Data",
           3.805,
           0.07,
           "Oil"
          ],
          [
           "Lesotho",
           "LSO",
           "No Data",
           "No Data",
           1.019,
           0.01,
           "Coal"
          ],
          [
           "Liberia",
           "LBR",
           "No Data",
           "No Data",
           0.2,
           0,
           "Coal"
          ],
          [
           "Libya",
           "LBY",
           "No Data",
           "No Data",
           7.382,
           0.15,
           "Coal"
          ],
          [
           "Liechtenstein",
           "LIE",
           "No Data",
           "No Data",
           3.698,
           0,
           "Coal"
          ],
          [
           "Lithuania",
           "LTU",
           64.89,
           8,
           5.069,
           0.04,
           "Oil"
          ],
          [
           "Luxembourg",
           "LUX",
           60.8,
           15,
           13.059,
           0.02,
           "Oil"
          ],
          [
           "Madagascar",
           "MDG",
           "No Data",
           "No Data",
           0.133,
           0.01,
           "Oil"
          ],
          [
           "Malawi",
           "MWI",
           "No Data",
           "No Data",
           0.073,
           0,
           "Oil"
          ],
          [
           "Malaysia",
           "MYS",
           33.74,
           54,
           8.423,
           0.78,
           "Coal"
          ],
          [
           "Maldives",
           "MDV",
           "No Data",
           "No Data",
           3.324,
           0.01,
           "Coal"
          ],
          [
           "Mali",
           "MLI",
           "No Data",
           "No Data",
           0.167,
           0.01,
           "Coal"
          ],
          [
           "Malta",
           "MLT",
           64.18,
           9,
           3.612,
           0,
           "Oil"
          ],
          [
           "Marshall Islands",
           "MHL",
           "No Data",
           "No Data",
           2.556,
           0,
           "Coal"
          ],
          [
           "Martinique",
           "MTQ",
           "No Data",
           "No Data",
           6.258,
           0.01,
           "Coal"
          ],
          [
           "Mauritania",
           "MRT",
           "No Data",
           "No Data",
           0.726,
           0.01,
           "Coal"
          ],
          [
           "Mauritius",
           "MUS",
           "No Data",
           "No Data",
           3.129,
           0.01,
           "Oil"
          ],
          [
           "Mayotte",
           "MYT",
           "No Data",
           "No Data",
           1.12,
           0,
           "Coal"
          ],
          [
           "Mexico",
           "MEX",
           56.05,
           25,
           2.769,
           1.03,
           "Oil"
          ],
          [
           "Moldova",
           "MDA",
           "No Data",
           "No Data",
           1.276,
           0.01,
           "Oil"
          ],
          [
           "Mongolia",
           "MNG",
           "No Data",
           "No Data",
           26.978,
           0.25,
           "Coal"
          ],
          [
           "Montenegro",
           "MNE",
           "No Data",
           "No Data",
           3.678,
           0.01,
           "Coal"
          ],
          [
           "Montserrat",
           "MSR",
           "No Data",
           "No Data",
           5.065,
           0,
           "Coal"
          ],
          [
           "Morocco",
           "MAR",
           71.6,
           5,
           1.748,
           0.19,
           "Oil"
          ],
          [
           "Mozambique",
           "MOZ",
           "No Data",
           "No Data",
           0.21,
           0.02,
           "Oil"
          ],
          [
           "Myanmar",
           "MMR",
           "No Data",
           "No Data",
           0.668,
           0.1,
           "Oil"
          ],
          [
           "Namibia",
           "NAM",
           "No Data",
           "No Data",
           1.526,
           0.01,
           "Oil"
          ],
          [
           "Nauru",
           "NRU",
           "No Data",
           "No Data",
           5.236,
           0,
           "Coal"
          ],
          [
           "Nepal",
           "NPL",
           "No Data",
           "No Data",
           0.582,
           0.05,
           "Oil"
          ],
          [
           "Netherlands",
           "NLD",
           60.44,
           16,
           8.06,
           0.4,
           "Gas"
          ],
          [
           "New Caledonia",
           "NCL",
           "No Data",
           "No Data",
           30.448,
           0.02,
           "Coal"
          ],
          [
           "New Zealand",
           "NZL",
           54.03,
           32,
           6.942,
           0.1,
           "Oil"
          ],
          [
           "Nicaragua",
           "NIC",
           "No Data",
           "No Data",
           0.766,
           0.01,
           "Coal"
          ],
          [
           "Niger",
           "NER",
           "No Data",
           "No Data",
           0.07,
           0,
           "Oil"
          ],
          [
           "Nigeria",
           "NGA",
           "No Data",
           "No Data",
           0.609,
           0.36,
           "Oil"
          ],
          [
           "Niue",
           "NIU",
           "No Data",
           "No Data",
           7.012,
           0,
           "Coal"
          ],
          [
           "North Korea",
           "PRK",
           "No Data",
           "No Data",
           1.137,
           0.08,
           "Coal"
          ],
          [
           "North Macedonia",
           "MKD",
           "No Data",
           "No Data",
           3.43,
           0.02,
           "Coal"
          ],
          [
           "Norway",
           "NOR",
           73.29,
           3,
           7.615,
           0.12,
           "Oil"
          ],
          [
           "Oman",
           "OMN",
           "No Data",
           "No Data",
           12.173,
           0.18,
           "Coal"
          ],
          [
           "Pakistan",
           "PAK",
           "No Data",
           "No Data",
           1.063,
           0.67,
           "Oil"
          ],
          [
           "Palau",
           "PLW",
           "No Data",
           "No Data",
           12.125,
           0,
           "Coal"
          ],
          [
           "Palestine",
           "PSE",
           "No Data",
           "No Data",
           0.568,
           0.01,
           "Coal"
          ],
          [
           "Panama",
           "PAN",
           "No Data",
           "No Data",
           2.498,
           0.03,
           "Oil"
          ],
          [
           "Papua New Guinea",
           "PNG",
           "No Data",
           "No Data",
           0.744,
           0.02,
           "Coal"
          ],
          [
           "Paraguay",
           "PRY",
           "No Data",
           "No Data",
           1.061,
           0.02,
           "Oil"
          ],
          [
           "Peru",
           "PER",
           "No Data",
           "No Data",
           1.356,
           0.13,
           "Oil"
          ],
          [
           "Philippines",
           "PHL",
           58.98,
           20,
           1.241,
           0.39,
           "Coal"
          ],
          [
           "Poland",
           "POL",
           40.63,
           49,
           7.916,
           0.86,
           "Coal"
          ],
          [
           "Portugal",
           "PRT",
           61.11,
           13,
           3.961,
           0.12,
           "Oil"
          ],
          [
           "Puerto Rico",
           "PRI",
           "No Data",
           "No Data",
           "No Data",
           "No Data",
           "Coal"
          ],
          [
           "Qatar",
           "QAT",
           "No Data",
           "No Data",
           37.019,
           0.31,
           "Coal"
          ],
          [
           "Romania",
           "ROU",
           52.43,
           33,
           3.715,
           0.21,
           "Oil"
          ],
          [
           "Russia",
           "RUS",
           34.73,
           53,
           10.807,
           4.53,
           "Gas"
          ],
          [
           "Rwanda",
           "RWA",
           "No Data",
           "No Data",
           0.08,
           0,
           "Oil"
          ],
          [
           "Saint Helena",
           "SHN",
           "No Data",
           "No Data",
           1.564,
           0,
           "Coal"
          ],
          [
           "Saint Kitts and Nevis",
           "KNA",
           "No Data",
           "No Data",
           3.986,
           0,
           "Coal"
          ],
          [
           "Saint Lucia",
           "LCA",
           "No Data",
           "No Data",
           2.396,
           0,
           "Coal"
          ],
          [
           "Saint Pierre and Miquelon",
           "SPM",
           "No Data",
           "No Data",
           8.738,
           0,
           "Coal"
          ],
          [
           "Saint Vincent and the Grenadines",
           "VCT",
           "No Data",
           "No Data",
           1.883,
           0,
           "Coal"
          ],
          [
           "Samoa",
           "WSM",
           "No Data",
           "No Data",
           1.239,
           0,
           "Coal"
          ],
          [
           "Sao Tome and Principe",
           "STP",
           "No Data",
           "No Data",
           0.514,
           0,
           "Coal"
          ],
          [
           "Saudi Arabia",
           "SAU",
           24.25,
           60,
           17.967,
           1.8,
           "Coal"
          ],
          [
           "Senegal",
           "SEN",
           "No Data",
           "No Data",
           0.624,
           0.03,
           "Oil"
          ],
          [
           "Serbia",
           "SRB",
           "No Data",
           "No Data",
           4.937,
           0.12,
           "Coal"
          ],
          [
           "Seychelles",
           "SYC",
           "No Data",
           "No Data",
           4.994,
           0,
           "Coal"
          ],
          [
           "Sierra Leone",
           "SLE",
           "No Data",
           "No Data",
           0.11,
           0,
           "Coal"
          ],
          [
           "Singapore",
           "SGP",
           "No Data",
           "No Data",
           7.778,
           0.13,
           "Oil"
          ],
          [
           "Sint Maarten (Dutch part)",
           "SXM",
           "No Data",
           "No Data",
           14.539,
           0,
           "Coal"
          ],
          [
           "Slovakia",
           "SVK",
           50.67,
           37,
           5.629,
           0.09,
           "Oil"
          ],
          [
           "Slovenia",
           "SVN",
           43.28,
           47,
           6.043,
           0.04,
           "Oil"
          ],
          [
           "Solomon Islands",
           "SLB",
           "No Data",
           "No Data",
           0.435,
           0,
           "Coal"
          ],
          [
           "Somalia",
           "SOM",
           "No Data",
           "No Data",
           0.035,
           0,
           "Coal"
          ],
          [
           "South Africa",
           "ZAF",
           51.13,
           36,
           7.62,
           1.3,
           "Coal"
          ],
          [
           "South Korea",
           "KOR",
           26.74,
           57,
           11.656,
           1.72,
           "Coal"
          ],
          [
           "South Sudan",
           "SSD",
           "No Data",
           "No Data",
           0.105,
           0,
           "Coal"
          ],
          [
           "Spain",
           "ESP",
           54.35,
           31,
           4.468,
           0.6,
           "Oil"
          ],
          [
           "Sri Lanka",
           "LKA",
           "No Data",
           "No Data",
           0.986,
           0.06,
           "Oil"
          ],
          [
           "Sudan",
           "SDN",
           "No Data",
           "No Data",
           0.43,
           0.05,
           "Coal"
          ],
          [
           "Suriname",
           "SUR",
           "No Data",
           "No Data",
           3.791,
           0.01,
           "Coal"
          ],
          [
           "Sweden",
           "SWE",
           74.22,
           2,
           3.826,
           0.11,
           "Oil"
          ],
          [
           "Switzerland",
           "CHE",
           61.7,
           12,
           3.732,
           0.09,
           "Oil"
          ],
          [
           "Syria",
           "SYR",
           "No Data",
           "No Data",
           1.745,
           0.09,
           "Oil"
          ],
          [
           "Taiwan",
           "TWN",
           "No Data",
           "No Data",
           11.47,
           0.78,
           "Coal"
          ],
          [
           "Tajikistan",
           "TJK",
           "No Data",
           "No Data",
           0.991,
           0.03,
           "Coal"
          ],
          [
           "Tanzania",
           "TZA",
           "No Data",
           "No Data",
           0.183,
           0.03,
           "Oil"
          ],
          [
           "Thailand",
           "THA",
           55.01,
           28,
           3.693,
           0.74,
           "Oil"
          ],
          [
           "Timor",
           "TLS",
           "No Data",
           "No Data",
           0.399,
           0,
           "Coal"
          ],
          [
           "Togo",
           "TGO",
           "No Data",
           "No Data",
           0.265,
           0.01,
           "Coal"
          ],
          [
           "Tonga",
           "TON",
           "No Data",
           "No Data",
           1.36,
           0,
           "Coal"
          ],
          [
           "Trinidad and Tobago",
           "TTO",
           "No Data",
           "No Data",
           25.373,
           0.1,
           "Coal"
          ],
          [
           "Tunisia",
           "TUN",
           "No Data",
           "No Data",
           2.38,
           0.08,
           "Coal"
          ],
          [
           "Turkey",
           "TUR",
           50.53,
           38,
           4.657,
           1.13,
           "Coal"
          ],
          [
           "Turkmenistan",
           "TKM",
           "No Data",
           "No Data",
           12.491,
           0.22,
           "Coal"
          ],
          [
           "Turks and Caicos Islands",
           "TCA",
           "No Data",
           "No Data",
           5.231,
           0,
           "Coal"
          ],
          [
           "Tuvalu",
           "TUV",
           "No Data",
           "No Data",
           0.642,
           0,
           "Coal"
          ],
          [
           "Uganda",
           "UGA",
           "No Data",
           "No Data",
           0.107,
           0.01,
           "Coal"
          ],
          [
           "Ukraine",
           "UKR",
           60.4,
           17,
           4.891,
           0.61,
           "Coal"
          ],
          [
           "United Arab Emirates",
           "ARE",
           "No Data",
           "No Data",
           15.193,
           0.43,
           "Gas"
          ],
          [
           "United Kingdom",
           "GBR",
           73.09,
           4,
           4.855,
           0.95,
           "Gas"
          ],
          [
           "United States",
           "USA",
           37.39,
           52,
           14.238,
           13.54,
           "Oil"
          ],
          [
           "Uruguay",
           "URY",
           "No Data",
           "No Data",
           1.681,
           0.02,
           "Oil"
          ],
          [
           "Uzbekistan",
           "UZB",
           "No Data",
           "No Data",
           3.37,
           0.32,
           "Gas"
          ],
          [
           "Vanuatu",
           "VUT",
           "No Data",
           "No Data",
           0.591,
           0,
           "Coal"
          ],
          [
           "Venezuela",
           "VEN",
           "No Data",
           "No Data",
           2.975,
           0.24,
           "Flaring"
          ],
          [
           "Vietnam",
           "VNM",
           49.21,
           40,
           2.613,
           0.73,
           "Coal"
          ],
          [
           "Yemen",
           "YEM",
           "No Data",
           "No Data",
           0.328,
           0.03,
           "Oil"
          ],
          [
           "Zambia",
           "ZMB",
           "No Data",
           "No Data",
           0.358,
           0.02,
           "Oil"
          ],
          [
           "Zimbabwe",
           "ZWE",
           "No Data",
           "No Data",
           0.709,
           0.03,
           "Coal"
          ]
         ],
         "hovertemplate": "%{customdata[0]} (%{customdata[1]})<br>CCPI Score: %{customdata[2]}<br>CCPI Rank: %{customdata[3]}<br>CO2 Emissions per Capita: %{customdata[4]}<br>Global Share of CO2 Emissions: %{customdata[5]}<br>Primary CO2 Emissions Source: %{customdata[6]}<br><extra></extra>",
         "locations": [
          "AFG",
          "ALB",
          "DZA",
          "AND",
          "AGO",
          "AIA",
          "ATA",
          "ATG",
          "ARG",
          "ARM",
          "ABW",
          "AUS",
          "AUT",
          "AZE",
          "BHS",
          "BHR",
          "BGD",
          "BRB",
          "BLR",
          "BEL",
          "BLZ",
          "BEN",
          "BMU",
          "BTN",
          "BOL",
          "BES",
          "BIH",
          "BWA",
          "BRA",
          "VGB",
          "BRN",
          "BGR",
          "BFA",
          "BDI",
          "KHM",
          "CMR",
          "CAN",
          "CPV",
          "CAF",
          "TCD",
          "CHL",
          "CHN",
          "CXR",
          "COL",
          "COM",
          "COG",
          "COK",
          "CRI",
          "CIV",
          "HRV",
          "CUB",
          "CUW",
          "CYP",
          "CZE",
          "COD",
          "DNK",
          "DJI",
          "DMA",
          "DOM",
          "ECU",
          "EGY",
          "SLV",
          "GNQ",
          "ERI",
          "EST",
          "SWZ",
          "ETH",
          "FRO",
          "FJI",
          "FIN",
          "FRA",
          "GUF",
          "PYF",
          "GAB",
          "GMB",
          "GEO",
          "DEU",
          "GHA",
          "GRC",
          "GRL",
          "GRD",
          "GLP",
          "GTM",
          "GIN",
          "GNB",
          "GUY",
          "HTI",
          "HND",
          "HKG",
          "HUN",
          "ISL",
          "IND",
          "IDN",
          "IRN",
          "IRQ",
          "IRL",
          "ISR",
          "ITA",
          "JAM",
          "JPN",
          "JOR",
          "KAZ",
          "KEN",
          "KIR",
          "OWID_KOS",
          "KWT",
          "KGZ",
          "LAO",
          "LVA",
          "LBN",
          "LSO",
          "LBR",
          "LBY",
          "LIE",
          "LTU",
          "LUX",
          "MDG",
          "MWI",
          "MYS",
          "MDV",
          "MLI",
          "MLT",
          "MHL",
          "MTQ",
          "MRT",
          "MUS",
          "MYT",
          "MEX",
          "MDA",
          "MNG",
          "MNE",
          "MSR",
          "MAR",
          "MOZ",
          "MMR",
          "NAM",
          "NRU",
          "NPL",
          "NLD",
          "NCL",
          "NZL",
          "NIC",
          "NER",
          "NGA",
          "NIU",
          "PRK",
          "MKD",
          "NOR",
          "OMN",
          "PAK",
          "PLW",
          "PSE",
          "PAN",
          "PNG",
          "PRY",
          "PER",
          "PHL",
          "POL",
          "PRT",
          "PRI",
          "QAT",
          "ROU",
          "RUS",
          "RWA",
          "SHN",
          "KNA",
          "LCA",
          "SPM",
          "VCT",
          "WSM",
          "STP",
          "SAU",
          "SEN",
          "SRB",
          "SYC",
          "SLE",
          "SGP",
          "SXM",
          "SVK",
          "SVN",
          "SLB",
          "SOM",
          "ZAF",
          "KOR",
          "SSD",
          "ESP",
          "LKA",
          "SDN",
          "SUR",
          "SWE",
          "CHE",
          "SYR",
          "TWN",
          "TJK",
          "TZA",
          "THA",
          "TLS",
          "TGO",
          "TON",
          "TTO",
          "TUN",
          "TUR",
          "TKM",
          "TCA",
          "TUV",
          "UGA",
          "UKR",
          "ARE",
          "GBR",
          "USA",
          "URY",
          "UZB",
          "VUT",
          "VEN",
          "VNM",
          "YEM",
          "ZMB",
          "ZWE"
         ],
         "marker": {
          "line": {
           "width": 0.1
          }
         },
         "type": "choropleth",
         "z": [
          "No Data",
          "No Data",
          39.91,
          "No Data",
          "No Data",
          "No Data",
          "No Data",
          "No Data",
          47.08,
          "No Data",
          "No Data",
          30.06,
          52.35,
          "No Data",
          "No Data",
          "No Data",
          "No Data",
          "No Data",
          46.66,
          45.9,
          "No Data",
          "No Data",
          "No Data",
          "No Data",
          "No Data",
          "No Data",
          "No Data",
          "No Data",
          54.86,
          "No Data",
          "No Data",
          48.71,
          "No Data",
          "No Data",
          "No Data",
          "No Data",
          26.03,
          "No Data",
          "No Data",
          "No Data",
          "No Data",
          52.2,
          "No Data",
          57.87,
          "No Data",
          "No Data",
          "No Data",
          "No Data",
          "No Data",
          55.96,
          "No Data",
          "No Data",
          50.52,
          42.15,
          "No Data",
          76.67,
          "No Data",
          "No Data",
          "No Data",
          "No Data",
          59.74,
          "No Data",
          "No Data",
          "No Data",
          54.98,
          "No Data",
          "No Data",
          "No Data",
          "No Data",
          62.41,
          61.01,
          "No Data",
          "No Data",
          "No Data",
          "No Data",
          "No Data",
          63.53,
          "No Data",
          58.22,
          "No Data",
          "No Data",
          "No Data",
          "No Data",
          "No Data",
          "No Data",
          "No Data",
          "No Data",
          "No Data",
          "No Data",
          40.41,
          "No Data",
          69.2,
          57.17,
          25.66,
          "No Data",
          47.86,
          "No Data",
          55.39,
          "No Data",
          48.53,
          "No Data",
          19.23,
          "No Data",
          "No Data",
          "No Data",
          "No Data",
          "No Data",
          "No Data",
          57.73,
          "No Data",
          "No Data",
          "No Data",
          "No Data",
          "No Data",
          64.89,
          60.8,
          "No Data",
          "No Data",
          33.74,
          "No Data",
          "No Data",
          64.18,
          "No Data",
          "No Data",
          "No Data",
          "No Data",
          "No Data",
          56.05,
          "No Data",
          "No Data",
          "No Data",
          "No Data",
          71.6,
          "No Data",
          "No Data",
          "No Data",
          "No Data",
          "No Data",
          60.44,
          "No Data",
          54.03,
          "No Data",
          "No Data",
          "No Data",
          "No Data",
          "No Data",
          "No Data",
          73.29,
          "No Data",
          "No Data",
          "No Data",
          "No Data",
          "No Data",
          "No Data",
          "No Data",
          "No Data",
          58.98,
          40.63,
          61.11,
          "No Data",
          "No Data",
          52.43,
          34.73,
          "No Data",
          "No Data",
          "No Data",
          "No Data",
          "No Data",
          "No Data",
          "No Data",
          "No Data",
          24.25,
          "No Data",
          "No Data",
          "No Data",
          "No Data",
          "No Data",
          "No Data",
          50.67,
          43.28,
          "No Data",
          "No Data",
          51.13,
          26.74,
          "No Data",
          54.35,
          "No Data",
          "No Data",
          "No Data",
          74.22,
          61.7,
          "No Data",
          "No Data",
          "No Data",
          "No Data",
          55.01,
          "No Data",
          "No Data",
          "No Data",
          "No Data",
          "No Data",
          50.53,
          "No Data",
          "No Data",
          "No Data",
          "No Data",
          60.4,
          "No Data",
          73.09,
          37.39,
          "No Data",
          "No Data",
          "No Data",
          "No Data",
          49.21,
          "No Data",
          "No Data",
          "No Data"
         ]
        },
        {
         "colorbar": {
          "title": {
           "text": "CO2<br>Emissions<br>per Capita"
          }
         },
         "colorscale": [
          [
           0,
           "rgb(0,0,0)"
          ],
          [
           0.3333333333333333,
           "rgb(230,0,0)"
          ],
          [
           0.6666666666666666,
           "rgb(255,210,0)"
          ],
          [
           1,
           "rgb(255,255,255)"
          ]
         ],
         "customdata": [
          [
           "Afghanistan",
           "AFG",
           "No Data",
           "No Data",
           0.312,
           0.03,
           "Coal"
          ],
          [
           "Albania",
           "ALB",
           "No Data",
           "No Data",
           1.576,
           0.01,
           "Oil"
          ],
          [
           "Algeria",
           "DZA",
           39.91,
           51,
           3.535,
           0.45,
           "Gas"
          ],
          [
           "Andorra",
           "AND",
           "No Data",
           "No Data",
           6.035,
           0,
           "Coal"
          ],
          [
           "Angola",
           "AGO",
           "No Data",
           "No Data",
           0.675,
           0.06,
           "Coal"
          ],
          [
           "Anguilla",
           "AIA",
           "No Data",
           "No Data",
           8.227,
           0,
           "Coal"
          ],
          [
           "Antarctica",
           "ATA",
           "No Data",
           "No Data",
           "No Data",
           "No Data",
           "Coal"
          ],
          [
           "Antigua and Barbuda",
           "ATG",
           "No Data",
           "No Data",
           4.395,
           0,
           "Coal"
          ],
          [
           "Argentina",
           "ARG",
           47.08,
           44,
           3.473,
           0.45,
           "Gas"
          ],
          [
           "Armenia",
           "ARM",
           "No Data",
           "No Data",
           1.988,
           0.02,
           "Gas"
          ],
          [
           "Aruba",
           "ABW",
           "No Data",
           "No Data",
           7.055,
           0,
           "Coal"
          ],
          [
           "Australia",
           "AUS",
           30.06,
           56,
           15.368,
           1.13,
           "Coal"
          ],
          [
           "Austria",
           "AUT",
           52.35,
           34,
           6.732,
           0.17,
           "Oil"
          ],
          [
           "Azerbaijan",
           "AZE",
           "No Data",
           "No Data",
           3.72,
           0.11,
           "Gas"
          ],
          [
           "Bahamas",
           "BHS",
           "No Data",
           "No Data",
           5.945,
           0.01,
           "Oil"
          ],
          [
           "Bahrain",
           "BHR",
           "No Data",
           "No Data",
           20.546,
           0.1,
           "Coal"
          ],
          [
           "Bangladesh",
           "BGD",
           "No Data",
           "No Data",
           0.564,
           0.27,
           "Gas"
          ],
          [
           "Barbados",
           "BRB",
           "No Data",
           "No Data",
           3.782,
           0,
           "Coal"
          ],
          [
           "Belarus",
           "BLR",
           46.66,
           45,
           6.079,
           0.17,
           "Gas"
          ],
          [
           "Belgium",
           "BEL",
           45.9,
           46,
           7.226,
           0.24,
           "Gas"
          ],
          [
           "Belize",
           "BLZ",
           "No Data",
           "No Data",
           1.466,
           0,
           "Coal"
          ],
          [
           "Benin",
           "BEN",
           "No Data",
           "No Data",
           0.553,
           0.02,
           "Coal"
          ],
          [
           "Bermuda",
           "BMU",
           "No Data",
           "No Data",
           10.028,
           0,
           "Oil"
          ],
          [
           "Bhutan",
           "BTN",
           "No Data",
           "No Data",
           2.495,
           0.01,
           "Coal"
          ],
          [
           "Bolivia",
           "BOL",
           "No Data",
           "No Data",
           1.773,
           0.06,
           "Oil"
          ],
          [
           "Bonaire Sint Eustatius and Saba",
           "BES",
           "No Data",
           "No Data",
           11.466,
           0,
           "Coal"
          ],
          [
           "Bosnia and Herzegovina",
           "BIH",
           "No Data",
           "No Data",
           6.528,
           0.06,
           "Coal"
          ],
          [
           "Botswana",
           "BWA",
           "No Data",
           "No Data",
           2.772,
           0.02,
           "Coal"
          ],
          [
           "Brazil",
           "BRA",
           54.86,
           30,
           2.199,
           1.34,
           "Oil"
          ],
          [
           "British Virgin Islands",
           "VGB",
           "No Data",
           "No Data",
           4.605,
           0,
           "Coal"
          ],
          [
           "Brunei",
           "BRN",
           "No Data",
           "No Data",
           23.22,
           0.03,
           "Coal"
          ],
          [
           "Bulgaria",
           "BGR",
           48.71,
           41,
           5.389,
           0.11,
           "Coal"
          ],
          [
           "Burkina Faso",
           "BFA",
           "No Data",
           "No Data",
           0.19,
           0.01,
           "Coal"
          ],
          [
           "Burundi",
           "BDI",
           "No Data",
           "No Data",
           0.051,
           0,
           "Oil"
          ],
          [
           "Cambodia",
           "KHM",
           "No Data",
           "No Data",
           0.917,
           0.04,
           "Oil"
          ],
          [
           "Cameroon",
           "CMR",
           "No Data",
           "No Data",
           0.26,
           0.02,
           "Coal"
          ],
          [
           "Canada",
           "CAN",
           26.03,
           58,
           14.197,
           1.54,
           "Oil"
          ],
          [
           "Cape Verde",
           "CPV",
           "No Data",
           "No Data",
           0.989,
           0,
           "Coal"
          ],
          [
           "Central African Republic",
           "CAF",
           "No Data",
           "No Data",
           0.039,
           0,
           "Coal"
          ],
          [
           "Chad",
           "TCD",
           "No Data",
           "No Data",
           0.056,
           0,
           "Coal"
          ],
          [
           "Chile",
           "CHL",
           "No Data",
           "No Data",
           4.246,
           0.23,
           "Oil"
          ],
          [
           "China",
           "CHN",
           52.2,
           35,
           7.412,
           30.65,
           "Coal"
          ],
          [
           "Christmas Island",
           "CXR",
           "No Data",
           "No Data",
           "No Data",
           "No Data",
           "Coal"
          ],
          [
           "Colombia",
           "COL",
           57.87,
           22,
           1.751,
           0.26,
           "Oil"
          ],
          [
           "Comoros",
           "COM",
           "No Data",
           "No Data",
           0.297,
           0,
           "Coal"
          ],
          [
           "Congo",
           "COG",
           "No Data",
           "No Data",
           0.565,
           0.01,
           "Coal"
          ],
          [
           "Cook Islands",
           "COK",
           "No Data",
           "No Data",
           4.522,
           0,
           "Coal"
          ],
          [
           "Costa Rica",
           "CRI",
           "No Data",
           "No Data",
           1.552,
           0.02,
           "Coal"
          ],
          [
           "Cote d'Ivoire",
           "CIV",
           "No Data",
           "No Data",
           0.382,
           0.03,
           "Coal"
          ],
          [
           "Croatia",
           "HRV",
           55.96,
           26,
           4.137,
           0.05,
           "Oil"
          ],
          [
           "Cuba",
           "CUB",
           "No Data",
           "No Data",
           1.779,
           0.06,
           "Oil"
          ],
          [
           "Curacao",
           "CUW",
           "No Data",
           "No Data",
           20.323,
           0.01,
           "Coal"
          ],
          [
           "Cyprus",
           "CYP",
           50.52,
           39,
           5.38,
           0.02,
           "Oil"
          ],
          [
           "Czechia",
           "CZE",
           42.15,
           48,
           8.215,
           0.25,
           "Coal"
          ],
          [
           "Democratic Republic of Congo",
           "COD",
           "No Data",
           "No Data",
           0.028,
           0.01,
           "Coal"
          ],
          [
           "Denmark",
           "DNK",
           76.67,
           1,
           4.522,
           0.08,
           "Oil"
          ],
          [
           "Djibouti",
           "DJI",
           "No Data",
           "No Data",
           0.356,
           0,
           "Coal"
          ],
          [
           "Dominica",
           "DMA",
           "No Data",
           "No Data",
           1.934,
           0,
           "Coal"
          ],
          [
           "Dominican Republic",
           "DOM",
           "No Data",
           "No Data",
           2.56,
           0.08,
           "Oil"
          ],
          [
           "Ecuador",
           "ECU",
           "No Data",
           "No Data",
           1.753,
           0.09,
           "Coal"
          ],
          [
           "Egypt",
           "EGY",
           59.74,
           18,
           2.086,
           0.61,
           "Gas"
          ],
          [
           "El Salvador",
           "SLV",
           "No Data",
           "No Data",
           0.944,
           0.02,
           "Oil"
          ],
          [
           "Equatorial Guinea",
           "GNQ",
           "No Data",
           "No Data",
           7.317,
           0.03,
           "Coal"
          ],
          [
           "Eritrea",
           "ERI",
           "No Data",
           "No Data",
           0.204,
           0,
           "Coal"
          ],
          [
           "Estonia",
           "EST",
           54.98,
           29,
           7.88,
           0.03,
           "Coal"
          ],
          [
           "Eswatini",
           "SWZ",
           "No Data",
           "No Data",
           0.824,
           0,
           "Oil"
          ],
          [
           "Ethiopia",
           "ETH",
           "No Data",
           "No Data",
           0.128,
           0.04,
           "Oil"
          ],
          [
           "Faeroe Islands",
           "FRO",
           "No Data",
           "No Data",
           13.996,
           0,
           "Coal"
          ],
          [
           "Fiji",
           "FJI",
           "No Data",
           "No Data",
           1.554,
           0,
           "Coal"
          ],
          [
           "Finland",
           "FIN",
           62.41,
           11,
           7.091,
           0.11,
           "Oil"
          ],
          [
           "France",
           "FRA",
           61.01,
           14,
           4.238,
           0.79,
           "Oil"
          ],
          [
           "French Guiana",
           "GUF",
           "No Data",
           "No Data",
           2.439,
           0,
           "Coal"
          ],
          [
           "French Polynesia",
           "PYF",
           "No Data",
           "No Data",
           2.949,
           0,
           "Coal"
          ],
          [
           "Gabon",
           "GAB",
           "No Data",
           "No Data",
           1.931,
           0.01,
           "Coal"
          ],
          [
           "Gambia",
           "GMB",
           "No Data",
           "No Data",
           0.207,
           0,
           "Coal"
          ],
          [
           "Georgia",
           "GEO",
           "No Data",
           "No Data",
           2.499,
           0.03,
           "Gas"
          ],
          [
           "Germany",
           "DEU",
           63.53,
           10,
           7.69,
           1.85,
           "Oil"
          ],
          [
           "Ghana",
           "GHA",
           "No Data",
           "No Data",
           0.515,
           0.05,
           "Coal"
          ],
          [
           "Greece",
           "GRC",
           58.22,
           21,
           5.012,
           0.15,
           "Oil"
          ],
          [
           "Greenland",
           "GRL",
           "No Data",
           "No Data",
           9.061,
           0,
           "Coal"
          ],
          [
           "Grenada",
           "GRD",
           "No Data",
           "No Data",
           2.62,
           0,
           "Coal"
          ],
          [
           "Guadeloupe",
           "GLP",
           "No Data",
           "No Data",
           6.403,
           0.01,
           "Oil"
          ],
          [
           "Guatemala",
           "GTM",
           "No Data",
           "No Data",
           1.057,
           0.05,
           "Oil"
          ],
          [
           "Guinea",
           "GIN",
           "No Data",
           "No Data",
           0.258,
           0.01,
           "Coal"
          ],
          [
           "Guinea-Bissau",
           "GNB",
           "No Data",
           "No Data",
           0.146,
           0,
           "Coal"
          ],
          [
           "Guyana",
           "GUY",
           "No Data",
           "No Data",
           2.813,
           0.01,
           "Coal"
          ],
          [
           "Haiti",
           "HTI",
           "No Data",
           "No Data",
           0.256,
           0.01,
           "Coal"
          ],
          [
           "Honduras",
           "HND",
           "No Data",
           "No Data",
           0.975,
           0.03,
           "Coal"
          ],
          [
           "Hong Kong",
           "HKG",
           "No Data",
           "No Data",
           4.167,
           0.09,
           "Coal"
          ],
          [
           "Hungary",
           "HUN",
           40.41,
           50,
           4.997,
           0.14,
           "Gas"
          ],
          [
           "Iceland",
           "ISL",
           "No Data",
           "No Data",
           8.604,
           0.01,
           "Oil"
          ],
          [
           "India",
           "IND",
           69.2,
           7,
           1.769,
           7.02,
           "Coal"
          ],
          [
           "Indonesia",
           "IDN",
           57.17,
           24,
           2.155,
           1.69,
           "Coal"
          ],
          [
           "Iran",
           "IRN",
           25.66,
           59,
           8.87,
           2.14,
           "Gas"
          ],
          [
           "Iraq",
           "IRQ",
           "No Data",
           "No Data",
           5.242,
           0.61,
           "Coal"
          ],
          [
           "Ireland",
           "IRL",
           47.86,
           43,
           6.754,
           0.1,
           "Oil"
          ],
          [
           "Israel",
           "ISR",
           "No Data",
           "No Data",
           6.51,
           0.16,
           "Oil"
          ],
          [
           "Italy",
           "ITA",
           55.39,
           27,
           5.025,
           0.87,
           "Gas"
          ],
          [
           "Jamaica",
           "JAM",
           "No Data",
           "No Data",
           2.509,
           0.02,
           "Oil"
          ],
          [
           "Japan",
           "JPN",
           48.53,
           42,
           8.15,
           2.96,
           "Coal"
          ],
          [
           "Jordan",
           "JOR",
           "No Data",
           "No Data",
           2.498,
           0.07,
           "Oil"
          ],
          [
           "Kazakhstan",
           "KAZ",
           19.23,
           61,
           15.516,
           0.84,
           "Coal"
          ],
          [
           "Kenya",
           "KEN",
           "No Data",
           "No Data",
           0.3,
           0.05,
           "Oil"
          ],
          [
           "Kiribati",
           "KIR",
           "No Data",
           "No Data",
           0.57,
           0,
           "Coal"
          ],
          [
           "Kosovo",
           "OWID_KOS",
           "No Data",
           "No Data",
           "No Data",
           0.02,
           "Coal"
          ],
          [
           "Kuwait",
           "KWT",
           "No Data",
           "No Data",
           20.825,
           0.26,
           "Coal"
          ],
          [
           "Kyrgyzstan",
           "KGZ",
           "No Data",
           "No Data",
           1.764,
           0.03,
           "Oil"
          ],
          [
           "Laos",
           "LAO",
           "No Data",
           "No Data",
           4.652,
           0.1,
           "Coal"
          ],
          [
           "Latvia",
           "LVA",
           57.73,
           23,
           3.591,
           0.02,
           "Oil"
          ],
          [
           "Lebanon",
           "LBN",
           "No Data",
           "No Data",
           3.805,
           0.07,
           "Oil"
          ],
          [
           "Lesotho",
           "LSO",
           "No Data",
           "No Data",
           1.019,
           0.01,
           "Coal"
          ],
          [
           "Liberia",
           "LBR",
           "No Data",
           "No Data",
           0.2,
           0,
           "Coal"
          ],
          [
           "Libya",
           "LBY",
           "No Data",
           "No Data",
           7.382,
           0.15,
           "Coal"
          ],
          [
           "Liechtenstein",
           "LIE",
           "No Data",
           "No Data",
           3.698,
           0,
           "Coal"
          ],
          [
           "Lithuania",
           "LTU",
           64.89,
           8,
           5.069,
           0.04,
           "Oil"
          ],
          [
           "Luxembourg",
           "LUX",
           60.8,
           15,
           13.059,
           0.02,
           "Oil"
          ],
          [
           "Madagascar",
           "MDG",
           "No Data",
           "No Data",
           0.133,
           0.01,
           "Oil"
          ],
          [
           "Malawi",
           "MWI",
           "No Data",
           "No Data",
           0.073,
           0,
           "Oil"
          ],
          [
           "Malaysia",
           "MYS",
           33.74,
           54,
           8.423,
           0.78,
           "Coal"
          ],
          [
           "Maldives",
           "MDV",
           "No Data",
           "No Data",
           3.324,
           0.01,
           "Coal"
          ],
          [
           "Mali",
           "MLI",
           "No Data",
           "No Data",
           0.167,
           0.01,
           "Coal"
          ],
          [
           "Malta",
           "MLT",
           64.18,
           9,
           3.612,
           0,
           "Oil"
          ],
          [
           "Marshall Islands",
           "MHL",
           "No Data",
           "No Data",
           2.556,
           0,
           "Coal"
          ],
          [
           "Martinique",
           "MTQ",
           "No Data",
           "No Data",
           6.258,
           0.01,
           "Coal"
          ],
          [
           "Mauritania",
           "MRT",
           "No Data",
           "No Data",
           0.726,
           0.01,
           "Coal"
          ],
          [
           "Mauritius",
           "MUS",
           "No Data",
           "No Data",
           3.129,
           0.01,
           "Oil"
          ],
          [
           "Mayotte",
           "MYT",
           "No Data",
           "No Data",
           1.12,
           0,
           "Coal"
          ],
          [
           "Mexico",
           "MEX",
           56.05,
           25,
           2.769,
           1.03,
           "Oil"
          ],
          [
           "Moldova",
           "MDA",
           "No Data",
           "No Data",
           1.276,
           0.01,
           "Oil"
          ],
          [
           "Mongolia",
           "MNG",
           "No Data",
           "No Data",
           26.978,
           0.25,
           "Coal"
          ],
          [
           "Montenegro",
           "MNE",
           "No Data",
           "No Data",
           3.678,
           0.01,
           "Coal"
          ],
          [
           "Montserrat",
           "MSR",
           "No Data",
           "No Data",
           5.065,
           0,
           "Coal"
          ],
          [
           "Morocco",
           "MAR",
           71.6,
           5,
           1.748,
           0.19,
           "Oil"
          ],
          [
           "Mozambique",
           "MOZ",
           "No Data",
           "No Data",
           0.21,
           0.02,
           "Oil"
          ],
          [
           "Myanmar",
           "MMR",
           "No Data",
           "No Data",
           0.668,
           0.1,
           "Oil"
          ],
          [
           "Namibia",
           "NAM",
           "No Data",
           "No Data",
           1.526,
           0.01,
           "Oil"
          ],
          [
           "Nauru",
           "NRU",
           "No Data",
           "No Data",
           5.236,
           0,
           "Coal"
          ],
          [
           "Nepal",
           "NPL",
           "No Data",
           "No Data",
           0.582,
           0.05,
           "Oil"
          ],
          [
           "Netherlands",
           "NLD",
           60.44,
           16,
           8.06,
           0.4,
           "Gas"
          ],
          [
           "New Caledonia",
           "NCL",
           "No Data",
           "No Data",
           30.448,
           0.02,
           "Coal"
          ],
          [
           "New Zealand",
           "NZL",
           54.03,
           32,
           6.942,
           0.1,
           "Oil"
          ],
          [
           "Nicaragua",
           "NIC",
           "No Data",
           "No Data",
           0.766,
           0.01,
           "Coal"
          ],
          [
           "Niger",
           "NER",
           "No Data",
           "No Data",
           0.07,
           0,
           "Oil"
          ],
          [
           "Nigeria",
           "NGA",
           "No Data",
           "No Data",
           0.609,
           0.36,
           "Oil"
          ],
          [
           "Niue",
           "NIU",
           "No Data",
           "No Data",
           7.012,
           0,
           "Coal"
          ],
          [
           "North Korea",
           "PRK",
           "No Data",
           "No Data",
           1.137,
           0.08,
           "Coal"
          ],
          [
           "North Macedonia",
           "MKD",
           "No Data",
           "No Data",
           3.43,
           0.02,
           "Coal"
          ],
          [
           "Norway",
           "NOR",
           73.29,
           3,
           7.615,
           0.12,
           "Oil"
          ],
          [
           "Oman",
           "OMN",
           "No Data",
           "No Data",
           12.173,
           0.18,
           "Coal"
          ],
          [
           "Pakistan",
           "PAK",
           "No Data",
           "No Data",
           1.063,
           0.67,
           "Oil"
          ],
          [
           "Palau",
           "PLW",
           "No Data",
           "No Data",
           12.125,
           0,
           "Coal"
          ],
          [
           "Palestine",
           "PSE",
           "No Data",
           "No Data",
           0.568,
           0.01,
           "Coal"
          ],
          [
           "Panama",
           "PAN",
           "No Data",
           "No Data",
           2.498,
           0.03,
           "Oil"
          ],
          [
           "Papua New Guinea",
           "PNG",
           "No Data",
           "No Data",
           0.744,
           0.02,
           "Coal"
          ],
          [
           "Paraguay",
           "PRY",
           "No Data",
           "No Data",
           1.061,
           0.02,
           "Oil"
          ],
          [
           "Peru",
           "PER",
           "No Data",
           "No Data",
           1.356,
           0.13,
           "Oil"
          ],
          [
           "Philippines",
           "PHL",
           58.98,
           20,
           1.241,
           0.39,
           "Coal"
          ],
          [
           "Poland",
           "POL",
           40.63,
           49,
           7.916,
           0.86,
           "Coal"
          ],
          [
           "Portugal",
           "PRT",
           61.11,
           13,
           3.961,
           0.12,
           "Oil"
          ],
          [
           "Puerto Rico",
           "PRI",
           "No Data",
           "No Data",
           "No Data",
           "No Data",
           "Coal"
          ],
          [
           "Qatar",
           "QAT",
           "No Data",
           "No Data",
           37.019,
           0.31,
           "Coal"
          ],
          [
           "Romania",
           "ROU",
           52.43,
           33,
           3.715,
           0.21,
           "Oil"
          ],
          [
           "Russia",
           "RUS",
           34.73,
           53,
           10.807,
           4.53,
           "Gas"
          ],
          [
           "Rwanda",
           "RWA",
           "No Data",
           "No Data",
           0.08,
           0,
           "Oil"
          ],
          [
           "Saint Helena",
           "SHN",
           "No Data",
           "No Data",
           1.564,
           0,
           "Coal"
          ],
          [
           "Saint Kitts and Nevis",
           "KNA",
           "No Data",
           "No Data",
           3.986,
           0,
           "Coal"
          ],
          [
           "Saint Lucia",
           "LCA",
           "No Data",
           "No Data",
           2.396,
           0,
           "Coal"
          ],
          [
           "Saint Pierre and Miquelon",
           "SPM",
           "No Data",
           "No Data",
           8.738,
           0,
           "Coal"
          ],
          [
           "Saint Vincent and the Grenadines",
           "VCT",
           "No Data",
           "No Data",
           1.883,
           0,
           "Coal"
          ],
          [
           "Samoa",
           "WSM",
           "No Data",
           "No Data",
           1.239,
           0,
           "Coal"
          ],
          [
           "Sao Tome and Principe",
           "STP",
           "No Data",
           "No Data",
           0.514,
           0,
           "Coal"
          ],
          [
           "Saudi Arabia",
           "SAU",
           24.25,
           60,
           17.967,
           1.8,
           "Coal"
          ],
          [
           "Senegal",
           "SEN",
           "No Data",
           "No Data",
           0.624,
           0.03,
           "Oil"
          ],
          [
           "Serbia",
           "SRB",
           "No Data",
           "No Data",
           4.937,
           0.12,
           "Coal"
          ],
          [
           "Seychelles",
           "SYC",
           "No Data",
           "No Data",
           4.994,
           0,
           "Coal"
          ],
          [
           "Sierra Leone",
           "SLE",
           "No Data",
           "No Data",
           0.11,
           0,
           "Coal"
          ],
          [
           "Singapore",
           "SGP",
           "No Data",
           "No Data",
           7.778,
           0.13,
           "Oil"
          ],
          [
           "Sint Maarten (Dutch part)",
           "SXM",
           "No Data",
           "No Data",
           14.539,
           0,
           "Coal"
          ],
          [
           "Slovakia",
           "SVK",
           50.67,
           37,
           5.629,
           0.09,
           "Oil"
          ],
          [
           "Slovenia",
           "SVN",
           43.28,
           47,
           6.043,
           0.04,
           "Oil"
          ],
          [
           "Solomon Islands",
           "SLB",
           "No Data",
           "No Data",
           0.435,
           0,
           "Coal"
          ],
          [
           "Somalia",
           "SOM",
           "No Data",
           "No Data",
           0.035,
           0,
           "Coal"
          ],
          [
           "South Africa",
           "ZAF",
           51.13,
           36,
           7.62,
           1.3,
           "Coal"
          ],
          [
           "South Korea",
           "KOR",
           26.74,
           57,
           11.656,
           1.72,
           "Coal"
          ],
          [
           "South Sudan",
           "SSD",
           "No Data",
           "No Data",
           0.105,
           0,
           "Coal"
          ],
          [
           "Spain",
           "ESP",
           54.35,
           31,
           4.468,
           0.6,
           "Oil"
          ],
          [
           "Sri Lanka",
           "LKA",
           "No Data",
           "No Data",
           0.986,
           0.06,
           "Oil"
          ],
          [
           "Sudan",
           "SDN",
           "No Data",
           "No Data",
           0.43,
           0.05,
           "Coal"
          ],
          [
           "Suriname",
           "SUR",
           "No Data",
           "No Data",
           3.791,
           0.01,
           "Coal"
          ],
          [
           "Sweden",
           "SWE",
           74.22,
           2,
           3.826,
           0.11,
           "Oil"
          ],
          [
           "Switzerland",
           "CHE",
           61.7,
           12,
           3.732,
           0.09,
           "Oil"
          ],
          [
           "Syria",
           "SYR",
           "No Data",
           "No Data",
           1.745,
           0.09,
           "Oil"
          ],
          [
           "Taiwan",
           "TWN",
           "No Data",
           "No Data",
           11.47,
           0.78,
           "Coal"
          ],
          [
           "Tajikistan",
           "TJK",
           "No Data",
           "No Data",
           0.991,
           0.03,
           "Coal"
          ],
          [
           "Tanzania",
           "TZA",
           "No Data",
           "No Data",
           0.183,
           0.03,
           "Oil"
          ],
          [
           "Thailand",
           "THA",
           55.01,
           28,
           3.693,
           0.74,
           "Oil"
          ],
          [
           "Timor",
           "TLS",
           "No Data",
           "No Data",
           0.399,
           0,
           "Coal"
          ],
          [
           "Togo",
           "TGO",
           "No Data",
           "No Data",
           0.265,
           0.01,
           "Coal"
          ],
          [
           "Tonga",
           "TON",
           "No Data",
           "No Data",
           1.36,
           0,
           "Coal"
          ],
          [
           "Trinidad and Tobago",
           "TTO",
           "No Data",
           "No Data",
           25.373,
           0.1,
           "Coal"
          ],
          [
           "Tunisia",
           "TUN",
           "No Data",
           "No Data",
           2.38,
           0.08,
           "Coal"
          ],
          [
           "Turkey",
           "TUR",
           50.53,
           38,
           4.657,
           1.13,
           "Coal"
          ],
          [
           "Turkmenistan",
           "TKM",
           "No Data",
           "No Data",
           12.491,
           0.22,
           "Coal"
          ],
          [
           "Turks and Caicos Islands",
           "TCA",
           "No Data",
           "No Data",
           5.231,
           0,
           "Coal"
          ],
          [
           "Tuvalu",
           "TUV",
           "No Data",
           "No Data",
           0.642,
           0,
           "Coal"
          ],
          [
           "Uganda",
           "UGA",
           "No Data",
           "No Data",
           0.107,
           0.01,
           "Coal"
          ],
          [
           "Ukraine",
           "UKR",
           60.4,
           17,
           4.891,
           0.61,
           "Coal"
          ],
          [
           "United Arab Emirates",
           "ARE",
           "No Data",
           "No Data",
           15.193,
           0.43,
           "Gas"
          ],
          [
           "United Kingdom",
           "GBR",
           73.09,
           4,
           4.855,
           0.95,
           "Gas"
          ],
          [
           "United States",
           "USA",
           37.39,
           52,
           14.238,
           13.54,
           "Oil"
          ],
          [
           "Uruguay",
           "URY",
           "No Data",
           "No Data",
           1.681,
           0.02,
           "Oil"
          ],
          [
           "Uzbekistan",
           "UZB",
           "No Data",
           "No Data",
           3.37,
           0.32,
           "Gas"
          ],
          [
           "Vanuatu",
           "VUT",
           "No Data",
           "No Data",
           0.591,
           0,
           "Coal"
          ],
          [
           "Venezuela",
           "VEN",
           "No Data",
           "No Data",
           2.975,
           0.24,
           "Flaring"
          ],
          [
           "Vietnam",
           "VNM",
           49.21,
           40,
           2.613,
           0.73,
           "Coal"
          ],
          [
           "Yemen",
           "YEM",
           "No Data",
           "No Data",
           0.328,
           0.03,
           "Oil"
          ],
          [
           "Zambia",
           "ZMB",
           "No Data",
           "No Data",
           0.358,
           0.02,
           "Oil"
          ],
          [
           "Zimbabwe",
           "ZWE",
           "No Data",
           "No Data",
           0.709,
           0.03,
           "Coal"
          ]
         ],
         "hovertemplate": "%{customdata[0]} (%{customdata[1]})<br>CCPI Score: %{customdata[2]}<br>CCPI Rank: %{customdata[3]}<br>CO2 Emissions per Capita: %{customdata[4]}<br>Global Share of CO2 Emissions: %{customdata[5]}<br>Primary CO2 Emissions Source: %{customdata[6]}<br><extra></extra>",
         "locations": [
          "AFG",
          "ALB",
          "DZA",
          "AND",
          "AGO",
          "AIA",
          "ATA",
          "ATG",
          "ARG",
          "ARM",
          "ABW",
          "AUS",
          "AUT",
          "AZE",
          "BHS",
          "BHR",
          "BGD",
          "BRB",
          "BLR",
          "BEL",
          "BLZ",
          "BEN",
          "BMU",
          "BTN",
          "BOL",
          "BES",
          "BIH",
          "BWA",
          "BRA",
          "VGB",
          "BRN",
          "BGR",
          "BFA",
          "BDI",
          "KHM",
          "CMR",
          "CAN",
          "CPV",
          "CAF",
          "TCD",
          "CHL",
          "CHN",
          "CXR",
          "COL",
          "COM",
          "COG",
          "COK",
          "CRI",
          "CIV",
          "HRV",
          "CUB",
          "CUW",
          "CYP",
          "CZE",
          "COD",
          "DNK",
          "DJI",
          "DMA",
          "DOM",
          "ECU",
          "EGY",
          "SLV",
          "GNQ",
          "ERI",
          "EST",
          "SWZ",
          "ETH",
          "FRO",
          "FJI",
          "FIN",
          "FRA",
          "GUF",
          "PYF",
          "GAB",
          "GMB",
          "GEO",
          "DEU",
          "GHA",
          "GRC",
          "GRL",
          "GRD",
          "GLP",
          "GTM",
          "GIN",
          "GNB",
          "GUY",
          "HTI",
          "HND",
          "HKG",
          "HUN",
          "ISL",
          "IND",
          "IDN",
          "IRN",
          "IRQ",
          "IRL",
          "ISR",
          "ITA",
          "JAM",
          "JPN",
          "JOR",
          "KAZ",
          "KEN",
          "KIR",
          "OWID_KOS",
          "KWT",
          "KGZ",
          "LAO",
          "LVA",
          "LBN",
          "LSO",
          "LBR",
          "LBY",
          "LIE",
          "LTU",
          "LUX",
          "MDG",
          "MWI",
          "MYS",
          "MDV",
          "MLI",
          "MLT",
          "MHL",
          "MTQ",
          "MRT",
          "MUS",
          "MYT",
          "MEX",
          "MDA",
          "MNG",
          "MNE",
          "MSR",
          "MAR",
          "MOZ",
          "MMR",
          "NAM",
          "NRU",
          "NPL",
          "NLD",
          "NCL",
          "NZL",
          "NIC",
          "NER",
          "NGA",
          "NIU",
          "PRK",
          "MKD",
          "NOR",
          "OMN",
          "PAK",
          "PLW",
          "PSE",
          "PAN",
          "PNG",
          "PRY",
          "PER",
          "PHL",
          "POL",
          "PRT",
          "PRI",
          "QAT",
          "ROU",
          "RUS",
          "RWA",
          "SHN",
          "KNA",
          "LCA",
          "SPM",
          "VCT",
          "WSM",
          "STP",
          "SAU",
          "SEN",
          "SRB",
          "SYC",
          "SLE",
          "SGP",
          "SXM",
          "SVK",
          "SVN",
          "SLB",
          "SOM",
          "ZAF",
          "KOR",
          "SSD",
          "ESP",
          "LKA",
          "SDN",
          "SUR",
          "SWE",
          "CHE",
          "SYR",
          "TWN",
          "TJK",
          "TZA",
          "THA",
          "TLS",
          "TGO",
          "TON",
          "TTO",
          "TUN",
          "TUR",
          "TKM",
          "TCA",
          "TUV",
          "UGA",
          "UKR",
          "ARE",
          "GBR",
          "USA",
          "URY",
          "UZB",
          "VUT",
          "VEN",
          "VNM",
          "YEM",
          "ZMB",
          "ZWE"
         ],
         "marker": {
          "line": {
           "width": 0.1
          }
         },
         "reversescale": true,
         "type": "choropleth",
         "visible": false,
         "z": [
          0.312,
          1.576,
          3.535,
          6.035,
          0.675,
          8.227,
          "No Data",
          4.395,
          3.473,
          1.988,
          7.055,
          15.368,
          6.732,
          3.72,
          5.945,
          20.546,
          0.564,
          3.782,
          6.079,
          7.226,
          1.466,
          0.553,
          10.028,
          2.495,
          1.773,
          11.466,
          6.528,
          2.772,
          2.199,
          4.605,
          23.22,
          5.389,
          0.19,
          0.051,
          0.917,
          0.26,
          14.197,
          0.989,
          0.039,
          0.056,
          4.246,
          7.412,
          "No Data",
          1.751,
          0.297,
          0.565,
          4.522,
          1.552,
          0.382,
          4.137,
          1.779,
          20.323,
          5.38,
          8.215,
          0.028,
          4.522,
          0.356,
          1.934,
          2.56,
          1.753,
          2.086,
          0.944,
          7.317,
          0.204,
          7.88,
          0.824,
          0.128,
          13.996,
          1.554,
          7.091,
          4.238,
          2.439,
          2.949,
          1.931,
          0.207,
          2.499,
          7.69,
          0.515,
          5.012,
          9.061,
          2.62,
          6.403,
          1.057,
          0.258,
          0.146,
          2.813,
          0.256,
          0.975,
          4.167,
          4.997,
          8.604,
          1.769,
          2.155,
          8.87,
          5.242,
          6.754,
          6.51,
          5.025,
          2.509,
          8.15,
          2.498,
          15.516,
          0.3,
          0.57,
          "No Data",
          20.825,
          1.764,
          4.652,
          3.591,
          3.805,
          1.019,
          0.2,
          7.382,
          3.698,
          5.069,
          13.059,
          0.133,
          0.073,
          8.423,
          3.324,
          0.167,
          3.612,
          2.556,
          6.258,
          0.726,
          3.129,
          1.12,
          2.769,
          1.276,
          26.978,
          3.678,
          5.065,
          1.748,
          0.21,
          0.668,
          1.526,
          5.236,
          0.582,
          8.06,
          30.448,
          6.942,
          0.766,
          0.07,
          0.609,
          7.012,
          1.137,
          3.43,
          7.615,
          12.173,
          1.063,
          12.125,
          0.568,
          2.498,
          0.744,
          1.061,
          1.356,
          1.241,
          7.916,
          3.961,
          "No Data",
          37.019,
          3.715,
          10.807,
          0.08,
          1.564,
          3.986,
          2.396,
          8.738,
          1.883,
          1.239,
          0.514,
          17.967,
          0.624,
          4.937,
          4.994,
          0.11,
          7.778,
          14.539,
          5.629,
          6.043,
          0.435,
          0.035,
          7.62,
          11.656,
          0.105,
          4.468,
          0.986,
          0.43,
          3.791,
          3.826,
          3.732,
          1.745,
          11.47,
          0.991,
          0.183,
          3.693,
          0.399,
          0.265,
          1.36,
          25.373,
          2.38,
          4.657,
          12.491,
          5.231,
          0.642,
          0.107,
          4.891,
          15.193,
          4.855,
          14.238,
          1.681,
          3.37,
          0.591,
          2.975,
          2.613,
          0.328,
          0.358,
          0.709
         ]
        },
        {
         "colorbar": {
          "title": {
           "text": "Share of<br>Global CO2<br>Emissions"
          }
         },
         "colorscale": [
          [
           0,
           "rgb(0,0,0)"
          ],
          [
           0.3333333333333333,
           "rgb(230,0,0)"
          ],
          [
           0.6666666666666666,
           "rgb(255,210,0)"
          ],
          [
           1,
           "rgb(255,255,255)"
          ]
         ],
         "customdata": [
          [
           "Afghanistan",
           "AFG",
           "No Data",
           "No Data",
           0.312,
           0.03,
           "Coal"
          ],
          [
           "Albania",
           "ALB",
           "No Data",
           "No Data",
           1.576,
           0.01,
           "Oil"
          ],
          [
           "Algeria",
           "DZA",
           39.91,
           51,
           3.535,
           0.45,
           "Gas"
          ],
          [
           "Andorra",
           "AND",
           "No Data",
           "No Data",
           6.035,
           0,
           "Coal"
          ],
          [
           "Angola",
           "AGO",
           "No Data",
           "No Data",
           0.675,
           0.06,
           "Coal"
          ],
          [
           "Anguilla",
           "AIA",
           "No Data",
           "No Data",
           8.227,
           0,
           "Coal"
          ],
          [
           "Antarctica",
           "ATA",
           "No Data",
           "No Data",
           "No Data",
           "No Data",
           "Coal"
          ],
          [
           "Antigua and Barbuda",
           "ATG",
           "No Data",
           "No Data",
           4.395,
           0,
           "Coal"
          ],
          [
           "Argentina",
           "ARG",
           47.08,
           44,
           3.473,
           0.45,
           "Gas"
          ],
          [
           "Armenia",
           "ARM",
           "No Data",
           "No Data",
           1.988,
           0.02,
           "Gas"
          ],
          [
           "Aruba",
           "ABW",
           "No Data",
           "No Data",
           7.055,
           0,
           "Coal"
          ],
          [
           "Australia",
           "AUS",
           30.06,
           56,
           15.368,
           1.13,
           "Coal"
          ],
          [
           "Austria",
           "AUT",
           52.35,
           34,
           6.732,
           0.17,
           "Oil"
          ],
          [
           "Azerbaijan",
           "AZE",
           "No Data",
           "No Data",
           3.72,
           0.11,
           "Gas"
          ],
          [
           "Bahamas",
           "BHS",
           "No Data",
           "No Data",
           5.945,
           0.01,
           "Oil"
          ],
          [
           "Bahrain",
           "BHR",
           "No Data",
           "No Data",
           20.546,
           0.1,
           "Coal"
          ],
          [
           "Bangladesh",
           "BGD",
           "No Data",
           "No Data",
           0.564,
           0.27,
           "Gas"
          ],
          [
           "Barbados",
           "BRB",
           "No Data",
           "No Data",
           3.782,
           0,
           "Coal"
          ],
          [
           "Belarus",
           "BLR",
           46.66,
           45,
           6.079,
           0.17,
           "Gas"
          ],
          [
           "Belgium",
           "BEL",
           45.9,
           46,
           7.226,
           0.24,
           "Gas"
          ],
          [
           "Belize",
           "BLZ",
           "No Data",
           "No Data",
           1.466,
           0,
           "Coal"
          ],
          [
           "Benin",
           "BEN",
           "No Data",
           "No Data",
           0.553,
           0.02,
           "Coal"
          ],
          [
           "Bermuda",
           "BMU",
           "No Data",
           "No Data",
           10.028,
           0,
           "Oil"
          ],
          [
           "Bhutan",
           "BTN",
           "No Data",
           "No Data",
           2.495,
           0.01,
           "Coal"
          ],
          [
           "Bolivia",
           "BOL",
           "No Data",
           "No Data",
           1.773,
           0.06,
           "Oil"
          ],
          [
           "Bonaire Sint Eustatius and Saba",
           "BES",
           "No Data",
           "No Data",
           11.466,
           0,
           "Coal"
          ],
          [
           "Bosnia and Herzegovina",
           "BIH",
           "No Data",
           "No Data",
           6.528,
           0.06,
           "Coal"
          ],
          [
           "Botswana",
           "BWA",
           "No Data",
           "No Data",
           2.772,
           0.02,
           "Coal"
          ],
          [
           "Brazil",
           "BRA",
           54.86,
           30,
           2.199,
           1.34,
           "Oil"
          ],
          [
           "British Virgin Islands",
           "VGB",
           "No Data",
           "No Data",
           4.605,
           0,
           "Coal"
          ],
          [
           "Brunei",
           "BRN",
           "No Data",
           "No Data",
           23.22,
           0.03,
           "Coal"
          ],
          [
           "Bulgaria",
           "BGR",
           48.71,
           41,
           5.389,
           0.11,
           "Coal"
          ],
          [
           "Burkina Faso",
           "BFA",
           "No Data",
           "No Data",
           0.19,
           0.01,
           "Coal"
          ],
          [
           "Burundi",
           "BDI",
           "No Data",
           "No Data",
           0.051,
           0,
           "Oil"
          ],
          [
           "Cambodia",
           "KHM",
           "No Data",
           "No Data",
           0.917,
           0.04,
           "Oil"
          ],
          [
           "Cameroon",
           "CMR",
           "No Data",
           "No Data",
           0.26,
           0.02,
           "Coal"
          ],
          [
           "Canada",
           "CAN",
           26.03,
           58,
           14.197,
           1.54,
           "Oil"
          ],
          [
           "Cape Verde",
           "CPV",
           "No Data",
           "No Data",
           0.989,
           0,
           "Coal"
          ],
          [
           "Central African Republic",
           "CAF",
           "No Data",
           "No Data",
           0.039,
           0,
           "Coal"
          ],
          [
           "Chad",
           "TCD",
           "No Data",
           "No Data",
           0.056,
           0,
           "Coal"
          ],
          [
           "Chile",
           "CHL",
           "No Data",
           "No Data",
           4.246,
           0.23,
           "Oil"
          ],
          [
           "China",
           "CHN",
           52.2,
           35,
           7.412,
           30.65,
           "Coal"
          ],
          [
           "Christmas Island",
           "CXR",
           "No Data",
           "No Data",
           "No Data",
           "No Data",
           "Coal"
          ],
          [
           "Colombia",
           "COL",
           57.87,
           22,
           1.751,
           0.26,
           "Oil"
          ],
          [
           "Comoros",
           "COM",
           "No Data",
           "No Data",
           0.297,
           0,
           "Coal"
          ],
          [
           "Congo",
           "COG",
           "No Data",
           "No Data",
           0.565,
           0.01,
           "Coal"
          ],
          [
           "Cook Islands",
           "COK",
           "No Data",
           "No Data",
           4.522,
           0,
           "Coal"
          ],
          [
           "Costa Rica",
           "CRI",
           "No Data",
           "No Data",
           1.552,
           0.02,
           "Coal"
          ],
          [
           "Cote d'Ivoire",
           "CIV",
           "No Data",
           "No Data",
           0.382,
           0.03,
           "Coal"
          ],
          [
           "Croatia",
           "HRV",
           55.96,
           26,
           4.137,
           0.05,
           "Oil"
          ],
          [
           "Cuba",
           "CUB",
           "No Data",
           "No Data",
           1.779,
           0.06,
           "Oil"
          ],
          [
           "Curacao",
           "CUW",
           "No Data",
           "No Data",
           20.323,
           0.01,
           "Coal"
          ],
          [
           "Cyprus",
           "CYP",
           50.52,
           39,
           5.38,
           0.02,
           "Oil"
          ],
          [
           "Czechia",
           "CZE",
           42.15,
           48,
           8.215,
           0.25,
           "Coal"
          ],
          [
           "Democratic Republic of Congo",
           "COD",
           "No Data",
           "No Data",
           0.028,
           0.01,
           "Coal"
          ],
          [
           "Denmark",
           "DNK",
           76.67,
           1,
           4.522,
           0.08,
           "Oil"
          ],
          [
           "Djibouti",
           "DJI",
           "No Data",
           "No Data",
           0.356,
           0,
           "Coal"
          ],
          [
           "Dominica",
           "DMA",
           "No Data",
           "No Data",
           1.934,
           0,
           "Coal"
          ],
          [
           "Dominican Republic",
           "DOM",
           "No Data",
           "No Data",
           2.56,
           0.08,
           "Oil"
          ],
          [
           "Ecuador",
           "ECU",
           "No Data",
           "No Data",
           1.753,
           0.09,
           "Coal"
          ],
          [
           "Egypt",
           "EGY",
           59.74,
           18,
           2.086,
           0.61,
           "Gas"
          ],
          [
           "El Salvador",
           "SLV",
           "No Data",
           "No Data",
           0.944,
           0.02,
           "Oil"
          ],
          [
           "Equatorial Guinea",
           "GNQ",
           "No Data",
           "No Data",
           7.317,
           0.03,
           "Coal"
          ],
          [
           "Eritrea",
           "ERI",
           "No Data",
           "No Data",
           0.204,
           0,
           "Coal"
          ],
          [
           "Estonia",
           "EST",
           54.98,
           29,
           7.88,
           0.03,
           "Coal"
          ],
          [
           "Eswatini",
           "SWZ",
           "No Data",
           "No Data",
           0.824,
           0,
           "Oil"
          ],
          [
           "Ethiopia",
           "ETH",
           "No Data",
           "No Data",
           0.128,
           0.04,
           "Oil"
          ],
          [
           "Faeroe Islands",
           "FRO",
           "No Data",
           "No Data",
           13.996,
           0,
           "Coal"
          ],
          [
           "Fiji",
           "FJI",
           "No Data",
           "No Data",
           1.554,
           0,
           "Coal"
          ],
          [
           "Finland",
           "FIN",
           62.41,
           11,
           7.091,
           0.11,
           "Oil"
          ],
          [
           "France",
           "FRA",
           61.01,
           14,
           4.238,
           0.79,
           "Oil"
          ],
          [
           "French Guiana",
           "GUF",
           "No Data",
           "No Data",
           2.439,
           0,
           "Coal"
          ],
          [
           "French Polynesia",
           "PYF",
           "No Data",
           "No Data",
           2.949,
           0,
           "Coal"
          ],
          [
           "Gabon",
           "GAB",
           "No Data",
           "No Data",
           1.931,
           0.01,
           "Coal"
          ],
          [
           "Gambia",
           "GMB",
           "No Data",
           "No Data",
           0.207,
           0,
           "Coal"
          ],
          [
           "Georgia",
           "GEO",
           "No Data",
           "No Data",
           2.499,
           0.03,
           "Gas"
          ],
          [
           "Germany",
           "DEU",
           63.53,
           10,
           7.69,
           1.85,
           "Oil"
          ],
          [
           "Ghana",
           "GHA",
           "No Data",
           "No Data",
           0.515,
           0.05,
           "Coal"
          ],
          [
           "Greece",
           "GRC",
           58.22,
           21,
           5.012,
           0.15,
           "Oil"
          ],
          [
           "Greenland",
           "GRL",
           "No Data",
           "No Data",
           9.061,
           0,
           "Coal"
          ],
          [
           "Grenada",
           "GRD",
           "No Data",
           "No Data",
           2.62,
           0,
           "Coal"
          ],
          [
           "Guadeloupe",
           "GLP",
           "No Data",
           "No Data",
           6.403,
           0.01,
           "Oil"
          ],
          [
           "Guatemala",
           "GTM",
           "No Data",
           "No Data",
           1.057,
           0.05,
           "Oil"
          ],
          [
           "Guinea",
           "GIN",
           "No Data",
           "No Data",
           0.258,
           0.01,
           "Coal"
          ],
          [
           "Guinea-Bissau",
           "GNB",
           "No Data",
           "No Data",
           0.146,
           0,
           "Coal"
          ],
          [
           "Guyana",
           "GUY",
           "No Data",
           "No Data",
           2.813,
           0.01,
           "Coal"
          ],
          [
           "Haiti",
           "HTI",
           "No Data",
           "No Data",
           0.256,
           0.01,
           "Coal"
          ],
          [
           "Honduras",
           "HND",
           "No Data",
           "No Data",
           0.975,
           0.03,
           "Coal"
          ],
          [
           "Hong Kong",
           "HKG",
           "No Data",
           "No Data",
           4.167,
           0.09,
           "Coal"
          ],
          [
           "Hungary",
           "HUN",
           40.41,
           50,
           4.997,
           0.14,
           "Gas"
          ],
          [
           "Iceland",
           "ISL",
           "No Data",
           "No Data",
           8.604,
           0.01,
           "Oil"
          ],
          [
           "India",
           "IND",
           69.2,
           7,
           1.769,
           7.02,
           "Coal"
          ],
          [
           "Indonesia",
           "IDN",
           57.17,
           24,
           2.155,
           1.69,
           "Coal"
          ],
          [
           "Iran",
           "IRN",
           25.66,
           59,
           8.87,
           2.14,
           "Gas"
          ],
          [
           "Iraq",
           "IRQ",
           "No Data",
           "No Data",
           5.242,
           0.61,
           "Coal"
          ],
          [
           "Ireland",
           "IRL",
           47.86,
           43,
           6.754,
           0.1,
           "Oil"
          ],
          [
           "Israel",
           "ISR",
           "No Data",
           "No Data",
           6.51,
           0.16,
           "Oil"
          ],
          [
           "Italy",
           "ITA",
           55.39,
           27,
           5.025,
           0.87,
           "Gas"
          ],
          [
           "Jamaica",
           "JAM",
           "No Data",
           "No Data",
           2.509,
           0.02,
           "Oil"
          ],
          [
           "Japan",
           "JPN",
           48.53,
           42,
           8.15,
           2.96,
           "Coal"
          ],
          [
           "Jordan",
           "JOR",
           "No Data",
           "No Data",
           2.498,
           0.07,
           "Oil"
          ],
          [
           "Kazakhstan",
           "KAZ",
           19.23,
           61,
           15.516,
           0.84,
           "Coal"
          ],
          [
           "Kenya",
           "KEN",
           "No Data",
           "No Data",
           0.3,
           0.05,
           "Oil"
          ],
          [
           "Kiribati",
           "KIR",
           "No Data",
           "No Data",
           0.57,
           0,
           "Coal"
          ],
          [
           "Kosovo",
           "OWID_KOS",
           "No Data",
           "No Data",
           "No Data",
           0.02,
           "Coal"
          ],
          [
           "Kuwait",
           "KWT",
           "No Data",
           "No Data",
           20.825,
           0.26,
           "Coal"
          ],
          [
           "Kyrgyzstan",
           "KGZ",
           "No Data",
           "No Data",
           1.764,
           0.03,
           "Oil"
          ],
          [
           "Laos",
           "LAO",
           "No Data",
           "No Data",
           4.652,
           0.1,
           "Coal"
          ],
          [
           "Latvia",
           "LVA",
           57.73,
           23,
           3.591,
           0.02,
           "Oil"
          ],
          [
           "Lebanon",
           "LBN",
           "No Data",
           "No Data",
           3.805,
           0.07,
           "Oil"
          ],
          [
           "Lesotho",
           "LSO",
           "No Data",
           "No Data",
           1.019,
           0.01,
           "Coal"
          ],
          [
           "Liberia",
           "LBR",
           "No Data",
           "No Data",
           0.2,
           0,
           "Coal"
          ],
          [
           "Libya",
           "LBY",
           "No Data",
           "No Data",
           7.382,
           0.15,
           "Coal"
          ],
          [
           "Liechtenstein",
           "LIE",
           "No Data",
           "No Data",
           3.698,
           0,
           "Coal"
          ],
          [
           "Lithuania",
           "LTU",
           64.89,
           8,
           5.069,
           0.04,
           "Oil"
          ],
          [
           "Luxembourg",
           "LUX",
           60.8,
           15,
           13.059,
           0.02,
           "Oil"
          ],
          [
           "Madagascar",
           "MDG",
           "No Data",
           "No Data",
           0.133,
           0.01,
           "Oil"
          ],
          [
           "Malawi",
           "MWI",
           "No Data",
           "No Data",
           0.073,
           0,
           "Oil"
          ],
          [
           "Malaysia",
           "MYS",
           33.74,
           54,
           8.423,
           0.78,
           "Coal"
          ],
          [
           "Maldives",
           "MDV",
           "No Data",
           "No Data",
           3.324,
           0.01,
           "Coal"
          ],
          [
           "Mali",
           "MLI",
           "No Data",
           "No Data",
           0.167,
           0.01,
           "Coal"
          ],
          [
           "Malta",
           "MLT",
           64.18,
           9,
           3.612,
           0,
           "Oil"
          ],
          [
           "Marshall Islands",
           "MHL",
           "No Data",
           "No Data",
           2.556,
           0,
           "Coal"
          ],
          [
           "Martinique",
           "MTQ",
           "No Data",
           "No Data",
           6.258,
           0.01,
           "Coal"
          ],
          [
           "Mauritania",
           "MRT",
           "No Data",
           "No Data",
           0.726,
           0.01,
           "Coal"
          ],
          [
           "Mauritius",
           "MUS",
           "No Data",
           "No Data",
           3.129,
           0.01,
           "Oil"
          ],
          [
           "Mayotte",
           "MYT",
           "No Data",
           "No Data",
           1.12,
           0,
           "Coal"
          ],
          [
           "Mexico",
           "MEX",
           56.05,
           25,
           2.769,
           1.03,
           "Oil"
          ],
          [
           "Moldova",
           "MDA",
           "No Data",
           "No Data",
           1.276,
           0.01,
           "Oil"
          ],
          [
           "Mongolia",
           "MNG",
           "No Data",
           "No Data",
           26.978,
           0.25,
           "Coal"
          ],
          [
           "Montenegro",
           "MNE",
           "No Data",
           "No Data",
           3.678,
           0.01,
           "Coal"
          ],
          [
           "Montserrat",
           "MSR",
           "No Data",
           "No Data",
           5.065,
           0,
           "Coal"
          ],
          [
           "Morocco",
           "MAR",
           71.6,
           5,
           1.748,
           0.19,
           "Oil"
          ],
          [
           "Mozambique",
           "MOZ",
           "No Data",
           "No Data",
           0.21,
           0.02,
           "Oil"
          ],
          [
           "Myanmar",
           "MMR",
           "No Data",
           "No Data",
           0.668,
           0.1,
           "Oil"
          ],
          [
           "Namibia",
           "NAM",
           "No Data",
           "No Data",
           1.526,
           0.01,
           "Oil"
          ],
          [
           "Nauru",
           "NRU",
           "No Data",
           "No Data",
           5.236,
           0,
           "Coal"
          ],
          [
           "Nepal",
           "NPL",
           "No Data",
           "No Data",
           0.582,
           0.05,
           "Oil"
          ],
          [
           "Netherlands",
           "NLD",
           60.44,
           16,
           8.06,
           0.4,
           "Gas"
          ],
          [
           "New Caledonia",
           "NCL",
           "No Data",
           "No Data",
           30.448,
           0.02,
           "Coal"
          ],
          [
           "New Zealand",
           "NZL",
           54.03,
           32,
           6.942,
           0.1,
           "Oil"
          ],
          [
           "Nicaragua",
           "NIC",
           "No Data",
           "No Data",
           0.766,
           0.01,
           "Coal"
          ],
          [
           "Niger",
           "NER",
           "No Data",
           "No Data",
           0.07,
           0,
           "Oil"
          ],
          [
           "Nigeria",
           "NGA",
           "No Data",
           "No Data",
           0.609,
           0.36,
           "Oil"
          ],
          [
           "Niue",
           "NIU",
           "No Data",
           "No Data",
           7.012,
           0,
           "Coal"
          ],
          [
           "North Korea",
           "PRK",
           "No Data",
           "No Data",
           1.137,
           0.08,
           "Coal"
          ],
          [
           "North Macedonia",
           "MKD",
           "No Data",
           "No Data",
           3.43,
           0.02,
           "Coal"
          ],
          [
           "Norway",
           "NOR",
           73.29,
           3,
           7.615,
           0.12,
           "Oil"
          ],
          [
           "Oman",
           "OMN",
           "No Data",
           "No Data",
           12.173,
           0.18,
           "Coal"
          ],
          [
           "Pakistan",
           "PAK",
           "No Data",
           "No Data",
           1.063,
           0.67,
           "Oil"
          ],
          [
           "Palau",
           "PLW",
           "No Data",
           "No Data",
           12.125,
           0,
           "Coal"
          ],
          [
           "Palestine",
           "PSE",
           "No Data",
           "No Data",
           0.568,
           0.01,
           "Coal"
          ],
          [
           "Panama",
           "PAN",
           "No Data",
           "No Data",
           2.498,
           0.03,
           "Oil"
          ],
          [
           "Papua New Guinea",
           "PNG",
           "No Data",
           "No Data",
           0.744,
           0.02,
           "Coal"
          ],
          [
           "Paraguay",
           "PRY",
           "No Data",
           "No Data",
           1.061,
           0.02,
           "Oil"
          ],
          [
           "Peru",
           "PER",
           "No Data",
           "No Data",
           1.356,
           0.13,
           "Oil"
          ],
          [
           "Philippines",
           "PHL",
           58.98,
           20,
           1.241,
           0.39,
           "Coal"
          ],
          [
           "Poland",
           "POL",
           40.63,
           49,
           7.916,
           0.86,
           "Coal"
          ],
          [
           "Portugal",
           "PRT",
           61.11,
           13,
           3.961,
           0.12,
           "Oil"
          ],
          [
           "Puerto Rico",
           "PRI",
           "No Data",
           "No Data",
           "No Data",
           "No Data",
           "Coal"
          ],
          [
           "Qatar",
           "QAT",
           "No Data",
           "No Data",
           37.019,
           0.31,
           "Coal"
          ],
          [
           "Romania",
           "ROU",
           52.43,
           33,
           3.715,
           0.21,
           "Oil"
          ],
          [
           "Russia",
           "RUS",
           34.73,
           53,
           10.807,
           4.53,
           "Gas"
          ],
          [
           "Rwanda",
           "RWA",
           "No Data",
           "No Data",
           0.08,
           0,
           "Oil"
          ],
          [
           "Saint Helena",
           "SHN",
           "No Data",
           "No Data",
           1.564,
           0,
           "Coal"
          ],
          [
           "Saint Kitts and Nevis",
           "KNA",
           "No Data",
           "No Data",
           3.986,
           0,
           "Coal"
          ],
          [
           "Saint Lucia",
           "LCA",
           "No Data",
           "No Data",
           2.396,
           0,
           "Coal"
          ],
          [
           "Saint Pierre and Miquelon",
           "SPM",
           "No Data",
           "No Data",
           8.738,
           0,
           "Coal"
          ],
          [
           "Saint Vincent and the Grenadines",
           "VCT",
           "No Data",
           "No Data",
           1.883,
           0,
           "Coal"
          ],
          [
           "Samoa",
           "WSM",
           "No Data",
           "No Data",
           1.239,
           0,
           "Coal"
          ],
          [
           "Sao Tome and Principe",
           "STP",
           "No Data",
           "No Data",
           0.514,
           0,
           "Coal"
          ],
          [
           "Saudi Arabia",
           "SAU",
           24.25,
           60,
           17.967,
           1.8,
           "Coal"
          ],
          [
           "Senegal",
           "SEN",
           "No Data",
           "No Data",
           0.624,
           0.03,
           "Oil"
          ],
          [
           "Serbia",
           "SRB",
           "No Data",
           "No Data",
           4.937,
           0.12,
           "Coal"
          ],
          [
           "Seychelles",
           "SYC",
           "No Data",
           "No Data",
           4.994,
           0,
           "Coal"
          ],
          [
           "Sierra Leone",
           "SLE",
           "No Data",
           "No Data",
           0.11,
           0,
           "Coal"
          ],
          [
           "Singapore",
           "SGP",
           "No Data",
           "No Data",
           7.778,
           0.13,
           "Oil"
          ],
          [
           "Sint Maarten (Dutch part)",
           "SXM",
           "No Data",
           "No Data",
           14.539,
           0,
           "Coal"
          ],
          [
           "Slovakia",
           "SVK",
           50.67,
           37,
           5.629,
           0.09,
           "Oil"
          ],
          [
           "Slovenia",
           "SVN",
           43.28,
           47,
           6.043,
           0.04,
           "Oil"
          ],
          [
           "Solomon Islands",
           "SLB",
           "No Data",
           "No Data",
           0.435,
           0,
           "Coal"
          ],
          [
           "Somalia",
           "SOM",
           "No Data",
           "No Data",
           0.035,
           0,
           "Coal"
          ],
          [
           "South Africa",
           "ZAF",
           51.13,
           36,
           7.62,
           1.3,
           "Coal"
          ],
          [
           "South Korea",
           "KOR",
           26.74,
           57,
           11.656,
           1.72,
           "Coal"
          ],
          [
           "South Sudan",
           "SSD",
           "No Data",
           "No Data",
           0.105,
           0,
           "Coal"
          ],
          [
           "Spain",
           "ESP",
           54.35,
           31,
           4.468,
           0.6,
           "Oil"
          ],
          [
           "Sri Lanka",
           "LKA",
           "No Data",
           "No Data",
           0.986,
           0.06,
           "Oil"
          ],
          [
           "Sudan",
           "SDN",
           "No Data",
           "No Data",
           0.43,
           0.05,
           "Coal"
          ],
          [
           "Suriname",
           "SUR",
           "No Data",
           "No Data",
           3.791,
           0.01,
           "Coal"
          ],
          [
           "Sweden",
           "SWE",
           74.22,
           2,
           3.826,
           0.11,
           "Oil"
          ],
          [
           "Switzerland",
           "CHE",
           61.7,
           12,
           3.732,
           0.09,
           "Oil"
          ],
          [
           "Syria",
           "SYR",
           "No Data",
           "No Data",
           1.745,
           0.09,
           "Oil"
          ],
          [
           "Taiwan",
           "TWN",
           "No Data",
           "No Data",
           11.47,
           0.78,
           "Coal"
          ],
          [
           "Tajikistan",
           "TJK",
           "No Data",
           "No Data",
           0.991,
           0.03,
           "Coal"
          ],
          [
           "Tanzania",
           "TZA",
           "No Data",
           "No Data",
           0.183,
           0.03,
           "Oil"
          ],
          [
           "Thailand",
           "THA",
           55.01,
           28,
           3.693,
           0.74,
           "Oil"
          ],
          [
           "Timor",
           "TLS",
           "No Data",
           "No Data",
           0.399,
           0,
           "Coal"
          ],
          [
           "Togo",
           "TGO",
           "No Data",
           "No Data",
           0.265,
           0.01,
           "Coal"
          ],
          [
           "Tonga",
           "TON",
           "No Data",
           "No Data",
           1.36,
           0,
           "Coal"
          ],
          [
           "Trinidad and Tobago",
           "TTO",
           "No Data",
           "No Data",
           25.373,
           0.1,
           "Coal"
          ],
          [
           "Tunisia",
           "TUN",
           "No Data",
           "No Data",
           2.38,
           0.08,
           "Coal"
          ],
          [
           "Turkey",
           "TUR",
           50.53,
           38,
           4.657,
           1.13,
           "Coal"
          ],
          [
           "Turkmenistan",
           "TKM",
           "No Data",
           "No Data",
           12.491,
           0.22,
           "Coal"
          ],
          [
           "Turks and Caicos Islands",
           "TCA",
           "No Data",
           "No Data",
           5.231,
           0,
           "Coal"
          ],
          [
           "Tuvalu",
           "TUV",
           "No Data",
           "No Data",
           0.642,
           0,
           "Coal"
          ],
          [
           "Uganda",
           "UGA",
           "No Data",
           "No Data",
           0.107,
           0.01,
           "Coal"
          ],
          [
           "Ukraine",
           "UKR",
           60.4,
           17,
           4.891,
           0.61,
           "Coal"
          ],
          [
           "United Arab Emirates",
           "ARE",
           "No Data",
           "No Data",
           15.193,
           0.43,
           "Gas"
          ],
          [
           "United Kingdom",
           "GBR",
           73.09,
           4,
           4.855,
           0.95,
           "Gas"
          ],
          [
           "United States",
           "USA",
           37.39,
           52,
           14.238,
           13.54,
           "Oil"
          ],
          [
           "Uruguay",
           "URY",
           "No Data",
           "No Data",
           1.681,
           0.02,
           "Oil"
          ],
          [
           "Uzbekistan",
           "UZB",
           "No Data",
           "No Data",
           3.37,
           0.32,
           "Gas"
          ],
          [
           "Vanuatu",
           "VUT",
           "No Data",
           "No Data",
           0.591,
           0,
           "Coal"
          ],
          [
           "Venezuela",
           "VEN",
           "No Data",
           "No Data",
           2.975,
           0.24,
           "Flaring"
          ],
          [
           "Vietnam",
           "VNM",
           49.21,
           40,
           2.613,
           0.73,
           "Coal"
          ],
          [
           "Yemen",
           "YEM",
           "No Data",
           "No Data",
           0.328,
           0.03,
           "Oil"
          ],
          [
           "Zambia",
           "ZMB",
           "No Data",
           "No Data",
           0.358,
           0.02,
           "Oil"
          ],
          [
           "Zimbabwe",
           "ZWE",
           "No Data",
           "No Data",
           0.709,
           0.03,
           "Coal"
          ]
         ],
         "hovertemplate": "%{customdata[0]} (%{customdata[1]})<br>CCPI Score: %{customdata[2]}<br>CCPI Rank: %{customdata[3]}<br>CO2 Emissions per Capita: %{customdata[4]}<br>Global Share of CO2 Emissions: %{customdata[5]}<br>Primary CO2 Emissions Source: %{customdata[6]}<br><extra></extra>",
         "locations": [
          "AFG",
          "ALB",
          "DZA",
          "AND",
          "AGO",
          "AIA",
          "ATA",
          "ATG",
          "ARG",
          "ARM",
          "ABW",
          "AUS",
          "AUT",
          "AZE",
          "BHS",
          "BHR",
          "BGD",
          "BRB",
          "BLR",
          "BEL",
          "BLZ",
          "BEN",
          "BMU",
          "BTN",
          "BOL",
          "BES",
          "BIH",
          "BWA",
          "BRA",
          "VGB",
          "BRN",
          "BGR",
          "BFA",
          "BDI",
          "KHM",
          "CMR",
          "CAN",
          "CPV",
          "CAF",
          "TCD",
          "CHL",
          "CHN",
          "CXR",
          "COL",
          "COM",
          "COG",
          "COK",
          "CRI",
          "CIV",
          "HRV",
          "CUB",
          "CUW",
          "CYP",
          "CZE",
          "COD",
          "DNK",
          "DJI",
          "DMA",
          "DOM",
          "ECU",
          "EGY",
          "SLV",
          "GNQ",
          "ERI",
          "EST",
          "SWZ",
          "ETH",
          "FRO",
          "FJI",
          "FIN",
          "FRA",
          "GUF",
          "PYF",
          "GAB",
          "GMB",
          "GEO",
          "DEU",
          "GHA",
          "GRC",
          "GRL",
          "GRD",
          "GLP",
          "GTM",
          "GIN",
          "GNB",
          "GUY",
          "HTI",
          "HND",
          "HKG",
          "HUN",
          "ISL",
          "IND",
          "IDN",
          "IRN",
          "IRQ",
          "IRL",
          "ISR",
          "ITA",
          "JAM",
          "JPN",
          "JOR",
          "KAZ",
          "KEN",
          "KIR",
          "OWID_KOS",
          "KWT",
          "KGZ",
          "LAO",
          "LVA",
          "LBN",
          "LSO",
          "LBR",
          "LBY",
          "LIE",
          "LTU",
          "LUX",
          "MDG",
          "MWI",
          "MYS",
          "MDV",
          "MLI",
          "MLT",
          "MHL",
          "MTQ",
          "MRT",
          "MUS",
          "MYT",
          "MEX",
          "MDA",
          "MNG",
          "MNE",
          "MSR",
          "MAR",
          "MOZ",
          "MMR",
          "NAM",
          "NRU",
          "NPL",
          "NLD",
          "NCL",
          "NZL",
          "NIC",
          "NER",
          "NGA",
          "NIU",
          "PRK",
          "MKD",
          "NOR",
          "OMN",
          "PAK",
          "PLW",
          "PSE",
          "PAN",
          "PNG",
          "PRY",
          "PER",
          "PHL",
          "POL",
          "PRT",
          "PRI",
          "QAT",
          "ROU",
          "RUS",
          "RWA",
          "SHN",
          "KNA",
          "LCA",
          "SPM",
          "VCT",
          "WSM",
          "STP",
          "SAU",
          "SEN",
          "SRB",
          "SYC",
          "SLE",
          "SGP",
          "SXM",
          "SVK",
          "SVN",
          "SLB",
          "SOM",
          "ZAF",
          "KOR",
          "SSD",
          "ESP",
          "LKA",
          "SDN",
          "SUR",
          "SWE",
          "CHE",
          "SYR",
          "TWN",
          "TJK",
          "TZA",
          "THA",
          "TLS",
          "TGO",
          "TON",
          "TTO",
          "TUN",
          "TUR",
          "TKM",
          "TCA",
          "TUV",
          "UGA",
          "UKR",
          "ARE",
          "GBR",
          "USA",
          "URY",
          "UZB",
          "VUT",
          "VEN",
          "VNM",
          "YEM",
          "ZMB",
          "ZWE"
         ],
         "marker": {
          "line": {
           "width": 0.1
          }
         },
         "reversescale": true,
         "type": "choropleth",
         "visible": false,
         "z": [
          0.03,
          0.01,
          0.45,
          0,
          0.06,
          0,
          "No Data",
          0,
          0.45,
          0.02,
          0,
          1.13,
          0.17,
          0.11,
          0.01,
          0.1,
          0.27,
          0,
          0.17,
          0.24,
          0,
          0.02,
          0,
          0.01,
          0.06,
          0,
          0.06,
          0.02,
          1.34,
          0,
          0.03,
          0.11,
          0.01,
          0,
          0.04,
          0.02,
          1.54,
          0,
          0,
          0,
          0.23,
          30.65,
          "No Data",
          0.26,
          0,
          0.01,
          0,
          0.02,
          0.03,
          0.05,
          0.06,
          0.01,
          0.02,
          0.25,
          0.01,
          0.08,
          0,
          0,
          0.08,
          0.09,
          0.61,
          0.02,
          0.03,
          0,
          0.03,
          0,
          0.04,
          0,
          0,
          0.11,
          0.79,
          0,
          0,
          0.01,
          0,
          0.03,
          1.85,
          0.05,
          0.15,
          0,
          0,
          0.01,
          0.05,
          0.01,
          0,
          0.01,
          0.01,
          0.03,
          0.09,
          0.14,
          0.01,
          7.02,
          1.69,
          2.14,
          0.61,
          0.1,
          0.16,
          0.87,
          0.02,
          2.96,
          0.07,
          0.84,
          0.05,
          0,
          0.02,
          0.26,
          0.03,
          0.1,
          0.02,
          0.07,
          0.01,
          0,
          0.15,
          0,
          0.04,
          0.02,
          0.01,
          0,
          0.78,
          0.01,
          0.01,
          0,
          0,
          0.01,
          0.01,
          0.01,
          0,
          1.03,
          0.01,
          0.25,
          0.01,
          0,
          0.19,
          0.02,
          0.1,
          0.01,
          0,
          0.05,
          0.4,
          0.02,
          0.1,
          0.01,
          0,
          0.36,
          0,
          0.08,
          0.02,
          0.12,
          0.18,
          0.67,
          0,
          0.01,
          0.03,
          0.02,
          0.02,
          0.13,
          0.39,
          0.86,
          0.12,
          "No Data",
          0.31,
          0.21,
          4.53,
          0,
          0,
          0,
          0,
          0,
          0,
          0,
          0,
          1.8,
          0.03,
          0.12,
          0,
          0,
          0.13,
          0,
          0.09,
          0.04,
          0,
          0,
          1.3,
          1.72,
          0,
          0.6,
          0.06,
          0.05,
          0.01,
          0.11,
          0.09,
          0.09,
          0.78,
          0.03,
          0.03,
          0.74,
          0,
          0.01,
          0,
          0.1,
          0.08,
          1.13,
          0.22,
          0,
          0,
          0.01,
          0.61,
          0.43,
          0.95,
          13.54,
          0.02,
          0.32,
          0,
          0.24,
          0.73,
          0.03,
          0.02,
          0.03
         ]
        },
        {
         "colorbar": {
          "ticktext": [
           "Coal",
           "Gas",
           "Flaring",
           "Oil"
          ],
          "tickvals": [
           0,
           1,
           2,
           3
          ],
          "title": {
           "text": "Primary CO2<br>Emissions<br>Source"
          }
         },
         "colorscale": [
          [
           0,
           "rgb(165,0,38)"
          ],
          [
           0.1,
           "rgb(215,48,39)"
          ],
          [
           0.2,
           "rgb(244,109,67)"
          ],
          [
           0.3,
           "rgb(253,174,97)"
          ],
          [
           0.4,
           "rgb(254,224,139)"
          ],
          [
           0.5,
           "rgb(255,255,191)"
          ],
          [
           0.6,
           "rgb(217,239,139)"
          ],
          [
           0.7,
           "rgb(166,217,106)"
          ],
          [
           0.8,
           "rgb(102,189,99)"
          ],
          [
           0.9,
           "rgb(26,152,80)"
          ],
          [
           1,
           "rgb(0,104,55)"
          ]
         ],
         "customdata": [
          [
           "Afghanistan",
           "AFG",
           "No Data",
           "No Data",
           0.312,
           0.03,
           "Coal"
          ],
          [
           "Albania",
           "ALB",
           "No Data",
           "No Data",
           1.576,
           0.01,
           "Oil"
          ],
          [
           "Algeria",
           "DZA",
           39.91,
           51,
           3.535,
           0.45,
           "Gas"
          ],
          [
           "Andorra",
           "AND",
           "No Data",
           "No Data",
           6.035,
           0,
           "Coal"
          ],
          [
           "Angola",
           "AGO",
           "No Data",
           "No Data",
           0.675,
           0.06,
           "Coal"
          ],
          [
           "Anguilla",
           "AIA",
           "No Data",
           "No Data",
           8.227,
           0,
           "Coal"
          ],
          [
           "Antarctica",
           "ATA",
           "No Data",
           "No Data",
           "No Data",
           "No Data",
           "Coal"
          ],
          [
           "Antigua and Barbuda",
           "ATG",
           "No Data",
           "No Data",
           4.395,
           0,
           "Coal"
          ],
          [
           "Argentina",
           "ARG",
           47.08,
           44,
           3.473,
           0.45,
           "Gas"
          ],
          [
           "Armenia",
           "ARM",
           "No Data",
           "No Data",
           1.988,
           0.02,
           "Gas"
          ],
          [
           "Aruba",
           "ABW",
           "No Data",
           "No Data",
           7.055,
           0,
           "Coal"
          ],
          [
           "Australia",
           "AUS",
           30.06,
           56,
           15.368,
           1.13,
           "Coal"
          ],
          [
           "Austria",
           "AUT",
           52.35,
           34,
           6.732,
           0.17,
           "Oil"
          ],
          [
           "Azerbaijan",
           "AZE",
           "No Data",
           "No Data",
           3.72,
           0.11,
           "Gas"
          ],
          [
           "Bahamas",
           "BHS",
           "No Data",
           "No Data",
           5.945,
           0.01,
           "Oil"
          ],
          [
           "Bahrain",
           "BHR",
           "No Data",
           "No Data",
           20.546,
           0.1,
           "Coal"
          ],
          [
           "Bangladesh",
           "BGD",
           "No Data",
           "No Data",
           0.564,
           0.27,
           "Gas"
          ],
          [
           "Barbados",
           "BRB",
           "No Data",
           "No Data",
           3.782,
           0,
           "Coal"
          ],
          [
           "Belarus",
           "BLR",
           46.66,
           45,
           6.079,
           0.17,
           "Gas"
          ],
          [
           "Belgium",
           "BEL",
           45.9,
           46,
           7.226,
           0.24,
           "Gas"
          ],
          [
           "Belize",
           "BLZ",
           "No Data",
           "No Data",
           1.466,
           0,
           "Coal"
          ],
          [
           "Benin",
           "BEN",
           "No Data",
           "No Data",
           0.553,
           0.02,
           "Coal"
          ],
          [
           "Bermuda",
           "BMU",
           "No Data",
           "No Data",
           10.028,
           0,
           "Oil"
          ],
          [
           "Bhutan",
           "BTN",
           "No Data",
           "No Data",
           2.495,
           0.01,
           "Coal"
          ],
          [
           "Bolivia",
           "BOL",
           "No Data",
           "No Data",
           1.773,
           0.06,
           "Oil"
          ],
          [
           "Bonaire Sint Eustatius and Saba",
           "BES",
           "No Data",
           "No Data",
           11.466,
           0,
           "Coal"
          ],
          [
           "Bosnia and Herzegovina",
           "BIH",
           "No Data",
           "No Data",
           6.528,
           0.06,
           "Coal"
          ],
          [
           "Botswana",
           "BWA",
           "No Data",
           "No Data",
           2.772,
           0.02,
           "Coal"
          ],
          [
           "Brazil",
           "BRA",
           54.86,
           30,
           2.199,
           1.34,
           "Oil"
          ],
          [
           "British Virgin Islands",
           "VGB",
           "No Data",
           "No Data",
           4.605,
           0,
           "Coal"
          ],
          [
           "Brunei",
           "BRN",
           "No Data",
           "No Data",
           23.22,
           0.03,
           "Coal"
          ],
          [
           "Bulgaria",
           "BGR",
           48.71,
           41,
           5.389,
           0.11,
           "Coal"
          ],
          [
           "Burkina Faso",
           "BFA",
           "No Data",
           "No Data",
           0.19,
           0.01,
           "Coal"
          ],
          [
           "Burundi",
           "BDI",
           "No Data",
           "No Data",
           0.051,
           0,
           "Oil"
          ],
          [
           "Cambodia",
           "KHM",
           "No Data",
           "No Data",
           0.917,
           0.04,
           "Oil"
          ],
          [
           "Cameroon",
           "CMR",
           "No Data",
           "No Data",
           0.26,
           0.02,
           "Coal"
          ],
          [
           "Canada",
           "CAN",
           26.03,
           58,
           14.197,
           1.54,
           "Oil"
          ],
          [
           "Cape Verde",
           "CPV",
           "No Data",
           "No Data",
           0.989,
           0,
           "Coal"
          ],
          [
           "Central African Republic",
           "CAF",
           "No Data",
           "No Data",
           0.039,
           0,
           "Coal"
          ],
          [
           "Chad",
           "TCD",
           "No Data",
           "No Data",
           0.056,
           0,
           "Coal"
          ],
          [
           "Chile",
           "CHL",
           "No Data",
           "No Data",
           4.246,
           0.23,
           "Oil"
          ],
          [
           "China",
           "CHN",
           52.2,
           35,
           7.412,
           30.65,
           "Coal"
          ],
          [
           "Christmas Island",
           "CXR",
           "No Data",
           "No Data",
           "No Data",
           "No Data",
           "Coal"
          ],
          [
           "Colombia",
           "COL",
           57.87,
           22,
           1.751,
           0.26,
           "Oil"
          ],
          [
           "Comoros",
           "COM",
           "No Data",
           "No Data",
           0.297,
           0,
           "Coal"
          ],
          [
           "Congo",
           "COG",
           "No Data",
           "No Data",
           0.565,
           0.01,
           "Coal"
          ],
          [
           "Cook Islands",
           "COK",
           "No Data",
           "No Data",
           4.522,
           0,
           "Coal"
          ],
          [
           "Costa Rica",
           "CRI",
           "No Data",
           "No Data",
           1.552,
           0.02,
           "Coal"
          ],
          [
           "Cote d'Ivoire",
           "CIV",
           "No Data",
           "No Data",
           0.382,
           0.03,
           "Coal"
          ],
          [
           "Croatia",
           "HRV",
           55.96,
           26,
           4.137,
           0.05,
           "Oil"
          ],
          [
           "Cuba",
           "CUB",
           "No Data",
           "No Data",
           1.779,
           0.06,
           "Oil"
          ],
          [
           "Curacao",
           "CUW",
           "No Data",
           "No Data",
           20.323,
           0.01,
           "Coal"
          ],
          [
           "Cyprus",
           "CYP",
           50.52,
           39,
           5.38,
           0.02,
           "Oil"
          ],
          [
           "Czechia",
           "CZE",
           42.15,
           48,
           8.215,
           0.25,
           "Coal"
          ],
          [
           "Democratic Republic of Congo",
           "COD",
           "No Data",
           "No Data",
           0.028,
           0.01,
           "Coal"
          ],
          [
           "Denmark",
           "DNK",
           76.67,
           1,
           4.522,
           0.08,
           "Oil"
          ],
          [
           "Djibouti",
           "DJI",
           "No Data",
           "No Data",
           0.356,
           0,
           "Coal"
          ],
          [
           "Dominica",
           "DMA",
           "No Data",
           "No Data",
           1.934,
           0,
           "Coal"
          ],
          [
           "Dominican Republic",
           "DOM",
           "No Data",
           "No Data",
           2.56,
           0.08,
           "Oil"
          ],
          [
           "Ecuador",
           "ECU",
           "No Data",
           "No Data",
           1.753,
           0.09,
           "Coal"
          ],
          [
           "Egypt",
           "EGY",
           59.74,
           18,
           2.086,
           0.61,
           "Gas"
          ],
          [
           "El Salvador",
           "SLV",
           "No Data",
           "No Data",
           0.944,
           0.02,
           "Oil"
          ],
          [
           "Equatorial Guinea",
           "GNQ",
           "No Data",
           "No Data",
           7.317,
           0.03,
           "Coal"
          ],
          [
           "Eritrea",
           "ERI",
           "No Data",
           "No Data",
           0.204,
           0,
           "Coal"
          ],
          [
           "Estonia",
           "EST",
           54.98,
           29,
           7.88,
           0.03,
           "Coal"
          ],
          [
           "Eswatini",
           "SWZ",
           "No Data",
           "No Data",
           0.824,
           0,
           "Oil"
          ],
          [
           "Ethiopia",
           "ETH",
           "No Data",
           "No Data",
           0.128,
           0.04,
           "Oil"
          ],
          [
           "Faeroe Islands",
           "FRO",
           "No Data",
           "No Data",
           13.996,
           0,
           "Coal"
          ],
          [
           "Fiji",
           "FJI",
           "No Data",
           "No Data",
           1.554,
           0,
           "Coal"
          ],
          [
           "Finland",
           "FIN",
           62.41,
           11,
           7.091,
           0.11,
           "Oil"
          ],
          [
           "France",
           "FRA",
           61.01,
           14,
           4.238,
           0.79,
           "Oil"
          ],
          [
           "French Guiana",
           "GUF",
           "No Data",
           "No Data",
           2.439,
           0,
           "Coal"
          ],
          [
           "French Polynesia",
           "PYF",
           "No Data",
           "No Data",
           2.949,
           0,
           "Coal"
          ],
          [
           "Gabon",
           "GAB",
           "No Data",
           "No Data",
           1.931,
           0.01,
           "Coal"
          ],
          [
           "Gambia",
           "GMB",
           "No Data",
           "No Data",
           0.207,
           0,
           "Coal"
          ],
          [
           "Georgia",
           "GEO",
           "No Data",
           "No Data",
           2.499,
           0.03,
           "Gas"
          ],
          [
           "Germany",
           "DEU",
           63.53,
           10,
           7.69,
           1.85,
           "Oil"
          ],
          [
           "Ghana",
           "GHA",
           "No Data",
           "No Data",
           0.515,
           0.05,
           "Coal"
          ],
          [
           "Greece",
           "GRC",
           58.22,
           21,
           5.012,
           0.15,
           "Oil"
          ],
          [
           "Greenland",
           "GRL",
           "No Data",
           "No Data",
           9.061,
           0,
           "Coal"
          ],
          [
           "Grenada",
           "GRD",
           "No Data",
           "No Data",
           2.62,
           0,
           "Coal"
          ],
          [
           "Guadeloupe",
           "GLP",
           "No Data",
           "No Data",
           6.403,
           0.01,
           "Oil"
          ],
          [
           "Guatemala",
           "GTM",
           "No Data",
           "No Data",
           1.057,
           0.05,
           "Oil"
          ],
          [
           "Guinea",
           "GIN",
           "No Data",
           "No Data",
           0.258,
           0.01,
           "Coal"
          ],
          [
           "Guinea-Bissau",
           "GNB",
           "No Data",
           "No Data",
           0.146,
           0,
           "Coal"
          ],
          [
           "Guyana",
           "GUY",
           "No Data",
           "No Data",
           2.813,
           0.01,
           "Coal"
          ],
          [
           "Haiti",
           "HTI",
           "No Data",
           "No Data",
           0.256,
           0.01,
           "Coal"
          ],
          [
           "Honduras",
           "HND",
           "No Data",
           "No Data",
           0.975,
           0.03,
           "Coal"
          ],
          [
           "Hong Kong",
           "HKG",
           "No Data",
           "No Data",
           4.167,
           0.09,
           "Coal"
          ],
          [
           "Hungary",
           "HUN",
           40.41,
           50,
           4.997,
           0.14,
           "Gas"
          ],
          [
           "Iceland",
           "ISL",
           "No Data",
           "No Data",
           8.604,
           0.01,
           "Oil"
          ],
          [
           "India",
           "IND",
           69.2,
           7,
           1.769,
           7.02,
           "Coal"
          ],
          [
           "Indonesia",
           "IDN",
           57.17,
           24,
           2.155,
           1.69,
           "Coal"
          ],
          [
           "Iran",
           "IRN",
           25.66,
           59,
           8.87,
           2.14,
           "Gas"
          ],
          [
           "Iraq",
           "IRQ",
           "No Data",
           "No Data",
           5.242,
           0.61,
           "Coal"
          ],
          [
           "Ireland",
           "IRL",
           47.86,
           43,
           6.754,
           0.1,
           "Oil"
          ],
          [
           "Israel",
           "ISR",
           "No Data",
           "No Data",
           6.51,
           0.16,
           "Oil"
          ],
          [
           "Italy",
           "ITA",
           55.39,
           27,
           5.025,
           0.87,
           "Gas"
          ],
          [
           "Jamaica",
           "JAM",
           "No Data",
           "No Data",
           2.509,
           0.02,
           "Oil"
          ],
          [
           "Japan",
           "JPN",
           48.53,
           42,
           8.15,
           2.96,
           "Coal"
          ],
          [
           "Jordan",
           "JOR",
           "No Data",
           "No Data",
           2.498,
           0.07,
           "Oil"
          ],
          [
           "Kazakhstan",
           "KAZ",
           19.23,
           61,
           15.516,
           0.84,
           "Coal"
          ],
          [
           "Kenya",
           "KEN",
           "No Data",
           "No Data",
           0.3,
           0.05,
           "Oil"
          ],
          [
           "Kiribati",
           "KIR",
           "No Data",
           "No Data",
           0.57,
           0,
           "Coal"
          ],
          [
           "Kosovo",
           "OWID_KOS",
           "No Data",
           "No Data",
           "No Data",
           0.02,
           "Coal"
          ],
          [
           "Kuwait",
           "KWT",
           "No Data",
           "No Data",
           20.825,
           0.26,
           "Coal"
          ],
          [
           "Kyrgyzstan",
           "KGZ",
           "No Data",
           "No Data",
           1.764,
           0.03,
           "Oil"
          ],
          [
           "Laos",
           "LAO",
           "No Data",
           "No Data",
           4.652,
           0.1,
           "Coal"
          ],
          [
           "Latvia",
           "LVA",
           57.73,
           23,
           3.591,
           0.02,
           "Oil"
          ],
          [
           "Lebanon",
           "LBN",
           "No Data",
           "No Data",
           3.805,
           0.07,
           "Oil"
          ],
          [
           "Lesotho",
           "LSO",
           "No Data",
           "No Data",
           1.019,
           0.01,
           "Coal"
          ],
          [
           "Liberia",
           "LBR",
           "No Data",
           "No Data",
           0.2,
           0,
           "Coal"
          ],
          [
           "Libya",
           "LBY",
           "No Data",
           "No Data",
           7.382,
           0.15,
           "Coal"
          ],
          [
           "Liechtenstein",
           "LIE",
           "No Data",
           "No Data",
           3.698,
           0,
           "Coal"
          ],
          [
           "Lithuania",
           "LTU",
           64.89,
           8,
           5.069,
           0.04,
           "Oil"
          ],
          [
           "Luxembourg",
           "LUX",
           60.8,
           15,
           13.059,
           0.02,
           "Oil"
          ],
          [
           "Madagascar",
           "MDG",
           "No Data",
           "No Data",
           0.133,
           0.01,
           "Oil"
          ],
          [
           "Malawi",
           "MWI",
           "No Data",
           "No Data",
           0.073,
           0,
           "Oil"
          ],
          [
           "Malaysia",
           "MYS",
           33.74,
           54,
           8.423,
           0.78,
           "Coal"
          ],
          [
           "Maldives",
           "MDV",
           "No Data",
           "No Data",
           3.324,
           0.01,
           "Coal"
          ],
          [
           "Mali",
           "MLI",
           "No Data",
           "No Data",
           0.167,
           0.01,
           "Coal"
          ],
          [
           "Malta",
           "MLT",
           64.18,
           9,
           3.612,
           0,
           "Oil"
          ],
          [
           "Marshall Islands",
           "MHL",
           "No Data",
           "No Data",
           2.556,
           0,
           "Coal"
          ],
          [
           "Martinique",
           "MTQ",
           "No Data",
           "No Data",
           6.258,
           0.01,
           "Coal"
          ],
          [
           "Mauritania",
           "MRT",
           "No Data",
           "No Data",
           0.726,
           0.01,
           "Coal"
          ],
          [
           "Mauritius",
           "MUS",
           "No Data",
           "No Data",
           3.129,
           0.01,
           "Oil"
          ],
          [
           "Mayotte",
           "MYT",
           "No Data",
           "No Data",
           1.12,
           0,
           "Coal"
          ],
          [
           "Mexico",
           "MEX",
           56.05,
           25,
           2.769,
           1.03,
           "Oil"
          ],
          [
           "Moldova",
           "MDA",
           "No Data",
           "No Data",
           1.276,
           0.01,
           "Oil"
          ],
          [
           "Mongolia",
           "MNG",
           "No Data",
           "No Data",
           26.978,
           0.25,
           "Coal"
          ],
          [
           "Montenegro",
           "MNE",
           "No Data",
           "No Data",
           3.678,
           0.01,
           "Coal"
          ],
          [
           "Montserrat",
           "MSR",
           "No Data",
           "No Data",
           5.065,
           0,
           "Coal"
          ],
          [
           "Morocco",
           "MAR",
           71.6,
           5,
           1.748,
           0.19,
           "Oil"
          ],
          [
           "Mozambique",
           "MOZ",
           "No Data",
           "No Data",
           0.21,
           0.02,
           "Oil"
          ],
          [
           "Myanmar",
           "MMR",
           "No Data",
           "No Data",
           0.668,
           0.1,
           "Oil"
          ],
          [
           "Namibia",
           "NAM",
           "No Data",
           "No Data",
           1.526,
           0.01,
           "Oil"
          ],
          [
           "Nauru",
           "NRU",
           "No Data",
           "No Data",
           5.236,
           0,
           "Coal"
          ],
          [
           "Nepal",
           "NPL",
           "No Data",
           "No Data",
           0.582,
           0.05,
           "Oil"
          ],
          [
           "Netherlands",
           "NLD",
           60.44,
           16,
           8.06,
           0.4,
           "Gas"
          ],
          [
           "New Caledonia",
           "NCL",
           "No Data",
           "No Data",
           30.448,
           0.02,
           "Coal"
          ],
          [
           "New Zealand",
           "NZL",
           54.03,
           32,
           6.942,
           0.1,
           "Oil"
          ],
          [
           "Nicaragua",
           "NIC",
           "No Data",
           "No Data",
           0.766,
           0.01,
           "Coal"
          ],
          [
           "Niger",
           "NER",
           "No Data",
           "No Data",
           0.07,
           0,
           "Oil"
          ],
          [
           "Nigeria",
           "NGA",
           "No Data",
           "No Data",
           0.609,
           0.36,
           "Oil"
          ],
          [
           "Niue",
           "NIU",
           "No Data",
           "No Data",
           7.012,
           0,
           "Coal"
          ],
          [
           "North Korea",
           "PRK",
           "No Data",
           "No Data",
           1.137,
           0.08,
           "Coal"
          ],
          [
           "North Macedonia",
           "MKD",
           "No Data",
           "No Data",
           3.43,
           0.02,
           "Coal"
          ],
          [
           "Norway",
           "NOR",
           73.29,
           3,
           7.615,
           0.12,
           "Oil"
          ],
          [
           "Oman",
           "OMN",
           "No Data",
           "No Data",
           12.173,
           0.18,
           "Coal"
          ],
          [
           "Pakistan",
           "PAK",
           "No Data",
           "No Data",
           1.063,
           0.67,
           "Oil"
          ],
          [
           "Palau",
           "PLW",
           "No Data",
           "No Data",
           12.125,
           0,
           "Coal"
          ],
          [
           "Palestine",
           "PSE",
           "No Data",
           "No Data",
           0.568,
           0.01,
           "Coal"
          ],
          [
           "Panama",
           "PAN",
           "No Data",
           "No Data",
           2.498,
           0.03,
           "Oil"
          ],
          [
           "Papua New Guinea",
           "PNG",
           "No Data",
           "No Data",
           0.744,
           0.02,
           "Coal"
          ],
          [
           "Paraguay",
           "PRY",
           "No Data",
           "No Data",
           1.061,
           0.02,
           "Oil"
          ],
          [
           "Peru",
           "PER",
           "No Data",
           "No Data",
           1.356,
           0.13,
           "Oil"
          ],
          [
           "Philippines",
           "PHL",
           58.98,
           20,
           1.241,
           0.39,
           "Coal"
          ],
          [
           "Poland",
           "POL",
           40.63,
           49,
           7.916,
           0.86,
           "Coal"
          ],
          [
           "Portugal",
           "PRT",
           61.11,
           13,
           3.961,
           0.12,
           "Oil"
          ],
          [
           "Puerto Rico",
           "PRI",
           "No Data",
           "No Data",
           "No Data",
           "No Data",
           "Coal"
          ],
          [
           "Qatar",
           "QAT",
           "No Data",
           "No Data",
           37.019,
           0.31,
           "Coal"
          ],
          [
           "Romania",
           "ROU",
           52.43,
           33,
           3.715,
           0.21,
           "Oil"
          ],
          [
           "Russia",
           "RUS",
           34.73,
           53,
           10.807,
           4.53,
           "Gas"
          ],
          [
           "Rwanda",
           "RWA",
           "No Data",
           "No Data",
           0.08,
           0,
           "Oil"
          ],
          [
           "Saint Helena",
           "SHN",
           "No Data",
           "No Data",
           1.564,
           0,
           "Coal"
          ],
          [
           "Saint Kitts and Nevis",
           "KNA",
           "No Data",
           "No Data",
           3.986,
           0,
           "Coal"
          ],
          [
           "Saint Lucia",
           "LCA",
           "No Data",
           "No Data",
           2.396,
           0,
           "Coal"
          ],
          [
           "Saint Pierre and Miquelon",
           "SPM",
           "No Data",
           "No Data",
           8.738,
           0,
           "Coal"
          ],
          [
           "Saint Vincent and the Grenadines",
           "VCT",
           "No Data",
           "No Data",
           1.883,
           0,
           "Coal"
          ],
          [
           "Samoa",
           "WSM",
           "No Data",
           "No Data",
           1.239,
           0,
           "Coal"
          ],
          [
           "Sao Tome and Principe",
           "STP",
           "No Data",
           "No Data",
           0.514,
           0,
           "Coal"
          ],
          [
           "Saudi Arabia",
           "SAU",
           24.25,
           60,
           17.967,
           1.8,
           "Coal"
          ],
          [
           "Senegal",
           "SEN",
           "No Data",
           "No Data",
           0.624,
           0.03,
           "Oil"
          ],
          [
           "Serbia",
           "SRB",
           "No Data",
           "No Data",
           4.937,
           0.12,
           "Coal"
          ],
          [
           "Seychelles",
           "SYC",
           "No Data",
           "No Data",
           4.994,
           0,
           "Coal"
          ],
          [
           "Sierra Leone",
           "SLE",
           "No Data",
           "No Data",
           0.11,
           0,
           "Coal"
          ],
          [
           "Singapore",
           "SGP",
           "No Data",
           "No Data",
           7.778,
           0.13,
           "Oil"
          ],
          [
           "Sint Maarten (Dutch part)",
           "SXM",
           "No Data",
           "No Data",
           14.539,
           0,
           "Coal"
          ],
          [
           "Slovakia",
           "SVK",
           50.67,
           37,
           5.629,
           0.09,
           "Oil"
          ],
          [
           "Slovenia",
           "SVN",
           43.28,
           47,
           6.043,
           0.04,
           "Oil"
          ],
          [
           "Solomon Islands",
           "SLB",
           "No Data",
           "No Data",
           0.435,
           0,
           "Coal"
          ],
          [
           "Somalia",
           "SOM",
           "No Data",
           "No Data",
           0.035,
           0,
           "Coal"
          ],
          [
           "South Africa",
           "ZAF",
           51.13,
           36,
           7.62,
           1.3,
           "Coal"
          ],
          [
           "South Korea",
           "KOR",
           26.74,
           57,
           11.656,
           1.72,
           "Coal"
          ],
          [
           "South Sudan",
           "SSD",
           "No Data",
           "No Data",
           0.105,
           0,
           "Coal"
          ],
          [
           "Spain",
           "ESP",
           54.35,
           31,
           4.468,
           0.6,
           "Oil"
          ],
          [
           "Sri Lanka",
           "LKA",
           "No Data",
           "No Data",
           0.986,
           0.06,
           "Oil"
          ],
          [
           "Sudan",
           "SDN",
           "No Data",
           "No Data",
           0.43,
           0.05,
           "Coal"
          ],
          [
           "Suriname",
           "SUR",
           "No Data",
           "No Data",
           3.791,
           0.01,
           "Coal"
          ],
          [
           "Sweden",
           "SWE",
           74.22,
           2,
           3.826,
           0.11,
           "Oil"
          ],
          [
           "Switzerland",
           "CHE",
           61.7,
           12,
           3.732,
           0.09,
           "Oil"
          ],
          [
           "Syria",
           "SYR",
           "No Data",
           "No Data",
           1.745,
           0.09,
           "Oil"
          ],
          [
           "Taiwan",
           "TWN",
           "No Data",
           "No Data",
           11.47,
           0.78,
           "Coal"
          ],
          [
           "Tajikistan",
           "TJK",
           "No Data",
           "No Data",
           0.991,
           0.03,
           "Coal"
          ],
          [
           "Tanzania",
           "TZA",
           "No Data",
           "No Data",
           0.183,
           0.03,
           "Oil"
          ],
          [
           "Thailand",
           "THA",
           55.01,
           28,
           3.693,
           0.74,
           "Oil"
          ],
          [
           "Timor",
           "TLS",
           "No Data",
           "No Data",
           0.399,
           0,
           "Coal"
          ],
          [
           "Togo",
           "TGO",
           "No Data",
           "No Data",
           0.265,
           0.01,
           "Coal"
          ],
          [
           "Tonga",
           "TON",
           "No Data",
           "No Data",
           1.36,
           0,
           "Coal"
          ],
          [
           "Trinidad and Tobago",
           "TTO",
           "No Data",
           "No Data",
           25.373,
           0.1,
           "Coal"
          ],
          [
           "Tunisia",
           "TUN",
           "No Data",
           "No Data",
           2.38,
           0.08,
           "Coal"
          ],
          [
           "Turkey",
           "TUR",
           50.53,
           38,
           4.657,
           1.13,
           "Coal"
          ],
          [
           "Turkmenistan",
           "TKM",
           "No Data",
           "No Data",
           12.491,
           0.22,
           "Coal"
          ],
          [
           "Turks and Caicos Islands",
           "TCA",
           "No Data",
           "No Data",
           5.231,
           0,
           "Coal"
          ],
          [
           "Tuvalu",
           "TUV",
           "No Data",
           "No Data",
           0.642,
           0,
           "Coal"
          ],
          [
           "Uganda",
           "UGA",
           "No Data",
           "No Data",
           0.107,
           0.01,
           "Coal"
          ],
          [
           "Ukraine",
           "UKR",
           60.4,
           17,
           4.891,
           0.61,
           "Coal"
          ],
          [
           "United Arab Emirates",
           "ARE",
           "No Data",
           "No Data",
           15.193,
           0.43,
           "Gas"
          ],
          [
           "United Kingdom",
           "GBR",
           73.09,
           4,
           4.855,
           0.95,
           "Gas"
          ],
          [
           "United States",
           "USA",
           37.39,
           52,
           14.238,
           13.54,
           "Oil"
          ],
          [
           "Uruguay",
           "URY",
           "No Data",
           "No Data",
           1.681,
           0.02,
           "Oil"
          ],
          [
           "Uzbekistan",
           "UZB",
           "No Data",
           "No Data",
           3.37,
           0.32,
           "Gas"
          ],
          [
           "Vanuatu",
           "VUT",
           "No Data",
           "No Data",
           0.591,
           0,
           "Coal"
          ],
          [
           "Venezuela",
           "VEN",
           "No Data",
           "No Data",
           2.975,
           0.24,
           "Flaring"
          ],
          [
           "Vietnam",
           "VNM",
           49.21,
           40,
           2.613,
           0.73,
           "Coal"
          ],
          [
           "Yemen",
           "YEM",
           "No Data",
           "No Data",
           0.328,
           0.03,
           "Oil"
          ],
          [
           "Zambia",
           "ZMB",
           "No Data",
           "No Data",
           0.358,
           0.02,
           "Oil"
          ],
          [
           "Zimbabwe",
           "ZWE",
           "No Data",
           "No Data",
           0.709,
           0.03,
           "Coal"
          ]
         ],
         "hovertemplate": "%{customdata[0]} (%{customdata[1]})<br>CCPI Score: %{customdata[2]}<br>CCPI Rank: %{customdata[3]}<br>CO2 Emissions per Capita: %{customdata[4]}<br>Global Share of CO2 Emissions: %{customdata[5]}<br>Primary CO2 Emissions Source: %{customdata[6]}<br><extra></extra>",
         "locations": [
          "AFG",
          "ALB",
          "DZA",
          "AND",
          "AGO",
          "AIA",
          "ATA",
          "ATG",
          "ARG",
          "ARM",
          "ABW",
          "AUS",
          "AUT",
          "AZE",
          "BHS",
          "BHR",
          "BGD",
          "BRB",
          "BLR",
          "BEL",
          "BLZ",
          "BEN",
          "BMU",
          "BTN",
          "BOL",
          "BES",
          "BIH",
          "BWA",
          "BRA",
          "VGB",
          "BRN",
          "BGR",
          "BFA",
          "BDI",
          "KHM",
          "CMR",
          "CAN",
          "CPV",
          "CAF",
          "TCD",
          "CHL",
          "CHN",
          "CXR",
          "COL",
          "COM",
          "COG",
          "COK",
          "CRI",
          "CIV",
          "HRV",
          "CUB",
          "CUW",
          "CYP",
          "CZE",
          "COD",
          "DNK",
          "DJI",
          "DMA",
          "DOM",
          "ECU",
          "EGY",
          "SLV",
          "GNQ",
          "ERI",
          "EST",
          "SWZ",
          "ETH",
          "FRO",
          "FJI",
          "FIN",
          "FRA",
          "GUF",
          "PYF",
          "GAB",
          "GMB",
          "GEO",
          "DEU",
          "GHA",
          "GRC",
          "GRL",
          "GRD",
          "GLP",
          "GTM",
          "GIN",
          "GNB",
          "GUY",
          "HTI",
          "HND",
          "HKG",
          "HUN",
          "ISL",
          "IND",
          "IDN",
          "IRN",
          "IRQ",
          "IRL",
          "ISR",
          "ITA",
          "JAM",
          "JPN",
          "JOR",
          "KAZ",
          "KEN",
          "KIR",
          "OWID_KOS",
          "KWT",
          "KGZ",
          "LAO",
          "LVA",
          "LBN",
          "LSO",
          "LBR",
          "LBY",
          "LIE",
          "LTU",
          "LUX",
          "MDG",
          "MWI",
          "MYS",
          "MDV",
          "MLI",
          "MLT",
          "MHL",
          "MTQ",
          "MRT",
          "MUS",
          "MYT",
          "MEX",
          "MDA",
          "MNG",
          "MNE",
          "MSR",
          "MAR",
          "MOZ",
          "MMR",
          "NAM",
          "NRU",
          "NPL",
          "NLD",
          "NCL",
          "NZL",
          "NIC",
          "NER",
          "NGA",
          "NIU",
          "PRK",
          "MKD",
          "NOR",
          "OMN",
          "PAK",
          "PLW",
          "PSE",
          "PAN",
          "PNG",
          "PRY",
          "PER",
          "PHL",
          "POL",
          "PRT",
          "PRI",
          "QAT",
          "ROU",
          "RUS",
          "RWA",
          "SHN",
          "KNA",
          "LCA",
          "SPM",
          "VCT",
          "WSM",
          "STP",
          "SAU",
          "SEN",
          "SRB",
          "SYC",
          "SLE",
          "SGP",
          "SXM",
          "SVK",
          "SVN",
          "SLB",
          "SOM",
          "ZAF",
          "KOR",
          "SSD",
          "ESP",
          "LKA",
          "SDN",
          "SUR",
          "SWE",
          "CHE",
          "SYR",
          "TWN",
          "TJK",
          "TZA",
          "THA",
          "TLS",
          "TGO",
          "TON",
          "TTO",
          "TUN",
          "TUR",
          "TKM",
          "TCA",
          "TUV",
          "UGA",
          "UKR",
          "ARE",
          "GBR",
          "USA",
          "URY",
          "UZB",
          "VUT",
          "VEN",
          "VNM",
          "YEM",
          "ZMB",
          "ZWE"
         ],
         "marker": {
          "line": {
           "width": 0.1
          }
         },
         "type": "choropleth",
         "visible": false,
         "z": [
          0,
          3,
          1,
          0,
          0,
          0,
          0,
          0,
          1,
          1,
          0,
          0,
          3,
          1,
          3,
          0,
          1,
          0,
          1,
          1,
          0,
          0,
          3,
          0,
          3,
          0,
          0,
          0,
          3,
          0,
          0,
          0,
          0,
          3,
          3,
          0,
          3,
          0,
          0,
          0,
          3,
          0,
          0,
          3,
          0,
          0,
          0,
          0,
          0,
          3,
          3,
          0,
          3,
          0,
          0,
          3,
          0,
          0,
          3,
          0,
          1,
          3,
          0,
          0,
          0,
          3,
          3,
          0,
          0,
          3,
          3,
          0,
          0,
          0,
          0,
          1,
          3,
          0,
          3,
          0,
          0,
          3,
          3,
          0,
          0,
          0,
          0,
          0,
          0,
          1,
          3,
          0,
          0,
          1,
          0,
          3,
          3,
          1,
          3,
          0,
          3,
          0,
          3,
          0,
          0,
          0,
          3,
          0,
          3,
          3,
          0,
          0,
          0,
          0,
          3,
          3,
          3,
          3,
          0,
          0,
          0,
          3,
          0,
          0,
          0,
          3,
          0,
          3,
          3,
          0,
          0,
          0,
          3,
          3,
          3,
          3,
          0,
          3,
          1,
          0,
          3,
          0,
          3,
          3,
          0,
          0,
          0,
          3,
          0,
          3,
          0,
          0,
          3,
          0,
          3,
          3,
          0,
          0,
          3,
          0,
          0,
          3,
          1,
          3,
          0,
          0,
          0,
          0,
          0,
          0,
          0,
          0,
          3,
          0,
          0,
          0,
          3,
          0,
          3,
          3,
          0,
          0,
          0,
          0,
          0,
          3,
          3,
          0,
          0,
          3,
          3,
          3,
          0,
          0,
          3,
          3,
          0,
          0,
          0,
          0,
          0,
          0,
          0,
          0,
          0,
          0,
          0,
          1,
          1,
          3,
          3,
          1,
          0,
          2,
          0,
          3,
          3,
          0
         ]
        }
       ],
       "layout": {
        "geo": {
         "projection": {
          "type": "natural earth"
         },
         "showcoastlines": false
        },
        "margin": {
         "b": 0,
         "l": 0,
         "r": 0,
         "t": 0
        },
        "template": {
         "data": {
          "bar": [
           {
            "error_x": {
             "color": "#2a3f5f"
            },
            "error_y": {
             "color": "#2a3f5f"
            },
            "marker": {
             "line": {
              "color": "#E5ECF6",
              "width": 0.5
             },
             "pattern": {
              "fillmode": "overlay",
              "size": 10,
              "solidity": 0.2
             }
            },
            "type": "bar"
           }
          ],
          "barpolar": [
           {
            "marker": {
             "line": {
              "color": "#E5ECF6",
              "width": 0.5
             },
             "pattern": {
              "fillmode": "overlay",
              "size": 10,
              "solidity": 0.2
             }
            },
            "type": "barpolar"
           }
          ],
          "carpet": [
           {
            "aaxis": {
             "endlinecolor": "#2a3f5f",
             "gridcolor": "white",
             "linecolor": "white",
             "minorgridcolor": "white",
             "startlinecolor": "#2a3f5f"
            },
            "baxis": {
             "endlinecolor": "#2a3f5f",
             "gridcolor": "white",
             "linecolor": "white",
             "minorgridcolor": "white",
             "startlinecolor": "#2a3f5f"
            },
            "type": "carpet"
           }
          ],
          "choropleth": [
           {
            "colorbar": {
             "outlinewidth": 0,
             "ticks": ""
            },
            "type": "choropleth"
           }
          ],
          "contour": [
           {
            "colorbar": {
             "outlinewidth": 0,
             "ticks": ""
            },
            "colorscale": [
             [
              0,
              "#0d0887"
             ],
             [
              0.1111111111111111,
              "#46039f"
             ],
             [
              0.2222222222222222,
              "#7201a8"
             ],
             [
              0.3333333333333333,
              "#9c179e"
             ],
             [
              0.4444444444444444,
              "#bd3786"
             ],
             [
              0.5555555555555556,
              "#d8576b"
             ],
             [
              0.6666666666666666,
              "#ed7953"
             ],
             [
              0.7777777777777778,
              "#fb9f3a"
             ],
             [
              0.8888888888888888,
              "#fdca26"
             ],
             [
              1,
              "#f0f921"
             ]
            ],
            "type": "contour"
           }
          ],
          "contourcarpet": [
           {
            "colorbar": {
             "outlinewidth": 0,
             "ticks": ""
            },
            "type": "contourcarpet"
           }
          ],
          "heatmap": [
           {
            "colorbar": {
             "outlinewidth": 0,
             "ticks": ""
            },
            "colorscale": [
             [
              0,
              "#0d0887"
             ],
             [
              0.1111111111111111,
              "#46039f"
             ],
             [
              0.2222222222222222,
              "#7201a8"
             ],
             [
              0.3333333333333333,
              "#9c179e"
             ],
             [
              0.4444444444444444,
              "#bd3786"
             ],
             [
              0.5555555555555556,
              "#d8576b"
             ],
             [
              0.6666666666666666,
              "#ed7953"
             ],
             [
              0.7777777777777778,
              "#fb9f3a"
             ],
             [
              0.8888888888888888,
              "#fdca26"
             ],
             [
              1,
              "#f0f921"
             ]
            ],
            "type": "heatmap"
           }
          ],
          "heatmapgl": [
           {
            "colorbar": {
             "outlinewidth": 0,
             "ticks": ""
            },
            "colorscale": [
             [
              0,
              "#0d0887"
             ],
             [
              0.1111111111111111,
              "#46039f"
             ],
             [
              0.2222222222222222,
              "#7201a8"
             ],
             [
              0.3333333333333333,
              "#9c179e"
             ],
             [
              0.4444444444444444,
              "#bd3786"
             ],
             [
              0.5555555555555556,
              "#d8576b"
             ],
             [
              0.6666666666666666,
              "#ed7953"
             ],
             [
              0.7777777777777778,
              "#fb9f3a"
             ],
             [
              0.8888888888888888,
              "#fdca26"
             ],
             [
              1,
              "#f0f921"
             ]
            ],
            "type": "heatmapgl"
           }
          ],
          "histogram": [
           {
            "marker": {
             "pattern": {
              "fillmode": "overlay",
              "size": 10,
              "solidity": 0.2
             }
            },
            "type": "histogram"
           }
          ],
          "histogram2d": [
           {
            "colorbar": {
             "outlinewidth": 0,
             "ticks": ""
            },
            "colorscale": [
             [
              0,
              "#0d0887"
             ],
             [
              0.1111111111111111,
              "#46039f"
             ],
             [
              0.2222222222222222,
              "#7201a8"
             ],
             [
              0.3333333333333333,
              "#9c179e"
             ],
             [
              0.4444444444444444,
              "#bd3786"
             ],
             [
              0.5555555555555556,
              "#d8576b"
             ],
             [
              0.6666666666666666,
              "#ed7953"
             ],
             [
              0.7777777777777778,
              "#fb9f3a"
             ],
             [
              0.8888888888888888,
              "#fdca26"
             ],
             [
              1,
              "#f0f921"
             ]
            ],
            "type": "histogram2d"
           }
          ],
          "histogram2dcontour": [
           {
            "colorbar": {
             "outlinewidth": 0,
             "ticks": ""
            },
            "colorscale": [
             [
              0,
              "#0d0887"
             ],
             [
              0.1111111111111111,
              "#46039f"
             ],
             [
              0.2222222222222222,
              "#7201a8"
             ],
             [
              0.3333333333333333,
              "#9c179e"
             ],
             [
              0.4444444444444444,
              "#bd3786"
             ],
             [
              0.5555555555555556,
              "#d8576b"
             ],
             [
              0.6666666666666666,
              "#ed7953"
             ],
             [
              0.7777777777777778,
              "#fb9f3a"
             ],
             [
              0.8888888888888888,
              "#fdca26"
             ],
             [
              1,
              "#f0f921"
             ]
            ],
            "type": "histogram2dcontour"
           }
          ],
          "mesh3d": [
           {
            "colorbar": {
             "outlinewidth": 0,
             "ticks": ""
            },
            "type": "mesh3d"
           }
          ],
          "parcoords": [
           {
            "line": {
             "colorbar": {
              "outlinewidth": 0,
              "ticks": ""
             }
            },
            "type": "parcoords"
           }
          ],
          "pie": [
           {
            "automargin": true,
            "type": "pie"
           }
          ],
          "scatter": [
           {
            "marker": {
             "colorbar": {
              "outlinewidth": 0,
              "ticks": ""
             }
            },
            "type": "scatter"
           }
          ],
          "scatter3d": [
           {
            "line": {
             "colorbar": {
              "outlinewidth": 0,
              "ticks": ""
             }
            },
            "marker": {
             "colorbar": {
              "outlinewidth": 0,
              "ticks": ""
             }
            },
            "type": "scatter3d"
           }
          ],
          "scattercarpet": [
           {
            "marker": {
             "colorbar": {
              "outlinewidth": 0,
              "ticks": ""
             }
            },
            "type": "scattercarpet"
           }
          ],
          "scattergeo": [
           {
            "marker": {
             "colorbar": {
              "outlinewidth": 0,
              "ticks": ""
             }
            },
            "type": "scattergeo"
           }
          ],
          "scattergl": [
           {
            "marker": {
             "colorbar": {
              "outlinewidth": 0,
              "ticks": ""
             }
            },
            "type": "scattergl"
           }
          ],
          "scattermapbox": [
           {
            "marker": {
             "colorbar": {
              "outlinewidth": 0,
              "ticks": ""
             }
            },
            "type": "scattermapbox"
           }
          ],
          "scatterpolar": [
           {
            "marker": {
             "colorbar": {
              "outlinewidth": 0,
              "ticks": ""
             }
            },
            "type": "scatterpolar"
           }
          ],
          "scatterpolargl": [
           {
            "marker": {
             "colorbar": {
              "outlinewidth": 0,
              "ticks": ""
             }
            },
            "type": "scatterpolargl"
           }
          ],
          "scatterternary": [
           {
            "marker": {
             "colorbar": {
              "outlinewidth": 0,
              "ticks": ""
             }
            },
            "type": "scatterternary"
           }
          ],
          "surface": [
           {
            "colorbar": {
             "outlinewidth": 0,
             "ticks": ""
            },
            "colorscale": [
             [
              0,
              "#0d0887"
             ],
             [
              0.1111111111111111,
              "#46039f"
             ],
             [
              0.2222222222222222,
              "#7201a8"
             ],
             [
              0.3333333333333333,
              "#9c179e"
             ],
             [
              0.4444444444444444,
              "#bd3786"
             ],
             [
              0.5555555555555556,
              "#d8576b"
             ],
             [
              0.6666666666666666,
              "#ed7953"
             ],
             [
              0.7777777777777778,
              "#fb9f3a"
             ],
             [
              0.8888888888888888,
              "#fdca26"
             ],
             [
              1,
              "#f0f921"
             ]
            ],
            "type": "surface"
           }
          ],
          "table": [
           {
            "cells": {
             "fill": {
              "color": "#EBF0F8"
             },
             "line": {
              "color": "white"
             }
            },
            "header": {
             "fill": {
              "color": "#C8D4E3"
             },
             "line": {
              "color": "white"
             }
            },
            "type": "table"
           }
          ]
         },
         "layout": {
          "annotationdefaults": {
           "arrowcolor": "#2a3f5f",
           "arrowhead": 0,
           "arrowwidth": 1
          },
          "autotypenumbers": "strict",
          "coloraxis": {
           "colorbar": {
            "outlinewidth": 0,
            "ticks": ""
           }
          },
          "colorscale": {
           "diverging": [
            [
             0,
             "#8e0152"
            ],
            [
             0.1,
             "#c51b7d"
            ],
            [
             0.2,
             "#de77ae"
            ],
            [
             0.3,
             "#f1b6da"
            ],
            [
             0.4,
             "#fde0ef"
            ],
            [
             0.5,
             "#f7f7f7"
            ],
            [
             0.6,
             "#e6f5d0"
            ],
            [
             0.7,
             "#b8e186"
            ],
            [
             0.8,
             "#7fbc41"
            ],
            [
             0.9,
             "#4d9221"
            ],
            [
             1,
             "#276419"
            ]
           ],
           "sequential": [
            [
             0,
             "#0d0887"
            ],
            [
             0.1111111111111111,
             "#46039f"
            ],
            [
             0.2222222222222222,
             "#7201a8"
            ],
            [
             0.3333333333333333,
             "#9c179e"
            ],
            [
             0.4444444444444444,
             "#bd3786"
            ],
            [
             0.5555555555555556,
             "#d8576b"
            ],
            [
             0.6666666666666666,
             "#ed7953"
            ],
            [
             0.7777777777777778,
             "#fb9f3a"
            ],
            [
             0.8888888888888888,
             "#fdca26"
            ],
            [
             1,
             "#f0f921"
            ]
           ],
           "sequentialminus": [
            [
             0,
             "#0d0887"
            ],
            [
             0.1111111111111111,
             "#46039f"
            ],
            [
             0.2222222222222222,
             "#7201a8"
            ],
            [
             0.3333333333333333,
             "#9c179e"
            ],
            [
             0.4444444444444444,
             "#bd3786"
            ],
            [
             0.5555555555555556,
             "#d8576b"
            ],
            [
             0.6666666666666666,
             "#ed7953"
            ],
            [
             0.7777777777777778,
             "#fb9f3a"
            ],
            [
             0.8888888888888888,
             "#fdca26"
            ],
            [
             1,
             "#f0f921"
            ]
           ]
          },
          "colorway": [
           "#636efa",
           "#EF553B",
           "#00cc96",
           "#ab63fa",
           "#FFA15A",
           "#19d3f3",
           "#FF6692",
           "#B6E880",
           "#FF97FF",
           "#FECB52"
          ],
          "font": {
           "color": "#2a3f5f"
          },
          "geo": {
           "bgcolor": "white",
           "lakecolor": "white",
           "landcolor": "#E5ECF6",
           "showlakes": true,
           "showland": true,
           "subunitcolor": "white"
          },
          "hoverlabel": {
           "align": "left"
          },
          "hovermode": "closest",
          "mapbox": {
           "style": "light"
          },
          "paper_bgcolor": "white",
          "plot_bgcolor": "#E5ECF6",
          "polar": {
           "angularaxis": {
            "gridcolor": "white",
            "linecolor": "white",
            "ticks": ""
           },
           "bgcolor": "#E5ECF6",
           "radialaxis": {
            "gridcolor": "white",
            "linecolor": "white",
            "ticks": ""
           }
          },
          "scene": {
           "xaxis": {
            "backgroundcolor": "#E5ECF6",
            "gridcolor": "white",
            "gridwidth": 2,
            "linecolor": "white",
            "showbackground": true,
            "ticks": "",
            "zerolinecolor": "white"
           },
           "yaxis": {
            "backgroundcolor": "#E5ECF6",
            "gridcolor": "white",
            "gridwidth": 2,
            "linecolor": "white",
            "showbackground": true,
            "ticks": "",
            "zerolinecolor": "white"
           },
           "zaxis": {
            "backgroundcolor": "#E5ECF6",
            "gridcolor": "white",
            "gridwidth": 2,
            "linecolor": "white",
            "showbackground": true,
            "ticks": "",
            "zerolinecolor": "white"
           }
          },
          "shapedefaults": {
           "line": {
            "color": "#2a3f5f"
           }
          },
          "ternary": {
           "aaxis": {
            "gridcolor": "white",
            "linecolor": "white",
            "ticks": ""
           },
           "baxis": {
            "gridcolor": "white",
            "linecolor": "white",
            "ticks": ""
           },
           "bgcolor": "#E5ECF6",
           "caxis": {
            "gridcolor": "white",
            "linecolor": "white",
            "ticks": ""
           }
          },
          "title": {
           "x": 0.05
          },
          "xaxis": {
           "automargin": true,
           "gridcolor": "white",
           "linecolor": "white",
           "ticks": "",
           "title": {
            "standoff": 15
           },
           "zerolinecolor": "white",
           "zerolinewidth": 2
          },
          "yaxis": {
           "automargin": true,
           "gridcolor": "white",
           "linecolor": "white",
           "ticks": "",
           "title": {
            "standoff": 15
           },
           "zerolinecolor": "white",
           "zerolinewidth": 2
          }
         }
        },
        "updatemenus": [
         {
          "buttons": [
           {
            "args": [
             {
              "visible": [
               true,
               false,
               false,
               false
              ]
             }
            ],
            "label": "Climate Change Protection Index Score",
            "method": "update"
           },
           {
            "args": [
             {
              "visible": [
               false,
               true,
               false,
               false
              ]
             }
            ],
            "label": "CO2 Emissions per Capita",
            "method": "update"
           },
           {
            "args": [
             {
              "visible": [
               false,
               false,
               true,
               false
              ]
             }
            ],
            "label": "Share of Global CO2 Emissions",
            "method": "update"
           },
           {
            "args": [
             {
              "visible": [
               false,
               false,
               false,
               true
              ]
             }
            ],
            "label": "Primary Source of CO2 Emissions",
            "method": "update"
           }
          ],
          "direction": "down",
          "pad": {
           "r": 10,
           "t": 10
          },
          "showactive": true,
          "x": 0,
          "xanchor": "left",
          "y": 1.1,
          "yanchor": "top"
         }
        ]
       }
      },
      "text/html": [
       "<div>                            <div id=\"b8b0a931-4128-4cb2-8e58-ac39c6ff5abf\" class=\"plotly-graph-div\" style=\"height:525px; width:100%;\"></div>            <script type=\"text/javascript\">                require([\"plotly\"], function(Plotly) {                    window.PLOTLYENV=window.PLOTLYENV || {};                                    if (document.getElementById(\"b8b0a931-4128-4cb2-8e58-ac39c6ff5abf\")) {                    Plotly.newPlot(                        \"b8b0a931-4128-4cb2-8e58-ac39c6ff5abf\",                        [{\"colorbar\":{\"title\":{\"text\":\"Climate<br>Protection<br>Score\"}},\"colorscale\":[[0.0,\"rgb(0,0,0)\"],[0.3333333333333333,\"rgb(230,0,0)\"],[0.6666666666666666,\"rgb(255,210,0)\"],[1.0,\"rgb(255,255,255)\"]],\"customdata\":[[\"Afghanistan\",\"AFG\",\"No Data\",\"No Data\",0.312,0.03,\"Coal\"],[\"Albania\",\"ALB\",\"No Data\",\"No Data\",1.576,0.01,\"Oil\"],[\"Algeria\",\"DZA\",39.91,51.0,3.535,0.45,\"Gas\"],[\"Andorra\",\"AND\",\"No Data\",\"No Data\",6.035,0.0,\"Coal\"],[\"Angola\",\"AGO\",\"No Data\",\"No Data\",0.675,0.06,\"Coal\"],[\"Anguilla\",\"AIA\",\"No Data\",\"No Data\",8.227,0.0,\"Coal\"],[\"Antarctica\",\"ATA\",\"No Data\",\"No Data\",\"No Data\",\"No Data\",\"Coal\"],[\"Antigua and Barbuda\",\"ATG\",\"No Data\",\"No Data\",4.395,0.0,\"Coal\"],[\"Argentina\",\"ARG\",47.08,44.0,3.473,0.45,\"Gas\"],[\"Armenia\",\"ARM\",\"No Data\",\"No Data\",1.988,0.02,\"Gas\"],[\"Aruba\",\"ABW\",\"No Data\",\"No Data\",7.055,0.0,\"Coal\"],[\"Australia\",\"AUS\",30.06,56.0,15.368,1.13,\"Coal\"],[\"Austria\",\"AUT\",52.35,34.0,6.732,0.17,\"Oil\"],[\"Azerbaijan\",\"AZE\",\"No Data\",\"No Data\",3.72,0.11,\"Gas\"],[\"Bahamas\",\"BHS\",\"No Data\",\"No Data\",5.945,0.01,\"Oil\"],[\"Bahrain\",\"BHR\",\"No Data\",\"No Data\",20.546,0.1,\"Coal\"],[\"Bangladesh\",\"BGD\",\"No Data\",\"No Data\",0.564,0.27,\"Gas\"],[\"Barbados\",\"BRB\",\"No Data\",\"No Data\",3.782,0.0,\"Coal\"],[\"Belarus\",\"BLR\",46.66,45.0,6.079,0.17,\"Gas\"],[\"Belgium\",\"BEL\",45.9,46.0,7.226,0.24,\"Gas\"],[\"Belize\",\"BLZ\",\"No Data\",\"No Data\",1.466,0.0,\"Coal\"],[\"Benin\",\"BEN\",\"No Data\",\"No Data\",0.553,0.02,\"Coal\"],[\"Bermuda\",\"BMU\",\"No Data\",\"No Data\",10.028,0.0,\"Oil\"],[\"Bhutan\",\"BTN\",\"No Data\",\"No Data\",2.495,0.01,\"Coal\"],[\"Bolivia\",\"BOL\",\"No Data\",\"No Data\",1.773,0.06,\"Oil\"],[\"Bonaire Sint Eustatius and Saba\",\"BES\",\"No Data\",\"No Data\",11.466,0.0,\"Coal\"],[\"Bosnia and Herzegovina\",\"BIH\",\"No Data\",\"No Data\",6.528,0.06,\"Coal\"],[\"Botswana\",\"BWA\",\"No Data\",\"No Data\",2.772,0.02,\"Coal\"],[\"Brazil\",\"BRA\",54.86,30.0,2.199,1.34,\"Oil\"],[\"British Virgin Islands\",\"VGB\",\"No Data\",\"No Data\",4.605,0.0,\"Coal\"],[\"Brunei\",\"BRN\",\"No Data\",\"No Data\",23.22,0.03,\"Coal\"],[\"Bulgaria\",\"BGR\",48.71,41.0,5.389,0.11,\"Coal\"],[\"Burkina Faso\",\"BFA\",\"No Data\",\"No Data\",0.19,0.01,\"Coal\"],[\"Burundi\",\"BDI\",\"No Data\",\"No Data\",0.051,0.0,\"Oil\"],[\"Cambodia\",\"KHM\",\"No Data\",\"No Data\",0.917,0.04,\"Oil\"],[\"Cameroon\",\"CMR\",\"No Data\",\"No Data\",0.26,0.02,\"Coal\"],[\"Canada\",\"CAN\",26.03,58.0,14.197,1.54,\"Oil\"],[\"Cape Verde\",\"CPV\",\"No Data\",\"No Data\",0.989,0.0,\"Coal\"],[\"Central African Republic\",\"CAF\",\"No Data\",\"No Data\",0.039,0.0,\"Coal\"],[\"Chad\",\"TCD\",\"No Data\",\"No Data\",0.056,0.0,\"Coal\"],[\"Chile\",\"CHL\",\"No Data\",\"No Data\",4.246,0.23,\"Oil\"],[\"China\",\"CHN\",52.2,35.0,7.412,30.65,\"Coal\"],[\"Christmas Island\",\"CXR\",\"No Data\",\"No Data\",\"No Data\",\"No Data\",\"Coal\"],[\"Colombia\",\"COL\",57.87,22.0,1.751,0.26,\"Oil\"],[\"Comoros\",\"COM\",\"No Data\",\"No Data\",0.297,0.0,\"Coal\"],[\"Congo\",\"COG\",\"No Data\",\"No Data\",0.565,0.01,\"Coal\"],[\"Cook Islands\",\"COK\",\"No Data\",\"No Data\",4.522,0.0,\"Coal\"],[\"Costa Rica\",\"CRI\",\"No Data\",\"No Data\",1.552,0.02,\"Coal\"],[\"Cote d'Ivoire\",\"CIV\",\"No Data\",\"No Data\",0.382,0.03,\"Coal\"],[\"Croatia\",\"HRV\",55.96,26.0,4.137,0.05,\"Oil\"],[\"Cuba\",\"CUB\",\"No Data\",\"No Data\",1.779,0.06,\"Oil\"],[\"Curacao\",\"CUW\",\"No Data\",\"No Data\",20.323,0.01,\"Coal\"],[\"Cyprus\",\"CYP\",50.52,39.0,5.38,0.02,\"Oil\"],[\"Czechia\",\"CZE\",42.15,48.0,8.215,0.25,\"Coal\"],[\"Democratic Republic of Congo\",\"COD\",\"No Data\",\"No Data\",0.028,0.01,\"Coal\"],[\"Denmark\",\"DNK\",76.67,1.0,4.522,0.08,\"Oil\"],[\"Djibouti\",\"DJI\",\"No Data\",\"No Data\",0.356,0.0,\"Coal\"],[\"Dominica\",\"DMA\",\"No Data\",\"No Data\",1.934,0.0,\"Coal\"],[\"Dominican Republic\",\"DOM\",\"No Data\",\"No Data\",2.56,0.08,\"Oil\"],[\"Ecuador\",\"ECU\",\"No Data\",\"No Data\",1.753,0.09,\"Coal\"],[\"Egypt\",\"EGY\",59.74,18.0,2.086,0.61,\"Gas\"],[\"El Salvador\",\"SLV\",\"No Data\",\"No Data\",0.944,0.02,\"Oil\"],[\"Equatorial Guinea\",\"GNQ\",\"No Data\",\"No Data\",7.317,0.03,\"Coal\"],[\"Eritrea\",\"ERI\",\"No Data\",\"No Data\",0.204,0.0,\"Coal\"],[\"Estonia\",\"EST\",54.98,29.0,7.88,0.03,\"Coal\"],[\"Eswatini\",\"SWZ\",\"No Data\",\"No Data\",0.824,0.0,\"Oil\"],[\"Ethiopia\",\"ETH\",\"No Data\",\"No Data\",0.128,0.04,\"Oil\"],[\"Faeroe Islands\",\"FRO\",\"No Data\",\"No Data\",13.996,0.0,\"Coal\"],[\"Fiji\",\"FJI\",\"No Data\",\"No Data\",1.554,0.0,\"Coal\"],[\"Finland\",\"FIN\",62.41,11.0,7.091,0.11,\"Oil\"],[\"France\",\"FRA\",61.01,14.0,4.238,0.79,\"Oil\"],[\"French Guiana\",\"GUF\",\"No Data\",\"No Data\",2.439,0.0,\"Coal\"],[\"French Polynesia\",\"PYF\",\"No Data\",\"No Data\",2.949,0.0,\"Coal\"],[\"Gabon\",\"GAB\",\"No Data\",\"No Data\",1.931,0.01,\"Coal\"],[\"Gambia\",\"GMB\",\"No Data\",\"No Data\",0.207,0.0,\"Coal\"],[\"Georgia\",\"GEO\",\"No Data\",\"No Data\",2.499,0.03,\"Gas\"],[\"Germany\",\"DEU\",63.53,10.0,7.69,1.85,\"Oil\"],[\"Ghana\",\"GHA\",\"No Data\",\"No Data\",0.515,0.05,\"Coal\"],[\"Greece\",\"GRC\",58.22,21.0,5.012,0.15,\"Oil\"],[\"Greenland\",\"GRL\",\"No Data\",\"No Data\",9.061,0.0,\"Coal\"],[\"Grenada\",\"GRD\",\"No Data\",\"No Data\",2.62,0.0,\"Coal\"],[\"Guadeloupe\",\"GLP\",\"No Data\",\"No Data\",6.403,0.01,\"Oil\"],[\"Guatemala\",\"GTM\",\"No Data\",\"No Data\",1.057,0.05,\"Oil\"],[\"Guinea\",\"GIN\",\"No Data\",\"No Data\",0.258,0.01,\"Coal\"],[\"Guinea-Bissau\",\"GNB\",\"No Data\",\"No Data\",0.146,0.0,\"Coal\"],[\"Guyana\",\"GUY\",\"No Data\",\"No Data\",2.813,0.01,\"Coal\"],[\"Haiti\",\"HTI\",\"No Data\",\"No Data\",0.256,0.01,\"Coal\"],[\"Honduras\",\"HND\",\"No Data\",\"No Data\",0.975,0.03,\"Coal\"],[\"Hong Kong\",\"HKG\",\"No Data\",\"No Data\",4.167,0.09,\"Coal\"],[\"Hungary\",\"HUN\",40.41,50.0,4.997,0.14,\"Gas\"],[\"Iceland\",\"ISL\",\"No Data\",\"No Data\",8.604,0.01,\"Oil\"],[\"India\",\"IND\",69.2,7.0,1.769,7.02,\"Coal\"],[\"Indonesia\",\"IDN\",57.17,24.0,2.155,1.69,\"Coal\"],[\"Iran\",\"IRN\",25.66,59.0,8.87,2.14,\"Gas\"],[\"Iraq\",\"IRQ\",\"No Data\",\"No Data\",5.242,0.61,\"Coal\"],[\"Ireland\",\"IRL\",47.86,43.0,6.754,0.1,\"Oil\"],[\"Israel\",\"ISR\",\"No Data\",\"No Data\",6.51,0.16,\"Oil\"],[\"Italy\",\"ITA\",55.39,27.0,5.025,0.87,\"Gas\"],[\"Jamaica\",\"JAM\",\"No Data\",\"No Data\",2.509,0.02,\"Oil\"],[\"Japan\",\"JPN\",48.53,42.0,8.15,2.96,\"Coal\"],[\"Jordan\",\"JOR\",\"No Data\",\"No Data\",2.498,0.07,\"Oil\"],[\"Kazakhstan\",\"KAZ\",19.23,61.0,15.516,0.84,\"Coal\"],[\"Kenya\",\"KEN\",\"No Data\",\"No Data\",0.3,0.05,\"Oil\"],[\"Kiribati\",\"KIR\",\"No Data\",\"No Data\",0.57,0.0,\"Coal\"],[\"Kosovo\",\"OWID_KOS\",\"No Data\",\"No Data\",\"No Data\",0.02,\"Coal\"],[\"Kuwait\",\"KWT\",\"No Data\",\"No Data\",20.825,0.26,\"Coal\"],[\"Kyrgyzstan\",\"KGZ\",\"No Data\",\"No Data\",1.764,0.03,\"Oil\"],[\"Laos\",\"LAO\",\"No Data\",\"No Data\",4.652,0.1,\"Coal\"],[\"Latvia\",\"LVA\",57.73,23.0,3.591,0.02,\"Oil\"],[\"Lebanon\",\"LBN\",\"No Data\",\"No Data\",3.805,0.07,\"Oil\"],[\"Lesotho\",\"LSO\",\"No Data\",\"No Data\",1.019,0.01,\"Coal\"],[\"Liberia\",\"LBR\",\"No Data\",\"No Data\",0.2,0.0,\"Coal\"],[\"Libya\",\"LBY\",\"No Data\",\"No Data\",7.382,0.15,\"Coal\"],[\"Liechtenstein\",\"LIE\",\"No Data\",\"No Data\",3.698,0.0,\"Coal\"],[\"Lithuania\",\"LTU\",64.89,8.0,5.069,0.04,\"Oil\"],[\"Luxembourg\",\"LUX\",60.8,15.0,13.059,0.02,\"Oil\"],[\"Madagascar\",\"MDG\",\"No Data\",\"No Data\",0.133,0.01,\"Oil\"],[\"Malawi\",\"MWI\",\"No Data\",\"No Data\",0.073,0.0,\"Oil\"],[\"Malaysia\",\"MYS\",33.74,54.0,8.423,0.78,\"Coal\"],[\"Maldives\",\"MDV\",\"No Data\",\"No Data\",3.324,0.01,\"Coal\"],[\"Mali\",\"MLI\",\"No Data\",\"No Data\",0.167,0.01,\"Coal\"],[\"Malta\",\"MLT\",64.18,9.0,3.612,0.0,\"Oil\"],[\"Marshall Islands\",\"MHL\",\"No Data\",\"No Data\",2.556,0.0,\"Coal\"],[\"Martinique\",\"MTQ\",\"No Data\",\"No Data\",6.258,0.01,\"Coal\"],[\"Mauritania\",\"MRT\",\"No Data\",\"No Data\",0.726,0.01,\"Coal\"],[\"Mauritius\",\"MUS\",\"No Data\",\"No Data\",3.129,0.01,\"Oil\"],[\"Mayotte\",\"MYT\",\"No Data\",\"No Data\",1.12,0.0,\"Coal\"],[\"Mexico\",\"MEX\",56.05,25.0,2.769,1.03,\"Oil\"],[\"Moldova\",\"MDA\",\"No Data\",\"No Data\",1.276,0.01,\"Oil\"],[\"Mongolia\",\"MNG\",\"No Data\",\"No Data\",26.978,0.25,\"Coal\"],[\"Montenegro\",\"MNE\",\"No Data\",\"No Data\",3.678,0.01,\"Coal\"],[\"Montserrat\",\"MSR\",\"No Data\",\"No Data\",5.065,0.0,\"Coal\"],[\"Morocco\",\"MAR\",71.6,5.0,1.748,0.19,\"Oil\"],[\"Mozambique\",\"MOZ\",\"No Data\",\"No Data\",0.21,0.02,\"Oil\"],[\"Myanmar\",\"MMR\",\"No Data\",\"No Data\",0.668,0.1,\"Oil\"],[\"Namibia\",\"NAM\",\"No Data\",\"No Data\",1.526,0.01,\"Oil\"],[\"Nauru\",\"NRU\",\"No Data\",\"No Data\",5.236,0.0,\"Coal\"],[\"Nepal\",\"NPL\",\"No Data\",\"No Data\",0.582,0.05,\"Oil\"],[\"Netherlands\",\"NLD\",60.44,16.0,8.06,0.4,\"Gas\"],[\"New Caledonia\",\"NCL\",\"No Data\",\"No Data\",30.448,0.02,\"Coal\"],[\"New Zealand\",\"NZL\",54.03,32.0,6.942,0.1,\"Oil\"],[\"Nicaragua\",\"NIC\",\"No Data\",\"No Data\",0.766,0.01,\"Coal\"],[\"Niger\",\"NER\",\"No Data\",\"No Data\",0.07,0.0,\"Oil\"],[\"Nigeria\",\"NGA\",\"No Data\",\"No Data\",0.609,0.36,\"Oil\"],[\"Niue\",\"NIU\",\"No Data\",\"No Data\",7.012,0.0,\"Coal\"],[\"North Korea\",\"PRK\",\"No Data\",\"No Data\",1.137,0.08,\"Coal\"],[\"North Macedonia\",\"MKD\",\"No Data\",\"No Data\",3.43,0.02,\"Coal\"],[\"Norway\",\"NOR\",73.29,3.0,7.615,0.12,\"Oil\"],[\"Oman\",\"OMN\",\"No Data\",\"No Data\",12.173,0.18,\"Coal\"],[\"Pakistan\",\"PAK\",\"No Data\",\"No Data\",1.063,0.67,\"Oil\"],[\"Palau\",\"PLW\",\"No Data\",\"No Data\",12.125,0.0,\"Coal\"],[\"Palestine\",\"PSE\",\"No Data\",\"No Data\",0.568,0.01,\"Coal\"],[\"Panama\",\"PAN\",\"No Data\",\"No Data\",2.498,0.03,\"Oil\"],[\"Papua New Guinea\",\"PNG\",\"No Data\",\"No Data\",0.744,0.02,\"Coal\"],[\"Paraguay\",\"PRY\",\"No Data\",\"No Data\",1.061,0.02,\"Oil\"],[\"Peru\",\"PER\",\"No Data\",\"No Data\",1.356,0.13,\"Oil\"],[\"Philippines\",\"PHL\",58.98,20.0,1.241,0.39,\"Coal\"],[\"Poland\",\"POL\",40.63,49.0,7.916,0.86,\"Coal\"],[\"Portugal\",\"PRT\",61.11,13.0,3.961,0.12,\"Oil\"],[\"Puerto Rico\",\"PRI\",\"No Data\",\"No Data\",\"No Data\",\"No Data\",\"Coal\"],[\"Qatar\",\"QAT\",\"No Data\",\"No Data\",37.019,0.31,\"Coal\"],[\"Romania\",\"ROU\",52.43,33.0,3.715,0.21,\"Oil\"],[\"Russia\",\"RUS\",34.73,53.0,10.807,4.53,\"Gas\"],[\"Rwanda\",\"RWA\",\"No Data\",\"No Data\",0.08,0.0,\"Oil\"],[\"Saint Helena\",\"SHN\",\"No Data\",\"No Data\",1.564,0.0,\"Coal\"],[\"Saint Kitts and Nevis\",\"KNA\",\"No Data\",\"No Data\",3.986,0.0,\"Coal\"],[\"Saint Lucia\",\"LCA\",\"No Data\",\"No Data\",2.396,0.0,\"Coal\"],[\"Saint Pierre and Miquelon\",\"SPM\",\"No Data\",\"No Data\",8.738,0.0,\"Coal\"],[\"Saint Vincent and the Grenadines\",\"VCT\",\"No Data\",\"No Data\",1.883,0.0,\"Coal\"],[\"Samoa\",\"WSM\",\"No Data\",\"No Data\",1.239,0.0,\"Coal\"],[\"Sao Tome and Principe\",\"STP\",\"No Data\",\"No Data\",0.514,0.0,\"Coal\"],[\"Saudi Arabia\",\"SAU\",24.25,60.0,17.967,1.8,\"Coal\"],[\"Senegal\",\"SEN\",\"No Data\",\"No Data\",0.624,0.03,\"Oil\"],[\"Serbia\",\"SRB\",\"No Data\",\"No Data\",4.937,0.12,\"Coal\"],[\"Seychelles\",\"SYC\",\"No Data\",\"No Data\",4.994,0.0,\"Coal\"],[\"Sierra Leone\",\"SLE\",\"No Data\",\"No Data\",0.11,0.0,\"Coal\"],[\"Singapore\",\"SGP\",\"No Data\",\"No Data\",7.778,0.13,\"Oil\"],[\"Sint Maarten (Dutch part)\",\"SXM\",\"No Data\",\"No Data\",14.539,0.0,\"Coal\"],[\"Slovakia\",\"SVK\",50.67,37.0,5.629,0.09,\"Oil\"],[\"Slovenia\",\"SVN\",43.28,47.0,6.043,0.04,\"Oil\"],[\"Solomon Islands\",\"SLB\",\"No Data\",\"No Data\",0.435,0.0,\"Coal\"],[\"Somalia\",\"SOM\",\"No Data\",\"No Data\",0.035,0.0,\"Coal\"],[\"South Africa\",\"ZAF\",51.13,36.0,7.62,1.3,\"Coal\"],[\"South Korea\",\"KOR\",26.74,57.0,11.656,1.72,\"Coal\"],[\"South Sudan\",\"SSD\",\"No Data\",\"No Data\",0.105,0.0,\"Coal\"],[\"Spain\",\"ESP\",54.35,31.0,4.468,0.6,\"Oil\"],[\"Sri Lanka\",\"LKA\",\"No Data\",\"No Data\",0.986,0.06,\"Oil\"],[\"Sudan\",\"SDN\",\"No Data\",\"No Data\",0.43,0.05,\"Coal\"],[\"Suriname\",\"SUR\",\"No Data\",\"No Data\",3.791,0.01,\"Coal\"],[\"Sweden\",\"SWE\",74.22,2.0,3.826,0.11,\"Oil\"],[\"Switzerland\",\"CHE\",61.7,12.0,3.732,0.09,\"Oil\"],[\"Syria\",\"SYR\",\"No Data\",\"No Data\",1.745,0.09,\"Oil\"],[\"Taiwan\",\"TWN\",\"No Data\",\"No Data\",11.47,0.78,\"Coal\"],[\"Tajikistan\",\"TJK\",\"No Data\",\"No Data\",0.991,0.03,\"Coal\"],[\"Tanzania\",\"TZA\",\"No Data\",\"No Data\",0.183,0.03,\"Oil\"],[\"Thailand\",\"THA\",55.01,28.0,3.693,0.74,\"Oil\"],[\"Timor\",\"TLS\",\"No Data\",\"No Data\",0.399,0.0,\"Coal\"],[\"Togo\",\"TGO\",\"No Data\",\"No Data\",0.265,0.01,\"Coal\"],[\"Tonga\",\"TON\",\"No Data\",\"No Data\",1.36,0.0,\"Coal\"],[\"Trinidad and Tobago\",\"TTO\",\"No Data\",\"No Data\",25.373,0.1,\"Coal\"],[\"Tunisia\",\"TUN\",\"No Data\",\"No Data\",2.38,0.08,\"Coal\"],[\"Turkey\",\"TUR\",50.53,38.0,4.657,1.13,\"Coal\"],[\"Turkmenistan\",\"TKM\",\"No Data\",\"No Data\",12.491,0.22,\"Coal\"],[\"Turks and Caicos Islands\",\"TCA\",\"No Data\",\"No Data\",5.231,0.0,\"Coal\"],[\"Tuvalu\",\"TUV\",\"No Data\",\"No Data\",0.642,0.0,\"Coal\"],[\"Uganda\",\"UGA\",\"No Data\",\"No Data\",0.107,0.01,\"Coal\"],[\"Ukraine\",\"UKR\",60.4,17.0,4.891,0.61,\"Coal\"],[\"United Arab Emirates\",\"ARE\",\"No Data\",\"No Data\",15.193,0.43,\"Gas\"],[\"United Kingdom\",\"GBR\",73.09,4.0,4.855,0.95,\"Gas\"],[\"United States\",\"USA\",37.39,52.0,14.238,13.54,\"Oil\"],[\"Uruguay\",\"URY\",\"No Data\",\"No Data\",1.681,0.02,\"Oil\"],[\"Uzbekistan\",\"UZB\",\"No Data\",\"No Data\",3.37,0.32,\"Gas\"],[\"Vanuatu\",\"VUT\",\"No Data\",\"No Data\",0.591,0.0,\"Coal\"],[\"Venezuela\",\"VEN\",\"No Data\",\"No Data\",2.975,0.24,\"Flaring\"],[\"Vietnam\",\"VNM\",49.21,40.0,2.613,0.73,\"Coal\"],[\"Yemen\",\"YEM\",\"No Data\",\"No Data\",0.328,0.03,\"Oil\"],[\"Zambia\",\"ZMB\",\"No Data\",\"No Data\",0.358,0.02,\"Oil\"],[\"Zimbabwe\",\"ZWE\",\"No Data\",\"No Data\",0.709,0.03,\"Coal\"]],\"hovertemplate\":\"%{customdata[0]} (%{customdata[1]})<br>CCPI Score: %{customdata[2]}<br>CCPI Rank: %{customdata[3]}<br>CO2 Emissions per Capita: %{customdata[4]}<br>Global Share of CO2 Emissions: %{customdata[5]}<br>Primary CO2 Emissions Source: %{customdata[6]}<br><extra></extra>\",\"locations\":[\"AFG\",\"ALB\",\"DZA\",\"AND\",\"AGO\",\"AIA\",\"ATA\",\"ATG\",\"ARG\",\"ARM\",\"ABW\",\"AUS\",\"AUT\",\"AZE\",\"BHS\",\"BHR\",\"BGD\",\"BRB\",\"BLR\",\"BEL\",\"BLZ\",\"BEN\",\"BMU\",\"BTN\",\"BOL\",\"BES\",\"BIH\",\"BWA\",\"BRA\",\"VGB\",\"BRN\",\"BGR\",\"BFA\",\"BDI\",\"KHM\",\"CMR\",\"CAN\",\"CPV\",\"CAF\",\"TCD\",\"CHL\",\"CHN\",\"CXR\",\"COL\",\"COM\",\"COG\",\"COK\",\"CRI\",\"CIV\",\"HRV\",\"CUB\",\"CUW\",\"CYP\",\"CZE\",\"COD\",\"DNK\",\"DJI\",\"DMA\",\"DOM\",\"ECU\",\"EGY\",\"SLV\",\"GNQ\",\"ERI\",\"EST\",\"SWZ\",\"ETH\",\"FRO\",\"FJI\",\"FIN\",\"FRA\",\"GUF\",\"PYF\",\"GAB\",\"GMB\",\"GEO\",\"DEU\",\"GHA\",\"GRC\",\"GRL\",\"GRD\",\"GLP\",\"GTM\",\"GIN\",\"GNB\",\"GUY\",\"HTI\",\"HND\",\"HKG\",\"HUN\",\"ISL\",\"IND\",\"IDN\",\"IRN\",\"IRQ\",\"IRL\",\"ISR\",\"ITA\",\"JAM\",\"JPN\",\"JOR\",\"KAZ\",\"KEN\",\"KIR\",\"OWID_KOS\",\"KWT\",\"KGZ\",\"LAO\",\"LVA\",\"LBN\",\"LSO\",\"LBR\",\"LBY\",\"LIE\",\"LTU\",\"LUX\",\"MDG\",\"MWI\",\"MYS\",\"MDV\",\"MLI\",\"MLT\",\"MHL\",\"MTQ\",\"MRT\",\"MUS\",\"MYT\",\"MEX\",\"MDA\",\"MNG\",\"MNE\",\"MSR\",\"MAR\",\"MOZ\",\"MMR\",\"NAM\",\"NRU\",\"NPL\",\"NLD\",\"NCL\",\"NZL\",\"NIC\",\"NER\",\"NGA\",\"NIU\",\"PRK\",\"MKD\",\"NOR\",\"OMN\",\"PAK\",\"PLW\",\"PSE\",\"PAN\",\"PNG\",\"PRY\",\"PER\",\"PHL\",\"POL\",\"PRT\",\"PRI\",\"QAT\",\"ROU\",\"RUS\",\"RWA\",\"SHN\",\"KNA\",\"LCA\",\"SPM\",\"VCT\",\"WSM\",\"STP\",\"SAU\",\"SEN\",\"SRB\",\"SYC\",\"SLE\",\"SGP\",\"SXM\",\"SVK\",\"SVN\",\"SLB\",\"SOM\",\"ZAF\",\"KOR\",\"SSD\",\"ESP\",\"LKA\",\"SDN\",\"SUR\",\"SWE\",\"CHE\",\"SYR\",\"TWN\",\"TJK\",\"TZA\",\"THA\",\"TLS\",\"TGO\",\"TON\",\"TTO\",\"TUN\",\"TUR\",\"TKM\",\"TCA\",\"TUV\",\"UGA\",\"UKR\",\"ARE\",\"GBR\",\"USA\",\"URY\",\"UZB\",\"VUT\",\"VEN\",\"VNM\",\"YEM\",\"ZMB\",\"ZWE\"],\"marker\":{\"line\":{\"width\":0.1}},\"z\":[\"No Data\",\"No Data\",39.91,\"No Data\",\"No Data\",\"No Data\",\"No Data\",\"No Data\",47.08,\"No Data\",\"No Data\",30.06,52.35,\"No Data\",\"No Data\",\"No Data\",\"No Data\",\"No Data\",46.66,45.9,\"No Data\",\"No Data\",\"No Data\",\"No Data\",\"No Data\",\"No Data\",\"No Data\",\"No Data\",54.86,\"No Data\",\"No Data\",48.71,\"No Data\",\"No Data\",\"No Data\",\"No Data\",26.03,\"No Data\",\"No Data\",\"No Data\",\"No Data\",52.2,\"No Data\",57.87,\"No Data\",\"No Data\",\"No Data\",\"No Data\",\"No Data\",55.96,\"No Data\",\"No Data\",50.52,42.15,\"No Data\",76.67,\"No Data\",\"No Data\",\"No Data\",\"No Data\",59.74,\"No Data\",\"No Data\",\"No Data\",54.98,\"No Data\",\"No Data\",\"No Data\",\"No Data\",62.41,61.01,\"No Data\",\"No Data\",\"No Data\",\"No Data\",\"No Data\",63.53,\"No Data\",58.22,\"No Data\",\"No Data\",\"No Data\",\"No Data\",\"No Data\",\"No Data\",\"No Data\",\"No Data\",\"No Data\",\"No Data\",40.41,\"No Data\",69.2,57.17,25.66,\"No Data\",47.86,\"No Data\",55.39,\"No Data\",48.53,\"No Data\",19.23,\"No Data\",\"No Data\",\"No Data\",\"No Data\",\"No Data\",\"No Data\",57.73,\"No Data\",\"No Data\",\"No Data\",\"No Data\",\"No Data\",64.89,60.8,\"No Data\",\"No Data\",33.74,\"No Data\",\"No Data\",64.18,\"No Data\",\"No Data\",\"No Data\",\"No Data\",\"No Data\",56.05,\"No Data\",\"No Data\",\"No Data\",\"No Data\",71.6,\"No Data\",\"No Data\",\"No Data\",\"No Data\",\"No Data\",60.44,\"No Data\",54.03,\"No Data\",\"No Data\",\"No Data\",\"No Data\",\"No Data\",\"No Data\",73.29,\"No Data\",\"No Data\",\"No Data\",\"No Data\",\"No Data\",\"No Data\",\"No Data\",\"No Data\",58.98,40.63,61.11,\"No Data\",\"No Data\",52.43,34.73,\"No Data\",\"No Data\",\"No Data\",\"No Data\",\"No Data\",\"No Data\",\"No Data\",\"No Data\",24.25,\"No Data\",\"No Data\",\"No Data\",\"No Data\",\"No Data\",\"No Data\",50.67,43.28,\"No Data\",\"No Data\",51.13,26.74,\"No Data\",54.35,\"No Data\",\"No Data\",\"No Data\",74.22,61.7,\"No Data\",\"No Data\",\"No Data\",\"No Data\",55.01,\"No Data\",\"No Data\",\"No Data\",\"No Data\",\"No Data\",50.53,\"No Data\",\"No Data\",\"No Data\",\"No Data\",60.4,\"No Data\",73.09,37.39,\"No Data\",\"No Data\",\"No Data\",\"No Data\",49.21,\"No Data\",\"No Data\",\"No Data\"],\"type\":\"choropleth\"},{\"colorbar\":{\"title\":{\"text\":\"CO2<br>Emissions<br>per Capita\"}},\"colorscale\":[[0.0,\"rgb(0,0,0)\"],[0.3333333333333333,\"rgb(230,0,0)\"],[0.6666666666666666,\"rgb(255,210,0)\"],[1.0,\"rgb(255,255,255)\"]],\"customdata\":[[\"Afghanistan\",\"AFG\",\"No Data\",\"No Data\",0.312,0.03,\"Coal\"],[\"Albania\",\"ALB\",\"No Data\",\"No Data\",1.576,0.01,\"Oil\"],[\"Algeria\",\"DZA\",39.91,51.0,3.535,0.45,\"Gas\"],[\"Andorra\",\"AND\",\"No Data\",\"No Data\",6.035,0.0,\"Coal\"],[\"Angola\",\"AGO\",\"No Data\",\"No Data\",0.675,0.06,\"Coal\"],[\"Anguilla\",\"AIA\",\"No Data\",\"No Data\",8.227,0.0,\"Coal\"],[\"Antarctica\",\"ATA\",\"No Data\",\"No Data\",\"No Data\",\"No Data\",\"Coal\"],[\"Antigua and Barbuda\",\"ATG\",\"No Data\",\"No Data\",4.395,0.0,\"Coal\"],[\"Argentina\",\"ARG\",47.08,44.0,3.473,0.45,\"Gas\"],[\"Armenia\",\"ARM\",\"No Data\",\"No Data\",1.988,0.02,\"Gas\"],[\"Aruba\",\"ABW\",\"No Data\",\"No Data\",7.055,0.0,\"Coal\"],[\"Australia\",\"AUS\",30.06,56.0,15.368,1.13,\"Coal\"],[\"Austria\",\"AUT\",52.35,34.0,6.732,0.17,\"Oil\"],[\"Azerbaijan\",\"AZE\",\"No Data\",\"No Data\",3.72,0.11,\"Gas\"],[\"Bahamas\",\"BHS\",\"No Data\",\"No Data\",5.945,0.01,\"Oil\"],[\"Bahrain\",\"BHR\",\"No Data\",\"No Data\",20.546,0.1,\"Coal\"],[\"Bangladesh\",\"BGD\",\"No Data\",\"No Data\",0.564,0.27,\"Gas\"],[\"Barbados\",\"BRB\",\"No Data\",\"No Data\",3.782,0.0,\"Coal\"],[\"Belarus\",\"BLR\",46.66,45.0,6.079,0.17,\"Gas\"],[\"Belgium\",\"BEL\",45.9,46.0,7.226,0.24,\"Gas\"],[\"Belize\",\"BLZ\",\"No Data\",\"No Data\",1.466,0.0,\"Coal\"],[\"Benin\",\"BEN\",\"No Data\",\"No Data\",0.553,0.02,\"Coal\"],[\"Bermuda\",\"BMU\",\"No Data\",\"No Data\",10.028,0.0,\"Oil\"],[\"Bhutan\",\"BTN\",\"No Data\",\"No Data\",2.495,0.01,\"Coal\"],[\"Bolivia\",\"BOL\",\"No Data\",\"No Data\",1.773,0.06,\"Oil\"],[\"Bonaire Sint Eustatius and Saba\",\"BES\",\"No Data\",\"No Data\",11.466,0.0,\"Coal\"],[\"Bosnia and Herzegovina\",\"BIH\",\"No Data\",\"No Data\",6.528,0.06,\"Coal\"],[\"Botswana\",\"BWA\",\"No Data\",\"No Data\",2.772,0.02,\"Coal\"],[\"Brazil\",\"BRA\",54.86,30.0,2.199,1.34,\"Oil\"],[\"British Virgin Islands\",\"VGB\",\"No Data\",\"No Data\",4.605,0.0,\"Coal\"],[\"Brunei\",\"BRN\",\"No Data\",\"No Data\",23.22,0.03,\"Coal\"],[\"Bulgaria\",\"BGR\",48.71,41.0,5.389,0.11,\"Coal\"],[\"Burkina Faso\",\"BFA\",\"No Data\",\"No Data\",0.19,0.01,\"Coal\"],[\"Burundi\",\"BDI\",\"No Data\",\"No Data\",0.051,0.0,\"Oil\"],[\"Cambodia\",\"KHM\",\"No Data\",\"No Data\",0.917,0.04,\"Oil\"],[\"Cameroon\",\"CMR\",\"No Data\",\"No Data\",0.26,0.02,\"Coal\"],[\"Canada\",\"CAN\",26.03,58.0,14.197,1.54,\"Oil\"],[\"Cape Verde\",\"CPV\",\"No Data\",\"No Data\",0.989,0.0,\"Coal\"],[\"Central African Republic\",\"CAF\",\"No Data\",\"No Data\",0.039,0.0,\"Coal\"],[\"Chad\",\"TCD\",\"No Data\",\"No Data\",0.056,0.0,\"Coal\"],[\"Chile\",\"CHL\",\"No Data\",\"No Data\",4.246,0.23,\"Oil\"],[\"China\",\"CHN\",52.2,35.0,7.412,30.65,\"Coal\"],[\"Christmas Island\",\"CXR\",\"No Data\",\"No Data\",\"No Data\",\"No Data\",\"Coal\"],[\"Colombia\",\"COL\",57.87,22.0,1.751,0.26,\"Oil\"],[\"Comoros\",\"COM\",\"No Data\",\"No Data\",0.297,0.0,\"Coal\"],[\"Congo\",\"COG\",\"No Data\",\"No Data\",0.565,0.01,\"Coal\"],[\"Cook Islands\",\"COK\",\"No Data\",\"No Data\",4.522,0.0,\"Coal\"],[\"Costa Rica\",\"CRI\",\"No Data\",\"No Data\",1.552,0.02,\"Coal\"],[\"Cote d'Ivoire\",\"CIV\",\"No Data\",\"No Data\",0.382,0.03,\"Coal\"],[\"Croatia\",\"HRV\",55.96,26.0,4.137,0.05,\"Oil\"],[\"Cuba\",\"CUB\",\"No Data\",\"No Data\",1.779,0.06,\"Oil\"],[\"Curacao\",\"CUW\",\"No Data\",\"No Data\",20.323,0.01,\"Coal\"],[\"Cyprus\",\"CYP\",50.52,39.0,5.38,0.02,\"Oil\"],[\"Czechia\",\"CZE\",42.15,48.0,8.215,0.25,\"Coal\"],[\"Democratic Republic of Congo\",\"COD\",\"No Data\",\"No Data\",0.028,0.01,\"Coal\"],[\"Denmark\",\"DNK\",76.67,1.0,4.522,0.08,\"Oil\"],[\"Djibouti\",\"DJI\",\"No Data\",\"No Data\",0.356,0.0,\"Coal\"],[\"Dominica\",\"DMA\",\"No Data\",\"No Data\",1.934,0.0,\"Coal\"],[\"Dominican Republic\",\"DOM\",\"No Data\",\"No Data\",2.56,0.08,\"Oil\"],[\"Ecuador\",\"ECU\",\"No Data\",\"No Data\",1.753,0.09,\"Coal\"],[\"Egypt\",\"EGY\",59.74,18.0,2.086,0.61,\"Gas\"],[\"El Salvador\",\"SLV\",\"No Data\",\"No Data\",0.944,0.02,\"Oil\"],[\"Equatorial Guinea\",\"GNQ\",\"No Data\",\"No Data\",7.317,0.03,\"Coal\"],[\"Eritrea\",\"ERI\",\"No Data\",\"No Data\",0.204,0.0,\"Coal\"],[\"Estonia\",\"EST\",54.98,29.0,7.88,0.03,\"Coal\"],[\"Eswatini\",\"SWZ\",\"No Data\",\"No Data\",0.824,0.0,\"Oil\"],[\"Ethiopia\",\"ETH\",\"No Data\",\"No Data\",0.128,0.04,\"Oil\"],[\"Faeroe Islands\",\"FRO\",\"No Data\",\"No Data\",13.996,0.0,\"Coal\"],[\"Fiji\",\"FJI\",\"No Data\",\"No Data\",1.554,0.0,\"Coal\"],[\"Finland\",\"FIN\",62.41,11.0,7.091,0.11,\"Oil\"],[\"France\",\"FRA\",61.01,14.0,4.238,0.79,\"Oil\"],[\"French Guiana\",\"GUF\",\"No Data\",\"No Data\",2.439,0.0,\"Coal\"],[\"French Polynesia\",\"PYF\",\"No Data\",\"No Data\",2.949,0.0,\"Coal\"],[\"Gabon\",\"GAB\",\"No Data\",\"No Data\",1.931,0.01,\"Coal\"],[\"Gambia\",\"GMB\",\"No Data\",\"No Data\",0.207,0.0,\"Coal\"],[\"Georgia\",\"GEO\",\"No Data\",\"No Data\",2.499,0.03,\"Gas\"],[\"Germany\",\"DEU\",63.53,10.0,7.69,1.85,\"Oil\"],[\"Ghana\",\"GHA\",\"No Data\",\"No Data\",0.515,0.05,\"Coal\"],[\"Greece\",\"GRC\",58.22,21.0,5.012,0.15,\"Oil\"],[\"Greenland\",\"GRL\",\"No Data\",\"No Data\",9.061,0.0,\"Coal\"],[\"Grenada\",\"GRD\",\"No Data\",\"No Data\",2.62,0.0,\"Coal\"],[\"Guadeloupe\",\"GLP\",\"No Data\",\"No Data\",6.403,0.01,\"Oil\"],[\"Guatemala\",\"GTM\",\"No Data\",\"No Data\",1.057,0.05,\"Oil\"],[\"Guinea\",\"GIN\",\"No Data\",\"No Data\",0.258,0.01,\"Coal\"],[\"Guinea-Bissau\",\"GNB\",\"No Data\",\"No Data\",0.146,0.0,\"Coal\"],[\"Guyana\",\"GUY\",\"No Data\",\"No Data\",2.813,0.01,\"Coal\"],[\"Haiti\",\"HTI\",\"No Data\",\"No Data\",0.256,0.01,\"Coal\"],[\"Honduras\",\"HND\",\"No Data\",\"No Data\",0.975,0.03,\"Coal\"],[\"Hong Kong\",\"HKG\",\"No Data\",\"No Data\",4.167,0.09,\"Coal\"],[\"Hungary\",\"HUN\",40.41,50.0,4.997,0.14,\"Gas\"],[\"Iceland\",\"ISL\",\"No Data\",\"No Data\",8.604,0.01,\"Oil\"],[\"India\",\"IND\",69.2,7.0,1.769,7.02,\"Coal\"],[\"Indonesia\",\"IDN\",57.17,24.0,2.155,1.69,\"Coal\"],[\"Iran\",\"IRN\",25.66,59.0,8.87,2.14,\"Gas\"],[\"Iraq\",\"IRQ\",\"No Data\",\"No Data\",5.242,0.61,\"Coal\"],[\"Ireland\",\"IRL\",47.86,43.0,6.754,0.1,\"Oil\"],[\"Israel\",\"ISR\",\"No Data\",\"No Data\",6.51,0.16,\"Oil\"],[\"Italy\",\"ITA\",55.39,27.0,5.025,0.87,\"Gas\"],[\"Jamaica\",\"JAM\",\"No Data\",\"No Data\",2.509,0.02,\"Oil\"],[\"Japan\",\"JPN\",48.53,42.0,8.15,2.96,\"Coal\"],[\"Jordan\",\"JOR\",\"No Data\",\"No Data\",2.498,0.07,\"Oil\"],[\"Kazakhstan\",\"KAZ\",19.23,61.0,15.516,0.84,\"Coal\"],[\"Kenya\",\"KEN\",\"No Data\",\"No Data\",0.3,0.05,\"Oil\"],[\"Kiribati\",\"KIR\",\"No Data\",\"No Data\",0.57,0.0,\"Coal\"],[\"Kosovo\",\"OWID_KOS\",\"No Data\",\"No Data\",\"No Data\",0.02,\"Coal\"],[\"Kuwait\",\"KWT\",\"No Data\",\"No Data\",20.825,0.26,\"Coal\"],[\"Kyrgyzstan\",\"KGZ\",\"No Data\",\"No Data\",1.764,0.03,\"Oil\"],[\"Laos\",\"LAO\",\"No Data\",\"No Data\",4.652,0.1,\"Coal\"],[\"Latvia\",\"LVA\",57.73,23.0,3.591,0.02,\"Oil\"],[\"Lebanon\",\"LBN\",\"No Data\",\"No Data\",3.805,0.07,\"Oil\"],[\"Lesotho\",\"LSO\",\"No Data\",\"No Data\",1.019,0.01,\"Coal\"],[\"Liberia\",\"LBR\",\"No Data\",\"No Data\",0.2,0.0,\"Coal\"],[\"Libya\",\"LBY\",\"No Data\",\"No Data\",7.382,0.15,\"Coal\"],[\"Liechtenstein\",\"LIE\",\"No Data\",\"No Data\",3.698,0.0,\"Coal\"],[\"Lithuania\",\"LTU\",64.89,8.0,5.069,0.04,\"Oil\"],[\"Luxembourg\",\"LUX\",60.8,15.0,13.059,0.02,\"Oil\"],[\"Madagascar\",\"MDG\",\"No Data\",\"No Data\",0.133,0.01,\"Oil\"],[\"Malawi\",\"MWI\",\"No Data\",\"No Data\",0.073,0.0,\"Oil\"],[\"Malaysia\",\"MYS\",33.74,54.0,8.423,0.78,\"Coal\"],[\"Maldives\",\"MDV\",\"No Data\",\"No Data\",3.324,0.01,\"Coal\"],[\"Mali\",\"MLI\",\"No Data\",\"No Data\",0.167,0.01,\"Coal\"],[\"Malta\",\"MLT\",64.18,9.0,3.612,0.0,\"Oil\"],[\"Marshall Islands\",\"MHL\",\"No Data\",\"No Data\",2.556,0.0,\"Coal\"],[\"Martinique\",\"MTQ\",\"No Data\",\"No Data\",6.258,0.01,\"Coal\"],[\"Mauritania\",\"MRT\",\"No Data\",\"No Data\",0.726,0.01,\"Coal\"],[\"Mauritius\",\"MUS\",\"No Data\",\"No Data\",3.129,0.01,\"Oil\"],[\"Mayotte\",\"MYT\",\"No Data\",\"No Data\",1.12,0.0,\"Coal\"],[\"Mexico\",\"MEX\",56.05,25.0,2.769,1.03,\"Oil\"],[\"Moldova\",\"MDA\",\"No Data\",\"No Data\",1.276,0.01,\"Oil\"],[\"Mongolia\",\"MNG\",\"No Data\",\"No Data\",26.978,0.25,\"Coal\"],[\"Montenegro\",\"MNE\",\"No Data\",\"No Data\",3.678,0.01,\"Coal\"],[\"Montserrat\",\"MSR\",\"No Data\",\"No Data\",5.065,0.0,\"Coal\"],[\"Morocco\",\"MAR\",71.6,5.0,1.748,0.19,\"Oil\"],[\"Mozambique\",\"MOZ\",\"No Data\",\"No Data\",0.21,0.02,\"Oil\"],[\"Myanmar\",\"MMR\",\"No Data\",\"No Data\",0.668,0.1,\"Oil\"],[\"Namibia\",\"NAM\",\"No Data\",\"No Data\",1.526,0.01,\"Oil\"],[\"Nauru\",\"NRU\",\"No Data\",\"No Data\",5.236,0.0,\"Coal\"],[\"Nepal\",\"NPL\",\"No Data\",\"No Data\",0.582,0.05,\"Oil\"],[\"Netherlands\",\"NLD\",60.44,16.0,8.06,0.4,\"Gas\"],[\"New Caledonia\",\"NCL\",\"No Data\",\"No Data\",30.448,0.02,\"Coal\"],[\"New Zealand\",\"NZL\",54.03,32.0,6.942,0.1,\"Oil\"],[\"Nicaragua\",\"NIC\",\"No Data\",\"No Data\",0.766,0.01,\"Coal\"],[\"Niger\",\"NER\",\"No Data\",\"No Data\",0.07,0.0,\"Oil\"],[\"Nigeria\",\"NGA\",\"No Data\",\"No Data\",0.609,0.36,\"Oil\"],[\"Niue\",\"NIU\",\"No Data\",\"No Data\",7.012,0.0,\"Coal\"],[\"North Korea\",\"PRK\",\"No Data\",\"No Data\",1.137,0.08,\"Coal\"],[\"North Macedonia\",\"MKD\",\"No Data\",\"No Data\",3.43,0.02,\"Coal\"],[\"Norway\",\"NOR\",73.29,3.0,7.615,0.12,\"Oil\"],[\"Oman\",\"OMN\",\"No Data\",\"No Data\",12.173,0.18,\"Coal\"],[\"Pakistan\",\"PAK\",\"No Data\",\"No Data\",1.063,0.67,\"Oil\"],[\"Palau\",\"PLW\",\"No Data\",\"No Data\",12.125,0.0,\"Coal\"],[\"Palestine\",\"PSE\",\"No Data\",\"No Data\",0.568,0.01,\"Coal\"],[\"Panama\",\"PAN\",\"No Data\",\"No Data\",2.498,0.03,\"Oil\"],[\"Papua New Guinea\",\"PNG\",\"No Data\",\"No Data\",0.744,0.02,\"Coal\"],[\"Paraguay\",\"PRY\",\"No Data\",\"No Data\",1.061,0.02,\"Oil\"],[\"Peru\",\"PER\",\"No Data\",\"No Data\",1.356,0.13,\"Oil\"],[\"Philippines\",\"PHL\",58.98,20.0,1.241,0.39,\"Coal\"],[\"Poland\",\"POL\",40.63,49.0,7.916,0.86,\"Coal\"],[\"Portugal\",\"PRT\",61.11,13.0,3.961,0.12,\"Oil\"],[\"Puerto Rico\",\"PRI\",\"No Data\",\"No Data\",\"No Data\",\"No Data\",\"Coal\"],[\"Qatar\",\"QAT\",\"No Data\",\"No Data\",37.019,0.31,\"Coal\"],[\"Romania\",\"ROU\",52.43,33.0,3.715,0.21,\"Oil\"],[\"Russia\",\"RUS\",34.73,53.0,10.807,4.53,\"Gas\"],[\"Rwanda\",\"RWA\",\"No Data\",\"No Data\",0.08,0.0,\"Oil\"],[\"Saint Helena\",\"SHN\",\"No Data\",\"No Data\",1.564,0.0,\"Coal\"],[\"Saint Kitts and Nevis\",\"KNA\",\"No Data\",\"No Data\",3.986,0.0,\"Coal\"],[\"Saint Lucia\",\"LCA\",\"No Data\",\"No Data\",2.396,0.0,\"Coal\"],[\"Saint Pierre and Miquelon\",\"SPM\",\"No Data\",\"No Data\",8.738,0.0,\"Coal\"],[\"Saint Vincent and the Grenadines\",\"VCT\",\"No Data\",\"No Data\",1.883,0.0,\"Coal\"],[\"Samoa\",\"WSM\",\"No Data\",\"No Data\",1.239,0.0,\"Coal\"],[\"Sao Tome and Principe\",\"STP\",\"No Data\",\"No Data\",0.514,0.0,\"Coal\"],[\"Saudi Arabia\",\"SAU\",24.25,60.0,17.967,1.8,\"Coal\"],[\"Senegal\",\"SEN\",\"No Data\",\"No Data\",0.624,0.03,\"Oil\"],[\"Serbia\",\"SRB\",\"No Data\",\"No Data\",4.937,0.12,\"Coal\"],[\"Seychelles\",\"SYC\",\"No Data\",\"No Data\",4.994,0.0,\"Coal\"],[\"Sierra Leone\",\"SLE\",\"No Data\",\"No Data\",0.11,0.0,\"Coal\"],[\"Singapore\",\"SGP\",\"No Data\",\"No Data\",7.778,0.13,\"Oil\"],[\"Sint Maarten (Dutch part)\",\"SXM\",\"No Data\",\"No Data\",14.539,0.0,\"Coal\"],[\"Slovakia\",\"SVK\",50.67,37.0,5.629,0.09,\"Oil\"],[\"Slovenia\",\"SVN\",43.28,47.0,6.043,0.04,\"Oil\"],[\"Solomon Islands\",\"SLB\",\"No Data\",\"No Data\",0.435,0.0,\"Coal\"],[\"Somalia\",\"SOM\",\"No Data\",\"No Data\",0.035,0.0,\"Coal\"],[\"South Africa\",\"ZAF\",51.13,36.0,7.62,1.3,\"Coal\"],[\"South Korea\",\"KOR\",26.74,57.0,11.656,1.72,\"Coal\"],[\"South Sudan\",\"SSD\",\"No Data\",\"No Data\",0.105,0.0,\"Coal\"],[\"Spain\",\"ESP\",54.35,31.0,4.468,0.6,\"Oil\"],[\"Sri Lanka\",\"LKA\",\"No Data\",\"No Data\",0.986,0.06,\"Oil\"],[\"Sudan\",\"SDN\",\"No Data\",\"No Data\",0.43,0.05,\"Coal\"],[\"Suriname\",\"SUR\",\"No Data\",\"No Data\",3.791,0.01,\"Coal\"],[\"Sweden\",\"SWE\",74.22,2.0,3.826,0.11,\"Oil\"],[\"Switzerland\",\"CHE\",61.7,12.0,3.732,0.09,\"Oil\"],[\"Syria\",\"SYR\",\"No Data\",\"No Data\",1.745,0.09,\"Oil\"],[\"Taiwan\",\"TWN\",\"No Data\",\"No Data\",11.47,0.78,\"Coal\"],[\"Tajikistan\",\"TJK\",\"No Data\",\"No Data\",0.991,0.03,\"Coal\"],[\"Tanzania\",\"TZA\",\"No Data\",\"No Data\",0.183,0.03,\"Oil\"],[\"Thailand\",\"THA\",55.01,28.0,3.693,0.74,\"Oil\"],[\"Timor\",\"TLS\",\"No Data\",\"No Data\",0.399,0.0,\"Coal\"],[\"Togo\",\"TGO\",\"No Data\",\"No Data\",0.265,0.01,\"Coal\"],[\"Tonga\",\"TON\",\"No Data\",\"No Data\",1.36,0.0,\"Coal\"],[\"Trinidad and Tobago\",\"TTO\",\"No Data\",\"No Data\",25.373,0.1,\"Coal\"],[\"Tunisia\",\"TUN\",\"No Data\",\"No Data\",2.38,0.08,\"Coal\"],[\"Turkey\",\"TUR\",50.53,38.0,4.657,1.13,\"Coal\"],[\"Turkmenistan\",\"TKM\",\"No Data\",\"No Data\",12.491,0.22,\"Coal\"],[\"Turks and Caicos Islands\",\"TCA\",\"No Data\",\"No Data\",5.231,0.0,\"Coal\"],[\"Tuvalu\",\"TUV\",\"No Data\",\"No Data\",0.642,0.0,\"Coal\"],[\"Uganda\",\"UGA\",\"No Data\",\"No Data\",0.107,0.01,\"Coal\"],[\"Ukraine\",\"UKR\",60.4,17.0,4.891,0.61,\"Coal\"],[\"United Arab Emirates\",\"ARE\",\"No Data\",\"No Data\",15.193,0.43,\"Gas\"],[\"United Kingdom\",\"GBR\",73.09,4.0,4.855,0.95,\"Gas\"],[\"United States\",\"USA\",37.39,52.0,14.238,13.54,\"Oil\"],[\"Uruguay\",\"URY\",\"No Data\",\"No Data\",1.681,0.02,\"Oil\"],[\"Uzbekistan\",\"UZB\",\"No Data\",\"No Data\",3.37,0.32,\"Gas\"],[\"Vanuatu\",\"VUT\",\"No Data\",\"No Data\",0.591,0.0,\"Coal\"],[\"Venezuela\",\"VEN\",\"No Data\",\"No Data\",2.975,0.24,\"Flaring\"],[\"Vietnam\",\"VNM\",49.21,40.0,2.613,0.73,\"Coal\"],[\"Yemen\",\"YEM\",\"No Data\",\"No Data\",0.328,0.03,\"Oil\"],[\"Zambia\",\"ZMB\",\"No Data\",\"No Data\",0.358,0.02,\"Oil\"],[\"Zimbabwe\",\"ZWE\",\"No Data\",\"No Data\",0.709,0.03,\"Coal\"]],\"hovertemplate\":\"%{customdata[0]} (%{customdata[1]})<br>CCPI Score: %{customdata[2]}<br>CCPI Rank: %{customdata[3]}<br>CO2 Emissions per Capita: %{customdata[4]}<br>Global Share of CO2 Emissions: %{customdata[5]}<br>Primary CO2 Emissions Source: %{customdata[6]}<br><extra></extra>\",\"locations\":[\"AFG\",\"ALB\",\"DZA\",\"AND\",\"AGO\",\"AIA\",\"ATA\",\"ATG\",\"ARG\",\"ARM\",\"ABW\",\"AUS\",\"AUT\",\"AZE\",\"BHS\",\"BHR\",\"BGD\",\"BRB\",\"BLR\",\"BEL\",\"BLZ\",\"BEN\",\"BMU\",\"BTN\",\"BOL\",\"BES\",\"BIH\",\"BWA\",\"BRA\",\"VGB\",\"BRN\",\"BGR\",\"BFA\",\"BDI\",\"KHM\",\"CMR\",\"CAN\",\"CPV\",\"CAF\",\"TCD\",\"CHL\",\"CHN\",\"CXR\",\"COL\",\"COM\",\"COG\",\"COK\",\"CRI\",\"CIV\",\"HRV\",\"CUB\",\"CUW\",\"CYP\",\"CZE\",\"COD\",\"DNK\",\"DJI\",\"DMA\",\"DOM\",\"ECU\",\"EGY\",\"SLV\",\"GNQ\",\"ERI\",\"EST\",\"SWZ\",\"ETH\",\"FRO\",\"FJI\",\"FIN\",\"FRA\",\"GUF\",\"PYF\",\"GAB\",\"GMB\",\"GEO\",\"DEU\",\"GHA\",\"GRC\",\"GRL\",\"GRD\",\"GLP\",\"GTM\",\"GIN\",\"GNB\",\"GUY\",\"HTI\",\"HND\",\"HKG\",\"HUN\",\"ISL\",\"IND\",\"IDN\",\"IRN\",\"IRQ\",\"IRL\",\"ISR\",\"ITA\",\"JAM\",\"JPN\",\"JOR\",\"KAZ\",\"KEN\",\"KIR\",\"OWID_KOS\",\"KWT\",\"KGZ\",\"LAO\",\"LVA\",\"LBN\",\"LSO\",\"LBR\",\"LBY\",\"LIE\",\"LTU\",\"LUX\",\"MDG\",\"MWI\",\"MYS\",\"MDV\",\"MLI\",\"MLT\",\"MHL\",\"MTQ\",\"MRT\",\"MUS\",\"MYT\",\"MEX\",\"MDA\",\"MNG\",\"MNE\",\"MSR\",\"MAR\",\"MOZ\",\"MMR\",\"NAM\",\"NRU\",\"NPL\",\"NLD\",\"NCL\",\"NZL\",\"NIC\",\"NER\",\"NGA\",\"NIU\",\"PRK\",\"MKD\",\"NOR\",\"OMN\",\"PAK\",\"PLW\",\"PSE\",\"PAN\",\"PNG\",\"PRY\",\"PER\",\"PHL\",\"POL\",\"PRT\",\"PRI\",\"QAT\",\"ROU\",\"RUS\",\"RWA\",\"SHN\",\"KNA\",\"LCA\",\"SPM\",\"VCT\",\"WSM\",\"STP\",\"SAU\",\"SEN\",\"SRB\",\"SYC\",\"SLE\",\"SGP\",\"SXM\",\"SVK\",\"SVN\",\"SLB\",\"SOM\",\"ZAF\",\"KOR\",\"SSD\",\"ESP\",\"LKA\",\"SDN\",\"SUR\",\"SWE\",\"CHE\",\"SYR\",\"TWN\",\"TJK\",\"TZA\",\"THA\",\"TLS\",\"TGO\",\"TON\",\"TTO\",\"TUN\",\"TUR\",\"TKM\",\"TCA\",\"TUV\",\"UGA\",\"UKR\",\"ARE\",\"GBR\",\"USA\",\"URY\",\"UZB\",\"VUT\",\"VEN\",\"VNM\",\"YEM\",\"ZMB\",\"ZWE\"],\"marker\":{\"line\":{\"width\":0.1}},\"reversescale\":true,\"visible\":false,\"z\":[0.312,1.576,3.535,6.035,0.675,8.227,\"No Data\",4.395,3.473,1.988,7.055,15.368,6.732,3.72,5.945,20.546,0.564,3.782,6.079,7.226,1.466,0.553,10.028,2.495,1.773,11.466,6.528,2.772,2.199,4.605,23.22,5.389,0.19,0.051,0.917,0.26,14.197,0.989,0.039,0.056,4.246,7.412,\"No Data\",1.751,0.297,0.565,4.522,1.552,0.382,4.137,1.779,20.323,5.38,8.215,0.028,4.522,0.356,1.934,2.56,1.753,2.086,0.944,7.317,0.204,7.88,0.824,0.128,13.996,1.554,7.091,4.238,2.439,2.949,1.931,0.207,2.499,7.69,0.515,5.012,9.061,2.62,6.403,1.057,0.258,0.146,2.813,0.256,0.975,4.167,4.997,8.604,1.769,2.155,8.87,5.242,6.754,6.51,5.025,2.509,8.15,2.498,15.516,0.3,0.57,\"No Data\",20.825,1.764,4.652,3.591,3.805,1.019,0.2,7.382,3.698,5.069,13.059,0.133,0.073,8.423,3.324,0.167,3.612,2.556,6.258,0.726,3.129,1.12,2.769,1.276,26.978,3.678,5.065,1.748,0.21,0.668,1.526,5.236,0.582,8.06,30.448,6.942,0.766,0.07,0.609,7.012,1.137,3.43,7.615,12.173,1.063,12.125,0.568,2.498,0.744,1.061,1.356,1.241,7.916,3.961,\"No Data\",37.019,3.715,10.807,0.08,1.564,3.986,2.396,8.738,1.883,1.239,0.514,17.967,0.624,4.937,4.994,0.11,7.778,14.539,5.629,6.043,0.435,0.035,7.62,11.656,0.105,4.468,0.986,0.43,3.791,3.826,3.732,1.745,11.47,0.991,0.183,3.693,0.399,0.265,1.36,25.373,2.38,4.657,12.491,5.231,0.642,0.107,4.891,15.193,4.855,14.238,1.681,3.37,0.591,2.975,2.613,0.328,0.358,0.709],\"type\":\"choropleth\"},{\"colorbar\":{\"title\":{\"text\":\"Share of<br>Global CO2<br>Emissions\"}},\"colorscale\":[[0.0,\"rgb(0,0,0)\"],[0.3333333333333333,\"rgb(230,0,0)\"],[0.6666666666666666,\"rgb(255,210,0)\"],[1.0,\"rgb(255,255,255)\"]],\"customdata\":[[\"Afghanistan\",\"AFG\",\"No Data\",\"No Data\",0.312,0.03,\"Coal\"],[\"Albania\",\"ALB\",\"No Data\",\"No Data\",1.576,0.01,\"Oil\"],[\"Algeria\",\"DZA\",39.91,51.0,3.535,0.45,\"Gas\"],[\"Andorra\",\"AND\",\"No Data\",\"No Data\",6.035,0.0,\"Coal\"],[\"Angola\",\"AGO\",\"No Data\",\"No Data\",0.675,0.06,\"Coal\"],[\"Anguilla\",\"AIA\",\"No Data\",\"No Data\",8.227,0.0,\"Coal\"],[\"Antarctica\",\"ATA\",\"No Data\",\"No Data\",\"No Data\",\"No Data\",\"Coal\"],[\"Antigua and Barbuda\",\"ATG\",\"No Data\",\"No Data\",4.395,0.0,\"Coal\"],[\"Argentina\",\"ARG\",47.08,44.0,3.473,0.45,\"Gas\"],[\"Armenia\",\"ARM\",\"No Data\",\"No Data\",1.988,0.02,\"Gas\"],[\"Aruba\",\"ABW\",\"No Data\",\"No Data\",7.055,0.0,\"Coal\"],[\"Australia\",\"AUS\",30.06,56.0,15.368,1.13,\"Coal\"],[\"Austria\",\"AUT\",52.35,34.0,6.732,0.17,\"Oil\"],[\"Azerbaijan\",\"AZE\",\"No Data\",\"No Data\",3.72,0.11,\"Gas\"],[\"Bahamas\",\"BHS\",\"No Data\",\"No Data\",5.945,0.01,\"Oil\"],[\"Bahrain\",\"BHR\",\"No Data\",\"No Data\",20.546,0.1,\"Coal\"],[\"Bangladesh\",\"BGD\",\"No Data\",\"No Data\",0.564,0.27,\"Gas\"],[\"Barbados\",\"BRB\",\"No Data\",\"No Data\",3.782,0.0,\"Coal\"],[\"Belarus\",\"BLR\",46.66,45.0,6.079,0.17,\"Gas\"],[\"Belgium\",\"BEL\",45.9,46.0,7.226,0.24,\"Gas\"],[\"Belize\",\"BLZ\",\"No Data\",\"No Data\",1.466,0.0,\"Coal\"],[\"Benin\",\"BEN\",\"No Data\",\"No Data\",0.553,0.02,\"Coal\"],[\"Bermuda\",\"BMU\",\"No Data\",\"No Data\",10.028,0.0,\"Oil\"],[\"Bhutan\",\"BTN\",\"No Data\",\"No Data\",2.495,0.01,\"Coal\"],[\"Bolivia\",\"BOL\",\"No Data\",\"No Data\",1.773,0.06,\"Oil\"],[\"Bonaire Sint Eustatius and Saba\",\"BES\",\"No Data\",\"No Data\",11.466,0.0,\"Coal\"],[\"Bosnia and Herzegovina\",\"BIH\",\"No Data\",\"No Data\",6.528,0.06,\"Coal\"],[\"Botswana\",\"BWA\",\"No Data\",\"No Data\",2.772,0.02,\"Coal\"],[\"Brazil\",\"BRA\",54.86,30.0,2.199,1.34,\"Oil\"],[\"British Virgin Islands\",\"VGB\",\"No Data\",\"No Data\",4.605,0.0,\"Coal\"],[\"Brunei\",\"BRN\",\"No Data\",\"No Data\",23.22,0.03,\"Coal\"],[\"Bulgaria\",\"BGR\",48.71,41.0,5.389,0.11,\"Coal\"],[\"Burkina Faso\",\"BFA\",\"No Data\",\"No Data\",0.19,0.01,\"Coal\"],[\"Burundi\",\"BDI\",\"No Data\",\"No Data\",0.051,0.0,\"Oil\"],[\"Cambodia\",\"KHM\",\"No Data\",\"No Data\",0.917,0.04,\"Oil\"],[\"Cameroon\",\"CMR\",\"No Data\",\"No Data\",0.26,0.02,\"Coal\"],[\"Canada\",\"CAN\",26.03,58.0,14.197,1.54,\"Oil\"],[\"Cape Verde\",\"CPV\",\"No Data\",\"No Data\",0.989,0.0,\"Coal\"],[\"Central African Republic\",\"CAF\",\"No Data\",\"No Data\",0.039,0.0,\"Coal\"],[\"Chad\",\"TCD\",\"No Data\",\"No Data\",0.056,0.0,\"Coal\"],[\"Chile\",\"CHL\",\"No Data\",\"No Data\",4.246,0.23,\"Oil\"],[\"China\",\"CHN\",52.2,35.0,7.412,30.65,\"Coal\"],[\"Christmas Island\",\"CXR\",\"No Data\",\"No Data\",\"No Data\",\"No Data\",\"Coal\"],[\"Colombia\",\"COL\",57.87,22.0,1.751,0.26,\"Oil\"],[\"Comoros\",\"COM\",\"No Data\",\"No Data\",0.297,0.0,\"Coal\"],[\"Congo\",\"COG\",\"No Data\",\"No Data\",0.565,0.01,\"Coal\"],[\"Cook Islands\",\"COK\",\"No Data\",\"No Data\",4.522,0.0,\"Coal\"],[\"Costa Rica\",\"CRI\",\"No Data\",\"No Data\",1.552,0.02,\"Coal\"],[\"Cote d'Ivoire\",\"CIV\",\"No Data\",\"No Data\",0.382,0.03,\"Coal\"],[\"Croatia\",\"HRV\",55.96,26.0,4.137,0.05,\"Oil\"],[\"Cuba\",\"CUB\",\"No Data\",\"No Data\",1.779,0.06,\"Oil\"],[\"Curacao\",\"CUW\",\"No Data\",\"No Data\",20.323,0.01,\"Coal\"],[\"Cyprus\",\"CYP\",50.52,39.0,5.38,0.02,\"Oil\"],[\"Czechia\",\"CZE\",42.15,48.0,8.215,0.25,\"Coal\"],[\"Democratic Republic of Congo\",\"COD\",\"No Data\",\"No Data\",0.028,0.01,\"Coal\"],[\"Denmark\",\"DNK\",76.67,1.0,4.522,0.08,\"Oil\"],[\"Djibouti\",\"DJI\",\"No Data\",\"No Data\",0.356,0.0,\"Coal\"],[\"Dominica\",\"DMA\",\"No Data\",\"No Data\",1.934,0.0,\"Coal\"],[\"Dominican Republic\",\"DOM\",\"No Data\",\"No Data\",2.56,0.08,\"Oil\"],[\"Ecuador\",\"ECU\",\"No Data\",\"No Data\",1.753,0.09,\"Coal\"],[\"Egypt\",\"EGY\",59.74,18.0,2.086,0.61,\"Gas\"],[\"El Salvador\",\"SLV\",\"No Data\",\"No Data\",0.944,0.02,\"Oil\"],[\"Equatorial Guinea\",\"GNQ\",\"No Data\",\"No Data\",7.317,0.03,\"Coal\"],[\"Eritrea\",\"ERI\",\"No Data\",\"No Data\",0.204,0.0,\"Coal\"],[\"Estonia\",\"EST\",54.98,29.0,7.88,0.03,\"Coal\"],[\"Eswatini\",\"SWZ\",\"No Data\",\"No Data\",0.824,0.0,\"Oil\"],[\"Ethiopia\",\"ETH\",\"No Data\",\"No Data\",0.128,0.04,\"Oil\"],[\"Faeroe Islands\",\"FRO\",\"No Data\",\"No Data\",13.996,0.0,\"Coal\"],[\"Fiji\",\"FJI\",\"No Data\",\"No Data\",1.554,0.0,\"Coal\"],[\"Finland\",\"FIN\",62.41,11.0,7.091,0.11,\"Oil\"],[\"France\",\"FRA\",61.01,14.0,4.238,0.79,\"Oil\"],[\"French Guiana\",\"GUF\",\"No Data\",\"No Data\",2.439,0.0,\"Coal\"],[\"French Polynesia\",\"PYF\",\"No Data\",\"No Data\",2.949,0.0,\"Coal\"],[\"Gabon\",\"GAB\",\"No Data\",\"No Data\",1.931,0.01,\"Coal\"],[\"Gambia\",\"GMB\",\"No Data\",\"No Data\",0.207,0.0,\"Coal\"],[\"Georgia\",\"GEO\",\"No Data\",\"No Data\",2.499,0.03,\"Gas\"],[\"Germany\",\"DEU\",63.53,10.0,7.69,1.85,\"Oil\"],[\"Ghana\",\"GHA\",\"No Data\",\"No Data\",0.515,0.05,\"Coal\"],[\"Greece\",\"GRC\",58.22,21.0,5.012,0.15,\"Oil\"],[\"Greenland\",\"GRL\",\"No Data\",\"No Data\",9.061,0.0,\"Coal\"],[\"Grenada\",\"GRD\",\"No Data\",\"No Data\",2.62,0.0,\"Coal\"],[\"Guadeloupe\",\"GLP\",\"No Data\",\"No Data\",6.403,0.01,\"Oil\"],[\"Guatemala\",\"GTM\",\"No Data\",\"No Data\",1.057,0.05,\"Oil\"],[\"Guinea\",\"GIN\",\"No Data\",\"No Data\",0.258,0.01,\"Coal\"],[\"Guinea-Bissau\",\"GNB\",\"No Data\",\"No Data\",0.146,0.0,\"Coal\"],[\"Guyana\",\"GUY\",\"No Data\",\"No Data\",2.813,0.01,\"Coal\"],[\"Haiti\",\"HTI\",\"No Data\",\"No Data\",0.256,0.01,\"Coal\"],[\"Honduras\",\"HND\",\"No Data\",\"No Data\",0.975,0.03,\"Coal\"],[\"Hong Kong\",\"HKG\",\"No Data\",\"No Data\",4.167,0.09,\"Coal\"],[\"Hungary\",\"HUN\",40.41,50.0,4.997,0.14,\"Gas\"],[\"Iceland\",\"ISL\",\"No Data\",\"No Data\",8.604,0.01,\"Oil\"],[\"India\",\"IND\",69.2,7.0,1.769,7.02,\"Coal\"],[\"Indonesia\",\"IDN\",57.17,24.0,2.155,1.69,\"Coal\"],[\"Iran\",\"IRN\",25.66,59.0,8.87,2.14,\"Gas\"],[\"Iraq\",\"IRQ\",\"No Data\",\"No Data\",5.242,0.61,\"Coal\"],[\"Ireland\",\"IRL\",47.86,43.0,6.754,0.1,\"Oil\"],[\"Israel\",\"ISR\",\"No Data\",\"No Data\",6.51,0.16,\"Oil\"],[\"Italy\",\"ITA\",55.39,27.0,5.025,0.87,\"Gas\"],[\"Jamaica\",\"JAM\",\"No Data\",\"No Data\",2.509,0.02,\"Oil\"],[\"Japan\",\"JPN\",48.53,42.0,8.15,2.96,\"Coal\"],[\"Jordan\",\"JOR\",\"No Data\",\"No Data\",2.498,0.07,\"Oil\"],[\"Kazakhstan\",\"KAZ\",19.23,61.0,15.516,0.84,\"Coal\"],[\"Kenya\",\"KEN\",\"No Data\",\"No Data\",0.3,0.05,\"Oil\"],[\"Kiribati\",\"KIR\",\"No Data\",\"No Data\",0.57,0.0,\"Coal\"],[\"Kosovo\",\"OWID_KOS\",\"No Data\",\"No Data\",\"No Data\",0.02,\"Coal\"],[\"Kuwait\",\"KWT\",\"No Data\",\"No Data\",20.825,0.26,\"Coal\"],[\"Kyrgyzstan\",\"KGZ\",\"No Data\",\"No Data\",1.764,0.03,\"Oil\"],[\"Laos\",\"LAO\",\"No Data\",\"No Data\",4.652,0.1,\"Coal\"],[\"Latvia\",\"LVA\",57.73,23.0,3.591,0.02,\"Oil\"],[\"Lebanon\",\"LBN\",\"No Data\",\"No Data\",3.805,0.07,\"Oil\"],[\"Lesotho\",\"LSO\",\"No Data\",\"No Data\",1.019,0.01,\"Coal\"],[\"Liberia\",\"LBR\",\"No Data\",\"No Data\",0.2,0.0,\"Coal\"],[\"Libya\",\"LBY\",\"No Data\",\"No Data\",7.382,0.15,\"Coal\"],[\"Liechtenstein\",\"LIE\",\"No Data\",\"No Data\",3.698,0.0,\"Coal\"],[\"Lithuania\",\"LTU\",64.89,8.0,5.069,0.04,\"Oil\"],[\"Luxembourg\",\"LUX\",60.8,15.0,13.059,0.02,\"Oil\"],[\"Madagascar\",\"MDG\",\"No Data\",\"No Data\",0.133,0.01,\"Oil\"],[\"Malawi\",\"MWI\",\"No Data\",\"No Data\",0.073,0.0,\"Oil\"],[\"Malaysia\",\"MYS\",33.74,54.0,8.423,0.78,\"Coal\"],[\"Maldives\",\"MDV\",\"No Data\",\"No Data\",3.324,0.01,\"Coal\"],[\"Mali\",\"MLI\",\"No Data\",\"No Data\",0.167,0.01,\"Coal\"],[\"Malta\",\"MLT\",64.18,9.0,3.612,0.0,\"Oil\"],[\"Marshall Islands\",\"MHL\",\"No Data\",\"No Data\",2.556,0.0,\"Coal\"],[\"Martinique\",\"MTQ\",\"No Data\",\"No Data\",6.258,0.01,\"Coal\"],[\"Mauritania\",\"MRT\",\"No Data\",\"No Data\",0.726,0.01,\"Coal\"],[\"Mauritius\",\"MUS\",\"No Data\",\"No Data\",3.129,0.01,\"Oil\"],[\"Mayotte\",\"MYT\",\"No Data\",\"No Data\",1.12,0.0,\"Coal\"],[\"Mexico\",\"MEX\",56.05,25.0,2.769,1.03,\"Oil\"],[\"Moldova\",\"MDA\",\"No Data\",\"No Data\",1.276,0.01,\"Oil\"],[\"Mongolia\",\"MNG\",\"No Data\",\"No Data\",26.978,0.25,\"Coal\"],[\"Montenegro\",\"MNE\",\"No Data\",\"No Data\",3.678,0.01,\"Coal\"],[\"Montserrat\",\"MSR\",\"No Data\",\"No Data\",5.065,0.0,\"Coal\"],[\"Morocco\",\"MAR\",71.6,5.0,1.748,0.19,\"Oil\"],[\"Mozambique\",\"MOZ\",\"No Data\",\"No Data\",0.21,0.02,\"Oil\"],[\"Myanmar\",\"MMR\",\"No Data\",\"No Data\",0.668,0.1,\"Oil\"],[\"Namibia\",\"NAM\",\"No Data\",\"No Data\",1.526,0.01,\"Oil\"],[\"Nauru\",\"NRU\",\"No Data\",\"No Data\",5.236,0.0,\"Coal\"],[\"Nepal\",\"NPL\",\"No Data\",\"No Data\",0.582,0.05,\"Oil\"],[\"Netherlands\",\"NLD\",60.44,16.0,8.06,0.4,\"Gas\"],[\"New Caledonia\",\"NCL\",\"No Data\",\"No Data\",30.448,0.02,\"Coal\"],[\"New Zealand\",\"NZL\",54.03,32.0,6.942,0.1,\"Oil\"],[\"Nicaragua\",\"NIC\",\"No Data\",\"No Data\",0.766,0.01,\"Coal\"],[\"Niger\",\"NER\",\"No Data\",\"No Data\",0.07,0.0,\"Oil\"],[\"Nigeria\",\"NGA\",\"No Data\",\"No Data\",0.609,0.36,\"Oil\"],[\"Niue\",\"NIU\",\"No Data\",\"No Data\",7.012,0.0,\"Coal\"],[\"North Korea\",\"PRK\",\"No Data\",\"No Data\",1.137,0.08,\"Coal\"],[\"North Macedonia\",\"MKD\",\"No Data\",\"No Data\",3.43,0.02,\"Coal\"],[\"Norway\",\"NOR\",73.29,3.0,7.615,0.12,\"Oil\"],[\"Oman\",\"OMN\",\"No Data\",\"No Data\",12.173,0.18,\"Coal\"],[\"Pakistan\",\"PAK\",\"No Data\",\"No Data\",1.063,0.67,\"Oil\"],[\"Palau\",\"PLW\",\"No Data\",\"No Data\",12.125,0.0,\"Coal\"],[\"Palestine\",\"PSE\",\"No Data\",\"No Data\",0.568,0.01,\"Coal\"],[\"Panama\",\"PAN\",\"No Data\",\"No Data\",2.498,0.03,\"Oil\"],[\"Papua New Guinea\",\"PNG\",\"No Data\",\"No Data\",0.744,0.02,\"Coal\"],[\"Paraguay\",\"PRY\",\"No Data\",\"No Data\",1.061,0.02,\"Oil\"],[\"Peru\",\"PER\",\"No Data\",\"No Data\",1.356,0.13,\"Oil\"],[\"Philippines\",\"PHL\",58.98,20.0,1.241,0.39,\"Coal\"],[\"Poland\",\"POL\",40.63,49.0,7.916,0.86,\"Coal\"],[\"Portugal\",\"PRT\",61.11,13.0,3.961,0.12,\"Oil\"],[\"Puerto Rico\",\"PRI\",\"No Data\",\"No Data\",\"No Data\",\"No Data\",\"Coal\"],[\"Qatar\",\"QAT\",\"No Data\",\"No Data\",37.019,0.31,\"Coal\"],[\"Romania\",\"ROU\",52.43,33.0,3.715,0.21,\"Oil\"],[\"Russia\",\"RUS\",34.73,53.0,10.807,4.53,\"Gas\"],[\"Rwanda\",\"RWA\",\"No Data\",\"No Data\",0.08,0.0,\"Oil\"],[\"Saint Helena\",\"SHN\",\"No Data\",\"No Data\",1.564,0.0,\"Coal\"],[\"Saint Kitts and Nevis\",\"KNA\",\"No Data\",\"No Data\",3.986,0.0,\"Coal\"],[\"Saint Lucia\",\"LCA\",\"No Data\",\"No Data\",2.396,0.0,\"Coal\"],[\"Saint Pierre and Miquelon\",\"SPM\",\"No Data\",\"No Data\",8.738,0.0,\"Coal\"],[\"Saint Vincent and the Grenadines\",\"VCT\",\"No Data\",\"No Data\",1.883,0.0,\"Coal\"],[\"Samoa\",\"WSM\",\"No Data\",\"No Data\",1.239,0.0,\"Coal\"],[\"Sao Tome and Principe\",\"STP\",\"No Data\",\"No Data\",0.514,0.0,\"Coal\"],[\"Saudi Arabia\",\"SAU\",24.25,60.0,17.967,1.8,\"Coal\"],[\"Senegal\",\"SEN\",\"No Data\",\"No Data\",0.624,0.03,\"Oil\"],[\"Serbia\",\"SRB\",\"No Data\",\"No Data\",4.937,0.12,\"Coal\"],[\"Seychelles\",\"SYC\",\"No Data\",\"No Data\",4.994,0.0,\"Coal\"],[\"Sierra Leone\",\"SLE\",\"No Data\",\"No Data\",0.11,0.0,\"Coal\"],[\"Singapore\",\"SGP\",\"No Data\",\"No Data\",7.778,0.13,\"Oil\"],[\"Sint Maarten (Dutch part)\",\"SXM\",\"No Data\",\"No Data\",14.539,0.0,\"Coal\"],[\"Slovakia\",\"SVK\",50.67,37.0,5.629,0.09,\"Oil\"],[\"Slovenia\",\"SVN\",43.28,47.0,6.043,0.04,\"Oil\"],[\"Solomon Islands\",\"SLB\",\"No Data\",\"No Data\",0.435,0.0,\"Coal\"],[\"Somalia\",\"SOM\",\"No Data\",\"No Data\",0.035,0.0,\"Coal\"],[\"South Africa\",\"ZAF\",51.13,36.0,7.62,1.3,\"Coal\"],[\"South Korea\",\"KOR\",26.74,57.0,11.656,1.72,\"Coal\"],[\"South Sudan\",\"SSD\",\"No Data\",\"No Data\",0.105,0.0,\"Coal\"],[\"Spain\",\"ESP\",54.35,31.0,4.468,0.6,\"Oil\"],[\"Sri Lanka\",\"LKA\",\"No Data\",\"No Data\",0.986,0.06,\"Oil\"],[\"Sudan\",\"SDN\",\"No Data\",\"No Data\",0.43,0.05,\"Coal\"],[\"Suriname\",\"SUR\",\"No Data\",\"No Data\",3.791,0.01,\"Coal\"],[\"Sweden\",\"SWE\",74.22,2.0,3.826,0.11,\"Oil\"],[\"Switzerland\",\"CHE\",61.7,12.0,3.732,0.09,\"Oil\"],[\"Syria\",\"SYR\",\"No Data\",\"No Data\",1.745,0.09,\"Oil\"],[\"Taiwan\",\"TWN\",\"No Data\",\"No Data\",11.47,0.78,\"Coal\"],[\"Tajikistan\",\"TJK\",\"No Data\",\"No Data\",0.991,0.03,\"Coal\"],[\"Tanzania\",\"TZA\",\"No Data\",\"No Data\",0.183,0.03,\"Oil\"],[\"Thailand\",\"THA\",55.01,28.0,3.693,0.74,\"Oil\"],[\"Timor\",\"TLS\",\"No Data\",\"No Data\",0.399,0.0,\"Coal\"],[\"Togo\",\"TGO\",\"No Data\",\"No Data\",0.265,0.01,\"Coal\"],[\"Tonga\",\"TON\",\"No Data\",\"No Data\",1.36,0.0,\"Coal\"],[\"Trinidad and Tobago\",\"TTO\",\"No Data\",\"No Data\",25.373,0.1,\"Coal\"],[\"Tunisia\",\"TUN\",\"No Data\",\"No Data\",2.38,0.08,\"Coal\"],[\"Turkey\",\"TUR\",50.53,38.0,4.657,1.13,\"Coal\"],[\"Turkmenistan\",\"TKM\",\"No Data\",\"No Data\",12.491,0.22,\"Coal\"],[\"Turks and Caicos Islands\",\"TCA\",\"No Data\",\"No Data\",5.231,0.0,\"Coal\"],[\"Tuvalu\",\"TUV\",\"No Data\",\"No Data\",0.642,0.0,\"Coal\"],[\"Uganda\",\"UGA\",\"No Data\",\"No Data\",0.107,0.01,\"Coal\"],[\"Ukraine\",\"UKR\",60.4,17.0,4.891,0.61,\"Coal\"],[\"United Arab Emirates\",\"ARE\",\"No Data\",\"No Data\",15.193,0.43,\"Gas\"],[\"United Kingdom\",\"GBR\",73.09,4.0,4.855,0.95,\"Gas\"],[\"United States\",\"USA\",37.39,52.0,14.238,13.54,\"Oil\"],[\"Uruguay\",\"URY\",\"No Data\",\"No Data\",1.681,0.02,\"Oil\"],[\"Uzbekistan\",\"UZB\",\"No Data\",\"No Data\",3.37,0.32,\"Gas\"],[\"Vanuatu\",\"VUT\",\"No Data\",\"No Data\",0.591,0.0,\"Coal\"],[\"Venezuela\",\"VEN\",\"No Data\",\"No Data\",2.975,0.24,\"Flaring\"],[\"Vietnam\",\"VNM\",49.21,40.0,2.613,0.73,\"Coal\"],[\"Yemen\",\"YEM\",\"No Data\",\"No Data\",0.328,0.03,\"Oil\"],[\"Zambia\",\"ZMB\",\"No Data\",\"No Data\",0.358,0.02,\"Oil\"],[\"Zimbabwe\",\"ZWE\",\"No Data\",\"No Data\",0.709,0.03,\"Coal\"]],\"hovertemplate\":\"%{customdata[0]} (%{customdata[1]})<br>CCPI Score: %{customdata[2]}<br>CCPI Rank: %{customdata[3]}<br>CO2 Emissions per Capita: %{customdata[4]}<br>Global Share of CO2 Emissions: %{customdata[5]}<br>Primary CO2 Emissions Source: %{customdata[6]}<br><extra></extra>\",\"locations\":[\"AFG\",\"ALB\",\"DZA\",\"AND\",\"AGO\",\"AIA\",\"ATA\",\"ATG\",\"ARG\",\"ARM\",\"ABW\",\"AUS\",\"AUT\",\"AZE\",\"BHS\",\"BHR\",\"BGD\",\"BRB\",\"BLR\",\"BEL\",\"BLZ\",\"BEN\",\"BMU\",\"BTN\",\"BOL\",\"BES\",\"BIH\",\"BWA\",\"BRA\",\"VGB\",\"BRN\",\"BGR\",\"BFA\",\"BDI\",\"KHM\",\"CMR\",\"CAN\",\"CPV\",\"CAF\",\"TCD\",\"CHL\",\"CHN\",\"CXR\",\"COL\",\"COM\",\"COG\",\"COK\",\"CRI\",\"CIV\",\"HRV\",\"CUB\",\"CUW\",\"CYP\",\"CZE\",\"COD\",\"DNK\",\"DJI\",\"DMA\",\"DOM\",\"ECU\",\"EGY\",\"SLV\",\"GNQ\",\"ERI\",\"EST\",\"SWZ\",\"ETH\",\"FRO\",\"FJI\",\"FIN\",\"FRA\",\"GUF\",\"PYF\",\"GAB\",\"GMB\",\"GEO\",\"DEU\",\"GHA\",\"GRC\",\"GRL\",\"GRD\",\"GLP\",\"GTM\",\"GIN\",\"GNB\",\"GUY\",\"HTI\",\"HND\",\"HKG\",\"HUN\",\"ISL\",\"IND\",\"IDN\",\"IRN\",\"IRQ\",\"IRL\",\"ISR\",\"ITA\",\"JAM\",\"JPN\",\"JOR\",\"KAZ\",\"KEN\",\"KIR\",\"OWID_KOS\",\"KWT\",\"KGZ\",\"LAO\",\"LVA\",\"LBN\",\"LSO\",\"LBR\",\"LBY\",\"LIE\",\"LTU\",\"LUX\",\"MDG\",\"MWI\",\"MYS\",\"MDV\",\"MLI\",\"MLT\",\"MHL\",\"MTQ\",\"MRT\",\"MUS\",\"MYT\",\"MEX\",\"MDA\",\"MNG\",\"MNE\",\"MSR\",\"MAR\",\"MOZ\",\"MMR\",\"NAM\",\"NRU\",\"NPL\",\"NLD\",\"NCL\",\"NZL\",\"NIC\",\"NER\",\"NGA\",\"NIU\",\"PRK\",\"MKD\",\"NOR\",\"OMN\",\"PAK\",\"PLW\",\"PSE\",\"PAN\",\"PNG\",\"PRY\",\"PER\",\"PHL\",\"POL\",\"PRT\",\"PRI\",\"QAT\",\"ROU\",\"RUS\",\"RWA\",\"SHN\",\"KNA\",\"LCA\",\"SPM\",\"VCT\",\"WSM\",\"STP\",\"SAU\",\"SEN\",\"SRB\",\"SYC\",\"SLE\",\"SGP\",\"SXM\",\"SVK\",\"SVN\",\"SLB\",\"SOM\",\"ZAF\",\"KOR\",\"SSD\",\"ESP\",\"LKA\",\"SDN\",\"SUR\",\"SWE\",\"CHE\",\"SYR\",\"TWN\",\"TJK\",\"TZA\",\"THA\",\"TLS\",\"TGO\",\"TON\",\"TTO\",\"TUN\",\"TUR\",\"TKM\",\"TCA\",\"TUV\",\"UGA\",\"UKR\",\"ARE\",\"GBR\",\"USA\",\"URY\",\"UZB\",\"VUT\",\"VEN\",\"VNM\",\"YEM\",\"ZMB\",\"ZWE\"],\"marker\":{\"line\":{\"width\":0.1}},\"reversescale\":true,\"visible\":false,\"z\":[0.03,0.01,0.45,0.0,0.06,0.0,\"No Data\",0.0,0.45,0.02,0.0,1.13,0.17,0.11,0.01,0.1,0.27,0.0,0.17,0.24,0.0,0.02,0.0,0.01,0.06,0.0,0.06,0.02,1.34,0.0,0.03,0.11,0.01,0.0,0.04,0.02,1.54,0.0,0.0,0.0,0.23,30.65,\"No Data\",0.26,0.0,0.01,0.0,0.02,0.03,0.05,0.06,0.01,0.02,0.25,0.01,0.08,0.0,0.0,0.08,0.09,0.61,0.02,0.03,0.0,0.03,0.0,0.04,0.0,0.0,0.11,0.79,0.0,0.0,0.01,0.0,0.03,1.85,0.05,0.15,0.0,0.0,0.01,0.05,0.01,0.0,0.01,0.01,0.03,0.09,0.14,0.01,7.02,1.69,2.14,0.61,0.1,0.16,0.87,0.02,2.96,0.07,0.84,0.05,0.0,0.02,0.26,0.03,0.1,0.02,0.07,0.01,0.0,0.15,0.0,0.04,0.02,0.01,0.0,0.78,0.01,0.01,0.0,0.0,0.01,0.01,0.01,0.0,1.03,0.01,0.25,0.01,0.0,0.19,0.02,0.1,0.01,0.0,0.05,0.4,0.02,0.1,0.01,0.0,0.36,0.0,0.08,0.02,0.12,0.18,0.67,0.0,0.01,0.03,0.02,0.02,0.13,0.39,0.86,0.12,\"No Data\",0.31,0.21,4.53,0.0,0.0,0.0,0.0,0.0,0.0,0.0,0.0,1.8,0.03,0.12,0.0,0.0,0.13,0.0,0.09,0.04,0.0,0.0,1.3,1.72,0.0,0.6,0.06,0.05,0.01,0.11,0.09,0.09,0.78,0.03,0.03,0.74,0.0,0.01,0.0,0.1,0.08,1.13,0.22,0.0,0.0,0.01,0.61,0.43,0.95,13.54,0.02,0.32,0.0,0.24,0.73,0.03,0.02,0.03],\"type\":\"choropleth\"},{\"colorbar\":{\"ticktext\":[\"Coal\",\"Gas\",\"Flaring\",\"Oil\"],\"tickvals\":[0,1,2,3],\"title\":{\"text\":\"Primary CO2<br>Emissions<br>Source\"}},\"colorscale\":[[0.0,\"rgb(165,0,38)\"],[0.1,\"rgb(215,48,39)\"],[0.2,\"rgb(244,109,67)\"],[0.3,\"rgb(253,174,97)\"],[0.4,\"rgb(254,224,139)\"],[0.5,\"rgb(255,255,191)\"],[0.6,\"rgb(217,239,139)\"],[0.7,\"rgb(166,217,106)\"],[0.8,\"rgb(102,189,99)\"],[0.9,\"rgb(26,152,80)\"],[1.0,\"rgb(0,104,55)\"]],\"customdata\":[[\"Afghanistan\",\"AFG\",\"No Data\",\"No Data\",0.312,0.03,\"Coal\"],[\"Albania\",\"ALB\",\"No Data\",\"No Data\",1.576,0.01,\"Oil\"],[\"Algeria\",\"DZA\",39.91,51.0,3.535,0.45,\"Gas\"],[\"Andorra\",\"AND\",\"No Data\",\"No Data\",6.035,0.0,\"Coal\"],[\"Angola\",\"AGO\",\"No Data\",\"No Data\",0.675,0.06,\"Coal\"],[\"Anguilla\",\"AIA\",\"No Data\",\"No Data\",8.227,0.0,\"Coal\"],[\"Antarctica\",\"ATA\",\"No Data\",\"No Data\",\"No Data\",\"No Data\",\"Coal\"],[\"Antigua and Barbuda\",\"ATG\",\"No Data\",\"No Data\",4.395,0.0,\"Coal\"],[\"Argentina\",\"ARG\",47.08,44.0,3.473,0.45,\"Gas\"],[\"Armenia\",\"ARM\",\"No Data\",\"No Data\",1.988,0.02,\"Gas\"],[\"Aruba\",\"ABW\",\"No Data\",\"No Data\",7.055,0.0,\"Coal\"],[\"Australia\",\"AUS\",30.06,56.0,15.368,1.13,\"Coal\"],[\"Austria\",\"AUT\",52.35,34.0,6.732,0.17,\"Oil\"],[\"Azerbaijan\",\"AZE\",\"No Data\",\"No Data\",3.72,0.11,\"Gas\"],[\"Bahamas\",\"BHS\",\"No Data\",\"No Data\",5.945,0.01,\"Oil\"],[\"Bahrain\",\"BHR\",\"No Data\",\"No Data\",20.546,0.1,\"Coal\"],[\"Bangladesh\",\"BGD\",\"No Data\",\"No Data\",0.564,0.27,\"Gas\"],[\"Barbados\",\"BRB\",\"No Data\",\"No Data\",3.782,0.0,\"Coal\"],[\"Belarus\",\"BLR\",46.66,45.0,6.079,0.17,\"Gas\"],[\"Belgium\",\"BEL\",45.9,46.0,7.226,0.24,\"Gas\"],[\"Belize\",\"BLZ\",\"No Data\",\"No Data\",1.466,0.0,\"Coal\"],[\"Benin\",\"BEN\",\"No Data\",\"No Data\",0.553,0.02,\"Coal\"],[\"Bermuda\",\"BMU\",\"No Data\",\"No Data\",10.028,0.0,\"Oil\"],[\"Bhutan\",\"BTN\",\"No Data\",\"No Data\",2.495,0.01,\"Coal\"],[\"Bolivia\",\"BOL\",\"No Data\",\"No Data\",1.773,0.06,\"Oil\"],[\"Bonaire Sint Eustatius and Saba\",\"BES\",\"No Data\",\"No Data\",11.466,0.0,\"Coal\"],[\"Bosnia and Herzegovina\",\"BIH\",\"No Data\",\"No Data\",6.528,0.06,\"Coal\"],[\"Botswana\",\"BWA\",\"No Data\",\"No Data\",2.772,0.02,\"Coal\"],[\"Brazil\",\"BRA\",54.86,30.0,2.199,1.34,\"Oil\"],[\"British Virgin Islands\",\"VGB\",\"No Data\",\"No Data\",4.605,0.0,\"Coal\"],[\"Brunei\",\"BRN\",\"No Data\",\"No Data\",23.22,0.03,\"Coal\"],[\"Bulgaria\",\"BGR\",48.71,41.0,5.389,0.11,\"Coal\"],[\"Burkina Faso\",\"BFA\",\"No Data\",\"No Data\",0.19,0.01,\"Coal\"],[\"Burundi\",\"BDI\",\"No Data\",\"No Data\",0.051,0.0,\"Oil\"],[\"Cambodia\",\"KHM\",\"No Data\",\"No Data\",0.917,0.04,\"Oil\"],[\"Cameroon\",\"CMR\",\"No Data\",\"No Data\",0.26,0.02,\"Coal\"],[\"Canada\",\"CAN\",26.03,58.0,14.197,1.54,\"Oil\"],[\"Cape Verde\",\"CPV\",\"No Data\",\"No Data\",0.989,0.0,\"Coal\"],[\"Central African Republic\",\"CAF\",\"No Data\",\"No Data\",0.039,0.0,\"Coal\"],[\"Chad\",\"TCD\",\"No Data\",\"No Data\",0.056,0.0,\"Coal\"],[\"Chile\",\"CHL\",\"No Data\",\"No Data\",4.246,0.23,\"Oil\"],[\"China\",\"CHN\",52.2,35.0,7.412,30.65,\"Coal\"],[\"Christmas Island\",\"CXR\",\"No Data\",\"No Data\",\"No Data\",\"No Data\",\"Coal\"],[\"Colombia\",\"COL\",57.87,22.0,1.751,0.26,\"Oil\"],[\"Comoros\",\"COM\",\"No Data\",\"No Data\",0.297,0.0,\"Coal\"],[\"Congo\",\"COG\",\"No Data\",\"No Data\",0.565,0.01,\"Coal\"],[\"Cook Islands\",\"COK\",\"No Data\",\"No Data\",4.522,0.0,\"Coal\"],[\"Costa Rica\",\"CRI\",\"No Data\",\"No Data\",1.552,0.02,\"Coal\"],[\"Cote d'Ivoire\",\"CIV\",\"No Data\",\"No Data\",0.382,0.03,\"Coal\"],[\"Croatia\",\"HRV\",55.96,26.0,4.137,0.05,\"Oil\"],[\"Cuba\",\"CUB\",\"No Data\",\"No Data\",1.779,0.06,\"Oil\"],[\"Curacao\",\"CUW\",\"No Data\",\"No Data\",20.323,0.01,\"Coal\"],[\"Cyprus\",\"CYP\",50.52,39.0,5.38,0.02,\"Oil\"],[\"Czechia\",\"CZE\",42.15,48.0,8.215,0.25,\"Coal\"],[\"Democratic Republic of Congo\",\"COD\",\"No Data\",\"No Data\",0.028,0.01,\"Coal\"],[\"Denmark\",\"DNK\",76.67,1.0,4.522,0.08,\"Oil\"],[\"Djibouti\",\"DJI\",\"No Data\",\"No Data\",0.356,0.0,\"Coal\"],[\"Dominica\",\"DMA\",\"No Data\",\"No Data\",1.934,0.0,\"Coal\"],[\"Dominican Republic\",\"DOM\",\"No Data\",\"No Data\",2.56,0.08,\"Oil\"],[\"Ecuador\",\"ECU\",\"No Data\",\"No Data\",1.753,0.09,\"Coal\"],[\"Egypt\",\"EGY\",59.74,18.0,2.086,0.61,\"Gas\"],[\"El Salvador\",\"SLV\",\"No Data\",\"No Data\",0.944,0.02,\"Oil\"],[\"Equatorial Guinea\",\"GNQ\",\"No Data\",\"No Data\",7.317,0.03,\"Coal\"],[\"Eritrea\",\"ERI\",\"No Data\",\"No Data\",0.204,0.0,\"Coal\"],[\"Estonia\",\"EST\",54.98,29.0,7.88,0.03,\"Coal\"],[\"Eswatini\",\"SWZ\",\"No Data\",\"No Data\",0.824,0.0,\"Oil\"],[\"Ethiopia\",\"ETH\",\"No Data\",\"No Data\",0.128,0.04,\"Oil\"],[\"Faeroe Islands\",\"FRO\",\"No Data\",\"No Data\",13.996,0.0,\"Coal\"],[\"Fiji\",\"FJI\",\"No Data\",\"No Data\",1.554,0.0,\"Coal\"],[\"Finland\",\"FIN\",62.41,11.0,7.091,0.11,\"Oil\"],[\"France\",\"FRA\",61.01,14.0,4.238,0.79,\"Oil\"],[\"French Guiana\",\"GUF\",\"No Data\",\"No Data\",2.439,0.0,\"Coal\"],[\"French Polynesia\",\"PYF\",\"No Data\",\"No Data\",2.949,0.0,\"Coal\"],[\"Gabon\",\"GAB\",\"No Data\",\"No Data\",1.931,0.01,\"Coal\"],[\"Gambia\",\"GMB\",\"No Data\",\"No Data\",0.207,0.0,\"Coal\"],[\"Georgia\",\"GEO\",\"No Data\",\"No Data\",2.499,0.03,\"Gas\"],[\"Germany\",\"DEU\",63.53,10.0,7.69,1.85,\"Oil\"],[\"Ghana\",\"GHA\",\"No Data\",\"No Data\",0.515,0.05,\"Coal\"],[\"Greece\",\"GRC\",58.22,21.0,5.012,0.15,\"Oil\"],[\"Greenland\",\"GRL\",\"No Data\",\"No Data\",9.061,0.0,\"Coal\"],[\"Grenada\",\"GRD\",\"No Data\",\"No Data\",2.62,0.0,\"Coal\"],[\"Guadeloupe\",\"GLP\",\"No Data\",\"No Data\",6.403,0.01,\"Oil\"],[\"Guatemala\",\"GTM\",\"No Data\",\"No Data\",1.057,0.05,\"Oil\"],[\"Guinea\",\"GIN\",\"No Data\",\"No Data\",0.258,0.01,\"Coal\"],[\"Guinea-Bissau\",\"GNB\",\"No Data\",\"No Data\",0.146,0.0,\"Coal\"],[\"Guyana\",\"GUY\",\"No Data\",\"No Data\",2.813,0.01,\"Coal\"],[\"Haiti\",\"HTI\",\"No Data\",\"No Data\",0.256,0.01,\"Coal\"],[\"Honduras\",\"HND\",\"No Data\",\"No Data\",0.975,0.03,\"Coal\"],[\"Hong Kong\",\"HKG\",\"No Data\",\"No Data\",4.167,0.09,\"Coal\"],[\"Hungary\",\"HUN\",40.41,50.0,4.997,0.14,\"Gas\"],[\"Iceland\",\"ISL\",\"No Data\",\"No Data\",8.604,0.01,\"Oil\"],[\"India\",\"IND\",69.2,7.0,1.769,7.02,\"Coal\"],[\"Indonesia\",\"IDN\",57.17,24.0,2.155,1.69,\"Coal\"],[\"Iran\",\"IRN\",25.66,59.0,8.87,2.14,\"Gas\"],[\"Iraq\",\"IRQ\",\"No Data\",\"No Data\",5.242,0.61,\"Coal\"],[\"Ireland\",\"IRL\",47.86,43.0,6.754,0.1,\"Oil\"],[\"Israel\",\"ISR\",\"No Data\",\"No Data\",6.51,0.16,\"Oil\"],[\"Italy\",\"ITA\",55.39,27.0,5.025,0.87,\"Gas\"],[\"Jamaica\",\"JAM\",\"No Data\",\"No Data\",2.509,0.02,\"Oil\"],[\"Japan\",\"JPN\",48.53,42.0,8.15,2.96,\"Coal\"],[\"Jordan\",\"JOR\",\"No Data\",\"No Data\",2.498,0.07,\"Oil\"],[\"Kazakhstan\",\"KAZ\",19.23,61.0,15.516,0.84,\"Coal\"],[\"Kenya\",\"KEN\",\"No Data\",\"No Data\",0.3,0.05,\"Oil\"],[\"Kiribati\",\"KIR\",\"No Data\",\"No Data\",0.57,0.0,\"Coal\"],[\"Kosovo\",\"OWID_KOS\",\"No Data\",\"No Data\",\"No Data\",0.02,\"Coal\"],[\"Kuwait\",\"KWT\",\"No Data\",\"No Data\",20.825,0.26,\"Coal\"],[\"Kyrgyzstan\",\"KGZ\",\"No Data\",\"No Data\",1.764,0.03,\"Oil\"],[\"Laos\",\"LAO\",\"No Data\",\"No Data\",4.652,0.1,\"Coal\"],[\"Latvia\",\"LVA\",57.73,23.0,3.591,0.02,\"Oil\"],[\"Lebanon\",\"LBN\",\"No Data\",\"No Data\",3.805,0.07,\"Oil\"],[\"Lesotho\",\"LSO\",\"No Data\",\"No Data\",1.019,0.01,\"Coal\"],[\"Liberia\",\"LBR\",\"No Data\",\"No Data\",0.2,0.0,\"Coal\"],[\"Libya\",\"LBY\",\"No Data\",\"No Data\",7.382,0.15,\"Coal\"],[\"Liechtenstein\",\"LIE\",\"No Data\",\"No Data\",3.698,0.0,\"Coal\"],[\"Lithuania\",\"LTU\",64.89,8.0,5.069,0.04,\"Oil\"],[\"Luxembourg\",\"LUX\",60.8,15.0,13.059,0.02,\"Oil\"],[\"Madagascar\",\"MDG\",\"No Data\",\"No Data\",0.133,0.01,\"Oil\"],[\"Malawi\",\"MWI\",\"No Data\",\"No Data\",0.073,0.0,\"Oil\"],[\"Malaysia\",\"MYS\",33.74,54.0,8.423,0.78,\"Coal\"],[\"Maldives\",\"MDV\",\"No Data\",\"No Data\",3.324,0.01,\"Coal\"],[\"Mali\",\"MLI\",\"No Data\",\"No Data\",0.167,0.01,\"Coal\"],[\"Malta\",\"MLT\",64.18,9.0,3.612,0.0,\"Oil\"],[\"Marshall Islands\",\"MHL\",\"No Data\",\"No Data\",2.556,0.0,\"Coal\"],[\"Martinique\",\"MTQ\",\"No Data\",\"No Data\",6.258,0.01,\"Coal\"],[\"Mauritania\",\"MRT\",\"No Data\",\"No Data\",0.726,0.01,\"Coal\"],[\"Mauritius\",\"MUS\",\"No Data\",\"No Data\",3.129,0.01,\"Oil\"],[\"Mayotte\",\"MYT\",\"No Data\",\"No Data\",1.12,0.0,\"Coal\"],[\"Mexico\",\"MEX\",56.05,25.0,2.769,1.03,\"Oil\"],[\"Moldova\",\"MDA\",\"No Data\",\"No Data\",1.276,0.01,\"Oil\"],[\"Mongolia\",\"MNG\",\"No Data\",\"No Data\",26.978,0.25,\"Coal\"],[\"Montenegro\",\"MNE\",\"No Data\",\"No Data\",3.678,0.01,\"Coal\"],[\"Montserrat\",\"MSR\",\"No Data\",\"No Data\",5.065,0.0,\"Coal\"],[\"Morocco\",\"MAR\",71.6,5.0,1.748,0.19,\"Oil\"],[\"Mozambique\",\"MOZ\",\"No Data\",\"No Data\",0.21,0.02,\"Oil\"],[\"Myanmar\",\"MMR\",\"No Data\",\"No Data\",0.668,0.1,\"Oil\"],[\"Namibia\",\"NAM\",\"No Data\",\"No Data\",1.526,0.01,\"Oil\"],[\"Nauru\",\"NRU\",\"No Data\",\"No Data\",5.236,0.0,\"Coal\"],[\"Nepal\",\"NPL\",\"No Data\",\"No Data\",0.582,0.05,\"Oil\"],[\"Netherlands\",\"NLD\",60.44,16.0,8.06,0.4,\"Gas\"],[\"New Caledonia\",\"NCL\",\"No Data\",\"No Data\",30.448,0.02,\"Coal\"],[\"New Zealand\",\"NZL\",54.03,32.0,6.942,0.1,\"Oil\"],[\"Nicaragua\",\"NIC\",\"No Data\",\"No Data\",0.766,0.01,\"Coal\"],[\"Niger\",\"NER\",\"No Data\",\"No Data\",0.07,0.0,\"Oil\"],[\"Nigeria\",\"NGA\",\"No Data\",\"No Data\",0.609,0.36,\"Oil\"],[\"Niue\",\"NIU\",\"No Data\",\"No Data\",7.012,0.0,\"Coal\"],[\"North Korea\",\"PRK\",\"No Data\",\"No Data\",1.137,0.08,\"Coal\"],[\"North Macedonia\",\"MKD\",\"No Data\",\"No Data\",3.43,0.02,\"Coal\"],[\"Norway\",\"NOR\",73.29,3.0,7.615,0.12,\"Oil\"],[\"Oman\",\"OMN\",\"No Data\",\"No Data\",12.173,0.18,\"Coal\"],[\"Pakistan\",\"PAK\",\"No Data\",\"No Data\",1.063,0.67,\"Oil\"],[\"Palau\",\"PLW\",\"No Data\",\"No Data\",12.125,0.0,\"Coal\"],[\"Palestine\",\"PSE\",\"No Data\",\"No Data\",0.568,0.01,\"Coal\"],[\"Panama\",\"PAN\",\"No Data\",\"No Data\",2.498,0.03,\"Oil\"],[\"Papua New Guinea\",\"PNG\",\"No Data\",\"No Data\",0.744,0.02,\"Coal\"],[\"Paraguay\",\"PRY\",\"No Data\",\"No Data\",1.061,0.02,\"Oil\"],[\"Peru\",\"PER\",\"No Data\",\"No Data\",1.356,0.13,\"Oil\"],[\"Philippines\",\"PHL\",58.98,20.0,1.241,0.39,\"Coal\"],[\"Poland\",\"POL\",40.63,49.0,7.916,0.86,\"Coal\"],[\"Portugal\",\"PRT\",61.11,13.0,3.961,0.12,\"Oil\"],[\"Puerto Rico\",\"PRI\",\"No Data\",\"No Data\",\"No Data\",\"No Data\",\"Coal\"],[\"Qatar\",\"QAT\",\"No Data\",\"No Data\",37.019,0.31,\"Coal\"],[\"Romania\",\"ROU\",52.43,33.0,3.715,0.21,\"Oil\"],[\"Russia\",\"RUS\",34.73,53.0,10.807,4.53,\"Gas\"],[\"Rwanda\",\"RWA\",\"No Data\",\"No Data\",0.08,0.0,\"Oil\"],[\"Saint Helena\",\"SHN\",\"No Data\",\"No Data\",1.564,0.0,\"Coal\"],[\"Saint Kitts and Nevis\",\"KNA\",\"No Data\",\"No Data\",3.986,0.0,\"Coal\"],[\"Saint Lucia\",\"LCA\",\"No Data\",\"No Data\",2.396,0.0,\"Coal\"],[\"Saint Pierre and Miquelon\",\"SPM\",\"No Data\",\"No Data\",8.738,0.0,\"Coal\"],[\"Saint Vincent and the Grenadines\",\"VCT\",\"No Data\",\"No Data\",1.883,0.0,\"Coal\"],[\"Samoa\",\"WSM\",\"No Data\",\"No Data\",1.239,0.0,\"Coal\"],[\"Sao Tome and Principe\",\"STP\",\"No Data\",\"No Data\",0.514,0.0,\"Coal\"],[\"Saudi Arabia\",\"SAU\",24.25,60.0,17.967,1.8,\"Coal\"],[\"Senegal\",\"SEN\",\"No Data\",\"No Data\",0.624,0.03,\"Oil\"],[\"Serbia\",\"SRB\",\"No Data\",\"No Data\",4.937,0.12,\"Coal\"],[\"Seychelles\",\"SYC\",\"No Data\",\"No Data\",4.994,0.0,\"Coal\"],[\"Sierra Leone\",\"SLE\",\"No Data\",\"No Data\",0.11,0.0,\"Coal\"],[\"Singapore\",\"SGP\",\"No Data\",\"No Data\",7.778,0.13,\"Oil\"],[\"Sint Maarten (Dutch part)\",\"SXM\",\"No Data\",\"No Data\",14.539,0.0,\"Coal\"],[\"Slovakia\",\"SVK\",50.67,37.0,5.629,0.09,\"Oil\"],[\"Slovenia\",\"SVN\",43.28,47.0,6.043,0.04,\"Oil\"],[\"Solomon Islands\",\"SLB\",\"No Data\",\"No Data\",0.435,0.0,\"Coal\"],[\"Somalia\",\"SOM\",\"No Data\",\"No Data\",0.035,0.0,\"Coal\"],[\"South Africa\",\"ZAF\",51.13,36.0,7.62,1.3,\"Coal\"],[\"South Korea\",\"KOR\",26.74,57.0,11.656,1.72,\"Coal\"],[\"South Sudan\",\"SSD\",\"No Data\",\"No Data\",0.105,0.0,\"Coal\"],[\"Spain\",\"ESP\",54.35,31.0,4.468,0.6,\"Oil\"],[\"Sri Lanka\",\"LKA\",\"No Data\",\"No Data\",0.986,0.06,\"Oil\"],[\"Sudan\",\"SDN\",\"No Data\",\"No Data\",0.43,0.05,\"Coal\"],[\"Suriname\",\"SUR\",\"No Data\",\"No Data\",3.791,0.01,\"Coal\"],[\"Sweden\",\"SWE\",74.22,2.0,3.826,0.11,\"Oil\"],[\"Switzerland\",\"CHE\",61.7,12.0,3.732,0.09,\"Oil\"],[\"Syria\",\"SYR\",\"No Data\",\"No Data\",1.745,0.09,\"Oil\"],[\"Taiwan\",\"TWN\",\"No Data\",\"No Data\",11.47,0.78,\"Coal\"],[\"Tajikistan\",\"TJK\",\"No Data\",\"No Data\",0.991,0.03,\"Coal\"],[\"Tanzania\",\"TZA\",\"No Data\",\"No Data\",0.183,0.03,\"Oil\"],[\"Thailand\",\"THA\",55.01,28.0,3.693,0.74,\"Oil\"],[\"Timor\",\"TLS\",\"No Data\",\"No Data\",0.399,0.0,\"Coal\"],[\"Togo\",\"TGO\",\"No Data\",\"No Data\",0.265,0.01,\"Coal\"],[\"Tonga\",\"TON\",\"No Data\",\"No Data\",1.36,0.0,\"Coal\"],[\"Trinidad and Tobago\",\"TTO\",\"No Data\",\"No Data\",25.373,0.1,\"Coal\"],[\"Tunisia\",\"TUN\",\"No Data\",\"No Data\",2.38,0.08,\"Coal\"],[\"Turkey\",\"TUR\",50.53,38.0,4.657,1.13,\"Coal\"],[\"Turkmenistan\",\"TKM\",\"No Data\",\"No Data\",12.491,0.22,\"Coal\"],[\"Turks and Caicos Islands\",\"TCA\",\"No Data\",\"No Data\",5.231,0.0,\"Coal\"],[\"Tuvalu\",\"TUV\",\"No Data\",\"No Data\",0.642,0.0,\"Coal\"],[\"Uganda\",\"UGA\",\"No Data\",\"No Data\",0.107,0.01,\"Coal\"],[\"Ukraine\",\"UKR\",60.4,17.0,4.891,0.61,\"Coal\"],[\"United Arab Emirates\",\"ARE\",\"No Data\",\"No Data\",15.193,0.43,\"Gas\"],[\"United Kingdom\",\"GBR\",73.09,4.0,4.855,0.95,\"Gas\"],[\"United States\",\"USA\",37.39,52.0,14.238,13.54,\"Oil\"],[\"Uruguay\",\"URY\",\"No Data\",\"No Data\",1.681,0.02,\"Oil\"],[\"Uzbekistan\",\"UZB\",\"No Data\",\"No Data\",3.37,0.32,\"Gas\"],[\"Vanuatu\",\"VUT\",\"No Data\",\"No Data\",0.591,0.0,\"Coal\"],[\"Venezuela\",\"VEN\",\"No Data\",\"No Data\",2.975,0.24,\"Flaring\"],[\"Vietnam\",\"VNM\",49.21,40.0,2.613,0.73,\"Coal\"],[\"Yemen\",\"YEM\",\"No Data\",\"No Data\",0.328,0.03,\"Oil\"],[\"Zambia\",\"ZMB\",\"No Data\",\"No Data\",0.358,0.02,\"Oil\"],[\"Zimbabwe\",\"ZWE\",\"No Data\",\"No Data\",0.709,0.03,\"Coal\"]],\"hovertemplate\":\"%{customdata[0]} (%{customdata[1]})<br>CCPI Score: %{customdata[2]}<br>CCPI Rank: %{customdata[3]}<br>CO2 Emissions per Capita: %{customdata[4]}<br>Global Share of CO2 Emissions: %{customdata[5]}<br>Primary CO2 Emissions Source: %{customdata[6]}<br><extra></extra>\",\"locations\":[\"AFG\",\"ALB\",\"DZA\",\"AND\",\"AGO\",\"AIA\",\"ATA\",\"ATG\",\"ARG\",\"ARM\",\"ABW\",\"AUS\",\"AUT\",\"AZE\",\"BHS\",\"BHR\",\"BGD\",\"BRB\",\"BLR\",\"BEL\",\"BLZ\",\"BEN\",\"BMU\",\"BTN\",\"BOL\",\"BES\",\"BIH\",\"BWA\",\"BRA\",\"VGB\",\"BRN\",\"BGR\",\"BFA\",\"BDI\",\"KHM\",\"CMR\",\"CAN\",\"CPV\",\"CAF\",\"TCD\",\"CHL\",\"CHN\",\"CXR\",\"COL\",\"COM\",\"COG\",\"COK\",\"CRI\",\"CIV\",\"HRV\",\"CUB\",\"CUW\",\"CYP\",\"CZE\",\"COD\",\"DNK\",\"DJI\",\"DMA\",\"DOM\",\"ECU\",\"EGY\",\"SLV\",\"GNQ\",\"ERI\",\"EST\",\"SWZ\",\"ETH\",\"FRO\",\"FJI\",\"FIN\",\"FRA\",\"GUF\",\"PYF\",\"GAB\",\"GMB\",\"GEO\",\"DEU\",\"GHA\",\"GRC\",\"GRL\",\"GRD\",\"GLP\",\"GTM\",\"GIN\",\"GNB\",\"GUY\",\"HTI\",\"HND\",\"HKG\",\"HUN\",\"ISL\",\"IND\",\"IDN\",\"IRN\",\"IRQ\",\"IRL\",\"ISR\",\"ITA\",\"JAM\",\"JPN\",\"JOR\",\"KAZ\",\"KEN\",\"KIR\",\"OWID_KOS\",\"KWT\",\"KGZ\",\"LAO\",\"LVA\",\"LBN\",\"LSO\",\"LBR\",\"LBY\",\"LIE\",\"LTU\",\"LUX\",\"MDG\",\"MWI\",\"MYS\",\"MDV\",\"MLI\",\"MLT\",\"MHL\",\"MTQ\",\"MRT\",\"MUS\",\"MYT\",\"MEX\",\"MDA\",\"MNG\",\"MNE\",\"MSR\",\"MAR\",\"MOZ\",\"MMR\",\"NAM\",\"NRU\",\"NPL\",\"NLD\",\"NCL\",\"NZL\",\"NIC\",\"NER\",\"NGA\",\"NIU\",\"PRK\",\"MKD\",\"NOR\",\"OMN\",\"PAK\",\"PLW\",\"PSE\",\"PAN\",\"PNG\",\"PRY\",\"PER\",\"PHL\",\"POL\",\"PRT\",\"PRI\",\"QAT\",\"ROU\",\"RUS\",\"RWA\",\"SHN\",\"KNA\",\"LCA\",\"SPM\",\"VCT\",\"WSM\",\"STP\",\"SAU\",\"SEN\",\"SRB\",\"SYC\",\"SLE\",\"SGP\",\"SXM\",\"SVK\",\"SVN\",\"SLB\",\"SOM\",\"ZAF\",\"KOR\",\"SSD\",\"ESP\",\"LKA\",\"SDN\",\"SUR\",\"SWE\",\"CHE\",\"SYR\",\"TWN\",\"TJK\",\"TZA\",\"THA\",\"TLS\",\"TGO\",\"TON\",\"TTO\",\"TUN\",\"TUR\",\"TKM\",\"TCA\",\"TUV\",\"UGA\",\"UKR\",\"ARE\",\"GBR\",\"USA\",\"URY\",\"UZB\",\"VUT\",\"VEN\",\"VNM\",\"YEM\",\"ZMB\",\"ZWE\"],\"marker\":{\"line\":{\"width\":0.1}},\"visible\":false,\"z\":[0,3,1,0,0,0,0,0,1,1,0,0,3,1,3,0,1,0,1,1,0,0,3,0,3,0,0,0,3,0,0,0,0,3,3,0,3,0,0,0,3,0,0,3,0,0,0,0,0,3,3,0,3,0,0,3,0,0,3,0,1,3,0,0,0,3,3,0,0,3,3,0,0,0,0,1,3,0,3,0,0,3,3,0,0,0,0,0,0,1,3,0,0,1,0,3,3,1,3,0,3,0,3,0,0,0,3,0,3,3,0,0,0,0,3,3,3,3,0,0,0,3,0,0,0,3,0,3,3,0,0,0,3,3,3,3,0,3,1,0,3,0,3,3,0,0,0,3,0,3,0,0,3,0,3,3,0,0,3,0,0,3,1,3,0,0,0,0,0,0,0,0,3,0,0,0,3,0,3,3,0,0,0,0,0,3,3,0,0,3,3,3,0,0,3,3,0,0,0,0,0,0,0,0,0,0,0,1,1,3,3,1,0,2,0,3,3,0],\"type\":\"choropleth\"}],                        {\"geo\":{\"projection\":{\"type\":\"natural earth\"},\"showcoastlines\":false},\"margin\":{\"b\":0,\"l\":0,\"r\":0,\"t\":0},\"updatemenus\":[{\"buttons\":[{\"args\":[{\"visible\":[true,false,false,false]}],\"label\":\"Climate Change Protection Index Score\",\"method\":\"update\"},{\"args\":[{\"visible\":[false,true,false,false]}],\"label\":\"CO2 Emissions per Capita\",\"method\":\"update\"},{\"args\":[{\"visible\":[false,false,true,false]}],\"label\":\"Share of Global CO2 Emissions\",\"method\":\"update\"},{\"args\":[{\"visible\":[false,false,false,true]}],\"label\":\"Primary Source of CO2 Emissions\",\"method\":\"update\"}],\"direction\":\"down\",\"pad\":{\"r\":10,\"t\":10},\"showactive\":true,\"x\":0,\"xanchor\":\"left\",\"y\":1.1,\"yanchor\":\"top\"}],\"template\":{\"data\":{\"bar\":[{\"error_x\":{\"color\":\"#2a3f5f\"},\"error_y\":{\"color\":\"#2a3f5f\"},\"marker\":{\"line\":{\"color\":\"#E5ECF6\",\"width\":0.5},\"pattern\":{\"fillmode\":\"overlay\",\"size\":10,\"solidity\":0.2}},\"type\":\"bar\"}],\"barpolar\":[{\"marker\":{\"line\":{\"color\":\"#E5ECF6\",\"width\":0.5},\"pattern\":{\"fillmode\":\"overlay\",\"size\":10,\"solidity\":0.2}},\"type\":\"barpolar\"}],\"carpet\":[{\"aaxis\":{\"endlinecolor\":\"#2a3f5f\",\"gridcolor\":\"white\",\"linecolor\":\"white\",\"minorgridcolor\":\"white\",\"startlinecolor\":\"#2a3f5f\"},\"baxis\":{\"endlinecolor\":\"#2a3f5f\",\"gridcolor\":\"white\",\"linecolor\":\"white\",\"minorgridcolor\":\"white\",\"startlinecolor\":\"#2a3f5f\"},\"type\":\"carpet\"}],\"choropleth\":[{\"colorbar\":{\"outlinewidth\":0,\"ticks\":\"\"},\"type\":\"choropleth\"}],\"contour\":[{\"colorbar\":{\"outlinewidth\":0,\"ticks\":\"\"},\"colorscale\":[[0.0,\"#0d0887\"],[0.1111111111111111,\"#46039f\"],[0.2222222222222222,\"#7201a8\"],[0.3333333333333333,\"#9c179e\"],[0.4444444444444444,\"#bd3786\"],[0.5555555555555556,\"#d8576b\"],[0.6666666666666666,\"#ed7953\"],[0.7777777777777778,\"#fb9f3a\"],[0.8888888888888888,\"#fdca26\"],[1.0,\"#f0f921\"]],\"type\":\"contour\"}],\"contourcarpet\":[{\"colorbar\":{\"outlinewidth\":0,\"ticks\":\"\"},\"type\":\"contourcarpet\"}],\"heatmap\":[{\"colorbar\":{\"outlinewidth\":0,\"ticks\":\"\"},\"colorscale\":[[0.0,\"#0d0887\"],[0.1111111111111111,\"#46039f\"],[0.2222222222222222,\"#7201a8\"],[0.3333333333333333,\"#9c179e\"],[0.4444444444444444,\"#bd3786\"],[0.5555555555555556,\"#d8576b\"],[0.6666666666666666,\"#ed7953\"],[0.7777777777777778,\"#fb9f3a\"],[0.8888888888888888,\"#fdca26\"],[1.0,\"#f0f921\"]],\"type\":\"heatmap\"}],\"heatmapgl\":[{\"colorbar\":{\"outlinewidth\":0,\"ticks\":\"\"},\"colorscale\":[[0.0,\"#0d0887\"],[0.1111111111111111,\"#46039f\"],[0.2222222222222222,\"#7201a8\"],[0.3333333333333333,\"#9c179e\"],[0.4444444444444444,\"#bd3786\"],[0.5555555555555556,\"#d8576b\"],[0.6666666666666666,\"#ed7953\"],[0.7777777777777778,\"#fb9f3a\"],[0.8888888888888888,\"#fdca26\"],[1.0,\"#f0f921\"]],\"type\":\"heatmapgl\"}],\"histogram\":[{\"marker\":{\"pattern\":{\"fillmode\":\"overlay\",\"size\":10,\"solidity\":0.2}},\"type\":\"histogram\"}],\"histogram2d\":[{\"colorbar\":{\"outlinewidth\":0,\"ticks\":\"\"},\"colorscale\":[[0.0,\"#0d0887\"],[0.1111111111111111,\"#46039f\"],[0.2222222222222222,\"#7201a8\"],[0.3333333333333333,\"#9c179e\"],[0.4444444444444444,\"#bd3786\"],[0.5555555555555556,\"#d8576b\"],[0.6666666666666666,\"#ed7953\"],[0.7777777777777778,\"#fb9f3a\"],[0.8888888888888888,\"#fdca26\"],[1.0,\"#f0f921\"]],\"type\":\"histogram2d\"}],\"histogram2dcontour\":[{\"colorbar\":{\"outlinewidth\":0,\"ticks\":\"\"},\"colorscale\":[[0.0,\"#0d0887\"],[0.1111111111111111,\"#46039f\"],[0.2222222222222222,\"#7201a8\"],[0.3333333333333333,\"#9c179e\"],[0.4444444444444444,\"#bd3786\"],[0.5555555555555556,\"#d8576b\"],[0.6666666666666666,\"#ed7953\"],[0.7777777777777778,\"#fb9f3a\"],[0.8888888888888888,\"#fdca26\"],[1.0,\"#f0f921\"]],\"type\":\"histogram2dcontour\"}],\"mesh3d\":[{\"colorbar\":{\"outlinewidth\":0,\"ticks\":\"\"},\"type\":\"mesh3d\"}],\"parcoords\":[{\"line\":{\"colorbar\":{\"outlinewidth\":0,\"ticks\":\"\"}},\"type\":\"parcoords\"}],\"pie\":[{\"automargin\":true,\"type\":\"pie\"}],\"scatter\":[{\"marker\":{\"colorbar\":{\"outlinewidth\":0,\"ticks\":\"\"}},\"type\":\"scatter\"}],\"scatter3d\":[{\"line\":{\"colorbar\":{\"outlinewidth\":0,\"ticks\":\"\"}},\"marker\":{\"colorbar\":{\"outlinewidth\":0,\"ticks\":\"\"}},\"type\":\"scatter3d\"}],\"scattercarpet\":[{\"marker\":{\"colorbar\":{\"outlinewidth\":0,\"ticks\":\"\"}},\"type\":\"scattercarpet\"}],\"scattergeo\":[{\"marker\":{\"colorbar\":{\"outlinewidth\":0,\"ticks\":\"\"}},\"type\":\"scattergeo\"}],\"scattergl\":[{\"marker\":{\"colorbar\":{\"outlinewidth\":0,\"ticks\":\"\"}},\"type\":\"scattergl\"}],\"scattermapbox\":[{\"marker\":{\"colorbar\":{\"outlinewidth\":0,\"ticks\":\"\"}},\"type\":\"scattermapbox\"}],\"scatterpolar\":[{\"marker\":{\"colorbar\":{\"outlinewidth\":0,\"ticks\":\"\"}},\"type\":\"scatterpolar\"}],\"scatterpolargl\":[{\"marker\":{\"colorbar\":{\"outlinewidth\":0,\"ticks\":\"\"}},\"type\":\"scatterpolargl\"}],\"scatterternary\":[{\"marker\":{\"colorbar\":{\"outlinewidth\":0,\"ticks\":\"\"}},\"type\":\"scatterternary\"}],\"surface\":[{\"colorbar\":{\"outlinewidth\":0,\"ticks\":\"\"},\"colorscale\":[[0.0,\"#0d0887\"],[0.1111111111111111,\"#46039f\"],[0.2222222222222222,\"#7201a8\"],[0.3333333333333333,\"#9c179e\"],[0.4444444444444444,\"#bd3786\"],[0.5555555555555556,\"#d8576b\"],[0.6666666666666666,\"#ed7953\"],[0.7777777777777778,\"#fb9f3a\"],[0.8888888888888888,\"#fdca26\"],[1.0,\"#f0f921\"]],\"type\":\"surface\"}],\"table\":[{\"cells\":{\"fill\":{\"color\":\"#EBF0F8\"},\"line\":{\"color\":\"white\"}},\"header\":{\"fill\":{\"color\":\"#C8D4E3\"},\"line\":{\"color\":\"white\"}},\"type\":\"table\"}]},\"layout\":{\"annotationdefaults\":{\"arrowcolor\":\"#2a3f5f\",\"arrowhead\":0,\"arrowwidth\":1},\"autotypenumbers\":\"strict\",\"coloraxis\":{\"colorbar\":{\"outlinewidth\":0,\"ticks\":\"\"}},\"colorscale\":{\"diverging\":[[0,\"#8e0152\"],[0.1,\"#c51b7d\"],[0.2,\"#de77ae\"],[0.3,\"#f1b6da\"],[0.4,\"#fde0ef\"],[0.5,\"#f7f7f7\"],[0.6,\"#e6f5d0\"],[0.7,\"#b8e186\"],[0.8,\"#7fbc41\"],[0.9,\"#4d9221\"],[1,\"#276419\"]],\"sequential\":[[0.0,\"#0d0887\"],[0.1111111111111111,\"#46039f\"],[0.2222222222222222,\"#7201a8\"],[0.3333333333333333,\"#9c179e\"],[0.4444444444444444,\"#bd3786\"],[0.5555555555555556,\"#d8576b\"],[0.6666666666666666,\"#ed7953\"],[0.7777777777777778,\"#fb9f3a\"],[0.8888888888888888,\"#fdca26\"],[1.0,\"#f0f921\"]],\"sequentialminus\":[[0.0,\"#0d0887\"],[0.1111111111111111,\"#46039f\"],[0.2222222222222222,\"#7201a8\"],[0.3333333333333333,\"#9c179e\"],[0.4444444444444444,\"#bd3786\"],[0.5555555555555556,\"#d8576b\"],[0.6666666666666666,\"#ed7953\"],[0.7777777777777778,\"#fb9f3a\"],[0.8888888888888888,\"#fdca26\"],[1.0,\"#f0f921\"]]},\"colorway\":[\"#636efa\",\"#EF553B\",\"#00cc96\",\"#ab63fa\",\"#FFA15A\",\"#19d3f3\",\"#FF6692\",\"#B6E880\",\"#FF97FF\",\"#FECB52\"],\"font\":{\"color\":\"#2a3f5f\"},\"geo\":{\"bgcolor\":\"white\",\"lakecolor\":\"white\",\"landcolor\":\"#E5ECF6\",\"showlakes\":true,\"showland\":true,\"subunitcolor\":\"white\"},\"hoverlabel\":{\"align\":\"left\"},\"hovermode\":\"closest\",\"mapbox\":{\"style\":\"light\"},\"paper_bgcolor\":\"white\",\"plot_bgcolor\":\"#E5ECF6\",\"polar\":{\"angularaxis\":{\"gridcolor\":\"white\",\"linecolor\":\"white\",\"ticks\":\"\"},\"bgcolor\":\"#E5ECF6\",\"radialaxis\":{\"gridcolor\":\"white\",\"linecolor\":\"white\",\"ticks\":\"\"}},\"scene\":{\"xaxis\":{\"backgroundcolor\":\"#E5ECF6\",\"gridcolor\":\"white\",\"gridwidth\":2,\"linecolor\":\"white\",\"showbackground\":true,\"ticks\":\"\",\"zerolinecolor\":\"white\"},\"yaxis\":{\"backgroundcolor\":\"#E5ECF6\",\"gridcolor\":\"white\",\"gridwidth\":2,\"linecolor\":\"white\",\"showbackground\":true,\"ticks\":\"\",\"zerolinecolor\":\"white\"},\"zaxis\":{\"backgroundcolor\":\"#E5ECF6\",\"gridcolor\":\"white\",\"gridwidth\":2,\"linecolor\":\"white\",\"showbackground\":true,\"ticks\":\"\",\"zerolinecolor\":\"white\"}},\"shapedefaults\":{\"line\":{\"color\":\"#2a3f5f\"}},\"ternary\":{\"aaxis\":{\"gridcolor\":\"white\",\"linecolor\":\"white\",\"ticks\":\"\"},\"baxis\":{\"gridcolor\":\"white\",\"linecolor\":\"white\",\"ticks\":\"\"},\"bgcolor\":\"#E5ECF6\",\"caxis\":{\"gridcolor\":\"white\",\"linecolor\":\"white\",\"ticks\":\"\"}},\"title\":{\"x\":0.05},\"xaxis\":{\"automargin\":true,\"gridcolor\":\"white\",\"linecolor\":\"white\",\"ticks\":\"\",\"title\":{\"standoff\":15},\"zerolinecolor\":\"white\",\"zerolinewidth\":2},\"yaxis\":{\"automargin\":true,\"gridcolor\":\"white\",\"linecolor\":\"white\",\"ticks\":\"\",\"title\":{\"standoff\":15},\"zerolinecolor\":\"white\",\"zerolinewidth\":2}}}},                        {\"responsive\": true}                    ).then(function(){\n",
       "                            \n",
       "var gd = document.getElementById('b8b0a931-4128-4cb2-8e58-ac39c6ff5abf');\n",
       "var x = new MutationObserver(function (mutations, observer) {{\n",
       "        var display = window.getComputedStyle(gd).display;\n",
       "        if (!display || display === 'none') {{\n",
       "            console.log([gd, 'removed!']);\n",
       "            Plotly.purge(gd);\n",
       "            observer.disconnect();\n",
       "        }}\n",
       "}});\n",
       "\n",
       "// Listen for the removal of the full notebook cells\n",
       "var notebookContainer = gd.closest('#notebook-container');\n",
       "if (notebookContainer) {{\n",
       "    x.observe(notebookContainer, {childList: true});\n",
       "}}\n",
       "\n",
       "// Listen for the clearing of the current output cell\n",
       "var outputEl = gd.closest('.output');\n",
       "if (outputEl) {{\n",
       "    x.observe(outputEl, {childList: true});\n",
       "}}\n",
       "\n",
       "                        })                };                });            </script>        </div>"
      ]
     },
     "metadata": {},
     "output_type": "display_data"
    }
   ],
   "source": [
    "fig = go.Figure(\n",
    "    data=[\n",
    "        go.Choropleth( \n",
    "            locations=locations, \n",
    "            z=ccpi_emissions[\"score\"],  # Color values\n",
    "            # Setting template for custom data in hover text\n",
    "            hovertemplate=hovertemplate,\n",
    "            colorscale=\"Hot\",\n",
    "            colorbar_title=\"Climate<br>Protection<br>Score\",\n",
    "            marker_line_width=0.1,\n",
    "            # Custom data that will be included in hover text\n",
    "            customdata=customdata\n",
    "        ),\n",
    "        # Need a new trace for each of the different data sets so that view can be properly updated\n",
    "        go.Choropleth( \n",
    "            locations=locations, \n",
    "            z=ccpi_emissions[\"co2_per_capita\"],\n",
    "            hovertemplate=hovertemplate,\n",
    "            colorscale=\"Hot\",\n",
    "            reversescale=True,\n",
    "            colorbar_title=\"CO2<br>Emissions<br>per Capita\",\n",
    "            marker_line_width=0.1,\n",
    "            customdata=customdata,\n",
    "            visible=False\n",
    "        ),\n",
    "        go.Choropleth( \n",
    "            locations=locations, \n",
    "            z=ccpi_emissions[\"share_global_co2\"],\n",
    "            hovertemplate=hovertemplate,\n",
    "            colorscale=\"Hot\",\n",
    "            reversescale=True,\n",
    "            colorbar_title=\"Share of<br>Global CO2<br>Emissions\",\n",
    "            marker_line_width=0.1,\n",
    "            customdata=customdata,\n",
    "            visible=False\n",
    "        ),\n",
    "        go.Choropleth( \n",
    "            locations=locations, \n",
    "            z=ccpi_emissions[\"primary_co2_source_num\"],\n",
    "            colorscale=\"RdYlGn\", # Color scale changes because data is categorical. \n",
    "            # Plotly does not allow for categorical go.Choropleth objects, so continuous diverging scale is used.\n",
    "            colorbar=dict(\n",
    "                tickvals=[0, 1, 2, 3],\n",
    "                ticktext=[\"Coal\", \"Gas\", \"Flaring\", \"Oil\"]\n",
    "            ),\n",
    "            colorbar_title=\"Primary CO2<br>Emissions<br>Source\",\n",
    "            hovertemplate=hovertemplate,\n",
    "            marker_line_width=0.1,\n",
    "            customdata=customdata,\n",
    "            visible=False\n",
    "        )\n",
    "    ],\n",
    "    layout=go.Layout(\n",
    "        margin={\"r\":0,\"t\":0,\"l\":0,\"b\":0},\n",
    "        geo={\n",
    "            \"projection_type\": \"natural earth\",\n",
    "            \"showcoastlines\": False,\n",
    "            \n",
    "        },\n",
    "        updatemenus=[\n",
    "            # Add dropdown menu that will allow for selection of data\n",
    "            dict(\n",
    "                buttons=[\n",
    "                    dict(\n",
    "                        args=[{\"visible\":(True, False, False, False)}], # First trace visible, second not, third not\n",
    "                        label=\"Climate Change Protection Index Score\",\n",
    "                        method=\"update\"\n",
    "                    ),\n",
    "                    dict(\n",
    "                        args=[{\"visible\":(False, True, False, False)}],\n",
    "                        label=\"CO2 Emissions per Capita\",\n",
    "                        method=\"update\"\n",
    "                    ),\n",
    "                    dict(\n",
    "                        args=[{\"visible\":(False, False, True, False)}],\n",
    "                        label=\"Share of Global CO2 Emissions\",\n",
    "                        method=\"update\"\n",
    "                    ),\n",
    "                    dict(\n",
    "                        args=[{\"visible\":(False, False, False, True)}],\n",
    "                        label=\"Primary Source of CO2 Emissions\",\n",
    "                        method=\"update\"\n",
    "                    )\n",
    "                    \n",
    "                ],\n",
    "                direction=\"down\",\n",
    "                pad={\"r\":10, \"t\":10},\n",
    "                showactive=True,\n",
    "                x=0,\n",
    "                xanchor=\"left\",\n",
    "                y=1.1,\n",
    "                yanchor=\"top\"\n",
    "            )\n",
    "        ]\n",
    "    )\n",
    ")\n",
    "\n",
    "fig.show()"
   ]
  },
  {
   "cell_type": "code",
   "execution_count": null,
   "id": "6764bfca",
   "metadata": {},
   "outputs": [],
   "source": []
  }
 ],
 "metadata": {
  "kernelspec": {
   "display_name": "Python 3",
   "language": "python",
   "name": "python3"
  },
  "language_info": {
   "codemirror_mode": {
    "name": "ipython",
    "version": 3
   },
   "file_extension": ".py",
   "mimetype": "text/x-python",
   "name": "python",
   "nbconvert_exporter": "python",
   "pygments_lexer": "ipython3",
   "version": "3.8.13"
  }
 },
 "nbformat": 4,
 "nbformat_minor": 5
}
